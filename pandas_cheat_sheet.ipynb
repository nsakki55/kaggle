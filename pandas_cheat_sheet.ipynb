{
 "cells": [
  {
   "cell_type": "markdown",
   "metadata": {},
   "source": [
    "# Pandas チートシート"
   ]
  },
  {
   "cell_type": "code",
   "execution_count": 2,
   "metadata": {},
   "outputs": [],
   "source": [
    "import pandas as pd"
   ]
  },
  {
   "cell_type": "markdown",
   "metadata": {},
   "source": [
    "## pd.merge(df_left, df_right, how='inner', on='key')\n",
    "２つのDFを、共通部分で結合"
   ]
  },
  {
   "cell_type": "markdown",
   "metadata": {},
   "source": [
    "## df.rename(columns={'A': 'a'}, index={'ONE': 'one'}\n",
    "カラム名を新しい変更"
   ]
  },
  {
   "cell_type": "markdown",
   "metadata": {},
   "source": [
    "## train[['x_0','y_0','z_0']]\n",
    " 複数の列を表示するときはカラム名をリストにいれる"
   ]
  },
  {
   "cell_type": "markdown",
   "metadata": {},
   "source": [
    "## ## train[['x_0','y_0','z_0']].values\n",
    "DF の値のみほしいとき使える\n"
   ]
  },
  {
   "cell_type": "markdown",
   "metadata": {},
   "source": [
    "## df.apply(lambda x: (x - x.mean()) / x.std())\n",
    "各列に対して処理を行う"
   ]
  },
  {
   "cell_type": "markdown",
   "metadata": {},
   "source": [
    "## df.groupby(['A', 'B']).sum()\n",
    "A,B列でグルーピングして、各列で合計をとる"
   ]
  },
  {
   "cell_type": "markdown",
   "metadata": {},
   "source": [
    "## df.loc[[1:3], ['Age', 'Height']]\n",
    "1:3行,Age,Height列にアクセス locは名前による参照"
   ]
  },
  {
   "cell_type": "markdown",
   "metadata": {},
   "source": [
    "## df.loc[[1:3], [0,2]]\n",
    "1:3行　0,2行にアクセス　ilocは番号による参照\n",
    "\n"
   ]
  },
  {
   "cell_type": "markdown",
   "metadata": {},
   "source": [
    "## df.loc[df[\"columns\"]>=5]\n",
    "DFはbool型のシーケンスを指定してTrueのみを取り出すフィルタリングができる  \n",
    "df.loc[df['カラム']を含む条件式]  \n",
    "二つの条件　df.loc[df[\"banana\"]>=5][df['apple']<=3] も可能"
   ]
  },
  {
   "cell_type": "markdown",
   "metadata": {},
   "source": [
    "# df.iloc[0:100,[0,2]]\n",
    " ilocは行番号と列番号で位置を指定できる\n",
    " 0~100行、1,3列を取得"
   ]
  },
  {
   "cell_type": "code",
   "execution_count": null,
   "metadata": {},
   "outputs": [],
   "source": []
  }
 ],
 "metadata": {
  "kernelspec": {
   "display_name": "Python 3",
   "language": "python",
   "name": "python3"
  },
  "language_info": {
   "codemirror_mode": {
    "name": "ipython",
    "version": 3
   },
   "file_extension": ".py",
   "mimetype": "text/x-python",
   "name": "python",
   "nbconvert_exporter": "python",
   "pygments_lexer": "ipython3",
   "version": "3.6.8"
  }
 },
 "nbformat": 4,
 "nbformat_minor": 2
}

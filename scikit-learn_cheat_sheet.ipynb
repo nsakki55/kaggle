{
 "cells": [
  {
   "cell_type": "markdown",
   "metadata": {},
   "source": [
    "# sklearn チートシート"
   ]
  },
  {
   "cell_type": "code",
   "execution_count": 2,
   "metadata": {},
   "outputs": [],
   "source": [
    "import sklearn"
   ]
  },
  {
   "cell_type": "markdown",
   "metadata": {},
   "source": [
    "## preprocessing.LabelEncoder()\n",
    "### le.fit(\"文字列\")\n",
    "### le.transform(\"文字列\")\n",
    "### le.fit_transform(\"文字列\")\n",
    "\n",
    "\n",
    "文字データを離散の数値に変換する"
   ]
  },
  {
   "cell_type": "code",
   "execution_count": 3,
   "metadata": {},
   "outputs": [
    {
     "data": {
      "text/plain": [
       "array([3, 0, 1, 3, 2, 1, 1], dtype=int64)"
      ]
     },
     "execution_count": 3,
     "metadata": {},
     "output_type": "execute_result"
    }
   ],
   "source": [
    "from sklearn.preprocessing import LabelEncoder\n",
    "week_breakfast = [\"パン\",\"ご飯\",\"なし\",\"パン\",\"シリアル\",\"なし\",\"なし\"]\n",
    "le = LabelEncoder()\n",
    "labels = le.fit_transform(week_breakfast)\n",
    "labels"
   ]
  },
  {
   "cell_type": "markdown",
   "metadata": {},
   "source": [
    "## from sklearn.model_selection import  KFold\n",
    "### folds = KFold(n_splits=n_fold, shuffle=True, random_state=11)\n",
    "k交差分割検証　n_splitで分割数, shuffleで単純なグループ分けから、毎回ランダムなデータを取ってくる"
   ]
  },
  {
   "cell_type": "code",
   "execution_count": null,
   "metadata": {},
   "outputs": [],
   "source": []
  }
 ],
 "metadata": {
  "kernelspec": {
   "display_name": "Python 3",
   "language": "python",
   "name": "python3"
  },
  "language_info": {
   "codemirror_mode": {
    "name": "ipython",
    "version": 3
   },
   "file_extension": ".py",
   "mimetype": "text/x-python",
   "name": "python",
   "nbconvert_exporter": "python",
   "pygments_lexer": "ipython3",
   "version": "3.6.8"
  }
 },
 "nbformat": 4,
 "nbformat_minor": 2
}

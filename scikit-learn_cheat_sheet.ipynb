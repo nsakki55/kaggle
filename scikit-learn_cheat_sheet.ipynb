{
 "cells": [
  {
   "cell_type": "markdown",
   "metadata": {},
   "source": [
    "# sklearn チートシート"
   ]
  },
  {
   "cell_type": "code",
   "execution_count": 1,
   "metadata": {},
   "outputs": [],
   "source": [
    "import sklearn\n",
    "import warnings\n",
    "warnings.filterwarnings('ignore')\n",
    "import matplotlib.pyplot as plt\n",
    "%matplotlib inline\n",
    "import numpy as np\n",
    "import pandas as pd\n",
    "from IPython.display import display"
   ]
  },
  {
   "cell_type": "markdown",
   "metadata": {},
   "source": [
    "# データセットの準備"
   ]
  },
  {
   "cell_type": "markdown",
   "metadata": {},
   "source": [
    "## Irisデータ\n",
    "3クラス、4特徴量でお手頃"
   ]
  },
  {
   "cell_type": "code",
   "execution_count": 3,
   "metadata": {},
   "outputs": [],
   "source": [
    "from sklearn import datasets\n",
    "from sklearn.model_selection import train_test_split\n",
    "iris=datasets.load_iris()\n",
    "X=iris.data\n",
    "y=iris.target\n",
    "X_train,X_test,y_train,y_test=train_test_split(X,y,test_size=0.3,random_state=0)\n"
   ]
  },
  {
   "cell_type": "markdown",
   "metadata": {},
   "source": [
    "## Breast Cancer wisconsinのデータセット\n",
    "2クラス30特徴量"
   ]
  },
  {
   "cell_type": "code",
   "execution_count": 3,
   "metadata": {},
   "outputs": [
    {
     "name": "stdout",
     "output_type": "stream",
     "text": [
      "rows, columns: (569, 32)\n"
     ]
    },
    {
     "data": {
      "text/html": [
       "<div>\n",
       "<style scoped>\n",
       "    .dataframe tbody tr th:only-of-type {\n",
       "        vertical-align: middle;\n",
       "    }\n",
       "\n",
       "    .dataframe tbody tr th {\n",
       "        vertical-align: top;\n",
       "    }\n",
       "\n",
       "    .dataframe thead th {\n",
       "        text-align: right;\n",
       "    }\n",
       "</style>\n",
       "<table border=\"1\" class=\"dataframe\">\n",
       "  <thead>\n",
       "    <tr style=\"text-align: right;\">\n",
       "      <th></th>\n",
       "      <th>0</th>\n",
       "      <th>1</th>\n",
       "      <th>2</th>\n",
       "      <th>3</th>\n",
       "      <th>4</th>\n",
       "      <th>5</th>\n",
       "      <th>6</th>\n",
       "      <th>7</th>\n",
       "      <th>8</th>\n",
       "      <th>9</th>\n",
       "      <th>...</th>\n",
       "      <th>22</th>\n",
       "      <th>23</th>\n",
       "      <th>24</th>\n",
       "      <th>25</th>\n",
       "      <th>26</th>\n",
       "      <th>27</th>\n",
       "      <th>28</th>\n",
       "      <th>29</th>\n",
       "      <th>30</th>\n",
       "      <th>31</th>\n",
       "    </tr>\n",
       "  </thead>\n",
       "  <tbody>\n",
       "    <tr>\n",
       "      <th>0</th>\n",
       "      <td>842302</td>\n",
       "      <td>M</td>\n",
       "      <td>17.99</td>\n",
       "      <td>10.38</td>\n",
       "      <td>122.80</td>\n",
       "      <td>1001.0</td>\n",
       "      <td>0.11840</td>\n",
       "      <td>0.27760</td>\n",
       "      <td>0.3001</td>\n",
       "      <td>0.14710</td>\n",
       "      <td>...</td>\n",
       "      <td>25.38</td>\n",
       "      <td>17.33</td>\n",
       "      <td>184.60</td>\n",
       "      <td>2019.0</td>\n",
       "      <td>0.1622</td>\n",
       "      <td>0.6656</td>\n",
       "      <td>0.7119</td>\n",
       "      <td>0.2654</td>\n",
       "      <td>0.4601</td>\n",
       "      <td>0.11890</td>\n",
       "    </tr>\n",
       "    <tr>\n",
       "      <th>1</th>\n",
       "      <td>842517</td>\n",
       "      <td>M</td>\n",
       "      <td>20.57</td>\n",
       "      <td>17.77</td>\n",
       "      <td>132.90</td>\n",
       "      <td>1326.0</td>\n",
       "      <td>0.08474</td>\n",
       "      <td>0.07864</td>\n",
       "      <td>0.0869</td>\n",
       "      <td>0.07017</td>\n",
       "      <td>...</td>\n",
       "      <td>24.99</td>\n",
       "      <td>23.41</td>\n",
       "      <td>158.80</td>\n",
       "      <td>1956.0</td>\n",
       "      <td>0.1238</td>\n",
       "      <td>0.1866</td>\n",
       "      <td>0.2416</td>\n",
       "      <td>0.1860</td>\n",
       "      <td>0.2750</td>\n",
       "      <td>0.08902</td>\n",
       "    </tr>\n",
       "    <tr>\n",
       "      <th>2</th>\n",
       "      <td>84300903</td>\n",
       "      <td>M</td>\n",
       "      <td>19.69</td>\n",
       "      <td>21.25</td>\n",
       "      <td>130.00</td>\n",
       "      <td>1203.0</td>\n",
       "      <td>0.10960</td>\n",
       "      <td>0.15990</td>\n",
       "      <td>0.1974</td>\n",
       "      <td>0.12790</td>\n",
       "      <td>...</td>\n",
       "      <td>23.57</td>\n",
       "      <td>25.53</td>\n",
       "      <td>152.50</td>\n",
       "      <td>1709.0</td>\n",
       "      <td>0.1444</td>\n",
       "      <td>0.4245</td>\n",
       "      <td>0.4504</td>\n",
       "      <td>0.2430</td>\n",
       "      <td>0.3613</td>\n",
       "      <td>0.08758</td>\n",
       "    </tr>\n",
       "    <tr>\n",
       "      <th>3</th>\n",
       "      <td>84348301</td>\n",
       "      <td>M</td>\n",
       "      <td>11.42</td>\n",
       "      <td>20.38</td>\n",
       "      <td>77.58</td>\n",
       "      <td>386.1</td>\n",
       "      <td>0.14250</td>\n",
       "      <td>0.28390</td>\n",
       "      <td>0.2414</td>\n",
       "      <td>0.10520</td>\n",
       "      <td>...</td>\n",
       "      <td>14.91</td>\n",
       "      <td>26.50</td>\n",
       "      <td>98.87</td>\n",
       "      <td>567.7</td>\n",
       "      <td>0.2098</td>\n",
       "      <td>0.8663</td>\n",
       "      <td>0.6869</td>\n",
       "      <td>0.2575</td>\n",
       "      <td>0.6638</td>\n",
       "      <td>0.17300</td>\n",
       "    </tr>\n",
       "    <tr>\n",
       "      <th>4</th>\n",
       "      <td>84358402</td>\n",
       "      <td>M</td>\n",
       "      <td>20.29</td>\n",
       "      <td>14.34</td>\n",
       "      <td>135.10</td>\n",
       "      <td>1297.0</td>\n",
       "      <td>0.10030</td>\n",
       "      <td>0.13280</td>\n",
       "      <td>0.1980</td>\n",
       "      <td>0.10430</td>\n",
       "      <td>...</td>\n",
       "      <td>22.54</td>\n",
       "      <td>16.67</td>\n",
       "      <td>152.20</td>\n",
       "      <td>1575.0</td>\n",
       "      <td>0.1374</td>\n",
       "      <td>0.2050</td>\n",
       "      <td>0.4000</td>\n",
       "      <td>0.1625</td>\n",
       "      <td>0.2364</td>\n",
       "      <td>0.07678</td>\n",
       "    </tr>\n",
       "  </tbody>\n",
       "</table>\n",
       "<p>5 rows × 32 columns</p>\n",
       "</div>"
      ],
      "text/plain": [
       "         0  1      2      3       4       5        6        7       8   \\\n",
       "0    842302  M  17.99  10.38  122.80  1001.0  0.11840  0.27760  0.3001   \n",
       "1    842517  M  20.57  17.77  132.90  1326.0  0.08474  0.07864  0.0869   \n",
       "2  84300903  M  19.69  21.25  130.00  1203.0  0.10960  0.15990  0.1974   \n",
       "3  84348301  M  11.42  20.38   77.58   386.1  0.14250  0.28390  0.2414   \n",
       "4  84358402  M  20.29  14.34  135.10  1297.0  0.10030  0.13280  0.1980   \n",
       "\n",
       "        9   ...     22     23      24      25      26      27      28      29  \\\n",
       "0  0.14710  ...  25.38  17.33  184.60  2019.0  0.1622  0.6656  0.7119  0.2654   \n",
       "1  0.07017  ...  24.99  23.41  158.80  1956.0  0.1238  0.1866  0.2416  0.1860   \n",
       "2  0.12790  ...  23.57  25.53  152.50  1709.0  0.1444  0.4245  0.4504  0.2430   \n",
       "3  0.10520  ...  14.91  26.50   98.87   567.7  0.2098  0.8663  0.6869  0.2575   \n",
       "4  0.10430  ...  22.54  16.67  152.20  1575.0  0.1374  0.2050  0.4000  0.1625   \n",
       "\n",
       "       30       31  \n",
       "0  0.4601  0.11890  \n",
       "1  0.2750  0.08902  \n",
       "2  0.3613  0.08758  \n",
       "3  0.6638  0.17300  \n",
       "4  0.2364  0.07678  \n",
       "\n",
       "[5 rows x 32 columns]"
      ]
     },
     "execution_count": 3,
     "metadata": {},
     "output_type": "execute_result"
    }
   ],
   "source": [
    "import urllib\n",
    "try:\n",
    "    df = pd.read_csv('https://archive.ics.uci.edu/ml/machine-learning-databases'\n",
    "                     '/breast-cancer-wisconsin/wdbc.data', header=None)\n",
    "except urllib.error.URLError:\n",
    "    df = pd.read_csv('https://raw.githubusercontent.com/rasbt/'\n",
    "                     'python-machine-learning-book/master/code/'\n",
    "                     'datasets/wdbc/wdbc.data', header=None)\n",
    "print('rows, columns:', df.shape)\n",
    "from sklearn.preprocessing import LabelEncoder\n",
    "le=LabelEncoder()\n",
    "X=df.iloc[:,2:]\n",
    "y=df.iloc[:,1]\n",
    "y=le.fit_transform(y)\n",
    "from sklearn.model_selection import train_test_split\n",
    "X_train,X_test,y_train,y_test=train_test_split(X,y,test_size=0.3,random_state=0)\n",
    "df.head()"
   ]
  },
  {
   "cell_type": "markdown",
   "metadata": {},
   "source": [
    "### 線形分離不可能\n",
    "2クラスなので物足りないかも"
   ]
  },
  {
   "cell_type": "code",
   "execution_count": 25,
   "metadata": {},
   "outputs": [
    {
     "data": {
      "image/png": "[encoded data removed]",
      "text/plain": [
       "<Figure size 432x288 with 1 Axes>"
      ]
     },
     "metadata": {
      "needs_background": "light"
     },
     "output_type": "display_data"
    }
   ],
   "source": [
    "# 線形分離不可能なデータセットを作成\n",
    "from sklearn.datasets import make_circles\n",
    "X,y=make_circles(n_samples=1000,random_state=123,noise=0.1,factor=0.2)\n",
    "X_train,X_test,y_train,y_test=train_test_split(X,y,test_size=0.3,random_state=0)\n",
    "\n",
    "plt.scatter(X[y==0,0],X[y==0,1],color='red',marker='^',alpha=0.5)\n",
    "plt.scatter(X[y==1,0],X[y==1,1],color='blue',marker='s',alpha=0.5)\n",
    "plt.show()"
   ]
  },
  {
   "cell_type": "markdown",
   "metadata": {},
   "source": [
    "## @ from sklearn import datasets\n",
    "### iris=datasets.load_iris()        data=iris.data label=iris.target\n",
    "有名なデータセットのダウンロードをできる。特徴量はdata　正解ラベルはtargetでアクセスできる"
   ]
  },
  {
   "cell_type": "code",
   "execution_count": 26,
   "metadata": {},
   "outputs": [
    {
     "name": "stdout",
     "output_type": "stream",
     "text": [
      "[[5.1 3.5 1.4 0.2]\n",
      " [4.9 3.  1.4 0.2]\n",
      " [4.7 3.2 1.3 0.2]\n",
      " [4.6 3.1 1.5 0.2]\n",
      " [5.  3.6 1.4 0.2]]\n",
      "[0 0 0 0 0]\n",
      "[[5.1 3.5 1.4 0.2]\n",
      " [4.9 3.  1.4 0.2]\n",
      " [4.7 3.2 1.3 0.2]\n",
      " [4.6 3.1 1.5 0.2]\n",
      " [5.  3.6 1.4 0.2]]\n",
      "[0 0 0 0 0]\n"
     ]
    }
   ],
   "source": [
    "from sklearn import datasets\n",
    "iris=datasets.load_iris()\n",
    "print(iris.data[:5])\n",
    "print(iris.target[:5])\n",
    "print(iris['data'][:5])\n",
    "print(iris['target'][:5])"
   ]
  },
  {
   "cell_type": "markdown",
   "metadata": {},
   "source": [
    "## @ from sklearn.model_selection import train_test_split\n",
    "### X_train,X_test,y_train,y_test=train_test_split(X,y,test_size=0.3,random_state=0)\n",
    "学習データを訓練データとテストテストデータに分ける"
   ]
  },
  {
   "cell_type": "code",
   "execution_count": 39,
   "metadata": {},
   "outputs": [
    {
     "name": "stdout",
     "output_type": "stream",
     "text": [
      "(150, 4)\n",
      "(150,)\n",
      "(105, 4)\n",
      "(105,)\n"
     ]
    }
   ],
   "source": [
    "from sklearn.model_selection import train_test_split\n",
    "X=iris.data\n",
    "y=iris.target\n",
    "print(X.shape)\n",
    "print(y.shape)\n",
    "\n",
    "X_train,X_test,y_train,y_test=train_test_split(X,y,test_size=0.3,random_state=0)\n",
    "\n",
    "print(X_train.shape)\n",
    "print(y_train.shape)"
   ]
  },
  {
   "cell_type": "markdown",
   "metadata": {},
   "source": [
    "## @ from sklearn.preprocessing import StandardScaler\n",
    "### sc=StandardScaler()  X_std=sc.fit_transform(X)\n",
    "データを標準化する。 fit(X) transform(X)をfit_transorm(X)だけでかける\n"
   ]
  },
  {
   "cell_type": "code",
   "execution_count": 37,
   "metadata": {},
   "outputs": [
    {
     "name": "stdout",
     "output_type": "stream",
     "text": [
      "3.6795963101862333e-16\n",
      "0.9999999999999999\n",
      "-0.08700211457774676\n",
      "0.9071408118354307\n"
     ]
    }
   ],
   "source": [
    "from sklearn.preprocessing import StandardScaler\n",
    "sc=StandardScaler()\n",
    "sc.fit(X_train)\n",
    "X_train_std=sc.transform(X_train)\n",
    "\n",
    "X_test_std=sc.transform(X_test)\n",
    "\n",
    "print(X_train_std.mean())\n",
    "print(X_train_std.std())\n",
    "\n",
    "print(X_test_std.mean())\n",
    "print(X_test_std.std())"
   ]
  },
  {
   "cell_type": "markdown",
   "metadata": {},
   "source": [
    "## @ from sklearn.preprocessing import MinMaxScaler\n",
    "### mms=MinMaxScaler()   X_train_mms=mms.fit_transform(X_train)\n",
    "[0,1]の間に特徴量を収める正規化。標準化はStandardScalerなので注意する\n",
    "※from sklearn.preprcessing import StandarScaler"
   ]
  },
  {
   "cell_type": "code",
   "execution_count": 16,
   "metadata": {},
   "outputs": [
    {
     "name": "stdout",
     "output_type": "stream",
     "text": [
      "0.6737161196095734 -0.6536123690043776\n",
      "1.0 0.0\n"
     ]
    }
   ],
   "source": [
    "from sklearn.preprocessing import MinMaxScaler\n",
    "print(X_train.max(),X_train.min())\n",
    "mms=MinMaxScaler()\n",
    "X_train_mms=mms.fit_transform(X_train)\n",
    "print(X_train_mms.max(),X_train_mms.min())"
   ]
  },
  {
   "cell_type": "markdown",
   "metadata": {},
   "source": [
    "## @ from sklearn.preprcessing import Imputer\n",
    "### imr=Imputer(missing_value='NaN',strategy='mean',axis=1)\n",
    "### imputed_data=imr.fit_transform(df.values)\n",
    "欠損値補完。pandas のdf.fillna(df.mean())に対応する\n",
    "strategyはmedian,mean,most_frequent"
   ]
  },
  {
   "cell_type": "markdown",
   "metadata": {},
   "source": [
    "## @ from skleran.preprocessing import LabelEncoder\n",
    "### le=LabelEncoder()\n",
    "### y=le.fit_transform(df['classlabel'].values)\n",
    "カテゴリ特徴量を数字データに変換。正解クラスを数値化するのに便利。  \n",
    "順序特徴量の場合は、特徴量に大小関係がない場合は、不要な大小関係を与えてしまうのでone-hot エンコーディングを用いる"
   ]
  },
  {
   "cell_type": "code",
   "execution_count": 50,
   "metadata": {},
   "outputs": [
    {
     "name": "stdout",
     "output_type": "stream",
     "text": [
      "   color size  price classlabel\n",
      "0  green    M   10.1     class1\n",
      "1    red    L   13.5     class2\n",
      "2   blue   XL   15.3     class1\n",
      "   color  size  price  classlabel\n",
      "0      1     1   10.1           0\n",
      "1      2     0   13.5           1\n",
      "2      0     2   15.3           0\n"
     ]
    }
   ],
   "source": [
    "df = pd.DataFrame([['green', 'M', 10.1, 'class1'],\n",
    "                   ['red', 'L', 13.5, 'class2'],\n",
    "                   ['blue', 'XL', 15.3, 'class1']])\n",
    "df.columns = ['color', 'size', 'price', 'classlabel']\n",
    "print(df)\n",
    "\n",
    "from sklearn.preprocessing import LabelEncoder\n",
    "le=LabelEncoder()\n",
    "df['classlabel']=le.fit_transform(df['classlabel'])\n",
    "df['size']=le.fit_transform(df['size'])\n",
    "df['color']=le.fit_transform(df['color'])\n",
    "\n",
    "print(df)"
   ]
  },
  {
   "cell_type": "markdown",
   "metadata": {},
   "source": [
    "## @ from sklearn.preprocessing import  OneHotEncoder\n",
    "### ohe=OneHotEncoder(categorical_feature=[0])\n",
    "### ohe.fit_transform(X).toarray()\n",
    "OneHotエンコーディングを名義特徴量に対して行ってくれる。categorical_feaures=[0]でdummy変数を作る列を指定  \n",
    "変換するにはnumpy配列にしないといけないので注意。toarray()でnumpy配列にしないとインスタンスのままになる  \n",
    "変換する配列中に指定した列以外に文字変数が含まれるとエラーを吐くので注意"
   ]
  },
  {
   "cell_type": "code",
   "execution_count": 51,
   "metadata": {},
   "outputs": [
    {
     "data": {
      "text/plain": [
       "array([[ 0. ,  1. ,  0. ,  1. , 10.1],\n",
       "       [ 0. ,  0. ,  1. ,  0. , 13.5],\n",
       "       [ 1. ,  0. ,  0. ,  2. , 15.3]])"
      ]
     },
     "execution_count": 51,
     "metadata": {},
     "output_type": "execute_result"
    }
   ],
   "source": [
    "X=df[['color','size','price']].values\n",
    "from sklearn.preprocessing import OneHotEncoder\n",
    "ohe=OneHotEncoder(categorical_features=[0])\n",
    "ohe.fit_transform(X).toarray()"
   ]
  },
  {
   "cell_type": "markdown",
   "metadata": {},
   "source": [
    "### 参考　pandasでのdummy変数の作り方\n",
    "### pd.get_dummies(df)"
   ]
  },
  {
   "cell_type": "markdown",
   "metadata": {},
   "source": [
    "## @ from sklean.pipeline import Pipeline\n",
    "### pipe=Pipeline([('scl',StandardScaler()),('pca',PCA(n_components=2),('lr',LogisticRegression(random_state=1)))])\n",
    "### pipe.fit(X_train,y_train)\n",
    "特徴量スケーリング、次元削減、学習の一連の流れをひとまとめにする。パラメータのチューニングはできないっぽいので、試しに使うのがいいかも  \n",
    "pipe.fitでStandarScaler,PCAがfitとtransformメソッドを呼び出して、学習機にデータを渡してくれる。中身が謎なので少し気持ち悪い\n"
   ]
  },
  {
   "cell_type": "code",
   "execution_count": 7,
   "metadata": {},
   "outputs": [
    {
     "data": {
      "text/plain": [
       "0.9766081871345029"
      ]
     },
     "execution_count": 7,
     "metadata": {},
     "output_type": "execute_result"
    }
   ],
   "source": [
    "from sklearn.preprocessing import StandardScaler\n",
    "from sklearn.decomposition import PCA\n",
    "from sklearn.linear_model import LogisticRegression\n",
    "from sklearn.pipeline import Pipeline\n",
    "pipe=Pipeline([('sc',StandardScaler()),('pca',PCA()),('lr',LogisticRegression())])\n",
    "pipe.fit(X_train,y_train)\n",
    "pipe.score(X_test,y_test)"
   ]
  },
  {
   "cell_type": "markdown",
   "metadata": {},
   "source": [
    "# クロスバリデーション(分割交差検証)"
   ]
  },
  {
   "cell_type": "markdown",
   "metadata": {},
   "source": [
    "## @ from sklearn.model_selection import KFold\n",
    "### kfold=KFold(n_splits=10,shuffle=True,random_state=0)\n",
    "### for train_id,test_id in kfold.split(X,y):\n",
    "基本のK分割交差検証　n_splitsで分割数を指定。デフォルトは3で、10がいい説がある。shuffleで分割するindex番号を連番にするか決められる   \n",
    "kfold.split(X,y)では分割したいデータ(普通は訓練データ)を入れて、訓練データと検証データのインデックス番号を変えすので注意。  \n",
    "XがDataFrame,yがnumpy配列の場合は取り扱い注意"
   ]
  },
  {
   "cell_type": "code",
   "execution_count": 45,
   "metadata": {},
   "outputs": [
    {
     "name": "stdout",
     "output_type": "stream",
     "text": [
      "CV validation accuracy:[0.975, 1.0, 0.975, 0.975, 0.975, 0.975, 1.0, 0.95, 1.0, 1.0]\n",
      "CV accuracy:0.982 +/- 0.016\n"
     ]
    }
   ],
   "source": [
    "from sklearn.model_selection import KFold\n",
    "kfold=KFold(n_splits=10,shuffle=True,random_state=0)\n",
    "\n",
    "scores=[]\n",
    "#Breast Cancer wisconsinのデータセット\n",
    "for train_id,test_id in kfold.split(X_train,y_train):\n",
    "    X_tr,X_val=X_train.iloc[train_id],X_train.iloc[test_id]\n",
    "    y_tr,y_val=y_train[train_id],y_train[test_id]\n",
    "    pipe.fit(X_tr,y_tr)\n",
    "    score=pipe.score(X_val,y_val)\n",
    "    scores.append(score)\n",
    "print('CV validation accuracy:%s'% scores)\n",
    "print('CV accuracy:%.3f +/- %.3f'% (np.mean(scores),np.std(scores)))"
   ]
  },
  {
   "cell_type": "markdown",
   "metadata": {},
   "source": [
    "## @ from sklearn.model_selection import StratifiedKFold\n",
    "### skfold=StratifiedKFold(n_splits=10,shuffle=True,random_state=0)\n",
    "### for train_id,test_id in skfold.split(X,y):\n",
    "層化k分割交差検証 各分割データセットに均等に各クラスが分配されるようにしたもの。単純なk分割交差検証より評価が良い。  \n",
    "使い方はKFoldと同じ"
   ]
  },
  {
   "cell_type": "markdown",
   "metadata": {},
   "source": [
    "## @ from sklearn.model_selection import cross_val_score\n",
    "### scores=cross_val_score(estimator=svm,X=X_train,y=y_train,cv=kfold,n_jobs=-1)\n",
    "クロスバリデーションの計算を簡単に行ってくれる便利なクラス。estimatorに使いたい分類器。X,yに訓練データセットを入れる。  \n",
    "cvはデータの分割の方法(KFold,StratifiedKFoldなど)が入るがcv=10のように、整数値を入れるとデフォルトで層化k交差分割検証になり10分割する  \n",
    "返り値は各分割での検証データの正解率のリスト,n_jobでCPUの個数。n_job=-1ですべてのCPUで並列処理"
   ]
  },
  {
   "cell_type": "code",
   "execution_count": 9,
   "metadata": {},
   "outputs": [
    {
     "name": "stdout",
     "output_type": "stream",
     "text": [
      "CV validation accuracy:[0.975 1.    0.975 0.975 0.975 0.975 1.    0.95  1.    1.   ]\n",
      "CV accuracy:0.982 +/- 0.016\n"
     ]
    }
   ],
   "source": [
    "from sklearn.model_selection import cross_val_score\n",
    "from sklearn.model_selection import KFold\n",
    "kfold=KFold(n_splits=10,shuffle=True,random_state=0)\n",
    "\n",
    "scores=cross_val_score(estimator=pipe,X=X_train,y=y_train,cv=kfold,n_jobs=-1)\n",
    "print('CV validation accuracy:%s'% scores)\n",
    "print('CV accuracy:%.3f +/- %.3f'% (np.mean(scores),np.std(scores)))"
   ]
  },
  {
   "cell_type": "markdown",
   "metadata": {},
   "source": [
    "# 学習曲線"
   ]
  },
  {
   "cell_type": "markdown",
   "metadata": {},
   "source": [
    "## @ from sklearn.model_selection import learning_curve\n",
    "### train_size,train_scores,test_scores=learning_curve(estimator=model,X=X_train,y=y_train,train_sizes=np.linspace(0.1,1.0,10),cv=10,n_jobs=-1)\n",
    "訓練データ数に対する学習曲線を書くためのクラス。返り値は訓練データ数、訓練データの正解率、検証データの正解率。  \n",
    "estimatorに分類器のインスタンス を入れる(model.fitを内部で行うので、ただインスタンス作るだけでよい).  \n",
    "cvに交差分割検証の分割方法を入れる(kfold,statifiedKfold) 整数を入れると、デフォルトの層化k交差分割検証での分割数となる。  \n",
    "np.linspace(0.1,1.0,10)とすれば、データセットを10等分する"
   ]
  },
  {
   "cell_type": "code",
   "execution_count": 17,
   "metadata": {},
   "outputs": [
    {
     "data": {
      "image/png": "[encoded data removed]",
      "text/plain": [
       "<Figure size 432x288 with 1 Axes>"
      ]
     },
     "metadata": {
      "needs_background": "light"
     },
     "output_type": "display_data"
    }
   ],
   "source": [
    "from sklearn.model_selection import learning_curve\n",
    "# 学習器は標準化とPCAとLogisticRegressionをつなげたPipelineを使う。データはBreast Cancer\n",
    "train_size,train_scores,test_scores=learning_curve(estimator=pipe,X=X_train,y=y_train,train_sizes=np.linspace(0.1,1.0,10),cv=10,n_jobs=-1)\n",
    "train_mean=np.mean(train_scores,axis=1)\n",
    "test_mean=np.mean(test_scores,axis=1)\n",
    "plt.plot(train_size,train_mean,color='blue',marker='o',markersize=5,label='train accuracy')\n",
    "plt.plot(train_size,test_mean,color='green',marker='s',markersize=5,label='test accuracy')\n",
    "plt.grid()\n",
    "plt.xlabel('number of train datasets')\n",
    "plt.ylabel('accuracy')\n",
    "plt.legend()\n",
    "plt.show()"
   ]
  },
  {
   "cell_type": "markdown",
   "metadata": {},
   "source": [
    "## @ from sklearn.model_selection import validaton_curve\n",
    "### train_scores,test_scores=validation_curve(estimator=model,X=X_train,y=y_train,param_name='C',param_range=param_range,cv=10)\n",
    "分類器のハイパーパラメータに対する学習曲線を描くためのクラス。返り値は訓練データの正解率と検証データの正解率なので注意する  \n",
    "param_nameに分類器のハイパーパラメータの名前、param_rangeはパラメータの値を入れたリスト。cvに交差分割検証の方法。整数ならデフォルトの層化k交差分割検証の分割数になる。"
   ]
  },
  {
   "cell_type": "code",
   "execution_count": 22,
   "metadata": {},
   "outputs": [
    {
     "data": {
      "image/png": "[encoded data removed]",
      "text/plain": [
       "<Figure size 432x288 with 1 Axes>"
      ]
     },
     "metadata": {
      "needs_background": "light"
     },
     "output_type": "display_data"
    }
   ],
   "source": [
    "from sklearn.model_selection import validation_curve\n",
    "# データはBreast Cancer\n",
    "lr=LogisticRegression(penalty='l2',random_state=0)\n",
    "param_range=[10**i for i in range(-3,3)]\n",
    "train_scores,test_scores=validation_curve(estimator=lr,X=X_train,y=y_train,param_name='C',param_range=param_range,cv=10)\n",
    "train_mean=np.mean(train_scores,axis=1)\n",
    "test_mean=np.mean(test_scores,axis=1)\n",
    "plt.plot(param_range,train_mean,color='blue',marker='o',markersize=5,label='train accuracy')\n",
    "plt.plot(param_range,test_mean,color='green',marker='s',markersize=5,label='test accuracy')\n",
    "plt.grid()\n",
    "plt.xscale('log')\n",
    "plt.xlabel('Parameter C')\n",
    "plt.ylabel('Accuracy')\n",
    "plt.show()"
   ]
  },
  {
   "cell_type": "markdown",
   "metadata": {},
   "source": [
    "## @ from sklearn.model_selection import GridSearchCV\n",
    "### gs=GridSearchCV(estimator=model,param_grid=param_dict,scoring='accuracy',cv=10,n_jobs=-1)\n",
    "### gs=gs.fit(X_train,y_train) gs.best_params_ gs.best_estimator  gs.cv_results_\n",
    "ハイパーパラメータを見つけるグリッドサーチを簡単に実装。要点としては、パラメータをまとめた辞書配列を作らなければいけないこと。\n",
    "GridSeachCVのインスタンスを作ってから、学習を行う。ハイパーパラメータの評価は交差分割検証によって行われ、scoringの指標で決められる。  \n",
    "best_paramsメソッドで最もいいパラメータの組み合わせ、best_estimator_で最もいいパラメータの組み合わせのモデルを返す。　cv_resultsで一覧を表示"
   ]
  },
  {
   "cell_type": "code",
   "execution_count": 34,
   "metadata": {},
   "outputs": [
    {
     "name": "stdout",
     "output_type": "stream",
     "text": [
      "validation best accuracy:0.98\n"
     ]
    },
    {
     "data": {
      "text/html": [
       "<div>\n",
       "<style scoped>\n",
       "    .dataframe tbody tr th:only-of-type {\n",
       "        vertical-align: middle;\n",
       "    }\n",
       "\n",
       "    .dataframe tbody tr th {\n",
       "        vertical-align: top;\n",
       "    }\n",
       "\n",
       "    .dataframe thead th {\n",
       "        text-align: right;\n",
       "    }\n",
       "</style>\n",
       "<table border=\"1\" class=\"dataframe\">\n",
       "  <thead>\n",
       "    <tr style=\"text-align: right;\">\n",
       "      <th></th>\n",
       "      <th>mean_fit_time</th>\n",
       "      <th>std_fit_time</th>\n",
       "      <th>mean_score_time</th>\n",
       "      <th>std_score_time</th>\n",
       "      <th>param_svm__C</th>\n",
       "      <th>param_svm__kernel</th>\n",
       "      <th>param_svm__gamma</th>\n",
       "      <th>params</th>\n",
       "      <th>split0_test_score</th>\n",
       "      <th>split1_test_score</th>\n",
       "      <th>...</th>\n",
       "      <th>split3_test_score</th>\n",
       "      <th>split4_test_score</th>\n",
       "      <th>split5_test_score</th>\n",
       "      <th>split6_test_score</th>\n",
       "      <th>split7_test_score</th>\n",
       "      <th>split8_test_score</th>\n",
       "      <th>split9_test_score</th>\n",
       "      <th>mean_test_score</th>\n",
       "      <th>std_test_score</th>\n",
       "      <th>rank_test_score</th>\n",
       "    </tr>\n",
       "  </thead>\n",
       "  <tbody>\n",
       "    <tr>\n",
       "      <th>0</th>\n",
       "      <td>0.010576</td>\n",
       "      <td>0.002910</td>\n",
       "      <td>0.002695</td>\n",
       "      <td>0.000781</td>\n",
       "      <td>0.0001</td>\n",
       "      <td>linear</td>\n",
       "      <td>NaN</td>\n",
       "      <td>{'svm__C': 0.0001, 'svm__kernel': 'linear'}</td>\n",
       "      <td>0.625</td>\n",
       "      <td>0.625</td>\n",
       "      <td>...</td>\n",
       "      <td>0.625</td>\n",
       "      <td>0.650</td>\n",
       "      <td>0.625</td>\n",
       "      <td>0.625</td>\n",
       "      <td>0.650</td>\n",
       "      <td>0.625</td>\n",
       "      <td>0.631579</td>\n",
       "      <td>0.630653</td>\n",
       "      <td>0.009889</td>\n",
       "      <td>30</td>\n",
       "    </tr>\n",
       "    <tr>\n",
       "      <th>1</th>\n",
       "      <td>0.011363</td>\n",
       "      <td>0.003777</td>\n",
       "      <td>0.002599</td>\n",
       "      <td>0.001108</td>\n",
       "      <td>0.001</td>\n",
       "      <td>linear</td>\n",
       "      <td>NaN</td>\n",
       "      <td>{'svm__C': 0.001, 'svm__kernel': 'linear'}</td>\n",
       "      <td>0.900</td>\n",
       "      <td>0.975</td>\n",
       "      <td>...</td>\n",
       "      <td>0.900</td>\n",
       "      <td>0.975</td>\n",
       "      <td>0.850</td>\n",
       "      <td>0.950</td>\n",
       "      <td>0.950</td>\n",
       "      <td>0.925</td>\n",
       "      <td>0.921053</td>\n",
       "      <td>0.929648</td>\n",
       "      <td>0.036902</td>\n",
       "      <td>24</td>\n",
       "    </tr>\n",
       "    <tr>\n",
       "      <th>2</th>\n",
       "      <td>0.004285</td>\n",
       "      <td>0.000635</td>\n",
       "      <td>0.001200</td>\n",
       "      <td>0.000398</td>\n",
       "      <td>0.01</td>\n",
       "      <td>linear</td>\n",
       "      <td>NaN</td>\n",
       "      <td>{'svm__C': 0.01, 'svm__kernel': 'linear'}</td>\n",
       "      <td>0.925</td>\n",
       "      <td>0.975</td>\n",
       "      <td>...</td>\n",
       "      <td>0.925</td>\n",
       "      <td>0.975</td>\n",
       "      <td>0.950</td>\n",
       "      <td>0.975</td>\n",
       "      <td>0.975</td>\n",
       "      <td>0.950</td>\n",
       "      <td>1.000000</td>\n",
       "      <td>0.962312</td>\n",
       "      <td>0.022953</td>\n",
       "      <td>12</td>\n",
       "    </tr>\n",
       "  </tbody>\n",
       "</table>\n",
       "<p>3 rows × 21 columns</p>\n",
       "</div>"
      ],
      "text/plain": [
       "   mean_fit_time  std_fit_time  mean_score_time  std_score_time param_svm__C  \\\n",
       "0       0.010576      0.002910         0.002695        0.000781       0.0001   \n",
       "1       0.011363      0.003777         0.002599        0.001108        0.001   \n",
       "2       0.004285      0.000635         0.001200        0.000398         0.01   \n",
       "\n",
       "  param_svm__kernel param_svm__gamma  \\\n",
       "0            linear              NaN   \n",
       "1            linear              NaN   \n",
       "2            linear              NaN   \n",
       "\n",
       "                                        params  split0_test_score  \\\n",
       "0  {'svm__C': 0.0001, 'svm__kernel': 'linear'}              0.625   \n",
       "1   {'svm__C': 0.001, 'svm__kernel': 'linear'}              0.900   \n",
       "2    {'svm__C': 0.01, 'svm__kernel': 'linear'}              0.925   \n",
       "\n",
       "   split1_test_score  ...  split3_test_score  split4_test_score  \\\n",
       "0              0.625  ...              0.625              0.650   \n",
       "1              0.975  ...              0.900              0.975   \n",
       "2              0.975  ...              0.925              0.975   \n",
       "\n",
       "   split5_test_score  split6_test_score  split7_test_score  split8_test_score  \\\n",
       "0              0.625              0.625              0.650              0.625   \n",
       "1              0.850              0.950              0.950              0.925   \n",
       "2              0.950              0.975              0.975              0.950   \n",
       "\n",
       "   split9_test_score  mean_test_score  std_test_score  rank_test_score  \n",
       "0           0.631579         0.630653        0.009889               30  \n",
       "1           0.921053         0.929648        0.036902               24  \n",
       "2           1.000000         0.962312        0.022953               12  \n",
       "\n",
       "[3 rows x 21 columns]"
      ]
     },
     "metadata": {},
     "output_type": "display_data"
    },
    {
     "name": "stdout",
     "output_type": "stream",
     "text": [
      "test accuracy:0.97\n"
     ]
    }
   ],
   "source": [
    "from sklearn.model_selection import GridSearchCV\n",
    "from sklearn.svm import SVC\n",
    "pipe_svm=Pipeline([('sc',StandardScaler()),('svm',SVC(random_state=0))])\n",
    "param_range=[10**i for i in range(-4,4)]\n",
    "# ハイパーパラメータをまとめた辞書配列を作る。パラメータの部分は配列として入れる。pipelineの場合は識別機の名前__Cなどとしてアクセスする。\n",
    "#グリッドサーチで1番大切な箇所\n",
    "param_dict=[{'svm__C':param_range,'svm__kernel':['linear']},\n",
    "            {'svm__C':param_range,'svm__gamma':param_range,'svm__kernel':['rbf']}]\n",
    "# GridSeachCVのインスタンスを作成\n",
    "gs=GridSearchCV(estimator=pipe_svm,param_grid=param_dict,scoring='accuracy',cv=10,n_jobs=-1)\n",
    "# データはBreast Cancer\n",
    "gs=gs.fit(X_train,y_train)\n",
    "print('validation best accuracy:%.2f'% gs.best_score_)\n",
    "display(pd.DataFrame(gs.cv_results_).iloc[:3])\n",
    "model=gs.best_estimator_\n",
    "model.fit(X_train,y_train)\n",
    "print('test accuracy:%.2f' % model.score(X_test,y_test))"
   ]
  },
  {
   "cell_type": "markdown",
   "metadata": {},
   "source": [
    "## 入れ子式の交差分割検証\n",
    "### gs=GridSearchCV(estimator=model,param_grid=param_dict,cv=2,n_jobs=-1) \n",
    "### scores=cross_val_score(gs,X_train,y_train,scoring='accuracy',cv=5)\n",
    "このやり方は5×2交差検証。外側ループでデータを訓練データとテストデータに分け、内側ループでは訓練データと検証データに分け、検証データの指標でチューニングしたパラメータのモデルで、外側ループのテストデータの指標をだす。分類器の性能の比較の際に役に立つらしいが、、コスト高い。。。"
   ]
  },
  {
   "cell_type": "code",
   "execution_count": 10,
   "metadata": {},
   "outputs": [
    {
     "name": "stdout",
     "output_type": "stream",
     "text": [
      "CV SVM test accuracy: 0.985 +/- 0.015\n",
      "CV Tree test accuracy: 0.907 +/- 0.017\n"
     ]
    }
   ],
   "source": [
    "from sklearn.model_selection import GridSearchCV\n",
    "from sklearn.model_selection import cross_val_score\n",
    "# SVM\n",
    "from sklearn.svm import SVC\n",
    "pipe_svm=Pipeline([('sc',StandardScaler()),('svm',SVC(random_state=0))])\n",
    "param_range=[10**i for i in range(-4,4)]\n",
    "param_dict=[{'svm__C':param_range,'svm__kernel':['linear']},\n",
    "            {'svm__C':param_range,'svm__gamma':param_range,'svm__kernel':['rbf']}]\n",
    "gs=GridSearchCV(estimator=pipe_svm,param_grid=param_dict,scoring='accuracy',cv=2,n_jobs=-1)\n",
    "scores=cross_val_score(gs,X=X_train,y=y_train,scoring='accuracy',cv=5)\n",
    "print('CV SVM test accuracy: %.3f +/- %.3f' % (np.mean(scores),np.std(scores)))\n",
    "# 決定木\n",
    "from sklearn.tree import DecisionTreeClassifier\n",
    "pipe_tree=Pipeline([('sc',StandardScaler()),('tree',DecisionTreeClassifier(random_state=0))])\n",
    "param_range=[10**i for i in range(1,8)]\n",
    "param_dict=[{'tree__max_depth':param_range}]\n",
    "gs=GridSearchCV(estimator=pipe_tree,param_grid=param_dict,scoring='accuracy',cv=2,n_jobs=-1)\n",
    "scores=cross_val_score(gs,X=X_train,y=y_train,scoring='accuracy',cv=5)\n",
    "print('CV Tree test accuracy: %.3f +/- %.3f' % (np.mean(scores),np.std(scores)))\n"
   ]
  },
  {
   "cell_type": "markdown",
   "metadata": {},
   "source": [
    "# 性能評価指標"
   ]
  },
  {
   "cell_type": "markdown",
   "metadata": {},
   "source": [
    "## @ 混合行列(Confusion Matrix)\n",
    "### from sklearn.metric import confusion_matrix\n",
    "### conf_mat=confusion_matrix(y_test,y_pred)\n",
    "混合行列を作るクラス。混合行列は2値分類が基本だが、sklearnのconfusion matrixは他クラス分類にも対応している。正解ラベルと予測ラベルを入力するだけ"
   ]
  },
  {
   "cell_type": "code",
   "execution_count": 23,
   "metadata": {},
   "outputs": [
    {
     "name": "stdout",
     "output_type": "stream",
     "text": [
      "[[105   3]\n",
      " [  5  58]]\n"
     ]
    },
    {
     "data": {
      "image/png": "[encoded data removed]",
      "text/plain": [
       "<Figure size 180x180 with 1 Axes>"
      ]
     },
     "metadata": {
      "needs_background": "light"
     },
     "output_type": "display_data"
    }
   ],
   "source": [
    "from sklearn.metrics import confusion_matrix\n",
    "from sklearn.ensemble import RandomForestClassifier\n",
    "# RandomForest データはBreast Cancer\n",
    "forest=RandomForestClassifier(criterion='entropy',n_estimators=17,random_state=0)\n",
    "forest.fit(X_train,y_train)\n",
    "\n",
    "#　混合行列作成。(今回は2クラス分類)\n",
    "y_pred=gs.predict(X_test)\n",
    "confmat=confusion_matrix(y_test,y_pred)\n",
    "print(confmat)\n",
    "\n",
    "# 混合行列をきれいに表示する場合\n",
    "fig,ax=plt.subplots(figsize=(2.5,2.5))\n",
    "ax.matshow(confmat,cmap=plt.cm.Blues,alpha=0.3)\n",
    "for i in range(confmat.shape[0]):\n",
    "    for j in range(confmat.shape[1]):\n",
    "        ax.text(x=j,y=i,s=confmat[i,j],va='center',ha='center')\n",
    "plt.xlabel('predicted label')\n",
    "plt.ylabel('true label')\n",
    "plt.show()"
   ]
  },
  {
   "cell_type": "markdown",
   "metadata": {},
   "source": [
    "## @ 適合率(PRE)\n",
    "### from sklearn.metrics import precision_score\n",
    "陽性クラスと予測したサンプルのうち、実際に陽性クラスだったもの。インフルの検査で、インフルと診断された人のうち、ほんとにインフルにかかってた人の割合"
   ]
  },
  {
   "cell_type": "markdown",
   "metadata": {},
   "source": [
    "## @ 再現率(REC)\n",
    "### from sklearn.metrics import recall_score\n",
    "陽性クラスのうち、陽性クラスと正しく予測された数。インフル患者のうち、正しくインフルと診断された人の数"
   ]
  },
  {
   "cell_type": "markdown",
   "metadata": {},
   "source": [
    "## @ F1値\n",
    "### from sklearn.metrics import f1_score\n",
    "PREとRECを組み合わせた指標。調和平均。"
   ]
  },
  {
   "cell_type": "code",
   "execution_count": 24,
   "metadata": {},
   "outputs": [
    {
     "name": "stdout",
     "output_type": "stream",
     "text": [
      "precision: 0.951\n",
      "recall: 0.921\n",
      "f1 score: 0.935\n"
     ]
    }
   ],
   "source": [
    "from sklearn.metrics import precision_score, recall_score, f1_score\n",
    "print('precision: %.3f' % precision_score(y_test,y_pred))\n",
    "print('recall: %.3f' % recall_score(y_test,y_pred))\n",
    "print('f1 score: %.3f' % f1_score(y_test,y_pred))"
   ]
  },
  {
   "cell_type": "markdown",
   "metadata": {},
   "source": [
    "## @ AUC ROCの曲線下面積\n",
    "### from sklearn.metrics import roc_auc_score\n",
    "### roc_acu_score(y_test,y_pred)\n",
    "AUCの値を見ると、不均衡なクラスのサンプルに対する分類器の性能を見ることができる。90個が1で10が0のデータですべて1と分類した分類器の正解率が90%になってしまって、見かけ上はよくても、性能はごみの場合に役に立つ"
   ]
  },
  {
   "cell_type": "code",
   "execution_count": 7,
   "metadata": {},
   "outputs": [
    {
     "name": "stdout",
     "output_type": "stream",
     "text": [
      "ROC AUC:0.964\n",
      "Accuracy:0.959\n",
      "[357 212]\n"
     ]
    }
   ],
   "source": [
    "from sklearn.metrics import roc_auc_score,accuracy_score\n",
    "from sklearn.linear_model import LogisticRegression\n",
    "lr=LogisticRegression(penalty='l2',C=100,random_state=0)\n",
    "lr.fit(X_train,y_train)\n",
    "y_pred=lr.predict(X_test)\n",
    "# データはBreast Cancer\n",
    "print('ROC AUC:%.3f' % roc_auc_score(y_test,y_pred))\n",
    "print('Accuracy:%.3f' % accuracy_score(y_test,y_pred))\n",
    "# クラスの偏り。そこまでないから正解率とあまり変わらない\n",
    "print(np.bincount(y))"
   ]
  },
  {
   "cell_type": "markdown",
   "metadata": {},
   "source": [
    "# 分類器"
   ]
  },
  {
   "cell_type": "markdown",
   "metadata": {},
   "source": [
    "## @ from sklearn.linear_model import Perceptron\n",
    "### ppn=Perceptron(eta0=0.1,random_state=0,shuffle=True)\n",
    "単純パーセプトロン　ハイパーパラメータ}は学習係数eta　shuffle=Trueで各epochごとにデータをシャッフルする"
   ]
  },
  {
   "cell_type": "markdown",
   "metadata": {},
   "source": [
    "## @ from sklearn.metrics import accuracy_score\n",
    "### accuracy_score(y_test,y_pred)\n",
    "正解ラベルと予測ラベルから正解率を求める"
   ]
  },
  {
   "cell_type": "code",
   "execution_count": 20,
   "metadata": {},
   "outputs": [
    {
     "name": "stdout",
     "output_type": "stream",
     "text": [
      "Accuracy: 0.93\n",
      "Accuracy: 0.93\n"
     ]
    }
   ],
   "source": [
    "from sklearn.metrics import accuracy_score\n",
    "from sklearn.linear_model import Perceptron\n",
    "\n",
    "ppn=Perceptron(eta0=0.1,random_state=0,shuffle=True)\n",
    "ppn.fit(X_train_std,y_train)\n",
    "y_pred=ppn.predict(X_test_std)\n",
    "\n",
    "# accuracy_scoreを使う場合\n",
    "print(\"Accuracy: %.2f\" % accuracy_score(y_test,y_pred))\n",
    "\n",
    "# modelのscoreメソッドを使う場合\n",
    "print(\"Accuracy: %.2f\" % ppn.score(X_test_std,y_test))"
   ]
  },
  {
   "cell_type": "markdown",
   "metadata": {},
   "source": [
    "## @ from sklearn.linear_model import LogisticRegression\n",
    "### lr=LogisticRegression(C=0.01,random_state=0,penalty='l2')\n",
    "ロジスティック回帰　ハイパーパラメータCは正則項の逆数で、Cが小さいほど正則化は強くなる  \n",
    "penaltyでL1,L2,ElasticNetを選択できる。デフォルトはl2\n"
   ]
  },
  {
   "cell_type": "code",
   "execution_count": 33,
   "metadata": {},
   "outputs": [
    {
     "data": {
      "image/png": "[encoded data removed]",
      "text/plain": [
       "<Figure size 432x288 with 1 Axes>"
      ]
     },
     "metadata": {
      "needs_background": "light"
     },
     "output_type": "display_data"
    }
   ],
   "source": [
    "from sklearn.linear_model import LogisticRegression\n",
    "\n",
    "\n",
    "accuracy=[]\n",
    "params=[]\n",
    "for c in range(-5,5):\n",
    "    lr=LogisticRegression(C=10**c,random_state=0)\n",
    "    lr.fit(X_train_std,y_train)\n",
    "    accuracy.append(lr.score(X_test_std,y_test))\n",
    "    params.append(10**c)\n",
    "\n",
    "plt.plot(params,accuracy,marker='o')\n",
    "plt.xlabel('C')\n",
    "plt.ylabel('Accuracy')\n",
    "plt.xscale('log')\n",
    "plt.show()\n"
   ]
  },
  {
   "cell_type": "markdown",
   "metadata": {},
   "source": [
    "## @ from sklearn.svm import SVC\n",
    "### svm=SVC(kernel='linear',C=1.0,random_state=0)\n",
    "### svm=SVC(kernel='rbf',gammma=10,C=1.0,random_state=0)\n",
    "サポートベクターマシン。kernel='linear'で線形分離、kernel='rbf'で非線形分離を行なう。Cはスラック変数の係数、gammmaカーネル関数の係数  \n",
    "正則化項はL2正則化のみ"
   ]
  },
  {
   "cell_type": "code",
   "execution_count": 81,
   "metadata": {},
   "outputs": [
    {
     "name": "stderr",
     "output_type": "stream",
     "text": [
      "'c' argument looks like a single numeric RGB or RGBA sequence, which should be avoided as value-mapping will have precedence in case its length matches with 'x' & 'y'.  Please use a 2-D array with a single row if you really want to specify the same RGB or RGBA value for all points.\n",
      "'c' argument looks like a single numeric RGB or RGBA sequence, which should be avoided as value-mapping will have precedence in case its length matches with 'x' & 'y'.  Please use a 2-D array with a single row if you really want to specify the same RGB or RGBA value for all points.\n",
      "'c' argument looks like a single numeric RGB or RGBA sequence, which should be avoided as value-mapping will have precedence in case its length matches with 'x' & 'y'.  Please use a 2-D array with a single row if you really want to specify the same RGB or RGBA value for all points.\n",
      "'c' argument looks like a single numeric RGB or RGBA sequence, which should be avoided as value-mapping will have precedence in case its length matches with 'x' & 'y'.  Please use a 2-D array with a single row if you really want to specify the same RGB or RGBA value for all points.\n",
      "'c' argument looks like a single numeric RGB or RGBA sequence, which should be avoided as value-mapping will have precedence in case its length matches with 'x' & 'y'.  Please use a 2-D array with a single row if you really want to specify the same RGB or RGBA value for all points.\n",
      "'c' argument looks like a single numeric RGB or RGBA sequence, which should be avoided as value-mapping will have precedence in case its length matches with 'x' & 'y'.  Please use a 2-D array with a single row if you really want to specify the same RGB or RGBA value for all points.\n"
     ]
    },
    {
     "data": {
      "image/png": "[encoded data removed]",
      "text/plain": [
       "<Figure size 432x288 with 2 Axes>"
      ]
     },
     "metadata": {
      "needs_background": "light"
     },
     "output_type": "display_data"
    }
   ],
   "source": [
    "from sklearn.svm import SVC\n",
    "\n",
    "plt.subplot(1,2,1)\n",
    "svm=SVC(kernel='linear',C=1.0,random_state=0)\n",
    "svm.fit(X_train_std[:,[1,3]],y_train)\n",
    "plot_decision_regions(X_train_std[:,[1,3]],y_train,classifier=svm)\n",
    "\n",
    "plt.subplot(1,2,2)\n",
    "svm=SVC(kernel='rbf',C=10.0,gamma=15,random_state=0)\n",
    "svm.fit(X_train_std[:,[1,3]],y_train)\n",
    "plot_decision_regions(X_train_std[:,[1,3]],y_train,classifier=svm)\n",
    "plt.show()"
   ]
  },
  {
   "cell_type": "markdown",
   "metadata": {},
   "source": [
    "## @ from sklearn.svm import linearSVC\n",
    "### liSVM=LinearSVC(penalty='l1',C=10,dual=False)\n",
    "SVMの強化版？L1正則化を設定できるようになった"
   ]
  },
  {
   "cell_type": "code",
   "execution_count": 8,
   "metadata": {},
   "outputs": [
    {
     "name": "stderr",
     "output_type": "stream",
     "text": [
      "'c' argument looks like a single numeric RGB or RGBA sequence, which should be avoided as value-mapping will have precedence in case its length matches with 'x' & 'y'.  Please use a 2-D array with a single row if you really want to specify the same RGB or RGBA value for all points.\n",
      "'c' argument looks like a single numeric RGB or RGBA sequence, which should be avoided as value-mapping will have precedence in case its length matches with 'x' & 'y'.  Please use a 2-D array with a single row if you really want to specify the same RGB or RGBA value for all points.\n",
      "'c' argument looks like a single numeric RGB or RGBA sequence, which should be avoided as value-mapping will have precedence in case its length matches with 'x' & 'y'.  Please use a 2-D array with a single row if you really want to specify the same RGB or RGBA value for all points.\n"
     ]
    },
    {
     "data": {
      "image/png": "[encoded data removed]",
      "text/plain": [
       "<Figure size 432x288 with 1 Axes>"
      ]
     },
     "metadata": {
      "needs_background": "light"
     },
     "output_type": "display_data"
    }
   ],
   "source": [
    "from sklearn.svm import LinearSVC\n",
    "liSVM=LinearSVC(penalty='l1',C=10,dual=False)\n",
    "liSVM.fit(X_train_std[:,[1,3]],y_train)\n",
    "plot_decision_regions(X_train_std[:,[1,3]],y_train,classifier=liSVM)\n",
    "plt.show()"
   ]
  },
  {
   "cell_type": "markdown",
   "metadata": {},
   "source": [
    "## 実験　L1正則化の重み減少の様子"
   ]
  },
  {
   "cell_type": "code",
   "execution_count": 16,
   "metadata": {},
   "outputs": [
    {
     "data": {
      "image/png": "[encoded data removed]",
      "text/plain": [
       "<Figure size 432x288 with 1 Axes>"
      ]
     },
     "metadata": {
      "needs_background": "light"
     },
     "output_type": "display_data"
    }
   ],
   "source": [
    "fig = plt.figure()\n",
    "ax = plt.subplot(111)\n",
    "    \n",
    "colors = ['blue', 'green', 'red', 'cyan', \n",
    "          'magenta', 'yellow', 'black', \n",
    "          'pink', 'lightgreen', 'lightblue', \n",
    "          'gray', 'indigo', 'orange']\n",
    "\n",
    "weights, params = [], []\n",
    "for c in np.arange(-4., 6.):\n",
    "    lr = LinearSVC(penalty='l1', C=10.**c,dual=False, random_state=0)\n",
    "    lr.fit(X_train_std, y_train)\n",
    "    weights.append(lr.coef_[1])\n",
    "    params.append(10.**c)\n",
    "\n",
    "weights = np.array(weights)\n",
    "\n",
    "for column, color in zip(range(weights.shape[1]), colors):\n",
    "    plt.plot(params, weights[:, column],\n",
    "             label=column,\n",
    "             color=color)\n",
    "plt.axhline(0, color='black', linestyle='--', linewidth=3)\n",
    "plt.xlim([10**(-5), 10**5])\n",
    "plt.ylabel('weight coefficient')\n",
    "plt.xlabel('C')\n",
    "plt.xscale('log')\n",
    "plt.legend(loc='upper left')\n",
    "ax.legend(loc='upper center', \n",
    "          bbox_to_anchor=(1.38, 1.03),\n",
    "          ncol=1, fancybox=True)\n",
    "plt.show()"
   ]
  },
  {
   "cell_type": "markdown",
   "metadata": {},
   "source": [
    "## @ from sklearn.tree import DecisionTreeClassifier\n",
    "### tree=DecisionTreeClassifier(criterion='entropy',max_depth=3,random_state=0)\n",
    "決定木一つ。criterionが不順度の指標'gini'か'entropy'。max_depthが決定木の深さ。  \n",
    "決定木で学習する訓練データは特徴量をスケーリングする必要がない（してもいいが、数値の分割条件の大小関係が重要なので、しきい値が変わるだけ）"
   ]
  },
  {
   "cell_type": "code",
   "execution_count": 94,
   "metadata": {},
   "outputs": [
    {
     "name": "stderr",
     "output_type": "stream",
     "text": [
      "'c' argument looks like a single numeric RGB or RGBA sequence, which should be avoided as value-mapping will have precedence in case its length matches with 'x' & 'y'.  Please use a 2-D array with a single row if you really want to specify the same RGB or RGBA value for all points.\n",
      "'c' argument looks like a single numeric RGB or RGBA sequence, which should be avoided as value-mapping will have precedence in case its length matches with 'x' & 'y'.  Please use a 2-D array with a single row if you really want to specify the same RGB or RGBA value for all points.\n",
      "'c' argument looks like a single numeric RGB or RGBA sequence, which should be avoided as value-mapping will have precedence in case its length matches with 'x' & 'y'.  Please use a 2-D array with a single row if you really want to specify the same RGB or RGBA value for all points.\n"
     ]
    },
    {
     "data": {
      "image/png": "[encoded data removed]",
      "text/plain": [
       "<Figure size 432x288 with 1 Axes>"
      ]
     },
     "metadata": {
      "needs_background": "light"
     },
     "output_type": "display_data"
    }
   ],
   "source": [
    "from sklearn.tree import DecisionTreeClassifier\n",
    "tree=DecisionTreeClassifier(criterion='entropy',max_depth=20,random_state=0)\n",
    "tree.fit(X_train[:,[1,3]],y_train)\n",
    "plot_decision_regions(X_train[:,[1,3]],y_train,classifier=tree)\n",
    "plt.legend()\n",
    "plt.show()"
   ]
  },
  {
   "cell_type": "markdown",
   "metadata": {},
   "source": [
    "## @ from sklearn.ensemble import RandomForestClassifier\n",
    "### forest=RandomForestClassifier(criterion='entropy',n_estimators=10,random_state=2)\n",
    "ランダムフォレスト。criterionが不順度の指標'gini'か'entropy'　n_estimatorsが決定木の数。n_jobsがPCの複数コアでの並列処理をしている。   \n",
    "### importance=forest.feature_importances_\n",
    "### indices=np.argsort(importances)[::-1]\n",
    "ランダムフォレストで重要な特徴量を識別する。配列を返す。決定木から計算された不順度の平均的な減少量として重要度を測定できる  \n",
    "indicesで重要な特徴量のインデックス番号を取得する"
   ]
  },
  {
   "cell_type": "code",
   "execution_count": 26,
   "metadata": {},
   "outputs": [
    {
     "name": "stderr",
     "output_type": "stream",
     "text": [
      "'c' argument looks like a single numeric RGB or RGBA sequence, which should be avoided as value-mapping will have precedence in case its length matches with 'x' & 'y'.  Please use a 2-D array with a single row if you really want to specify the same RGB or RGBA value for all points.\n",
      "'c' argument looks like a single numeric RGB or RGBA sequence, which should be avoided as value-mapping will have precedence in case its length matches with 'x' & 'y'.  Please use a 2-D array with a single row if you really want to specify the same RGB or RGBA value for all points.\n",
      "'c' argument looks like a single numeric RGB or RGBA sequence, which should be avoided as value-mapping will have precedence in case its length matches with 'x' & 'y'.  Please use a 2-D array with a single row if you really want to specify the same RGB or RGBA value for all points.\n"
     ]
    },
    {
     "data": {
      "image/png": "[encoded data removed]",
      "text/plain": [
       "<Figure size 432x288 with 1 Axes>"
      ]
     },
     "metadata": {
      "needs_background": "light"
     },
     "output_type": "display_data"
    },
    {
     "name": "stdout",
     "output_type": "stream",
     "text": [
      "test accuracy 0.93\n",
      "[0.14334485 0.0264803  0.40058315 0.42959169]\n"
     ]
    },
    {
     "data": {
      "image/png": "[encoded data removed]",
      "text/plain": [
       "<Figure size 432x288 with 1 Axes>"
      ]
     },
     "metadata": {
      "needs_background": "light"
     },
     "output_type": "display_data"
    }
   ],
   "source": [
    "from sklearn.ensemble import RandomForestClassifier\n",
    "\n",
    "# RandomForestでの2変数での分類の可視化\n",
    "forest=RandomForestClassifier(criterion='gini',n_estimators=10,random_state=0,n_jobs=2)\n",
    "forest.fit(X_train[:,[1,3]],y_train)\n",
    "plot_decision_regions(X_train[:,[1,3]],y_train,classifier=forest)\n",
    "plt.show()\n",
    "print(\"test accuracy %.2f\" %forest.score(X_test[:,[1,3]],y_test))\n",
    "\n",
    "# RandomForestで重要な特徴量を識別\n",
    "forest=RandomForestClassifier(criterion='gini',n_estimators=10,random_state=0,n_jobs=2)\n",
    "forest.fit(X_train,y_train)\n",
    "importaces=forest.feature_importances_\n",
    "print(importaces)\n",
    "indices=np.argsort(importaces)[::-1]\n",
    "feat_labels=np.array(iris['feature_names'])\n",
    "\n",
    "plt.bar(range(X_train.shape[1]),importaces[indices],color='lightblue',align='center')\n",
    "plt.xticks(range(X_train.shape[1]),feat_labels[indices],rotation=90)\n",
    "plt.xlim([-1,X_train.shape[1]])\n",
    "plt.tight_layout()\n",
    "plt.show()\n"
   ]
  },
  {
   "cell_type": "markdown",
   "metadata": {},
   "source": [
    "## @ from sklearn.feature_selection import SelectFromModel\n",
    "### sfm=SelectFromModel(estimator=forest,prefit=True,threshold=0.15)\n",
    "### X_selected=sfm.transform(X_train)\n",
    "識別機(多くの場合ランダムフォレスト)が分類したしきい値thereshold以上の重要な特徴量のみを取得する \n",
    "### mask=sfm.get_support()\n",
    "### importance=feat_label[mask]\n",
    "get_support()メソッドで、しきい値以上の特徴量のbool配列を返す"
   ]
  },
  {
   "cell_type": "code",
   "execution_count": 35,
   "metadata": {},
   "outputs": [
    {
     "name": "stdout",
     "output_type": "stream",
     "text": [
      "[[5.  2.  3.5 1. ]\n",
      " [6.5 3.  5.5 1.8]\n",
      " [6.7 3.3 5.7 2.5]]\n",
      "[[3.5 1. ]\n",
      " [5.5 1.8]\n",
      " [5.7 2.5]]\n",
      "['petal length (cm)' 'petal width (cm)']\n"
     ]
    }
   ],
   "source": [
    "from sklearn.feature_selection import SelectFromModel\n",
    "sfm=SelectFromModel(estimator=forest,threshold=0.15,prefit=True)\n",
    "print(X_train[:3])\n",
    "X_selected=sfm.transform(X_train)\n",
    "print(X_selected[:3])\n",
    "\n",
    "mask=sfm.get_support()\n",
    "print(feat_labels[mask])"
   ]
  },
  {
   "cell_type": "markdown",
   "metadata": {},
   "source": [
    "## @ from sklearn.neighbors import KNeighborsClassifier\n",
    "### knn=KNeighborsClassifer(n_neightbors=5,p=2,metric='minkowski')\n",
    "K近傍法(k-nearest-neighbor) n_negibors分類したいサンプルの最近傍のデータ数 k(デフォルトは5)、pはminkowski距離を用いる場合の次元を表す。  \n",
    "p=2でユークリッド距離に対応する  \n",
    "minkowski距離はユークリッド距離とマンハッタン距離を一般化した距離指標  \n",
    "k-nearest-neighborは訓練データの中から分類したいデータ点に最も近いk個のサンプルを見つけ出し、k個の最近傍の多数決で決まる。  \n",
    "そのため、データを保存しておく必要があり、メモリ問題が起きる場合がある。"
   ]
  },
  {
   "cell_type": "code",
   "execution_count": 108,
   "metadata": {},
   "outputs": [
    {
     "name": "stderr",
     "output_type": "stream",
     "text": [
      "'c' argument looks like a single numeric RGB or RGBA sequence, which should be avoided as value-mapping will have precedence in case its length matches with 'x' & 'y'.  Please use a 2-D array with a single row if you really want to specify the same RGB or RGBA value for all points.\n",
      "'c' argument looks like a single numeric RGB or RGBA sequence, which should be avoided as value-mapping will have precedence in case its length matches with 'x' & 'y'.  Please use a 2-D array with a single row if you really want to specify the same RGB or RGBA value for all points.\n",
      "'c' argument looks like a single numeric RGB or RGBA sequence, which should be avoided as value-mapping will have precedence in case its length matches with 'x' & 'y'.  Please use a 2-D array with a single row if you really want to specify the same RGB or RGBA value for all points.\n"
     ]
    },
    {
     "data": {
      "image/png": "[encoded data removed]",
      "text/plain": [
       "<Figure size 432x288 with 1 Axes>"
      ]
     },
     "metadata": {
      "needs_background": "light"
     },
     "output_type": "display_data"
    },
    {
     "name": "stdout",
     "output_type": "stream",
     "text": [
      "test accuracy 0.80\n"
     ]
    }
   ],
   "source": [
    "from sklearn.neighbors import KNeighborsClassifier\n",
    "knn=KNeighborsClassifier(n_neighbors=5,p=2,metric='minkowski')\n",
    "knn.fit(X_train_std[:,[1,3]],y_train)\n",
    "plot_decision_regions(X_train_std[:,[1,3]],y_train,classifier=knn)\n",
    "plt.show()\n",
    "print(\"test accuracy %.2f\" %knn.score(X_test_std[:,[1,3]],y_test))"
   ]
  },
  {
   "cell_type": "markdown",
   "metadata": {},
   "source": [
    "# 次元削減"
   ]
  },
  {
   "cell_type": "markdown",
   "metadata": {},
   "source": [
    "## @ from sklearn.decomposition import PCA\n",
    "### pca=PCA(n_components=2)  pca.fit(X_train_std)  \n",
    "### pca.transform(X_train_std) pca.transform(X_test_std)\n",
    "PCAを超簡単に行なうクラス。n_componentsに選択する特徴量の数を指定。Noneにすると、pca.explained_variance_ratio_ですべての固有値の分散説明率にアクセスできる。\n",
    "### PCAでは必ず標準化させたデータを用いる"
   ]
  },
  {
   "cell_type": "code",
   "execution_count": 58,
   "metadata": {},
   "outputs": [
    {
     "name": "stderr",
     "output_type": "stream",
     "text": [
      "'c' argument looks like a single numeric RGB or RGBA sequence, which should be avoided as value-mapping will have precedence in case its length matches with 'x' & 'y'.  Please use a 2-D array with a single row if you really want to specify the same RGB or RGBA value for all points.\n"
     ]
    },
    {
     "name": "stdout",
     "output_type": "stream",
     "text": [
      "std before: 2       3.598618\n",
      "3       4.190476\n",
      "4      24.769334\n",
      "5     366.558262\n",
      "6       0.013916\n",
      "7       0.051031\n",
      "8       0.078154\n",
      "9       0.039216\n",
      "10      0.028057\n",
      "11      0.006861\n",
      "12      0.293965\n",
      "13      0.551973\n",
      "14      2.109921\n",
      "15     49.830675\n",
      "16      0.002861\n",
      "17      0.016835\n",
      "18      0.028576\n",
      "19      0.005862\n",
      "20      0.008181\n",
      "21      0.002638\n",
      "22      4.965170\n",
      "23      6.147466\n",
      "24     34.460647\n",
      "25    597.853882\n",
      "26      0.022989\n",
      "27      0.153653\n",
      "28      0.193250\n",
      "29      0.065688\n",
      "30      0.063439\n",
      "31      0.017957\n",
      "dtype: float64\n",
      "std after: 1.0\n",
      "pca before: (398, 30)\n",
      "pca after: (398, 2)\n"
     ]
    },
    {
     "name": "stderr",
     "output_type": "stream",
     "text": [
      "'c' argument looks like a single numeric RGB or RGBA sequence, which should be avoided as value-mapping will have precedence in case its length matches with 'x' & 'y'.  Please use a 2-D array with a single row if you really want to specify the same RGB or RGBA value for all points.\n"
     ]
    },
    {
     "data": {
      "image/png": "[encoded data removed]",
      "text/plain": [
       "<Figure size 432x288 with 1 Axes>"
      ]
     },
     "metadata": {
      "needs_background": "light"
     },
     "output_type": "display_data"
    },
    {
     "name": "stdout",
     "output_type": "stream",
     "text": [
      "train accuracy with pca:0.96\n",
      "test accuracy with pca:0.94\n",
      "train accuracy with std:0.99\n",
      "test accuracy with std:0.98\n"
     ]
    },
    {
     "data": {
      "text/plain": [
       "array([4.36893153e-01, 1.94151626e-01, 9.66154484e-02, 6.71661075e-02,\n",
       "       5.49883033e-02, 4.01225718e-02, 2.18306816e-02, 1.48922601e-02,\n",
       "       1.37410827e-02, 1.10137130e-02, 1.04826288e-02, 9.16214247e-03,\n",
       "       7.66306051e-03, 5.14226331e-03, 3.19635178e-03, 2.51968451e-03,\n",
       "       1.92415148e-03, 1.65844223e-03, 1.49026749e-03, 1.06777316e-03,\n",
       "       1.01725216e-03, 8.48954816e-04, 7.43492725e-04, 5.81295611e-04,\n",
       "       5.44222785e-04, 2.53545469e-04, 2.14385701e-04, 4.62967124e-05,\n",
       "       2.51158320e-05, 3.72534805e-06])"
      ]
     },
     "execution_count": 58,
     "metadata": {},
     "output_type": "execute_result"
    }
   ],
   "source": [
    "from sklearn.decomposition import PCA\n",
    "from sklearn.preprocessing import StandardScaler\n",
    "\n",
    "# 必ずPCAにかけるデータは標準化させる\n",
    "print(\"std before:\",X_train.std())\n",
    "sc=StandardScaler()\n",
    "X_train_std=sc.fit_transform(X_train)\n",
    "X_test_std=sc.transform(X_test)\n",
    "print(\"std after:\",X_train_std.std())\n",
    "\n",
    "print(\"pca before:\",X_train_std.shape)\n",
    "pca=PCA(n_components=2)\n",
    "X_train_pca=pca.fit_transform(X_train_std)\n",
    "X_test_pca=pca.transform(X_test_std)\n",
    "print(\"pca after:\",X_train_pca.shape)\n",
    "\n",
    "# ロジスティック回帰で試してみる\n",
    "from sklearn.linear_model import LogisticRegression\n",
    "lr=LogisticRegression()\n",
    "lr.fit(X_train_pca,y_train)\n",
    "plot_decision_regions(X_train_pca,y_train,classifier=lr)\n",
    "plt.show()\n",
    "\n",
    "#　PCAで過学習は収まったが、テストデータの正解率はむしろ悪くなった..\n",
    "print(\"train accuracy with pca:%.2f\" % lr.score(X_train_pca,y_train))\n",
    "print(\"test accuracy with pca:%.2f\" % lr.score(X_test_pca,y_test))\n",
    "\n",
    "lr.fit(X_train_std,y_train)\n",
    "print(\"train accuracy with std:%.2f\" % lr.score(X_train_std,y_train))\n",
    "print(\"test accuracy with std:%.2f\" % lr.score(X_test_std,y_test))\n",
    "\n",
    "pca=PCA(n_components=None)\n",
    "pca.fit(X_train_std)\n",
    "pca.explained_variance_ratio_"
   ]
  },
  {
   "cell_type": "markdown",
   "metadata": {},
   "source": [
    "## @ from sklearn.discriminant_analysis import LinearDiscriminantAnalysis as LDA\n",
    "### lda=LDA(n_components=2)  X_train_lda=lda.fit_transform(X_train_std,y_train)\n",
    "次元削減のLDAを簡単に実装。前提条件が  \n",
    "・データが正規分布に従う  \n",
    "・クラスの共分散行列が全く同じ  \n",
    "・特徴量が統計的に互いに独立していること  \n",
    "なので、使用するには制約が厳しい.満たしてなくても、うまくいくらしい  "
   ]
  },
  {
   "cell_type": "code",
   "execution_count": 71,
   "metadata": {},
   "outputs": [
    {
     "name": "stdout",
     "output_type": "stream",
     "text": [
      "lda before: (105, 4)\n",
      "lda after: (105, 2)\n",
      "train accuracy with lda:0.94\n",
      "test accuracy with lda:0.84\n",
      "train accuracy:0.94\n",
      "test accuracy:0.89\n"
     ]
    }
   ],
   "source": [
    "from sklearn.discriminant_analysis import LinearDiscriminantAnalysis as LDA\n",
    "lda=LDA(n_components=2)\n",
    "X_train_lda=lda.fit_transform(X_train_std,y_train)\n",
    "X_test_lda=lda.transform(X_test_std)\n",
    "print(\"lda before:\",X_train.shape)\n",
    "print(\"lda after:\",X_train_lda.shape)\n",
    "\n",
    "from sklearn.linear_model import LogisticRegression\n",
    "lr=LogisticRegression()\n",
    "lr.fit(X_train_lda,y_train)\n",
    "\n",
    "#　PCAに比べると精度は上がる。\n",
    "print(\"train accuracy with lda:%.2f\" % lr.score(X_train_lda,y_train))\n",
    "print(\"test accuracy with lda:%.2f\" % lr.score(X_test_lda,y_test))\n",
    "\n",
    "lr.fit(X_train,y_train)\n",
    "print(\"train accuracy:%.2f\" % lr.score(X_train,y_train))\n",
    "print(\"test accuracy:%.2f\" % lr.score(X_test,y_test))\n"
   ]
  },
  {
   "cell_type": "markdown",
   "metadata": {},
   "source": [
    "## @ from sklearn.decomposition import KernelPCA\n",
    "### kpca=KernelPCA(n_components=2,kernel='rbf',gamma=15)\n",
    "kernel PCAでの次元削減を非常に簡単に使える。kernelは2'linear''poly''rbf''sigmoid''cosine''precomputed'  \n",
    "gammaはハイパーパラメータになるので、チューニングする必要がある。n_componentで返す特徴量の数"
   ]
  },
  {
   "cell_type": "code",
   "execution_count": 10,
   "metadata": {},
   "outputs": [
    {
     "data": {
      "image/png": "[encoded data removed]",
      "text/plain": [
       "<Figure size 504x216 with 2 Axes>"
      ]
     },
     "metadata": {
      "needs_background": "light"
     },
     "output_type": "display_data"
    },
    {
     "name": "stdout",
     "output_type": "stream",
     "text": [
      "train accuracy without pca:0.00\n",
      "test accuracy without pca:-0.01\n",
      "train accuracy with pca:0.88\n",
      "test accuracy with pca:0.87\n"
     ]
    }
   ],
   "source": [
    "# 線形分離不可能なデータセットを作成\n",
    "from sklearn.datasets import make_circles\n",
    "X,y=make_circles(n_samples=1000,random_state=123,noise=0.1,factor=0.2)\n",
    "\n",
    "from sklearn.decomposition import KernelPCA\n",
    "kpca=KernelPCA(n_components=2,kernel='rbf',gamma=15)\n",
    "X_kpca=kpca.fit_transform(X)\n",
    "\n",
    "fig,ax=plt.subplots(nrows=1,ncols=2,figsize=(7,3))\n",
    "ax[0].scatter(X[y==0,0],X[y==0,1],color='red',marker='^',alpha=0.5)\n",
    "ax[0].scatter(X[y==1,0],X[y==1,1],color='blue',marker='s',alpha=0.5)\n",
    "ax[1].scatter(X_kpca[y==0,0],X_kpca[y==0,1],color='red',marker='^',alpha=0.5)\n",
    "ax[1].scatter(X_kpca[y==1,0],X_kpca[y==1,1],color='blue',marker='s',alpha=0.5)\n",
    "plt.show()\n",
    "\n",
    "# ロジスティクス回帰が非線形分離できない実験\n",
    "from sklearn.model_selection import train_test_split\n",
    "X_train,X_test,y_train,y_test=train_test_split(X,y,test_size=0.2,random_state=0)\n",
    "from sklearn.linear_model import LinearRegression\n",
    "lr=LinearRegression()\n",
    "lr.fit(X_train,y_train)\n",
    "print('train accuracy without pca:%.2f' % lr.score(X_train,y_train))\n",
    "print('test accuracy without pca:%.2f' % lr.score(X_test,y_test))\n",
    "\n",
    "X_train,X_test,y_train,y_test=train_test_split(X_kpca,y,test_size=0.2,random_state=0)\n",
    "lr.fit(X_train,y_train)\n",
    "print('train accuracy with pca:%.2f' % lr.score(X_train,y_train))\n",
    "print('test accuracy with pca:%.2f' % lr.score(X_test,y_test))"
   ]
  },
  {
   "cell_type": "markdown",
   "metadata": {},
   "source": [
    "# アンサンブル学習"
   ]
  },
  {
   "cell_type": "markdown",
   "metadata": {},
   "source": [
    "## スタッキング\n",
    "## @ from sklearn.ensemble import VotingClassifier\n",
    "### vclf=VotingClassifier(estimator=[('clf1',clf1),('clf2',clf2),('clf3',clf3)],voting='hard'\n",
    "アンサンブル学習器のインスタンスを作成し、通常の学習器と同じように扱える。estimatorに学習器の名前とインスタンスのリストを入れる。voting='hard'の場合は単純に多数決で最も多いラベルを正解にするという、シンプルなやり方。voting='soft'は各学習機の予測確率の和をとって、最大となるクラスを正解にするやり方。  \n",
    "VotingClasiffierをやれば単純に正解率が上がるかと言われると、微妙なので、グリッドサーチして一つの分類器の精度を高めて、後でダメ押しにやるのがよさそう"
   ]
  },
  {
   "cell_type": "code",
   "execution_count": 17,
   "metadata": {},
   "outputs": [
    {
     "name": "stdout",
     "output_type": "stream",
     "text": [
      "Accuracy:0.953 +/- 0.047 LogisticRegression\n",
      "Accuracy:0.887 +/- 0.071 SVM\n",
      "Accuracy:0.942 +/- 0.065 DecisionTreeClassifier\n",
      "Accuracy:0.965 +/- 0.057 KNeighborsClassifier\n",
      "Accuracy:0.954 +/- 0.060 VotingClassifier\n"
     ]
    }
   ],
   "source": [
    "from sklearn.linear_model import LogisticRegression\n",
    "from sklearn.svm import SVC\n",
    "from sklearn.tree import DecisionTreeClassifier\n",
    "from sklearn.neighbors import KNeighborsClassifier\n",
    "from sklearn.model_selection import cross_val_score\n",
    "from sklearn.preprocessing import StandardScaler\n",
    "\n",
    "sc=StandardScaler()\n",
    "X_train=sc.fit_transform(X_train)\n",
    "\n",
    "lr=LogisticRegression(penalty='l2',C=100,random_state=0)\n",
    "svm=SVC(kernel='rbf',C=100,gamma=10,random_state=0)\n",
    "tree=DecisionTreeClassifier(max_depth=10)\n",
    "knn=KNeighborsClassifier(n_neighbors=5,p=2,metric='minkowski')\n",
    "\n",
    "from sklearn.ensemble import VotingClassifier\n",
    "estimators=[('lr',lr),('svm',svm),('tree',tree),('knn',knn)]\n",
    "vclf=VotingClassifier(estimators=estimators,voting='hard')\n",
    "\n",
    "for clf,label in zip([lr,svm,tree,knn,vclf_hard,vclf],['LogisticRegression','SVM','DecisionTreeClassifier','KNeighborsClassifier',\n",
    "                                                            'VotingClassifier']):\n",
    "        scores=cross_val_score(estimator=clf,X=X_train,y=y_train,cv=10,scoring='accuracy')\n",
    "        print(\"Accuracy:%.3f +/- %.3f %s\" %(scores.mean(),scores.std(),label))\n",
    "\n"
   ]
  },
  {
   "cell_type": "code",
   "execution_count": null,
   "metadata": {},
   "outputs": [],
   "source": []
  },
  {
   "cell_type": "code",
   "execution_count": 53,
   "metadata": {},
   "outputs": [],
   "source": [
    "from matplotlib.colors import ListedColormap\n",
    "import matplotlib.pyplot as plt\n",
    "import numpy as np\n",
    "import warnings\n",
    "\n",
    "\n",
    "def versiontuple(v):\n",
    "    return tuple(map(int, (v.split(\".\"))))\n",
    "\n",
    "\n",
    "def plot_decision_regions(X, y, classifier, test_idx=None, resolution=0.02):\n",
    "\n",
    "    # setup marker generator and color map\n",
    "    markers = ('s', 'x', 'o', '^', 'v')\n",
    "    colors = ('red', 'blue', 'lightgreen', 'gray', 'cyan')\n",
    "    cmap = ListedColormap(colors[:len(np.unique(y))])\n",
    "\n",
    "    # plot the decision surface\n",
    "    x1_min, x1_max = X[:, 0].min() - 1, X[:, 0].max() + 1\n",
    "    x2_min, x2_max = X[:, 1].min() - 1, X[:, 1].max() + 1\n",
    "    xx1, xx2 = np.meshgrid(np.arange(x1_min, x1_max, resolution),\n",
    "                           np.arange(x2_min, x2_max, resolution))\n",
    "    Z = classifier.predict(np.array([xx1.ravel(), xx2.ravel()]).T)\n",
    "    Z = Z.reshape(xx1.shape)\n",
    "    plt.contourf(xx1, xx2, Z, alpha=0.4, cmap=cmap)\n",
    "    plt.xlim(xx1.min(), xx1.max())\n",
    "    plt.ylim(xx2.min(), xx2.max())\n",
    "\n",
    "    for idx, cl in enumerate(np.unique(y)):\n",
    "        plt.scatter(x=X[y == cl, 0], \n",
    "                    y=X[y == cl, 1],\n",
    "                    alpha=0.6, \n",
    "                    c=cmap(idx),\n",
    "                    edgecolor='black',\n",
    "                    marker=markers[idx], \n",
    "                    label=cl)\n",
    "\n",
    "    # highlight test samples\n",
    "    if test_idx:\n",
    "        # plot all samples\n",
    "        if not versiontuple(np.__version__) >= versiontuple('1.9.0'):\n",
    "            X_test, y_test = X[list(test_idx), :], y[list(test_idx)]\n",
    "            warnings.warn('Please update to NumPy 1.9.0 or newer')\n",
    "        else:\n",
    "            X_test, y_test = X[test_idx, :], y[test_idx]\n",
    "\n",
    "        plt.scatter(X_test[:, 0],\n",
    "                    X_test[:, 1],\n",
    "                    c='',\n",
    "                    alpha=1.0,\n",
    "                    edgecolor='black',\n",
    "                    linewidths=1,\n",
    "                    marker='o',\n",
    "                    s=55, label='test set')"
   ]
  },
  {
   "cell_type": "code",
   "execution_count": null,
   "metadata": {},
   "outputs": [],
   "source": []
  }
 ],
 "metadata": {
  "kernelspec": {
   "display_name": "Python 3",
   "language": "python",
   "name": "python3"
  },
  "language_info": {
   "codemirror_mode": {
    "name": "ipython",
    "version": 3
   },
   "file_extension": ".py",
   "mimetype": "text/x-python",
   "name": "python",
   "nbconvert_exporter": "python",
   "pygments_lexer": "ipython3",
   "version": "3.6.8"
  }
 },
 "nbformat": 4,
 "nbformat_minor": 2
}

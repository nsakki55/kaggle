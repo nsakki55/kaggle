{
 "cells": [
  {
   "cell_type": "markdown",
   "metadata": {},
   "source": [
    "# sklearn チートシート\n",
    "内容が多くなってしまったので、そろそろ分割せねば。。。"
   ]
  },
  {
   "cell_type": "code",
   "execution_count": 2,
   "metadata": {},
   "outputs": [],
   "source": [
    "import sklearn\n",
    "import warnings\n",
    "warnings.filterwarnings('ignore')\n",
    "import matplotlib.pyplot as plt\n",
    "%matplotlib inline\n",
    "import numpy as np\n",
    "import pandas as pd\n",
    "from IPython.display import display\n",
    "import seaborn as sns"
   ]
  },
  {
   "cell_type": "markdown",
   "metadata": {},
   "source": [
    "# データセットの準備"
   ]
  },
  {
   "cell_type": "markdown",
   "metadata": {},
   "source": [
    "## Irisデータ\n",
    "3クラス、4特徴量でお手頃"
   ]
  },
  {
   "cell_type": "code",
   "execution_count": 5,
   "metadata": {},
   "outputs": [],
   "source": [
    "from sklearn import datasets\n",
    "from sklearn.model_selection import train_test_split\n",
    "iris=datasets.load_iris()\n",
    "X=iris.data\n",
    "y=iris.target\n",
    "X_train,X_test,y_train,y_test=train_test_split(X,y,test_size=0.3,random_state=0)"
   ]
  },
  {
   "cell_type": "markdown",
   "metadata": {},
   "source": [
    "## Breast Cancer wisconsinのデータセット\n",
    "2クラス30特徴量"
   ]
  },
  {
   "cell_type": "code",
   "execution_count": 115,
   "metadata": {},
   "outputs": [
    {
     "name": "stdout",
     "output_type": "stream",
     "text": [
      "rows, columns: (569, 32)\n"
     ]
    },
    {
     "data": {
      "text/html": [
       "<div>\n",
       "<style scoped>\n",
       "    .dataframe tbody tr th:only-of-type {\n",
       "        vertical-align: middle;\n",
       "    }\n",
       "\n",
       "    .dataframe tbody tr th {\n",
       "        vertical-align: top;\n",
       "    }\n",
       "\n",
       "    .dataframe thead th {\n",
       "        text-align: right;\n",
       "    }\n",
       "</style>\n",
       "<table border=\"1\" class=\"dataframe\">\n",
       "  <thead>\n",
       "    <tr style=\"text-align: right;\">\n",
       "      <th></th>\n",
       "      <th>0</th>\n",
       "      <th>1</th>\n",
       "      <th>2</th>\n",
       "      <th>3</th>\n",
       "      <th>4</th>\n",
       "      <th>5</th>\n",
       "      <th>6</th>\n",
       "      <th>7</th>\n",
       "      <th>8</th>\n",
       "      <th>9</th>\n",
       "      <th>...</th>\n",
       "      <th>22</th>\n",
       "      <th>23</th>\n",
       "      <th>24</th>\n",
       "      <th>25</th>\n",
       "      <th>26</th>\n",
       "      <th>27</th>\n",
       "      <th>28</th>\n",
       "      <th>29</th>\n",
       "      <th>30</th>\n",
       "      <th>31</th>\n",
       "    </tr>\n",
       "  </thead>\n",
       "  <tbody>\n",
       "    <tr>\n",
       "      <th>0</th>\n",
       "      <td>842302</td>\n",
       "      <td>M</td>\n",
       "      <td>17.99</td>\n",
       "      <td>10.38</td>\n",
       "      <td>122.80</td>\n",
       "      <td>1001.0</td>\n",
       "      <td>0.11840</td>\n",
       "      <td>0.27760</td>\n",
       "      <td>0.3001</td>\n",
       "      <td>0.14710</td>\n",
       "      <td>...</td>\n",
       "      <td>25.38</td>\n",
       "      <td>17.33</td>\n",
       "      <td>184.60</td>\n",
       "      <td>2019.0</td>\n",
       "      <td>0.1622</td>\n",
       "      <td>0.6656</td>\n",
       "      <td>0.7119</td>\n",
       "      <td>0.2654</td>\n",
       "      <td>0.4601</td>\n",
       "      <td>0.11890</td>\n",
       "    </tr>\n",
       "    <tr>\n",
       "      <th>1</th>\n",
       "      <td>842517</td>\n",
       "      <td>M</td>\n",
       "      <td>20.57</td>\n",
       "      <td>17.77</td>\n",
       "      <td>132.90</td>\n",
       "      <td>1326.0</td>\n",
       "      <td>0.08474</td>\n",
       "      <td>0.07864</td>\n",
       "      <td>0.0869</td>\n",
       "      <td>0.07017</td>\n",
       "      <td>...</td>\n",
       "      <td>24.99</td>\n",
       "      <td>23.41</td>\n",
       "      <td>158.80</td>\n",
       "      <td>1956.0</td>\n",
       "      <td>0.1238</td>\n",
       "      <td>0.1866</td>\n",
       "      <td>0.2416</td>\n",
       "      <td>0.1860</td>\n",
       "      <td>0.2750</td>\n",
       "      <td>0.08902</td>\n",
       "    </tr>\n",
       "    <tr>\n",
       "      <th>2</th>\n",
       "      <td>84300903</td>\n",
       "      <td>M</td>\n",
       "      <td>19.69</td>\n",
       "      <td>21.25</td>\n",
       "      <td>130.00</td>\n",
       "      <td>1203.0</td>\n",
       "      <td>0.10960</td>\n",
       "      <td>0.15990</td>\n",
       "      <td>0.1974</td>\n",
       "      <td>0.12790</td>\n",
       "      <td>...</td>\n",
       "      <td>23.57</td>\n",
       "      <td>25.53</td>\n",
       "      <td>152.50</td>\n",
       "      <td>1709.0</td>\n",
       "      <td>0.1444</td>\n",
       "      <td>0.4245</td>\n",
       "      <td>0.4504</td>\n",
       "      <td>0.2430</td>\n",
       "      <td>0.3613</td>\n",
       "      <td>0.08758</td>\n",
       "    </tr>\n",
       "    <tr>\n",
       "      <th>3</th>\n",
       "      <td>84348301</td>\n",
       "      <td>M</td>\n",
       "      <td>11.42</td>\n",
       "      <td>20.38</td>\n",
       "      <td>77.58</td>\n",
       "      <td>386.1</td>\n",
       "      <td>0.14250</td>\n",
       "      <td>0.28390</td>\n",
       "      <td>0.2414</td>\n",
       "      <td>0.10520</td>\n",
       "      <td>...</td>\n",
       "      <td>14.91</td>\n",
       "      <td>26.50</td>\n",
       "      <td>98.87</td>\n",
       "      <td>567.7</td>\n",
       "      <td>0.2098</td>\n",
       "      <td>0.8663</td>\n",
       "      <td>0.6869</td>\n",
       "      <td>0.2575</td>\n",
       "      <td>0.6638</td>\n",
       "      <td>0.17300</td>\n",
       "    </tr>\n",
       "    <tr>\n",
       "      <th>4</th>\n",
       "      <td>84358402</td>\n",
       "      <td>M</td>\n",
       "      <td>20.29</td>\n",
       "      <td>14.34</td>\n",
       "      <td>135.10</td>\n",
       "      <td>1297.0</td>\n",
       "      <td>0.10030</td>\n",
       "      <td>0.13280</td>\n",
       "      <td>0.1980</td>\n",
       "      <td>0.10430</td>\n",
       "      <td>...</td>\n",
       "      <td>22.54</td>\n",
       "      <td>16.67</td>\n",
       "      <td>152.20</td>\n",
       "      <td>1575.0</td>\n",
       "      <td>0.1374</td>\n",
       "      <td>0.2050</td>\n",
       "      <td>0.4000</td>\n",
       "      <td>0.1625</td>\n",
       "      <td>0.2364</td>\n",
       "      <td>0.07678</td>\n",
       "    </tr>\n",
       "  </tbody>\n",
       "</table>\n",
       "<p>5 rows × 32 columns</p>\n",
       "</div>"
      ],
      "text/plain": [
       "         0  1      2      3       4       5        6        7       8   \\\n",
       "0    842302  M  17.99  10.38  122.80  1001.0  0.11840  0.27760  0.3001   \n",
       "1    842517  M  20.57  17.77  132.90  1326.0  0.08474  0.07864  0.0869   \n",
       "2  84300903  M  19.69  21.25  130.00  1203.0  0.10960  0.15990  0.1974   \n",
       "3  84348301  M  11.42  20.38   77.58   386.1  0.14250  0.28390  0.2414   \n",
       "4  84358402  M  20.29  14.34  135.10  1297.0  0.10030  0.13280  0.1980   \n",
       "\n",
       "        9   ...     22     23      24      25      26      27      28      29  \\\n",
       "0  0.14710  ...  25.38  17.33  184.60  2019.0  0.1622  0.6656  0.7119  0.2654   \n",
       "1  0.07017  ...  24.99  23.41  158.80  1956.0  0.1238  0.1866  0.2416  0.1860   \n",
       "2  0.12790  ...  23.57  25.53  152.50  1709.0  0.1444  0.4245  0.4504  0.2430   \n",
       "3  0.10520  ...  14.91  26.50   98.87   567.7  0.2098  0.8663  0.6869  0.2575   \n",
       "4  0.10430  ...  22.54  16.67  152.20  1575.0  0.1374  0.2050  0.4000  0.1625   \n",
       "\n",
       "       30       31  \n",
       "0  0.4601  0.11890  \n",
       "1  0.2750  0.08902  \n",
       "2  0.3613  0.08758  \n",
       "3  0.6638  0.17300  \n",
       "4  0.2364  0.07678  \n",
       "\n",
       "[5 rows x 32 columns]"
      ]
     },
     "execution_count": 115,
     "metadata": {},
     "output_type": "execute_result"
    }
   ],
   "source": [
    "import urllib\n",
    "try:\n",
    "    df = pd.read_csv('https://archive.ics.uci.edu/ml/machine-learning-databases'\n",
    "                     '/breast-cancer-wisconsin/wdbc.data', header=None)\n",
    "except urllib.error.URLError:\n",
    "    df = pd.read_csv('https://raw.githubusercontent.com/rasbt/'\n",
    "                     'python-machine-learning-book/master/code/'\n",
    "                     'datasets/wdbc/wdbc.data', header=None)\n",
    "print('rows, columns:', df.shape)\n",
    "\n",
    "from sklearn.preprocessing import LabelEncoder\n",
    "le=LabelEncoder()\n",
    "X=df.iloc[:,2:]\n",
    "y=df.iloc[:,1]\n",
    "y=le.fit_transform(y)\n",
    "\n",
    "from sklearn.model_selection import train_test_split\n",
    "X_train,X_test,y_train,y_test=train_test_split(X,y,test_size=0.3,random_state=0)\n",
    "df.head()"
   ]
  },
  {
   "cell_type": "markdown",
   "metadata": {},
   "source": [
    "## wine データセット\n",
    "3クラス 13特徴量"
   ]
  },
  {
   "cell_type": "code",
   "execution_count": 2,
   "metadata": {},
   "outputs": [
    {
     "name": "stdout",
     "output_type": "stream",
     "text": [
      "Class labels [1 2 3]\n"
     ]
    },
    {
     "data": {
      "text/html": [
       "<div>\n",
       "<style scoped>\n",
       "    .dataframe tbody tr th:only-of-type {\n",
       "        vertical-align: middle;\n",
       "    }\n",
       "\n",
       "    .dataframe tbody tr th {\n",
       "        vertical-align: top;\n",
       "    }\n",
       "\n",
       "    .dataframe thead th {\n",
       "        text-align: right;\n",
       "    }\n",
       "</style>\n",
       "<table border=\"1\" class=\"dataframe\">\n",
       "  <thead>\n",
       "    <tr style=\"text-align: right;\">\n",
       "      <th></th>\n",
       "      <th>Class label</th>\n",
       "      <th>Alcohol</th>\n",
       "      <th>Malic acid</th>\n",
       "      <th>Ash</th>\n",
       "      <th>Alcalinity of ash</th>\n",
       "      <th>Magnesium</th>\n",
       "      <th>Total phenols</th>\n",
       "      <th>Flavanoids</th>\n",
       "      <th>Nonflavanoid phenols</th>\n",
       "      <th>Proanthocyanins</th>\n",
       "      <th>Color intensity</th>\n",
       "      <th>Hue</th>\n",
       "      <th>OD280/OD315 of diluted wines</th>\n",
       "      <th>Proline</th>\n",
       "    </tr>\n",
       "  </thead>\n",
       "  <tbody>\n",
       "    <tr>\n",
       "      <th>0</th>\n",
       "      <td>1</td>\n",
       "      <td>14.23</td>\n",
       "      <td>1.71</td>\n",
       "      <td>2.43</td>\n",
       "      <td>15.6</td>\n",
       "      <td>127</td>\n",
       "      <td>2.80</td>\n",
       "      <td>3.06</td>\n",
       "      <td>0.28</td>\n",
       "      <td>2.29</td>\n",
       "      <td>5.64</td>\n",
       "      <td>1.04</td>\n",
       "      <td>3.92</td>\n",
       "      <td>1065</td>\n",
       "    </tr>\n",
       "    <tr>\n",
       "      <th>1</th>\n",
       "      <td>1</td>\n",
       "      <td>13.20</td>\n",
       "      <td>1.78</td>\n",
       "      <td>2.14</td>\n",
       "      <td>11.2</td>\n",
       "      <td>100</td>\n",
       "      <td>2.65</td>\n",
       "      <td>2.76</td>\n",
       "      <td>0.26</td>\n",
       "      <td>1.28</td>\n",
       "      <td>4.38</td>\n",
       "      <td>1.05</td>\n",
       "      <td>3.40</td>\n",
       "      <td>1050</td>\n",
       "    </tr>\n",
       "    <tr>\n",
       "      <th>2</th>\n",
       "      <td>1</td>\n",
       "      <td>13.16</td>\n",
       "      <td>2.36</td>\n",
       "      <td>2.67</td>\n",
       "      <td>18.6</td>\n",
       "      <td>101</td>\n",
       "      <td>2.80</td>\n",
       "      <td>3.24</td>\n",
       "      <td>0.30</td>\n",
       "      <td>2.81</td>\n",
       "      <td>5.68</td>\n",
       "      <td>1.03</td>\n",
       "      <td>3.17</td>\n",
       "      <td>1185</td>\n",
       "    </tr>\n",
       "    <tr>\n",
       "      <th>3</th>\n",
       "      <td>1</td>\n",
       "      <td>14.37</td>\n",
       "      <td>1.95</td>\n",
       "      <td>2.50</td>\n",
       "      <td>16.8</td>\n",
       "      <td>113</td>\n",
       "      <td>3.85</td>\n",
       "      <td>3.49</td>\n",
       "      <td>0.24</td>\n",
       "      <td>2.18</td>\n",
       "      <td>7.80</td>\n",
       "      <td>0.86</td>\n",
       "      <td>3.45</td>\n",
       "      <td>1480</td>\n",
       "    </tr>\n",
       "    <tr>\n",
       "      <th>4</th>\n",
       "      <td>1</td>\n",
       "      <td>13.24</td>\n",
       "      <td>2.59</td>\n",
       "      <td>2.87</td>\n",
       "      <td>21.0</td>\n",
       "      <td>118</td>\n",
       "      <td>2.80</td>\n",
       "      <td>2.69</td>\n",
       "      <td>0.39</td>\n",
       "      <td>1.82</td>\n",
       "      <td>4.32</td>\n",
       "      <td>1.04</td>\n",
       "      <td>2.93</td>\n",
       "      <td>735</td>\n",
       "    </tr>\n",
       "  </tbody>\n",
       "</table>\n",
       "</div>"
      ],
      "text/plain": [
       "   Class label  Alcohol  Malic acid   Ash  Alcalinity of ash  Magnesium  \\\n",
       "0            1    14.23        1.71  2.43               15.6        127   \n",
       "1            1    13.20        1.78  2.14               11.2        100   \n",
       "2            1    13.16        2.36  2.67               18.6        101   \n",
       "3            1    14.37        1.95  2.50               16.8        113   \n",
       "4            1    13.24        2.59  2.87               21.0        118   \n",
       "\n",
       "   Total phenols  Flavanoids  Nonflavanoid phenols  Proanthocyanins  \\\n",
       "0           2.80        3.06                  0.28             2.29   \n",
       "1           2.65        2.76                  0.26             1.28   \n",
       "2           2.80        3.24                  0.30             2.81   \n",
       "3           3.85        3.49                  0.24             2.18   \n",
       "4           2.80        2.69                  0.39             1.82   \n",
       "\n",
       "   Color intensity   Hue  OD280/OD315 of diluted wines  Proline  \n",
       "0             5.64  1.04                          3.92     1065  \n",
       "1             4.38  1.05                          3.40     1050  \n",
       "2             5.68  1.03                          3.17     1185  \n",
       "3             7.80  0.86                          3.45     1480  \n",
       "4             4.32  1.04                          2.93      735  "
      ]
     },
     "metadata": {},
     "output_type": "display_data"
    }
   ],
   "source": [
    "from sklearn.model_selection import train_test_split\n",
    "df = pd.read_csv('https://archive.ics.uci.edu/'\n",
    "                      'ml/machine-learning-databases/wine/wine.data',\n",
    "                      header=None)\n",
    "df.columns = ['Class label', 'Alcohol', 'Malic acid', 'Ash',\n",
    "                   'Alcalinity of ash', 'Magnesium', 'Total phenols',\n",
    "                   'Flavanoids', 'Nonflavanoid phenols', 'Proanthocyanins',\n",
    "                   'Color intensity', 'Hue', 'OD280/OD315 of diluted wines',\n",
    "                   'Proline']\n",
    "print('Class labels', np.unique(df['Class label']))\n",
    "display(df.head())\n",
    "X=df.iloc[:,1:]\n",
    "y=df['Class label']\n",
    "X_train,X_test,y_train,y_test=train_test_split(X,y,test_size=0.2,random_state=-0)"
   ]
  },
  {
   "cell_type": "markdown",
   "metadata": {},
   "source": [
    "## Boston Housingデータ\n",
    "回帰モデル、13特徴量"
   ]
  },
  {
   "cell_type": "code",
   "execution_count": 3,
   "metadata": {},
   "outputs": [
    {
     "data": {
      "text/html": [
       "<div>\n",
       "<style scoped>\n",
       "    .dataframe tbody tr th:only-of-type {\n",
       "        vertical-align: middle;\n",
       "    }\n",
       "\n",
       "    .dataframe tbody tr th {\n",
       "        vertical-align: top;\n",
       "    }\n",
       "\n",
       "    .dataframe thead th {\n",
       "        text-align: right;\n",
       "    }\n",
       "</style>\n",
       "<table border=\"1\" class=\"dataframe\">\n",
       "  <thead>\n",
       "    <tr style=\"text-align: right;\">\n",
       "      <th></th>\n",
       "      <th>CRIM</th>\n",
       "      <th>ZN</th>\n",
       "      <th>INDUS</th>\n",
       "      <th>CHAS</th>\n",
       "      <th>NOX</th>\n",
       "      <th>RM</th>\n",
       "      <th>AGE</th>\n",
       "      <th>DIS</th>\n",
       "      <th>RAD</th>\n",
       "      <th>TAX</th>\n",
       "      <th>PTRATIO</th>\n",
       "      <th>B</th>\n",
       "      <th>LSTAT</th>\n",
       "      <th>MEDV</th>\n",
       "    </tr>\n",
       "  </thead>\n",
       "  <tbody>\n",
       "    <tr>\n",
       "      <th>0</th>\n",
       "      <td>0.00632</td>\n",
       "      <td>18.0</td>\n",
       "      <td>2.31</td>\n",
       "      <td>0</td>\n",
       "      <td>0.538</td>\n",
       "      <td>6.575</td>\n",
       "      <td>65.2</td>\n",
       "      <td>4.0900</td>\n",
       "      <td>1</td>\n",
       "      <td>296.0</td>\n",
       "      <td>15.3</td>\n",
       "      <td>396.90</td>\n",
       "      <td>4.98</td>\n",
       "      <td>24.0</td>\n",
       "    </tr>\n",
       "    <tr>\n",
       "      <th>1</th>\n",
       "      <td>0.02731</td>\n",
       "      <td>0.0</td>\n",
       "      <td>7.07</td>\n",
       "      <td>0</td>\n",
       "      <td>0.469</td>\n",
       "      <td>6.421</td>\n",
       "      <td>78.9</td>\n",
       "      <td>4.9671</td>\n",
       "      <td>2</td>\n",
       "      <td>242.0</td>\n",
       "      <td>17.8</td>\n",
       "      <td>396.90</td>\n",
       "      <td>9.14</td>\n",
       "      <td>21.6</td>\n",
       "    </tr>\n",
       "    <tr>\n",
       "      <th>2</th>\n",
       "      <td>0.02729</td>\n",
       "      <td>0.0</td>\n",
       "      <td>7.07</td>\n",
       "      <td>0</td>\n",
       "      <td>0.469</td>\n",
       "      <td>7.185</td>\n",
       "      <td>61.1</td>\n",
       "      <td>4.9671</td>\n",
       "      <td>2</td>\n",
       "      <td>242.0</td>\n",
       "      <td>17.8</td>\n",
       "      <td>392.83</td>\n",
       "      <td>4.03</td>\n",
       "      <td>34.7</td>\n",
       "    </tr>\n",
       "    <tr>\n",
       "      <th>3</th>\n",
       "      <td>0.03237</td>\n",
       "      <td>0.0</td>\n",
       "      <td>2.18</td>\n",
       "      <td>0</td>\n",
       "      <td>0.458</td>\n",
       "      <td>6.998</td>\n",
       "      <td>45.8</td>\n",
       "      <td>6.0622</td>\n",
       "      <td>3</td>\n",
       "      <td>222.0</td>\n",
       "      <td>18.7</td>\n",
       "      <td>394.63</td>\n",
       "      <td>2.94</td>\n",
       "      <td>33.4</td>\n",
       "    </tr>\n",
       "    <tr>\n",
       "      <th>4</th>\n",
       "      <td>0.06905</td>\n",
       "      <td>0.0</td>\n",
       "      <td>2.18</td>\n",
       "      <td>0</td>\n",
       "      <td>0.458</td>\n",
       "      <td>7.147</td>\n",
       "      <td>54.2</td>\n",
       "      <td>6.0622</td>\n",
       "      <td>3</td>\n",
       "      <td>222.0</td>\n",
       "      <td>18.7</td>\n",
       "      <td>396.90</td>\n",
       "      <td>5.33</td>\n",
       "      <td>36.2</td>\n",
       "    </tr>\n",
       "  </tbody>\n",
       "</table>\n",
       "</div>"
      ],
      "text/plain": [
       "      CRIM    ZN  INDUS  CHAS    NOX     RM   AGE     DIS  RAD    TAX  \\\n",
       "0  0.00632  18.0   2.31     0  0.538  6.575  65.2  4.0900    1  296.0   \n",
       "1  0.02731   0.0   7.07     0  0.469  6.421  78.9  4.9671    2  242.0   \n",
       "2  0.02729   0.0   7.07     0  0.469  7.185  61.1  4.9671    2  242.0   \n",
       "3  0.03237   0.0   2.18     0  0.458  6.998  45.8  6.0622    3  222.0   \n",
       "4  0.06905   0.0   2.18     0  0.458  7.147  54.2  6.0622    3  222.0   \n",
       "\n",
       "   PTRATIO       B  LSTAT  MEDV  \n",
       "0     15.3  396.90   4.98  24.0  \n",
       "1     17.8  396.90   9.14  21.6  \n",
       "2     17.8  392.83   4.03  34.7  \n",
       "3     18.7  394.63   2.94  33.4  \n",
       "4     18.7  396.90   5.33  36.2  "
      ]
     },
     "metadata": {},
     "output_type": "display_data"
    }
   ],
   "source": [
    "from sklearn.model_selection import train_test_split\n",
    "df = pd.read_csv('https://archive.ics.uci.edu/ml/machine-learning-databases/'\n",
    "                 'housing/housing.data',\n",
    "                 header=None,\n",
    "                 sep='\\s+')\n",
    "df.columns = ['CRIM', 'ZN', 'INDUS', 'CHAS', \n",
    "              'NOX', 'RM', 'AGE', 'DIS', 'RAD', \n",
    "              'TAX', 'PTRATIO', 'B', 'LSTAT', 'MEDV']\n",
    "display(df.head())\n",
    "\n",
    "X=df.iloc[:,:df.shape[1]-1]\n",
    "y=df['MEDV']\n",
    "\n",
    "X_train,X_test,y_train,y_test=train_test_split(X,y,test_size=0.2,random_state=0)"
   ]
  },
  {
   "cell_type": "markdown",
   "metadata": {},
   "source": [
    "### 線形分離不可能\n",
    "2クラスなので物足りないかも"
   ]
  },
  {
   "cell_type": "code",
   "execution_count": 10,
   "metadata": {},
   "outputs": [
    {
     "data": {
      "image/png": "[encoded data removed]",
      "text/plain": [
       "<Figure size 432x288 with 1 Axes>"
      ]
     },
     "metadata": {
      "needs_background": "light"
     },
     "output_type": "display_data"
    }
   ],
   "source": [
    "# 線形分離不可能なデータセットを作成\n",
    "from sklearn.datasets import make_circles\n",
    "X,y=make_circles(n_samples=1000,random_state=123,noise=0.1,factor=0.2)\n",
    "X_train,X_test,y_train,y_test=train_test_split(X,y,test_size=0.3,random_state=0)\n",
    "\n",
    "plt.scatter(X[y==0,0],X[y==0,1],color='red',marker='^',alpha=0.5)\n",
    "plt.scatter(X[y==1,0],X[y==1,1],color='blue',marker='s',alpha=0.5)\n",
    "plt.show()"
   ]
  },
  {
   "cell_type": "markdown",
   "metadata": {},
   "source": [
    "### クラスタリング用データ"
   ]
  },
  {
   "cell_type": "code",
   "execution_count": 10,
   "metadata": {},
   "outputs": [
    {
     "data": {
      "image/png": "[encoded data removed]",
      "text/plain": [
       "<Figure size 432x288 with 1 Axes>"
      ]
     },
     "metadata": {
      "needs_background": "light"
     },
     "output_type": "display_data"
    }
   ],
   "source": [
    "from sklearn.datasets import make_blobs\n",
    "X,y=make_blobs(n_samples=150,n_features=2,centers=3,cluster_std=0.5,shuffle=True,random_state=0)\n",
    "plt.scatter(X[:,0],X[:,1],c='lightgreen',marker='o',s=50)\n",
    "plt.grid()\n",
    "plt.show()"
   ]
  },
  {
   "cell_type": "markdown",
   "metadata": {},
   "source": [
    "## @ from sklearn import datasets\n",
    "### iris=datasets.load_iris()        data=iris.data label=iris.target\n",
    "有名なデータセットのダウンロードをできる。特徴量はdata　正解ラベルはtargetでアクセスできる"
   ]
  },
  {
   "cell_type": "code",
   "execution_count": 26,
   "metadata": {},
   "outputs": [
    {
     "name": "stdout",
     "output_type": "stream",
     "text": [
      "[[5.1 3.5 1.4 0.2]\n",
      " [4.9 3.  1.4 0.2]\n",
      " [4.7 3.2 1.3 0.2]\n",
      " [4.6 3.1 1.5 0.2]\n",
      " [5.  3.6 1.4 0.2]]\n",
      "[0 0 0 0 0]\n",
      "[[5.1 3.5 1.4 0.2]\n",
      " [4.9 3.  1.4 0.2]\n",
      " [4.7 3.2 1.3 0.2]\n",
      " [4.6 3.1 1.5 0.2]\n",
      " [5.  3.6 1.4 0.2]]\n",
      "[0 0 0 0 0]\n"
     ]
    }
   ],
   "source": [
    "from sklearn import datasets\n",
    "iris=datasets.load_iris()\n",
    "print(iris.data[:5])\n",
    "print(iris.target[:5])\n",
    "print(iris['data'][:5])\n",
    "print(iris['target'][:5])"
   ]
  },
  {
   "cell_type": "markdown",
   "metadata": {},
   "source": [
    "## @ from sklearn.model_selection import train_test_split\n",
    "### X_train,X_test,y_train,y_test=train_test_split(X,y,test_size=0.3,random_state=0)\n",
    "学習データを訓練データとテストテストデータに分ける"
   ]
  },
  {
   "cell_type": "code",
   "execution_count": 39,
   "metadata": {},
   "outputs": [
    {
     "name": "stdout",
     "output_type": "stream",
     "text": [
      "(150, 4)\n",
      "(150,)\n",
      "(105, 4)\n",
      "(105,)\n"
     ]
    }
   ],
   "source": [
    "from sklearn.model_selection import train_test_split\n",
    "X=iris.data\n",
    "y=iris.target\n",
    "print(X.shape)\n",
    "print(y.shape)\n",
    "\n",
    "X_train,X_test,y_train,y_test=train_test_split(X,y,test_size=0.3,random_state=0)\n",
    "\n",
    "print(X_train.shape)\n",
    "print(y_train.shape)"
   ]
  },
  {
   "cell_type": "markdown",
   "metadata": {},
   "source": [
    "## @ from sklearn.preprocessing import StandardScaler\n",
    "### sc=StandardScaler()  X_std=sc.fit_transform(X)  X=sc.inverse_transform(X_std)\n",
    "データを標準化する。 fit(X) transform(X)をfit_transorm(X)だけでかける。  \n",
    "回帰問題の時は標準化された出力を標準化される前の値に戻す必要がある。その場合はinverse_transformで簡単に戻すことができる\n",
    "fit(X_train)で訓練データの平均と標準偏差をもとめ、transfrom(X_train),transform(X_test)で求めた訓練データの平均と標準偏差から標準化する。テストデータにも同じように用いるのは、訓練データとテストデータを相対比較するため。\n"
   ]
  },
  {
   "cell_type": "code",
   "execution_count": 37,
   "metadata": {},
   "outputs": [
    {
     "name": "stdout",
     "output_type": "stream",
     "text": [
      "3.6795963101862333e-16\n",
      "0.9999999999999999\n",
      "-0.08700211457774676\n",
      "0.9071408118354307\n"
     ]
    }
   ],
   "source": [
    "from sklearn.preprocessing import StandardScaler\n",
    "sc=StandardScaler()\n",
    "sc.fit(X_train)\n",
    "X_train_std=sc.transform(X_train)\n",
    "\n",
    "X_test_std=sc.transform(X_test)\n",
    "\n",
    "print(X_train_std.mean())\n",
    "print(X_train_std.std())\n",
    "\n",
    "print(X_test_std.mean())\n",
    "print(X_test_std.std())"
   ]
  },
  {
   "cell_type": "markdown",
   "metadata": {},
   "source": [
    "## @ from sklearn.preprocessing import MinMaxScaler\n",
    "### mms=MinMaxScaler()   X_train_mms=mms.fit_transform(X_train)\n",
    "[0,1]の間に特徴量を収める正規化。標準化はStandardScalerなので注意する\n",
    "※from sklearn.preprcessing import StandarScaler"
   ]
  },
  {
   "cell_type": "code",
   "execution_count": 16,
   "metadata": {},
   "outputs": [
    {
     "name": "stdout",
     "output_type": "stream",
     "text": [
      "0.6737161196095734 -0.6536123690043776\n",
      "1.0 0.0\n"
     ]
    }
   ],
   "source": [
    "from sklearn.preprocessing import MinMaxScaler\n",
    "print(X_train.max(),X_train.min())\n",
    "mms=MinMaxScaler()\n",
    "X_train_mms=mms.fit_transform(X_train)\n",
    "print(X_train_mms.max(),X_train_mms.min())"
   ]
  },
  {
   "cell_type": "markdown",
   "metadata": {},
   "source": [
    "## @ from sklearn.preprcessing import Imputer\n",
    "### imr=Imputer(missing_value='NaN',strategy='mean',axis=1)\n",
    "### imputed_data=imr.fit_transform(df.values)\n",
    "欠損値補完。pandas のdf.fillna(df.mean())に対応する\n",
    "strategyはmedian,mean,most_frequent"
   ]
  },
  {
   "cell_type": "markdown",
   "metadata": {},
   "source": [
    "## @ from skleran.preprocessing import LabelEncoder\n",
    "### le=LabelEncoder()\n",
    "### y=le.fit_transform(df['classlabel'].values)\n",
    "カテゴリ特徴量を数字データに変換。正解クラスを数値化するのに便利。  \n",
    "順序特徴量の場合は、特徴量に大小関係がない場合は、不要な大小関係を与えてしまうのでone-hot エンコーディングを用いる"
   ]
  },
  {
   "cell_type": "code",
   "execution_count": 50,
   "metadata": {},
   "outputs": [
    {
     "name": "stdout",
     "output_type": "stream",
     "text": [
      "   color size  price classlabel\n",
      "0  green    M   10.1     class1\n",
      "1    red    L   13.5     class2\n",
      "2   blue   XL   15.3     class1\n",
      "   color  size  price  classlabel\n",
      "0      1     1   10.1           0\n",
      "1      2     0   13.5           1\n",
      "2      0     2   15.3           0\n"
     ]
    }
   ],
   "source": [
    "df = pd.DataFrame([['green', 'M', 10.1, 'class1'],\n",
    "                   ['red', 'L', 13.5, 'class2'],\n",
    "                   ['blue', 'XL', 15.3, 'class1']])\n",
    "df.columns = ['color', 'size', 'price', 'classlabel']\n",
    "print(df)\n",
    "\n",
    "from sklearn.preprocessing import LabelEncoder\n",
    "le=LabelEncoder()\n",
    "df['classlabel']=le.fit_transform(df['classlabel'])\n",
    "df['size']=le.fit_transform(df['size'])\n",
    "df['color']=le.fit_transform(df['color'])\n",
    "\n",
    "print(df)"
   ]
  },
  {
   "cell_type": "markdown",
   "metadata": {},
   "source": [
    "## @ from sklearn.preprocessing import  OneHotEncoder\n",
    "### ohe=OneHotEncoder(categorical_feature=[0])\n",
    "### ohe.fit_transform(X).toarray()\n",
    "OneHotエンコーディングを名義特徴量に対して行ってくれる。categorical_feaures=[0]でdummy変数を作る列を指定  \n",
    "変換するにはnumpy配列にしないといけないので注意。toarray()でnumpy配列にしないとインスタンスのままになる  \n",
    "変換する配列中に指定した列以外に文字変数が含まれるとエラーを吐くので注意"
   ]
  },
  {
   "cell_type": "code",
   "execution_count": 51,
   "metadata": {},
   "outputs": [
    {
     "data": {
      "text/plain": [
       "array([[ 0. ,  1. ,  0. ,  1. , 10.1],\n",
       "       [ 0. ,  0. ,  1. ,  0. , 13.5],\n",
       "       [ 1. ,  0. ,  0. ,  2. , 15.3]])"
      ]
     },
     "execution_count": 51,
     "metadata": {},
     "output_type": "execute_result"
    }
   ],
   "source": [
    "X=df[['color','size','price']].values\n",
    "from sklearn.preprocessing import OneHotEncoder\n",
    "ohe=OneHotEncoder(categorical_features=[0])\n",
    "ohe.fit_transform(X).toarray()"
   ]
  },
  {
   "cell_type": "markdown",
   "metadata": {},
   "source": [
    "### 参考　pandasでのdummy変数の作り方\n",
    "### pd.get_dummies(df)"
   ]
  },
  {
   "cell_type": "markdown",
   "metadata": {},
   "source": [
    "# 特徴量変換"
   ]
  },
  {
   "cell_type": "markdown",
   "metadata": {},
   "source": [
    "## 多項式特徴量\n",
    "## @ from sklearn.preprocessing import PolynomialFeatures\n",
    "### poly=PolynomialFeatures(degree=2)\n",
    "説明変数に多項式を入れる処理。2字曲線でフィッティングで来そうな場合などに用いる。回帰モデルは線形回帰モデルを用いる。  \n",
    "多項式を入れた場合、訓練データに適応しすぎる可能性が高くなる。また、導入コストが高いので、試しにやる感じのほうがよさそう"
   ]
  },
  {
   "cell_type": "code",
   "execution_count": 69,
   "metadata": {},
   "outputs": [
    {
     "data": {
      "image/png": "[encoded data removed]",
      "text/plain": [
       "<Figure size 432x288 with 1 Axes>"
      ]
     },
     "metadata": {},
     "output_type": "display_data"
    }
   ],
   "source": [
    "from sklearn.preprocessing import PolynomialFeatures\n",
    "poly=PolynomialFeatures(degree=2)\n",
    "# Boston Housingデータ\n",
    "X = X_train.loc[:, ['LSTAT']].values\n",
    "# 目的変数\n",
    "y = y_train.values\n",
    "# モデルのインスタンス生成\n",
    "from sklearn.linear_model import LinearRegression\n",
    "lr = LinearRegression()\n",
    "\n",
    "X_quad=poly.fit_transform(X)\n",
    "X_fit=np.arange(X.min(),X.max(),1)[:,np.newaxis]\n",
    "lr.fit(X_quad,y)\n",
    "y_pred=lr.predict(poly.fit_transform(X_fit))\n",
    "\n",
    "plt.scatter(X,y,color='lightgreen')\n",
    "plt.plot(X_fit,y_pred,color='red')\n",
    "plt.show()"
   ]
  },
  {
   "cell_type": "markdown",
   "metadata": {},
   "source": [
    "## PCA\n",
    "## @ from sklearn.decomposition import PCA\n",
    "### pca=PCA(n_components=2)  pca.fit(X_train_std)  \n",
    "### pca.transform(X_train_std) pca.transform(X_test_std)\n",
    "PCAを超簡単に行なうクラス。n_componentsに選択する特徴量の数を指定。Noneにすると、pca.explained_variance_ratio_ですべての固有値の分散説明率にアクセスできる。\n",
    "PCAの目的は高次元データにおいて分散が最大になる方向を見つけ出して、新しい部分空間に射影すること\n",
    "### PCAでは必ず標準化させたデータを用いる"
   ]
  },
  {
   "cell_type": "code",
   "execution_count": 24,
   "metadata": {},
   "outputs": [
    {
     "name": "stderr",
     "output_type": "stream",
     "text": [
      "'c' argument looks like a single numeric RGB or RGBA sequence, which should be avoided as value-mapping will have precedence in case its length matches with 'x' & 'y'.  Please use a 2-D array with a single row if you really want to specify the same RGB or RGBA value for all points.\n",
      "'c' argument looks like a single numeric RGB or RGBA sequence, which should be avoided as value-mapping will have precedence in case its length matches with 'x' & 'y'.  Please use a 2-D array with a single row if you really want to specify the same RGB or RGBA value for all points.\n",
      "'c' argument looks like a single numeric RGB or RGBA sequence, which should be avoided as value-mapping will have precedence in case its length matches with 'x' & 'y'.  Please use a 2-D array with a single row if you really want to specify the same RGB or RGBA value for all points.\n"
     ]
    },
    {
     "name": "stdout",
     "output_type": "stream",
     "text": [
      "std before: 1.9993565291393742\n",
      "std after: 0.9999999999999999\n",
      "pca before: (105, 4)\n",
      "pca after: (105, 2)\n"
     ]
    },
    {
     "data": {
      "image/png": "[encoded data removed]",
      "text/plain": [
       "<Figure size 432x288 with 1 Axes>"
      ]
     },
     "metadata": {
      "needs_background": "light"
     },
     "output_type": "display_data"
    },
    {
     "name": "stdout",
     "output_type": "stream",
     "text": [
      "train accuracy with pca:0.87\n",
      "test accuracy with pca:0.87\n",
      "train accuracy with std:0.92\n",
      "test accuracy with std:0.82\n"
     ]
    },
    {
     "data": {
      "text/plain": [
       "array([0.71806894, 0.24442204, 0.0333455 , 0.00416351])"
      ]
     },
     "execution_count": 24,
     "metadata": {},
     "output_type": "execute_result"
    }
   ],
   "source": [
    "from sklearn.decomposition import PCA\n",
    "from sklearn.preprocessing import StandardScaler\n",
    "\n",
    "# 必ずPCAにかけるデータは標準化させる\n",
    "print(\"std before:\",X_train.std())\n",
    "sc=StandardScaler()\n",
    "X_train_std=sc.fit_transform(X_train)\n",
    "X_test_std=sc.transform(X_test)\n",
    "print(\"std after:\",X_train_std.std())\n",
    "\n",
    "print(\"pca before:\",X_train_std.shape)\n",
    "pca=PCA(n_components=2)\n",
    "X_train_pca=pca.fit_transform(X_train_std)\n",
    "X_test_pca=pca.transform(X_test_std)\n",
    "print(\"pca after:\",X_train_pca.shape)\n",
    "\n",
    "# ロジスティック回帰で試してみる\n",
    "from sklearn.linear_model import LogisticRegression\n",
    "lr=LogisticRegression()\n",
    "lr.fit(X_train_pca,y_train)\n",
    "plot_decision_regions(X_train_pca,y_train,classifier=lr)\n",
    "plt.show()\n",
    "\n",
    "#　PCAで過学習は収まったが、テストデータの正解率はむしろ悪くなった..\n",
    "print(\"train accuracy with pca:%.2f\" % lr.score(X_train_pca,y_train))\n",
    "print(\"test accuracy with pca:%.2f\" % lr.score(X_test_pca,y_test))\n",
    "\n",
    "lr.fit(X_train_std,y_train)\n",
    "print(\"train accuracy with std:%.2f\" % lr.score(X_train_std,y_train))\n",
    "print(\"test accuracy with std:%.2f\" % lr.score(X_test_std,y_test))\n",
    "\n",
    "pca=PCA(n_components=None)\n",
    "pca.fit(X_train_std)\n",
    "pca.explained_variance_ratio_"
   ]
  },
  {
   "cell_type": "markdown",
   "metadata": {},
   "source": [
    "## LDA\n",
    "## @ from sklearn.discriminant_analysis import LinearDiscriminantAnalysis as LDA\n",
    "### lda=LDA(n_components=2)  X_train_lda=lda.fit_transform(X_train_std,y_train)\n",
    "次元削減のLDAを簡単に実装。前提条件が  \n",
    "・データが正規分布に従う  \n",
    "・クラスの共分散行列が全く同じ  \n",
    "・特徴量が統計的に互いに独立していること  \n",
    "なので、使用するには制約が厳しい.満たしてなくても、うまくいくらしい  "
   ]
  },
  {
   "cell_type": "code",
   "execution_count": 26,
   "metadata": {},
   "outputs": [
    {
     "name": "stdout",
     "output_type": "stream",
     "text": [
      "lda before: (105, 4)\n",
      "lda after: (105, 2)\n",
      "train accuracy with lda:0.94\n",
      "test accuracy with lda:0.84\n",
      "train accuracy:0.94\n",
      "test accuracy:0.89\n"
     ]
    }
   ],
   "source": [
    "from sklearn.discriminant_analysis import LinearDiscriminantAnalysis as LDA\n",
    "lda=LDA(n_components=2)\n",
    "X_train_lda=lda.fit_transform(X_train_std,y_train)\n",
    "X_test_lda=lda.transform(X_test_std)\n",
    "print(\"lda before:\",X_train.shape)\n",
    "print(\"lda after:\",X_train_lda.shape)\n",
    "\n",
    "from sklearn.linear_model import LogisticRegression\n",
    "lr=LogisticRegression()\n",
    "lr.fit(X_train_lda,y_train)\n",
    "\n",
    "#　PCAに比べると精度は上がる。\n",
    "print(\"train accuracy with lda:%.2f\" % lr.score(X_train_lda,y_train))\n",
    "print(\"test accuracy with lda:%.2f\" % lr.score(X_test_lda,y_test))\n",
    "\n",
    "lr.fit(X_train,y_train)\n",
    "print(\"train accuracy:%.2f\" % lr.score(X_train,y_train))\n",
    "print(\"test accuracy:%.2f\" % lr.score(X_test,y_test))\n"
   ]
  },
  {
   "cell_type": "markdown",
   "metadata": {},
   "source": [
    "## kernel PCA"
   ]
  },
  {
   "cell_type": "markdown",
   "metadata": {},
   "source": [
    "## @ from sklearn.decomposition import KernelPCA\n",
    "### kpca=KernelPCA(n_components=2,kernel='rbf',gamma=15)\n",
    "kernel PCAでの次元削減を非常に簡単に使える。kernelは2'linear''poly''rbf''sigmoid''cosine''precomputed'  \n",
    "gammaはハイパーパラメータになるので、チューニングする必要がある。n_componentで返す特徴量の数"
   ]
  },
  {
   "cell_type": "code",
   "execution_count": 27,
   "metadata": {},
   "outputs": [
    {
     "data": {
      "image/png": "[encoded data removed]",
      "text/plain": [
       "<Figure size 504x216 with 2 Axes>"
      ]
     },
     "metadata": {
      "needs_background": "light"
     },
     "output_type": "display_data"
    },
    {
     "name": "stdout",
     "output_type": "stream",
     "text": [
      "train accuracy without pca:0.00\n",
      "test accuracy without pca:-0.01\n",
      "train accuracy with pca:0.88\n",
      "test accuracy with pca:0.87\n"
     ]
    }
   ],
   "source": [
    "# 線形分離不可能なデータセットを作成\n",
    "from sklearn.datasets import make_circles\n",
    "X,y=make_circles(n_samples=1000,random_state=123,noise=0.1,factor=0.2)\n",
    "\n",
    "from sklearn.decomposition import KernelPCA\n",
    "kpca=KernelPCA(n_components=2,kernel='rbf',gamma=15)\n",
    "X_kpca=kpca.fit_transform(X)\n",
    "\n",
    "fig,ax=plt.subplots(nrows=1,ncols=2,figsize=(7,3))\n",
    "ax[0].scatter(X[y==0,0],X[y==0,1],color='red',marker='^',alpha=0.5)\n",
    "ax[0].scatter(X[y==1,0],X[y==1,1],color='blue',marker='s',alpha=0.5)\n",
    "ax[1].scatter(X_kpca[y==0,0],X_kpca[y==0,1],color='red',marker='^',alpha=0.5)\n",
    "ax[1].scatter(X_kpca[y==1,0],X_kpca[y==1,1],color='blue',marker='s',alpha=0.5)\n",
    "plt.show()\n",
    "\n",
    "# ロジスティクス回帰が非線形分離できない実験\n",
    "from sklearn.model_selection import train_test_split\n",
    "X_train,X_test,y_train,y_test=train_test_split(X,y,test_size=0.2,random_state=0)\n",
    "from sklearn.linear_model import LinearRegression\n",
    "lr=LinearRegression()\n",
    "lr.fit(X_train,y_train)\n",
    "print('train accuracy without pca:%.2f' % lr.score(X_train,y_train))\n",
    "print('test accuracy without pca:%.2f' % lr.score(X_test,y_test))\n",
    "\n",
    "X_train,X_test,y_train,y_test=train_test_split(X_kpca,y,test_size=0.2,random_state=0)\n",
    "lr.fit(X_train,y_train)\n",
    "print('train accuracy with pca:%.2f' % lr.score(X_train,y_train))\n",
    "print('test accuracy with pca:%.2f' % lr.score(X_test,y_test))"
   ]
  },
  {
   "cell_type": "markdown",
   "metadata": {},
   "source": [
    "## 単変量統計\n",
    "## @ from sklearn.feature_selection import SelectPercentile ,SelectKBest\n",
    "### sp=SelectiPercentile(percentile=50) sp.fit(X,y) X_sp=sp.transform(X)\n",
    "単変量統計は個々の特徴量（X）とターゲット(y)の間に統計的に顕著な関係があるかを計算し、最も確信度の高い特徴量が選択される。  \n",
    "クラス分類では分散分析(ANOVA)として知られる。ANOVAは単変量（個々の特徴量を個別に考慮）なので、他の特徴量と組み合わさり意味を持つ特徴量は捨てられる。モデルを構築する必要がないので、高速で、逆に言えばモデルのことを一切考慮に入れないという欠点でもある。  \n",
    "percentileで、何パーセントの特徴量を残すか選択する  \n",
    "SelectKBestは特徴量の数を選択する"
   ]
  },
  {
   "cell_type": "code",
   "execution_count": 65,
   "metadata": {},
   "outputs": [
    {
     "name": "stdout",
     "output_type": "stream",
     "text": [
      "before: (398, 30)\n",
      "after: (398, 21)\n",
      "[ 0  1  2  3  4  5  6  7  8  9 10 11 12 13 14 15 16 17 18 19 20 21 22 23\n",
      " 24 25 26 27 28 29 30 31]\n",
      "accuracy train:1.000, test:0.965 before sp:\n",
      "accuracy train:1.000, test:0.977 after sp:\n"
     ]
    }
   ],
   "source": [
    "from sklearn.feature_selection import SelectPercentile\n",
    "sp=SelectPercentile(percentile=70)\n",
    "## Breast Cancer wisconsinのデータセット\n",
    "sp.fit(X_train,y_train)\n",
    "X_train_sp=sp.transform(X_train)\n",
    "X_test_sp=sp.transform(X_test)\n",
    "\n",
    "print('before:',X_train.shape)\n",
    "print('after:',X_train_sp.shape)\n",
    "# 選択された特徴量のbool配列を返す\n",
    "mask=sp.get_support()\n",
    "print(df.loc[mask].columns.values)\n",
    "\n",
    "from sklearn.model_selection import GridSearchCV\n",
    "forest=RandomForestClassifier()\n",
    "grid_dict=[{'n_estimators':[100],'max_depth':[i for i in range(1,50)]}]\n",
    "forest_clf=GridSearchCV(estimator=forest,param_grid=grid_dict,scoring='accuracy',cv=5,n_jobs=-1)\n",
    "\n",
    "#  特徴量選択したら、精度が悪くなった。。この辺の原因はまだわからない\n",
    "forest_clf.fit(X_train,y_train)\n",
    "print('accuracy train:%.3f, test:%.3f before sp:' % (forest_clf.score(X_train,y_train),forest_clf.score(X_test,y_test)))\n",
    "forest_clf.fit(X_train_sp,y_train)\n",
    "print('accuracy train:%.3f, test:%.3f after sp:' % (forest_clf.score(X_train_sp,y_train),forest_clf.score(X_test_sp,y_test)))"
   ]
  },
  {
   "cell_type": "markdown",
   "metadata": {},
   "source": [
    "## モデルベース特徴量選択\n",
    "## # from sklearn.feature_selection import SelectionFromModel\n",
    "### sfm=SelectFromModel(RandomForestClassifier(n_estimator=100,random_state=0),threshold='median')\n",
    "### sfm.fit(X, y)  X_sfm=sfm.transform(X)\n",
    "教師ありモデルでの特徴量の重要性がしきい値 thresholdよりも大きい特徴量のみを選択する。  \n",
    "使用するモデルは特徴量の重要性を決定する方法を持つものでなければならない"
   ]
  },
  {
   "cell_type": "code",
   "execution_count": 62,
   "metadata": {},
   "outputs": [
    {
     "name": "stdout",
     "output_type": "stream",
     "text": [
      "before: (398, 30)\n",
      "after: (398, 15)\n",
      "accuracy train:1.000, test:0.965 before sfm:\n",
      "accuracy train:1.000, test:0.947 after sfm:\n"
     ]
    }
   ],
   "source": [
    "from sklearn.feature_selection import SelectFromModel\n",
    "from sklearn.ensemble import RandomForestClassifier\n",
    "sfm=SelectFromModel(RandomForestClassifier(n_estimators=100,random_state=0),threshold='median')\n",
    "## Breast Cancer wisconsinのデータセット\n",
    "sfm.fit(X_train,y_train)\n",
    "X_train_sfm=sfm.transform(X_train)\n",
    "X_test_sfm=sfm.transform(X_test)\n",
    "\n",
    "print('before:',X_train.shape)\n",
    "print('after:',X_train_sfm.shape)\n",
    "\n",
    "from sklearn.model_selection import GridSearchCV\n",
    "forest=RandomForestClassifier()\n",
    "grid_dict=[{'n_estimators':[100],'max_depth':[i for i in range(1,50)]}]\n",
    "forest_clf=GridSearchCV(estimator=forest,param_grid=grid_dict,scoring='accuracy',cv=5,n_jobs=-1)\n",
    "\n",
    "forest_clf.fit(X_train,y_train)\n",
    "print('accuracy train:%.3f, test:%.3f before sfm:' % (forest_clf.score(X_train,y_train),forest_clf.score(X_test,y_test)))\n",
    "forest_clf.fit(X_train_sfm,y_train)\n",
    "print('accuracy train:%.3f, test:%.3f after sfm:' % (forest_clf.score(X_train_sfm,y_train),forest_clf.score(X_test_sfm,y_test)))"
   ]
  },
  {
   "cell_type": "markdown",
   "metadata": {},
   "source": [
    "## 反復特徴量選択 (Recursive Feature Elimination : RFE)\n",
    "## @ from sklearn.feature_selection import RFE\n",
    "### rfe=RFE(RandomForestClassifier(n_estimators=100,random_state=0,n_feature_to_select=20))\n",
    "### rfe.fit(X, y)  X_rfe=rfe.transform(X)\n",
    "モデルベース選択の上位互換的な手法。すべての特徴量から開始してモデルを作り、最も重要度の低い特徴量を削除する。そしてまたモデルを作り、重要度の低い特徴量を削除するという操作を、定めた値になるまで(n_features_to_select)繰り返す。  \n",
    "何個もモデルを作ることになるので、計算コストが高いという致命的な欠点がある。精度の向上は最も見込まれる手法なので、余力があればやってもいいかも"
   ]
  },
  {
   "cell_type": "code",
   "execution_count": 67,
   "metadata": {},
   "outputs": [
    {
     "name": "stdout",
     "output_type": "stream",
     "text": [
      "accuracy train:1.000, test:0.965 before rfe:\n",
      "accuracy train:1.000, test:0.982 after rfe:\n"
     ]
    }
   ],
   "source": [
    "from sklearn.feature_selection import RFE\n",
    "from sklearn.ensemble import RandomForestClassifier\n",
    "rfe=RFE(RandomForestClassifier(n_estimators=100,random_state=0),n_features_to_select=20)\n",
    "## Breast Cancer wisconsinのデータセット\n",
    "rfe.fit(X_train,y_train)\n",
    "X_train_rfe=rfe.transform(X_train)\n",
    "X_test_rfe=rfe.transform(X_test)\n",
    "\n",
    "from sklearn.model_selection import GridSearchCV\n",
    "forest=RandomForestClassifier()\n",
    "grid_dict=[{'n_estimators':[100],'max_depth':[i for i in range(1,50)]}]\n",
    "forest_clf=GridSearchCV(estimator=forest,param_grid=grid_dict,scoring='accuracy',cv=5,n_jobs=-1)\n",
    "\n",
    "forest_clf.fit(X_train,y_train)\n",
    "print('accuracy train:%.3f, test:%.3f before rfe:' % (forest_clf.score(X_train,y_train),forest_clf.score(X_test,y_test)))\n",
    "forest_clf.fit(X_train_rfe,y_train)\n",
    "print('accuracy train:%.3f, test:%.3f after rfe:' % (forest_clf.score(X_train_rfe,y_train),forest_clf.score(X_test_rfe,y_test)))"
   ]
  },
  {
   "cell_type": "markdown",
   "metadata": {},
   "source": [
    "## @ from sklean.pipeline import Pipeline\n",
    "### pipe=Pipeline([('scl',StandardScaler()),('pca',PCA(n_components=2),('lr',LogisticRegression(random_state=1)))])\n",
    "### pipe.fit(X_train,y_train)\n",
    "特徴量スケーリング、次元削減、学習の一連の流れをひとまとめにする。パラメータのチューニングはできないっぽいので、試しに使うのがいいかも  \n",
    "pipe.fitでStandarScaler,PCAがfitとtransformメソッドを呼び出して、学習機にデータを渡してくれる。中身が謎なので少し気持ち悪い  \n",
    "pipe.predict(X_test),pipe.score(X_test)ではfit(X_train)で求めた平均と標準偏差を用いて、transform(X_test)をしている。X_testの平均と標準偏差をわざわざ求めていないので注意\n",
    "<img src=\"images/pipeline.png\" width=50%> "
   ]
  },
  {
   "cell_type": "code",
   "execution_count": 3,
   "metadata": {},
   "outputs": [
    {
     "data": {
      "text/plain": [
       "1.0"
      ]
     },
     "execution_count": 3,
     "metadata": {},
     "output_type": "execute_result"
    }
   ],
   "source": [
    "from sklearn.preprocessing import StandardScaler\n",
    "from sklearn.decomposition import PCA\n",
    "from sklearn.linear_model import LogisticRegression\n",
    "from sklearn.pipeline import Pipeline\n",
    "pipe=Pipeline([('sc',StandardScaler()),('pca',PCA()),('lr',LogisticRegression())])\n",
    "pipe.fit(X_train,y_train)\n",
    "pipe.score(X_test,y_test)"
   ]
  },
  {
   "cell_type": "markdown",
   "metadata": {},
   "source": [
    "## @ from sklearn.pipeline import make_pipeline\n",
    "### pipe=make_pipeline(StandardScaler(), PCA(), SVC(C=0.1)\n",
    "パイプラインの各ステップを明示的に名前を付けなくても、自動でクラス名の小文字で名前を付けてくれる。ありがたいような、分かりにくいだけのような。。。"
   ]
  },
  {
   "cell_type": "code",
   "execution_count": 6,
   "metadata": {},
   "outputs": [
    {
     "name": "stdout",
     "output_type": "stream",
     "text": [
      "{'pca__n_components': 4, 'svc__C': 1, 'svc__kernel': 'rbf'}\n"
     ]
    }
   ],
   "source": [
    "from sklearn.pipeline import make_pipeline\n",
    "from sklearn.preprocessing import StandardScaler\n",
    "from sklearn.svm import SVC\n",
    "from sklearn.model_selection import GridSearchCV\n",
    "pipe=pipe=make_pipeline(StandardScaler(), PCA(), SVC())\n",
    "param_grid = {\n",
    "    'pca__n_components': [2, 3, 4],\n",
    "    'svc__kernel' : ['linear','rbf'],\n",
    "    'svc__C' : [0.01,0.1,1]\n",
    "}\n",
    "\n",
    "model=GridSearchCV(estimator=pipe,param_grid=param_grid,cv=3)\n",
    "model.fit(X_train,y_train)\n",
    "print(model.best_params_)"
   ]
  },
  {
   "cell_type": "markdown",
   "metadata": {},
   "source": [
    "# クロスバリデーション(分割交差検証)"
   ]
  },
  {
   "cell_type": "markdown",
   "metadata": {},
   "source": [
    "<img src=\"images/holdout.png\" width=50%> "
   ]
  },
  {
   "cell_type": "markdown",
   "metadata": {},
   "source": [
    "## @ from sklearn.model_selection import KFold\n",
    "### kfold=KFold(n_splits=10,shuffle=True,random_state=0)\n",
    "### for train_id,test_id in kfold.split(X,y):\n",
    "基本のK分割交差検証　n_splitsで分割数を指定。デフォルトは3で、10がいい説がある。shuffleで分割するindex番号を連番にするか決められる   \n",
    "kfold.split(X,y)では分割したいデータ(普通は訓練データ)を入れて、訓練データと検証データのインデックス番号を変えすので注意。  \n",
    "XがDataFrame,yがnumpy配列の場合は取り扱い注意  \n",
    "k交差分割検証は非復元抽出(サンプルを取り出したら、戻さずに次のサンプルを取り出すこと)のため、すべてのデータセットを用いることになる。"
   ]
  },
  {
   "cell_type": "code",
   "execution_count": 45,
   "metadata": {},
   "outputs": [
    {
     "name": "stdout",
     "output_type": "stream",
     "text": [
      "CV validation accuracy:[0.975, 1.0, 0.975, 0.975, 0.975, 0.975, 1.0, 0.95, 1.0, 1.0]\n",
      "CV accuracy:0.982 +/- 0.016\n"
     ]
    }
   ],
   "source": [
    "from sklearn.model_selection import KFold\n",
    "kfold=KFold(n_splits=10,shuffle=True,random_state=0)\n",
    "\n",
    "scores=[]\n",
    "#Breast Cancer wisconsinのデータセット\n",
    "for train_id,test_id in kfold.split(X_train,y_train):\n",
    "    X_tr,X_val=X_train.iloc[train_id],X_train.iloc[test_id]\n",
    "    y_tr,y_val=y_train[train_id],y_train[test_id]\n",
    "    pipe.fit(X_tr,y_tr)\n",
    "    score=pipe.score(X_val,y_val)\n",
    "    scores.append(score)\n",
    "print('CV validation accuracy:%s'% scores)\n",
    "print('CV accuracy:%.3f +/- %.3f'% (np.mean(scores),np.std(scores)))"
   ]
  },
  {
   "cell_type": "markdown",
   "metadata": {},
   "source": [
    "## @ from sklearn.model_selection import StratifiedKFold\n",
    "### skfold=StratifiedKFold(n_splits=10,shuffle=True,random_state=0)\n",
    "### for train_id,test_id in skfold.split(X,y):\n",
    "層化k分割交差検証 各分割データセットに均等に各クラスが分配されるようにしたもの。単純なk分割交差検証より評価が良い。  \n",
    "使い方はKFoldと同じ"
   ]
  },
  {
   "cell_type": "markdown",
   "metadata": {},
   "source": [
    "## @ from sklearn.model_selection import ShuffleSplit\n",
    "## shuffle_split=ShuffleSplit(test_size=0.3,train_size=0.5,n_splits=10)\n",
    "ShuffleSplitはデータセットからtrain_size割合だけ訓練データを選び、test_size割合だけテストデータを選び学習する操作をn_splits回繰り返す。  \n",
    "train_sizとtest_sizeの和が1にならないようにすると、データセットの一部だけを用いることができ、データサイズが大きいときに非常に便利な役割を果たす。"
   ]
  },
  {
   "cell_type": "markdown",
   "metadata": {},
   "source": [
    "## @ from sklearn.model_selection import cross_val_score\n",
    "### scores=cross_val_score(estimator=svm,X=X_train,y=y_train,cv=kfold,n_jobs=-1)\n",
    "クロスバリデーションの計算を簡単に行ってくれる便利なクラス。estimatorに使いたい分類器。X,yに訓練データセットを入れる。  \n",
    "cvはデータの分割の方法(KFold,StratifiedKFoldなど)が入るがcv=10のように、整数値を入れると分類器の場合はデフォルトで層化k交差分割検証になり10分割する  返り値は各分割での検証データの正解率のリスト,n_jobでCPUの個数。n_job=-1ですべてのCPUで並列処理  \n",
    "回帰モデルの場合は、通常のk交差分割検証を使う。"
   ]
  },
  {
   "cell_type": "code",
   "execution_count": 9,
   "metadata": {},
   "outputs": [
    {
     "name": "stdout",
     "output_type": "stream",
     "text": [
      "CV validation accuracy:[0.975 1.    0.975 0.975 0.975 0.975 1.    0.95  1.    1.   ]\n",
      "CV accuracy:0.982 +/- 0.016\n"
     ]
    }
   ],
   "source": [
    "from sklearn.model_selection import cross_val_score\n",
    "from sklearn.model_selection import KFold\n",
    "\n",
    "kfold=KFold(n_splits=10,shuffle=True,random_state=0)\n",
    "scores=cross_val_score(estimator=pipe,X=X_train,y=y_train,cv=kfold,n_jobs=-1)\n",
    "print('CV validation accuracy:%s'% scores)\n",
    "print('CV accuracy:%.3f +/- %.3f'% (np.mean(scores),np.std(scores)))"
   ]
  },
  {
   "cell_type": "markdown",
   "metadata": {},
   "source": [
    "# 学習曲線"
   ]
  },
  {
   "cell_type": "markdown",
   "metadata": {},
   "source": [
    "## @ from sklearn.model_selection import learning_curve\n",
    "### train_size,train_scores,test_scores=learning_curve(estimator=model,X=X_train,y=y_train,train_sizes=np.linspace(0.1,1.0,10),cv=10,n_jobs=-1)\n",
    "訓練データ数に対する学習曲線を書くためのクラス。返り値は訓練データ数、訓練データの正解率、検証データの正解率。  \n",
    "estimatorに分類器のインスタンス を入れる(model.fitを内部で行うので、ただインスタンス作るだけでよい).  \n",
    "cvに交差分割検証の分割方法を入れる(kfold,statifiedKfold) 整数を入れると、デフォルトの層化k交差分割検証での分割数となる。  \n",
    "np.linspace(0.1,1.0,10)とすれば、データセットを10等分する"
   ]
  },
  {
   "cell_type": "code",
   "execution_count": 17,
   "metadata": {},
   "outputs": [
    {
     "data": {
      "image/png": "[encoded data removed]",
      "text/plain": [
       "<Figure size 432x288 with 1 Axes>"
      ]
     },
     "metadata": {
      "needs_background": "light"
     },
     "output_type": "display_data"
    }
   ],
   "source": [
    "from sklearn.model_selection import learning_curve\n",
    "# 学習器は標準化とPCAとLogisticRegressionをつなげたPipelineを使う。データはBreast Cancer\n",
    "train_size,train_scores,test_scores=learning_curve(estimator=pipe,X=X_train,y=y_train,train_sizes=np.linspace(0.1,1.0,10),cv=10,n_jobs=-1)\n",
    "train_mean=np.mean(train_scores,axis=1)\n",
    "test_mean=np.mean(test_scores,axis=1)\n",
    "plt.plot(train_size,train_mean,color='blue',marker='o',markersize=5,label='train accuracy')\n",
    "plt.plot(train_size,test_mean,color='green',marker='s',markersize=5,label='test accuracy')\n",
    "plt.grid()\n",
    "plt.xlabel('number of train datasets')\n",
    "plt.ylabel('accuracy')\n",
    "plt.legend()\n",
    "plt.show()"
   ]
  },
  {
   "cell_type": "markdown",
   "metadata": {},
   "source": [
    "## @ from sklearn.model_selection import validaton_curve\n",
    "### train_scores,test_scores=validation_curve(estimator=model,X=X_train,y=y_train,param_name='C',param_range=param_range,cv=10)\n",
    "分類器のハイパーパラメータに対する学習曲線を描くためのクラス。返り値は訓練データの正解率と検証データの正解率なので注意する  \n",
    "param_nameに分類器のハイパーパラメータの名前、param_rangeはパラメータの値を入れたリスト。cvに交差分割検証の方法。整数ならデフォルトの層化k交差分割検証の分割数になる。"
   ]
  },
  {
   "cell_type": "code",
   "execution_count": 22,
   "metadata": {},
   "outputs": [
    {
     "data": {
      "image/png": "[encoded data removed]",
      "text/plain": [
       "<Figure size 432x288 with 1 Axes>"
      ]
     },
     "metadata": {
      "needs_background": "light"
     },
     "output_type": "display_data"
    }
   ],
   "source": [
    "from sklearn.model_selection import validation_curve\n",
    "# データはBreast Cancer\n",
    "lr=LogisticRegression(penalty='l2',random_state=0)\n",
    "param_range=[10**i for i in range(-3,3)]\n",
    "train_scores,test_scores=validation_curve(estimator=lr,X=X_train,y=y_train,param_name='C',param_range=param_range,cv=10)\n",
    "train_mean=np.mean(train_scores,axis=1)\n",
    "test_mean=np.mean(test_scores,axis=1)\n",
    "plt.plot(param_range,train_mean,color='blue',marker='o',markersize=5,label='train accuracy')\n",
    "plt.plot(param_range,test_mean,color='green',marker='s',markersize=5,label='test accuracy')\n",
    "plt.grid()\n",
    "plt.xscale('log')\n",
    "plt.xlabel('Parameter C')\n",
    "plt.ylabel('Accuracy')\n",
    "plt.show()"
   ]
  },
  {
   "cell_type": "markdown",
   "metadata": {},
   "source": [
    "### メモ\n",
    "バリアンス：モデルのトレーニングを繰り返した場合に、モデルの予測の一貫性を測定するもの。  \n",
    "バリアンスが大きい＝モデルがトレーニングデータの選び方によって、予測結果がばらついてしまう状況を表す  \n",
    "バイアス：異なるトレーニングデータを用いて構築した複数のモデルによる予測の平均が真の値からどの程度離れいているかを表す指標\n",
    "バイアスが高い＝トレーニンデータに適応できていない状況を表す。  \n",
    "一般にバイアスとバリアンスはトレードオフの関係にある。  \n",
    "単純なモデルを用いたとき→バイアスが大きく、バリアンスが小さくなる。（学習不足に陥りやすい）  \n",
    "複雑なモデルを用いたとき→バイアスが小さく、バリアンスが大きくなる。（過学習になりやすい）"
   ]
  },
  {
   "cell_type": "markdown",
   "metadata": {},
   "source": [
    "## 過学習を回避するためには？\n",
    "・さらに多くのトレーニングデータセットを集める←難しい  \n",
    "・正則化を通じて、複雑さにペナルティを科す  \n",
    "・パラメータ数が少ない、単純なモデルを選択  \n",
    "・データの次元の数を減らす。"
   ]
  },
  {
   "cell_type": "markdown",
   "metadata": {},
   "source": [
    "## グリッドサーチ"
   ]
  },
  {
   "cell_type": "markdown",
   "metadata": {},
   "source": [
    "## @ from sklearn.model_selection import GridSearchCV\n",
    "### gs=GridSearchCV(estimator=model,param_grid=param_dict,scoring='accuracy',cv=10,n_jobs=-1)\n",
    "### gs=gs.fit(X_train,y_train) gs.best_params_ gs.best_estimator  gs.cv_results_\n",
    "ハイパーパラメータを見つけるグリッドサーチを簡単に実装。要点としては、パラメータをまとめた辞書配列を作らなければいけないこと。\n",
    "GridSeachCVのインスタンスを作ってから、学習を行う。ハイパーパラメータの評価は交差分割検証によって行われ、scoringの指標で決められる。何も指定しなければ、問題に適応した指標を使ってくれる\n",
    "best_paramsメソッドで最もいいパラメータの組み合わせ、best_estimator_で最もいいパラメータの組み合わせのモデルを返す。　cv_resultsで一覧を表示  \n",
    "#### データサイズが大きく、計算コストが高いときは交差分割検証cvにShuffleSplit, StratifiedShuffleSplitを用い、n_splits=1とするとよい"
   ]
  },
  {
   "cell_type": "code",
   "execution_count": 34,
   "metadata": {},
   "outputs": [
    {
     "name": "stdout",
     "output_type": "stream",
     "text": [
      "validation best accuracy:0.98\n"
     ]
    },
    {
     "data": {
      "text/html": [
       "<div>\n",
       "<style scoped>\n",
       "    .dataframe tbody tr th:only-of-type {\n",
       "        vertical-align: middle;\n",
       "    }\n",
       "\n",
       "    .dataframe tbody tr th {\n",
       "        vertical-align: top;\n",
       "    }\n",
       "\n",
       "    .dataframe thead th {\n",
       "        text-align: right;\n",
       "    }\n",
       "</style>\n",
       "<table border=\"1\" class=\"dataframe\">\n",
       "  <thead>\n",
       "    <tr style=\"text-align: right;\">\n",
       "      <th></th>\n",
       "      <th>mean_fit_time</th>\n",
       "      <th>std_fit_time</th>\n",
       "      <th>mean_score_time</th>\n",
       "      <th>std_score_time</th>\n",
       "      <th>param_svm__C</th>\n",
       "      <th>param_svm__kernel</th>\n",
       "      <th>param_svm__gamma</th>\n",
       "      <th>params</th>\n",
       "      <th>split0_test_score</th>\n",
       "      <th>split1_test_score</th>\n",
       "      <th>...</th>\n",
       "      <th>split3_test_score</th>\n",
       "      <th>split4_test_score</th>\n",
       "      <th>split5_test_score</th>\n",
       "      <th>split6_test_score</th>\n",
       "      <th>split7_test_score</th>\n",
       "      <th>split8_test_score</th>\n",
       "      <th>split9_test_score</th>\n",
       "      <th>mean_test_score</th>\n",
       "      <th>std_test_score</th>\n",
       "      <th>rank_test_score</th>\n",
       "    </tr>\n",
       "  </thead>\n",
       "  <tbody>\n",
       "    <tr>\n",
       "      <th>0</th>\n",
       "      <td>0.010576</td>\n",
       "      <td>0.002910</td>\n",
       "      <td>0.002695</td>\n",
       "      <td>0.000781</td>\n",
       "      <td>0.0001</td>\n",
       "      <td>linear</td>\n",
       "      <td>NaN</td>\n",
       "      <td>{'svm__C': 0.0001, 'svm__kernel': 'linear'}</td>\n",
       "      <td>0.625</td>\n",
       "      <td>0.625</td>\n",
       "      <td>...</td>\n",
       "      <td>0.625</td>\n",
       "      <td>0.650</td>\n",
       "      <td>0.625</td>\n",
       "      <td>0.625</td>\n",
       "      <td>0.650</td>\n",
       "      <td>0.625</td>\n",
       "      <td>0.631579</td>\n",
       "      <td>0.630653</td>\n",
       "      <td>0.009889</td>\n",
       "      <td>30</td>\n",
       "    </tr>\n",
       "    <tr>\n",
       "      <th>1</th>\n",
       "      <td>0.011363</td>\n",
       "      <td>0.003777</td>\n",
       "      <td>0.002599</td>\n",
       "      <td>0.001108</td>\n",
       "      <td>0.001</td>\n",
       "      <td>linear</td>\n",
       "      <td>NaN</td>\n",
       "      <td>{'svm__C': 0.001, 'svm__kernel': 'linear'}</td>\n",
       "      <td>0.900</td>\n",
       "      <td>0.975</td>\n",
       "      <td>...</td>\n",
       "      <td>0.900</td>\n",
       "      <td>0.975</td>\n",
       "      <td>0.850</td>\n",
       "      <td>0.950</td>\n",
       "      <td>0.950</td>\n",
       "      <td>0.925</td>\n",
       "      <td>0.921053</td>\n",
       "      <td>0.929648</td>\n",
       "      <td>0.036902</td>\n",
       "      <td>24</td>\n",
       "    </tr>\n",
       "    <tr>\n",
       "      <th>2</th>\n",
       "      <td>0.004285</td>\n",
       "      <td>0.000635</td>\n",
       "      <td>0.001200</td>\n",
       "      <td>0.000398</td>\n",
       "      <td>0.01</td>\n",
       "      <td>linear</td>\n",
       "      <td>NaN</td>\n",
       "      <td>{'svm__C': 0.01, 'svm__kernel': 'linear'}</td>\n",
       "      <td>0.925</td>\n",
       "      <td>0.975</td>\n",
       "      <td>...</td>\n",
       "      <td>0.925</td>\n",
       "      <td>0.975</td>\n",
       "      <td>0.950</td>\n",
       "      <td>0.975</td>\n",
       "      <td>0.975</td>\n",
       "      <td>0.950</td>\n",
       "      <td>1.000000</td>\n",
       "      <td>0.962312</td>\n",
       "      <td>0.022953</td>\n",
       "      <td>12</td>\n",
       "    </tr>\n",
       "  </tbody>\n",
       "</table>\n",
       "<p>3 rows × 21 columns</p>\n",
       "</div>"
      ],
      "text/plain": [
       "   mean_fit_time  std_fit_time  mean_score_time  std_score_time param_svm__C  \\\n",
       "0       0.010576      0.002910         0.002695        0.000781       0.0001   \n",
       "1       0.011363      0.003777         0.002599        0.001108        0.001   \n",
       "2       0.004285      0.000635         0.001200        0.000398         0.01   \n",
       "\n",
       "  param_svm__kernel param_svm__gamma  \\\n",
       "0            linear              NaN   \n",
       "1            linear              NaN   \n",
       "2            linear              NaN   \n",
       "\n",
       "                                        params  split0_test_score  \\\n",
       "0  {'svm__C': 0.0001, 'svm__kernel': 'linear'}              0.625   \n",
       "1   {'svm__C': 0.001, 'svm__kernel': 'linear'}              0.900   \n",
       "2    {'svm__C': 0.01, 'svm__kernel': 'linear'}              0.925   \n",
       "\n",
       "   split1_test_score  ...  split3_test_score  split4_test_score  \\\n",
       "0              0.625  ...              0.625              0.650   \n",
       "1              0.975  ...              0.900              0.975   \n",
       "2              0.975  ...              0.925              0.975   \n",
       "\n",
       "   split5_test_score  split6_test_score  split7_test_score  split8_test_score  \\\n",
       "0              0.625              0.625              0.650              0.625   \n",
       "1              0.850              0.950              0.950              0.925   \n",
       "2              0.950              0.975              0.975              0.950   \n",
       "\n",
       "   split9_test_score  mean_test_score  std_test_score  rank_test_score  \n",
       "0           0.631579         0.630653        0.009889               30  \n",
       "1           0.921053         0.929648        0.036902               24  \n",
       "2           1.000000         0.962312        0.022953               12  \n",
       "\n",
       "[3 rows x 21 columns]"
      ]
     },
     "metadata": {},
     "output_type": "display_data"
    },
    {
     "name": "stdout",
     "output_type": "stream",
     "text": [
      "test accuracy:0.97\n"
     ]
    }
   ],
   "source": [
    "from sklearn.model_selection import GridSearchCV\n",
    "from sklearn.svm import SVC\n",
    "\n",
    "pipe_svm=Pipeline([('sc',StandardScaler()),('svm',SVC(random_state=0))])\n",
    "param_range=[10**i for i in range(-4,4)]\n",
    "# ハイパーパラメータをまとめた辞書配列を作る。パラメータの部分は配列として入れる。pipelineの場合は識別機の名前__Cなどとしてアクセスする。\n",
    "#グリッドサーチで1番大切な箇所\n",
    "param_dict=[{'svm__C':param_range,'svm__kernel':['linear']},\n",
    "            {'svm__C':param_range,'svm__gamma':param_range,'svm__kernel':['rbf']}]\n",
    "# GridSeachCVのインスタンスを作成\n",
    "gs=GridSearchCV(estimator=pipe_svm,param_grid=param_dict,scoring='accuracy',cv=10,n_jobs=-1)\n",
    "# データはBreast Cancer\n",
    "gs=gs.fit(X_train,y_train)\n",
    "print('validation best accuracy:%.2f'% gs.best_score_)\n",
    "display(pd.DataFrame(gs.cv_results_).iloc[:3])\n",
    "model=gs.best_estimator_\n",
    "model.fit(X_train,y_train)\n",
    "print('test accuracy:%.2f' % model.score(X_test,y_test))\n"
   ]
  },
  {
   "cell_type": "markdown",
   "metadata": {},
   "source": [
    "## 実験　GridSearchに事前に標準化した訓練データを入れる場合と、pipelineで標準化の操作を渡す場合の性能の違い\n",
    "Pythonで始める機械学習6章いわく、GridSearchに標準化した訓練データをそのまま入れると、検証データの情報がリークするため、性能が変わってしまうとあったので、確かめてみる。  \n",
    "結果：変わった。やはりPipelineで訓練データと検証データを別々に標準化しないとよくないみたい。  \n",
    "本来、データのスケーリングの影響を受けないはずのランダムフォレストでも変わったのが気になる。きちんと調べる必要がある。"
   ]
  },
  {
   "cell_type": "code",
   "execution_count": 118,
   "metadata": {},
   "outputs": [
    {
     "name": "stdout",
     "output_type": "stream",
     "text": [
      "validation score: 0.9849246231155779\n",
      "best parameter: {'lr__C': 1}\n",
      "accuracy train:0.990, test:0.977 (pipe):\n"
     ]
    },
    {
     "data": {
      "text/html": [
       "<div>\n",
       "<style scoped>\n",
       "    .dataframe tbody tr th:only-of-type {\n",
       "        vertical-align: middle;\n",
       "    }\n",
       "\n",
       "    .dataframe tbody tr th {\n",
       "        vertical-align: top;\n",
       "    }\n",
       "\n",
       "    .dataframe thead th {\n",
       "        text-align: right;\n",
       "    }\n",
       "</style>\n",
       "<table border=\"1\" class=\"dataframe\">\n",
       "  <thead>\n",
       "    <tr style=\"text-align: right;\">\n",
       "      <th></th>\n",
       "      <th>mean_fit_time</th>\n",
       "      <th>std_fit_time</th>\n",
       "      <th>mean_score_time</th>\n",
       "      <th>std_score_time</th>\n",
       "      <th>param_lr__C</th>\n",
       "      <th>params</th>\n",
       "      <th>split0_test_score</th>\n",
       "      <th>split1_test_score</th>\n",
       "      <th>split2_test_score</th>\n",
       "      <th>split3_test_score</th>\n",
       "      <th>split4_test_score</th>\n",
       "      <th>split5_test_score</th>\n",
       "      <th>split6_test_score</th>\n",
       "      <th>split7_test_score</th>\n",
       "      <th>split8_test_score</th>\n",
       "      <th>split9_test_score</th>\n",
       "      <th>mean_test_score</th>\n",
       "      <th>std_test_score</th>\n",
       "      <th>rank_test_score</th>\n",
       "    </tr>\n",
       "  </thead>\n",
       "  <tbody>\n",
       "    <tr>\n",
       "      <th>0</th>\n",
       "      <td>0.012587</td>\n",
       "      <td>0.003453</td>\n",
       "      <td>0.003477</td>\n",
       "      <td>0.001100</td>\n",
       "      <td>0.01</td>\n",
       "      <td>{'lr__C': 0.01}</td>\n",
       "      <td>0.975</td>\n",
       "      <td>0.975</td>\n",
       "      <td>0.950</td>\n",
       "      <td>0.950</td>\n",
       "      <td>0.975</td>\n",
       "      <td>0.950</td>\n",
       "      <td>1.0</td>\n",
       "      <td>0.975</td>\n",
       "      <td>1.000</td>\n",
       "      <td>0.973684</td>\n",
       "      <td>0.972362</td>\n",
       "      <td>0.017529</td>\n",
       "      <td>4</td>\n",
       "    </tr>\n",
       "    <tr>\n",
       "      <th>1</th>\n",
       "      <td>0.013555</td>\n",
       "      <td>0.004810</td>\n",
       "      <td>0.003379</td>\n",
       "      <td>0.001205</td>\n",
       "      <td>0.1</td>\n",
       "      <td>{'lr__C': 0.1}</td>\n",
       "      <td>0.975</td>\n",
       "      <td>1.000</td>\n",
       "      <td>0.950</td>\n",
       "      <td>0.950</td>\n",
       "      <td>0.975</td>\n",
       "      <td>0.975</td>\n",
       "      <td>1.0</td>\n",
       "      <td>1.000</td>\n",
       "      <td>0.975</td>\n",
       "      <td>1.000000</td>\n",
       "      <td>0.979899</td>\n",
       "      <td>0.018701</td>\n",
       "      <td>2</td>\n",
       "    </tr>\n",
       "    <tr>\n",
       "      <th>2</th>\n",
       "      <td>0.013409</td>\n",
       "      <td>0.001104</td>\n",
       "      <td>0.003072</td>\n",
       "      <td>0.000765</td>\n",
       "      <td>1</td>\n",
       "      <td>{'lr__C': 1}</td>\n",
       "      <td>1.000</td>\n",
       "      <td>1.000</td>\n",
       "      <td>0.975</td>\n",
       "      <td>0.950</td>\n",
       "      <td>0.975</td>\n",
       "      <td>0.950</td>\n",
       "      <td>1.0</td>\n",
       "      <td>1.000</td>\n",
       "      <td>1.000</td>\n",
       "      <td>1.000000</td>\n",
       "      <td>0.984925</td>\n",
       "      <td>0.020022</td>\n",
       "      <td>1</td>\n",
       "    </tr>\n",
       "    <tr>\n",
       "      <th>3</th>\n",
       "      <td>0.013634</td>\n",
       "      <td>0.001273</td>\n",
       "      <td>0.003086</td>\n",
       "      <td>0.000558</td>\n",
       "      <td>10</td>\n",
       "      <td>{'lr__C': 10}</td>\n",
       "      <td>1.000</td>\n",
       "      <td>1.000</td>\n",
       "      <td>0.950</td>\n",
       "      <td>0.925</td>\n",
       "      <td>1.000</td>\n",
       "      <td>0.925</td>\n",
       "      <td>1.0</td>\n",
       "      <td>1.000</td>\n",
       "      <td>0.975</td>\n",
       "      <td>1.000000</td>\n",
       "      <td>0.977387</td>\n",
       "      <td>0.030551</td>\n",
       "      <td>3</td>\n",
       "    </tr>\n",
       "  </tbody>\n",
       "</table>\n",
       "</div>"
      ],
      "text/plain": [
       "   mean_fit_time  std_fit_time  mean_score_time  std_score_time param_lr__C  \\\n",
       "0       0.012587      0.003453         0.003477        0.001100        0.01   \n",
       "1       0.013555      0.004810         0.003379        0.001205         0.1   \n",
       "2       0.013409      0.001104         0.003072        0.000765           1   \n",
       "3       0.013634      0.001273         0.003086        0.000558          10   \n",
       "\n",
       "            params  split0_test_score  split1_test_score  split2_test_score  \\\n",
       "0  {'lr__C': 0.01}              0.975              0.975              0.950   \n",
       "1   {'lr__C': 0.1}              0.975              1.000              0.950   \n",
       "2     {'lr__C': 1}              1.000              1.000              0.975   \n",
       "3    {'lr__C': 10}              1.000              1.000              0.950   \n",
       "\n",
       "   split3_test_score  split4_test_score  split5_test_score  split6_test_score  \\\n",
       "0              0.950              0.975              0.950                1.0   \n",
       "1              0.950              0.975              0.975                1.0   \n",
       "2              0.950              0.975              0.950                1.0   \n",
       "3              0.925              1.000              0.925                1.0   \n",
       "\n",
       "   split7_test_score  split8_test_score  split9_test_score  mean_test_score  \\\n",
       "0              0.975              1.000           0.973684         0.972362   \n",
       "1              1.000              0.975           1.000000         0.979899   \n",
       "2              1.000              1.000           1.000000         0.984925   \n",
       "3              1.000              0.975           1.000000         0.977387   \n",
       "\n",
       "   std_test_score  rank_test_score  \n",
       "0        0.017529                4  \n",
       "1        0.018701                2  \n",
       "2        0.020022                1  \n",
       "3        0.030551                3  "
      ]
     },
     "metadata": {},
     "output_type": "display_data"
    },
    {
     "name": "stdout",
     "output_type": "stream",
     "text": [
      "validation score: 0.9798994974874372\n",
      "best parameter: {'lr__C': 1}\n",
      "accuracy train:0.982, test:0.977 (without pipe):\n"
     ]
    },
    {
     "data": {
      "text/html": [
       "<div>\n",
       "<style scoped>\n",
       "    .dataframe tbody tr th:only-of-type {\n",
       "        vertical-align: middle;\n",
       "    }\n",
       "\n",
       "    .dataframe tbody tr th {\n",
       "        vertical-align: top;\n",
       "    }\n",
       "\n",
       "    .dataframe thead th {\n",
       "        text-align: right;\n",
       "    }\n",
       "</style>\n",
       "<table border=\"1\" class=\"dataframe\">\n",
       "  <thead>\n",
       "    <tr style=\"text-align: right;\">\n",
       "      <th></th>\n",
       "      <th>mean_fit_time</th>\n",
       "      <th>std_fit_time</th>\n",
       "      <th>mean_score_time</th>\n",
       "      <th>std_score_time</th>\n",
       "      <th>param_C</th>\n",
       "      <th>params</th>\n",
       "      <th>split0_test_score</th>\n",
       "      <th>split1_test_score</th>\n",
       "      <th>split2_test_score</th>\n",
       "      <th>split3_test_score</th>\n",
       "      <th>split4_test_score</th>\n",
       "      <th>split5_test_score</th>\n",
       "      <th>split6_test_score</th>\n",
       "      <th>split7_test_score</th>\n",
       "      <th>split8_test_score</th>\n",
       "      <th>split9_test_score</th>\n",
       "      <th>mean_test_score</th>\n",
       "      <th>std_test_score</th>\n",
       "      <th>rank_test_score</th>\n",
       "    </tr>\n",
       "  </thead>\n",
       "  <tbody>\n",
       "    <tr>\n",
       "      <th>0</th>\n",
       "      <td>0.009471</td>\n",
       "      <td>0.001853</td>\n",
       "      <td>0.001337</td>\n",
       "      <td>0.000473</td>\n",
       "      <td>0.01</td>\n",
       "      <td>{'C': 0.01}</td>\n",
       "      <td>0.625</td>\n",
       "      <td>0.625</td>\n",
       "      <td>0.625</td>\n",
       "      <td>0.625</td>\n",
       "      <td>0.625</td>\n",
       "      <td>0.625</td>\n",
       "      <td>0.625</td>\n",
       "      <td>0.625</td>\n",
       "      <td>0.625</td>\n",
       "      <td>0.631579</td>\n",
       "      <td>0.625628</td>\n",
       "      <td>0.001933</td>\n",
       "      <td>4</td>\n",
       "    </tr>\n",
       "    <tr>\n",
       "      <th>1</th>\n",
       "      <td>0.006034</td>\n",
       "      <td>0.000883</td>\n",
       "      <td>0.000776</td>\n",
       "      <td>0.000323</td>\n",
       "      <td>0.1</td>\n",
       "      <td>{'C': 0.1}</td>\n",
       "      <td>0.875</td>\n",
       "      <td>0.975</td>\n",
       "      <td>0.950</td>\n",
       "      <td>0.925</td>\n",
       "      <td>0.925</td>\n",
       "      <td>0.925</td>\n",
       "      <td>0.950</td>\n",
       "      <td>0.975</td>\n",
       "      <td>0.975</td>\n",
       "      <td>0.973684</td>\n",
       "      <td>0.944724</td>\n",
       "      <td>0.031112</td>\n",
       "      <td>3</td>\n",
       "    </tr>\n",
       "    <tr>\n",
       "      <th>2</th>\n",
       "      <td>0.003939</td>\n",
       "      <td>0.000897</td>\n",
       "      <td>0.000839</td>\n",
       "      <td>0.000347</td>\n",
       "      <td>1</td>\n",
       "      <td>{'C': 1}</td>\n",
       "      <td>1.000</td>\n",
       "      <td>1.000</td>\n",
       "      <td>0.950</td>\n",
       "      <td>0.925</td>\n",
       "      <td>0.975</td>\n",
       "      <td>0.950</td>\n",
       "      <td>1.000</td>\n",
       "      <td>1.000</td>\n",
       "      <td>1.000</td>\n",
       "      <td>1.000000</td>\n",
       "      <td>0.979899</td>\n",
       "      <td>0.026956</td>\n",
       "      <td>1</td>\n",
       "    </tr>\n",
       "    <tr>\n",
       "      <th>3</th>\n",
       "      <td>0.003537</td>\n",
       "      <td>0.000528</td>\n",
       "      <td>0.000178</td>\n",
       "      <td>0.000314</td>\n",
       "      <td>10</td>\n",
       "      <td>{'C': 10}</td>\n",
       "      <td>1.000</td>\n",
       "      <td>1.000</td>\n",
       "      <td>0.925</td>\n",
       "      <td>0.925</td>\n",
       "      <td>0.950</td>\n",
       "      <td>0.950</td>\n",
       "      <td>0.975</td>\n",
       "      <td>1.000</td>\n",
       "      <td>1.000</td>\n",
       "      <td>0.947368</td>\n",
       "      <td>0.967337</td>\n",
       "      <td>0.029893</td>\n",
       "      <td>2</td>\n",
       "    </tr>\n",
       "  </tbody>\n",
       "</table>\n",
       "</div>"
      ],
      "text/plain": [
       "   mean_fit_time  std_fit_time  mean_score_time  std_score_time param_C  \\\n",
       "0       0.009471      0.001853         0.001337        0.000473    0.01   \n",
       "1       0.006034      0.000883         0.000776        0.000323     0.1   \n",
       "2       0.003939      0.000897         0.000839        0.000347       1   \n",
       "3       0.003537      0.000528         0.000178        0.000314      10   \n",
       "\n",
       "        params  split0_test_score  split1_test_score  split2_test_score  \\\n",
       "0  {'C': 0.01}              0.625              0.625              0.625   \n",
       "1   {'C': 0.1}              0.875              0.975              0.950   \n",
       "2     {'C': 1}              1.000              1.000              0.950   \n",
       "3    {'C': 10}              1.000              1.000              0.925   \n",
       "\n",
       "   split3_test_score  split4_test_score  split5_test_score  split6_test_score  \\\n",
       "0              0.625              0.625              0.625              0.625   \n",
       "1              0.925              0.925              0.925              0.950   \n",
       "2              0.925              0.975              0.950              1.000   \n",
       "3              0.925              0.950              0.950              0.975   \n",
       "\n",
       "   split7_test_score  split8_test_score  split9_test_score  mean_test_score  \\\n",
       "0              0.625              0.625           0.631579         0.625628   \n",
       "1              0.975              0.975           0.973684         0.944724   \n",
       "2              1.000              1.000           1.000000         0.979899   \n",
       "3              1.000              1.000           0.947368         0.967337   \n",
       "\n",
       "   std_test_score  rank_test_score  \n",
       "0        0.001933                4  \n",
       "1        0.031112                3  \n",
       "2        0.026956                1  \n",
       "3        0.029893                2  "
      ]
     },
     "metadata": {},
     "output_type": "display_data"
    }
   ],
   "source": [
    "from sklearn.preprocessing import StandardScaler\n",
    "from sklearn.svm import SVC\n",
    "from sklearn.pipeline import Pipeline\n",
    "from sklearn.model_selection import GridSearchCV\n",
    "from sklearn.linear_model import LogisticRegression\n",
    "from sklearn.model_selection import StratifiedKFold\n",
    "\n",
    "# Piplelineによって、訓練データと検証データを別々に標準化する場合\n",
    "pipe=Pipeline([('sc',StandardScaler()),('lr',LogisticRegression())])\n",
    "grid_dict=[{'lr__C':[10**i for i in range(-2,2)]}]\n",
    "\n",
    "cv=StratifiedKFold(n_splits=10,shuffle=False,random_state=0)\n",
    "gs=GridSearchCV(estimator=pipe,param_grid=grid_dict,scoring='accuracy',cv=cv,n_jobs=-1)\n",
    "#Breast Cancer wisconsinのデータセット\n",
    "gs.fit(X_train,y_train)\n",
    "print('validation score:',gs.best_score_)\n",
    "print('best parameter:',gs.best_params_)\n",
    "print('accuracy train:%.3f, test:%.3f (pipe):' % (gs.score(X_train,y_train),gs.score(X_test,y_test)))\n",
    "display(pd.DataFrame(gs.cv_results_))\n",
    "\n",
    "# 事前に標準化したデータでグリッドサーチする場合\n",
    "sc=StandardScaler()\n",
    "X_train_std=sc.fit_transform(X_train)\n",
    "X_test_std=sc.transform(X_test)\n",
    "\n",
    "lr=LogisticRegression()\n",
    "grid_dict=[{'C':[10**i for i in range(-2,2)]}]\n",
    "gs_std=GridSearchCV(estimator=svm,param_grid=grid_dict,scoring='accuracy',cv=cv,n_jobs=-10)\n",
    "gs_std.fit(X_train_std,y_train)\n",
    "\n",
    "print('validation score:',gs_std.best_score_)\n",
    "print('best parameter:',gs.best_params_)\n",
    "print('accuracy train:%.3f, test:%.3f (without pipe):' % (gs_std.score(X_train_std,y_train),gs_std.score(X_test_std,y_test)))\n",
    "display(pd.DataFrame(gs_std.cv_results_))"
   ]
  },
  {
   "cell_type": "markdown",
   "metadata": {},
   "source": [
    "## 入れ子式の交差分割検証\n",
    "### gs=GridSearchCV(estimator=model,param_grid=param_dict,cv=2,n_jobs=-1) \n",
    "### scores=cross_val_score(gs,X_train,y_train,scoring='accuracy',cv=5)\n",
    "このやり方は5×2交差検証。外側ループでデータを訓練データとテストデータに分け、内側ループでは訓練データと検証データに分け、検証データの指標でチューニングしたパラメータのモデルで、外側ループのテストデータの指標をだす。分類器の性能の比較の際に役に立つらしいが、、コスト高い。。。"
   ]
  },
  {
   "cell_type": "code",
   "execution_count": 10,
   "metadata": {},
   "outputs": [
    {
     "name": "stdout",
     "output_type": "stream",
     "text": [
      "CV SVM test accuracy: 0.985 +/- 0.015\n",
      "CV Tree test accuracy: 0.907 +/- 0.017\n"
     ]
    }
   ],
   "source": [
    "from sklearn.model_selection import GridSearchCV\n",
    "from sklearn.model_selection import cross_val_score\n",
    "# SVM\n",
    "from sklearn.svm import SVC\n",
    "pipe_svm=Pipeline([('sc',StandardScaler()),('svm',SVC(random_state=0))])\n",
    "param_range=[10**i for i in range(-4,4)]\n",
    "param_dict=[{'svm__C':param_range,'svm__kernel':['linear']},\n",
    "            {'svm__C':param_range,'svm__gamma':param_range,'svm__kernel':['rbf']}]\n",
    "gs=GridSearchCV(estimator=pipe_svm,param_grid=param_dict,scoring='accuracy',cv=2,n_jobs=-1)\n",
    "scores=cross_val_score(gs,X=X_train,y=y_train,scoring='accuracy',cv=5)\n",
    "print('CV SVM test accuracy: %.3f +/- %.3f' % (np.mean(scores),np.std(scores)))\n",
    "# 決定木\n",
    "from sklearn.tree import DecisionTreeClassifier\n",
    "pipe_tree=Pipeline([('sc',StandardScaler()),('tree',DecisionTreeClassifier(random_state=0))])\n",
    "param_range=[10**i for i in range(1,8)]\n",
    "param_dict=[{'tree__max_depth':param_range}]\n",
    "gs=GridSearchCV(estimator=pipe_tree,param_grid=param_dict,scoring='accuracy',cv=2,n_jobs=-1)\n",
    "scores=cross_val_score(gs,X=X_train,y=y_train,scoring='accuracy',cv=5)\n",
    "print('CV Tree test accuracy: %.3f +/- %.3f' % (np.mean(scores),np.std(scores)))\n"
   ]
  },
  {
   "cell_type": "markdown",
   "metadata": {},
   "source": [
    "# 性能評価指標"
   ]
  },
  {
   "cell_type": "markdown",
   "metadata": {},
   "source": [
    "## @正解率\n",
    "### from sklearn.metrics import accuracy_score\n",
    "### accuracy_score(y_test,y_pred)\n",
    "正解ラベルと予測ラベルから正解率を求める"
   ]
  },
  {
   "cell_type": "markdown",
   "metadata": {},
   "source": [
    "## @ 混合行列(Confusion Matrix)\n",
    "<img src=\"images/ConfusionMatrix.png\" width=30%> \n",
    "### from sklearn.metric import confusion_matrix\n",
    "### conf_mat=confusion_matrix(y_test,y_pred)\n",
    "混合行列を作るクラス。混合行列は2値分類が基本だが、sklearnのconfusion matrixは他クラス分類にも対応している。正解ラベルと予測ラベルを入力するだけ"
   ]
  },
  {
   "cell_type": "code",
   "execution_count": 23,
   "metadata": {},
   "outputs": [
    {
     "name": "stdout",
     "output_type": "stream",
     "text": [
      "[[105   3]\n",
      " [  5  58]]\n"
     ]
    },
    {
     "data": {
      "image/png": "[encoded data removed]",
      "text/plain": [
       "<Figure size 180x180 with 1 Axes>"
      ]
     },
     "metadata": {
      "needs_background": "light"
     },
     "output_type": "display_data"
    }
   ],
   "source": [
    "from sklearn.metrics import confusion_matrix\n",
    "from sklearn.ensemble import RandomForestClassifier\n",
    "# RandomForest データはBreast Cancer\n",
    "forest=RandomForestClassifier(criterion='entropy',n_estimators=17,random_state=0)\n",
    "forest.fit(X_train,y_train)\n",
    "\n",
    "#　混合行列作成。(今回は2クラス分類)\n",
    "y_pred=gs.predict(X_test)\n",
    "confmat=confusion_matrix(y_test,y_pred)\n",
    "print(confmat)\n",
    "\n",
    "# 混合行列をきれいに表示する場合\n",
    "fig,ax=plt.subplots(figsize=(2.5,2.5))\n",
    "ax.matshow(confmat,cmap=plt.cm.Blues,alpha=0.3)\n",
    "for i in range(confmat.shape[0]):\n",
    "    for j in range(confmat.shape[1]):\n",
    "        ax.text(x=j,y=i,s=confmat[i,j],va='center',ha='center')\n",
    "plt.xlabel('predicted label')\n",
    "plt.ylabel('true label')\n",
    "plt.show()"
   ]
  },
  {
   "cell_type": "markdown",
   "metadata": {},
   "source": [
    "## @ 適合率(PRE)\n",
    "### from sklearn.metrics import precision_score\n",
    "陽性クラスと予測したサンプルのうち、実際に陽性クラスだったもの。インフルの検査で、インフルと診断された人のうち、ほんとにインフルにかかってた人の割合  \n",
    "$PRE=\\frac{FP}{FP+TN}$ "
   ]
  },
  {
   "cell_type": "markdown",
   "metadata": {},
   "source": [
    "## @ 再現率(REC)\n",
    "### from sklearn.metrics import recall_score\n",
    "陽性クラスのうち、陽性クラスと正しく予測された数。インフル患者のうち、正しくインフルと診断された人の数  \n",
    "$REC=\\frac{TP}{FN+TP}$ "
   ]
  },
  {
   "cell_type": "markdown",
   "metadata": {},
   "source": [
    "## @ F1値\n",
    "### from sklearn.metrics import f1_score\n",
    "PREとRECを組み合わせた指標。調和平均。  \n",
    "$PRE=2\\frac{PRE \\times REC}{PRE+REC}$ "
   ]
  },
  {
   "cell_type": "code",
   "execution_count": 24,
   "metadata": {},
   "outputs": [
    {
     "name": "stdout",
     "output_type": "stream",
     "text": [
      "precision: 0.951\n",
      "recall: 0.921\n",
      "f1 score: 0.935\n"
     ]
    }
   ],
   "source": [
    "from sklearn.metrics import precision_score, recall_score, f1_score\n",
    "print('precision: %.3f' % precision_score(y_test,y_pred))\n",
    "print('recall: %.3f' % recall_score(y_test,y_pred))\n",
    "print('f1 score: %.3f' % f1_score(y_test,y_pred))"
   ]
  },
  {
   "cell_type": "markdown",
   "metadata": {},
   "source": [
    "## @ AUC ROCの曲線下面積\n",
    "### from sklearn.metrics import roc_auc_score\n",
    "### roc_acu_score(y_test,y_pred)\n",
    "AUCの値を見ると、不均衡なクラスのサンプルに対する分類器の性能を見ることができる。90個が1で10が0のデータですべて1と分類した分類器の正解率が90%になってしまって、見かけ上はよくても、性能はごみの場合に役に立つ"
   ]
  },
  {
   "cell_type": "code",
   "execution_count": 7,
   "metadata": {},
   "outputs": [
    {
     "name": "stdout",
     "output_type": "stream",
     "text": [
      "ROC AUC:0.964\n",
      "Accuracy:0.959\n",
      "[357 212]\n"
     ]
    }
   ],
   "source": [
    "from sklearn.metrics import roc_auc_score,accuracy_score\n",
    "from sklearn.linear_model import LogisticRegression\n",
    "lr=LogisticRegression(penalty='l2',C=100,random_state=0)\n",
    "lr.fit(X_train,y_train)\n",
    "y_pred=lr.predict(X_test)\n",
    "# データはBreast Cancer\n",
    "print('ROC AUC:%.3f' % roc_auc_score(y_test,y_pred))\n",
    "print('Accuracy:%.3f' % accuracy_score(y_test,y_pred))\n",
    "# クラスの偏り。そこまでないから正解率とあまり変わらない\n",
    "print(np.bincount(y))"
   ]
  },
  {
   "cell_type": "markdown",
   "metadata": {},
   "source": [
    "## 残差プロット\n",
    "回帰モデルを作成した際のモデルの性能をグラフから読み取ることができる。予測が良いほど、残差は0に近づくが現実的には不可能  \n",
    "よい回帰モデルの場合は誤差がランダムに分布して、残差が中央の周りにランダムに散らばる。  \n",
    "下の例では、右上に直線に並んだ規則的なデータが見られ、モデルが何らかの情報を補足できていないことを表す。  \n",
    "つまり、残差プロットから規則性の存在を確認でき、外れ値も検出することが可能となる。"
   ]
  },
  {
   "cell_type": "code",
   "execution_count": 31,
   "metadata": {},
   "outputs": [
    {
     "data": {
      "image/png": "[encoded data removed]",
      "text/plain": [
       "<Figure size 432x288 with 1 Axes>"
      ]
     },
     "metadata": {},
     "output_type": "display_data"
    }
   ],
   "source": [
    "from sklearn.linear_model import LinearRegression\n",
    "lr=LinearRegression()\n",
    "#Boston Housingデータ\n",
    "lr.fit(X_train,y_train)\n",
    "\n",
    "y_train_pred=lr.predict(X_train)\n",
    "y_test_pred=lr.predict(X_test)\n",
    "\n",
    "sns.set(style='whitegrid',context='notebook')\n",
    "plt.scatter(y_train_pred,y_train-y_train_pred,color='blue',marker='o',s=10,label='train')\n",
    "plt.scatter(y_test_pred,y_test-y_test_pred,color='lightgreen',marker='s',s=10,label='test')\n",
    "plt.hlines(y=0,xmin=-10,xmax=50,lw=2,colors='red')\n",
    "plt.xlabel('prediction')\n",
    "plt.ylabel('residual')\n",
    "plt.legend()\n",
    "plt.show()"
   ]
  },
  {
   "cell_type": "markdown",
   "metadata": {},
   "source": [
    "## 平均二乗誤差(MSE)\n",
    "Mean Squared Error\n",
    "$$\n",
    "    MSE = \\frac{1}{n}\\sum_{i=1}^{n}(y^i-\\hat{y}^i) \\quad\n",
    "$$\n",
    "回帰モデルの性能評価に使われ、グリッドサーチや、交差分割検証に使う指標として役立つ。\n",
    "## @ from sklearn.metrics import mean_squared_error\n",
    "### MSE=mean_squared_error(y_train,y_pred)"
   ]
  },
  {
   "cell_type": "code",
   "execution_count": 33,
   "metadata": {},
   "outputs": [
    {
     "name": "stdout",
     "output_type": "stream",
     "text": [
      "train MSE: 19.326\n",
      "test MSE: 33.449\n"
     ]
    }
   ],
   "source": [
    "from sklearn.metrics import mean_squared_error\n",
    "lr=LinearRegression()\n",
    "lr.fit(X_train,y_train)\n",
    "y_train_pred=lr.predict(X_train)\n",
    "y_test_pred=lr.predict(X_test)\n",
    "\n",
    "print('train MSE: %.3f' % mean_squared_error(y_train,y_train_pred))\n",
    "print('test MSE: %.3f' % mean_squared_error(y_test,y_test_pred))"
   ]
  },
  {
   "cell_type": "markdown",
   "metadata": {},
   "source": [
    "## 決定係数\n",
    "回帰モデルの性能をより効果的に解釈できる、標準化された平均二乗誤差と考えることがきる。  \n",
    "最も性能のいい状態がMSEが0なのに対して、決定係数R^2の場合は1になる\n",
    "## @ from sklearn.metrics import r2_score"
   ]
  },
  {
   "cell_type": "code",
   "execution_count": 34,
   "metadata": {},
   "outputs": [
    {
     "name": "stdout",
     "output_type": "stream",
     "text": [
      "train MSE: 0.773\n",
      "test MSE: 0.589\n"
     ]
    }
   ],
   "source": [
    "from sklearn.metrics import r2_score\n",
    "lr=LinearRegression()\n",
    "lr.fit(X_train,y_train)\n",
    "y_train_pred=lr.predict(X_train)\n",
    "y_test_pred=lr.predict(X_test)\n",
    "\n",
    "print('train MSE: %.3f' % r2_score(y_train,y_train_pred))\n",
    "print('test MSE: %.3f' % r2_score(y_test,y_test_pred))"
   ]
  },
  {
   "cell_type": "markdown",
   "metadata": {},
   "source": [
    "## エルボー法\n",
    "教師なし学習で使われる、適切なクラスタ数kを求めるための手法。エルボー法の考え方は、歪み（クラスタ内SSE）が最も急速に増え始めるkの値を特定すること。下の例では、k=3で急速に増え始めることから、適切なクラスタ数はk=3であると判定できる"
   ]
  },
  {
   "cell_type": "code",
   "execution_count": 21,
   "metadata": {},
   "outputs": [
    {
     "data": {
      "image/png": "[encoded data removed]",
      "text/plain": [
       "<Figure size 432x288 with 1 Axes>"
      ]
     },
     "metadata": {
      "needs_background": "light"
     },
     "output_type": "display_data"
    }
   ],
   "source": [
    "from sklearn.cluster import KMeans\n",
    "distortion=[]\n",
    "for i in range(1,11):\n",
    "    km=KMeans(n_clusters=i,init='k-means++',n_init=10,max_iter=300,random_state=0)\n",
    "    km.fit(X)\n",
    "    distortion.append(km.inertia_)\n",
    "plt.plot(range(1,11),distortion,marker='o')\n",
    "plt.xlabel('number of clusters')\n",
    "plt.ylabel('dstortion')\n",
    "plt.show()"
   ]
  },
  {
   "cell_type": "markdown",
   "metadata": {},
   "source": [
    "# 分類器"
   ]
  },
  {
   "cell_type": "markdown",
   "metadata": {},
   "source": [
    "## @ from sklearn.linear_model import Perceptron\n",
    "### ppn=Perceptron(eta0=0.1,random_state=0,shuffle=True)\n",
    "単純パーセプトロン　ハイパーパラメータ}は学習係数eta　shuffle=Trueで各epochごとにデータをシャッフルする  \n",
    "分類器全般に言える話だが、clf.score(X_train,y_train)でaccuracy, clf.decision_function(X_train)で各クラスに所属する各進度を表す。\n",
    "### パーセプトロン\n",
    "<img src=\"images/perceptron.png\" width=50%>  \n",
    "##  ADALINE\n",
    "<img src=\"images/ADALINE.png\" width=50%>"
   ]
  },
  {
   "cell_type": "code",
   "execution_count": 23,
   "metadata": {},
   "outputs": [
    {
     "name": "stdout",
     "output_type": "stream",
     "text": [
      "Accuracy: 0.96\n",
      "Accuracy: 0.96\n",
      "[[-0.93052282  0.99020831  1.38185086]\n",
      " [-1.38768666  1.49982693  2.80087474]\n",
      " [-1.51654496  1.34796154  3.21501271]\n",
      " [-1.32919278  1.41950326  2.43297639]\n",
      " [-1.52900721  1.63661511  2.98132929]]\n"
     ]
    }
   ],
   "source": [
    "from sklearn.metrics import accuracy_score\n",
    "from sklearn.linear_model import Perceptron\n",
    "\n",
    "ppn=Perceptron(eta0=0.1,random_state=0,shuffle=True)\n",
    "ppn.fit(X_train_std,y_train)\n",
    "y_pred=ppn.predict(X_test_std)\n",
    "\n",
    "# accuracy_scoreを使う場合\n",
    "print(\"Accuracy: %.2f\" % accuracy_score(y_test,y_pred))\n",
    "\n",
    "# modelのscoreメソッドを使う場合\n",
    "print(\"Accuracy: %.2f\" % ppn.score(X_test_std,y_test))\n",
    "\n",
    "print(ppn.decision_function(X_train)[:5])"
   ]
  },
  {
   "cell_type": "markdown",
   "metadata": {},
   "source": [
    "## @ from sklearn.linear_model import LogisticRegression\n",
    "### lr=LogisticRegression(C=0.01,random_state=0,penalty='l2')\n",
    "ロジスティック回帰　ハイパーパラメータCは正則項の逆数で、Cが小さいほど正則化は強くなる  \n",
    "penaltyでL1,L2,ElasticNetを選択できる。デフォルトはl2  \n",
    "ロジスティック回帰の活性化関数はsigomoid関数（ADALINEは恒等関数）。これがデータスケールに敏感な理由  \n",
    "損失関数は交差エントロピーを用いている\n",
    "<img src=\"images/LogisticRegression.png\" width=50%> "
   ]
  },
  {
   "cell_type": "code",
   "execution_count": 33,
   "metadata": {},
   "outputs": [
    {
     "data": {
      "image/png": "[encoded data removed]",
      "text/plain": [
       "<Figure size 432x288 with 1 Axes>"
      ]
     },
     "metadata": {
      "needs_background": "light"
     },
     "output_type": "display_data"
    }
   ],
   "source": [
    "from sklearn.linear_model import LogisticRegression\n",
    "\n",
    "\n",
    "accuracy=[]\n",
    "params=[]\n",
    "for c in range(-5,5):\n",
    "    lr=LogisticRegression(C=10**c,random_state=0)\n",
    "    lr.fit(X_train_std,y_train)\n",
    "    accuracy.append(lr.score(X_test_std,y_test))\n",
    "    params.append(10**c)\n",
    "\n",
    "plt.plot(params,accuracy,marker='o')\n",
    "plt.xlabel('C')\n",
    "plt.ylabel('Accuracy')\n",
    "plt.xscale('log')\n",
    "plt.show()\n"
   ]
  },
  {
   "cell_type": "markdown",
   "metadata": {},
   "source": [
    "## @ from sklearn.svm import SVC\n",
    "### svm=SVC(kernel='linear',C=1.0,random_state=0)\n",
    "### svm=SVC(kernel='rbf',gammma=10,C=1.0,random_state=0)\n",
    "サポートベクターマシン。kernel='linear'で線形分離、kernel='rbf'で非線形分離を行なう。Cはスラック変数の係数、gammmaカーネル関数の係数  \n",
    "正則化項はL2正則化のみ  \n",
    "SVMのデータスケーリングは正規化より標準化のほうが良い結果になった。  \n",
    "SVMはマージン(決定境界と最も近い訓練データサンプルとの間の距離)を最大化させる。\n",
    "<img src=\"images/svm.png\" width=50%> "
   ]
  },
  {
   "cell_type": "code",
   "execution_count": 13,
   "metadata": {},
   "outputs": [
    {
     "name": "stderr",
     "output_type": "stream",
     "text": [
      "'c' argument looks like a single numeric RGB or RGBA sequence, which should be avoided as value-mapping will have precedence in case its length matches with 'x' & 'y'.  Please use a 2-D array with a single row if you really want to specify the same RGB or RGBA value for all points.\n",
      "'c' argument looks like a single numeric RGB or RGBA sequence, which should be avoided as value-mapping will have precedence in case its length matches with 'x' & 'y'.  Please use a 2-D array with a single row if you really want to specify the same RGB or RGBA value for all points.\n",
      "'c' argument looks like a single numeric RGB or RGBA sequence, which should be avoided as value-mapping will have precedence in case its length matches with 'x' & 'y'.  Please use a 2-D array with a single row if you really want to specify the same RGB or RGBA value for all points.\n"
     ]
    },
    {
     "name": "stdout",
     "output_type": "stream",
     "text": [
      "accuracy train:0.952 ,test:0.956 (Normalization)\n",
      "accuracy train:0.990 ,test:0.978 (Standardization)\n"
     ]
    },
    {
     "name": "stderr",
     "output_type": "stream",
     "text": [
      "'c' argument looks like a single numeric RGB or RGBA sequence, which should be avoided as value-mapping will have precedence in case its length matches with 'x' & 'y'.  Please use a 2-D array with a single row if you really want to specify the same RGB or RGBA value for all points.\n",
      "'c' argument looks like a single numeric RGB or RGBA sequence, which should be avoided as value-mapping will have precedence in case its length matches with 'x' & 'y'.  Please use a 2-D array with a single row if you really want to specify the same RGB or RGBA value for all points.\n",
      "'c' argument looks like a single numeric RGB or RGBA sequence, which should be avoided as value-mapping will have precedence in case its length matches with 'x' & 'y'.  Please use a 2-D array with a single row if you really want to specify the same RGB or RGBA value for all points.\n"
     ]
    },
    {
     "data": {
      "image/png": "[encoded data removed]",
      "text/plain": [
       "<Figure size 432x288 with 2 Axes>"
      ]
     },
     "metadata": {
      "needs_background": "light"
     },
     "output_type": "display_data"
    }
   ],
   "source": [
    "from sklearn.preprocessing import MinMaxScaler,StandardScaler\n",
    "from sklearn.model_selection import GridSearchCV\n",
    "from sklearn.svm import SVC\n",
    "\n",
    "mm=MinMaxScaler()\n",
    "X_train_norm=mm.fit_transform(X_train)\n",
    "X_test_norm=mm.transform(X_test)\n",
    "\n",
    "sc=StandardScaler()\n",
    "X_train_std=sc.fit_transform(X_train)\n",
    "X_test_std=sc.transform(X_test)\n",
    "\n",
    "svm=SVC()\n",
    "\n",
    "grid_dict=[{'kernel':['linear'],'C':[10** i for i in range(-3,3)]},\n",
    "           {'kernel':['rbf'],'C':[10**i for i in range(-3,3)],'gamma':[10**i for i in range(-3,-1)]}]\n",
    "\n",
    "for scale in ['Normalization','Standardization']:\n",
    "    svm_clf=GridSearchCV(estimator=svm,param_grid=grid_dict,scoring='accuracy',cv=5,n_jobs=-1)\n",
    "    if scale=='Normalization':\n",
    "        svm_clf.fit(X_train_norm,y_train)\n",
    "        print('accuracy train:%.3f ,test:%.3f (%s)' % (svm_clf.score(X_train_norm,y_train),svm_clf.score(X_test_norm,y_test),scale))\n",
    "    else:\n",
    "        svm_clf.fit(X_train_std,y_train)\n",
    "        print('accuracy train:%.3f ,test:%.3f (%s)' % (svm_clf.score(X_train_std,y_train),svm_clf.score(X_test_std,y_test),scale))\n",
    "\n",
    "# kernelの違いを可視化\n",
    "plt.subplot(1,2,1)\n",
    "svm=SVC(kernel='linear',C=1.0,random_state=0)\n",
    "svm.fit(X_train_std[:,[1,3]],y_train)\n",
    "plot_decision_regions(X_train_std[:,[1,3]],y_train,classifier=svm)\n",
    "\n",
    "plt.subplot(1,2,2)\n",
    "svm=SVC(kernel='rbf',C=10.0,gamma=15,random_state=0)\n",
    "svm.fit(X_train_std[:,[1,3]],y_train)\n",
    "plot_decision_regions(X_train_std[:,[1,3]],y_train,classifier=svm)\n",
    "plt.show()"
   ]
  },
  {
   "cell_type": "markdown",
   "metadata": {},
   "source": [
    "## @ from sklearn.svm import linearSVC\n",
    "### liSVM=LinearSVC(penalty='l1',C=10,dual=False)\n",
    "SVMの強化版？L1正則化を設定できるようになった"
   ]
  },
  {
   "cell_type": "code",
   "execution_count": 8,
   "metadata": {},
   "outputs": [
    {
     "name": "stderr",
     "output_type": "stream",
     "text": [
      "'c' argument looks like a single numeric RGB or RGBA sequence, which should be avoided as value-mapping will have precedence in case its length matches with 'x' & 'y'.  Please use a 2-D array with a single row if you really want to specify the same RGB or RGBA value for all points.\n",
      "'c' argument looks like a single numeric RGB or RGBA sequence, which should be avoided as value-mapping will have precedence in case its length matches with 'x' & 'y'.  Please use a 2-D array with a single row if you really want to specify the same RGB or RGBA value for all points.\n",
      "'c' argument looks like a single numeric RGB or RGBA sequence, which should be avoided as value-mapping will have precedence in case its length matches with 'x' & 'y'.  Please use a 2-D array with a single row if you really want to specify the same RGB or RGBA value for all points.\n"
     ]
    },
    {
     "data": {
      "image/png": "[encoded data removed]",
      "text/plain": [
       "<Figure size 432x288 with 1 Axes>"
      ]
     },
     "metadata": {
      "needs_background": "light"
     },
     "output_type": "display_data"
    }
   ],
   "source": [
    "from sklearn.svm import LinearSVC\n",
    "liSVM=LinearSVC(penalty='l1',C=10,dual=False)\n",
    "liSVM.fit(X_train_std[:,[1,3]],y_train)\n",
    "plot_decision_regions(X_train_std[:,[1,3]],y_train,classifier=liSVM)\n",
    "plt.show()"
   ]
  },
  {
   "cell_type": "markdown",
   "metadata": {},
   "source": [
    "## 実験　L1正則化の重み減少の様子"
   ]
  },
  {
   "cell_type": "code",
   "execution_count": 16,
   "metadata": {},
   "outputs": [
    {
     "data": {
      "image/png": "[encoded data removed]",
      "text/plain": [
       "<Figure size 432x288 with 1 Axes>"
      ]
     },
     "metadata": {
      "needs_background": "light"
     },
     "output_type": "display_data"
    }
   ],
   "source": [
    "fig = plt.figure()\n",
    "ax = plt.subplot(111)\n",
    "    \n",
    "colors = ['blue', 'green', 'red', 'cyan', \n",
    "          'magenta', 'yellow', 'black', \n",
    "          'pink', 'lightgreen', 'lightblue', \n",
    "          'gray', 'indigo', 'orange']\n",
    "\n",
    "weights, params = [], []\n",
    "for c in np.arange(-4., 6.):\n",
    "    lr = LinearSVC(penalty='l1', C=10.**c,dual=False, random_state=0)\n",
    "    lr.fit(X_train_std, y_train)\n",
    "    weights.append(lr.coef_[1])\n",
    "    params.append(10.**c)\n",
    "\n",
    "weights = np.array(weights)\n",
    "\n",
    "for column, color in zip(range(weights.shape[1]), colors):\n",
    "    plt.plot(params, weights[:, column],\n",
    "             label=column,\n",
    "             color=color)\n",
    "plt.axhline(0, color='black', linestyle='--', linewidth=3)\n",
    "plt.xlim([10**(-5), 10**5])\n",
    "plt.ylabel('weight coefficient')\n",
    "plt.xlabel('C')\n",
    "plt.xscale('log')\n",
    "plt.legend(loc='upper left')\n",
    "ax.legend(loc='upper center', \n",
    "          bbox_to_anchor=(1.38, 1.03),\n",
    "          ncol=1, fancybox=True)\n",
    "plt.show()"
   ]
  },
  {
   "cell_type": "markdown",
   "metadata": {},
   "source": [
    "## @ from sklearn.tree import DecisionTreeClassifier\n",
    "### tree=DecisionTreeClassifier(criterion='entropy',max_depth=3,random_state=0)\n",
    "決定木一つ。criterionが不順度の指標'gini'か'entropy'。max_depthが決定木の深さ。  \n",
    "決定木で学習する訓練データは特徴量をスケーリングする必要がない（してもいいが、数値の分割条件の大小関係が重要なので、しきい値が変わるだけ） \n",
    "重要なハイパーパラメータはmax_depthで、いわゆる枝刈りにあたる  \n",
    "決定木では情報利得が最大となる特徴量でデータ分割を行なう"
   ]
  },
  {
   "cell_type": "code",
   "execution_count": 94,
   "metadata": {},
   "outputs": [
    {
     "name": "stderr",
     "output_type": "stream",
     "text": [
      "'c' argument looks like a single numeric RGB or RGBA sequence, which should be avoided as value-mapping will have precedence in case its length matches with 'x' & 'y'.  Please use a 2-D array with a single row if you really want to specify the same RGB or RGBA value for all points.\n",
      "'c' argument looks like a single numeric RGB or RGBA sequence, which should be avoided as value-mapping will have precedence in case its length matches with 'x' & 'y'.  Please use a 2-D array with a single row if you really want to specify the same RGB or RGBA value for all points.\n",
      "'c' argument looks like a single numeric RGB or RGBA sequence, which should be avoided as value-mapping will have precedence in case its length matches with 'x' & 'y'.  Please use a 2-D array with a single row if you really want to specify the same RGB or RGBA value for all points.\n"
     ]
    },
    {
     "data": {
      "image/png": "[encoded data removed]",
      "text/plain": [
       "<Figure size 432x288 with 1 Axes>"
      ]
     },
     "metadata": {
      "needs_background": "light"
     },
     "output_type": "display_data"
    }
   ],
   "source": [
    "from sklearn.tree import DecisionTreeClassifier\n",
    "tree=DecisionTreeClassifier(criterion='entropy',max_depth=20,random_state=0)\n",
    "tree.fit(X_train[:,[1,3]],y_train)\n",
    "plot_decision_regions(X_train[:,[1,3]],y_train,classifier=tree)\n",
    "plt.legend()\n",
    "plt.show()"
   ]
  },
  {
   "cell_type": "markdown",
   "metadata": {},
   "source": [
    "## @ from sklearn.ensemble import RandomForestClassifier\n",
    "### forest=RandomForestClassifier(criterion='entropy',n_estimators=10,random_state=2)\n",
    "ランダムフォレスト。criterionが不順度の指標'gini'か'entropy'　n_estimatorsが決定木の数。n_jobsがPCの複数コアでの並列処理をしている。   \n",
    "### importance=forest.feature_importances_\n",
    "### indices=np.argsort(importances)[::-1]\n",
    "ランダムフォレストで重要な特徴量を識別する。配列を返す。決定木から計算された不順度の平均的な減少量として重要度を測定できる  \n",
    "indicesで重要な特徴量のインデックス番号を取得する  \n",
    "ランダムフォレストは、複数の決定木を用いるのでデータをスケーリングする必要がない。"
   ]
  },
  {
   "cell_type": "code",
   "execution_count": 8,
   "metadata": {},
   "outputs": [
    {
     "name": "stderr",
     "output_type": "stream",
     "text": [
      "'c' argument looks like a single numeric RGB or RGBA sequence, which should be avoided as value-mapping will have precedence in case its length matches with 'x' & 'y'.  Please use a 2-D array with a single row if you really want to specify the same RGB or RGBA value for all points.\n",
      "'c' argument looks like a single numeric RGB or RGBA sequence, which should be avoided as value-mapping will have precedence in case its length matches with 'x' & 'y'.  Please use a 2-D array with a single row if you really want to specify the same RGB or RGBA value for all points.\n",
      "'c' argument looks like a single numeric RGB or RGBA sequence, which should be avoided as value-mapping will have precedence in case its length matches with 'x' & 'y'.  Please use a 2-D array with a single row if you really want to specify the same RGB or RGBA value for all points.\n"
     ]
    },
    {
     "data": {
      "image/png": "[encoded data removed]",
      "text/plain": [
       "<Figure size 432x288 with 1 Axes>"
      ]
     },
     "metadata": {
      "needs_background": "light"
     },
     "output_type": "display_data"
    },
    {
     "name": "stdout",
     "output_type": "stream",
     "text": [
      "test accuracy 0.93\n",
      "[0.14334485 0.0264803  0.40058315 0.42959169]\n"
     ]
    },
    {
     "data": {
      "image/png": "[encoded data removed]",
      "text/plain": [
       "<Figure size 432x288 with 1 Axes>"
      ]
     },
     "metadata": {
      "needs_background": "light"
     },
     "output_type": "display_data"
    }
   ],
   "source": [
    "from sklearn.ensemble import RandomForestClassifier\n",
    "\n",
    "# RandomForestでの2変数での分類の可視化\n",
    "forest=RandomForestClassifier(criterion='gini',n_estimators=10,random_state=0,n_jobs=2)\n",
    "forest.fit(X_train[:,[1,3]],y_train)\n",
    "plot_decision_regions(X_train[:,[1,3]],y_train,classifier=forest)\n",
    "plt.show()\n",
    "print(\"test accuracy %.2f\" %forest.score(X_test[:,[1,3]],y_test))\n",
    "\n",
    "# RandomForestで重要な特徴量を識別\n",
    "forest=RandomForestClassifier(criterion='gini',n_estimators=10,random_state=0,n_jobs=2)\n",
    "forest.fit(X_train,y_train)\n",
    "importaces=forest.feature_importances_\n",
    "print(importaces)\n",
    "#重要な特徴量順にインデックス番号を取得\n",
    "indices=np.argsort(importaces)[::-1]\n",
    "feat_labels=np.array(iris['feature_names'])\n",
    "\n",
    "plt.bar(range(X_train.shape[1]),importaces[indices],color='lightblue',align='center')\n",
    "plt.xticks(range(X_train.shape[1]),feat_labels[indices],rotation=90)\n",
    "plt.xlim([-1,X_train.shape[1]])\n",
    "plt.tight_layout()\n",
    "plt.show()\n"
   ]
  },
  {
   "cell_type": "markdown",
   "metadata": {},
   "source": [
    "## @ from sklearn.feature_selection import SelectFromModel\n",
    "### sfm=SelectFromModel(estimator=forest,prefit=True,threshold=0.15)\n",
    "### X_selected=sfm.transform(X_train)\n",
    "識別機(多くの場合ランダムフォレスト)が分類したしきい値thereshold以上の重要な特徴量のみを取得する \n",
    "### mask=sfm.get_support()\n",
    "### importance=feat_label[mask]\n",
    "get_support()メソッドで、しきい値以上の特徴量のbool配列を返す"
   ]
  },
  {
   "cell_type": "code",
   "execution_count": 35,
   "metadata": {},
   "outputs": [
    {
     "name": "stdout",
     "output_type": "stream",
     "text": [
      "[[5.  2.  3.5 1. ]\n",
      " [6.5 3.  5.5 1.8]\n",
      " [6.7 3.3 5.7 2.5]]\n",
      "[[3.5 1. ]\n",
      " [5.5 1.8]\n",
      " [5.7 2.5]]\n",
      "['petal length (cm)' 'petal width (cm)']\n"
     ]
    }
   ],
   "source": [
    "from sklearn.feature_selection import SelectFromModel\n",
    "sfm=SelectFromModel(estimator=forest,threshold=0.15,prefit=True)\n",
    "print(X_train[:3])\n",
    "X_selected=sfm.transform(X_train)\n",
    "print(X_selected[:3])\n",
    "\n",
    "mask=sfm.get_support()\n",
    "print(feat_labels[mask])"
   ]
  },
  {
   "cell_type": "markdown",
   "metadata": {},
   "source": [
    "## @ from sklearn.neighbors import KNeighborsClassifier\n",
    "### knn=KNeighborsClassifer(n_neightbors=5,p=2,metric='minkowski')\n",
    "K近傍法(k-nearest-neighbor) n_negibors分類したいサンプルの最近傍のデータ数 k(デフォルトは5)、pはminkowski距離を用いる場合の次元を表す。  \n",
    "p=2でユークリッド距離に対応する  \n",
    "minkowski距離はユークリッド距離とマンハッタン距離を一般化した距離指標  \n",
    "k-nearest-neighborは訓練データの中から分類したいデータ点に最も近いk個のサンプルを見つけ出し、k個の最近傍の多数決で決まる。  \n",
    "そのため、データを保存しておく必要があり、メモリ問題が起きる場合がある。\n",
    "<img src=\"images/knn.png\" width=30%> "
   ]
  },
  {
   "cell_type": "code",
   "execution_count": 108,
   "metadata": {},
   "outputs": [
    {
     "name": "stderr",
     "output_type": "stream",
     "text": [
      "'c' argument looks like a single numeric RGB or RGBA sequence, which should be avoided as value-mapping will have precedence in case its length matches with 'x' & 'y'.  Please use a 2-D array with a single row if you really want to specify the same RGB or RGBA value for all points.\n",
      "'c' argument looks like a single numeric RGB or RGBA sequence, which should be avoided as value-mapping will have precedence in case its length matches with 'x' & 'y'.  Please use a 2-D array with a single row if you really want to specify the same RGB or RGBA value for all points.\n",
      "'c' argument looks like a single numeric RGB or RGBA sequence, which should be avoided as value-mapping will have precedence in case its length matches with 'x' & 'y'.  Please use a 2-D array with a single row if you really want to specify the same RGB or RGBA value for all points.\n"
     ]
    },
    {
     "data": {
      "image/png": "[encoded data removed]",
      "text/plain": [
       "<Figure size 432x288 with 1 Axes>"
      ]
     },
     "metadata": {
      "needs_background": "light"
     },
     "output_type": "display_data"
    },
    {
     "name": "stdout",
     "output_type": "stream",
     "text": [
      "test accuracy 0.80\n"
     ]
    }
   ],
   "source": [
    "from sklearn.neighbors import KNeighborsClassifier\n",
    "knn=KNeighborsClassifier(n_neighbors=5,p=2,metric='minkowski')\n",
    "knn.fit(X_train_std[:,[1,3]],y_train)\n",
    "plot_decision_regions(X_train_std[:,[1,3]],y_train,classifier=knn)\n",
    "plt.show()\n",
    "print(\"test accuracy %.2f\" %knn.score(X_test_std[:,[1,3]],y_test))"
   ]
  },
  {
   "cell_type": "markdown",
   "metadata": {},
   "source": [
    "## 勾配ブースティング\n",
    "## from sklearn.ensemble import GradientBoostingClassifier\n",
    "### gbr=GradientBoostingClassifier(n_estimators=500,max_depth=100,max_features1.0,min_samples_leaf)\n",
    "回帰決定木を順次作って、損失関数（デフォルトは二乗誤差）を最小にする分類器。パラメータがチューニングが大切になるので、グリッドサーチは必須 \n",
    "パラメータのチューニングは、まずは少ない分類器の数で、学習率以外のパラメータをチューニングして、ベストなパラメータを用意してからたくさんの分類器の数で学習率をチューニングする"
   ]
  },
  {
   "cell_type": "code",
   "execution_count": 4,
   "metadata": {},
   "outputs": [
    {
     "name": "stdout",
     "output_type": "stream",
     "text": [
      "best score= 0.9623115577889447\n",
      "best score= 0.964824120603015\n"
     ]
    }
   ],
   "source": [
    "from sklearn.ensemble import GradientBoostingClassifier\n",
    "from sklearn.model_selection import GridSearchCV\n",
    "\n",
    "gbc=GradientBoostingClassifier(n_estimators=500)\n",
    "\n",
    "# 推奨されているパラメータのチューニング方法\n",
    "parameters = {'learning_rate' : [0.1, 0.05, 0.02, 0.01], \n",
    "              'max_depth': [4, 6],\n",
    "              'min_samples_leaf': [3, 5, 9, 17],\n",
    "              'max_features': [1.0, 0.3, 0.1]}\n",
    "\n",
    "gs = GridSearchCV(estimator=gbc,param_grid=parameters, n_jobs=-1, cv=4)\n",
    "\n",
    "# データはBreast Cancer \n",
    "gs.fit(X_train, y_train)\n",
    "print(\"best score=\", gs.best_score_)\n",
    "\n",
    "# 学習率をたくさんの分類器の数でチューニング\n",
    "clf = gs.best_estimator_\n",
    "clf.set_params(n_estimators=100000)\n",
    "parameters = {'learning_rate' : [0.1, 0.05, 0.02, 0.01]}\n",
    "gs = GridSearchCV(clf, parameters, n_jobs=-1, cv=4)\n",
    "gs.fit(X_train, y_train)\n",
    "print(\"best score=\", gs.best_score_)"
   ]
  },
  {
   "cell_type": "markdown",
   "metadata": {},
   "source": [
    "## XGBooost\n",
    "本来、回帰モデルのXGBoostを分類器として利用する。アンサンブル手法の一つとして分類されているが、完全に一つのモデルとして扱うことができる。\n",
    "## xgb_clf=xgb.XGBClassifier(learning_rate=0.1,n_stimators=100,max_depth=5,gamma=0)\n",
    "回帰モデルの場合はXGBRegressorだが、分類モデルの場合はXGBClassifierなので、注意する。  n_estimatorsが生成する分類器の数。max_depthが各分類器での深さ。パラメータチューニングはn_estimator,max_depthを行うと幸せになれるっぽい"
   ]
  },
  {
   "cell_type": "code",
   "execution_count": 26,
   "metadata": {},
   "outputs": [
    {
     "name": "stdout",
     "output_type": "stream",
     "text": [
      "{'max_depth': 3, 'n_estimators': 81}\n",
      "accuracy train:1.000, test:0.965\n"
     ]
    }
   ],
   "source": [
    "from sklearn.model_selection import GridSearchCV\n",
    "# XGBoostの分類器を作成\n",
    "import xgboost as xgb\n",
    "xgb_model=xgb.XGBClassifier()\n",
    "# パラメータチューニング\n",
    "grid_dict=[{'n_estimators':[i for i in range(0,100)],'max_depth':[i for i in range(2,10)]}]\n",
    "xgb_clf=GridSearchCV(estimator=xgb_model,param_grid=grid_dict,scoring='accuracy',n_jobs=-1,cv=5)\n",
    "# Breast Cancerデータ\n",
    "xgb_clf.fit(X_train,y_train)\n",
    "print(xgb_clf.best_params_)\n",
    "print('accuracy train:%.3f, test:%.3f' % (xgb_clf.score(X_train,y_train),\n",
    "                                          xgb_clf.score(X_test,y_test)))"
   ]
  },
  {
   "cell_type": "markdown",
   "metadata": {},
   "source": [
    "## ニューラルネットワーク\n",
    "## Kerasを用いて、sklearnで使える分類NNモデルを作成\n",
    "## from keras.wrappers.scikit_learn import KerasClassifir\n",
    "### nn_reg=KerasRegressor(build_fn=create_model,epochs=100,batch_size=4,verbose=1)\n",
    "Kerasでニューラルネットのモデルを作成し、sklearnで扱える分類器として用いるラッパー。簡単に搭載できるので、試す価値はある。  \n",
    "クラス分類器なので、出力層の活性化関数をsigmoid関数(2値分類)、softmax関数(他クラス分類)、損失関数をbinary_crossetropy(2クラス分類)かcategorical_crossentropyにするのに注意  \n",
    "batch_sizeは大きくすると性能が悪くなるのが今のところの経験則。グリッドーサーチで本来ならパラメータチューニングできるのだが、TensorFlowの糞メモリ確保のため、足りなくなってしまう。このあたりのことは、修正していかねば。  \n",
    "データ標準化を行うのと行わないのでは大きな差がでるので、\n",
    "## 標準化は忘れずやる←超重要！！！！"
   ]
  },
  {
   "cell_type": "markdown",
   "metadata": {},
   "source": [
    "## 2クラス分類"
   ]
  },
  {
   "cell_type": "code",
   "execution_count": 12,
   "metadata": {},
   "outputs": [
    {
     "name": "stdout",
     "output_type": "stream",
     "text": [
      "Epoch 1/500\n",
      "398/398 [==============================] - 0s 760us/step - loss: 0.6578 - acc: 0.5930\n",
      "Epoch 2/500\n",
      "398/398 [==============================] - 0s 79us/step - loss: 0.5449 - acc: 0.6985\n",
      "Epoch 3/500\n",
      "398/398 [==============================] - 0s 66us/step - loss: 0.4574 - acc: 0.7839\n",
      "Epoch 4/500\n",
      "398/398 [==============================] - 0s 61us/step - loss: 0.3826 - acc: 0.8618\n",
      "Epoch 5/500\n",
      "398/398 [==============================] - 0s 63us/step - loss: 0.3234 - acc: 0.9146\n",
      "Epoch 6/500\n",
      "398/398 [==============================] - 0s 64us/step - loss: 0.2736 - acc: 0.9397\n",
      "Epoch 7/500\n",
      "398/398 [==============================] - 0s 68us/step - loss: 0.2345 - acc: 0.9497\n",
      "Epoch 8/500\n",
      "398/398 [==============================] - 0s 63us/step - loss: 0.2036 - acc: 0.9598\n",
      "Epoch 9/500\n",
      "398/398 [==============================] - 0s 62us/step - loss: 0.1782 - acc: 0.9623\n",
      "Epoch 10/500\n",
      "398/398 [==============================] - 0s 67us/step - loss: 0.1593 - acc: 0.9648\n",
      "Epoch 11/500\n",
      "398/398 [==============================] - 0s 69us/step - loss: 0.1440 - acc: 0.9673\n",
      "Epoch 12/500\n",
      "398/398 [==============================] - 0s 65us/step - loss: 0.1323 - acc: 0.9774\n",
      "Epoch 13/500\n",
      "398/398 [==============================] - 0s 66us/step - loss: 0.1231 - acc: 0.9774\n",
      "Epoch 14/500\n",
      "398/398 [==============================] - 0s 59us/step - loss: 0.1148 - acc: 0.9799\n",
      "Epoch 15/500\n",
      "398/398 [==============================] - 0s 62us/step - loss: 0.1073 - acc: 0.9799\n",
      "Epoch 16/500\n",
      "398/398 [==============================] - 0s 65us/step - loss: 0.1013 - acc: 0.9774\n",
      "Epoch 17/500\n",
      "398/398 [==============================] - 0s 67us/step - loss: 0.0961 - acc: 0.9774\n",
      "Epoch 18/500\n",
      "398/398 [==============================] - 0s 69us/step - loss: 0.0915 - acc: 0.9799\n",
      "Epoch 19/500\n",
      "398/398 [==============================] - 0s 66us/step - loss: 0.0874 - acc: 0.9774\n",
      "Epoch 20/500\n",
      "398/398 [==============================] - 0s 61us/step - loss: 0.0840 - acc: 0.9774\n",
      "Epoch 21/500\n",
      "398/398 [==============================] - 0s 62us/step - loss: 0.0811 - acc: 0.9824\n",
      "Epoch 22/500\n",
      "398/398 [==============================] - 0s 66us/step - loss: 0.0784 - acc: 0.9849\n",
      "Epoch 23/500\n",
      "398/398 [==============================] - 0s 63us/step - loss: 0.0757 - acc: 0.9874\n",
      "Epoch 24/500\n",
      "398/398 [==============================] - 0s 67us/step - loss: 0.0733 - acc: 0.9849\n",
      "Epoch 25/500\n",
      "398/398 [==============================] - 0s 61us/step - loss: 0.0713 - acc: 0.9849\n",
      "Epoch 26/500\n",
      "398/398 [==============================] - 0s 61us/step - loss: 0.0694 - acc: 0.9874\n",
      "Epoch 27/500\n",
      "398/398 [==============================] - 0s 65us/step - loss: 0.0676 - acc: 0.9874\n",
      "Epoch 28/500\n",
      "398/398 [==============================] - 0s 65us/step - loss: 0.0660 - acc: 0.9874\n",
      "Epoch 29/500\n",
      "398/398 [==============================] - 0s 63us/step - loss: 0.0642 - acc: 0.9874\n",
      "Epoch 30/500\n",
      "398/398 [==============================] - 0s 63us/step - loss: 0.0628 - acc: 0.9874\n",
      "Epoch 31/500\n",
      "398/398 [==============================] - 0s 69us/step - loss: 0.0615 - acc: 0.9874\n",
      "Epoch 32/500\n",
      "398/398 [==============================] - 0s 62us/step - loss: 0.0604 - acc: 0.9874\n",
      "Epoch 33/500\n",
      "398/398 [==============================] - 0s 58us/step - loss: 0.0590 - acc: 0.9874\n",
      "Epoch 34/500\n",
      "398/398 [==============================] - 0s 60us/step - loss: 0.0579 - acc: 0.9874\n",
      "Epoch 35/500\n",
      "398/398 [==============================] - 0s 93us/step - loss: 0.0566 - acc: 0.9874\n",
      "Epoch 36/500\n",
      "398/398 [==============================] - 0s 73us/step - loss: 0.0556 - acc: 0.9874\n",
      "Epoch 37/500\n",
      "398/398 [==============================] - 0s 68us/step - loss: 0.0546 - acc: 0.9874\n",
      "Epoch 38/500\n",
      "398/398 [==============================] - 0s 58us/step - loss: 0.0535 - acc: 0.9874\n",
      "Epoch 39/500\n",
      "398/398 [==============================] - 0s 70us/step - loss: 0.0527 - acc: 0.9874\n",
      "Epoch 40/500\n",
      "398/398 [==============================] - 0s 60us/step - loss: 0.0520 - acc: 0.9874\n",
      "Epoch 41/500\n",
      "398/398 [==============================] - 0s 61us/step - loss: 0.0508 - acc: 0.9874\n",
      "Epoch 42/500\n",
      "398/398 [==============================] - 0s 63us/step - loss: 0.0500 - acc: 0.9874\n",
      "Epoch 43/500\n",
      "398/398 [==============================] - 0s 62us/step - loss: 0.0491 - acc: 0.9874\n",
      "Epoch 44/500\n",
      "398/398 [==============================] - 0s 63us/step - loss: 0.0484 - acc: 0.9874\n",
      "Epoch 45/500\n",
      "398/398 [==============================] - 0s 60us/step - loss: 0.0474 - acc: 0.9874\n",
      "Epoch 46/500\n",
      "398/398 [==============================] - 0s 68us/step - loss: 0.0468 - acc: 0.9874\n",
      "Epoch 47/500\n",
      "398/398 [==============================] - 0s 59us/step - loss: 0.0460 - acc: 0.9899\n",
      "Epoch 48/500\n",
      "398/398 [==============================] - 0s 63us/step - loss: 0.0454 - acc: 0.9899\n",
      "Epoch 49/500\n",
      "398/398 [==============================] - 0s 66us/step - loss: 0.0444 - acc: 0.9899\n",
      "Epoch 50/500\n",
      "398/398 [==============================] - 0s 57us/step - loss: 0.0436 - acc: 0.9899\n",
      "Epoch 51/500\n",
      "398/398 [==============================] - 0s 65us/step - loss: 0.0430 - acc: 0.9899\n",
      "Epoch 52/500\n",
      "398/398 [==============================] - 0s 65us/step - loss: 0.0424 - acc: 0.9899\n",
      "Epoch 53/500\n",
      "398/398 [==============================] - 0s 60us/step - loss: 0.0415 - acc: 0.9899\n",
      "Epoch 54/500\n",
      "398/398 [==============================] - 0s 64us/step - loss: 0.0409 - acc: 0.9899\n",
      "Epoch 55/500\n",
      "398/398 [==============================] - 0s 69us/step - loss: 0.0403 - acc: 0.9899\n",
      "Epoch 56/500\n",
      "398/398 [==============================] - 0s 66us/step - loss: 0.0396 - acc: 0.9899\n",
      "Epoch 57/500\n",
      "398/398 [==============================] - 0s 66us/step - loss: 0.0391 - acc: 0.9899\n",
      "Epoch 58/500\n",
      "398/398 [==============================] - 0s 57us/step - loss: 0.0382 - acc: 0.9899\n",
      "Epoch 59/500\n",
      "398/398 [==============================] - 0s 65us/step - loss: 0.0378 - acc: 0.9899\n",
      "Epoch 60/500\n",
      "398/398 [==============================] - 0s 67us/step - loss: 0.0370 - acc: 0.9899\n",
      "Epoch 61/500\n",
      "398/398 [==============================] - 0s 76us/step - loss: 0.0367 - acc: 0.9899\n",
      "Epoch 62/500\n",
      "398/398 [==============================] - 0s 67us/step - loss: 0.0360 - acc: 0.9899\n",
      "Epoch 63/500\n",
      "398/398 [==============================] - 0s 68us/step - loss: 0.0354 - acc: 0.9899\n",
      "Epoch 64/500\n",
      "398/398 [==============================] - 0s 69us/step - loss: 0.0347 - acc: 0.9899\n",
      "Epoch 65/500\n",
      "398/398 [==============================] - 0s 76us/step - loss: 0.0342 - acc: 0.9899\n",
      "Epoch 66/500\n",
      "398/398 [==============================] - 0s 64us/step - loss: 0.0337 - acc: 0.9899\n",
      "Epoch 67/500\n",
      "398/398 [==============================] - 0s 69us/step - loss: 0.0333 - acc: 0.9899\n",
      "Epoch 68/500\n",
      "398/398 [==============================] - 0s 74us/step - loss: 0.0324 - acc: 0.9899\n",
      "Epoch 69/500\n",
      "398/398 [==============================] - 0s 70us/step - loss: 0.0321 - acc: 0.9899\n",
      "Epoch 70/500\n",
      "398/398 [==============================] - 0s 74us/step - loss: 0.0316 - acc: 0.9899\n",
      "Epoch 71/500\n",
      "398/398 [==============================] - 0s 65us/step - loss: 0.0317 - acc: 0.9899\n",
      "Epoch 72/500\n",
      "398/398 [==============================] - 0s 68us/step - loss: 0.0307 - acc: 0.9899\n",
      "Epoch 73/500\n",
      "398/398 [==============================] - 0s 62us/step - loss: 0.0304 - acc: 0.9899\n",
      "Epoch 74/500\n",
      "398/398 [==============================] - 0s 70us/step - loss: 0.0300 - acc: 0.9899\n",
      "Epoch 75/500\n",
      "398/398 [==============================] - 0s 67us/step - loss: 0.0295 - acc: 0.9899\n",
      "Epoch 76/500\n",
      "398/398 [==============================] - 0s 77us/step - loss: 0.0291 - acc: 0.9899\n",
      "Epoch 77/500\n",
      "398/398 [==============================] - 0s 67us/step - loss: 0.0287 - acc: 0.9899\n",
      "Epoch 78/500\n",
      "398/398 [==============================] - 0s 65us/step - loss: 0.0282 - acc: 0.9899\n",
      "Epoch 79/500\n",
      "398/398 [==============================] - 0s 65us/step - loss: 0.0279 - acc: 0.9899\n",
      "Epoch 80/500\n",
      "398/398 [==============================] - 0s 73us/step - loss: 0.0274 - acc: 0.9899\n",
      "Epoch 81/500\n",
      "398/398 [==============================] - 0s 62us/step - loss: 0.0272 - acc: 0.9899\n",
      "Epoch 82/500\n",
      "398/398 [==============================] - 0s 68us/step - loss: 0.0267 - acc: 0.9899\n",
      "Epoch 83/500\n",
      "398/398 [==============================] - 0s 65us/step - loss: 0.0265 - acc: 0.9899\n",
      "Epoch 84/500\n",
      "398/398 [==============================] - 0s 67us/step - loss: 0.0260 - acc: 0.9899\n",
      "Epoch 85/500\n",
      "398/398 [==============================] - 0s 63us/step - loss: 0.0258 - acc: 0.9899\n",
      "Epoch 86/500\n",
      "398/398 [==============================] - 0s 65us/step - loss: 0.0254 - acc: 0.9899\n",
      "Epoch 87/500\n",
      "398/398 [==============================] - 0s 62us/step - loss: 0.0252 - acc: 0.9899\n",
      "Epoch 88/500\n",
      "398/398 [==============================] - 0s 62us/step - loss: 0.0248 - acc: 0.9899\n",
      "Epoch 89/500\n",
      "398/398 [==============================] - 0s 60us/step - loss: 0.0243 - acc: 0.9899\n",
      "Epoch 90/500\n",
      "398/398 [==============================] - 0s 61us/step - loss: 0.0239 - acc: 0.9899\n",
      "Epoch 91/500\n",
      "398/398 [==============================] - 0s 58us/step - loss: 0.0235 - acc: 0.9925\n",
      "Epoch 92/500\n",
      "398/398 [==============================] - 0s 60us/step - loss: 0.0231 - acc: 0.9925\n",
      "Epoch 93/500\n",
      "398/398 [==============================] - 0s 58us/step - loss: 0.0228 - acc: 0.9925\n",
      "Epoch 94/500\n",
      "398/398 [==============================] - 0s 67us/step - loss: 0.0225 - acc: 0.9925\n",
      "Epoch 95/500\n",
      "398/398 [==============================] - 0s 55us/step - loss: 0.0222 - acc: 0.9925\n",
      "Epoch 96/500\n",
      "398/398 [==============================] - 0s 61us/step - loss: 0.0220 - acc: 0.9925\n",
      "Epoch 97/500\n",
      "398/398 [==============================] - 0s 57us/step - loss: 0.0217 - acc: 0.9950\n",
      "Epoch 98/500\n",
      "398/398 [==============================] - 0s 61us/step - loss: 0.0216 - acc: 0.9925\n",
      "Epoch 99/500\n",
      "398/398 [==============================] - 0s 53us/step - loss: 0.0214 - acc: 0.9950\n",
      "Epoch 100/500\n",
      "398/398 [==============================] - 0s 62us/step - loss: 0.0208 - acc: 0.9950\n",
      "Epoch 101/500\n",
      "398/398 [==============================] - 0s 62us/step - loss: 0.0204 - acc: 0.9950\n",
      "Epoch 102/500\n",
      "398/398 [==============================] - 0s 60us/step - loss: 0.0204 - acc: 0.9950\n",
      "Epoch 103/500\n",
      "398/398 [==============================] - 0s 57us/step - loss: 0.0201 - acc: 0.9950\n",
      "Epoch 104/500\n",
      "398/398 [==============================] - 0s 59us/step - loss: 0.0198 - acc: 0.9950\n",
      "Epoch 105/500\n",
      "398/398 [==============================] - 0s 60us/step - loss: 0.0193 - acc: 0.9975\n",
      "Epoch 106/500\n",
      "398/398 [==============================] - 0s 54us/step - loss: 0.0190 - acc: 0.9975\n",
      "Epoch 107/500\n",
      "398/398 [==============================] - 0s 65us/step - loss: 0.0187 - acc: 0.9975\n",
      "Epoch 108/500\n",
      "398/398 [==============================] - 0s 63us/step - loss: 0.0184 - acc: 0.9975\n",
      "Epoch 109/500\n",
      "398/398 [==============================] - 0s 71us/step - loss: 0.0181 - acc: 0.9950\n",
      "Epoch 110/500\n",
      "398/398 [==============================] - 0s 68us/step - loss: 0.0178 - acc: 0.9975\n",
      "Epoch 111/500\n",
      "398/398 [==============================] - 0s 63us/step - loss: 0.0176 - acc: 0.9975\n",
      "Epoch 112/500\n",
      "398/398 [==============================] - 0s 64us/step - loss: 0.0173 - acc: 0.9950\n",
      "Epoch 113/500\n",
      "398/398 [==============================] - 0s 66us/step - loss: 0.0169 - acc: 0.9975\n",
      "Epoch 114/500\n",
      "398/398 [==============================] - 0s 78us/step - loss: 0.0167 - acc: 0.9975\n",
      "Epoch 115/500\n",
      "398/398 [==============================] - 0s 66us/step - loss: 0.0167 - acc: 0.9975\n",
      "Epoch 116/500\n",
      "398/398 [==============================] - 0s 63us/step - loss: 0.0161 - acc: 0.9975\n",
      "Epoch 117/500\n",
      "398/398 [==============================] - 0s 63us/step - loss: 0.0160 - acc: 0.9975\n",
      "Epoch 118/500\n",
      "398/398 [==============================] - 0s 62us/step - loss: 0.0159 - acc: 0.9975\n",
      "Epoch 119/500\n",
      "398/398 [==============================] - 0s 56us/step - loss: 0.0155 - acc: 0.9975\n",
      "Epoch 120/500\n",
      "398/398 [==============================] - 0s 56us/step - loss: 0.0154 - acc: 0.9975\n",
      "Epoch 121/500\n",
      "398/398 [==============================] - 0s 62us/step - loss: 0.0150 - acc: 0.9975\n",
      "Epoch 122/500\n",
      "398/398 [==============================] - 0s 60us/step - loss: 0.0150 - acc: 0.9975\n",
      "Epoch 123/500\n",
      "398/398 [==============================] - 0s 62us/step - loss: 0.0145 - acc: 0.9975\n",
      "Epoch 124/500\n",
      "398/398 [==============================] - 0s 61us/step - loss: 0.0146 - acc: 0.9975\n",
      "Epoch 125/500\n",
      "398/398 [==============================] - 0s 62us/step - loss: 0.0142 - acc: 0.9975\n",
      "Epoch 126/500\n",
      "398/398 [==============================] - 0s 62us/step - loss: 0.0139 - acc: 0.9975\n",
      "Epoch 127/500\n",
      "398/398 [==============================] - 0s 60us/step - loss: 0.0139 - acc: 0.9975\n",
      "Epoch 128/500\n",
      "398/398 [==============================] - 0s 61us/step - loss: 0.0135 - acc: 0.9975\n",
      "Epoch 129/500\n",
      "398/398 [==============================] - 0s 58us/step - loss: 0.0135 - acc: 0.9975\n",
      "Epoch 130/500\n",
      "398/398 [==============================] - 0s 57us/step - loss: 0.0132 - acc: 0.9975\n",
      "Epoch 131/500\n",
      "398/398 [==============================] - 0s 61us/step - loss: 0.0129 - acc: 0.9975\n",
      "Epoch 132/500\n",
      "398/398 [==============================] - 0s 64us/step - loss: 0.0127 - acc: 0.9975\n",
      "Epoch 133/500\n",
      "398/398 [==============================] - 0s 63us/step - loss: 0.0126 - acc: 0.9975\n",
      "Epoch 134/500\n",
      "398/398 [==============================] - 0s 69us/step - loss: 0.0124 - acc: 0.9975\n",
      "Epoch 135/500\n",
      "398/398 [==============================] - 0s 63us/step - loss: 0.0120 - acc: 0.9975\n",
      "Epoch 136/500\n",
      "398/398 [==============================] - 0s 65us/step - loss: 0.0119 - acc: 0.9975\n",
      "Epoch 137/500\n",
      "398/398 [==============================] - 0s 69us/step - loss: 0.0117 - acc: 0.9975\n",
      "Epoch 138/500\n",
      "398/398 [==============================] - 0s 64us/step - loss: 0.0116 - acc: 0.9975\n",
      "Epoch 139/500\n",
      "398/398 [==============================] - 0s 63us/step - loss: 0.0116 - acc: 0.9975\n",
      "Epoch 140/500\n",
      "398/398 [==============================] - 0s 73us/step - loss: 0.0112 - acc: 0.9975\n",
      "Epoch 141/500\n",
      "398/398 [==============================] - 0s 60us/step - loss: 0.0113 - acc: 0.9975\n",
      "Epoch 142/500\n",
      "398/398 [==============================] - 0s 64us/step - loss: 0.0108 - acc: 0.9975\n",
      "Epoch 143/500\n",
      "398/398 [==============================] - 0s 61us/step - loss: 0.0107 - acc: 0.9975\n",
      "Epoch 144/500\n",
      "398/398 [==============================] - 0s 60us/step - loss: 0.0104 - acc: 0.9975\n",
      "Epoch 145/500\n",
      "398/398 [==============================] - 0s 58us/step - loss: 0.0104 - acc: 0.9975\n",
      "Epoch 146/500\n",
      "398/398 [==============================] - 0s 59us/step - loss: 0.0101 - acc: 0.9975\n",
      "Epoch 147/500\n",
      "398/398 [==============================] - 0s 57us/step - loss: 0.0100 - acc: 0.9975\n",
      "Epoch 148/500\n",
      "398/398 [==============================] - 0s 62us/step - loss: 0.0099 - acc: 0.9975\n",
      "Epoch 149/500\n",
      "398/398 [==============================] - 0s 56us/step - loss: 0.0097 - acc: 0.9975\n",
      "Epoch 150/500\n",
      "398/398 [==============================] - 0s 58us/step - loss: 0.0096 - acc: 0.9975\n",
      "Epoch 151/500\n",
      "398/398 [==============================] - 0s 58us/step - loss: 0.0093 - acc: 0.9975\n",
      "Epoch 152/500\n",
      "398/398 [==============================] - 0s 66us/step - loss: 0.0092 - acc: 0.9975\n",
      "Epoch 153/500\n",
      "398/398 [==============================] - 0s 71us/step - loss: 0.0091 - acc: 0.9975\n",
      "Epoch 154/500\n",
      "398/398 [==============================] - 0s 58us/step - loss: 0.0090 - acc: 0.9975\n",
      "Epoch 155/500\n",
      "398/398 [==============================] - 0s 68us/step - loss: 0.0088 - acc: 0.9975\n",
      "Epoch 156/500\n",
      "398/398 [==============================] - 0s 64us/step - loss: 0.0087 - acc: 0.9975\n",
      "Epoch 157/500\n",
      "398/398 [==============================] - 0s 63us/step - loss: 0.0085 - acc: 0.9975\n",
      "Epoch 158/500\n",
      "398/398 [==============================] - 0s 68us/step - loss: 0.0084 - acc: 0.9975\n",
      "Epoch 159/500\n",
      "398/398 [==============================] - 0s 66us/step - loss: 0.0083 - acc: 0.9975\n",
      "Epoch 160/500\n",
      "398/398 [==============================] - 0s 62us/step - loss: 0.0081 - acc: 0.9975\n",
      "Epoch 161/500\n",
      "398/398 [==============================] - 0s 65us/step - loss: 0.0082 - acc: 0.9975\n",
      "Epoch 162/500\n",
      "398/398 [==============================] - 0s 57us/step - loss: 0.0080 - acc: 0.9975\n",
      "Epoch 163/500\n",
      "398/398 [==============================] - 0s 64us/step - loss: 0.0078 - acc: 0.9975\n",
      "Epoch 164/500\n",
      "398/398 [==============================] - 0s 58us/step - loss: 0.0076 - acc: 0.9975\n",
      "Epoch 165/500\n",
      "398/398 [==============================] - 0s 61us/step - loss: 0.0076 - acc: 0.9975\n",
      "Epoch 166/500\n",
      "398/398 [==============================] - 0s 62us/step - loss: 0.0075 - acc: 0.9975\n",
      "Epoch 167/500\n"
     ]
    },
    {
     "name": "stdout",
     "output_type": "stream",
     "text": [
      "398/398 [==============================] - 0s 62us/step - loss: 0.0073 - acc: 0.9975\n",
      "Epoch 168/500\n",
      "398/398 [==============================] - 0s 61us/step - loss: 0.0071 - acc: 0.9975\n",
      "Epoch 169/500\n",
      "398/398 [==============================] - 0s 61us/step - loss: 0.0070 - acc: 0.9975\n",
      "Epoch 170/500\n",
      "398/398 [==============================] - 0s 61us/step - loss: 0.0068 - acc: 0.9975\n",
      "Epoch 171/500\n",
      "398/398 [==============================] - 0s 60us/step - loss: 0.0067 - acc: 0.9975\n",
      "Epoch 172/500\n",
      "398/398 [==============================] - 0s 57us/step - loss: 0.0067 - acc: 1.0000\n",
      "Epoch 173/500\n",
      "398/398 [==============================] - 0s 60us/step - loss: 0.0066 - acc: 1.0000\n",
      "Epoch 174/500\n",
      "398/398 [==============================] - 0s 57us/step - loss: 0.0065 - acc: 1.0000\n",
      "Epoch 175/500\n",
      "398/398 [==============================] - 0s 59us/step - loss: 0.0063 - acc: 1.0000\n",
      "Epoch 176/500\n",
      "398/398 [==============================] - 0s 61us/step - loss: 0.0063 - acc: 1.0000\n",
      "Epoch 177/500\n",
      "398/398 [==============================] - 0s 66us/step - loss: 0.0061 - acc: 1.0000\n",
      "Epoch 178/500\n",
      "398/398 [==============================] - 0s 66us/step - loss: 0.0060 - acc: 1.0000\n",
      "Epoch 179/500\n",
      "398/398 [==============================] - 0s 62us/step - loss: 0.0059 - acc: 1.0000\n",
      "Epoch 180/500\n",
      "398/398 [==============================] - 0s 68us/step - loss: 0.0059 - acc: 1.0000\n",
      "Epoch 181/500\n",
      "398/398 [==============================] - 0s 73us/step - loss: 0.0058 - acc: 1.0000\n",
      "Epoch 182/500\n",
      "398/398 [==============================] - 0s 67us/step - loss: 0.0057 - acc: 1.0000\n",
      "Epoch 183/500\n",
      "398/398 [==============================] - 0s 64us/step - loss: 0.0056 - acc: 1.0000\n",
      "Epoch 184/500\n",
      "398/398 [==============================] - 0s 59us/step - loss: 0.0055 - acc: 1.0000\n",
      "Epoch 185/500\n",
      "398/398 [==============================] - 0s 59us/step - loss: 0.0054 - acc: 1.0000\n",
      "Epoch 186/500\n",
      "398/398 [==============================] - 0s 59us/step - loss: 0.0053 - acc: 1.0000\n",
      "Epoch 187/500\n",
      "398/398 [==============================] - 0s 56us/step - loss: 0.0052 - acc: 1.0000\n",
      "Epoch 188/500\n",
      "398/398 [==============================] - 0s 60us/step - loss: 0.0052 - acc: 1.0000\n",
      "Epoch 189/500\n",
      "398/398 [==============================] - 0s 58us/step - loss: 0.0051 - acc: 1.0000\n",
      "Epoch 190/500\n",
      "398/398 [==============================] - 0s 60us/step - loss: 0.0050 - acc: 1.0000\n",
      "Epoch 191/500\n",
      "398/398 [==============================] - 0s 58us/step - loss: 0.0049 - acc: 1.0000\n",
      "Epoch 192/500\n",
      "398/398 [==============================] - 0s 60us/step - loss: 0.0049 - acc: 1.0000\n",
      "Epoch 193/500\n",
      "398/398 [==============================] - 0s 59us/step - loss: 0.0048 - acc: 1.0000\n",
      "Epoch 194/500\n",
      "398/398 [==============================] - 0s 67us/step - loss: 0.0048 - acc: 1.0000\n",
      "Epoch 195/500\n",
      "398/398 [==============================] - 0s 60us/step - loss: 0.0046 - acc: 1.0000\n",
      "Epoch 196/500\n",
      "398/398 [==============================] - 0s 64us/step - loss: 0.0046 - acc: 1.0000\n",
      "Epoch 197/500\n",
      "398/398 [==============================] - 0s 67us/step - loss: 0.0046 - acc: 1.0000\n",
      "Epoch 198/500\n",
      "398/398 [==============================] - 0s 57us/step - loss: 0.0045 - acc: 1.0000\n",
      "Epoch 199/500\n",
      "398/398 [==============================] - 0s 65us/step - loss: 0.0044 - acc: 1.0000\n",
      "Epoch 200/500\n",
      "398/398 [==============================] - 0s 67us/step - loss: 0.0043 - acc: 1.0000\n",
      "Epoch 201/500\n",
      "398/398 [==============================] - 0s 64us/step - loss: 0.0043 - acc: 1.0000\n",
      "Epoch 202/500\n",
      "398/398 [==============================] - 0s 65us/step - loss: 0.0042 - acc: 1.0000\n",
      "Epoch 203/500\n",
      "398/398 [==============================] - 0s 64us/step - loss: 0.0042 - acc: 1.0000\n",
      "Epoch 204/500\n",
      "398/398 [==============================] - 0s 59us/step - loss: 0.0042 - acc: 1.0000\n",
      "Epoch 205/500\n",
      "398/398 [==============================] - 0s 58us/step - loss: 0.0040 - acc: 1.0000\n",
      "Epoch 206/500\n",
      "398/398 [==============================] - 0s 58us/step - loss: 0.0040 - acc: 1.0000\n",
      "Epoch 207/500\n",
      "398/398 [==============================] - 0s 59us/step - loss: 0.0039 - acc: 1.0000\n",
      "Epoch 208/500\n",
      "398/398 [==============================] - 0s 61us/step - loss: 0.0039 - acc: 1.0000\n",
      "Epoch 209/500\n",
      "398/398 [==============================] - 0s 67us/step - loss: 0.0039 - acc: 1.0000\n",
      "Epoch 210/500\n",
      "398/398 [==============================] - 0s 61us/step - loss: 0.0038 - acc: 1.0000\n",
      "Epoch 211/500\n",
      "398/398 [==============================] - 0s 63us/step - loss: 0.0037 - acc: 1.0000\n",
      "Epoch 212/500\n",
      "398/398 [==============================] - 0s 64us/step - loss: 0.0037 - acc: 1.0000\n",
      "Epoch 213/500\n",
      "398/398 [==============================] - 0s 68us/step - loss: 0.0036 - acc: 1.0000\n",
      "Epoch 214/500\n",
      "398/398 [==============================] - 0s 67us/step - loss: 0.0036 - acc: 1.0000\n",
      "Epoch 215/500\n",
      "398/398 [==============================] - 0s 63us/step - loss: 0.0036 - acc: 1.0000\n",
      "Epoch 216/500\n",
      "398/398 [==============================] - 0s 66us/step - loss: 0.0035 - acc: 1.0000\n",
      "Epoch 217/500\n",
      "398/398 [==============================] - 0s 64us/step - loss: 0.0035 - acc: 1.0000\n",
      "Epoch 218/500\n",
      "398/398 [==============================] - 0s 60us/step - loss: 0.0034 - acc: 1.0000\n",
      "Epoch 219/500\n",
      "398/398 [==============================] - 0s 63us/step - loss: 0.0034 - acc: 1.0000\n",
      "Epoch 220/500\n",
      "398/398 [==============================] - 0s 66us/step - loss: 0.0034 - acc: 1.0000\n",
      "Epoch 221/500\n",
      "398/398 [==============================] - 0s 61us/step - loss: 0.0032 - acc: 1.0000\n",
      "Epoch 222/500\n",
      "398/398 [==============================] - 0s 65us/step - loss: 0.0032 - acc: 1.0000\n",
      "Epoch 223/500\n",
      "398/398 [==============================] - 0s 72us/step - loss: 0.0032 - acc: 1.0000\n",
      "Epoch 224/500\n",
      "398/398 [==============================] - 0s 69us/step - loss: 0.0032 - acc: 1.0000\n",
      "Epoch 225/500\n",
      "398/398 [==============================] - 0s 62us/step - loss: 0.0031 - acc: 1.0000\n",
      "Epoch 226/500\n",
      "398/398 [==============================] - 0s 71us/step - loss: 0.0031 - acc: 1.0000\n",
      "Epoch 227/500\n",
      "398/398 [==============================] - 0s 65us/step - loss: 0.0030 - acc: 1.0000\n",
      "Epoch 228/500\n",
      "398/398 [==============================] - 0s 65us/step - loss: 0.0031 - acc: 1.0000\n",
      "Epoch 229/500\n",
      "398/398 [==============================] - 0s 63us/step - loss: 0.0030 - acc: 1.0000\n",
      "Epoch 230/500\n",
      "398/398 [==============================] - 0s 62us/step - loss: 0.0031 - acc: 1.0000\n",
      "Epoch 231/500\n",
      "398/398 [==============================] - 0s 65us/step - loss: 0.0030 - acc: 1.0000\n",
      "Epoch 232/500\n",
      "398/398 [==============================] - 0s 56us/step - loss: 0.0029 - acc: 1.0000\n",
      "Epoch 233/500\n",
      "398/398 [==============================] - 0s 58us/step - loss: 0.0029 - acc: 1.0000\n",
      "Epoch 234/500\n",
      "398/398 [==============================] - 0s 58us/step - loss: 0.0029 - acc: 1.0000\n",
      "Epoch 235/500\n",
      "398/398 [==============================] - 0s 61us/step - loss: 0.0028 - acc: 1.0000\n",
      "Epoch 236/500\n",
      "398/398 [==============================] - 0s 69us/step - loss: 0.0027 - acc: 1.0000\n",
      "Epoch 237/500\n",
      "398/398 [==============================] - 0s 74us/step - loss: 0.0027 - acc: 1.0000\n",
      "Epoch 238/500\n",
      "398/398 [==============================] - 0s 66us/step - loss: 0.0026 - acc: 1.0000\n",
      "Epoch 239/500\n",
      "398/398 [==============================] - 0s 66us/step - loss: 0.0026 - acc: 1.0000\n",
      "Epoch 240/500\n",
      "398/398 [==============================] - 0s 60us/step - loss: 0.0026 - acc: 1.0000\n",
      "Epoch 241/500\n",
      "398/398 [==============================] - 0s 71us/step - loss: 0.0025 - acc: 1.0000\n",
      "Epoch 242/500\n",
      "398/398 [==============================] - 0s 71us/step - loss: 0.0025 - acc: 1.0000\n",
      "Epoch 243/500\n",
      "398/398 [==============================] - 0s 68us/step - loss: 0.0026 - acc: 1.0000\n",
      "Epoch 244/500\n",
      "398/398 [==============================] - 0s 67us/step - loss: 0.0024 - acc: 1.0000\n",
      "Epoch 245/500\n",
      "398/398 [==============================] - 0s 67us/step - loss: 0.0025 - acc: 1.0000\n",
      "Epoch 246/500\n",
      "398/398 [==============================] - 0s 61us/step - loss: 0.0024 - acc: 1.0000\n",
      "Epoch 247/500\n",
      "398/398 [==============================] - 0s 61us/step - loss: 0.0023 - acc: 1.0000\n",
      "Epoch 248/500\n",
      "398/398 [==============================] - 0s 60us/step - loss: 0.0024 - acc: 1.0000\n",
      "Epoch 249/500\n",
      "398/398 [==============================] - 0s 63us/step - loss: 0.0023 - acc: 1.0000\n",
      "Epoch 250/500\n",
      "398/398 [==============================] - 0s 58us/step - loss: 0.0023 - acc: 1.0000\n",
      "Epoch 251/500\n",
      "398/398 [==============================] - 0s 69us/step - loss: 0.0023 - acc: 1.0000\n",
      "Epoch 252/500\n",
      "398/398 [==============================] - 0s 65us/step - loss: 0.0022 - acc: 1.0000\n",
      "Epoch 253/500\n",
      "398/398 [==============================] - 0s 61us/step - loss: 0.0022 - acc: 1.0000\n",
      "Epoch 254/500\n",
      "398/398 [==============================] - 0s 59us/step - loss: 0.0021 - acc: 1.0000\n",
      "Epoch 255/500\n",
      "398/398 [==============================] - 0s 62us/step - loss: 0.0021 - acc: 1.0000\n",
      "Epoch 256/500\n",
      "398/398 [==============================] - 0s 63us/step - loss: 0.0021 - acc: 1.0000\n",
      "Epoch 257/500\n",
      "398/398 [==============================] - 0s 65us/step - loss: 0.0021 - acc: 1.0000\n",
      "Epoch 258/500\n",
      "398/398 [==============================] - 0s 61us/step - loss: 0.0021 - acc: 1.0000\n",
      "Epoch 259/500\n",
      "398/398 [==============================] - 0s 62us/step - loss: 0.0021 - acc: 1.0000\n",
      "Epoch 260/500\n",
      "398/398 [==============================] - 0s 61us/step - loss: 0.0020 - acc: 1.0000\n",
      "Epoch 261/500\n",
      "398/398 [==============================] - 0s 57us/step - loss: 0.0020 - acc: 1.0000\n",
      "Epoch 262/500\n",
      "398/398 [==============================] - 0s 57us/step - loss: 0.0020 - acc: 1.0000\n",
      "Epoch 263/500\n",
      "398/398 [==============================] - 0s 60us/step - loss: 0.0019 - acc: 1.0000\n",
      "Epoch 264/500\n",
      "398/398 [==============================] - 0s 59us/step - loss: 0.0019 - acc: 1.0000\n",
      "Epoch 265/500\n",
      "398/398 [==============================] - 0s 64us/step - loss: 0.0019 - acc: 1.0000\n",
      "Epoch 266/500\n",
      "398/398 [==============================] - 0s 57us/step - loss: 0.0019 - acc: 1.0000\n",
      "Epoch 267/500\n",
      "398/398 [==============================] - 0s 63us/step - loss: 0.0018 - acc: 1.0000\n",
      "Epoch 268/500\n",
      "398/398 [==============================] - 0s 62us/step - loss: 0.0019 - acc: 1.0000\n",
      "Epoch 269/500\n",
      "398/398 [==============================] - 0s 68us/step - loss: 0.0018 - acc: 1.0000\n",
      "Epoch 270/500\n",
      "398/398 [==============================] - 0s 61us/step - loss: 0.0018 - acc: 1.0000\n",
      "Epoch 271/500\n",
      "398/398 [==============================] - 0s 70us/step - loss: 0.0017 - acc: 1.0000\n",
      "Epoch 272/500\n",
      "398/398 [==============================] - 0s 64us/step - loss: 0.0017 - acc: 1.0000\n",
      "Epoch 273/500\n",
      "398/398 [==============================] - 0s 60us/step - loss: 0.0017 - acc: 1.0000\n",
      "Epoch 274/500\n",
      "398/398 [==============================] - 0s 72us/step - loss: 0.0017 - acc: 1.0000\n",
      "Epoch 275/500\n",
      "398/398 [==============================] - 0s 60us/step - loss: 0.0017 - acc: 1.0000\n",
      "Epoch 276/500\n",
      "398/398 [==============================] - 0s 62us/step - loss: 0.0016 - acc: 1.0000\n",
      "Epoch 277/500\n",
      "398/398 [==============================] - 0s 62us/step - loss: 0.0016 - acc: 1.0000\n",
      "Epoch 278/500\n",
      "398/398 [==============================] - 0s 65us/step - loss: 0.0016 - acc: 1.0000\n",
      "Epoch 279/500\n",
      "398/398 [==============================] - 0s 62us/step - loss: 0.0015 - acc: 1.0000\n",
      "Epoch 280/500\n",
      "398/398 [==============================] - 0s 57us/step - loss: 0.0015 - acc: 1.0000\n",
      "Epoch 281/500\n",
      "398/398 [==============================] - 0s 60us/step - loss: 0.0015 - acc: 1.0000\n",
      "Epoch 282/500\n",
      "398/398 [==============================] - 0s 60us/step - loss: 0.0015 - acc: 1.0000\n",
      "Epoch 283/500\n",
      "398/398 [==============================] - 0s 65us/step - loss: 0.0015 - acc: 1.0000\n",
      "Epoch 284/500\n",
      "398/398 [==============================] - 0s 69us/step - loss: 0.0014 - acc: 1.0000\n",
      "Epoch 285/500\n",
      "398/398 [==============================] - 0s 59us/step - loss: 0.0014 - acc: 1.0000\n",
      "Epoch 286/500\n",
      "398/398 [==============================] - 0s 71us/step - loss: 0.0014 - acc: 1.0000\n",
      "Epoch 287/500\n",
      "398/398 [==============================] - 0s 65us/step - loss: 0.0014 - acc: 1.0000\n",
      "Epoch 288/500\n",
      "398/398 [==============================] - 0s 67us/step - loss: 0.0014 - acc: 1.0000\n",
      "Epoch 289/500\n",
      "398/398 [==============================] - 0s 67us/step - loss: 0.0014 - acc: 1.0000\n",
      "Epoch 290/500\n",
      "398/398 [==============================] - 0s 61us/step - loss: 0.0013 - acc: 1.0000\n",
      "Epoch 291/500\n",
      "398/398 [==============================] - 0s 60us/step - loss: 0.0013 - acc: 1.0000\n",
      "Epoch 292/500\n",
      "398/398 [==============================] - 0s 58us/step - loss: 0.0013 - acc: 1.0000\n",
      "Epoch 293/500\n",
      "398/398 [==============================] - 0s 59us/step - loss: 0.0013 - acc: 1.0000\n",
      "Epoch 294/500\n",
      "398/398 [==============================] - 0s 60us/step - loss: 0.0013 - acc: 1.0000\n",
      "Epoch 295/500\n",
      "398/398 [==============================] - 0s 59us/step - loss: 0.0012 - acc: 1.0000\n",
      "Epoch 296/500\n",
      "398/398 [==============================] - 0s 57us/step - loss: 0.0012 - acc: 1.0000\n",
      "Epoch 297/500\n",
      "398/398 [==============================] - 0s 63us/step - loss: 0.0012 - acc: 1.0000\n",
      "Epoch 298/500\n",
      "398/398 [==============================] - 0s 61us/step - loss: 0.0012 - acc: 1.0000\n",
      "Epoch 299/500\n",
      "398/398 [==============================] - 0s 62us/step - loss: 0.0012 - acc: 1.0000\n",
      "Epoch 300/500\n",
      "398/398 [==============================] - 0s 63us/step - loss: 0.0011 - acc: 1.0000\n",
      "Epoch 301/500\n",
      "398/398 [==============================] - 0s 66us/step - loss: 0.0011 - acc: 1.0000\n",
      "Epoch 302/500\n",
      "398/398 [==============================] - 0s 65us/step - loss: 0.0011 - acc: 1.0000\n",
      "Epoch 303/500\n",
      "398/398 [==============================] - 0s 63us/step - loss: 0.0011 - acc: 1.0000\n",
      "Epoch 304/500\n",
      "398/398 [==============================] - 0s 65us/step - loss: 0.0011 - acc: 1.0000\n",
      "Epoch 305/500\n",
      "398/398 [==============================] - 0s 66us/step - loss: 0.0011 - acc: 1.0000\n",
      "Epoch 306/500\n",
      "398/398 [==============================] - 0s 63us/step - loss: 0.0010 - acc: 1.0000\n",
      "Epoch 307/500\n",
      "398/398 [==============================] - 0s 66us/step - loss: 0.0011 - acc: 1.0000\n",
      "Epoch 308/500\n",
      "398/398 [==============================] - 0s 65us/step - loss: 0.0010 - acc: 1.0000\n",
      "Epoch 309/500\n",
      "398/398 [==============================] - 0s 62us/step - loss: 0.0010 - acc: 1.0000\n",
      "Epoch 310/500\n",
      "398/398 [==============================] - 0s 59us/step - loss: 9.8522e-04 - acc: 1.0000\n",
      "Epoch 311/500\n",
      "398/398 [==============================] - 0s 64us/step - loss: 9.9196e-04 - acc: 1.0000\n",
      "Epoch 312/500\n",
      "398/398 [==============================] - 0s 66us/step - loss: 9.5484e-04 - acc: 1.0000\n",
      "Epoch 313/500\n",
      "398/398 [==============================] - 0s 63us/step - loss: 9.5375e-04 - acc: 1.0000\n",
      "Epoch 314/500\n",
      "398/398 [==============================] - 0s 62us/step - loss: 9.3621e-04 - acc: 1.0000\n",
      "Epoch 315/500\n",
      "398/398 [==============================] - 0s 67us/step - loss: 9.1339e-04 - acc: 1.0000\n",
      "Epoch 316/500\n",
      "398/398 [==============================] - 0s 66us/step - loss: 9.0921e-04 - acc: 1.0000\n",
      "Epoch 317/500\n",
      "398/398 [==============================] - 0s 61us/step - loss: 8.9003e-04 - acc: 1.0000\n",
      "Epoch 318/500\n",
      "398/398 [==============================] - 0s 60us/step - loss: 8.8564e-04 - acc: 1.0000\n",
      "Epoch 319/500\n",
      "398/398 [==============================] - 0s 65us/step - loss: 8.7476e-04 - acc: 1.0000\n",
      "Epoch 320/500\n",
      "398/398 [==============================] - 0s 63us/step - loss: 8.6707e-04 - acc: 1.0000\n",
      "Epoch 321/500\n",
      "398/398 [==============================] - 0s 65us/step - loss: 8.4268e-04 - acc: 1.0000\n",
      "Epoch 322/500\n",
      "398/398 [==============================] - 0s 64us/step - loss: 8.2421e-04 - acc: 1.0000\n",
      "Epoch 323/500\n",
      "398/398 [==============================] - 0s 57us/step - loss: 8.3617e-04 - acc: 1.0000\n",
      "Epoch 324/500\n",
      "398/398 [==============================] - 0s 63us/step - loss: 8.1203e-04 - acc: 1.0000\n",
      "Epoch 325/500\n",
      "398/398 [==============================] - 0s 58us/step - loss: 8.0197e-04 - acc: 1.0000\n",
      "Epoch 326/500\n",
      "398/398 [==============================] - 0s 59us/step - loss: 7.8049e-04 - acc: 1.0000\n",
      "Epoch 327/500\n",
      "398/398 [==============================] - 0s 65us/step - loss: 7.7810e-04 - acc: 1.0000\n",
      "Epoch 328/500\n",
      "398/398 [==============================] - 0s 64us/step - loss: 7.6560e-04 - acc: 1.0000\n",
      "Epoch 329/500\n",
      "398/398 [==============================] - 0s 62us/step - loss: 7.5075e-04 - acc: 1.0000\n",
      "Epoch 330/500\n",
      "398/398 [==============================] - 0s 72us/step - loss: 7.5449e-04 - acc: 1.0000\n",
      "Epoch 331/500\n"
     ]
    },
    {
     "name": "stdout",
     "output_type": "stream",
     "text": [
      "398/398 [==============================] - 0s 67us/step - loss: 7.3705e-04 - acc: 1.0000\n",
      "Epoch 332/500\n",
      "398/398 [==============================] - 0s 67us/step - loss: 7.3653e-04 - acc: 1.0000\n",
      "Epoch 333/500\n",
      "398/398 [==============================] - 0s 69us/step - loss: 7.1187e-04 - acc: 1.0000\n",
      "Epoch 334/500\n",
      "398/398 [==============================] - 0s 62us/step - loss: 7.0467e-04 - acc: 1.0000\n",
      "Epoch 335/500\n",
      "398/398 [==============================] - 0s 67us/step - loss: 6.8279e-04 - acc: 1.0000\n",
      "Epoch 336/500\n",
      "398/398 [==============================] - 0s 65us/step - loss: 6.9620e-04 - acc: 1.0000\n",
      "Epoch 337/500\n",
      "398/398 [==============================] - 0s 55us/step - loss: 6.7200e-04 - acc: 1.0000\n",
      "Epoch 338/500\n",
      "398/398 [==============================] - 0s 58us/step - loss: 6.6436e-04 - acc: 1.0000\n",
      "Epoch 339/500\n",
      "398/398 [==============================] - 0s 58us/step - loss: 6.6300e-04 - acc: 1.0000\n",
      "Epoch 340/500\n",
      "398/398 [==============================] - 0s 62us/step - loss: 6.4919e-04 - acc: 1.0000\n",
      "Epoch 341/500\n",
      "398/398 [==============================] - 0s 61us/step - loss: 6.3965e-04 - acc: 1.0000\n",
      "Epoch 342/500\n",
      "398/398 [==============================] - 0s 59us/step - loss: 6.2704e-04 - acc: 1.0000\n",
      "Epoch 343/500\n",
      "398/398 [==============================] - 0s 57us/step - loss: 6.1997e-04 - acc: 1.0000\n",
      "Epoch 344/500\n",
      "398/398 [==============================] - 0s 65us/step - loss: 6.1846e-04 - acc: 1.0000\n",
      "Epoch 345/500\n",
      "398/398 [==============================] - 0s 62us/step - loss: 6.0975e-04 - acc: 1.0000\n",
      "Epoch 346/500\n",
      "398/398 [==============================] - 0s 65us/step - loss: 5.9945e-04 - acc: 1.0000\n",
      "Epoch 347/500\n",
      "398/398 [==============================] - 0s 67us/step - loss: 5.8817e-04 - acc: 1.0000\n",
      "Epoch 348/500\n",
      "398/398 [==============================] - 0s 66us/step - loss: 5.9338e-04 - acc: 1.0000\n",
      "Epoch 349/500\n",
      "398/398 [==============================] - 0s 63us/step - loss: 5.7896e-04 - acc: 1.0000\n",
      "Epoch 350/500\n",
      "398/398 [==============================] - 0s 62us/step - loss: 5.6927e-04 - acc: 1.0000\n",
      "Epoch 351/500\n",
      "398/398 [==============================] - 0s 64us/step - loss: 5.7473e-04 - acc: 1.0000\n",
      "Epoch 352/500\n",
      "398/398 [==============================] - 0s 65us/step - loss: 5.5413e-04 - acc: 1.0000\n",
      "Epoch 353/500\n",
      "398/398 [==============================] - 0s 63us/step - loss: 5.4776e-04 - acc: 1.0000\n",
      "Epoch 354/500\n",
      "398/398 [==============================] - 0s 66us/step - loss: 5.4421e-04 - acc: 1.0000\n",
      "Epoch 355/500\n",
      "398/398 [==============================] - 0s 61us/step - loss: 5.5271e-04 - acc: 1.0000\n",
      "Epoch 356/500\n",
      "398/398 [==============================] - 0s 63us/step - loss: 5.2850e-04 - acc: 1.0000\n",
      "Epoch 357/500\n",
      "398/398 [==============================] - 0s 59us/step - loss: 5.2750e-04 - acc: 1.0000\n",
      "Epoch 358/500\n",
      "398/398 [==============================] - 0s 62us/step - loss: 5.3345e-04 - acc: 1.0000\n",
      "Epoch 359/500\n",
      "398/398 [==============================] - 0s 62us/step - loss: 5.0785e-04 - acc: 1.0000\n",
      "Epoch 360/500\n",
      "398/398 [==============================] - 0s 76us/step - loss: 5.0399e-04 - acc: 1.0000\n",
      "Epoch 361/500\n",
      "398/398 [==============================] - 0s 63us/step - loss: 5.0165e-04 - acc: 1.0000\n",
      "Epoch 362/500\n",
      "398/398 [==============================] - 0s 64us/step - loss: 4.9053e-04 - acc: 1.0000\n",
      "Epoch 363/500\n",
      "398/398 [==============================] - 0s 63us/step - loss: 4.9035e-04 - acc: 1.0000\n",
      "Epoch 364/500\n",
      "398/398 [==============================] - 0s 63us/step - loss: 4.8131e-04 - acc: 1.0000\n",
      "Epoch 365/500\n",
      "398/398 [==============================] - 0s 67us/step - loss: 4.7023e-04 - acc: 1.0000\n",
      "Epoch 366/500\n",
      "398/398 [==============================] - 0s 67us/step - loss: 4.6818e-04 - acc: 1.0000\n",
      "Epoch 367/500\n",
      "398/398 [==============================] - 0s 59us/step - loss: 4.6561e-04 - acc: 1.0000\n",
      "Epoch 368/500\n",
      "398/398 [==============================] - 0s 60us/step - loss: 4.5986e-04 - acc: 1.0000\n",
      "Epoch 369/500\n",
      "398/398 [==============================] - 0s 56us/step - loss: 4.5272e-04 - acc: 1.0000\n",
      "Epoch 370/500\n",
      "398/398 [==============================] - 0s 55us/step - loss: 4.4664e-04 - acc: 1.0000\n",
      "Epoch 371/500\n",
      "398/398 [==============================] - 0s 57us/step - loss: 4.4492e-04 - acc: 1.0000\n",
      "Epoch 372/500\n",
      "398/398 [==============================] - 0s 67us/step - loss: 4.3447e-04 - acc: 1.0000\n",
      "Epoch 373/500\n",
      "398/398 [==============================] - 0s 66us/step - loss: 4.3136e-04 - acc: 1.0000\n",
      "Epoch 374/500\n",
      "398/398 [==============================] - 0s 69us/step - loss: 4.2336e-04 - acc: 1.0000\n",
      "Epoch 375/500\n",
      "398/398 [==============================] - 0s 66us/step - loss: 4.2443e-04 - acc: 1.0000\n",
      "Epoch 376/500\n",
      "398/398 [==============================] - 0s 68us/step - loss: 4.1644e-04 - acc: 1.0000\n",
      "Epoch 377/500\n",
      "398/398 [==============================] - 0s 68us/step - loss: 4.0933e-04 - acc: 1.0000\n",
      "Epoch 378/500\n",
      "398/398 [==============================] - 0s 64us/step - loss: 4.1428e-04 - acc: 1.0000\n",
      "Epoch 379/500\n",
      "398/398 [==============================] - 0s 59us/step - loss: 4.0151e-04 - acc: 1.0000\n",
      "Epoch 380/500\n",
      "398/398 [==============================] - 0s 73us/step - loss: 3.9597e-04 - acc: 1.0000\n",
      "Epoch 381/500\n",
      "398/398 [==============================] - 0s 66us/step - loss: 3.9262e-04 - acc: 1.0000\n",
      "Epoch 382/500\n",
      "398/398 [==============================] - 0s 67us/step - loss: 3.8710e-04 - acc: 1.0000\n",
      "Epoch 383/500\n",
      "398/398 [==============================] - 0s 60us/step - loss: 3.8148e-04 - acc: 1.0000\n",
      "Epoch 384/500\n",
      "398/398 [==============================] - 0s 61us/step - loss: 3.7883e-04 - acc: 1.0000\n",
      "Epoch 385/500\n",
      "398/398 [==============================] - 0s 58us/step - loss: 3.7160e-04 - acc: 1.0000\n",
      "Epoch 386/500\n",
      "398/398 [==============================] - 0s 67us/step - loss: 3.7045e-04 - acc: 1.0000\n",
      "Epoch 387/500\n",
      "398/398 [==============================] - 0s 60us/step - loss: 3.6491e-04 - acc: 1.0000\n",
      "Epoch 388/500\n",
      "398/398 [==============================] - 0s 68us/step - loss: 3.6188e-04 - acc: 1.0000\n",
      "Epoch 389/500\n",
      "398/398 [==============================] - 0s 68us/step - loss: 3.5815e-04 - acc: 1.0000\n",
      "Epoch 390/500\n",
      "398/398 [==============================] - 0s 63us/step - loss: 3.5475e-04 - acc: 1.0000\n",
      "Epoch 391/500\n",
      "398/398 [==============================] - 0s 69us/step - loss: 3.5450e-04 - acc: 1.0000\n",
      "Epoch 392/500\n",
      "398/398 [==============================] - 0s 68us/step - loss: 3.4025e-04 - acc: 1.0000\n",
      "Epoch 393/500\n",
      "398/398 [==============================] - 0s 65us/step - loss: 3.4575e-04 - acc: 1.0000\n",
      "Epoch 394/500\n",
      "398/398 [==============================] - 0s 66us/step - loss: 3.3819e-04 - acc: 1.0000\n",
      "Epoch 395/500\n",
      "398/398 [==============================] - 0s 57us/step - loss: 3.3439e-04 - acc: 1.0000\n",
      "Epoch 396/500\n",
      "398/398 [==============================] - 0s 59us/step - loss: 3.3274e-04 - acc: 1.0000\n",
      "Epoch 397/500\n",
      "398/398 [==============================] - 0s 65us/step - loss: 3.2694e-04 - acc: 1.0000\n",
      "Epoch 398/500\n",
      "398/398 [==============================] - 0s 65us/step - loss: 3.2090e-04 - acc: 1.0000\n",
      "Epoch 399/500\n",
      "398/398 [==============================] - 0s 63us/step - loss: 3.1820e-04 - acc: 1.0000\n",
      "Epoch 400/500\n",
      "398/398 [==============================] - 0s 65us/step - loss: 3.1433e-04 - acc: 1.0000\n",
      "Epoch 401/500\n",
      "398/398 [==============================] - 0s 65us/step - loss: 3.1577e-04 - acc: 1.0000\n",
      "Epoch 402/500\n",
      "398/398 [==============================] - 0s 68us/step - loss: 3.0741e-04 - acc: 1.0000\n",
      "Epoch 403/500\n",
      "398/398 [==============================] - 0s 66us/step - loss: 3.0341e-04 - acc: 1.0000\n",
      "Epoch 404/500\n",
      "398/398 [==============================] - 0s 66us/step - loss: 3.0113e-04 - acc: 1.0000\n",
      "Epoch 405/500\n",
      "398/398 [==============================] - 0s 62us/step - loss: 2.9558e-04 - acc: 1.0000\n",
      "Epoch 406/500\n",
      "398/398 [==============================] - 0s 64us/step - loss: 2.9465e-04 - acc: 1.0000\n",
      "Epoch 407/500\n",
      "398/398 [==============================] - 0s 70us/step - loss: 2.9008e-04 - acc: 1.0000\n",
      "Epoch 408/500\n",
      "398/398 [==============================] - 0s 64us/step - loss: 2.9342e-04 - acc: 1.0000\n",
      "Epoch 409/500\n",
      "398/398 [==============================] - 0s 67us/step - loss: 2.8402e-04 - acc: 1.0000\n",
      "Epoch 410/500\n",
      "398/398 [==============================] - 0s 69us/step - loss: 2.8160e-04 - acc: 1.0000\n",
      "Epoch 411/500\n",
      "398/398 [==============================] - 0s 60us/step - loss: 2.7926e-04 - acc: 1.0000\n",
      "Epoch 412/500\n",
      "398/398 [==============================] - 0s 60us/step - loss: 2.7365e-04 - acc: 1.0000\n",
      "Epoch 413/500\n",
      "398/398 [==============================] - 0s 58us/step - loss: 2.7109e-04 - acc: 1.0000\n",
      "Epoch 414/500\n",
      "398/398 [==============================] - 0s 57us/step - loss: 2.7078e-04 - acc: 1.0000\n",
      "Epoch 415/500\n",
      "398/398 [==============================] - 0s 55us/step - loss: 2.6648e-04 - acc: 1.0000\n",
      "Epoch 416/500\n",
      "398/398 [==============================] - 0s 59us/step - loss: 2.6508e-04 - acc: 1.0000\n",
      "Epoch 417/500\n",
      "398/398 [==============================] - 0s 62us/step - loss: 2.5845e-04 - acc: 1.0000\n",
      "Epoch 418/500\n",
      "398/398 [==============================] - 0s 61us/step - loss: 2.5785e-04 - acc: 1.0000\n",
      "Epoch 419/500\n",
      "398/398 [==============================] - 0s 57us/step - loss: 2.5714e-04 - acc: 1.0000\n",
      "Epoch 420/500\n",
      "398/398 [==============================] - 0s 64us/step - loss: 2.5116e-04 - acc: 1.0000\n",
      "Epoch 421/500\n",
      "398/398 [==============================] - 0s 61us/step - loss: 2.4898e-04 - acc: 1.0000\n",
      "Epoch 422/500\n",
      "398/398 [==============================] - 0s 60us/step - loss: 2.4682e-04 - acc: 1.0000\n",
      "Epoch 423/500\n",
      "398/398 [==============================] - 0s 65us/step - loss: 2.4848e-04 - acc: 1.0000\n",
      "Epoch 424/500\n",
      "398/398 [==============================] - 0s 62us/step - loss: 2.3934e-04 - acc: 1.0000\n",
      "Epoch 425/500\n",
      "398/398 [==============================] - 0s 61us/step - loss: 2.3828e-04 - acc: 1.0000\n",
      "Epoch 426/500\n",
      "398/398 [==============================] - 0s 61us/step - loss: 2.3606e-04 - acc: 1.0000\n",
      "Epoch 427/500\n",
      "398/398 [==============================] - 0s 64us/step - loss: 2.3994e-04 - acc: 1.0000\n",
      "Epoch 428/500\n",
      "398/398 [==============================] - 0s 61us/step - loss: 2.3674e-04 - acc: 1.0000\n",
      "Epoch 429/500\n",
      "398/398 [==============================] - 0s 54us/step - loss: 2.3501e-04 - acc: 1.0000\n",
      "Epoch 430/500\n",
      "398/398 [==============================] - 0s 59us/step - loss: 2.2793e-04 - acc: 1.0000\n",
      "Epoch 431/500\n",
      "398/398 [==============================] - 0s 59us/step - loss: 2.2131e-04 - acc: 1.0000\n",
      "Epoch 432/500\n",
      "398/398 [==============================] - 0s 54us/step - loss: 2.2289e-04 - acc: 1.0000\n",
      "Epoch 433/500\n",
      "398/398 [==============================] - 0s 61us/step - loss: 2.1771e-04 - acc: 1.0000\n",
      "Epoch 434/500\n",
      "398/398 [==============================] - 0s 55us/step - loss: 2.1716e-04 - acc: 1.0000\n",
      "Epoch 435/500\n",
      "398/398 [==============================] - 0s 62us/step - loss: 2.1435e-04 - acc: 1.0000\n",
      "Epoch 436/500\n",
      "398/398 [==============================] - 0s 59us/step - loss: 2.1113e-04 - acc: 1.0000\n",
      "Epoch 437/500\n",
      "398/398 [==============================] - 0s 59us/step - loss: 2.1031e-04 - acc: 1.0000\n",
      "Epoch 438/500\n",
      "398/398 [==============================] - 0s 66us/step - loss: 2.0835e-04 - acc: 1.0000\n",
      "Epoch 439/500\n",
      "398/398 [==============================] - 0s 63us/step - loss: 2.0392e-04 - acc: 1.0000\n",
      "Epoch 440/500\n",
      "398/398 [==============================] - 0s 65us/step - loss: 2.0511e-04 - acc: 1.0000\n",
      "Epoch 441/500\n",
      "398/398 [==============================] - 0s 62us/step - loss: 2.0180e-04 - acc: 1.0000\n",
      "Epoch 442/500\n",
      "398/398 [==============================] - 0s 53us/step - loss: 1.9816e-04 - acc: 1.0000\n",
      "Epoch 443/500\n",
      "398/398 [==============================] - 0s 58us/step - loss: 1.9569e-04 - acc: 1.0000\n",
      "Epoch 444/500\n",
      "398/398 [==============================] - 0s 62us/step - loss: 1.9549e-04 - acc: 1.0000\n",
      "Epoch 445/500\n",
      "398/398 [==============================] - 0s 62us/step - loss: 1.9345e-04 - acc: 1.0000\n",
      "Epoch 446/500\n",
      "398/398 [==============================] - 0s 61us/step - loss: 1.9003e-04 - acc: 1.0000\n",
      "Epoch 447/500\n",
      "398/398 [==============================] - 0s 56us/step - loss: 1.9066e-04 - acc: 1.0000\n",
      "Epoch 448/500\n",
      "398/398 [==============================] - 0s 61us/step - loss: 1.8742e-04 - acc: 1.0000\n",
      "Epoch 449/500\n",
      "398/398 [==============================] - 0s 54us/step - loss: 1.8519e-04 - acc: 1.0000\n",
      "Epoch 450/500\n",
      "398/398 [==============================] - 0s 61us/step - loss: 1.8647e-04 - acc: 1.0000\n",
      "Epoch 451/500\n",
      "398/398 [==============================] - 0s 61us/step - loss: 1.8014e-04 - acc: 1.0000\n",
      "Epoch 452/500\n",
      "398/398 [==============================] - 0s 60us/step - loss: 1.7951e-04 - acc: 1.0000\n",
      "Epoch 453/500\n",
      "398/398 [==============================] - 0s 64us/step - loss: 1.7698e-04 - acc: 1.0000\n",
      "Epoch 454/500\n",
      "398/398 [==============================] - 0s 68us/step - loss: 1.7750e-04 - acc: 1.0000\n",
      "Epoch 455/500\n",
      "398/398 [==============================] - 0s 60us/step - loss: 1.7466e-04 - acc: 1.0000\n",
      "Epoch 456/500\n",
      "398/398 [==============================] - 0s 62us/step - loss: 1.7156e-04 - acc: 1.0000\n",
      "Epoch 457/500\n",
      "398/398 [==============================] - 0s 56us/step - loss: 1.6947e-04 - acc: 1.0000\n",
      "Epoch 458/500\n",
      "398/398 [==============================] - 0s 65us/step - loss: 1.6827e-04 - acc: 1.0000\n",
      "Epoch 459/500\n",
      "398/398 [==============================] - 0s 59us/step - loss: 1.6725e-04 - acc: 1.0000\n",
      "Epoch 460/500\n",
      "398/398 [==============================] - 0s 65us/step - loss: 1.6833e-04 - acc: 1.0000\n",
      "Epoch 461/500\n",
      "398/398 [==============================] - 0s 62us/step - loss: 1.6805e-04 - acc: 1.0000\n",
      "Epoch 462/500\n",
      "398/398 [==============================] - 0s 65us/step - loss: 1.6906e-04 - acc: 1.0000\n",
      "Epoch 463/500\n",
      "398/398 [==============================] - 0s 62us/step - loss: 1.6414e-04 - acc: 1.0000\n",
      "Epoch 464/500\n",
      "398/398 [==============================] - 0s 68us/step - loss: 1.5844e-04 - acc: 1.0000\n",
      "Epoch 465/500\n",
      "398/398 [==============================] - 0s 53us/step - loss: 1.5736e-04 - acc: 1.0000\n",
      "Epoch 466/500\n",
      "398/398 [==============================] - 0s 68us/step - loss: 1.5485e-04 - acc: 1.0000\n",
      "Epoch 467/500\n",
      "398/398 [==============================] - 0s 54us/step - loss: 1.5352e-04 - acc: 1.0000\n",
      "Epoch 468/500\n",
      "398/398 [==============================] - 0s 65us/step - loss: 1.5159e-04 - acc: 1.0000\n",
      "Epoch 469/500\n",
      "398/398 [==============================] - 0s 57us/step - loss: 1.4955e-04 - acc: 1.0000\n",
      "Epoch 470/500\n",
      "398/398 [==============================] - 0s 59us/step - loss: 1.4832e-04 - acc: 1.0000\n",
      "Epoch 471/500\n",
      "398/398 [==============================] - 0s 61us/step - loss: 1.4777e-04 - acc: 1.0000\n",
      "Epoch 472/500\n",
      "398/398 [==============================] - 0s 63us/step - loss: 1.4700e-04 - acc: 1.0000\n",
      "Epoch 473/500\n",
      "398/398 [==============================] - 0s 63us/step - loss: 1.4545e-04 - acc: 1.0000\n",
      "Epoch 474/500\n",
      "398/398 [==============================] - 0s 73us/step - loss: 1.4395e-04 - acc: 1.0000\n",
      "Epoch 475/500\n",
      "398/398 [==============================] - 0s 56us/step - loss: 1.4090e-04 - acc: 1.0000\n",
      "Epoch 476/500\n",
      "398/398 [==============================] - 0s 68us/step - loss: 1.4118e-04 - acc: 1.0000\n",
      "Epoch 477/500\n",
      "398/398 [==============================] - 0s 55us/step - loss: 1.3892e-04 - acc: 1.0000\n",
      "Epoch 478/500\n",
      "398/398 [==============================] - 0s 67us/step - loss: 1.3663e-04 - acc: 1.0000\n",
      "Epoch 479/500\n",
      "398/398 [==============================] - 0s 54us/step - loss: 1.3593e-04 - acc: 1.0000\n",
      "Epoch 480/500\n",
      "398/398 [==============================] - 0s 61us/step - loss: 1.3516e-04 - acc: 1.0000\n",
      "Epoch 481/500\n",
      "398/398 [==============================] - 0s 51us/step - loss: 1.3444e-04 - acc: 1.0000\n",
      "Epoch 482/500\n",
      "398/398 [==============================] - 0s 61us/step - loss: 1.3163e-04 - acc: 1.0000\n",
      "Epoch 483/500\n",
      "398/398 [==============================] - 0s 60us/step - loss: 1.3210e-04 - acc: 1.0000\n",
      "Epoch 484/500\n",
      "398/398 [==============================] - 0s 62us/step - loss: 1.3280e-04 - acc: 1.0000\n",
      "Epoch 485/500\n",
      "398/398 [==============================] - 0s 68us/step - loss: 1.2828e-04 - acc: 1.0000\n",
      "Epoch 486/500\n",
      "398/398 [==============================] - 0s 58us/step - loss: 1.2805e-04 - acc: 1.0000\n",
      "Epoch 487/500\n",
      "398/398 [==============================] - 0s 63us/step - loss: 1.2635e-04 - acc: 1.0000\n",
      "Epoch 488/500\n",
      "398/398 [==============================] - 0s 58us/step - loss: 1.2539e-04 - acc: 1.0000\n",
      "Epoch 489/500\n"
     ]
    },
    {
     "name": "stdout",
     "output_type": "stream",
     "text": [
      "398/398 [==============================] - 0s 60us/step - loss: 1.2274e-04 - acc: 1.0000\n",
      "Epoch 490/500\n",
      "398/398 [==============================] - 0s 61us/step - loss: 1.2257e-04 - acc: 1.0000\n",
      "Epoch 491/500\n",
      "398/398 [==============================] - 0s 65us/step - loss: 1.2115e-04 - acc: 1.0000\n",
      "Epoch 492/500\n",
      "398/398 [==============================] - 0s 59us/step - loss: 1.2080e-04 - acc: 1.0000\n",
      "Epoch 493/500\n",
      "398/398 [==============================] - 0s 58us/step - loss: 1.2160e-04 - acc: 1.0000\n",
      "Epoch 494/500\n",
      "398/398 [==============================] - 0s 61us/step - loss: 1.1774e-04 - acc: 1.0000\n",
      "Epoch 495/500\n",
      "398/398 [==============================] - 0s 58us/step - loss: 1.1670e-04 - acc: 1.0000\n",
      "Epoch 496/500\n",
      "398/398 [==============================] - 0s 67us/step - loss: 1.1734e-04 - acc: 1.0000\n",
      "Epoch 497/500\n",
      "398/398 [==============================] - 0s 67us/step - loss: 1.1472e-04 - acc: 1.0000\n",
      "Epoch 498/500\n",
      "398/398 [==============================] - 0s 64us/step - loss: 1.1315e-04 - acc: 1.0000\n",
      "Epoch 499/500\n",
      "398/398 [==============================] - 0s 57us/step - loss: 1.1157e-04 - acc: 1.0000\n",
      "Epoch 500/500\n",
      "398/398 [==============================] - 0s 63us/step - loss: 1.1188e-04 - acc: 1.0000\n",
      "Accuacy train:1.000 ,test:0.953\n"
     ]
    }
   ],
   "source": [
    "from sklearn.metrics import accuracy_score\n",
    "from keras.models import Sequential\n",
    "from keras.layers import Dense\n",
    "from keras.wrappers.scikit_learn import KerasClassifier\n",
    "\n",
    "from sklearn.preprocessing import StandardScaler\n",
    "sc=StandardScaler()\n",
    "train_std=sc.fit_transform(X_train)\n",
    "test_std=sc.transform(X_test)\n",
    "\n",
    "def create_model():\n",
    "    model=Sequential()\n",
    "    model.add(Dense(12,input_dim=X_train.shape[1],activation='relu'))\n",
    "    model.add(Dense(6,activation='relu'))\n",
    "    model.add(Dense(1,activation='sigmoid'))\n",
    "    model.compile(loss='binary_crossentropy',optimizer='Adam',metrics=['accuracy'])\n",
    "    return model\n",
    "\n",
    "nn_clf=KerasClassifier(build_fn=create_model,epochs=500)\n",
    "nn_clf.fit(train_std,y_train)\n",
    "y_train_pred=nn_clf.predict(train_std)\n",
    "y_test_pred=nn_clf.predict(test_std)\n",
    "print('Accuacy train:%.3f ,test:%.3f' % (accuracy_score(y_train,y_train_pred),accuracy_score(y_test,y_test_pred)))"
   ]
  },
  {
   "cell_type": "markdown",
   "metadata": {},
   "source": [
    "## 他クラス分類"
   ]
  },
  {
   "cell_type": "code",
   "execution_count": 17,
   "metadata": {},
   "outputs": [
    {
     "name": "stdout",
     "output_type": "stream",
     "text": [
      "Epoch 1/500\n",
      "142/142 [==============================] - 0s 2ms/step - loss: 1.0764 - acc: 0.5282\n",
      "Epoch 2/500\n",
      "142/142 [==============================] - 0s 61us/step - loss: 0.9955 - acc: 0.5563\n",
      "Epoch 3/500\n",
      "142/142 [==============================] - 0s 83us/step - loss: 0.9286 - acc: 0.5986\n",
      "Epoch 4/500\n",
      "142/142 [==============================] - 0s 92us/step - loss: 0.8653 - acc: 0.6479\n",
      "Epoch 5/500\n",
      "142/142 [==============================] - 0s 70us/step - loss: 0.8051 - acc: 0.7042\n",
      "Epoch 6/500\n",
      "142/142 [==============================] - 0s 83us/step - loss: 0.7489 - acc: 0.7324\n",
      "Epoch 7/500\n",
      "142/142 [==============================] - 0s 79us/step - loss: 0.6949 - acc: 0.8169\n",
      "Epoch 8/500\n",
      "142/142 [==============================] - 0s 61us/step - loss: 0.6424 - acc: 0.8944\n",
      "Epoch 9/500\n",
      "142/142 [==============================] - 0s 98us/step - loss: 0.5931 - acc: 0.9014\n",
      "Epoch 10/500\n",
      "142/142 [==============================] - 0s 69us/step - loss: 0.5493 - acc: 0.9155\n",
      "Epoch 11/500\n",
      "142/142 [==============================] - 0s 92us/step - loss: 0.5076 - acc: 0.9155\n",
      "Epoch 12/500\n",
      "142/142 [==============================] - 0s 73us/step - loss: 0.4692 - acc: 0.9366\n",
      "Epoch 13/500\n",
      "142/142 [==============================] - 0s 67us/step - loss: 0.4345 - acc: 0.9437\n",
      "Epoch 14/500\n",
      "142/142 [==============================] - 0s 87us/step - loss: 0.4013 - acc: 0.9437\n",
      "Epoch 15/500\n",
      "142/142 [==============================] - 0s 71us/step - loss: 0.3702 - acc: 0.9507\n",
      "Epoch 16/500\n",
      "142/142 [==============================] - 0s 95us/step - loss: 0.3416 - acc: 0.9577\n",
      "Epoch 17/500\n",
      "142/142 [==============================] - 0s 72us/step - loss: 0.3142 - acc: 0.9648\n",
      "Epoch 18/500\n",
      "142/142 [==============================] - 0s 64us/step - loss: 0.2886 - acc: 0.9789\n",
      "Epoch 19/500\n",
      "142/142 [==============================] - 0s 80us/step - loss: 0.2641 - acc: 0.9789\n",
      "Epoch 20/500\n",
      "142/142 [==============================] - 0s 71us/step - loss: 0.2420 - acc: 0.9859\n",
      "Epoch 21/500\n",
      "142/142 [==============================] - 0s 77us/step - loss: 0.2211 - acc: 0.9859\n",
      "Epoch 22/500\n",
      "142/142 [==============================] - 0s 94us/step - loss: 0.2028 - acc: 0.9859\n",
      "Epoch 23/500\n",
      "142/142 [==============================] - 0s 82us/step - loss: 0.1856 - acc: 0.9930\n",
      "Epoch 24/500\n",
      "142/142 [==============================] - 0s 76us/step - loss: 0.1703 - acc: 0.9930\n",
      "Epoch 25/500\n",
      "142/142 [==============================] - 0s 63us/step - loss: 0.1560 - acc: 0.9930\n",
      "Epoch 26/500\n",
      "142/142 [==============================] - 0s 83us/step - loss: 0.1437 - acc: 0.9930\n",
      "Epoch 27/500\n",
      "142/142 [==============================] - 0s 73us/step - loss: 0.1322 - acc: 0.9930\n",
      "Epoch 28/500\n",
      "142/142 [==============================] - 0s 61us/step - loss: 0.1220 - acc: 0.9930\n",
      "Epoch 29/500\n",
      "142/142 [==============================] - 0s 98us/step - loss: 0.1126 - acc: 0.9930\n",
      "Epoch 30/500\n",
      "142/142 [==============================] - 0s 75us/step - loss: 0.1047 - acc: 0.9930\n",
      "Epoch 31/500\n",
      "142/142 [==============================] - 0s 70us/step - loss: 0.0970 - acc: 0.9930\n",
      "Epoch 32/500\n",
      "142/142 [==============================] - 0s 73us/step - loss: 0.0902 - acc: 0.9930\n",
      "Epoch 33/500\n",
      "142/142 [==============================] - 0s 72us/step - loss: 0.0841 - acc: 0.9930\n",
      "Epoch 34/500\n",
      "142/142 [==============================] - 0s 82us/step - loss: 0.0787 - acc: 1.0000\n",
      "Epoch 35/500\n",
      "142/142 [==============================] - 0s 69us/step - loss: 0.0739 - acc: 1.0000\n",
      "Epoch 36/500\n",
      "142/142 [==============================] - 0s 68us/step - loss: 0.0695 - acc: 1.0000\n",
      "Epoch 37/500\n",
      "142/142 [==============================] - 0s 95us/step - loss: 0.0654 - acc: 1.0000\n",
      "Epoch 38/500\n",
      "142/142 [==============================] - 0s 62us/step - loss: 0.0618 - acc: 1.0000\n",
      "Epoch 39/500\n",
      "142/142 [==============================] - 0s 72us/step - loss: 0.0586 - acc: 1.0000\n",
      "Epoch 40/500\n",
      "142/142 [==============================] - 0s 98us/step - loss: 0.0552 - acc: 1.0000\n",
      "Epoch 41/500\n",
      "142/142 [==============================] - 0s 60us/step - loss: 0.0524 - acc: 1.0000\n",
      "Epoch 42/500\n",
      "142/142 [==============================] - 0s 72us/step - loss: 0.0499 - acc: 1.0000\n",
      "Epoch 43/500\n",
      "142/142 [==============================] - 0s 78us/step - loss: 0.0471 - acc: 1.0000\n",
      "Epoch 44/500\n",
      "142/142 [==============================] - 0s 72us/step - loss: 0.0449 - acc: 1.0000\n",
      "Epoch 45/500\n",
      "142/142 [==============================] - 0s 67us/step - loss: 0.0427 - acc: 1.0000\n",
      "Epoch 46/500\n",
      "142/142 [==============================] - 0s 84us/step - loss: 0.0406 - acc: 1.0000\n",
      "Epoch 47/500\n",
      "142/142 [==============================] - 0s 67us/step - loss: 0.0388 - acc: 1.0000\n",
      "Epoch 48/500\n",
      "142/142 [==============================] - 0s 65us/step - loss: 0.0369 - acc: 1.0000\n",
      "Epoch 49/500\n",
      "142/142 [==============================] - 0s 65us/step - loss: 0.0352 - acc: 1.0000\n",
      "Epoch 50/500\n",
      "142/142 [==============================] - 0s 92us/step - loss: 0.0336 - acc: 1.0000\n",
      "Epoch 51/500\n",
      "142/142 [==============================] - 0s 71us/step - loss: 0.0322 - acc: 1.0000\n",
      "Epoch 52/500\n",
      "142/142 [==============================] - 0s 65us/step - loss: 0.0308 - acc: 1.0000\n",
      "Epoch 53/500\n",
      "142/142 [==============================] - 0s 90us/step - loss: 0.0295 - acc: 1.0000\n",
      "Epoch 54/500\n",
      "142/142 [==============================] - 0s 85us/step - loss: 0.0284 - acc: 1.0000\n",
      "Epoch 55/500\n",
      "142/142 [==============================] - 0s 60us/step - loss: 0.0272 - acc: 1.0000\n",
      "Epoch 56/500\n",
      "142/142 [==============================] - 0s 95us/step - loss: 0.0262 - acc: 1.0000\n",
      "Epoch 57/500\n",
      "142/142 [==============================] - 0s 69us/step - loss: 0.0252 - acc: 1.0000\n",
      "Epoch 58/500\n",
      "142/142 [==============================] - 0s 62us/step - loss: 0.0242 - acc: 1.0000\n",
      "Epoch 59/500\n",
      "142/142 [==============================] - 0s 90us/step - loss: 0.0233 - acc: 1.0000\n",
      "Epoch 60/500\n",
      "142/142 [==============================] - 0s 69us/step - loss: 0.0225 - acc: 1.0000\n",
      "Epoch 61/500\n",
      "142/142 [==============================] - 0s 64us/step - loss: 0.0216 - acc: 1.0000\n",
      "Epoch 62/500\n",
      "142/142 [==============================] - 0s 70us/step - loss: 0.0209 - acc: 1.0000\n",
      "Epoch 63/500\n",
      "142/142 [==============================] - 0s 88us/step - loss: 0.0202 - acc: 1.0000\n",
      "Epoch 64/500\n",
      "142/142 [==============================] - 0s 72us/step - loss: 0.0195 - acc: 1.0000\n",
      "Epoch 65/500\n",
      "142/142 [==============================] - 0s 74us/step - loss: 0.0188 - acc: 1.0000\n",
      "Epoch 66/500\n",
      "142/142 [==============================] - 0s 75us/step - loss: 0.0181 - acc: 1.0000\n",
      "Epoch 67/500\n",
      "142/142 [==============================] - 0s 73us/step - loss: 0.0176 - acc: 1.0000\n",
      "Epoch 68/500\n",
      "142/142 [==============================] - 0s 79us/step - loss: 0.0170 - acc: 1.0000\n",
      "Epoch 69/500\n",
      "142/142 [==============================] - 0s 85us/step - loss: 0.0164 - acc: 1.0000\n",
      "Epoch 70/500\n",
      "142/142 [==============================] - 0s 68us/step - loss: 0.0159 - acc: 1.0000\n",
      "Epoch 71/500\n",
      "142/142 [==============================] - 0s 98us/step - loss: 0.0154 - acc: 1.0000\n",
      "Epoch 72/500\n",
      "142/142 [==============================] - 0s 74us/step - loss: 0.0149 - acc: 1.0000\n",
      "Epoch 73/500\n",
      "142/142 [==============================] - 0s 73us/step - loss: 0.0145 - acc: 1.0000\n",
      "Epoch 74/500\n",
      "142/142 [==============================] - 0s 71us/step - loss: 0.0140 - acc: 1.0000\n",
      "Epoch 75/500\n",
      "142/142 [==============================] - 0s 67us/step - loss: 0.0136 - acc: 1.0000\n",
      "Epoch 76/500\n",
      "142/142 [==============================] - 0s 72us/step - loss: 0.0132 - acc: 1.0000\n",
      "Epoch 77/500\n",
      "142/142 [==============================] - 0s 63us/step - loss: 0.0127 - acc: 1.0000\n",
      "Epoch 78/500\n",
      "142/142 [==============================] - 0s 83us/step - loss: 0.0124 - acc: 1.0000\n",
      "Epoch 79/500\n",
      "142/142 [==============================] - 0s 72us/step - loss: 0.0121 - acc: 1.0000\n",
      "Epoch 80/500\n",
      "142/142 [==============================] - 0s 66us/step - loss: 0.0117 - acc: 1.0000\n",
      "Epoch 81/500\n",
      "142/142 [==============================] - 0s 76us/step - loss: 0.0114 - acc: 1.0000\n",
      "Epoch 82/500\n",
      "142/142 [==============================] - 0s 68us/step - loss: 0.0111 - acc: 1.0000\n",
      "Epoch 83/500\n",
      "142/142 [==============================] - 0s 72us/step - loss: 0.0108 - acc: 1.0000\n",
      "Epoch 84/500\n",
      "142/142 [==============================] - 0s 71us/step - loss: 0.0105 - acc: 1.0000\n",
      "Epoch 85/500\n",
      "142/142 [==============================] - 0s 75us/step - loss: 0.0102 - acc: 1.0000\n",
      "Epoch 86/500\n",
      "142/142 [==============================] - 0s 72us/step - loss: 0.0099 - acc: 1.0000\n",
      "Epoch 87/500\n",
      "142/142 [==============================] - 0s 67us/step - loss: 0.0097 - acc: 1.0000\n",
      "Epoch 88/500\n",
      "142/142 [==============================] - 0s 77us/step - loss: 0.0095 - acc: 1.0000\n",
      "Epoch 89/500\n",
      "142/142 [==============================] - 0s 68us/step - loss: 0.0092 - acc: 1.0000\n",
      "Epoch 90/500\n",
      "142/142 [==============================] - 0s 76us/step - loss: 0.0090 - acc: 1.0000\n",
      "Epoch 91/500\n",
      "142/142 [==============================] - 0s 69us/step - loss: 0.0088 - acc: 1.0000\n",
      "Epoch 92/500\n",
      "142/142 [==============================] - 0s 65us/step - loss: 0.0086 - acc: 1.0000\n",
      "Epoch 93/500\n",
      "142/142 [==============================] - 0s 78us/step - loss: 0.0084 - acc: 1.0000\n",
      "Epoch 94/500\n",
      "142/142 [==============================] - 0s 67us/step - loss: 0.0082 - acc: 1.0000\n",
      "Epoch 95/500\n",
      "142/142 [==============================] - 0s 65us/step - loss: 0.0080 - acc: 1.0000\n",
      "Epoch 96/500\n",
      "142/142 [==============================] - 0s 71us/step - loss: 0.0078 - acc: 1.0000\n",
      "Epoch 97/500\n",
      "142/142 [==============================] - 0s 68us/step - loss: 0.0076 - acc: 1.0000\n",
      "Epoch 98/500\n",
      "142/142 [==============================] - 0s 71us/step - loss: 0.0075 - acc: 1.0000\n",
      "Epoch 99/500\n",
      "142/142 [==============================] - 0s 90us/step - loss: 0.0073 - acc: 1.0000\n",
      "Epoch 100/500\n",
      "142/142 [==============================] - 0s 66us/step - loss: 0.0071 - acc: 1.0000\n",
      "Epoch 101/500\n",
      "142/142 [==============================] - 0s 85us/step - loss: 0.0070 - acc: 1.0000\n",
      "Epoch 102/500\n",
      "142/142 [==============================] - 0s 74us/step - loss: 0.0068 - acc: 1.0000\n",
      "Epoch 103/500\n",
      "142/142 [==============================] - 0s 67us/step - loss: 0.0067 - acc: 1.0000\n",
      "Epoch 104/500\n",
      "142/142 [==============================] - 0s 72us/step - loss: 0.0065 - acc: 1.0000\n",
      "Epoch 105/500\n",
      "142/142 [==============================] - 0s 79us/step - loss: 0.0064 - acc: 1.0000\n",
      "Epoch 106/500\n",
      "142/142 [==============================] - 0s 69us/step - loss: 0.0063 - acc: 1.0000\n",
      "Epoch 107/500\n",
      "142/142 [==============================] - 0s 68us/step - loss: 0.0061 - acc: 1.0000\n",
      "Epoch 108/500\n",
      "142/142 [==============================] - 0s 89us/step - loss: 0.0060 - acc: 1.0000\n",
      "Epoch 109/500\n",
      "142/142 [==============================] - 0s 63us/step - loss: 0.0059 - acc: 1.0000\n",
      "Epoch 110/500\n",
      "142/142 [==============================] - 0s 81us/step - loss: 0.0058 - acc: 1.0000\n",
      "Epoch 111/500\n",
      "142/142 [==============================] - 0s 83us/step - loss: 0.0057 - acc: 1.0000\n",
      "Epoch 112/500\n",
      "142/142 [==============================] - 0s 65us/step - loss: 0.0056 - acc: 1.0000\n",
      "Epoch 113/500\n",
      "142/142 [==============================] - 0s 73us/step - loss: 0.0055 - acc: 1.0000\n",
      "Epoch 114/500\n",
      "142/142 [==============================] - 0s 76us/step - loss: 0.0054 - acc: 1.0000\n",
      "Epoch 115/500\n",
      "142/142 [==============================] - 0s 78us/step - loss: 0.0052 - acc: 1.0000\n",
      "Epoch 116/500\n",
      "142/142 [==============================] - 0s 69us/step - loss: 0.0052 - acc: 1.0000\n",
      "Epoch 117/500\n",
      "142/142 [==============================] - 0s 79us/step - loss: 0.0051 - acc: 1.0000\n",
      "Epoch 118/500\n",
      "142/142 [==============================] - 0s 73us/step - loss: 0.0050 - acc: 1.0000\n",
      "Epoch 119/500\n",
      "142/142 [==============================] - 0s 68us/step - loss: 0.0049 - acc: 1.0000\n",
      "Epoch 120/500\n",
      "142/142 [==============================] - 0s 85us/step - loss: 0.0048 - acc: 1.0000\n",
      "Epoch 121/500\n",
      "142/142 [==============================] - 0s 67us/step - loss: 0.0047 - acc: 1.0000\n",
      "Epoch 122/500\n",
      "142/142 [==============================] - 0s 87us/step - loss: 0.0046 - acc: 1.0000\n",
      "Epoch 123/500\n",
      "142/142 [==============================] - 0s 86us/step - loss: 0.0045 - acc: 1.0000\n",
      "Epoch 124/500\n",
      "142/142 [==============================] - 0s 68us/step - loss: 0.0045 - acc: 1.0000\n",
      "Epoch 125/500\n",
      "142/142 [==============================] - 0s 68us/step - loss: 0.0044 - acc: 1.0000\n",
      "Epoch 126/500\n",
      "142/142 [==============================] - 0s 83us/step - loss: 0.0043 - acc: 1.0000\n",
      "Epoch 127/500\n",
      "142/142 [==============================] - 0s 70us/step - loss: 0.0042 - acc: 1.0000\n",
      "Epoch 128/500\n",
      "142/142 [==============================] - 0s 72us/step - loss: 0.0042 - acc: 1.0000\n",
      "Epoch 129/500\n",
      "142/142 [==============================] - 0s 79us/step - loss: 0.0041 - acc: 1.0000\n",
      "Epoch 130/500\n",
      "142/142 [==============================] - 0s 72us/step - loss: 0.0040 - acc: 1.0000\n",
      "Epoch 131/500\n",
      "142/142 [==============================] - 0s 67us/step - loss: 0.0040 - acc: 1.0000\n",
      "Epoch 132/500\n",
      "142/142 [==============================] - 0s 73us/step - loss: 0.0039 - acc: 1.0000\n",
      "Epoch 133/500\n",
      "142/142 [==============================] - 0s 80us/step - loss: 0.0038 - acc: 1.0000\n",
      "Epoch 134/500\n",
      "142/142 [==============================] - 0s 72us/step - loss: 0.0038 - acc: 1.0000\n",
      "Epoch 135/500\n",
      "142/142 [==============================] - 0s 89us/step - loss: 0.0037 - acc: 1.0000\n",
      "Epoch 136/500\n",
      "142/142 [==============================] - 0s 108us/step - loss: 0.0036 - acc: 1.0000\n",
      "Epoch 137/500\n",
      "142/142 [==============================] - 0s 80us/step - loss: 0.0036 - acc: 1.0000\n",
      "Epoch 138/500\n",
      "142/142 [==============================] - 0s 83us/step - loss: 0.0035 - acc: 1.0000\n",
      "Epoch 139/500\n",
      "142/142 [==============================] - 0s 78us/step - loss: 0.0035 - acc: 1.0000\n",
      "Epoch 140/500\n",
      "142/142 [==============================] - 0s 76us/step - loss: 0.0034 - acc: 1.0000\n",
      "Epoch 141/500\n",
      "142/142 [==============================] - 0s 81us/step - loss: 0.0034 - acc: 1.0000\n",
      "Epoch 142/500\n",
      "142/142 [==============================] - 0s 67us/step - loss: 0.0033 - acc: 1.0000\n",
      "Epoch 143/500\n",
      "142/142 [==============================] - 0s 101us/step - loss: 0.0033 - acc: 1.0000\n",
      "Epoch 144/500\n",
      "142/142 [==============================] - 0s 81us/step - loss: 0.0032 - acc: 1.0000\n",
      "Epoch 145/500\n",
      "142/142 [==============================] - 0s 95us/step - loss: 0.0032 - acc: 1.0000\n",
      "Epoch 146/500\n",
      "142/142 [==============================] - 0s 65us/step - loss: 0.0031 - acc: 1.0000\n",
      "Epoch 147/500\n",
      "142/142 [==============================] - 0s 92us/step - loss: 0.0031 - acc: 1.0000\n",
      "Epoch 148/500\n",
      "142/142 [==============================] - 0s 70us/step - loss: 0.0030 - acc: 1.0000\n",
      "Epoch 149/500\n",
      "142/142 [==============================] - 0s 100us/step - loss: 0.0030 - acc: 1.0000\n",
      "Epoch 150/500\n",
      "142/142 [==============================] - 0s 84us/step - loss: 0.0029 - acc: 1.0000\n",
      "Epoch 151/500\n",
      "142/142 [==============================] - 0s 74us/step - loss: 0.0029 - acc: 1.0000\n",
      "Epoch 152/500\n",
      "142/142 [==============================] - 0s 65us/step - loss: 0.0029 - acc: 1.0000\n",
      "Epoch 153/500\n",
      "142/142 [==============================] - 0s 70us/step - loss: 0.0028 - acc: 1.0000\n",
      "Epoch 154/500\n",
      "142/142 [==============================] - 0s 84us/step - loss: 0.0028 - acc: 1.0000\n",
      "Epoch 155/500\n",
      "142/142 [==============================] - 0s 103us/step - loss: 0.0027 - acc: 1.0000\n",
      "Epoch 156/500\n",
      "142/142 [==============================] - 0s 67us/step - loss: 0.0027 - acc: 1.0000\n",
      "Epoch 157/500\n",
      "142/142 [==============================] - 0s 75us/step - loss: 0.0027 - acc: 1.0000\n",
      "Epoch 158/500\n",
      "142/142 [==============================] - 0s 80us/step - loss: 0.0026 - acc: 1.0000\n",
      "Epoch 159/500\n",
      "142/142 [==============================] - 0s 66us/step - loss: 0.0026 - acc: 1.0000\n",
      "Epoch 160/500\n",
      "142/142 [==============================] - 0s 75us/step - loss: 0.0026 - acc: 1.0000\n",
      "Epoch 161/500\n",
      "142/142 [==============================] - 0s 87us/step - loss: 0.0025 - acc: 1.0000\n",
      "Epoch 162/500\n",
      "142/142 [==============================] - 0s 65us/step - loss: 0.0025 - acc: 1.0000\n",
      "Epoch 163/500\n",
      "142/142 [==============================] - 0s 74us/step - loss: 0.0025 - acc: 1.0000\n",
      "Epoch 164/500\n",
      "142/142 [==============================] - 0s 70us/step - loss: 0.0024 - acc: 1.0000\n",
      "Epoch 165/500\n",
      "142/142 [==============================] - 0s 68us/step - loss: 0.0024 - acc: 1.0000\n",
      "Epoch 166/500\n",
      "142/142 [==============================] - 0s 73us/step - loss: 0.0024 - acc: 1.0000\n",
      "Epoch 167/500\n"
     ]
    },
    {
     "name": "stdout",
     "output_type": "stream",
     "text": [
      "142/142 [==============================] - 0s 65us/step - loss: 0.0023 - acc: 1.0000\n",
      "Epoch 168/500\n",
      "142/142 [==============================] - 0s 71us/step - loss: 0.0023 - acc: 1.0000\n",
      "Epoch 169/500\n",
      "142/142 [==============================] - 0s 81us/step - loss: 0.0023 - acc: 1.0000\n",
      "Epoch 170/500\n",
      "142/142 [==============================] - 0s 66us/step - loss: 0.0023 - acc: 1.0000\n",
      "Epoch 171/500\n",
      "142/142 [==============================] - 0s 77us/step - loss: 0.0022 - acc: 1.0000\n",
      "Epoch 172/500\n",
      "142/142 [==============================] - 0s 86us/step - loss: 0.0022 - acc: 1.0000\n",
      "Epoch 173/500\n",
      "142/142 [==============================] - 0s 72us/step - loss: 0.0022 - acc: 1.0000\n",
      "Epoch 174/500\n",
      "142/142 [==============================] - 0s 80us/step - loss: 0.0022 - acc: 1.0000\n",
      "Epoch 175/500\n",
      "142/142 [==============================] - 0s 70us/step - loss: 0.0021 - acc: 1.0000\n",
      "Epoch 176/500\n",
      "142/142 [==============================] - 0s 86us/step - loss: 0.0021 - acc: 1.0000\n",
      "Epoch 177/500\n",
      "142/142 [==============================] - 0s 66us/step - loss: 0.0021 - acc: 1.0000\n",
      "Epoch 178/500\n",
      "142/142 [==============================] - 0s 72us/step - loss: 0.0021 - acc: 1.0000\n",
      "Epoch 179/500\n",
      "142/142 [==============================] - 0s 73us/step - loss: 0.0020 - acc: 1.0000\n",
      "Epoch 180/500\n",
      "142/142 [==============================] - 0s 70us/step - loss: 0.0020 - acc: 1.0000\n",
      "Epoch 181/500\n",
      "142/142 [==============================] - 0s 83us/step - loss: 0.0020 - acc: 1.0000\n",
      "Epoch 182/500\n",
      "142/142 [==============================] - 0s 77us/step - loss: 0.0020 - acc: 1.0000\n",
      "Epoch 183/500\n",
      "142/142 [==============================] - 0s 71us/step - loss: 0.0019 - acc: 1.0000\n",
      "Epoch 184/500\n",
      "142/142 [==============================] - 0s 70us/step - loss: 0.0019 - acc: 1.0000\n",
      "Epoch 185/500\n",
      "142/142 [==============================] - 0s 82us/step - loss: 0.0019 - acc: 1.0000\n",
      "Epoch 186/500\n",
      "142/142 [==============================] - 0s 73us/step - loss: 0.0019 - acc: 1.0000\n",
      "Epoch 187/500\n",
      "142/142 [==============================] - 0s 82us/step - loss: 0.0018 - acc: 1.0000\n",
      "Epoch 188/500\n",
      "142/142 [==============================] - 0s 85us/step - loss: 0.0018 - acc: 1.0000\n",
      "Epoch 189/500\n",
      "142/142 [==============================] - 0s 88us/step - loss: 0.0018 - acc: 1.0000\n",
      "Epoch 190/500\n",
      "142/142 [==============================] - 0s 71us/step - loss: 0.0018 - acc: 1.0000\n",
      "Epoch 191/500\n",
      "142/142 [==============================] - 0s 93us/step - loss: 0.0018 - acc: 1.0000\n",
      "Epoch 192/500\n",
      "142/142 [==============================] - 0s 92us/step - loss: 0.0017 - acc: 1.0000\n",
      "Epoch 193/500\n",
      "142/142 [==============================] - 0s 80us/step - loss: 0.0017 - acc: 1.0000\n",
      "Epoch 194/500\n",
      "142/142 [==============================] - 0s 72us/step - loss: 0.0017 - acc: 1.0000\n",
      "Epoch 195/500\n",
      "142/142 [==============================] - 0s 81us/step - loss: 0.0017 - acc: 1.0000\n",
      "Epoch 196/500\n",
      "142/142 [==============================] - 0s 95us/step - loss: 0.0017 - acc: 1.0000\n",
      "Epoch 197/500\n",
      "142/142 [==============================] - 0s 68us/step - loss: 0.0016 - acc: 1.0000\n",
      "Epoch 198/500\n",
      "142/142 [==============================] - 0s 78us/step - loss: 0.0016 - acc: 1.0000\n",
      "Epoch 199/500\n",
      "142/142 [==============================] - 0s 89us/step - loss: 0.0016 - acc: 1.0000\n",
      "Epoch 200/500\n",
      "142/142 [==============================] - 0s 84us/step - loss: 0.0016 - acc: 1.0000\n",
      "Epoch 201/500\n",
      "142/142 [==============================] - 0s 78us/step - loss: 0.0016 - acc: 1.0000\n",
      "Epoch 202/500\n",
      "142/142 [==============================] - 0s 81us/step - loss: 0.0016 - acc: 1.0000\n",
      "Epoch 203/500\n",
      "142/142 [==============================] - 0s 95us/step - loss: 0.0015 - acc: 1.0000\n",
      "Epoch 204/500\n",
      "142/142 [==============================] - 0s 79us/step - loss: 0.0015 - acc: 1.0000\n",
      "Epoch 205/500\n",
      "142/142 [==============================] - 0s 68us/step - loss: 0.0015 - acc: 1.0000\n",
      "Epoch 206/500\n",
      "142/142 [==============================] - 0s 86us/step - loss: 0.0015 - acc: 1.0000\n",
      "Epoch 207/500\n",
      "142/142 [==============================] - 0s 77us/step - loss: 0.0015 - acc: 1.0000\n",
      "Epoch 208/500\n",
      "142/142 [==============================] - 0s 76us/step - loss: 0.0015 - acc: 1.0000\n",
      "Epoch 209/500\n",
      "142/142 [==============================] - 0s 72us/step - loss: 0.0014 - acc: 1.0000\n",
      "Epoch 210/500\n",
      "142/142 [==============================] - 0s 77us/step - loss: 0.0014 - acc: 1.0000\n",
      "Epoch 211/500\n",
      "142/142 [==============================] - 0s 73us/step - loss: 0.0014 - acc: 1.0000\n",
      "Epoch 212/500\n",
      "142/142 [==============================] - 0s 78us/step - loss: 0.0014 - acc: 1.0000\n",
      "Epoch 213/500\n",
      "142/142 [==============================] - 0s 75us/step - loss: 0.0014 - acc: 1.0000\n",
      "Epoch 214/500\n",
      "142/142 [==============================] - 0s 74us/step - loss: 0.0014 - acc: 1.0000\n",
      "Epoch 215/500\n",
      "142/142 [==============================] - 0s 77us/step - loss: 0.0014 - acc: 1.0000\n",
      "Epoch 216/500\n",
      "142/142 [==============================] - 0s 74us/step - loss: 0.0014 - acc: 1.0000\n",
      "Epoch 217/500\n",
      "142/142 [==============================] - 0s 70us/step - loss: 0.0013 - acc: 1.0000\n",
      "Epoch 218/500\n",
      "142/142 [==============================] - 0s 73us/step - loss: 0.0013 - acc: 1.0000\n",
      "Epoch 219/500\n",
      "142/142 [==============================] - 0s 70us/step - loss: 0.0013 - acc: 1.0000\n",
      "Epoch 220/500\n",
      "142/142 [==============================] - 0s 73us/step - loss: 0.0013 - acc: 1.0000\n",
      "Epoch 221/500\n",
      "142/142 [==============================] - 0s 77us/step - loss: 0.0013 - acc: 1.0000\n",
      "Epoch 222/500\n",
      "142/142 [==============================] - 0s 76us/step - loss: 0.0013 - acc: 1.0000\n",
      "Epoch 223/500\n",
      "142/142 [==============================] - 0s 64us/step - loss: 0.0013 - acc: 1.0000\n",
      "Epoch 224/500\n",
      "142/142 [==============================] - 0s 72us/step - loss: 0.0012 - acc: 1.0000\n",
      "Epoch 225/500\n",
      "142/142 [==============================] - 0s 77us/step - loss: 0.0012 - acc: 1.0000\n",
      "Epoch 226/500\n",
      "142/142 [==============================] - 0s 68us/step - loss: 0.0012 - acc: 1.0000\n",
      "Epoch 227/500\n",
      "142/142 [==============================] - 0s 78us/step - loss: 0.0012 - acc: 1.0000\n",
      "Epoch 228/500\n",
      "142/142 [==============================] - 0s 75us/step - loss: 0.0012 - acc: 1.0000\n",
      "Epoch 229/500\n",
      "142/142 [==============================] - 0s 68us/step - loss: 0.0012 - acc: 1.0000\n",
      "Epoch 230/500\n",
      "142/142 [==============================] - 0s 81us/step - loss: 0.0012 - acc: 1.0000\n",
      "Epoch 231/500\n",
      "142/142 [==============================] - 0s 82us/step - loss: 0.0012 - acc: 1.0000\n",
      "Epoch 232/500\n",
      "142/142 [==============================] - 0s 80us/step - loss: 0.0012 - acc: 1.0000\n",
      "Epoch 233/500\n",
      "142/142 [==============================] - 0s 81us/step - loss: 0.0011 - acc: 1.0000\n",
      "Epoch 234/500\n",
      "142/142 [==============================] - 0s 94us/step - loss: 0.0011 - acc: 1.0000\n",
      "Epoch 235/500\n",
      "142/142 [==============================] - 0s 78us/step - loss: 0.0011 - acc: 1.0000\n",
      "Epoch 236/500\n",
      "142/142 [==============================] - 0s 70us/step - loss: 0.0011 - acc: 1.0000\n",
      "Epoch 237/500\n",
      "142/142 [==============================] - 0s 89us/step - loss: 0.0011 - acc: 1.0000\n",
      "Epoch 238/500\n",
      "142/142 [==============================] - 0s 89us/step - loss: 0.0011 - acc: 1.0000\n",
      "Epoch 239/500\n",
      "142/142 [==============================] - 0s 64us/step - loss: 0.0011 - acc: 1.0000\n",
      "Epoch 240/500\n",
      "142/142 [==============================] - 0s 81us/step - loss: 0.0011 - acc: 1.0000\n",
      "Epoch 241/500\n",
      "142/142 [==============================] - 0s 79us/step - loss: 0.0011 - acc: 1.0000\n",
      "Epoch 242/500\n",
      "142/142 [==============================] - 0s 69us/step - loss: 0.0011 - acc: 1.0000\n",
      "Epoch 243/500\n",
      "142/142 [==============================] - 0s 78us/step - loss: 0.0010 - acc: 1.0000\n",
      "Epoch 244/500\n",
      "142/142 [==============================] - 0s 87us/step - loss: 0.0010 - acc: 1.0000\n",
      "Epoch 245/500\n",
      "142/142 [==============================] - 0s 86us/step - loss: 0.0010 - acc: 1.0000\n",
      "Epoch 246/500\n",
      "142/142 [==============================] - 0s 76us/step - loss: 0.0010 - acc: 1.0000\n",
      "Epoch 247/500\n",
      "142/142 [==============================] - 0s 79us/step - loss: 0.0010 - acc: 1.0000\n",
      "Epoch 248/500\n",
      "142/142 [==============================] - 0s 85us/step - loss: 0.0010 - acc: 1.0000\n",
      "Epoch 249/500\n",
      "142/142 [==============================] - 0s 82us/step - loss: 9.9561e-04 - acc: 1.0000\n",
      "Epoch 250/500\n",
      "142/142 [==============================] - 0s 72us/step - loss: 9.8671e-04 - acc: 1.0000\n",
      "Epoch 251/500\n",
      "142/142 [==============================] - 0s 78us/step - loss: 9.7850e-04 - acc: 1.0000\n",
      "Epoch 252/500\n",
      "142/142 [==============================] - 0s 80us/step - loss: 9.6997e-04 - acc: 1.0000\n",
      "Epoch 253/500\n",
      "142/142 [==============================] - 0s 70us/step - loss: 9.6174e-04 - acc: 1.0000\n",
      "Epoch 254/500\n",
      "142/142 [==============================] - 0s 76us/step - loss: 9.5262e-04 - acc: 1.0000\n",
      "Epoch 255/500\n",
      "142/142 [==============================] - 0s 72us/step - loss: 9.4566e-04 - acc: 1.0000\n",
      "Epoch 256/500\n",
      "142/142 [==============================] - 0s 72us/step - loss: 9.3729e-04 - acc: 1.0000\n",
      "Epoch 257/500\n",
      "142/142 [==============================] - 0s 72us/step - loss: 9.2827e-04 - acc: 1.0000\n",
      "Epoch 258/500\n",
      "142/142 [==============================] - 0s 66us/step - loss: 9.2056e-04 - acc: 1.0000\n",
      "Epoch 259/500\n",
      "142/142 [==============================] - 0s 67us/step - loss: 9.1301e-04 - acc: 1.0000\n",
      "Epoch 260/500\n",
      "142/142 [==============================] - 0s 76us/step - loss: 9.0486e-04 - acc: 1.0000\n",
      "Epoch 261/500\n",
      "142/142 [==============================] - 0s 71us/step - loss: 8.9703e-04 - acc: 1.0000\n",
      "Epoch 262/500\n",
      "142/142 [==============================] - 0s 73us/step - loss: 8.8931e-04 - acc: 1.0000\n",
      "Epoch 263/500\n",
      "142/142 [==============================] - 0s 82us/step - loss: 8.8229e-04 - acc: 1.0000\n",
      "Epoch 264/500\n",
      "142/142 [==============================] - 0s 72us/step - loss: 8.7433e-04 - acc: 1.0000\n",
      "Epoch 265/500\n",
      "142/142 [==============================] - 0s 101us/step - loss: 8.6785e-04 - acc: 1.0000\n",
      "Epoch 266/500\n",
      "142/142 [==============================] - 0s 79us/step - loss: 8.6031e-04 - acc: 1.0000\n",
      "Epoch 267/500\n",
      "142/142 [==============================] - 0s 90us/step - loss: 8.5421e-04 - acc: 1.0000\n",
      "Epoch 268/500\n",
      "142/142 [==============================] - 0s 71us/step - loss: 8.4663e-04 - acc: 1.0000\n",
      "Epoch 269/500\n",
      "142/142 [==============================] - 0s 78us/step - loss: 8.4084e-04 - acc: 1.0000\n",
      "Epoch 270/500\n",
      "142/142 [==============================] - 0s 85us/step - loss: 8.3391e-04 - acc: 1.0000\n",
      "Epoch 271/500\n",
      "142/142 [==============================] - 0s 82us/step - loss: 8.2665e-04 - acc: 1.0000\n",
      "Epoch 272/500\n",
      "142/142 [==============================] - 0s 70us/step - loss: 8.1967e-04 - acc: 1.0000\n",
      "Epoch 273/500\n",
      "142/142 [==============================] - 0s 80us/step - loss: 8.1364e-04 - acc: 1.0000\n",
      "Epoch 274/500\n",
      "142/142 [==============================] - 0s 81us/step - loss: 8.0750e-04 - acc: 1.0000\n",
      "Epoch 275/500\n",
      "142/142 [==============================] - 0s 72us/step - loss: 8.0134e-04 - acc: 1.0000\n",
      "Epoch 276/500\n",
      "142/142 [==============================] - 0s 78us/step - loss: 7.9451e-04 - acc: 1.0000\n",
      "Epoch 277/500\n",
      "142/142 [==============================] - 0s 91us/step - loss: 7.8869e-04 - acc: 1.0000\n",
      "Epoch 278/500\n",
      "142/142 [==============================] - 0s 82us/step - loss: 7.8211e-04 - acc: 1.0000\n",
      "Epoch 279/500\n",
      "142/142 [==============================] - 0s 71us/step - loss: 7.7598e-04 - acc: 1.0000\n",
      "Epoch 280/500\n",
      "142/142 [==============================] - 0s 77us/step - loss: 7.6947e-04 - acc: 1.0000\n",
      "Epoch 281/500\n",
      "142/142 [==============================] - 0s 87us/step - loss: 7.6334e-04 - acc: 1.0000\n",
      "Epoch 282/500\n",
      "142/142 [==============================] - 0s 68us/step - loss: 7.5640e-04 - acc: 1.0000\n",
      "Epoch 283/500\n",
      "142/142 [==============================] - 0s 75us/step - loss: 7.5115e-04 - acc: 1.0000\n",
      "Epoch 284/500\n",
      "142/142 [==============================] - 0s 67us/step - loss: 7.4452e-04 - acc: 1.0000\n",
      "Epoch 285/500\n",
      "142/142 [==============================] - 0s 68us/step - loss: 7.3828e-04 - acc: 1.0000\n",
      "Epoch 286/500\n",
      "142/142 [==============================] - 0s 76us/step - loss: 7.3327e-04 - acc: 1.0000\n",
      "Epoch 287/500\n",
      "142/142 [==============================] - 0s 71us/step - loss: 7.2709e-04 - acc: 1.0000\n",
      "Epoch 288/500\n",
      "142/142 [==============================] - 0s 73us/step - loss: 7.2123e-04 - acc: 1.0000\n",
      "Epoch 289/500\n",
      "142/142 [==============================] - 0s 82us/step - loss: 7.1582e-04 - acc: 1.0000\n",
      "Epoch 290/500\n",
      "142/142 [==============================] - 0s 69us/step - loss: 7.1046e-04 - acc: 1.0000\n",
      "Epoch 291/500\n",
      "142/142 [==============================] - 0s 72us/step - loss: 7.0513e-04 - acc: 1.0000\n",
      "Epoch 292/500\n",
      "142/142 [==============================] - 0s 88us/step - loss: 6.9978e-04 - acc: 1.0000\n",
      "Epoch 293/500\n",
      "142/142 [==============================] - 0s 86us/step - loss: 6.9489e-04 - acc: 1.0000\n",
      "Epoch 294/500\n",
      "142/142 [==============================] - 0s 75us/step - loss: 6.8971e-04 - acc: 1.0000\n",
      "Epoch 295/500\n",
      "142/142 [==============================] - 0s 74us/step - loss: 6.8399e-04 - acc: 1.0000\n",
      "Epoch 296/500\n",
      "142/142 [==============================] - 0s 83us/step - loss: 6.7941e-04 - acc: 1.0000\n",
      "Epoch 297/500\n",
      "142/142 [==============================] - 0s 66us/step - loss: 6.7417e-04 - acc: 1.0000\n",
      "Epoch 298/500\n",
      "142/142 [==============================] - 0s 87us/step - loss: 6.6942e-04 - acc: 1.0000\n",
      "Epoch 299/500\n",
      "142/142 [==============================] - 0s 82us/step - loss: 6.6434e-04 - acc: 1.0000\n",
      "Epoch 300/500\n",
      "142/142 [==============================] - 0s 76us/step - loss: 6.5975e-04 - acc: 1.0000\n",
      "Epoch 301/500\n",
      "142/142 [==============================] - 0s 80us/step - loss: 6.5433e-04 - acc: 1.0000\n",
      "Epoch 302/500\n",
      "142/142 [==============================] - 0s 84us/step - loss: 6.4994e-04 - acc: 1.0000\n",
      "Epoch 303/500\n",
      "142/142 [==============================] - 0s 95us/step - loss: 6.4538e-04 - acc: 1.0000\n",
      "Epoch 304/500\n",
      "142/142 [==============================] - 0s 76us/step - loss: 6.4052e-04 - acc: 1.0000\n",
      "Epoch 305/500\n",
      "142/142 [==============================] - 0s 74us/step - loss: 6.3601e-04 - acc: 1.0000\n",
      "Epoch 306/500\n",
      "142/142 [==============================] - 0s 80us/step - loss: 6.3239e-04 - acc: 1.0000\n",
      "Epoch 307/500\n",
      "142/142 [==============================] - 0s 96us/step - loss: 6.2692e-04 - acc: 1.0000\n",
      "Epoch 308/500\n",
      "142/142 [==============================] - 0s 65us/step - loss: 6.2253e-04 - acc: 1.0000\n",
      "Epoch 309/500\n",
      "142/142 [==============================] - 0s 97us/step - loss: 6.1788e-04 - acc: 1.0000\n",
      "Epoch 310/500\n",
      "142/142 [==============================] - 0s 79us/step - loss: 6.1378e-04 - acc: 1.0000\n",
      "Epoch 311/500\n",
      "142/142 [==============================] - 0s 82us/step - loss: 6.0890e-04 - acc: 1.0000\n",
      "Epoch 312/500\n",
      "142/142 [==============================] - 0s 71us/step - loss: 6.0492e-04 - acc: 1.0000\n",
      "Epoch 313/500\n",
      "142/142 [==============================] - 0s 79us/step - loss: 6.0068e-04 - acc: 1.0000\n",
      "Epoch 314/500\n",
      "142/142 [==============================] - 0s 73us/step - loss: 5.9603e-04 - acc: 1.0000\n",
      "Epoch 315/500\n",
      "142/142 [==============================] - 0s 63us/step - loss: 5.9241e-04 - acc: 1.0000\n",
      "Epoch 316/500\n",
      "142/142 [==============================] - 0s 73us/step - loss: 5.8857e-04 - acc: 1.0000\n",
      "Epoch 317/500\n",
      "142/142 [==============================] - 0s 69us/step - loss: 5.8406e-04 - acc: 1.0000\n",
      "Epoch 318/500\n",
      "142/142 [==============================] - 0s 67us/step - loss: 5.7957e-04 - acc: 1.0000\n",
      "Epoch 319/500\n",
      "142/142 [==============================] - 0s 74us/step - loss: 5.7545e-04 - acc: 1.0000\n",
      "Epoch 320/500\n",
      "142/142 [==============================] - 0s 74us/step - loss: 5.7171e-04 - acc: 1.0000\n",
      "Epoch 321/500\n",
      "142/142 [==============================] - 0s 80us/step - loss: 5.6737e-04 - acc: 1.0000\n",
      "Epoch 322/500\n",
      "142/142 [==============================] - 0s 75us/step - loss: 5.6350e-04 - acc: 1.0000\n",
      "Epoch 323/500\n",
      "142/142 [==============================] - 0s 77us/step - loss: 5.6016e-04 - acc: 1.0000\n",
      "Epoch 324/500\n",
      "142/142 [==============================] - 0s 73us/step - loss: 5.5589e-04 - acc: 1.0000\n",
      "Epoch 325/500\n",
      "142/142 [==============================] - 0s 83us/step - loss: 5.5225e-04 - acc: 1.0000\n",
      "Epoch 326/500\n",
      "142/142 [==============================] - 0s 85us/step - loss: 5.4890e-04 - acc: 1.0000\n",
      "Epoch 327/500\n",
      "142/142 [==============================] - 0s 72us/step - loss: 5.4528e-04 - acc: 1.0000\n",
      "Epoch 328/500\n"
     ]
    },
    {
     "name": "stdout",
     "output_type": "stream",
     "text": [
      "142/142 [==============================] - 0s 86us/step - loss: 5.4174e-04 - acc: 1.0000\n",
      "Epoch 329/500\n",
      "142/142 [==============================] - 0s 81us/step - loss: 5.3785e-04 - acc: 1.0000\n",
      "Epoch 330/500\n",
      "142/142 [==============================] - 0s 80us/step - loss: 5.3449e-04 - acc: 1.0000\n",
      "Epoch 331/500\n",
      "142/142 [==============================] - 0s 71us/step - loss: 5.3074e-04 - acc: 1.0000\n",
      "Epoch 332/500\n",
      "142/142 [==============================] - 0s 79us/step - loss: 5.2694e-04 - acc: 1.0000\n",
      "Epoch 333/500\n",
      "142/142 [==============================] - 0s 85us/step - loss: 5.2350e-04 - acc: 1.0000\n",
      "Epoch 334/500\n",
      "142/142 [==============================] - 0s 75us/step - loss: 5.2008e-04 - acc: 1.0000\n",
      "Epoch 335/500\n",
      "142/142 [==============================] - 0s 77us/step - loss: 5.1649e-04 - acc: 1.0000\n",
      "Epoch 336/500\n",
      "142/142 [==============================] - 0s 80us/step - loss: 5.1266e-04 - acc: 1.0000\n",
      "Epoch 337/500\n",
      "142/142 [==============================] - 0s 71us/step - loss: 5.0927e-04 - acc: 1.0000\n",
      "Epoch 338/500\n",
      "142/142 [==============================] - 0s 75us/step - loss: 5.0593e-04 - acc: 1.0000\n",
      "Epoch 339/500\n",
      "142/142 [==============================] - 0s 89us/step - loss: 5.0257e-04 - acc: 1.0000\n",
      "Epoch 340/500\n",
      "142/142 [==============================] - 0s 74us/step - loss: 4.9954e-04 - acc: 1.0000\n",
      "Epoch 341/500\n",
      "142/142 [==============================] - 0s 76us/step - loss: 4.9612e-04 - acc: 1.0000\n",
      "Epoch 342/500\n",
      "142/142 [==============================] - 0s 84us/step - loss: 4.9298e-04 - acc: 1.0000\n",
      "Epoch 343/500\n",
      "142/142 [==============================] - 0s 73us/step - loss: 4.8969e-04 - acc: 1.0000\n",
      "Epoch 344/500\n",
      "142/142 [==============================] - 0s 71us/step - loss: 4.8689e-04 - acc: 1.0000\n",
      "Epoch 345/500\n",
      "142/142 [==============================] - 0s 75us/step - loss: 4.8346e-04 - acc: 1.0000\n",
      "Epoch 346/500\n",
      "142/142 [==============================] - 0s 70us/step - loss: 4.8038e-04 - acc: 1.0000\n",
      "Epoch 347/500\n",
      "142/142 [==============================] - 0s 75us/step - loss: 4.7750e-04 - acc: 1.0000\n",
      "Epoch 348/500\n",
      "142/142 [==============================] - 0s 69us/step - loss: 4.7443e-04 - acc: 1.0000\n",
      "Epoch 349/500\n",
      "142/142 [==============================] - 0s 66us/step - loss: 4.7146e-04 - acc: 1.0000\n",
      "Epoch 350/500\n",
      "142/142 [==============================] - 0s 77us/step - loss: 4.6815e-04 - acc: 1.0000\n",
      "Epoch 351/500\n",
      "142/142 [==============================] - 0s 66us/step - loss: 4.6531e-04 - acc: 1.0000\n",
      "Epoch 352/500\n",
      "142/142 [==============================] - 0s 70us/step - loss: 4.6204e-04 - acc: 1.0000\n",
      "Epoch 353/500\n",
      "142/142 [==============================] - 0s 76us/step - loss: 4.5918e-04 - acc: 1.0000\n",
      "Epoch 354/500\n",
      "142/142 [==============================] - 0s 81us/step - loss: 4.5596e-04 - acc: 1.0000\n",
      "Epoch 355/500\n",
      "142/142 [==============================] - 0s 73us/step - loss: 4.5329e-04 - acc: 1.0000\n",
      "Epoch 356/500\n",
      "142/142 [==============================] - 0s 89us/step - loss: 4.5034e-04 - acc: 1.0000\n",
      "Epoch 357/500\n",
      "142/142 [==============================] - 0s 83us/step - loss: 4.4755e-04 - acc: 1.0000\n",
      "Epoch 358/500\n",
      "142/142 [==============================] - 0s 72us/step - loss: 4.4471e-04 - acc: 1.0000\n",
      "Epoch 359/500\n",
      "142/142 [==============================] - 0s 77us/step - loss: 4.4187e-04 - acc: 1.0000\n",
      "Epoch 360/500\n",
      "142/142 [==============================] - 0s 90us/step - loss: 4.3916e-04 - acc: 1.0000\n",
      "Epoch 361/500\n",
      "142/142 [==============================] - 0s 85us/step - loss: 4.3609e-04 - acc: 1.0000\n",
      "Epoch 362/500\n",
      "142/142 [==============================] - 0s 78us/step - loss: 4.3349e-04 - acc: 1.0000\n",
      "Epoch 363/500\n",
      "142/142 [==============================] - 0s 76us/step - loss: 4.3087e-04 - acc: 1.0000\n",
      "Epoch 364/500\n",
      "142/142 [==============================] - 0s 95us/step - loss: 4.2822e-04 - acc: 1.0000\n",
      "Epoch 365/500\n",
      "142/142 [==============================] - 0s 76us/step - loss: 4.2574e-04 - acc: 1.0000\n",
      "Epoch 366/500\n",
      "142/142 [==============================] - 0s 82us/step - loss: 4.2316e-04 - acc: 1.0000\n",
      "Epoch 367/500\n",
      "142/142 [==============================] - 0s 83us/step - loss: 4.2063e-04 - acc: 1.0000\n",
      "Epoch 368/500\n",
      "142/142 [==============================] - 0s 78us/step - loss: 4.1804e-04 - acc: 1.0000\n",
      "Epoch 369/500\n",
      "142/142 [==============================] - 0s 70us/step - loss: 4.1572e-04 - acc: 1.0000\n",
      "Epoch 370/500\n",
      "142/142 [==============================] - 0s 80us/step - loss: 4.1295e-04 - acc: 1.0000\n",
      "Epoch 371/500\n",
      "142/142 [==============================] - 0s 85us/step - loss: 4.1065e-04 - acc: 1.0000\n",
      "Epoch 372/500\n",
      "142/142 [==============================] - 0s 74us/step - loss: 4.0809e-04 - acc: 1.0000\n",
      "Epoch 373/500\n",
      "142/142 [==============================] - 0s 69us/step - loss: 4.0542e-04 - acc: 1.0000\n",
      "Epoch 374/500\n",
      "142/142 [==============================] - 0s 70us/step - loss: 4.0279e-04 - acc: 1.0000\n",
      "Epoch 375/500\n",
      "142/142 [==============================] - 0s 70us/step - loss: 4.0027e-04 - acc: 1.0000\n",
      "Epoch 376/500\n",
      "142/142 [==============================] - 0s 97us/step - loss: 3.9774e-04 - acc: 1.0000\n",
      "Epoch 377/500\n",
      "142/142 [==============================] - 0s 73us/step - loss: 3.9509e-04 - acc: 1.0000\n",
      "Epoch 378/500\n",
      "142/142 [==============================] - 0s 78us/step - loss: 3.9272e-04 - acc: 1.0000\n",
      "Epoch 379/500\n",
      "142/142 [==============================] - 0s 77us/step - loss: 3.9006e-04 - acc: 1.0000\n",
      "Epoch 380/500\n",
      "142/142 [==============================] - 0s 74us/step - loss: 3.8744e-04 - acc: 1.0000\n",
      "Epoch 381/500\n",
      "142/142 [==============================] - 0s 76us/step - loss: 3.8528e-04 - acc: 1.0000\n",
      "Epoch 382/500\n",
      "142/142 [==============================] - 0s 70us/step - loss: 3.8274e-04 - acc: 1.0000\n",
      "Epoch 383/500\n",
      "142/142 [==============================] - 0s 85us/step - loss: 3.8046e-04 - acc: 1.0000\n",
      "Epoch 384/500\n",
      "142/142 [==============================] - 0s 88us/step - loss: 3.7815e-04 - acc: 1.0000\n",
      "Epoch 385/500\n",
      "142/142 [==============================] - 0s 66us/step - loss: 3.7617e-04 - acc: 1.0000\n",
      "Epoch 386/500\n",
      "142/142 [==============================] - 0s 70us/step - loss: 3.7344e-04 - acc: 1.0000\n",
      "Epoch 387/500\n",
      "142/142 [==============================] - 0s 83us/step - loss: 3.7144e-04 - acc: 1.0000\n",
      "Epoch 388/500\n",
      "142/142 [==============================] - 0s 78us/step - loss: 3.6932e-04 - acc: 1.0000\n",
      "Epoch 389/500\n",
      "142/142 [==============================] - 0s 69us/step - loss: 3.6685e-04 - acc: 1.0000\n",
      "Epoch 390/500\n",
      "142/142 [==============================] - 0s 82us/step - loss: 3.6497e-04 - acc: 1.0000\n",
      "Epoch 391/500\n",
      "142/142 [==============================] - 0s 83us/step - loss: 3.6274e-04 - acc: 1.0000\n",
      "Epoch 392/500\n",
      "142/142 [==============================] - 0s 67us/step - loss: 3.6042e-04 - acc: 1.0000\n",
      "Epoch 393/500\n",
      "142/142 [==============================] - 0s 81us/step - loss: 3.5857e-04 - acc: 1.0000\n",
      "Epoch 394/500\n",
      "142/142 [==============================] - 0s 87us/step - loss: 3.5635e-04 - acc: 1.0000\n",
      "Epoch 395/500\n",
      "142/142 [==============================] - 0s 66us/step - loss: 3.5429e-04 - acc: 1.0000\n",
      "Epoch 396/500\n",
      "142/142 [==============================] - 0s 91us/step - loss: 3.5229e-04 - acc: 1.0000\n",
      "Epoch 397/500\n",
      "142/142 [==============================] - 0s 74us/step - loss: 3.5035e-04 - acc: 1.0000\n",
      "Epoch 398/500\n",
      "142/142 [==============================] - 0s 92us/step - loss: 3.4820e-04 - acc: 1.0000\n",
      "Epoch 399/500\n",
      "142/142 [==============================] - 0s 62us/step - loss: 3.4629e-04 - acc: 1.0000\n",
      "Epoch 400/500\n",
      "142/142 [==============================] - 0s 81us/step - loss: 3.4430e-04 - acc: 1.0000\n",
      "Epoch 401/500\n",
      "142/142 [==============================] - 0s 89us/step - loss: 3.4235e-04 - acc: 1.0000\n",
      "Epoch 402/500\n",
      "142/142 [==============================] - 0s 74us/step - loss: 3.4034e-04 - acc: 1.0000\n",
      "Epoch 403/500\n",
      "142/142 [==============================] - 0s 74us/step - loss: 3.3845e-04 - acc: 1.0000\n",
      "Epoch 404/500\n",
      "142/142 [==============================] - 0s 73us/step - loss: 3.3651e-04 - acc: 1.0000\n",
      "Epoch 405/500\n",
      "142/142 [==============================] - 0s 69us/step - loss: 3.3460e-04 - acc: 1.0000\n",
      "Epoch 406/500\n",
      "142/142 [==============================] - 0s 78us/step - loss: 3.3270e-04 - acc: 1.0000\n",
      "Epoch 407/500\n",
      "142/142 [==============================] - 0s 90us/step - loss: 3.3087e-04 - acc: 1.0000\n",
      "Epoch 408/500\n",
      "142/142 [==============================] - 0s 83us/step - loss: 3.2881e-04 - acc: 1.0000\n",
      "Epoch 409/500\n",
      "142/142 [==============================] - 0s 87us/step - loss: 3.2704e-04 - acc: 1.0000\n",
      "Epoch 410/500\n",
      "142/142 [==============================] - 0s 75us/step - loss: 3.2528e-04 - acc: 1.0000\n",
      "Epoch 411/500\n",
      "142/142 [==============================] - 0s 87us/step - loss: 3.2343e-04 - acc: 1.0000\n",
      "Epoch 412/500\n",
      "142/142 [==============================] - 0s 64us/step - loss: 3.2164e-04 - acc: 1.0000\n",
      "Epoch 413/500\n",
      "142/142 [==============================] - 0s 112us/step - loss: 3.2010e-04 - acc: 1.0000\n",
      "Epoch 414/500\n",
      "142/142 [==============================] - 0s 75us/step - loss: 3.1821e-04 - acc: 1.0000\n",
      "Epoch 415/500\n",
      "142/142 [==============================] - 0s 88us/step - loss: 3.1665e-04 - acc: 1.0000\n",
      "Epoch 416/500\n",
      "142/142 [==============================] - 0s 68us/step - loss: 3.1462e-04 - acc: 1.0000\n",
      "Epoch 417/500\n",
      "142/142 [==============================] - 0s 91us/step - loss: 3.1301e-04 - acc: 1.0000\n",
      "Epoch 418/500\n",
      "142/142 [==============================] - 0s 74us/step - loss: 3.1117e-04 - acc: 1.0000\n",
      "Epoch 419/500\n",
      "142/142 [==============================] - 0s 77us/step - loss: 3.0961e-04 - acc: 1.0000\n",
      "Epoch 420/500\n",
      "142/142 [==============================] - 0s 70us/step - loss: 3.0796e-04 - acc: 1.0000\n",
      "Epoch 421/500\n",
      "142/142 [==============================] - 0s 120us/step - loss: 3.0627e-04 - acc: 1.0000\n",
      "Epoch 422/500\n",
      "142/142 [==============================] - 0s 87us/step - loss: 3.0452e-04 - acc: 1.0000\n",
      "Epoch 423/500\n",
      "142/142 [==============================] - 0s 97us/step - loss: 3.0289e-04 - acc: 1.0000\n",
      "Epoch 424/500\n",
      "142/142 [==============================] - 0s 75us/step - loss: 3.0129e-04 - acc: 1.0000\n",
      "Epoch 425/500\n",
      "142/142 [==============================] - 0s 93us/step - loss: 2.9941e-04 - acc: 1.0000\n",
      "Epoch 426/500\n",
      "142/142 [==============================] - 0s 73us/step - loss: 2.9777e-04 - acc: 1.0000\n",
      "Epoch 427/500\n",
      "142/142 [==============================] - 0s 104us/step - loss: 2.9615e-04 - acc: 1.0000\n",
      "Epoch 428/500\n",
      "142/142 [==============================] - 0s 69us/step - loss: 2.9452e-04 - acc: 1.0000\n",
      "Epoch 429/500\n",
      "142/142 [==============================] - 0s 71us/step - loss: 2.9295e-04 - acc: 1.0000\n",
      "Epoch 430/500\n",
      "142/142 [==============================] - 0s 70us/step - loss: 2.9130e-04 - acc: 1.0000\n",
      "Epoch 431/500\n",
      "142/142 [==============================] - 0s 64us/step - loss: 2.8994e-04 - acc: 1.0000\n",
      "Epoch 432/500\n",
      "142/142 [==============================] - 0s 71us/step - loss: 2.8829e-04 - acc: 1.0000\n",
      "Epoch 433/500\n",
      "142/142 [==============================] - 0s 72us/step - loss: 2.8678e-04 - acc: 1.0000\n",
      "Epoch 434/500\n",
      "142/142 [==============================] - 0s 73us/step - loss: 2.8513e-04 - acc: 1.0000\n",
      "Epoch 435/500\n",
      "142/142 [==============================] - 0s 74us/step - loss: 2.8379e-04 - acc: 1.0000\n",
      "Epoch 436/500\n",
      "142/142 [==============================] - 0s 74us/step - loss: 2.8219e-04 - acc: 1.0000\n",
      "Epoch 437/500\n",
      "142/142 [==============================] - 0s 72us/step - loss: 2.8061e-04 - acc: 1.0000\n",
      "Epoch 438/500\n",
      "142/142 [==============================] - 0s 83us/step - loss: 2.7917e-04 - acc: 1.0000\n",
      "Epoch 439/500\n",
      "142/142 [==============================] - 0s 88us/step - loss: 2.7756e-04 - acc: 1.0000\n",
      "Epoch 440/500\n",
      "142/142 [==============================] - 0s 76us/step - loss: 2.7605e-04 - acc: 1.0000\n",
      "Epoch 441/500\n",
      "142/142 [==============================] - 0s 69us/step - loss: 2.7450e-04 - acc: 1.0000\n",
      "Epoch 442/500\n",
      "142/142 [==============================] - 0s 78us/step - loss: 2.7318e-04 - acc: 1.0000\n",
      "Epoch 443/500\n",
      "142/142 [==============================] - 0s 93us/step - loss: 2.7167e-04 - acc: 1.0000\n",
      "Epoch 444/500\n",
      "142/142 [==============================] - 0s 74us/step - loss: 2.7021e-04 - acc: 1.0000\n",
      "Epoch 445/500\n",
      "142/142 [==============================] - 0s 79us/step - loss: 2.6887e-04 - acc: 1.0000\n",
      "Epoch 446/500\n",
      "142/142 [==============================] - 0s 84us/step - loss: 2.6735e-04 - acc: 1.0000\n",
      "Epoch 447/500\n",
      "142/142 [==============================] - 0s 88us/step - loss: 2.6605e-04 - acc: 1.0000\n",
      "Epoch 448/500\n",
      "142/142 [==============================] - 0s 67us/step - loss: 2.6462e-04 - acc: 1.0000\n",
      "Epoch 449/500\n",
      "142/142 [==============================] - 0s 88us/step - loss: 2.6331e-04 - acc: 1.0000\n",
      "Epoch 450/500\n",
      "142/142 [==============================] - 0s 87us/step - loss: 2.6195e-04 - acc: 1.0000\n",
      "Epoch 451/500\n",
      "142/142 [==============================] - 0s 96us/step - loss: 2.6059e-04 - acc: 1.0000\n",
      "Epoch 452/500\n",
      "142/142 [==============================] - 0s 70us/step - loss: 2.5924e-04 - acc: 1.0000\n",
      "Epoch 453/500\n",
      "142/142 [==============================] - 0s 82us/step - loss: 2.5790e-04 - acc: 1.0000\n",
      "Epoch 454/500\n",
      "142/142 [==============================] - 0s 84us/step - loss: 2.5651e-04 - acc: 1.0000\n",
      "Epoch 455/500\n",
      "142/142 [==============================] - 0s 75us/step - loss: 2.5525e-04 - acc: 1.0000\n",
      "Epoch 456/500\n",
      "142/142 [==============================] - 0s 73us/step - loss: 2.5400e-04 - acc: 1.0000\n",
      "Epoch 457/500\n",
      "142/142 [==============================] - 0s 74us/step - loss: 2.5268e-04 - acc: 1.0000\n",
      "Epoch 458/500\n",
      "142/142 [==============================] - 0s 70us/step - loss: 2.5144e-04 - acc: 1.0000\n",
      "Epoch 459/500\n",
      "142/142 [==============================] - 0s 68us/step - loss: 2.5018e-04 - acc: 1.0000\n",
      "Epoch 460/500\n",
      "142/142 [==============================] - 0s 76us/step - loss: 2.4884e-04 - acc: 1.0000\n",
      "Epoch 461/500\n",
      "142/142 [==============================] - 0s 68us/step - loss: 2.4768e-04 - acc: 1.0000\n",
      "Epoch 462/500\n",
      "142/142 [==============================] - 0s 74us/step - loss: 2.4643e-04 - acc: 1.0000\n",
      "Epoch 463/500\n",
      "142/142 [==============================] - 0s 67us/step - loss: 2.4512e-04 - acc: 1.0000\n",
      "Epoch 464/500\n",
      "142/142 [==============================] - 0s 73us/step - loss: 2.4391e-04 - acc: 1.0000\n",
      "Epoch 465/500\n",
      "142/142 [==============================] - 0s 94us/step - loss: 2.4268e-04 - acc: 1.0000\n",
      "Epoch 466/500\n",
      "142/142 [==============================] - 0s 88us/step - loss: 2.4139e-04 - acc: 1.0000\n",
      "Epoch 467/500\n",
      "142/142 [==============================] - 0s 81us/step - loss: 2.4019e-04 - acc: 1.0000\n",
      "Epoch 468/500\n",
      "142/142 [==============================] - 0s 82us/step - loss: 2.3893e-04 - acc: 1.0000\n",
      "Epoch 469/500\n",
      "142/142 [==============================] - 0s 87us/step - loss: 2.3767e-04 - acc: 1.0000\n",
      "Epoch 470/500\n",
      "142/142 [==============================] - 0s 83us/step - loss: 2.3651e-04 - acc: 1.0000\n",
      "Epoch 471/500\n",
      "142/142 [==============================] - 0s 77us/step - loss: 2.3527e-04 - acc: 1.0000\n",
      "Epoch 472/500\n",
      "142/142 [==============================] - 0s 72us/step - loss: 2.3412e-04 - acc: 1.0000\n",
      "Epoch 473/500\n",
      "142/142 [==============================] - 0s 85us/step - loss: 2.3304e-04 - acc: 1.0000\n",
      "Epoch 474/500\n",
      "142/142 [==============================] - 0s 97us/step - loss: 2.3182e-04 - acc: 1.0000\n",
      "Epoch 475/500\n",
      "142/142 [==============================] - 0s 73us/step - loss: 2.3067e-04 - acc: 1.0000\n",
      "Epoch 476/500\n",
      "142/142 [==============================] - 0s 79us/step - loss: 2.2945e-04 - acc: 1.0000\n",
      "Epoch 477/500\n",
      "142/142 [==============================] - 0s 82us/step - loss: 2.2828e-04 - acc: 1.0000\n",
      "Epoch 478/500\n",
      "142/142 [==============================] - 0s 61us/step - loss: 2.2714e-04 - acc: 1.0000\n",
      "Epoch 479/500\n",
      "142/142 [==============================] - 0s 81us/step - loss: 2.2602e-04 - acc: 1.0000\n",
      "Epoch 480/500\n",
      "142/142 [==============================] - 0s 65us/step - loss: 2.2486e-04 - acc: 1.0000\n",
      "Epoch 481/500\n",
      "142/142 [==============================] - 0s 77us/step - loss: 2.2379e-04 - acc: 1.0000\n",
      "Epoch 482/500\n",
      "142/142 [==============================] - 0s 83us/step - loss: 2.2270e-04 - acc: 1.0000\n",
      "Epoch 483/500\n",
      "142/142 [==============================] - 0s 70us/step - loss: 2.2143e-04 - acc: 1.0000\n",
      "Epoch 484/500\n",
      "142/142 [==============================] - 0s 94us/step - loss: 2.2031e-04 - acc: 1.0000\n",
      "Epoch 485/500\n",
      "142/142 [==============================] - 0s 69us/step - loss: 2.1926e-04 - acc: 1.0000\n",
      "Epoch 486/500\n"
     ]
    },
    {
     "name": "stdout",
     "output_type": "stream",
     "text": [
      "142/142 [==============================] - 0s 66us/step - loss: 2.1816e-04 - acc: 1.0000\n",
      "Epoch 487/500\n",
      "142/142 [==============================] - 0s 80us/step - loss: 2.1699e-04 - acc: 1.0000\n",
      "Epoch 488/500\n",
      "142/142 [==============================] - 0s 67us/step - loss: 2.1592e-04 - acc: 1.0000\n",
      "Epoch 489/500\n",
      "142/142 [==============================] - 0s 80us/step - loss: 2.1486e-04 - acc: 1.0000\n",
      "Epoch 490/500\n",
      "142/142 [==============================] - 0s 80us/step - loss: 2.1384e-04 - acc: 1.0000\n",
      "Epoch 491/500\n",
      "142/142 [==============================] - 0s 76us/step - loss: 2.1286e-04 - acc: 1.0000\n",
      "Epoch 492/500\n",
      "142/142 [==============================] - 0s 81us/step - loss: 2.1170e-04 - acc: 1.0000\n",
      "Epoch 493/500\n",
      "142/142 [==============================] - 0s 70us/step - loss: 2.1065e-04 - acc: 1.0000\n",
      "Epoch 494/500\n",
      "142/142 [==============================] - 0s 70us/step - loss: 2.0956e-04 - acc: 1.0000\n",
      "Epoch 495/500\n",
      "142/142 [==============================] - 0s 79us/step - loss: 2.0854e-04 - acc: 1.0000\n",
      "Epoch 496/500\n",
      "142/142 [==============================] - 0s 65us/step - loss: 2.0755e-04 - acc: 1.0000\n",
      "Epoch 497/500\n",
      "142/142 [==============================] - 0s 70us/step - loss: 2.0659e-04 - acc: 1.0000\n",
      "Epoch 498/500\n",
      "142/142 [==============================] - 0s 77us/step - loss: 2.0557e-04 - acc: 1.0000\n",
      "Epoch 499/500\n",
      "142/142 [==============================] - 0s 65us/step - loss: 2.0457e-04 - acc: 1.0000\n",
      "Epoch 500/500\n",
      "142/142 [==============================] - 0s 77us/step - loss: 2.0359e-04 - acc: 1.0000\n",
      "Accuacy train:1.000 ,test:1.000\n"
     ]
    }
   ],
   "source": [
    "from sklearn.preprocessing import StandardScaler\n",
    "from keras.models import Sequential\n",
    "from keras.layers import Dense\n",
    "from keras.wrappers.scikit_learn import KerasClassifier\n",
    "\n",
    "sc=StandardScaler()\n",
    "train_std=sc.fit_transform(X_train)\n",
    "test_std=sc.transform(X_test)\n",
    "\n",
    "def create_model():\n",
    "    model=Sequential()\n",
    "    model.add(Dense(32,input_dim=X_train.shape[1],activation='relu'))\n",
    "    model.add(Dense(8,activation='relu'))\n",
    "    model.add(Dense(3,activation='softmax'))\n",
    "    model.compile(loss='categorical_crossentropy',optimizer='Adam',metrics=['accuracy'])\n",
    "    return model\n",
    "\n",
    "nn_clf=KerasClassifier(build_fn=create_model,epochs=500)\n",
    "nn_clf.fit(train_std,y_train)\n",
    "y_train_pred=nn_clf.predict(train_std)\n",
    "y_test_pred=nn_clf.predict(test_std)\n",
    "\n",
    "print('Accuacy train:%.3f ,test:%.3f' % (accuracy_score(y_train,y_train_pred),accuracy_score(y_test,y_test_pred)))"
   ]
  },
  {
   "cell_type": "markdown",
   "metadata": {},
   "source": [
    "## sklaern付属のニューラルネット\n",
    "## @ from sklearn.neural_network import MLPClassififer\n",
    "### mlpc=MLPCassifier(solver='lbfgs',hidden_layer_sizes=[8,16],alpha=0.1,activation='relu',random_state=0)\n",
    "sklearn付属のニューラルネット。GPUに対応していないので、使う必要性はないが、一応あることは気に留めておくといいかも？  \n",
    "solverがoptimizer,デフォはlbfgsという準ニュートン法。hidden_layer_sizesで隠れ層のノードの様子を指定できる。重み初期値にだいぶ依存するので、random_stateもチューニングする必要がある。alphaはL2正則化項の係数\n"
   ]
  },
  {
   "cell_type": "markdown",
   "metadata": {},
   "source": [
    "## 回帰モデル"
   ]
  },
  {
   "cell_type": "markdown",
   "metadata": {},
   "source": [
    "## @ from sklearn.linear_model import LinearRegression\n",
    "### lr=LinearRegression(fit_intercept=True, normalize=False, n_jobs=1))\n",
    "基本の線形回帰モデル。精度はよくないが、シンプルなのでデータの線形分離可能性を知るのには便利。　　\n",
    "fit_intercept、False に設定すると切片を求める計算を含めない。目的変数が原点を通るなら利用可能。normalizeでデータを正規化するか決めれる。  \n",
    "回帰全般に言えることだが、データの標準化は説明変数だけでなく、目的変数にも行う必要がある"
   ]
  },
  {
   "cell_type": "code",
   "execution_count": 14,
   "metadata": {},
   "outputs": [
    {
     "name": "stdout",
     "output_type": "stream",
     "text": [
      "train MSE: 0.5029199902156156\n"
     ]
    },
    {
     "data": {
      "image/png": "[encoded data removed]",
      "text/plain": [
       "<Figure size 432x288 with 1 Axes>"
      ]
     },
     "metadata": {
      "needs_background": "light"
     },
     "output_type": "display_data"
    }
   ],
   "source": [
    "from sklearn.metrics import mean_squared_error\n",
    "from sklearn.preprocessing import StandardScaler\n",
    "sc_x=StandardScaler()\n",
    "sc_y=StandardScaler()\n",
    "# 線形分離の様子を実感するために、特徴量を一つで学習してみる。\n",
    "# Boston housing\n",
    "X=X_train[['RM']].values\n",
    "X_std=sc_x.fit_transform(X)\n",
    "y_std=sc_y.fit_transform(y_train[:,np.newaxis]).flatten()\n",
    "\n",
    "from sklearn.linear_model import LinearRegression\n",
    "lr=LinearRegression()\n",
    "lr.fit(X_std,y_std)\n",
    "\n",
    "y_pred=lr.predict(X_std)\n",
    "print('train MSE:',mean_squared_error(y_std,y_pred))\n",
    "# 標準化した値をもとに戻す\n",
    "X=sc_x.inverse_transform(X_std)\n",
    "Y=sc_y.inverse_transform(y_std)\n",
    "Y_pred=sc_y.inverse_transform(y_pred)\n",
    "# 線形分離の様子を可視化\n",
    "plt.scatter(X,Y,color='blue')\n",
    "plt.plot(X,Y_pred,color='red')\n",
    "plt.xlabel('X')\n",
    "plt.ylabel('Y')\n",
    "plt.show()"
   ]
  },
  {
   "cell_type": "markdown",
   "metadata": {},
   "source": [
    "## @ from sklearn.linear_model import RANSACRegressor\n",
    "### ransac=RANSACRegressor(LinearRegression(),max_trials=100,min_samples=50,residual_metrics=lambda x:np.sum(np.abs(x),axis=1),residual_threshold=5.0,random_state=0\n",
    "### ransac.fit(X,y)\n",
    "RANSACはロバスト回帰モデル（外れ値の影響を抑えた上で回帰を実行する手法のこと）で回帰モデルに対して、正常値を学習させる.  \n",
    "max_trialsでイテレーションの回数、min_samplesでランダムに選択されるサンプルの最小数、residual_metricsで学習直線に対する縦の線の距離の絶対値を計算。 residual_thresholdで縦の距離が5以下のサンプル点が正常値に含まれるようにする。    \n",
    "RANSACの精度はしきい値の適切な判断によるので、トライアンドエラーが必要になる。\n",
    "RANSACは、あくまで外れ値の影響をなくして、正常なサンプルを回帰モデルが学習できるようにするアルゴリズムなため、モデルではないことに注意  "
   ]
  },
  {
   "cell_type": "code",
   "execution_count": 18,
   "metadata": {},
   "outputs": [
    {
     "data": {
      "image/png": "[encoded data removed]",
      "text/plain": [
       "<Figure size 432x288 with 1 Axes>"
      ]
     },
     "metadata": {
      "needs_background": "light"
     },
     "output_type": "display_data"
    }
   ],
   "source": [
    "from sklearn.metrics import mean_squared_error\n",
    "from sklearn.preprocessing import StandardScaler\n",
    "sc_x=StandardScaler()\n",
    "sc_y=StandardScaler()\n",
    "# 可視化の都合上、特徴量を一つで学習してみる。\n",
    "# Boston housing\n",
    "X=X_train[['RM']].values\n",
    "X_std=sc_x.fit_transform(X)\n",
    "y_std=sc_y.fit_transform(y_train[:,np.newaxis]).flatten()\n",
    "\n",
    "from sklearn.linear_model import RANSACRegressor,LinearRegression\n",
    "lr=LinearRegression()\n",
    "ransac=RANSACRegressor(lr,max_trials=100,min_samples=50,residual_threshold=0.5,random_state=0)\n",
    "ransac.fit(X_std,y_std)\n",
    "inliner_mask=ransac.inlier_mask_\n",
    "outliner_mask=np.logical_not(inliner_mask)\n",
    "\n",
    "line_X=np.arange(-4,6,1)\n",
    "line_Y=ransac.predict(line_X[:,np.newaxis])\n",
    "plt.scatter(X_std[inliner_mask],y_std[inliner_mask],c='blue',marker='o',label='Inliner')\n",
    "plt.scatter(X_std[outliner_mask],y_std[outliner_mask],c='red',marker='s',label='Outliner')\n",
    "plt.plot(line_X,line_Y,color='red')\n",
    "plt.legend()\n",
    "plt.show()"
   ]
  },
  {
   "cell_type": "markdown",
   "metadata": {},
   "source": [
    "## 決定木回帰\n",
    "分類モデルでのノードの不純度指標であるエントロピーを平均二乗誤差MSEに置き換えたもの\n",
    "## from sklearn.tree import DecisionTreeRegressor\n",
    "### tree = DecisionTreeRegressor(max_depth=3)\n",
    "分類モデルと同様、決定木の深さmax_depthをチューニングする必要がある"
   ]
  },
  {
   "cell_type": "code",
   "execution_count": 82,
   "metadata": {},
   "outputs": [
    {
     "name": "stdout",
     "output_type": "stream",
     "text": [
      "{'max_depth': 70}\n"
     ]
    },
    {
     "data": {
      "image/png": "[encoded data removed]",
      "text/plain": [
       "<Figure size 432x288 with 1 Axes>"
      ]
     },
     "metadata": {},
     "output_type": "display_data"
    }
   ],
   "source": [
    "from sklearn.metrics import mean_squared_error,r2_score\n",
    "from sklearn.model_selection import GridSearchCV\n",
    "from sklearn.tree import DecisionTreeRegressor\n",
    "# 決定木回帰モデルを作成\n",
    "tree=DecisionTreeRegressor()\n",
    "# パラメータチューニング\n",
    "grid_dict=[{'max_depth':[2*i for i in range(1,100)]}]\n",
    "gs=GridSearchCV(estimator=tree,param_grid=grid_dict,scoring='r2',cv=10)\n",
    "gs.fit(X_train,y_train)\n",
    "print(gs.best_params_)\n",
    "\n",
    "clf=gs.best_estimator_\n",
    "clf.fit(X_train,y_train)\n",
    "y_train_pred=clf.predict(X_train)\n",
    "y_pred_test=clf.predict(X_test)\n",
    "# 訓練データに極度に過学習している\n",
    "plt.scatter(y_train_pred,y_train-y_train_pred,color='blue',marker='o',s=10,label='train')\n",
    "plt.scatter(y_test_pred,y_test-y_test_pred,color='lightgreen',marker='s',s=10,label='test')\n",
    "plt.hlines(y=0,xmin=-10,xmax=50,lw=2,colors='red')\n",
    "plt.xlabel('prediction')\n",
    "plt.ylabel('residual')\n",
    "plt.legend()\n",
    "plt.show()"
   ]
  },
  {
   "cell_type": "code",
   "execution_count": 85,
   "metadata": {},
   "outputs": [
    {
     "data": {
      "image/png": "[encoded data removed]",
      "text/plain": [
       "<Figure size 432x288 with 1 Axes>"
      ]
     },
     "metadata": {},
     "output_type": "display_data"
    }
   ],
   "source": [
    "X=X_train[['LSTAT']].values\n",
    "y=y_train.values\n",
    "tree=DecisionTreeRegressor(max_depth=3)\n",
    "tree.fit(X,y)\n",
    "y_pred=tree.predict(X)\n",
    "# Xの要素の大きい順にindex番号を取得\n",
    "sort_idx=X.flatten().argsort()\n",
    "plt.scatter(X[sort_idx],y[sort_idx],color='blue',marker='s')\n",
    "plt.plot(X[sort_idx],y_pred[sort_idx],color='red')\n",
    "plt.show()"
   ]
  },
  {
   "cell_type": "markdown",
   "metadata": {},
   "source": [
    "## ランダムフォレスト回帰\n",
    "分類モデルのランダムフォレストの決定木の成長に平均二乗誤差を使用したもの\n",
    "## from sklearn.ensemble import RandomForestRegressor\n",
    "### forest=RandomForestRegressor(n_estimator=1000,criterion='mse',random_state=1,n_jobs=1)\n",
    "回帰モデルなので、決定木の成長指標criterionは平均二乗誤差MSEを使う必要があるのに注意。パラメータは分類器の場合と同じ"
   ]
  },
  {
   "cell_type": "code",
   "execution_count": 123,
   "metadata": {},
   "outputs": [
    {
     "name": "stdout",
     "output_type": "stream",
     "text": [
      "MSE train:7.140, test:39.642\n",
      "R^2 train:0.916, test:0.521\n"
     ]
    },
    {
     "data": {
      "image/png": "[encoded data removed]",
      "text/plain": [
       "<Figure size 432x288 with 1 Axes>"
      ]
     },
     "metadata": {},
     "output_type": "display_data"
    }
   ],
   "source": [
    "from sklearn.metrics import mean_squared_error,r2_score\n",
    "# Boston Housingデータ\n",
    "X=df[['LSTAT']].values\n",
    "y=df['MEDV'].values\n",
    "X_train,X_test,y_train,y_test=train_test_split(X,y,test_size=0.4,random_state=0)\n",
    "\n",
    "from sklearn.ensemble import RandomForestRegressor\n",
    "forest=RandomForestRegressor(n_estimators=1000,criterion='mse',random_state=1,n_jobs=-1)\n",
    "forest.fit(X_train,y_train)\n",
    "y_train_pred=forest.predict(X_train)\n",
    "y_test_pred=forest.predict(X_test)\n",
    "print('MSE train:%.3f, test:%.3f' % (mean_squared_error(y_train,y_train_pred),mean_squared_error(y_test,y_test_pred)))\n",
    "print('R^2 train:%.3f, test:%.3f' % (r2_score(y_train,y_train_pred),r2_score(y_test,y_test_pred)))\n",
    "\n",
    "plt.scatter(y_train_pred,y_train-y_train_pred,color='blue',marker='s',label='train')\n",
    "plt.scatter(y_test_pred,y_test-y_test_pred,color='lightgreen',marker='o',label='test')\n",
    "plt.hlines(y=0,xmin=5,xmax=50,color='red')\n",
    "plt.xlabel('prediction')\n",
    "plt.ylabel('residual')\n",
    "plt.legend()\n",
    "plt.show()"
   ]
  },
  {
   "cell_type": "markdown",
   "metadata": {},
   "source": [
    "## SVM回帰器\n",
    "分類器としてのSVMを簡単に回帰モデルとして使用できる。\n",
    "## from sklearn.svm import SVR\n",
    "### svm=SVR(kernel='rbf',C=0.01,gamma=0.1)\n",
    "分類器のSVMはSVC(Classifier)で呼びだしたが、回帰の場合はSVR(Regressor)で呼び出す。ありがたいことに、パラメータは分類器と同じで、非線形分離するためにカーネル化するのに、kernelを'rbf'とすればよい。linear,rbf,polyのいずれか。"
   ]
  },
  {
   "cell_type": "code",
   "execution_count": 153,
   "metadata": {},
   "outputs": [
    {
     "name": "stdout",
     "output_type": "stream",
     "text": [
      "MSE: 46.659,R^2:0.447 (linear)\n",
      "MSE: 27.366,R^2:0.676 (kernel)\n"
     ]
    },
    {
     "data": {
      "image/png": "[encoded data removed]",
      "text/plain": [
       "<Figure size 432x288 with 1 Axes>"
      ]
     },
     "metadata": {},
     "output_type": "display_data"
    }
   ],
   "source": [
    "from sklearn.metrics import mean_squared_error,r2_score\n",
    "# Boston Housingデータ\n",
    "\n",
    "X=df[['LSTAT']].values\n",
    "y=df['MEDV'].values\n",
    "# SVM回帰モデルを作成。すでにチューニングしたパラメータを使う。\n",
    "from sklearn.svm import SVR\n",
    "svm_linear=SVR(kernel='linear',C=1e-3)\n",
    "svm_kernel=SVR(kernel='rbf',C=10,gamma=0.1)\n",
    "\n",
    "for reg,label,color in zip([svm_linear,svm_kernel],['linear','kernel'],['red','lightgreen']):\n",
    "    reg.fit(X,y)\n",
    "    y_pred=reg.predict(X)\n",
    "    print('MSE: %.3f,R^2:%.3f (%s)' % (mean_squared_error(y,y_pred),r2_score(y,y_pred),label))\n",
    "    sort_idx=X.flatten().argsort()\n",
    "    plt.scatter(X[sort_idx],y[sort_idx],color='blue',marker='s',s=4)\n",
    "    plt.plot(X[sort_idx],y_pred[sort_idx],color=color,lw=2.5,label=label)\n",
    "plt.legend()\n",
    "plt.show()"
   ]
  },
  {
   "cell_type": "markdown",
   "metadata": {},
   "source": [
    "## 正則化を用いた線形回帰モデル"
   ]
  },
  {
   "cell_type": "markdown",
   "metadata": {},
   "source": [
    "## リッジ(Ridge)回帰\n",
    "## @ from sklearn.linear_model import Ridge\n",
    "### ridge=Ridge(alpha=1.0)\n",
    "いわゆるL2正則化項(重みの平方和)を損失関数の二乗誤差に足し合わせた線形回帰モデル。  \n",
    "alphaが正則化項の係数を表すハイパーパラメータの調整が必要"
   ]
  },
  {
   "cell_type": "code",
   "execution_count": 52,
   "metadata": {},
   "outputs": [
    {
     "name": "stdout",
     "output_type": "stream",
     "text": [
      "{'alpha': 0.1}\n",
      "0.7308450284527686\n",
      "train R2:0.773\n",
      "test R2:0.588\n"
     ]
    }
   ],
   "source": [
    "from sklearn.linear_model import Ridge\n",
    "from sklearn.metrics import r2_score\n",
    "from sklearn.model_selection import GridSearchCV\n",
    "# リッジ回帰モデルを作成\n",
    "ridge=Ridge()\n",
    "# L2ペナルティ項の係数をグリッドサーチ\n",
    "param_range=[10**i for i in range(-3,3)]\n",
    "grid_dict={'alpha':param_range}\n",
    "gs=GridSearchCV(estimator=ridge,param_grid=grid_dict,scoring='r2',cv=10,n_jobs=-10)\n",
    "gs.fit(X_train,y_train)\n",
    "print(gs.best_params_)\n",
    "clf=gs.best_estimator_\n",
    "\n",
    "y_train_pred=clf.predict(X_train)\n",
    "y_test_pred=clf.predict(X_test)\n",
    "\n",
    "print('train R2:%.3f' % r2_score(y_train,y_train_pred))\n",
    "print('test R2:%.3f' % r2_score(y_test,y_test_pred))"
   ]
  },
  {
   "cell_type": "markdown",
   "metadata": {},
   "source": [
    "## ラッソ(LASSO)回帰\n",
    "いわゆるL1正則化項を二乗誤差に加えた線形回帰モデル。特徴量の数を減らすことができるので、教師あり特徴量選択として使うこともできる。  \n",
    "LASSOはサンプル数より特徴量数のほうが大きい場合、特徴量数を選択する制約がある。\n",
    "## @ from sklearn.linear_model import Lasso\n",
    "### lasso=Lasso(alpha=1.0)"
   ]
  },
  {
   "cell_type": "code",
   "execution_count": 53,
   "metadata": {},
   "outputs": [
    {
     "name": "stdout",
     "output_type": "stream",
     "text": [
      "{'alpha': 0.001}\n",
      "train R2:0.773\n",
      "test R2:0.589\n"
     ]
    }
   ],
   "source": [
    "from sklearn.linear_model import Lasso\n",
    "from sklearn.model_selection import GridSearchCV\n",
    "\n",
    "lasso=Lasso()\n",
    "param_range=[10**i for i in range(-3,3)]\n",
    "grid_dict={'alpha':param_range}\n",
    "gs=GridSearchCV(estimator=lasso,param_grid=grid_dict,scoring='r2',cv=10,n_jobs=-10)\n",
    "gs.fit(X_train,y_train)\n",
    "print(gs.best_params_)\n",
    "clf=gs.best_estimator_\n",
    "\n",
    "y_train_pred=clf.predict(X_train)\n",
    "y_test_pred=clf.predict(X_test)\n",
    "\n",
    "print('train R2:%.3f' % r2_score(y_train,y_train_pred))\n",
    "print('test R2:%.3f' % r2_score(y_test,y_test_pred))"
   ]
  },
  {
   "cell_type": "markdown",
   "metadata": {},
   "source": [
    "## Elastic Net\n",
    "L1正則化項とL2正則化項、両方加えたRidgeとLassoの合わせ技。\n",
    "## from sklearn.linear_model import ElasticNet\n",
    "### elasticnet=ElasticNet(alpha=1.0,l1_ratio=0.5)\n",
    "alphaはL1正則化項の係数の大きさ、l1_ratioはL2正則化項とL1正則化項との大きさの比較。1.0の時にL2正則化項はなくなり、LASSOと等しくなる"
   ]
  },
  {
   "cell_type": "code",
   "execution_count": 59,
   "metadata": {},
   "outputs": [
    {
     "name": "stdout",
     "output_type": "stream",
     "text": [
      "{'alpha': 0.001, 'l1_ratio': 0.9}\n",
      "train R2:0.773\n",
      "test R2:0.588\n"
     ]
    }
   ],
   "source": [
    "from sklearn.linear_model import ElasticNet\n",
    "elasticnet=ElasticNet()\n",
    "param_range=[10**i for i in range(-3,3)]\n",
    "grid_dict=[{'alpha':param_range,'l1_ratio':[i for i in np.linspace(0.1,1,10)]}]\n",
    "\n",
    "gs=GridSearchCV(estimator=elasticnet,param_grid=grid_dict,scoring='r2',n_jobs=-1,cv=10)\n",
    "gs.fit(X_train,y_train)\n",
    "print(gs.best_params_)\n",
    "clf=gs.best_estimator_\n",
    "\n",
    "y_train_pred=clf.predict(X_train)\n",
    "y_test_pred=clf.predict(X_test)\n",
    "\n",
    "print('train R2:%.3f' % r2_score(y_train,y_train_pred))\n",
    "print('test R2:%.3f' % r2_score(y_test,y_test_pred))"
   ]
  },
  {
   "cell_type": "markdown",
   "metadata": {},
   "source": [
    "## 勾配ブースティング\n",
    "## from sklearn.ensemble import GradientBoostingRegressor\n",
    "### gbr=GradientBoostingRegressor(n_estimator=100,max_depth,learning_rate=0.1,random_rate=0)\n",
    "回帰木を用いたアンサンブル手法。n_estimatorに決定木の数。learning_rateｄ、個々の決定木がそれまでの決定木の過ちをどの程度補正しようとするか\n",
    "を表している。learnig_rateとmax_depthが重要なハイパーパラメータとなり、n_estimatorの数を大きくしすぎると、過学習の可能性がある。"
   ]
  },
  {
   "cell_type": "code",
   "execution_count": 5,
   "metadata": {},
   "outputs": [
    {
     "name": "stdout",
     "output_type": "stream",
     "text": [
      "best params= {'learning_rate': 0.1, 'max_depth': 6, 'max_features': 0.3, 'min_samples_leaf': 5}\n",
      "R^2 train:1.000 test:0.677 \n"
     ]
    }
   ],
   "source": [
    "from sklearn.metrics import r2_score\n",
    "from sklearn.ensemble import GradientBoostingRegressor\n",
    "from sklearn.model_selection import GridSearchCV\n",
    "\n",
    "gbc=GradientBoostingRegressor(n_estimators=500)\n",
    "\n",
    "# 推奨されているパラメータのチューニング方法\n",
    "parameters = {'learning_rate' : [0.1, 0.05, 0.02, 0.01], \n",
    "              'max_depth': [4, 6],\n",
    "              'min_samples_leaf': [3, 5, 9, 17],\n",
    "              'max_features': [1.0, 0.3, 0.1]}\n",
    "\n",
    "gs = GridSearchCV(estimator=gbc,param_grid=parameters, n_jobs=-1, cv=4)\n",
    "\n",
    "# データはBreast Cancer \n",
    "gs.fit(X_train, y_train)\n",
    "print(\"best params=\", gs.best_params_)\n",
    "\n",
    "# 学習率をたくさんの分類器の数でチューニング\n",
    "clf = gs.best_estimator_\n",
    "clf.set_params(n_estimators=100000)\n",
    "parameters = {'learning_rate' : [0.1, 0.05, 0.02, 0.01]}\n",
    "gs = GridSearchCV(clf, parameters, n_jobs=-1, cv=4)\n",
    "gs.fit(X_train, y_train)\n",
    "\n",
    "y_train_pred=gs.predict(X_train)\n",
    "y_test_pred=gs.predict(X_test)\n",
    "\n",
    "print(\"R^2 train:%.3f test:%.3f \" % (r2_score(y_train,y_train_pred),r2_score(y_test,y_test_pred)))"
   ]
  },
  {
   "cell_type": "markdown",
   "metadata": {},
   "source": [
    "## XGBoost\n",
    "XGBoostを回帰問題に使う場合。XBoostは中身は回帰モデルなので、実装は簡単  \n",
    "分類器としてのXGBoostの詳しい使い方は以下に記載してある"
   ]
  },
  {
   "cell_type": "code",
   "execution_count": 9,
   "metadata": {},
   "outputs": [
    {
     "name": "stdout",
     "output_type": "stream",
     "text": [
      "[16:46:59] WARNING: C:/Jenkins/workspace/xgboost-win64_release_0.90/src/objective/regression_obj.cu:152: reg:linear is now deprecated in favor of reg:squarederror.\n",
      "train R2:1.000\n",
      "test R2:0.733\n"
     ]
    },
    {
     "data": {
      "image/png": "[encoded data removed]",
      "text/plain": [
       "<Figure size 432x288 with 1 Axes>"
      ]
     },
     "metadata": {
      "needs_background": "light"
     },
     "output_type": "display_data"
    }
   ],
   "source": [
    "from sklearn.model_selection import GridSearchCV\n",
    "from sklearn.metrics import r2_score\n",
    "\n",
    "import xgboost as xgb\n",
    "xgb_model=xgb.XGBRegressor()\n",
    "\n",
    "grid_dict=[{'max_depth':[i for i in range(1,20)],'n_estimators':[50,100,200]}]\n",
    "xgb_reg=GridSearchCV(estimator=xgb_model,param_grid=grid_dict,cv=10,n_jobs=-1)\n",
    "\n",
    "xgb_reg.fit(X_train,y_train)\n",
    "y_train_pred=xgb_reg.predict(X_train)\n",
    "y_test_pred=xgb_reg.predict(X_test)\n",
    "\n",
    "print('train R2:%.3f' % r2_score(y_train,y_train_pred))\n",
    "print('test R2:%.3f' % r2_score(y_test,y_test_pred))\n",
    "\n",
    "plt.scatter(y_train_pred,y_train-y_train_pred,color='blue',marker='s',label='train')\n",
    "plt.scatter(y_test_pred,y_test-y_test_pred,color='lightgreen',marker='o',label='test')\n",
    "plt.hlines(y=0,xmin=5,xmax=50,color='red')\n",
    "plt.xlabel('prediction')\n",
    "plt.ylabel('residual')\n",
    "plt.legend()\n",
    "plt.show()"
   ]
  },
  {
   "cell_type": "markdown",
   "metadata": {},
   "source": [
    "## lightgbm\n",
    "### from lightgbm import LGBMRegressor\n",
    "### model=LGBMRegressor(num_leaves=10, max_depth=4)\n",
    "Microsoftが出資した勾配ブースティング手法。XGBoostに比べて高速で、メモリ効率が高いとされる。 num_leavesが葉の数に対応し、決定木の複雑を決める。  \n",
    "max_depthで決定木の深さに対応する。"
   ]
  },
  {
   "cell_type": "code",
   "execution_count": 7,
   "metadata": {},
   "outputs": [
    {
     "name": "stdout",
     "output_type": "stream",
     "text": [
      "R^2 train:0.948\n",
      "R^2 test:0.664\n"
     ]
    }
   ],
   "source": [
    "from lightgbm import LGBMRegressor\n",
    "from sklearn.metrics import r2_score\n",
    "from sklearn.model_selection import GridSearchCV\n",
    "lgbm = LGBMRegressor(boosting_type='gbdt', \n",
    "                      num_leaves=10,\n",
    "                      max_depth=4, \n",
    "                      learning_rate=0.005,\n",
    "                      n_estimators=675,\n",
    "                      max_bin=25,\n",
    "                      subsample_for_bin=50000,\n",
    "                      min_split_gain=0,\n",
    "                      min_child_weight=5,\n",
    "                      min_child_samples=10, \n",
    "                      subsample=0.995,\n",
    "                      subsample_freq=1, \n",
    "                      colsample_bytree=1, \n",
    "                      reg_alpha=0, \n",
    "                      reg_lambda=0, \n",
    "                      seed=0,\n",
    "                      nthread=-1,\n",
    "                      silent=True)\n",
    "grid_dict=[{'max_depth':[2*i for i in range(1,6)],'num_leaves':[2*i for i in range(1,6)]}]\n",
    "model=GridSearchCV(estimator=lgbm,param_grid=grid_dict,scoring='r2',cv=3)\n",
    "# Boston Housing データ\n",
    "model.fit(X_train,y_train)\n",
    "y_train_pred=model.predict(X_train)\n",
    "y_test_pred=model.predict(X_test)\n",
    "print('R^2 train:%.3f' % r2_score(y_train,y_train_pred))\n",
    "print('R^2 test:%.3f' % r2_score(y_test,y_test_pred))"
   ]
  },
  {
   "cell_type": "markdown",
   "metadata": {},
   "source": [
    "## ニューラルネットワーク\n",
    "## Kerasを用いて、sklearnで使える回帰NNモデルを作成\n",
    "## from keras.wrappers.scikit_learn import KerasRegressor\n",
    "### nn_reg=KerasRegressor(build_fn=create_model,epochs=100,batch_size=4,verbose=1)\n",
    "Kerasでモデル構築して、そのままskelarnのモデルのように扱える。やっぱニューラルネットはテンション上がるから、いろいろ試したい。  \n",
    "回帰モデルなので、出力層の活性化関数を恒等関数、損失関数をmean_squared_error(MSE)にするのに注意  \n",
    "モデルの構築はKerasで行って、自分で作ったモデルをsklearnをラッパーとして使う形になる。  \n",
    "実験した感じ、テーブルデータに対してミニバッチを大きくすると、性能は悪くなる。"
   ]
  },
  {
   "cell_type": "code",
   "execution_count": 44,
   "metadata": {},
   "outputs": [
    {
     "name": "stdout",
     "output_type": "stream",
     "text": [
      "Epoch 1/100\n",
      "404/404 [==============================] - 1s 2ms/step - loss: 0.8901\n",
      "Epoch 2/100\n",
      "404/404 [==============================] - 0s 708us/step - loss: 0.4631\n",
      "Epoch 3/100\n",
      "404/404 [==============================] - 0s 686us/step - loss: 0.2814\n",
      "Epoch 4/100\n",
      "404/404 [==============================] - 0s 692us/step - loss: 0.2055\n",
      "Epoch 5/100\n",
      "404/404 [==============================] - ETA: 0s - loss: 0.190 - 0s 727us/step - loss: 0.1837\n",
      "Epoch 6/100\n",
      "404/404 [==============================] - 0s 713us/step - loss: 0.1736\n",
      "Epoch 7/100\n",
      "404/404 [==============================] - 0s 689us/step - loss: 0.1635\n",
      "Epoch 8/100\n",
      "404/404 [==============================] - 0s 696us/step - loss: 0.1562\n",
      "Epoch 9/100\n",
      "404/404 [==============================] - 0s 700us/step - loss: 0.1522\n",
      "Epoch 10/100\n",
      "404/404 [==============================] - 0s 688us/step - loss: 0.1435\n",
      "Epoch 11/100\n",
      "404/404 [==============================] - 0s 702us/step - loss: 0.1401\n",
      "Epoch 12/100\n",
      "404/404 [==============================] - 0s 690us/step - loss: 0.1361\n",
      "Epoch 13/100\n",
      "404/404 [==============================] - 0s 684us/step - loss: 0.1344\n",
      "Epoch 14/100\n",
      "404/404 [==============================] - 0s 688us/step - loss: 0.1299\n",
      "Epoch 15/100\n",
      "404/404 [==============================] - 0s 711us/step - loss: 0.1275\n",
      "Epoch 16/100\n",
      "404/404 [==============================] - 0s 692us/step - loss: 0.1229\n",
      "Epoch 17/100\n",
      "404/404 [==============================] - 0s 749us/step - loss: 0.1247\n",
      "Epoch 18/100\n",
      "404/404 [==============================] - 0s 805us/step - loss: 0.1206\n",
      "Epoch 19/100\n",
      "404/404 [==============================] - 0s 733us/step - loss: 0.1180\n",
      "Epoch 20/100\n",
      "404/404 [==============================] - 0s 705us/step - loss: 0.1139\n",
      "Epoch 21/100\n",
      "404/404 [==============================] - 0s 733us/step - loss: 0.1125\n",
      "Epoch 22/100\n",
      "404/404 [==============================] - 0s 715us/step - loss: 0.1112\n",
      "Epoch 23/100\n",
      "404/404 [==============================] - 0s 703us/step - loss: 0.1085\n",
      "Epoch 24/100\n",
      "404/404 [==============================] - 0s 697us/step - loss: 0.1039\n",
      "Epoch 25/100\n",
      "404/404 [==============================] - 0s 740us/step - loss: 0.1031\n",
      "Epoch 26/100\n",
      "404/404 [==============================] - 0s 710us/step - loss: 0.0988\n",
      "Epoch 27/100\n",
      "404/404 [==============================] - 0s 716us/step - loss: 0.1022\n",
      "Epoch 28/100\n",
      "404/404 [==============================] - 0s 692us/step - loss: 0.0964\n",
      "Epoch 29/100\n",
      "404/404 [==============================] - 0s 692us/step - loss: 0.0931\n",
      "Epoch 30/100\n",
      "404/404 [==============================] - 0s 675us/step - loss: 0.0920\n",
      "Epoch 31/100\n",
      "404/404 [==============================] - 0s 695us/step - loss: 0.0886\n",
      "Epoch 32/100\n",
      "404/404 [==============================] - 0s 710us/step - loss: 0.0876\n",
      "Epoch 33/100\n",
      "404/404 [==============================] - 0s 711us/step - loss: 0.0873\n",
      "Epoch 34/100\n",
      "404/404 [==============================] - 0s 696us/step - loss: 0.0847\n",
      "Epoch 35/100\n",
      "404/404 [==============================] - 0s 697us/step - loss: 0.0865\n",
      "Epoch 36/100\n",
      "404/404 [==============================] - 0s 717us/step - loss: 0.0814\n",
      "Epoch 37/100\n",
      "404/404 [==============================] - 0s 718us/step - loss: 0.0798\n",
      "Epoch 38/100\n",
      "404/404 [==============================] - 0s 744us/step - loss: 0.0773\n",
      "Epoch 39/100\n",
      "404/404 [==============================] - 0s 722us/step - loss: 0.0766\n",
      "Epoch 40/100\n",
      "404/404 [==============================] - 0s 705us/step - loss: 0.0731\n",
      "Epoch 41/100\n",
      "404/404 [==============================] - 0s 718us/step - loss: 0.0721\n",
      "Epoch 42/100\n",
      "404/404 [==============================] - 0s 723us/step - loss: 0.0715\n",
      "Epoch 43/100\n",
      "404/404 [==============================] - 0s 707us/step - loss: 0.0695\n",
      "Epoch 44/100\n",
      "404/404 [==============================] - 0s 711us/step - loss: 0.0684\n",
      "Epoch 45/100\n",
      "404/404 [==============================] - 0s 701us/step - loss: 0.0717\n",
      "Epoch 46/100\n",
      "404/404 [==============================] - 0s 754us/step - loss: 0.0673\n",
      "Epoch 47/100\n",
      "404/404 [==============================] - 0s 724us/step - loss: 0.0667\n",
      "Epoch 48/100\n",
      "404/404 [==============================] - 0s 718us/step - loss: 0.0661\n",
      "Epoch 49/100\n",
      "404/404 [==============================] - 0s 745us/step - loss: 0.0643\n",
      "Epoch 50/100\n",
      "404/404 [==============================] - 0s 753us/step - loss: 0.0637\n",
      "Epoch 51/100\n",
      "404/404 [==============================] - 0s 694us/step - loss: 0.0624\n",
      "Epoch 52/100\n",
      "404/404 [==============================] - 0s 704us/step - loss: 0.0630\n",
      "Epoch 53/100\n",
      "404/404 [==============================] - 0s 732us/step - loss: 0.0624\n",
      "Epoch 54/100\n",
      "404/404 [==============================] - 0s 715us/step - loss: 0.0606\n",
      "Epoch 55/100\n",
      "404/404 [==============================] - ETA: 0s - loss: 0.064 - 0s 718us/step - loss: 0.0628\n",
      "Epoch 56/100\n",
      "404/404 [==============================] - 0s 710us/step - loss: 0.0605\n",
      "Epoch 57/100\n",
      "404/404 [==============================] - 0s 727us/step - loss: 0.0617\n",
      "Epoch 58/100\n",
      "404/404 [==============================] - 0s 706us/step - loss: 0.0587\n",
      "Epoch 59/100\n",
      "404/404 [==============================] - 0s 703us/step - loss: 0.0583\n",
      "Epoch 60/100\n",
      "404/404 [==============================] - 0s 713us/step - loss: 0.0578\n",
      "Epoch 61/100\n",
      "404/404 [==============================] - 0s 712us/step - loss: 0.0584\n",
      "Epoch 62/100\n",
      "404/404 [==============================] - 0s 696us/step - loss: 0.0573\n",
      "Epoch 63/100\n",
      "404/404 [==============================] - 0s 724us/step - loss: 0.0561\n",
      "Epoch 64/100\n",
      "404/404 [==============================] - 0s 703us/step - loss: 0.0550\n",
      "Epoch 65/100\n",
      "404/404 [==============================] - 0s 692us/step - loss: 0.0562\n",
      "Epoch 66/100\n",
      "404/404 [==============================] - 0s 718us/step - loss: 0.0552\n",
      "Epoch 67/100\n",
      "404/404 [==============================] - 0s 724us/step - loss: 0.0549\n",
      "Epoch 68/100\n",
      "404/404 [==============================] - 0s 689us/step - loss: 0.0537\n",
      "Epoch 69/100\n",
      "404/404 [==============================] - 0s 707us/step - loss: 0.0539\n",
      "Epoch 70/100\n",
      "404/404 [==============================] - 0s 729us/step - loss: 0.0535\n",
      "Epoch 71/100\n",
      "404/404 [==============================] - 0s 691us/step - loss: 0.0521\n",
      "Epoch 72/100\n",
      "404/404 [==============================] - 0s 708us/step - loss: 0.0530\n",
      "Epoch 73/100\n",
      "404/404 [==============================] - 0s 713us/step - loss: 0.0560\n",
      "Epoch 74/100\n",
      "404/404 [==============================] - 0s 723us/step - loss: 0.0529\n",
      "Epoch 75/100\n",
      "404/404 [==============================] - 0s 770us/step - loss: 0.0518\n",
      "Epoch 76/100\n",
      "404/404 [==============================] - 0s 759us/step - loss: 0.0503\n",
      "Epoch 77/100\n",
      "404/404 [==============================] - 0s 787us/step - loss: 0.0515\n",
      "Epoch 78/100\n",
      "404/404 [==============================] - 0s 737us/step - loss: 0.0497\n",
      "Epoch 79/100\n",
      "404/404 [==============================] - 0s 702us/step - loss: 0.0508\n",
      "Epoch 80/100\n",
      "404/404 [==============================] - 0s 740us/step - loss: 0.0494\n",
      "Epoch 81/100\n",
      "404/404 [==============================] - 0s 715us/step - loss: 0.0495\n",
      "Epoch 82/100\n",
      "404/404 [==============================] - 0s 706us/step - loss: 0.0488\n",
      "Epoch 83/100\n",
      "404/404 [==============================] - 0s 761us/step - loss: 0.0497\n",
      "Epoch 84/100\n",
      "404/404 [==============================] - 0s 700us/step - loss: 0.0503\n",
      "Epoch 85/100\n",
      "404/404 [==============================] - 0s 821us/step - loss: 0.0484\n",
      "Epoch 86/100\n",
      "404/404 [==============================] - 0s 774us/step - loss: 0.0502\n",
      "Epoch 87/100\n",
      "404/404 [==============================] - 0s 695us/step - loss: 0.0482\n",
      "Epoch 88/100\n",
      "404/404 [==============================] - 0s 761us/step - loss: 0.0487\n",
      "Epoch 89/100\n",
      "404/404 [==============================] - 0s 738us/step - loss: 0.0462\n",
      "Epoch 90/100\n",
      "404/404 [==============================] - 0s 721us/step - loss: 0.0473\n",
      "Epoch 91/100\n",
      "404/404 [==============================] - 0s 732us/step - loss: 0.0459 0s - loss: 0.\n",
      "Epoch 92/100\n",
      "404/404 [==============================] - 0s 734us/step - loss: 0.0468\n",
      "Epoch 93/100\n",
      "404/404 [==============================] - 0s 796us/step - loss: 0.0460\n",
      "Epoch 94/100\n",
      "404/404 [==============================] - 0s 723us/step - loss: 0.0447\n",
      "Epoch 95/100\n",
      "404/404 [==============================] - 0s 724us/step - loss: 0.0463\n",
      "Epoch 96/100\n",
      "404/404 [==============================] - 0s 708us/step - loss: 0.0447\n",
      "Epoch 97/100\n",
      "404/404 [==============================] - 0s 700us/step - loss: 0.0462\n",
      "Epoch 98/100\n",
      "404/404 [==============================] - 0s 691us/step - loss: 0.0462\n",
      "Epoch 99/100\n",
      "404/404 [==============================] - 0s 680us/step - loss: 0.0445\n",
      "Epoch 100/100\n",
      "404/404 [==============================] - 0s 685us/step - loss: 0.0440\n",
      "404/404 [==============================] - 0s 223us/step\n",
      "102/102 [==============================] - 0s 170us/step\n",
      "R^2 train:0.959 , test:0.760\n"
     ]
    }
   ],
   "source": [
    "from sklearn.metrics import r2_score\n",
    "from sklearn.preprocessing import StandardScaler\n",
    "from keras.models import Sequential\n",
    "from keras.layers import Dense\n",
    "import tensorflow as tf\n",
    "from keras import backend as K\n",
    "from keras.wrappers.scikit_learn import KerasRegressor\n",
    "\n",
    "sc=StandardScaler()\n",
    "X_train_std=sc.fit_transform(X_train)\n",
    "X_test_std=sc.transform(X_test)\n",
    "y_train_std=sc.fit_transform(y_train[:,np.newaxis])\n",
    "y_test_std=sc.transform(y_test[:,np.newaxis])\n",
    "\n",
    "# Kerasでネットワークを設計し、モデルを返す関数を定義\n",
    "def create_model():\n",
    "    model=Sequential()\n",
    "    model.add(Dense(X_train.shape[1],input_dim=X_train.shape[1],kernel_initializer='normal',activation='relu'))\n",
    "    model.add(Dense(16,activation='relu',kernel_initializer='normal'))\n",
    "    model.add(Dense(1,kernel_initializer='normal'))\n",
    "    model.compile(loss='mean_squared_error',optimizer='Adam')\n",
    "    return model\n",
    "\n",
    "# sckit-learnのラッパーにKerasのモデルを入れることで、sklearnで扱えるモデルを返す \n",
    "nn_reg=KerasRegressor(build_fn=create_model,epochs=100,batch_size=4,verbose=1)\n",
    "# BostonHousing データ\n",
    "nn_reg.fit(X_train_std,y_train_std)\n",
    "y_train_pred=nn_reg.predict(X_train_std)\n",
    "y_test_pred=nn_reg.predict(X_test_std)\n",
    "\n",
    "print('R^2 train:%.3f , test:%.3f'% (r2_score(y_train_std,y_train_pred),r2_score(y_test_std,y_test_pred)))"
   ]
  },
  {
   "cell_type": "code",
   "execution_count": 47,
   "metadata": {},
   "outputs": [
    {
     "data": {
      "image/png": "[encoded data removed]",
      "text/plain": [
       "<Figure size 432x288 with 1 Axes>"
      ]
     },
     "metadata": {
      "needs_background": "light"
     },
     "output_type": "display_data"
    },
    {
     "data": {
      "image/png": "[encoded data removed]",
      "text/plain": [
       "<Figure size 432x288 with 1 Axes>"
      ]
     },
     "metadata": {
      "needs_background": "light"
     },
     "output_type": "display_data"
    },
    {
     "data": {
      "image/png": "[encoded data removed]",
      "text/plain": [
       "<Figure size 432x288 with 1 Axes>"
      ]
     },
     "metadata": {
      "needs_background": "light"
     },
     "output_type": "display_data"
    }
   ],
   "source": [
    "#　残差プロット\n",
    "y_train_pred=sc.inverse_transform(y_train_pred)\n",
    "y_test_pred=sc.inverse_transform(y_test_pred)\n",
    "plt.scatter(y_train_pred,y_train-y_train_pred,color='blue',marker='s',label='train')\n",
    "plt.scatter(y_test_pred,y_test-y_test_pred,color='lightgreen',marker='o',label='test')\n",
    "plt.hlines(y=0,xmin=5,xmax=50,color='red')\n",
    "plt.xlabel('prediction')\n",
    "plt.ylabel('residual')\n",
    "plt.legend()\n",
    "plt.show()\n",
    "\n",
    "# バッチサイズに対する性能グラフ\n",
    "from sklearn.model_selection import validation_curve\n",
    "param_range=[1,4,16,32]\n",
    "nn_reg=KerasRegressor(build_fn=create_model,epochs=50,verbose=0)\n",
    "train_scores,test_scores=validation_curve(estimator=nn_reg,X=X_train,y=y_train,param_name='batch_size',param_range=param_range,cv=2,scoring=\"r2\")\n",
    "train_mean=np.mean(train_scores,axis=1)\n",
    "test_mean=np.mean(test_scores,axis=1)\n",
    "plt.plot(param_range,train_mean,color='blue',marker='o',markersize=5,label='train accuracy')\n",
    "plt.plot(param_range,test_mean,color='green',marker='s',markersize=5,label='test accuracy')\n",
    "plt.grid()\n",
    "plt.xlabel('batch_size')\n",
    "plt.ylabel('R^2')\n",
    "plt.show()\n",
    "# 訓練データ数に対する学習曲線を表示\n",
    "from sklearn.model_selection import learning_curve\n",
    "train_size,train_scores,test_scores=learning_curve(estimator=nn_reg,X=X_train,y=y_train,train_sizes=np.linspace(0.1,1.0,10),cv=2,scoring=\"r2\")\n",
    "train_mean=np.mean(train_scores,axis=1)\n",
    "test_mean=np.mean(test_scores,axis=1)\n",
    "plt.plot(train_size,train_mean,color='blue',marker='o',markersize=5,label='train accuracy')\n",
    "plt.plot(train_size,test_mean,color='green',marker='s',markersize=5,label='test accuracy')\n",
    "plt.grid()\n",
    "plt.xlabel('number of train datasets')\n",
    "plt.ylabel('R^2')\n",
    "plt.legend()\n",
    "plt.show()"
   ]
  },
  {
   "cell_type": "code",
   "execution_count": 58,
   "metadata": {},
   "outputs": [
    {
     "data": {
      "text/plain": [
       "-5.156391474943154"
      ]
     },
     "execution_count": 58,
     "metadata": {},
     "output_type": "execute_result"
    }
   ],
   "source": [
    "y_pred=model.predict(X_train)\n",
    "r2_score(y_train,y_pred)"
   ]
  },
  {
   "cell_type": "markdown",
   "metadata": {},
   "source": [
    "## 教師なし学習"
   ]
  },
  {
   "cell_type": "markdown",
   "metadata": {},
   "source": [
    "## k-means"
   ]
  },
  {
   "cell_type": "markdown",
   "metadata": {},
   "source": [
    "## @ from sklearn.cluster import KMeans\n",
    "### km=KMeans(n_cluster=3,init='random',n_init='k-means++',max_iter=300,tol=1e-4,random_state=0)\n",
    "### y_km=km.fit_predict(X)\n",
    "教師なし学習で基本のk-means。クラスタ内誤差平方和SSEを最小にするようにセントロイドを変化させる。クラスタ数を指定する必要があり、適切なクラスタ数を指定しないと、いい結果が得られないので注意。fit_predictで各特徴量が属するクラスタ番号の配列を返す  \n",
    "n_initで異なるランダムな初期値でkmeansを行って、SSEが最も小さいモデルを採用している。max_iterは1回の実行でのイテレーションの最大数。tolはSSEの収束の許容値を表す。initをk-means++とすれれば名前の通り、セントロイドの初期値を離してくれる  \n",
    "クラスタリングの性能はクラスタ内SSE（歪み）を用いる"
   ]
  },
  {
   "cell_type": "code",
   "execution_count": 20,
   "metadata": {},
   "outputs": [
    {
     "name": "stdout",
     "output_type": "stream",
     "text": [
      "[1 0 0 0 1 0 0 1 2 0]\n",
      "Distortion:72.476\n"
     ]
    },
    {
     "data": {
      "image/png": "[encoded data removed]",
      "text/plain": [
       "<Figure size 432x288 with 1 Axes>"
      ]
     },
     "metadata": {
      "needs_background": "light"
     },
     "output_type": "display_data"
    }
   ],
   "source": [
    "from sklearn.cluster import KMeans\n",
    "km=KMeans(n_clusters=3,init='random',n_init=10,max_iter=300,tol=1e-4,random_state=0)\n",
    "y_km=km.fit_predict(X)\n",
    "print(y_km[:10])\n",
    "print('Distortion:%.3f'%km.inertia_)\n",
    "plt.scatter(X[y_km==0,0],X[y_km==0,1],s=50,c='lightgreen',marker='s',label='cluster1')\n",
    "plt.scatter(X[y_km==1,0],X[y_km==1,1],s=50,c='orange',marker='v',label='cluster2')\n",
    "plt.scatter(X[y_km==2,0],X[y_km==2,1],s=50,c='lightblue',marker='o',label='cluster3')\n",
    "plt.scatter(km.cluster_centers_[:,0],km.cluster_centers_[:,1],s=250,c='red',marker='*',label='centroids')\n",
    "plt.legend()\n",
    "plt.grid()\n",
    "plt.show()"
   ]
  },
  {
   "cell_type": "markdown",
   "metadata": {},
   "source": [
    "## 凝集型階層的クラスタリング\n",
    "## @ from sklearn.cluster import AgglomerativeClustering\n",
    "### ac=AgglomerativeClustering(n_clusters=2,affinity='euclidean',linkage='complete')\n",
    "affinityが類似度の指標、今回はユークリッド距離、linkageが連結方法"
   ]
  },
  {
   "cell_type": "code",
   "execution_count": 27,
   "metadata": {},
   "outputs": [
    {
     "name": "stdout",
     "output_type": "stream",
     "text": [
      "[1 2 2 2 1 2 2 1 0 2]\n",
      "Distortion:27.766\n"
     ]
    },
    {
     "data": {
      "image/png": "[encoded data removed]",
      "text/plain": [
       "<Figure size 432x288 with 1 Axes>"
      ]
     },
     "metadata": {
      "needs_background": "light"
     },
     "output_type": "display_data"
    }
   ],
   "source": [
    "from sklearn.cluster import AgglomerativeClustering\n",
    "ac=AgglomerativeClustering(n_clusters=3,affinity='euclidean',linkage='complete')\n",
    "y_ac=ac.fit_predict(X)\n",
    "print(y_ac[:10])\n",
    "print('Distortion:%.3f'%km.inertia_)\n",
    "plt.scatter(X[y_ac==0,0],X[y_ac==0,1],s=50,c='lightgreen',marker='s',label='cluster1')\n",
    "plt.scatter(X[y_ac==1,0],X[y_ac==1,1],s=50,c='orange',marker='v',label='cluster2')\n",
    "plt.scatter(X[y_ac==2,0],X[y_ac==2,1],s=50,c='lightblue',marker='o',label='cluster3')\n",
    "plt.legend()\n",
    "plt.grid()\n",
    "plt.show()"
   ]
  },
  {
   "cell_type": "markdown",
   "metadata": {},
   "source": [
    "## DBSCAN\n",
    "k-meansや完全連結法がクラスタが球状である前提が必要な問題を解決したクラスタリング。\n",
    "## from sklearn.cluster import DBSCAN\n",
    "### db=DBSCAN(eps=0.2,min_samples=5,metric='euclidean')  y_db=db.fit_predict(X)\n",
    "epsで隣接点とみなす2点間の最大距離、min_sampleでボーダー点の最小個数　metricで距離の計算法"
   ]
  },
  {
   "cell_type": "code",
   "execution_count": 43,
   "metadata": {},
   "outputs": [
    {
     "data": {
      "image/png": "[encoded data removed]",
      "text/plain": [
       "<Figure size 720x216 with 3 Axes>"
      ]
     },
     "metadata": {
      "needs_background": "light"
     },
     "output_type": "display_data"
    }
   ],
   "source": [
    "from sklearn.datasets import make_moons\n",
    "X,y=make_moons(n_samples=200,noise=0.05,random_state=0)\n",
    "\n",
    "from sklearn.cluster import KMeans,AgglomerativeClustering,DBSCAN\n",
    "fig,ax=plt.subplots(1,3,figsize=(10,3))\n",
    "\n",
    "km=KMeans(n_clusters=2,random_state=0)\n",
    "ac=AgglomerativeClustering(n_clusters=2,affinity='euclidean',linkage='complete')\n",
    "db=DBSCAN(eps=0.2,min_samples=5,metric='euclidean')\n",
    "\n",
    "for i,clf,label in zip(range(3),[km,ac,db],['k-means','agglomerative','DBSCAN']):\n",
    "    y_pred=clf.fit_predict(X)\n",
    "    ax[i].scatter(X[y_pred==0,0],X[y_pred==  0,1],color='red',marker='s',label='cluster1')\n",
    "    ax[i].scatter(X[y_pred==1,0],X[y_pred==1,1],color='blue',marker='o',label='cluster2')\n",
    "    ax[i].set_title(label)\n",
    "    ax[i].legend()\n",
    "plt.show()"
   ]
  },
  {
   "cell_type": "markdown",
   "metadata": {},
   "source": [
    "# アンサンブル学習"
   ]
  },
  {
   "cell_type": "markdown",
   "metadata": {},
   "source": [
    "## スタッキング\n",
    "## @ from sklearn.ensemble import VotingClassifier\n",
    "### vclf=VotingClassifier(estimator=[('clf1',clf1),('clf2',clf2),('clf3',clf3)],voting='hard'\n",
    "アンサンブル学習器のインスタンスを作成し、通常の学習器と同じように扱える。estimatorに学習器の名前とインスタンスのリストを入れる。voting='hard'の場合は単純に多数決で最も多いラベルを正解にするという、シンプルなやり方。voting='soft'は各学習機の予測確率の和をとって、最大となるクラスを正解にするやり方。  \n",
    "VotingClasiffierをやれば単純に正解率が上がるかと言われると、微妙なので、グリッドサーチして一つの分類器の精度を高めて、後でダメ押しにやるのがよさそう"
   ]
  },
  {
   "cell_type": "code",
   "execution_count": 17,
   "metadata": {},
   "outputs": [
    {
     "name": "stdout",
     "output_type": "stream",
     "text": [
      "Accuracy:0.953 +/- 0.047 LogisticRegression\n",
      "Accuracy:0.887 +/- 0.071 SVM\n",
      "Accuracy:0.942 +/- 0.065 DecisionTreeClassifier\n",
      "Accuracy:0.965 +/- 0.057 KNeighborsClassifier\n",
      "Accuracy:0.954 +/- 0.060 VotingClassifier\n"
     ]
    }
   ],
   "source": [
    "from sklearn.linear_model import LogisticRegression\n",
    "from sklearn.svm import SVC\n",
    "from sklearn.tree import DecisionTreeClassifier\n",
    "from sklearn.neighbors import KNeighborsClassifier\n",
    "from sklearn.model_selection import cross_val_score\n",
    "from sklearn.preprocessing import StandardScaler\n",
    "\n",
    "sc=StandardScaler()\n",
    "X_train=sc.fit_transform(X_train)\n",
    "\n",
    "lr=LogisticRegression(penalty='l2',C=100,random_state=0)\n",
    "svm=SVC(kernel='rbf',C=100,gamma=10,random_state=0)\n",
    "tree=DecisionTreeClassifier(max_depth=10)\n",
    "knn=KNeighborsClassifier(n_neighbors=5,p=2,metric='minkowski')\n",
    "\n",
    "from sklearn.ensemble import VotingClassifier\n",
    "estimators=[('lr',lr),('svm',svm),('tree',tree),('knn',knn)]\n",
    "vclf=VotingClassifier(estimators=estimators,voting='hard')\n",
    "\n",
    "for clf,label in zip([lr,svm,tree,knn,vclf_hard,vclf],['LogisticRegression','SVM','DecisionTreeClassifier','KNeighborsClassifier',\n",
    "                                                            'VotingClassifier']):\n",
    "        scores=cross_val_score(estimator=clf,X=X_train,y=y_train,cv=10,scoring='accuracy')\n",
    "        print(\"Accuracy:%.3f +/- %.3f %s\" %(scores.mean(),scores.std(),label))\n",
    "\n"
   ]
  },
  {
   "cell_type": "markdown",
   "metadata": {},
   "source": [
    "## バギング\n",
    "元の訓練データからランダムにn個のデータを重複を許して抽出することを繰り返してデータセットをn_estimators個作る。これをブートストラップという。作成した各データそれぞれに対してモデルを作成。予測はこの多数のモデルを集約して予測。結果の集約は分類であれば多数決、回帰であれば平均値を取る。\n",
    "## @ from sklearn.ensemble import BaggingClassifier \n",
    "### bagBaggingClassifier(base_estimator=tree,n_estimators=500,max_samples=1.0,max_features=1.0,bootstrap=True,bootstrap_features=False,n_jobs=-1,random_state=0)\n",
    "max_samplesにintを与えると、サンプル数の絶対数を指定。floatを入れると、割合を指定。base_estimatorで分類器を一つ指定する。VotingClassifierとは異なり、一つの種類の分類器をたくさん作るやり方。なので、グリッドサーチでパラメータチューニングした分類器を作って、ダメ押しで使うのがよさそう。"
   ]
  },
  {
   "cell_type": "code",
   "execution_count": 13,
   "metadata": {},
   "outputs": [
    {
     "name": "stdout",
     "output_type": "stream",
     "text": [
      "accuracy train:1.000 +/- 0.000 (tree)\n",
      "accuracy test:0.936 +/- 0.000 (tree)\n",
      "accuracy train:1.000 +/- 0.000 (bagging)\n",
      "accuracy test:0.959 +/- 0.000 (bagging)\n"
     ]
    }
   ],
   "source": [
    "from sklearn.tree import DecisionTreeClassifier\n",
    "from sklearn.metrics import accuracy_score\n",
    "# 基底分類器を作成\n",
    "tree=DecisionTreeClassifier(criterion='entropy',max_depth=None,random_state=0)\n",
    "# バギングアンサンブルのインスタンスを作成。\n",
    "from sklearn.ensemble import BaggingClassifier\n",
    "bag=BaggingClassifier(base_estimator=tree,n_estimators=500,max_samples=1.0,max_features=1.0,random_state=0)\n",
    "\n",
    "for clf,label in zip([tree,bag],['tree','bagging']):\n",
    "    clf.fit(X_train,y_train)\n",
    "    y_train_pred=clf.predict(X_train)\n",
    "    y_test_pred=clf.predict(X_test)\n",
    "    print('accuracy train:%.3f +/- %.3f (%s)' %(accuracy_score(y_train,y_train_pred).mean(),accuracy_score(y_train,y_train_pred).std(),label))\n",
    "    print('accuracy test:%.3f +/- %.3f (%s)' %(accuracy_score(y_test,y_test_pred).mean(),accuracy_score(y_test,y_test_pred).std(),label))"
   ]
  },
  {
   "cell_type": "markdown",
   "metadata": {},
   "source": [
    "## ブースティング (AdaBoost)\n",
    "訓練データに対しモデルを作成し、学習。学習後、予測と正解を比較し、誤ったデータに重み付けをして、重み付けしたデータを用いて新たなモデルで学習。そして誤ったデータに、、、と繰り返し逐次的にモデルを作成していくことで、誤ったデータにモデルを対応させる。訓練データに過度に適応して過学習する危険性もあるので、気を付ける\n",
    "## @ from sklearn.ensemble import AdaBoostClassifier\n",
    "### ada=AdaBoostClassifer(base_estimator=tree,n_estimators=500,learning_rate=0.1,random_state=0)\n",
    "基本的な使い方はBaggingClassifierと同じ。1つの分類器に対してたくさんモデルを作るやり方"
   ]
  },
  {
   "cell_type": "code",
   "execution_count": 15,
   "metadata": {},
   "outputs": [
    {
     "name": "stdout",
     "output_type": "stream",
     "text": [
      "accuracy train:0.992 +/- 0.000 (tree)\n",
      "accuracy test:0.936 +/- 0.000 (tree)\n",
      "accuracy train:1.000 +/- 0.000 (adaboost)\n",
      "accuracy test:0.959 +/- 0.000 (adaboost)\n"
     ]
    }
   ],
   "source": [
    "from sklearn.tree import DecisionTreeClassifier\n",
    "from sklearn.metrics import accuracy_score\n",
    "from sklearn.ensemble import AdaBoostClassifier\n",
    "# 基底分類器を作成\n",
    "tree=DecisionTreeClassifier(criterion='entropy',max_depth=5,random_state=0)\n",
    "# Boostingインスタンスを作成\n",
    "ada=AdaBoostClassifier(base_estimator=tree,n_estimators=500,learning_rate=0.1,random_state=0)\n",
    "\n",
    "for clf,label in zip([tree,ada],['tree','adaboost']):\n",
    "    clf.fit(X_train,y_train)\n",
    "    y_train_pred=clf.predict(X_train)\n",
    "    y_test_pred=clf.predict(X_test)\n",
    "    print('accuracy train:%.3f +/- %.3f (%s)' %(accuracy_score(y_train,y_train_pred).mean(),accuracy_score(y_train,y_train_pred).std(),label))\n",
    "    print('accuracy test:%.3f +/- %.3f (%s)' %(accuracy_score(y_test,y_test_pred).mean(),accuracy_score(y_test,y_test_pred).std(),label))"
   ]
  },
  {
   "cell_type": "markdown",
   "metadata": {},
   "source": [
    "##  XGBoost\n",
    "kaggleやるならこれを知らないとにわか扱いされる。sklearnのライブラリではないが、sklearn同様のインターフェイスで扱えるAPIがある。  \n",
    "GradientBoostingRegressorと基本的なことは同じ。処理が高速に、精度もあげることができた手法。\n",
    "### import xgboost as xgb\n",
    "### dm_train=xgb.DMatrix(X_train,label=y_train)  model=xgb.train(param,dm_train)  xgb.plot_importance(model)\n",
    "### clf=xgb.XGBRegressor() clf.fit(X_train,y_trian)\n",
    "XGBoostに入れるデータはDMatrixに変換しないといけないので気を付ける。予測するデータはlabelはなくてもよい。parameteをまとめた辞書型リストをあらかじめ作成する必要がある。plot_importanceで、重要な特徴量を表示することができる  \n",
    "XGBRregression()でsklearnのインターフェイスでモデルを扱えるようになる。  \n",
    "xgboostは回帰モデルなので、predictした返り値はクラスに所属する確率を返す。2値分類ならnp.where(y_pred>0.5,1,0)でクラスに変換する必要がある。"
   ]
  },
  {
   "cell_type": "code",
   "execution_count": 26,
   "metadata": {},
   "outputs": [
    {
     "name": "stdout",
     "output_type": "stream",
     "text": [
      "train Accuracy: 1.000\n",
      "test Accuracy: 0.971\n"
     ]
    },
    {
     "data": {
      "image/png": "[encoded data removed]",
      "text/plain": [
       "<Figure size 432x288 with 1 Axes>"
      ]
     },
     "metadata": {
      "needs_background": "light"
     },
     "output_type": "display_data"
    }
   ],
   "source": [
    "# XGboostお基本の書き方\n",
    "\n",
    "import xgboost as xgb\n",
    "# データはBreast Cancer \n",
    "dm_train=xgb.DMatrix(X_train,label=y_train)\n",
    "dm_test=xgb.DMatrix(X_test,label=y_test)\n",
    "param={'max_depth':2,'eta':1,'objective':'binary:logistic'}\n",
    "model=xgb.train(param,dm_train)\n",
    "y_train_pred=model.predict(dm_train)\n",
    "y_test_pred=model.predict(dm_test)\n",
    "\n",
    "accuracy_train = sum(((y_train_pred > 0.5) & (y_train == 1)) | ((y_train_pred <= 0.5) & (y_train == 0))) / len(y_train_pred)\n",
    "accuracy_test = sum(((y_test_pred > 0.5) & (y_test == 1)) | ((y_test_pred <= 0.5) & (y_test == 0))) / len(y_test_pred)\n",
    "\n",
    "print('train Accuracy: %.3f' % accuracy_train)\n",
    "print('test Accuracy: %.3f' % accuracy_test)\n",
    "\n",
    "xgb.plot_importance(model)\n",
    "plt.show()"
   ]
  },
  {
   "cell_type": "code",
   "execution_count": 62,
   "metadata": {},
   "outputs": [
    {
     "name": "stdout",
     "output_type": "stream",
     "text": [
      "[13:37:00] WARNING: C:/Jenkins/workspace/xgboost-win64_release_0.90/src/objective/regression_obj.cu:152: reg:linear is now deprecated in favor of reg:squarederror.\n",
      "train MSE:-0.047\n",
      "row predict [ 0.9590241   0.05433872  0.0157401   0.0757221  -0.02125484]\n",
      "class predict [1 0 0 0 0]\n",
      "test accuracy: 0.959\n"
     ]
    },
    {
     "data": {
      "image/png": "[encoded data removed]",
      "text/plain": [
       "<Figure size 432x288 with 1 Axes>"
      ]
     },
     "metadata": {
      "needs_background": "light"
     },
     "output_type": "display_data"
    }
   ],
   "source": [
    "# sklearnのインターフェイスでかけるAPIを使用する場合\n",
    "import xgboost as xgb\n",
    "from sklearn.model_selection import GridSearchCV\n",
    "from sklearn.metrics import accuracy_score\n",
    "# sklearnのようにモデルを作成し、sklearnのモデルと同じような操作を行える。データの変換を行う必要もないので、このやり方でいい気がする。\n",
    "model = xgb.XGBRegressor()\n",
    "# 通常のグリッドサーチと同じようにパラメータを探索\n",
    "# xgboostの内部では回帰分析を行っているため、クラス分類の場合は、確率を返す。性能指標は回帰用のMSEを用いる\n",
    "params={'max_depth':[3,5,10],'learning_rate':[0.05,0.1],'max_depth':[3,5,10,100]}\n",
    "gs=GridSearchCV(estimator=model,param_grid=params,cv=5,scoring='neg_mean_squared_error',n_jobs=-1)\n",
    "gs.fit(X_train,y_train)\n",
    "print('train MSE:%.3f' % gs.best_score_)\n",
    "\n",
    "model=gs.best_estimator_\n",
    "y_pred=model.predict(X_test)\n",
    "print('row predict',y_pred[:5])\n",
    "y_pred_bi=np.where(y_pred>0.5,1,0)\n",
    "print('class predict',y_pred_bi[:5])\n",
    "print(\"test accuracy: %.3f\" % accuracy_score(y_test,y_pred_bi))\n",
    "\n",
    "# 重要な特徴量を取り出す。\n",
    "importances = pd.Series(model.feature_importances_)\n",
    "importances = importances.sort_values()\n",
    "importances.plot(kind = \"barh\")\n",
    "plt.title(\"imporance in the xgboost Model\")\n",
    "plt.show()"
   ]
  },
  {
   "cell_type": "code",
   "execution_count": 56,
   "metadata": {},
   "outputs": [
    {
     "data": {
      "text/plain": [
       "dict_keys(['explained_variance', 'r2', 'max_error', 'neg_median_absolute_error', 'neg_mean_absolute_error', 'neg_mean_squared_error', 'neg_mean_squared_log_error', 'accuracy', 'roc_auc', 'balanced_accuracy', 'average_precision', 'neg_log_loss', 'brier_score_loss', 'adjusted_rand_score', 'homogeneity_score', 'completeness_score', 'v_measure_score', 'mutual_info_score', 'adjusted_mutual_info_score', 'normalized_mutual_info_score', 'fowlkes_mallows_score', 'precision', 'precision_macro', 'precision_micro', 'precision_samples', 'precision_weighted', 'recall', 'recall_macro', 'recall_micro', 'recall_samples', 'recall_weighted', 'f1', 'f1_macro', 'f1_micro', 'f1_samples', 'f1_weighted', 'jaccard', 'jaccard_macro', 'jaccard_micro', 'jaccard_samples', 'jaccard_weighted'])"
      ]
     },
     "execution_count": 56,
     "metadata": {},
     "output_type": "execute_result"
    }
   ],
   "source": [
    "sklearn.metrics.SCORERS.keys()"
   ]
  },
  {
   "cell_type": "code",
   "execution_count": 46,
   "metadata": {},
   "outputs": [
    {
     "data": {
      "text/plain": [
       "0.9590643274853801"
      ]
     },
     "execution_count": 46,
     "metadata": {},
     "output_type": "execute_result"
    }
   ],
   "source": [
    "y_pred=model.predict(X_test)\n",
    "y_pred_binary=np.where(y_pred>0.5,1,0)\n",
    "accuracy_score(y_test,y_pred_binary)"
   ]
  },
  {
   "cell_type": "code",
   "execution_count": 7,
   "metadata": {},
   "outputs": [],
   "source": [
    "from matplotlib.colors import ListedColormap\n",
    "import matplotlib.pyplot as plt\n",
    "import numpy as np\n",
    "import warnings\n",
    "\n",
    "\n",
    "def versiontuple(v):\n",
    "    return tuple(map(int, (v.split(\".\"))))\n",
    "\n",
    "\n",
    "def plot_decision_regions(X, y, classifier, test_idx=None, resolution=0.02):\n",
    "\n",
    "    # setup marker generator and color map\n",
    "    markers = ('s', 'x', 'o', '^', 'v')\n",
    "    colors = ('red', 'blue', 'lightgreen', 'gray', 'cyan')\n",
    "    cmap = ListedColormap(colors[:len(np.unique(y))])\n",
    "\n",
    "    # plot the decision surface\n",
    "    x1_min, x1_max = X[:, 0].min() - 1, X[:, 0].max() + 1\n",
    "    x2_min, x2_max = X[:, 1].min() - 1, X[:, 1].max() + 1\n",
    "    xx1, xx2 = np.meshgrid(np.arange(x1_min, x1_max, resolution),\n",
    "                           np.arange(x2_min, x2_max, resolution))\n",
    "    Z = classifier.predict(np.array([xx1.ravel(), xx2.ravel()]).T)\n",
    "    Z = Z.reshape(xx1.shape)\n",
    "    plt.contourf(xx1, xx2, Z, alpha=0.4, cmap=cmap)\n",
    "    plt.xlim(xx1.min(), xx1.max())\n",
    "    plt.ylim(xx2.min(), xx2.max())\n",
    "\n",
    "    for idx, cl in enumerate(np.unique(y)):\n",
    "        plt.scatter(x=X[y == cl, 0], \n",
    "                    y=X[y == cl, 1],\n",
    "                    alpha=0.6, \n",
    "                    c=cmap(idx),\n",
    "                    edgecolor='black',\n",
    "                    marker=markers[idx], \n",
    "                    label=cl)\n",
    "\n",
    "    # highlight test samples\n",
    "    if test_idx:\n",
    "        # plot all samples\n",
    "        if not versiontuple(np.__version__) >= versiontuple('1.9.0'):\n",
    "            X_test, y_test = X[list(test_idx), :], y[list(test_idx)]\n",
    "            warnings.warn('Please update to NumPy 1.9.0 or newer')\n",
    "        else:\n",
    "            X_test, y_test = X[test_idx, :], y[test_idx]\n",
    "\n",
    "        plt.scatter(X_test[:, 0],\n",
    "                    X_test[:, 1],\n",
    "                    c='',\n",
    "                    alpha=1.0,\n",
    "                    edgecolor='black',\n",
    "                    linewidths=1,\n",
    "                    marker='o',\n",
    "                    s=55, label='test set')"
   ]
  },
  {
   "cell_type": "code",
   "execution_count": null,
   "metadata": {},
   "outputs": [],
   "source": []
  }
 ],
 "metadata": {
  "kernelspec": {
   "display_name": "Python 3",
   "language": "python",
   "name": "python3"
  },
  "language_info": {
   "codemirror_mode": {
    "name": "ipython",
    "version": 3
   },
   "file_extension": ".py",
   "mimetype": "text/x-python",
   "name": "python",
   "nbconvert_exporter": "python",
   "pygments_lexer": "ipython3",
   "version": "3.6.8"
  }
 },
 "nbformat": 4,
 "nbformat_minor": 2
}

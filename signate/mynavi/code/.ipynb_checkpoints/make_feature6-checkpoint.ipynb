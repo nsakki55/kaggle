{
 "cells": [
  {
   "cell_type": "code",
   "execution_count": 1,
   "metadata": {},
   "outputs": [
    {
     "name": "stderr",
     "output_type": "stream",
     "text": [
      "/Users/satsuki/anaconda3/envs/gpu-env/lib/python3.6/importlib/_bootstrap.py:219: RuntimeWarning: numpy.ufunc size changed, may indicate binary incompatibility. Expected 192 from C header, got 216 from PyObject\n",
      "  return f(*args, **kwds)\n",
      "/Users/satsuki/anaconda3/envs/gpu-env/lib/python3.6/importlib/_bootstrap.py:219: RuntimeWarning: numpy.ufunc size changed, may indicate binary incompatibility. Expected 192 from C header, got 216 from PyObject\n",
      "  return f(*args, **kwds)\n",
      "/Users/satsuki/anaconda3/envs/gpu-env/lib/python3.6/importlib/_bootstrap.py:219: RuntimeWarning: numpy.ufunc size changed, may indicate binary incompatibility. Expected 192 from C header, got 216 from PyObject\n",
      "  return f(*args, **kwds)\n",
      "/Users/satsuki/anaconda3/envs/gpu-env/lib/python3.6/importlib/_bootstrap.py:219: RuntimeWarning: numpy.ufunc size changed, may indicate binary incompatibility. Expected 192 from C header, got 216 from PyObject\n",
      "  return f(*args, **kwds)\n",
      "/Users/satsuki/anaconda3/envs/gpu-env/lib/python3.6/importlib/_bootstrap.py:219: RuntimeWarning: numpy.ufunc size changed, may indicate binary incompatibility. Expected 192 from C header, got 216 from PyObject\n",
      "  return f(*args, **kwds)\n"
     ]
    }
   ],
   "source": [
    "import numpy as np\n",
    "import pandas as pd\n",
    "import matplotlib.pyplot as plt\n",
    "%matplotlib inline\n",
    "pd.options.display.max_columns = 100\n",
    "\n",
    "import japanize_matplotlib\n",
    "import seaborn as sns\n",
    "import pandas_profiling as pdp\n",
    "from tqdm import tqdm\n",
    "import warnings\n",
    "warnings.filterwarnings('ignore')\n",
    "\n",
    "from IPython.display import display\n",
    "import collections\n",
    "import re\n",
    "import feather\n",
    "import codecs\n",
    "\n",
    "from sklearn.preprocessing import LabelEncoder\n",
    "from sklearn.model_selection import KFold"
   ]
  },
  {
   "cell_type": "code",
   "execution_count": 2,
   "metadata": {},
   "outputs": [],
   "source": [
    "train=pd.read_csv('../input/train.csv')\n",
    "test=pd.read_csv('../input/test.csv')\n",
    "df_all=pd.concat([train,test],axis=0,sort=False).reset_index(drop=True)\n",
    "df_all.columns=['id','rent','address','access','floor_info','old','direction','square','floor','bath','kitchen','broadcast','facility','parking','neighbors','structure','period']\n",
    "\n",
    "train_feat4=pd.read_feather('feature4/data/train_feat4_all.ftr')\n",
    "test_feat4=pd.read_feather('feature4/data/test_feat4_all.ftr').drop('index',axis=1)\n",
    "df_all_feat4=pd.concat([train_feat4,test_feat4],axis=0,sort=False).reset_index(drop=True)\n",
    "train_index=len(train_feat4)\n",
    "test_index=len(test_feat4)"
   ]
  },
  {
   "cell_type": "code",
   "execution_count": 6,
   "metadata": {},
   "outputs": [],
   "source": [
    "continuous_cols=['square_num','access_1_distance','access_2_distance','room_floor','building_floor','total_floor','parking_number_car',\n",
    "                        'parking_price_car', 'parking_number_bicycle', 'parking_price_bicycle',\n",
    "   'parking_number_bike', 'parking_price_bike', 'convenience_count',\n",
    "       'supermarket_count', 'neighbor_count', 'デパート', '幼稚園・保育園', '図書館',\n",
    "       'ドラッグストア', '郵便局', '大学', '公園', 'スーパー', '銀行', 'コインパーキング', 'レンタルビデオ',\n",
    "       '飲食店', '小学校', 'コンビニ', '病院', '総合病院', '月極駐車場', 'クリーニング', '学校',\n",
    "       'resistance_period', 'old_num', 'available_period','period_num', 'future_available']\n",
    "\n",
    "for i,col in enumerate(continuous_cols):\n",
    "    fig,ax=plt.subplots(3,13)\n",
    "    if i==0:\n",
    "        sns.scatterplot(x=col,y='rent',data=test_feat4,ax=ax[(i//3),i%3])\n",
    "    else:\n",
    "        sns.scatterplot(x=col,y='rent',data=test_feat4,ax=ax[(i//3),i%3])"
   ]
  },
  {
   "cell_type": "code",
   "execution_count": 7,
   "metadata": {},
   "outputs": [
    {
     "data": {
      "text/plain": [
       "39"
      ]
     },
     "execution_count": 7,
     "metadata": {},
     "output_type": "execute_result"
    }
   ],
   "source": [
    "len(continuous_cols)"
   ]
  },
  {
   "cell_type": "code",
   "execution_count": null,
   "metadata": {},
   "outputs": [],
   "source": []
  },
  {
   "cell_type": "code",
   "execution_count": null,
   "metadata": {},
   "outputs": [],
   "source": []
  },
  {
   "cell_type": "code",
   "execution_count": null,
   "metadata": {},
   "outputs": [],
   "source": []
  }
 ],
 "metadata": {
  "kernelspec": {
   "display_name": "Python 3",
   "language": "python",
   "name": "python3"
  },
  "language_info": {
   "codemirror_mode": {
    "name": "ipython",
    "version": 3
   },
   "file_extension": ".py",
   "mimetype": "text/x-python",
   "name": "python",
   "nbconvert_exporter": "python",
   "pygments_lexer": "ipython3",
   "version": "3.6.9"
  }
 },
 "nbformat": 4,
 "nbformat_minor": 2
}

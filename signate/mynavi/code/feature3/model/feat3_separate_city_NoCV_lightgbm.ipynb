{
 "cells": [
  {
   "cell_type": "code",
   "execution_count": 2,
   "metadata": {},
   "outputs": [],
   "source": [
    "import numpy as np\n",
    "import pandas as pd\n",
    "import matplotlib.pyplot as plt\n",
    "%matplotlib inline\n",
    "pd.options.display.max_columns = 100\n",
    "import japanize_matplotlib\n",
    "\n",
    "from time import time\n",
    "import seaborn as sns\n",
    "import pandas_profiling as pdp\n",
    "from tqdm import tqdm\n",
    "import warnings\n",
    "warnings.filterwarnings('ignore')\n",
    "\n",
    "from IPython.display import display\n",
    "import gc\n",
    "\n",
    "import lightgbm as lgb\n",
    "from sklearn.metrics import mean_squared_error\n",
    "from sklearn.model_selection import KFold"
   ]
  },
  {
   "cell_type": "code",
   "execution_count": 4,
   "metadata": {},
   "outputs": [],
   "source": [
    "train=pd.read_feather('../data/train_feat3.ftr')\n",
    "test=pd.read_feather('../data/test_feat3.ftr')\n",
    "\n",
    "drop_cols=['rent/S_mean', 'rent/S_max',\n",
    "       'rent/S_min', 'rent/S_median', 'rent/S_std', 'rent_mean', 'rent_max',\n",
    "       'rent_min', 'rent_median', 'rent_std']\n",
    "train.drop(drop_cols,axis=1,inplace=True)\n",
    "test.drop(drop_cols,axis=1,inplace=True)\n",
    "\n",
    "train.drop(['id'],axis=1,inplace=True)\n",
    "test.drop(['id','level_0','index'],axis=1,inplace=True)\n",
    "\n",
    "train['rent']=np.log(train['rent'])"
   ]
  },
  {
   "cell_type": "code",
   "execution_count": 5,
   "metadata": {},
   "outputs": [],
   "source": [
    "def build_x_y_data(df,address_type):\n",
    "    y_data=df[df['address_city']==address_type]['rent']\n",
    "    X_data=df[df['address_city']==address_type].drop(['rent'],axis=1)\n",
    "    return X_data,y_data"
   ]
  },
  {
   "cell_type": "code",
   "execution_count": 6,
   "metadata": {},
   "outputs": [],
   "source": [
    "params = {\n",
    "    'objective':'regression', \n",
    "    'max_bin' : 200,\n",
    "    'n_estimators' : 20000,\n",
    "    'learning_rate': 0.01,\n",
    "    'min_data_in_leaf' : 50,\n",
    "    'num_leaves' : 100,\n",
    "    'sparse_threshold' : 1.0,\n",
    "    'device' : 'cpu',\n",
    "    'save_binary': True,\n",
    "    'seed' : 42,\n",
    "    'feature_fraction_seed': 42,\n",
    "    'bagging_seed' : 42,\n",
    "    'drop_seed' : 42,\n",
    "    'data_random_seed' : 42,\n",
    "    'objective' : 'regression',\n",
    "    'boosting_type' : 'gbdt',\n",
    "    'verbose' : 0,\n",
    "    'metric' : 'RMSE',\n",
    "    'is_unbalance' : True,\n",
    "    'boost_from_average' : False,\n",
    "}"
   ]
  },
  {
   "cell_type": "code",
   "execution_count": 20,
   "metadata": {},
   "outputs": [],
   "source": [
    "def train_and_predict_for_address_type(address_type,submission): \n",
    "\n",
    "    X_train,Y_train = build_x_y_data(train,address_type)\n",
    "    X_test,_ = build_x_y_data(test,address_type)\n",
    "    \n",
    "    categorical_features=list(X_train.columns[X_train.dtypes=='category'])\n",
    "        \n",
    "    reg = lgb.LGBMRegressor(**params)\n",
    "    reg.fit(X_train, Y_train,\n",
    "            eval_metric=\"rmse\",\n",
    "            categorical_feature = categorical_features)\n",
    "\n",
    "    del X_train, Y_train\n",
    "    \n",
    "    y_pred=reg.predict(X_test)\n",
    "    del reg\n",
    "\n",
    "    gc.collect()\n",
    "\n",
    "    cv_fold_end_time = time()\n",
    "    tmp=test.copy()\n",
    "    submission.loc[tmp['address_city']==address_type,1]=np.exp(y_pred)\n",
    "    "
   ]
  },
  {
   "cell_type": "code",
   "execution_count": 21,
   "metadata": {},
   "outputs": [
    {
     "name": "stderr",
     "output_type": "stream",
     "text": [
      "\n",
      "  0%|          | 0/23 [00:00<?, ?it/s]\u001b[A\n",
      "  4%|▍         | 1/23 [00:57<21:09, 57.72s/it]\u001b[A\n",
      "  9%|▊         | 2/23 [01:31<17:42, 50.57s/it]\u001b[A\n",
      " 13%|█▎        | 3/23 [01:50<13:42, 41.11s/it]\u001b[A\n",
      " 17%|█▋        | 4/23 [02:03<10:20, 32.68s/it]\u001b[A\n",
      " 22%|██▏       | 5/23 [02:09<07:22, 24.57s/it]\u001b[A\n",
      " 26%|██▌       | 6/23 [02:21<05:55, 20.90s/it]\u001b[A\n",
      " 30%|███       | 7/23 [02:47<05:57, 22.34s/it]\u001b[A\n",
      " 35%|███▍      | 8/23 [03:13<05:54, 23.63s/it]\u001b[A\n",
      " 39%|███▉      | 9/23 [03:58<06:59, 29.99s/it]\u001b[A\n",
      " 43%|████▎     | 10/23 [04:23<06:09, 28.45s/it]\u001b[A\n",
      " 48%|████▊     | 11/23 [04:55<05:51, 29.32s/it]\u001b[A\n",
      " 52%|█████▏    | 12/23 [05:38<06:08, 33.51s/it]\u001b[A\n",
      " 57%|█████▋    | 13/23 [06:17<05:51, 35.19s/it]\u001b[A\n",
      " 61%|██████    | 14/23 [06:58<05:32, 36.93s/it]\u001b[A\n",
      " 65%|██████▌   | 15/23 [07:38<05:03, 37.93s/it]\u001b[A\n",
      " 70%|██████▉   | 16/23 [08:06<04:04, 34.90s/it]\u001b[A\n",
      " 74%|███████▍  | 17/23 [08:45<03:36, 36.05s/it]\u001b[A\n",
      " 78%|███████▊  | 18/23 [09:14<02:50, 34.06s/it]\u001b[A\n",
      " 83%|████████▎ | 19/23 [09:57<02:27, 36.82s/it]\u001b[A\n",
      " 87%|████████▋ | 20/23 [10:14<01:32, 30.77s/it]\u001b[A\n",
      " 91%|█████████▏| 21/23 [10:44<01:01, 30.56s/it]\u001b[A\n",
      " 96%|█████████▌| 22/23 [11:18<00:31, 31.53s/it]\u001b[A\n",
      "100%|██████████| 23/23 [12:14<00:00, 31.94s/it]\u001b[A\n"
     ]
    }
   ],
   "source": [
    "sub=pd.read_csv('../../../input/sample_submit.csv',header=None)\n",
    "submission = sub.copy()\n",
    "FOLD=5\n",
    "\n",
    "\n",
    "for address_type in tqdm(set(train['address_city'].unique())):\n",
    "    cv_score = train_and_predict_for_address_type(\n",
    "        address_type, submission)"
   ]
  },
  {
   "cell_type": "code",
   "execution_count": 23,
   "metadata": {},
   "outputs": [],
   "source": [
    "submission.to_csv('feat3_separate_address_type_logrent_lightgbm_NoCV.csv',index=False,header=False)"
   ]
  },
  {
   "cell_type": "code",
   "execution_count": null,
   "metadata": {},
   "outputs": [],
   "source": []
  },
  {
   "cell_type": "code",
   "execution_count": null,
   "metadata": {},
   "outputs": [],
   "source": []
  }
 ],
 "metadata": {
  "kernelspec": {
   "display_name": "Python 3",
   "language": "python",
   "name": "python3"
  },
  "language_info": {
   "codemirror_mode": {
    "name": "ipython",
    "version": 3
   },
   "file_extension": ".py",
   "mimetype": "text/x-python",
   "name": "python",
   "nbconvert_exporter": "python",
   "pygments_lexer": "ipython3",
   "version": "3.6.9"
  }
 },
 "nbformat": 4,
 "nbformat_minor": 2
}

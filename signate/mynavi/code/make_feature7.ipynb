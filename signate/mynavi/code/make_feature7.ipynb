{
 "cells": [
  {
   "cell_type": "code",
   "execution_count": 1,
   "metadata": {},
   "outputs": [
    {
     "name": "stderr",
     "output_type": "stream",
     "text": [
      "/Users/satsuki/anaconda3/envs/gpu-env/lib/python3.6/importlib/_bootstrap.py:219: RuntimeWarning: numpy.ufunc size changed, may indicate binary incompatibility. Expected 192 from C header, got 216 from PyObject\n",
      "  return f(*args, **kwds)\n",
      "/Users/satsuki/anaconda3/envs/gpu-env/lib/python3.6/importlib/_bootstrap.py:219: RuntimeWarning: numpy.ufunc size changed, may indicate binary incompatibility. Expected 192 from C header, got 216 from PyObject\n",
      "  return f(*args, **kwds)\n",
      "/Users/satsuki/anaconda3/envs/gpu-env/lib/python3.6/importlib/_bootstrap.py:219: RuntimeWarning: numpy.ufunc size changed, may indicate binary incompatibility. Expected 192 from C header, got 216 from PyObject\n",
      "  return f(*args, **kwds)\n",
      "/Users/satsuki/anaconda3/envs/gpu-env/lib/python3.6/importlib/_bootstrap.py:219: RuntimeWarning: numpy.ufunc size changed, may indicate binary incompatibility. Expected 192 from C header, got 216 from PyObject\n",
      "  return f(*args, **kwds)\n",
      "/Users/satsuki/anaconda3/envs/gpu-env/lib/python3.6/importlib/_bootstrap.py:219: RuntimeWarning: numpy.ufunc size changed, may indicate binary incompatibility. Expected 192 from C header, got 216 from PyObject\n",
      "  return f(*args, **kwds)\n"
     ]
    }
   ],
   "source": [
    "import numpy as np\n",
    "import pandas as pd\n",
    "import matplotlib.pyplot as plt\n",
    "%matplotlib inline\n",
    "pd.options.display.max_columns = 100\n",
    "\n",
    "import seaborn as sns\n",
    "import pandas_profiling as pdp\n",
    "from tqdm import tqdm\n",
    "import warnings\n",
    "warnings.filterwarnings('ignore')\n",
    "\n",
    "from IPython.display import display\n",
    "import collections\n",
    "import re\n",
    "import feather\n",
    "import codecs\n",
    "\n",
    "from sklearn.preprocessing import LabelEncoder\n",
    "from sklearn.model_selection import KFold"
   ]
  },
  {
   "cell_type": "code",
   "execution_count": 6,
   "metadata": {},
   "outputs": [],
   "source": [
    "train_feat6=pd.read_feather('feature6/data/train_feat6_all.ftr')\n",
    "test_feat6=pd.read_feather('feature6/data/test_feat6_all.ftr')\n",
    "df_all_feat6=pd.concat([train_feat6,test_feat6],axis=0,sort=False)\n",
    "\n",
    "train_index=len(train_feat6)\n",
    "test_index=len(test_feat6)"
   ]
  },
  {
   "cell_type": "code",
   "execution_count": 8,
   "metadata": {},
   "outputs": [
    {
     "data": {
      "text/plain": [
       "0        139.731307\n",
       "1        139.778811\n",
       "2        139.666064\n",
       "3        139.650554\n",
       "4        139.878559\n",
       "            ...    \n",
       "31257    139.720950\n",
       "31258    139.778852\n",
       "31259    139.664074\n",
       "31260    139.734553\n",
       "31261    139.709702\n",
       "Name: latitude, Length: 62723, dtype: float64"
      ]
     },
     "execution_count": 8,
     "metadata": {},
     "output_type": "execute_result"
    }
   ],
   "source": [
    "def add_bin_latitude(df,bins):\n",
    "    return pd.cut(df['latitude'],bins).astype(str)\n",
    "\n",
    "def add_bin_longitude(df,bins):\n",
    "    return pd.cut(df['longitude'],bins).astype(str)\n",
    "\n",
    "df_all_feat6['cat_latitude']=add_bin_latitude(df_all,50)\n",
    "df_all_feat6['cat_longitude']=add_bin_longitude(df_all,50)\n",
    "\n",
    "def add_lat_long_category(df):\n",
    "    le_lat=LabelEncoder()\n",
    "    df['cat_latitude'].fillna('nan',inplace=True)\n",
    "    le_lat.fit(list(df['cat_latitude'].astype(str).values))\n",
    "    lat_str=le_lat.transform(list(df['cat_latitude'].astype(str).values))\n",
    "\n",
    "    le_long=LabelEncoder()\n",
    "    df['cat_longitude'].fillna('nan',inplace=True)\n",
    "    le_long.fit(list(df['cat_longitude'].astype(str).values))\n",
    "    long_str=le_long.transform(list(df['cat_longitude'].astype(str).values))\n",
    "    \n",
    "    lat_long_category=[]\n",
    "    for lat,long in zip(lat_str,long_str):\n",
    "        lat_long_category.append(str(lat)+'_'+str(long))\n",
    "        \n",
    "    return lat_long_category\n",
    "\n",
    "def mesh_encoder(df):\n",
    "    mesh_le=LabelEncoder()\n",
    "    mesh_le.fit(df_all['mesh_cateogry'])\n",
    "    mesh_encode=mesh_le.transform(df_all['mesh_cateogry'])\n",
    "    return mesh_encode\n",
    "\n",
    "df_all_feat6['mesh_cateogry']=add_lat_long_category(df_all)\n",
    "df_all_feat6['mesh_category_enc']=mesh_encoder(df_all)\n",
    "df_all_feat6['mesh_category_enc']=df_all['mesh_category_enc'].astype('category')"
   ]
  },
  {
   "cell_type": "code",
   "execution_count": null,
   "metadata": {},
   "outputs": [],
   "source": []
  }
 ],
 "metadata": {
  "kernelspec": {
   "display_name": "Python 3",
   "language": "python",
   "name": "python3"
  },
  "language_info": {
   "codemirror_mode": {
    "name": "ipython",
    "version": 3
   },
   "file_extension": ".py",
   "mimetype": "text/x-python",
   "name": "python",
   "nbconvert_exporter": "python",
   "pygments_lexer": "ipython3",
   "version": "3.6.9"
  }
 },
 "nbformat": 4,
 "nbformat_minor": 2
}

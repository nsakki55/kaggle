{
 "cells": [
  {
   "cell_type": "code",
   "execution_count": 33,
   "metadata": {},
   "outputs": [],
   "source": [
    "import numpy as np\n",
    "import pandas as pd\n",
    "import matplotlib.pyplot as plt\n",
    "%matplotlib inline\n",
    "pd.options.display.max_columns = 100\n",
    "\n",
    "import seaborn as sns\n",
    "import pandas_profiling as pdp\n",
    "from tqdm import tqdm\n",
    "import warnings\n",
    "warnings.filterwarnings('ignore')\n",
    "\n",
    "from IPython.display import display\n",
    "import collections\n",
    "import re\n",
    "import feather\n",
    "import codecs\n",
    "\n",
    "from sklearn.preprocessing import LabelEncoder"
   ]
  },
  {
   "cell_type": "code",
   "execution_count": 34,
   "metadata": {},
   "outputs": [],
   "source": [
    "train=pd.read_csv('../input/train.csv')\n",
    "test=pd.read_csv('../input/test.csv')\n",
    "df_all=pd.concat([train,test],axis=0,sort=False).reset_index(drop=True)\n",
    "df_all.columns=['id','rent','address','access','floor_info','old','direction','square','floor','bath','kitchen','broadcast','facility','parking','neighbors','structure','period']\n",
    "\n",
    "\n",
    "train_feat1=pd.read_feather('feature1/data/train_feat1.ftr')\n",
    "test_feat1=pd.read_feather('feature1/data/test_feat1.ftr')"
   ]
  },
  {
   "cell_type": "markdown",
   "metadata": {},
   "source": [
    "## 外れ値、ミスタイポを除去"
   ]
  },
  {
   "cell_type": "code",
   "execution_count": 35,
   "metadata": {},
   "outputs": [],
   "source": [
    "# 外れ値、異常データを削除\n",
    "\n",
    "def drop_train_outlier(df_train):\n",
    "    train_feat1=pd.read_feather('feature1/data/train_feat1.ftr')\n",
    "    train=df_train[df_train['id']!=20428][df_train['id']!=20232][df_train['id']!=20927]\n",
    "    train_feat1=train_feat1[train_feat1['id']!=20428][train_feat1['id']!=20232][train_feat1['id']!=20927]\n",
    "\n",
    "# 面積に対する外れ値を取得\n",
    "    index1=train_feat1.query(\"rent>1000000 & square_num<100\").index\n",
    "    index2=train_feat1.query(\"rent>1500000\").index\n",
    "    index3=train_feat1.query(\"square_num>400\").index\n",
    "    index4=train_feat1.query('rent>100000 & square_num<10').index\n",
    "    \n",
    "# 築年数に対する外れ値を取得\n",
    "    index5=train_feat1.query(\"old_num>1000\").index\n",
    "    \n",
    "    drop_index=np.concatenate([index1,index2,index3,index4,index5])\n",
    "    \n",
    "    train_drop=train.drop(drop_index).reset_index(drop=True)\n",
    "    train_feat1_drop=train_feat1.drop(drop_index).reset_index(drop=True)\n",
    "    \n",
    "    return train_drop\n",
    "\n",
    "# テストデータ中の外れ値を補正\n",
    "def modify_test_outlier(df_test):\n",
    "    test_feat1=pd.read_feather('feature1/data/test_feat1.ftr')\n",
    "\n",
    "    df_test.loc[test_feat1.query('old_num>1000').index,'築年数']='11年4ヶ月'\n",
    "    return df_test\n",
    "    \n",
    "train_drop=drop_train_outlier(train)\n",
    "test_mod=modify_test_outlier(test)\n",
    "\n",
    "train_index=len(train_drop)\n",
    "test_index=len(test_mod)\n",
    "\n",
    "df_all=pd.concat([train_drop,test_mod],axis=0,sort=False).reset_index(drop=True)\n",
    "df_all.columns=['id','rent','address','access','floor_info','old','direction','square','floor','bath','kitchen','broadcast','facility','parking','neighbors','structure','period']\n",
    "\n",
    "train_feat1_drop=pd.merge(train_drop.loc[:,['id']],train_feat1,on='id',how='left')\n",
    "test_feat1_mod=modify_test_outlier(test_feat1)\n",
    "\n",
    "df_all_feat1=pd.concat([train_feat1_drop,test_feat1_mod],axis=0,sort=False).reset_index(drop=True)"
   ]
  },
  {
   "cell_type": "markdown",
   "metadata": {},
   "source": [
    "## 経度・緯度を加える"
   ]
  },
  {
   "cell_type": "code",
   "execution_count": 36,
   "metadata": {},
   "outputs": [
    {
     "data": {
      "text/html": [
       "<div>\n",
       "<style scoped>\n",
       "    .dataframe tbody tr th:only-of-type {\n",
       "        vertical-align: middle;\n",
       "    }\n",
       "\n",
       "    .dataframe tbody tr th {\n",
       "        vertical-align: top;\n",
       "    }\n",
       "\n",
       "    .dataframe thead th {\n",
       "        text-align: right;\n",
       "    }\n",
       "</style>\n",
       "<table border=\"1\" class=\"dataframe\">\n",
       "  <thead>\n",
       "    <tr style=\"text-align: right;\">\n",
       "      <th></th>\n",
       "      <th>都道府県名</th>\n",
       "      <th>市区町村名</th>\n",
       "      <th>大字・丁目名</th>\n",
       "      <th>小字・通称名</th>\n",
       "      <th>街区符号・地番</th>\n",
       "      <th>座標系番号</th>\n",
       "      <th>Ｘ座標</th>\n",
       "      <th>Ｙ座標</th>\n",
       "      <th>緯度</th>\n",
       "      <th>経度</th>\n",
       "      <th>住居表示フラグ</th>\n",
       "      <th>代表フラグ</th>\n",
       "      <th>更新前履歴フラグ</th>\n",
       "      <th>更新後履歴フラグ</th>\n",
       "    </tr>\n",
       "  </thead>\n",
       "  <tbody>\n",
       "    <tr>\n",
       "      <td>0</td>\n",
       "      <td>東京都</td>\n",
       "      <td>千代田区</td>\n",
       "      <td>麹町六丁目</td>\n",
       "      <td>NaN</td>\n",
       "      <td>1</td>\n",
       "      <td>9</td>\n",
       "      <td>-34981.8</td>\n",
       "      <td>-9228.7</td>\n",
       "      <td>35.684649</td>\n",
       "      <td>139.731373</td>\n",
       "      <td>0</td>\n",
       "      <td>1</td>\n",
       "      <td>0</td>\n",
       "      <td>0</td>\n",
       "    </tr>\n",
       "    <tr>\n",
       "      <td>1</td>\n",
       "      <td>東京都</td>\n",
       "      <td>千代田区</td>\n",
       "      <td>麹町六丁目</td>\n",
       "      <td>NaN</td>\n",
       "      <td>5</td>\n",
       "      <td>9</td>\n",
       "      <td>-34981.8</td>\n",
       "      <td>-9228.7</td>\n",
       "      <td>35.684649</td>\n",
       "      <td>139.731373</td>\n",
       "      <td>0</td>\n",
       "      <td>1</td>\n",
       "      <td>0</td>\n",
       "      <td>0</td>\n",
       "    </tr>\n",
       "    <tr>\n",
       "      <td>2</td>\n",
       "      <td>東京都</td>\n",
       "      <td>千代田区</td>\n",
       "      <td>六番町</td>\n",
       "      <td>NaN</td>\n",
       "      <td>6</td>\n",
       "      <td>9</td>\n",
       "      <td>-34653.0</td>\n",
       "      <td>-9100.3</td>\n",
       "      <td>35.687614</td>\n",
       "      <td>139.732787</td>\n",
       "      <td>0</td>\n",
       "      <td>1</td>\n",
       "      <td>0</td>\n",
       "      <td>0</td>\n",
       "    </tr>\n",
       "  </tbody>\n",
       "</table>\n",
       "</div>"
      ],
      "text/plain": [
       "  都道府県名 市区町村名 大字・丁目名 小字・通称名  街区符号・地番  座標系番号      Ｘ座標     Ｙ座標         緯度  \\\n",
       "0   東京都  千代田区  麹町六丁目    NaN        1      9 -34981.8 -9228.7  35.684649   \n",
       "1   東京都  千代田区  麹町六丁目    NaN        5      9 -34981.8 -9228.7  35.684649   \n",
       "2   東京都  千代田区    六番町    NaN        6      9 -34653.0 -9100.3  35.687614   \n",
       "\n",
       "           経度  住居表示フラグ  代表フラグ  更新前履歴フラグ  更新後履歴フラグ  \n",
       "0  139.731373        0      1         0         0  \n",
       "1  139.731373        0      1         0         0  \n",
       "2  139.732787        0      1         0         0  "
      ]
     },
     "metadata": {},
     "output_type": "display_data"
    },
    {
     "data": {
      "text/html": [
       "<div>\n",
       "<style scoped>\n",
       "    .dataframe tbody tr th:only-of-type {\n",
       "        vertical-align: middle;\n",
       "    }\n",
       "\n",
       "    .dataframe tbody tr th {\n",
       "        vertical-align: top;\n",
       "    }\n",
       "\n",
       "    .dataframe thead th {\n",
       "        text-align: right;\n",
       "    }\n",
       "</style>\n",
       "<table border=\"1\" class=\"dataframe\">\n",
       "  <thead>\n",
       "    <tr style=\"text-align: right;\">\n",
       "      <th></th>\n",
       "      <th>都道府県コード</th>\n",
       "      <th>都道府県名</th>\n",
       "      <th>市区町村コード</th>\n",
       "      <th>市区町村名</th>\n",
       "      <th>大字町丁目コード</th>\n",
       "      <th>大字町丁目名</th>\n",
       "      <th>緯度</th>\n",
       "      <th>経度</th>\n",
       "      <th>原典資料コード</th>\n",
       "      <th>大字・字・丁目区分コード</th>\n",
       "    </tr>\n",
       "  </thead>\n",
       "  <tbody>\n",
       "    <tr>\n",
       "      <td>0</td>\n",
       "      <td>13</td>\n",
       "      <td>東京都</td>\n",
       "      <td>13101</td>\n",
       "      <td>千代田区</td>\n",
       "      <td>131010001002</td>\n",
       "      <td>内幸町二丁目</td>\n",
       "      <td>35.670812</td>\n",
       "      <td>139.754182</td>\n",
       "      <td>0</td>\n",
       "      <td>3</td>\n",
       "    </tr>\n",
       "    <tr>\n",
       "      <td>1</td>\n",
       "      <td>13</td>\n",
       "      <td>東京都</td>\n",
       "      <td>13101</td>\n",
       "      <td>千代田区</td>\n",
       "      <td>131010001001</td>\n",
       "      <td>内幸町一丁目</td>\n",
       "      <td>35.670839</td>\n",
       "      <td>139.758119</td>\n",
       "      <td>0</td>\n",
       "      <td>3</td>\n",
       "    </tr>\n",
       "    <tr>\n",
       "      <td>2</td>\n",
       "      <td>13</td>\n",
       "      <td>東京都</td>\n",
       "      <td>13101</td>\n",
       "      <td>千代田区</td>\n",
       "      <td>131010002003</td>\n",
       "      <td>霞が関三丁目</td>\n",
       "      <td>35.671825</td>\n",
       "      <td>139.746988</td>\n",
       "      <td>0</td>\n",
       "      <td>3</td>\n",
       "    </tr>\n",
       "  </tbody>\n",
       "</table>\n",
       "</div>"
      ],
      "text/plain": [
       "   都道府県コード 都道府県名  市区町村コード 市区町村名      大字町丁目コード  大字町丁目名         緯度          経度  \\\n",
       "0       13   東京都    13101  千代田区  131010001002  内幸町二丁目  35.670812  139.754182   \n",
       "1       13   東京都    13101  千代田区  131010001001  内幸町一丁目  35.670839  139.758119   \n",
       "2       13   東京都    13101  千代田区  131010002003  霞が関三丁目  35.671825  139.746988   \n",
       "\n",
       "   原典資料コード  大字・字・丁目区分コード  \n",
       "0        0             3  \n",
       "1        0             3  \n",
       "2        0             3  "
      ]
     },
     "metadata": {},
     "output_type": "display_data"
    }
   ],
   "source": [
    "with codecs.open(\"../input/13000-17.0a/13_2018.csv\", \"r\", \"Shift-JIS\", \"ignore\") as file:\n",
    "    df_cordA = pd.read_table(file, delimiter=\",\")\n",
    "    display(df_cordA[:3])    \n",
    "with codecs.open(\"../input/13000-12.0b/13_2018.csv\", \"r\", \"Shift-JIS\", \"ignore\") as file:\n",
    "    df_cordB = pd.read_table(file, delimiter=\",\")\n",
    "    display(df_cordB[:3])\n",
    "    \n",
    "cordinate=df_cordA[['市区町村名','大字・丁目名','緯度','経度']]\n",
    "cordinate.columns=['address_city','address_town','longitude','latitude']\n",
    "cordinate.drop_duplicates(subset=['address_city','address_town'],keep='last',inplace=True)"
   ]
  },
  {
   "cell_type": "code",
   "execution_count": 37,
   "metadata": {},
   "outputs": [],
   "source": [
    "# 住所から区を取得\n",
    "city_tmp=df_all['address'].apply(lambda x:x.split('都')[1])\n",
    "df_all['address_city']=city_tmp.apply(lambda x:x.split('区')[0]+'区')\n",
    "\n",
    "# 住所から町名を取得\n",
    "town_tmp=city_tmp.apply(lambda x:x.split('区')[1])\n",
    "\n",
    "def town_enc(x):\n",
    "    # 番地を削除\n",
    "    x=re.split(r'\\d+-|ー|－+\\d+',x)[0]   \n",
    "    # 何丁目か分かるものと、わからないもので分類\n",
    "    split_list=x.split('丁目')\n",
    "    if len(split_list)==2:\n",
    "        return split_list[0]+'丁目'\n",
    "    else:\n",
    "    # 余分な数字を削除\n",
    "        town=re.split(r'\\d+',split_list[0])[0]\n",
    "        return town\n",
    "    \n",
    "def int2kanji(x):\n",
    "    kanji_nums={'1':'一', '2':'二', '3':'三', '4':'四', '5':'五', '6':'六', '１':'一', '２':'二', '３':'三', '４':'四', '５':'五', '６':'六', '７':'七', '８':'八', '９':'九'}\n",
    "    num=re.findall(r'\\d+',x)\n",
    "    if len(num)==0:\n",
    "        return x\n",
    "    else:\n",
    "        return x.replace(num[0],kanji_nums[num[0]])\n",
    "    \n",
    "def address_enc(df):\n",
    "    le_city=LabelEncoder()\n",
    "    df['address_city_enc']=le_city.fit_transform(df['address_city'])\n",
    "    \n",
    "    le_town=LabelEncoder()\n",
    "    df['address_town_enc']=le_town.fit_transform(df['address_town'])\n",
    "    \n",
    "    return df\n",
    "df_all['address_town']=town_tmp.apply(lambda x:town_enc(x))\n",
    "df_all['address_town']=df_all['address_town'].apply(lambda x:int2kanji(x))\n",
    "\n",
    "df_all=address_enc(df_all)"
   ]
  },
  {
   "cell_type": "code",
   "execution_count": 38,
   "metadata": {},
   "outputs": [],
   "source": [
    "df_all=pd.merge(df_all,cordinate,on=['address_city','address_town'],how='left')\n",
    "\n",
    "# 欠損を平均値で補完\n",
    "df_all['longitude']=df_all['longitude'].fillna(np.mean(df_all['longitude']))\n",
    "df_all['latitude']=df_all['latitude'].fillna(np.mean(df_all['latitude']))"
   ]
  },
  {
   "cell_type": "markdown",
   "metadata": {},
   "source": [
    "## アクセスから、４駅の最寄りと距離を特徴量にいれる.\n",
    "## 特徴量４で正確な値を求めたので、いらない"
   ]
  },
  {
   "cell_type": "code",
   "execution_count": 599,
   "metadata": {},
   "outputs": [],
   "source": [
    "#  アクセス情報の初めの要素から路線と駅名をとる\n",
    "df_all['train_line']=df_all['access'].apply(lambda x:x.split('\\t')[0])\n",
    "df_all['train_station']=df_all['access'].apply(lambda x:x.split('\\t')[1])\n",
    "\n",
    "# バス移動のものはバス特徴量にまとめる\n",
    "df_all['station_access']=df_all['access'].apply(lambda x:x.split('\\t')[2])\n",
    "df_all['station_access']=df_all['station_access'].apply(lambda x:'車移動' if 'バス' in x or '車' in x else x)\n",
    "\n",
    "#  数値型に変更\n",
    "def enc_num(x):\n",
    "    if x=='車移動':\n",
    "        return 999\n",
    "    else:\n",
    "        return int(re.findall(f'\\d+',x)[0])\n",
    "    \n",
    "df_all['station_access']=df_all['station_access'].apply(lambda x:enc_num(x))\n"
   ]
  },
  {
   "cell_type": "code",
   "execution_count": 600,
   "metadata": {},
   "outputs": [],
   "source": [
    "# 最寄りの駅情報を４つに分ける\n",
    "def split_access(x):\n",
    "    access_list=x.split('\\t\\t')\n",
    "    num_list=len(access_list)\n",
    "\n",
    "    if num_list==1:\n",
    "        return access_list[0],0,0,0\n",
    "    elif num_list==2:\n",
    "        return access_list[0],access_list[1],0,0\n",
    "    elif num_list==3:\n",
    "        return access_list[0],access_list[1],access_list[2],0\n",
    "    else:\n",
    "        return access_list[0],access_list[1],access_list[2],access_list[3]\n",
    "\n",
    "# 各最寄り駅情報を路線、駅、移動方法に分ける\n",
    "def access_enc(x,func):\n",
    "    if x==0:\n",
    "        return 'nan'\n",
    "    else:\n",
    "        split_list=x.split('\\t')\n",
    "    #  路線名を取得\n",
    "        if func=='line':\n",
    "            if '線' in split_list[0]:\n",
    "                return split_list[0]\n",
    "            else:\n",
    "                return 'nan'\n",
    "\n",
    "        # 駅名を取得\n",
    "        elif func=='station':\n",
    "            if len(split_list)>=2 and '駅' in split_list[1]: \n",
    "                return split_list[1]\n",
    "            else:\n",
    "                return 'nan'\n",
    "\n",
    "        # 距離を取得\n",
    "        else:\n",
    "            if len(split_list)==3:\n",
    "                if 'バス' in x or '車' in split_list[2]:\n",
    "                    return '車移動'\n",
    "                else:\n",
    "                    return split_list[2]\n",
    "            else:\n",
    "                return 'nan'\n",
    "        \n",
    "#  距離を数値型に変更\n",
    "def enc_num(x):\n",
    "\n",
    "    if x=='車移動':\n",
    "        return 999\n",
    "    \n",
    "    elif x=='nan':\n",
    "        return -999\n",
    "    \n",
    "    else:\n",
    "        return int(re.findall(f'\\d+',x)[0])\n",
    "\n",
    "tmp=df_all['access'].apply(lambda x:split_access(x))\n",
    "\n",
    "for i in range(4):\n",
    "    df_all['access_'+str(i+1)]=tmp.apply(lambda x:x[i])\n",
    "    df_all['access_'+str(i+1)+'_line']=df_all['access_'+str(i+1)].apply(lambda x:access_enc(x,'line'))\n",
    "    df_all['access_'+str(i+1)+'_station']=df_all['access_'+str(i+1)].apply(lambda x:access_enc(x,'station'))\n",
    "    df_all['access_'+str(i+1)+'_distance']=df_all['access_'+str(i+1)].apply(lambda x:access_enc(x,'distance'))\n",
    "    df_all['access_'+str(i+1)+'_distance']=df_all['access_'+str(i+1)+'_distance'].apply(lambda x:enc_num(x))\n",
    "\n",
    "# 数値型にエンコード\n",
    "for col in ['line','station']:\n",
    "    le=LabelEncoder()\n",
    "    encoder=list(set(df_all['access_1_'+col].unique()) | set(df_all['access_2_'+col].unique()) | \\\n",
    "    set(df_all['access_3_'+col].unique()) | set(df_all['access_4_'+col].unique()))\n",
    "    \n",
    "    le.fit(encoder)\n",
    "    for i in range(4):\n",
    "        df_all['access_'+str(i+1)+'_'+col]=le.transform(df_all['access_'+str(i+1)+'_'+col])\n",
    "        df_all['access_'+str(i+1)+'_'+col]=df_all['access_'+str(i+1)+'_'+col].astype('category')"
   ]
  },
  {
   "cell_type": "markdown",
   "metadata": {},
   "source": [
    "## 面積から統計特徴量を加える\n",
    "1 単位面積あたりの価格の区ごとの平均、最大値、最小値、中央値、標準偏差を加える"
   ]
  },
  {
   "cell_type": "code",
   "execution_count": 606,
   "metadata": {},
   "outputs": [],
   "source": [
    "# 訓練データだけを取り出す\n",
    "tmp=pd.concat([df_all,df_all_feat1['square_num']],axis=1)[:train_index]\n",
    "tmp['rent_per_square']=tmp['rent']/tmp['square_num']\n",
    "\n",
    "# 単位面積あたりの区ごとの統計量を求める\n",
    "rent_per_square_static=pd.DataFrame(tmp.groupby('address_city')['rent_per_square'].agg(['mean','max','min','median','std'])).reset_index()\n",
    "rent_per_square_static.columns=['address_city','rent/S_mean','rent/S_max','rent/S_min','rent/S_median','rent/S_std']\n",
    "\n",
    "#  全体に加える\n",
    "df_all=pd.merge(df_all,rent_per_square_static,on='address_city',how='left')"
   ]
  },
  {
   "cell_type": "markdown",
   "metadata": {},
   "source": [
    "2 住宅価格の区ごとの統計特徴量を加える"
   ]
  },
  {
   "cell_type": "code",
   "execution_count": 610,
   "metadata": {},
   "outputs": [],
   "source": [
    "tmp=pd.concat([df_all,df_all_feat1['square_num']],axis=1)[:train_index]\n",
    "rent_static=pd.DataFrame(tmp.groupby('address_city')['rent'].agg(['mean','max','min','median','std'])).reset_index()\n",
    "rent_static.columns=['address_city','rent_mean','rent_max','rent_min','rent_median','rent_std']\n",
    "#  全体に加える\n",
    "df_all=pd.merge(df_all,rent_static,on='address_city',how='left')"
   ]
  },
  {
   "cell_type": "markdown",
   "metadata": {},
   "source": [
    "## ======保存======="
   ]
  },
  {
   "cell_type": "markdown",
   "metadata": {},
   "source": [
    "## 特徴量２にユニークな特徴を保存"
   ]
  },
  {
   "cell_type": "code",
   "execution_count": 43,
   "metadata": {},
   "outputs": [],
   "source": [
    "feat2_cols=['id','longitude','latitude','address_city_enc','address_town_enc']\n",
    "\n",
    "train_feat2=df_all[feat2_cols][:train_index]\n",
    "test_feat2=df_all[feat2_cols][train_index:]\n",
    "\n",
    "\n",
    "train_feat2.to_feather('feature2/data/train_feat2_unique.ftr')\n",
    "test_feat2.reset_index(inplace=True)\n",
    "test_feat2.to_feather('feature2/data/test_feat2_unique.ftr')"
   ]
  },
  {
   "cell_type": "code",
   "execution_count": null,
   "metadata": {},
   "outputs": [],
   "source": []
  },
  {
   "cell_type": "code",
   "execution_count": 2,
   "metadata": {},
   "outputs": [
    {
     "ename": "NameError",
     "evalue": "name 'df_all_feat1' is not defined",
     "output_type": "error",
     "traceback": [
      "\u001b[0;31m---------------------------------------------------------------------------\u001b[0m",
      "\u001b[0;31mNameError\u001b[0m                                 Traceback (most recent call last)",
      "\u001b[0;32m<ipython-input-2-02d4704178c1>\u001b[0m in \u001b[0;36m<module>\u001b[0;34m\u001b[0m\n\u001b[0;32m----> 1\u001b[0;31m \u001b[0mfeature1\u001b[0m\u001b[0;34m=\u001b[0m\u001b[0mdf_all_feat1\u001b[0m\u001b[0;34m.\u001b[0m\u001b[0mdrop\u001b[0m\u001b[0;34m(\u001b[0m\u001b[0;34m[\u001b[0m\u001b[0;34m'train_line'\u001b[0m\u001b[0;34m,\u001b[0m\u001b[0;34m'train_station'\u001b[0m\u001b[0;34m,\u001b[0m\u001b[0;34m'station_access'\u001b[0m\u001b[0;34m]\u001b[0m\u001b[0;34m,\u001b[0m\u001b[0maxis\u001b[0m\u001b[0;34m=\u001b[0m\u001b[0;36m1\u001b[0m\u001b[0;34m)\u001b[0m\u001b[0;34m\u001b[0m\u001b[0;34m\u001b[0m\u001b[0m\n\u001b[0m\u001b[1;32m      2\u001b[0m \u001b[0mnew_feature\u001b[0m\u001b[0;34m=\u001b[0m\u001b[0mdf_all\u001b[0m\u001b[0;34m.\u001b[0m\u001b[0mselect_dtypes\u001b[0m\u001b[0;34m(\u001b[0m\u001b[0mexclude\u001b[0m\u001b[0;34m=\u001b[0m\u001b[0;34m'object'\u001b[0m\u001b[0;34m)\u001b[0m\u001b[0;34m.\u001b[0m\u001b[0mdrop\u001b[0m\u001b[0;34m(\u001b[0m\u001b[0;34m[\u001b[0m\u001b[0;34m'id'\u001b[0m\u001b[0;34m,\u001b[0m\u001b[0;34m'rent'\u001b[0m\u001b[0;34m]\u001b[0m\u001b[0;34m,\u001b[0m\u001b[0maxis\u001b[0m\u001b[0;34m=\u001b[0m\u001b[0;36m1\u001b[0m\u001b[0;34m)\u001b[0m\u001b[0;34m\u001b[0m\u001b[0;34m\u001b[0m\u001b[0m\n\u001b[1;32m      3\u001b[0m \u001b[0mdf_all_feat2\u001b[0m\u001b[0;34m=\u001b[0m\u001b[0mpd\u001b[0m\u001b[0;34m.\u001b[0m\u001b[0mconcat\u001b[0m\u001b[0;34m(\u001b[0m\u001b[0;34m[\u001b[0m\u001b[0mfeature1\u001b[0m\u001b[0;34m,\u001b[0m\u001b[0mnew_feature\u001b[0m\u001b[0;34m]\u001b[0m\u001b[0;34m,\u001b[0m\u001b[0maxis\u001b[0m\u001b[0;34m=\u001b[0m\u001b[0;36m1\u001b[0m\u001b[0;34m)\u001b[0m\u001b[0;34m\u001b[0m\u001b[0;34m\u001b[0m\u001b[0m\n",
      "\u001b[0;31mNameError\u001b[0m: name 'df_all_feat1' is not defined"
     ]
    }
   ],
   "source": [
    "feature1=df_all_feat1.drop(['train_line','train_station','station_access'],axis=1)\n",
    "new_feature=df_all.select_dtypes(exclude='object').drop(['id','rent'],axis=1)\n",
    "df_all_feat2=pd.concat([feature1,new_feature],axis=1)"
   ]
  },
  {
   "cell_type": "code",
   "execution_count": 621,
   "metadata": {},
   "outputs": [],
   "source": [
    "train=df_all_feat2[:train_index]\n",
    "test=df_all_feat2[train_index:]"
   ]
  },
  {
   "cell_type": "code",
   "execution_count": 627,
   "metadata": {},
   "outputs": [],
   "source": [
    "train.to_feather('train_feat2.ftr')\n",
    "test.reset_index(inplace=True)\n",
    "test.to_feather('test_feat2.ftr')"
   ]
  },
  {
   "cell_type": "code",
   "execution_count": 1,
   "metadata": {},
   "outputs": [
    {
     "ename": "NameError",
     "evalue": "name 'train_feat1' is not defined",
     "output_type": "error",
     "traceback": [
      "\u001b[0;31m---------------------------------------------------------------------------\u001b[0m",
      "\u001b[0;31mNameError\u001b[0m                                 Traceback (most recent call last)",
      "\u001b[0;32m<ipython-input-1-6c4887dd5613>\u001b[0m in \u001b[0;36m<module>\u001b[0;34m\u001b[0m\n\u001b[0;32m----> 1\u001b[0;31m \u001b[0mtrain_feat1\u001b[0m\u001b[0;34m\u001b[0m\u001b[0;34m\u001b[0m\u001b[0m\n\u001b[0m",
      "\u001b[0;31mNameError\u001b[0m: name 'train_feat1' is not defined"
     ]
    }
   ],
   "source": [
    "train_feat1"
   ]
  },
  {
   "cell_type": "code",
   "execution_count": null,
   "metadata": {},
   "outputs": [],
   "source": []
  },
  {
   "cell_type": "code",
   "execution_count": null,
   "metadata": {},
   "outputs": [],
   "source": []
  },
  {
   "cell_type": "code",
   "execution_count": null,
   "metadata": {},
   "outputs": [],
   "source": []
  }
 ],
 "metadata": {
  "kernelspec": {
   "display_name": "Python 3",
   "language": "python",
   "name": "python3"
  },
  "language_info": {
   "codemirror_mode": {
    "name": "ipython",
    "version": 3
   },
   "file_extension": ".py",
   "mimetype": "text/x-python",
   "name": "python",
   "nbconvert_exporter": "python",
   "pygments_lexer": "ipython3",
   "version": "3.6.9"
  }
 },
 "nbformat": 4,
 "nbformat_minor": 2
}

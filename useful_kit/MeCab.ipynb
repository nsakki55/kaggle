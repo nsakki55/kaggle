{
 "cells": [
  {
   "cell_type": "markdown",
   "metadata": {},
   "source": [
    "## MeCabを用いた形態素解析\n",
    "動詞と名刺を抽出\n"
   ]
  },
  {
   "cell_type": "code",
   "execution_count": 16,
   "metadata": {},
   "outputs": [],
   "source": [
    "# MeCabをPythonで利用するためのライブラリ読み込み\n",
    "import os\n",
    "from natto import MeCab\n",
    "from gensim import corpora, matutils\n",
    "\n",
    "# merosには、メロスの文章データが格納\n",
    "# MeCabを実行するオブジェクトを生成\n",
    "mc = MeCab()\n",
    "\n",
    "# 下記のコードはテキスト時は、下記のようにする\n",
    "with open('/Users/satsuki/study/awesomebook/data/txt/aguni.txt', 'r') as f:\n",
    "  txt = f.read()\n",
    "\n",
    "word_list = []\n",
    "# MeCabを用いて、形態素解析を実行\n",
    "for part_and_word in mc.parse(txt, as_nodes=True):\n",
    "\n",
    "  # 形態素解析結果のpart_and_wordが開始/終了オブジェクトでないことを判定\n",
    "  if not (part_and_word.is_bos() or part_and_word.is_eos()):\n",
    "\n",
    "    # 形態素解析結果から品詞と単語を取得\n",
    "    part, word = part_and_word.feature.split(',', 1)\n",
    "\n",
    "    # 名詞と動詞の単語を抽出\n",
    "    if part == '名詞' or part == '動詞':\n",
    "      word_list.append(part_and_word.surface)"
   ]
  },
  {
   "cell_type": "code",
   "execution_count": 17,
   "metadata": {},
   "outputs": [
    {
     "data": {
      "text/plain": [
       "['支那',\n",
       " '上海',\n",
       " '町',\n",
       " '昼',\n",
       " '家',\n",
       " '二',\n",
       " '階',\n",
       " '人相',\n",
       " '印度',\n",
       " '人',\n",
       " '婆さん',\n",
       " '一',\n",
       " '人',\n",
       " '商人',\n",
       " '一',\n",
       " '人',\n",
       " '亜米利加',\n",
       " '人',\n",
       " '何',\n",
       " '頻',\n",
       " '話し',\n",
       " '合',\n",
       " 'つて',\n",
       " 'ゐ',\n",
       " '今度',\n",
       " 'お婆さん',\n",
       " '占',\n",
       " 'ひ',\n",
       " '頼み',\n",
       " '来',\n",
       " 'の',\n",
       " '亜米利加',\n",
       " '人',\n",
       " '言',\n",
       " 'ひ',\n",
       " '煙草',\n",
       " '火',\n",
       " 'つけ',\n",
       " '占',\n",
       " 'ひ',\n",
       " '占',\n",
       " 'ひ',\n",
       " '当分',\n",
       " '見',\n",
       " 'こと',\n",
       " 'し',\n",
       " '婆さん',\n",
       " '嘲る',\n",
       " 'やう',\n",
       " '相手',\n",
       " '顔',\n",
       " '見',\n",
       " '頃',\n",
       " '見',\n",
       " '上げ',\n",
       " '御礼',\n",
       " 'さ',\n",
       " '碌',\n",
       " 'し',\n",
       " '人',\n",
       " '多く',\n",
       " 'つて',\n",
       " '来',\n",
       " 'そり',\n",
       " '御礼',\n",
       " 'する',\n",
       " '亜米利加',\n",
       " '人',\n",
       " '惜しげ',\n",
       " '三',\n",
       " '百',\n",
       " '弗',\n",
       " '小切手',\n",
       " '一',\n",
       " '枚',\n",
       " '婆さん',\n",
       " '前',\n",
       " '投げ',\n",
       " 'やり']"
      ]
     },
     "execution_count": 17,
     "metadata": {},
     "output_type": "execute_result"
    }
   ],
   "source": [
    "word_list"
   ]
  },
  {
   "cell_type": "code",
   "execution_count": null,
   "metadata": {},
   "outputs": [],
   "source": []
  },
  {
   "cell_type": "code",
   "execution_count": null,
   "metadata": {},
   "outputs": [],
   "source": []
  }
 ],
 "metadata": {
  "kernelspec": {
   "display_name": "Python 3",
   "language": "python",
   "name": "python3"
  },
  "language_info": {
   "codemirror_mode": {
    "name": "ipython",
    "version": 3
   },
   "file_extension": ".py",
   "mimetype": "text/x-python",
   "name": "python",
   "nbconvert_exporter": "python",
   "pygments_lexer": "ipython3",
   "version": "3.6.9"
  }
 },
 "nbformat": 4,
 "nbformat_minor": 2
}

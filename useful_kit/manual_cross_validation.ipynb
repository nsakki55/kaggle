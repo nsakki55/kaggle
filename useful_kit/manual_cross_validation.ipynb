{
 "cells": [
  {
   "cell_type": "markdown",
   "metadata": {},
   "source": [
    "sklearnに付属しているcross_validation_score関数を用いずに、自分で定めたkFoldから交差分割検証を行なう。  \n",
    "あくまで、validationの値を確認するためだということを忘れない。パラメータチューニングの効率的なやり方がないか調べた方がいい。"
   ]
  },
  {
   "cell_type": "code",
   "execution_count": null,
   "metadata": {},
   "outputs": [],
   "source": [
    "from sklean.model_selection import StratifiedKFold\n",
    "from sklearn.metrics import roc_auc_score\n",
    "import gc\n",
    "import xgboost as xgb\n",
    "\n",
    "\n",
    "# 分割の数を指定。基本は5で十分\n",
    "NFOLDS = 5\n",
    "# 層化交差分割検証を基本的には用いる。時系列データの場合は時間を基準にしてvalidationを行なう\n",
    "kf = StratifiedKFold(n_splits=NFOLDS, shuffle=True, random_state=123)\n",
    "\n",
    "# テストデータの予測値と、validationの値を格納\n",
    "y_preds = np.zeros(X_test.shape[0])\n",
    "y_oof = np.zeros(X_train.shape[0])\n",
    "score = 0\n",
    "  \n",
    "for fold, (tr_idx, val_idx) in enumerate(kf.split(X_train, y_train)):\n",
    "# モデルの作成。\n",
    "    clf = xgb.XGBClassifier(\n",
    "        n_estimators=500,\n",
    "        max_depth=9,\n",
    "        learning_rate=0.05,\n",
    "        subsample=0.9,\n",
    "        colsample_bytree=0.9,\n",
    "        gamma = 0.2,\n",
    "        alpha = 4,\n",
    "        missing = -1,\n",
    "        tree_method='gpu_hist'\n",
    "    )\n",
    "# 訓練データをtrain,validaiton用に分ける\n",
    "    X_tr, X_vl = X_train.iloc[tr_idx, :], X_train.iloc[val_idx, :]\n",
    "    y_tr, y_vl = y_train.iloc[tr_idx], y_train.iloc[val_idx]\n",
    "# 学習\n",
    "    clf.fit(X_tr, y_tr)\n",
    "# validationの予測\n",
    "    y_pred_val = clf.predict_proba(X_vl)[:,1]\n",
    "# validaitonの予測値を格納\n",
    "    y_oof[val_idx] = y_pred_val\n",
    "# 問題ごとの評価指標でvalidationの値を確認\n",
    "    print(\"FOLD: \",fold,' AUC {}'.format(roc_auc_score(y_vl, y_pred_train)))\n",
    "# validaitonの平均値を格納\n",
    "    score += roc_auc_score(y_vl, y_pred_train) / NFOLDS\n",
    "# 各validationごとのモデルで求めたテストデータの予測値の平均を格納\n",
    "    y_preds+= clf.predict_proba(X_test)[:,1] / NFOLDS\n",
    "# ガベコレ\n",
    "    del X_tr, X_vl, y_tr, y_vl\n",
    "    gc.collect()\n",
    "    \n",
    "    \n",
    "print(\"\\nMEAN AUC = {}\".format(score))\n",
    "print(\"OOF AUC = {}\".format(roc_auc_score(y_train, y_oof)))"
   ]
  }
 ],
 "metadata": {
  "kernelspec": {
   "display_name": "Python 3",
   "language": "python",
   "name": "python3"
  },
  "language_info": {
   "codemirror_mode": {
    "name": "ipython",
    "version": 3
   },
   "file_extension": ".py",
   "mimetype": "text/x-python",
   "name": "python",
   "nbconvert_exporter": "python",
   "pygments_lexer": "ipython3",
   "version": "3.6.8"
  }
 },
 "nbformat": 4,
 "nbformat_minor": 2
}

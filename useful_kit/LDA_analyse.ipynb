{
 "cells": [
  {
   "cell_type": "markdown",
   "metadata": {},
   "source": [
    "## LDAをnumpyを使って一連の流れを理解\n",
    "線形判別分析(Linear Discriminant Analusis)LDAの流れを追う。LDAは教師ありアルゴリズム(PCAは教師なし)なのでPCAより強力（の場合が多い）  \n",
    "前提条件として  \n",
    "・データが正規分布に従う  \n",
    "・クラスの共分散行列が全く同じ  \n",
    "・特徴量が統計的に互いに独立していること  \n",
    "なので、使用するには制約が厳しい.満たしてなくても、うまくいくらしい  \n",
    "1.d次元データセットを標準化(sklearnのStandardScaler)    \n",
    "2.クラスごと平均ベクトルを計算  \n",
    "3.クラス間変動行列S_B、クラス内変動行列S_Wを計算  \n",
    "4.S_W*S_Bを固有値と固有ベクトルに分解(numpyのnp,linalg.eig)    \n",
    "5.最も大きいk個の固有値に対応するk個の固有ベクトルを選択（この流れは可視化のために便宜上k=2にしている）  \n",
    "6.上位k個の固有ベクトルから射影行列Wを作成(numpyのnp.hstackで固有ベクトルを連結)  \n",
    "7.射影行列Wを使ってd次元データセットを変換して,新しいk次元の特徴量を手に入れる  "
   ]
  },
  {
   "cell_type": "markdown",
   "metadata": {},
   "source": [
    "## 1.d次元データセットを標準化(sklearnのStandardScaler)    \n"
   ]
  },
  {
   "cell_type": "code",
   "execution_count": 3,
   "metadata": {},
   "outputs": [],
   "source": [
    "import pandas as pd\n",
    "import numpy as np\n",
    "\n",
    "df_wine = pd.read_csv('https://archive.ics.uci.edu/ml/'\n",
    "                      'machine-learning-databases/wine/wine.data',\n",
    "                      header=None)\n",
    "df_wine.columns = ['Class label', 'Alcohol', 'Malic acid', 'Ash',\n",
    "                   'Alcalinity of ash', 'Magnesium', 'Total phenols',\n",
    "                   'Flavanoids', 'Nonflavanoid phenols', 'Proanthocyanins',\n",
    "                   'Color intensity', 'Hue',\n",
    "                   'OD280/OD315 of diluted wines', 'Proline']\n",
    "df_wine.head()\n",
    "from sklearn.model_selection import train_test_split\n",
    "from sklearn.preprocessing import StandardScaler\n",
    "X=df_wine.iloc[:,1:]\n",
    "y=df_wine.iloc[:,0]\n",
    "X_train,X_test,y_train,y_test=train_test_split(X,y,test_size=0.2,random_state=0)\n",
    "sc=StandardScaler()\n",
    "X_train_std=sc.fit_transform(X_train)\n",
    "X_test_std=sc.transform(X_test)"
   ]
  },
  {
   "cell_type": "markdown",
   "metadata": {},
   "source": [
    "## 2.クラスごと平均ベクトルを計算"
   ]
  },
  {
   "cell_type": "code",
   "execution_count": 4,
   "metadata": {},
   "outputs": [
    {
     "name": "stdout",
     "output_type": "stream",
     "text": [
      "MV 1: [ 0.9198 -0.3075  0.3117 -0.7707  0.3571  0.9424  1.0813 -0.6109  0.5657\n",
      "  0.1902  0.5024  0.8202  1.1967]\n",
      "\n",
      "MV 2: [-0.8942 -0.418  -0.4675  0.2214 -0.2926 -0.0748  0.0313 -0.0577  0.1011\n",
      " -0.891   0.4644  0.292  -0.7087]\n",
      "\n",
      "MV 3: [ 1.8548e-01  8.7684e-01  2.7821e-01  5.3578e-01  5.6683e-04 -9.1185e-01\n",
      " -1.1995e+00  7.3007e-01 -7.3855e-01  9.6293e-01 -1.1464e+00 -1.2612e+00\n",
      " -3.5417e-01]\n",
      "\n"
     ]
    }
   ],
   "source": [
    "np.set_printoptions(precision=4)\n",
    "mean_vecs=[]\n",
    "for label in range(1,len(np.unique(y))+1):\n",
    "    # axis=0とすることで各列の特徴量の平均値を取ることができる.なので返り値は特徴量数の長さの配列\n",
    "    mean_vecs.append(np.mean(X_train_std[y_train==label],axis=0))\n",
    "    print('MV %s: %s\\n' %(label,mean_vecs[label-1]))"
   ]
  },
  {
   "cell_type": "markdown",
   "metadata": {},
   "source": [
    "## 3.クラス間変動行列S_B、クラス内変動行列S_Wを計算  "
   ]
  },
  {
   "cell_type": "code",
   "execution_count": 5,
   "metadata": {},
   "outputs": [],
   "source": [
    "# クラス内変動行列S_Wを求める\n",
    "d=X_train.shape[1]\n",
    "S_W=np.zeros((d,d))\n",
    "for label,mv in zip(range(1,len(np.unique(y_train)+1)),mean_vecs):\n",
    "    class_scatter=np.zeros((d,d))\n",
    "    for row in X_train_std[y_train==label]:\n",
    "        # 変動行列を計算\n",
    "        row,mv=row.reshape(d,1),mv.reshape(d,1)\n",
    "        class_scatter+=(row-mv).dot((row-mv).T)\n",
    "    S_W+=class_scatter"
   ]
  },
  {
   "cell_type": "markdown",
   "metadata": {},
   "source": [
    "### このままLDAすると、クラスの分布がうまく行かないので正規化する"
   ]
  },
  {
   "cell_type": "code",
   "execution_count": 6,
   "metadata": {},
   "outputs": [
    {
     "name": "stdout",
     "output_type": "stream",
     "text": [
      "class label distribution: [45 55 42]\n"
     ]
    }
   ],
   "source": [
    "print('class label distribution: %s' % np.bincount(y_train)[1:])"
   ]
  },
  {
   "cell_type": "code",
   "execution_count": 8,
   "metadata": {},
   "outputs": [
    {
     "name": "stdout",
     "output_type": "stream",
     "text": [
      "Scaled within-class scatter matrix: 13x13\n",
      "Between-class scatter matrix: 13x13\n"
     ]
    }
   ],
   "source": [
    "#正規化した変動行列を求める。すなわち、共分散行列を求めることと同じ\n",
    "d = X_train.shape[1]\n",
    "S_W = np.zeros((d, d))\n",
    "for label, mv in zip(range(1, 4), mean_vecs):\n",
    "    class_scatter = np.cov(X_train_std[y_train == label].T)\n",
    "    S_W += class_scatter\n",
    "print('Scaled within-class scatter matrix: %sx%s' % (S_W.shape[0],\n",
    "                                                     S_W.shape[1]))\n",
    "\n",
    "# クラス内変動行列を求める\n",
    "mean_overall = np.mean(X_train_std, axis=0)\n",
    "d =X_train.shape[1]\n",
    "S_B = np.zeros((d, d))\n",
    "for i, mean_vec in enumerate(mean_vecs):\n",
    "    n = X_train[y_train == i + 1].shape[0]\n",
    "    mean_vec = mean_vec.reshape(d, 1)  # make column vector\n",
    "    mean_overall = mean_overall.reshape(d, 1)  # make column vector\n",
    "    S_B += n * (mean_vec - mean_overall).dot((mean_vec - mean_overall).T)\n",
    "\n",
    "print('Between-class scatter matrix: %sx%s' % (S_B.shape[0], S_B.shape[1]))"
   ]
  },
  {
   "cell_type": "markdown",
   "metadata": {},
   "source": [
    "## 4.S_W*S_Bを固有値と固有ベクトルに分解(numpyのnp,linalg.eig)    \n",
    "## 5.最も大きいk個の固有値に対応するk個の固有ベクトルを選択（この流れは可視化のために便宜上k=2にしている） "
   ]
  },
  {
   "cell_type": "code",
   "execution_count": 9,
   "metadata": {},
   "outputs": [
    {
     "name": "stdout",
     "output_type": "stream",
     "text": [
      "Eigenvalues in decreasing order:\n",
      "\n",
      "544.9409138254811\n",
      "187.26591131223122\n",
      "4.853374971125164e-14\n",
      "4.1281391006153586e-14\n",
      "4.1281391006153586e-14\n",
      "3.303972443675131e-14\n",
      "3.303972443675131e-14\n",
      "2.1762941134571637e-14\n",
      "1.2907382852490287e-14\n",
      "1.2907382852490287e-14\n",
      "3.9813989247888525e-15\n",
      "2.940593750158527e-15\n",
      "0.0\n"
     ]
    }
   ],
   "source": [
    "eigen_vals, eigen_vecs = np.linalg.eig(np.linalg.inv(S_W).dot(S_B))\n",
    "\n",
    "#固有値と固有ベクトルのペアを作成\n",
    "eigen_pairs = [(np.abs(eigen_vals[i]), eigen_vecs[:, i])\n",
    "               for i in range(len(eigen_vals))]\n",
    "\n",
    "#固有値が大きい順番に並び替え \n",
    "eigen_pairs = sorted(eigen_pairs, key=lambda k: k[0], reverse=True)\n",
    "\n",
    "print('Eigenvalues in decreasing order:\\n')\n",
    "for eigen_val in eigen_pairs:\n",
    "    print(eigen_val[0])"
   ]
  },
  {
   "cell_type": "code",
   "execution_count": 11,
   "metadata": {},
   "outputs": [
    {
     "data": {
      "image/png": "[encoded data removed]",
      "text/plain": [
       "<Figure size 432x288 with 1 Axes>"
      ]
     },
     "metadata": {
      "needs_background": "light"
     },
     "output_type": "display_data"
    }
   ],
   "source": [
    "# 固有値の実数部の総和を求める\n",
    "tot = sum(eigen_vals.real)\n",
    "# 分散説明率と累積和を求める\n",
    "discr = [(i / tot) for i in sorted(eigen_vals.real, reverse=True)]\n",
    "cum_discr = np.cumsum(discr)\n",
    "\n",
    "import matplotlib.pyplot as plt\n",
    "%matplotlib inline\n",
    "plt.bar(range(1, 14), discr, alpha=0.5, align='center',\n",
    "        label='individual \"discriminability\"')\n",
    "plt.step(range(1, 14), cum_discr, where='mid',\n",
    "         label='cumulative \"discriminability\"')\n",
    "plt.ylabel('\"discriminability\" ratio')\n",
    "plt.xlabel('Linear Discriminants')\n",
    "plt.ylim([-0.1, 1.1])\n",
    "plt.legend(loc='best')\n",
    "plt.tight_layout()\n",
    "plt.show()"
   ]
  },
  {
   "cell_type": "markdown",
   "metadata": {},
   "source": [
    "## 6.上位k個の固有ベクトルから射影行列Wを作成(numpyのnp.hstackで固有ベクトルを連結) "
   ]
  },
  {
   "cell_type": "code",
   "execution_count": 12,
   "metadata": {},
   "outputs": [
    {
     "data": {
      "text/plain": [
       "array([[-0.0816, -0.3969],\n",
       "       [ 0.066 , -0.2356],\n",
       "       [-0.03  , -0.3811],\n",
       "       [ 0.1629,  0.3243],\n",
       "       [ 0.0047, -0.0071],\n",
       "       [ 0.2207,  0.0776],\n",
       "       [-0.7881,  0.0992],\n",
       "       [-0.0901,  0.0393],\n",
       "       [ 0.0651,  0.206 ],\n",
       "       [ 0.2012, -0.3168],\n",
       "       [-0.0551,  0.2306],\n",
       "       [-0.3749,  0.0273],\n",
       "       [-0.3085, -0.5678]])"
      ]
     },
     "execution_count": 12,
     "metadata": {},
     "output_type": "execute_result"
    }
   ],
   "source": [
    "w = np.hstack((eigen_pairs[0][1][:, np.newaxis].real,\n",
    "              eigen_pairs[1][1][:, np.newaxis].real))\n",
    "w"
   ]
  },
  {
   "cell_type": "markdown",
   "metadata": {},
   "source": [
    "## 7.射影行列Wを使ってd次元データセットを変換して,新しいk次元の特徴量を手に入れる  "
   ]
  },
  {
   "cell_type": "code",
   "execution_count": 13,
   "metadata": {},
   "outputs": [
    {
     "data": {
      "image/png": "[encoded data removed]",
      "text/plain": [
       "<Figure size 432x288 with 1 Axes>"
      ]
     },
     "metadata": {
      "needs_background": "light"
     },
     "output_type": "display_data"
    }
   ],
   "source": [
    "X_train_lda=X_train_std.dot(w)\n",
    "colors=['r','b','g']\n",
    "markers=['s','x','o']\n",
    "\n",
    "for l,c,m in zip(np.unique(y_train),colors,markers):\n",
    "    plt.scatter(X_train_lda[y_train==l,0]*-1,X_train_lda[y_train==l,1]*-1,c=c,marker=m,label=l)\n",
    "    \n",
    "plt.xlabel('LD1')\n",
    "plt.ylabel('LD2')\n",
    "plt.legend(loc='lower left')\n",
    "\n",
    "plt.show()"
   ]
  },
  {
   "cell_type": "code",
   "execution_count": null,
   "metadata": {},
   "outputs": [],
   "source": []
  }
 ],
 "metadata": {
  "kernelspec": {
   "display_name": "Python 3",
   "language": "python",
   "name": "python3"
  },
  "language_info": {
   "codemirror_mode": {
    "name": "ipython",
    "version": 3
   },
   "file_extension": ".py",
   "mimetype": "text/x-python",
   "name": "python",
   "nbconvert_exporter": "python",
   "pygments_lexer": "ipython3",
   "version": "3.6.8"
  }
 },
 "nbformat": 4,
 "nbformat_minor": 2
}

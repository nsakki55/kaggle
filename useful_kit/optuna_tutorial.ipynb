{
 "cells": [
  {
   "cell_type": "markdown",
   "metadata": {},
   "source": [
    "## PFNが開発したチューニング手法\n",
    "### GridSearchより早く、高いスコアが期待できる\n",
    "目的関数を自分で作成する必要がある。目的関数の最小化のみに対応しているので、正解率を上げたい場合は1から引くなどする必要がある、　　\n",
    "内部のアルゴリズムはベイズ最適化を用いている。一度まとめて調べる必要があるな。"
   ]
  },
  {
   "cell_type": "markdown",
   "metadata": {},
   "source": [
    "## データセット準備\n",
    "自分で作成する目的関数で、訓練データではなく、検証データの値から求めた値を最小化したいため、検証データを作成する"
   ]
  },
  {
   "cell_type": "code",
   "execution_count": 6,
   "metadata": {},
   "outputs": [],
   "source": [
    "import warnings\n",
    "warnings.filterwarnings('ignore')\n",
    "from sklearn.datasets import load_boston\n",
    "from sklearn.svm import SVR\n",
    "from sklearn.preprocessing import StandardScaler\n",
    "from sklearn.model_selection import train_test_split\n",
    "from sklearn.metrics import mean_squared_error\n",
    "import numpy as np\n",
    "\n",
    "boston = load_boston()\n",
    "X, y = boston[\"data\"], boston[\"target\"]\n",
    "# 訓練、テスト分割\n",
    "X_train, X_test, y_train, y_test = train_test_split(X, y, test_size=0.2, random_state=114514)\n",
    "n_train = int(X_train.shape[0] * 0.75)\n",
    "X_train, X_val = X_train[:n_train], X_train[n_train:]\n",
    "y_train, y_val = y_train[:n_train], y_train[n_train:]\n",
    "\n",
    "# 標準化\n",
    "scaler = StandardScaler()\n",
    "X_train = scaler.fit_transform(X_train)\n",
    "X_val = scaler.transform(X_val)\n",
    "X_test = scaler.transform(X_test)"
   ]
  },
  {
   "cell_type": "markdown",
   "metadata": {},
   "source": [
    "## 最小化したい目的関数を作成\n",
    "optunaで最小化する値。回帰ならMSE,分類問題なら正解率の1との差をとった値を返すようにする。  \n",
    "パラメータ範囲の指定があり、モデルのインスタンスを作成して、学習を内部で行う。  \n",
    "評価指標は検証用データの値になるようにする"
   ]
  },
  {
   "cell_type": "code",
   "execution_count": 7,
   "metadata": {},
   "outputs": [],
   "source": [
    "import optuna\n",
    "from sklearn.metrics import mean_squared_error\n",
    "\n",
    "def objective(trial):\n",
    "    # パラメータの作成\n",
    "    svr_c = trial.suggest_loguniform('svc_c', 1e0,1e2)\n",
    "    epsilon = trial.suggest_loguniform('epsilon', 1e-1,1e1)\n",
    "    # モデルの作成\n",
    "    svm_reg=SVR(C=svr_c,epsilon=epsilon)\n",
    "    # 訓練データで学習\n",
    "    svm_reg.fit(X_train,y_train)\n",
    "    # 検証データの予測\n",
    "    y_pred=svm_reg.predict(X_val)\n",
    "    # 最小化したい評価指標。検証データでの値を用いる\n",
    "    return mean_squared_error(y_val,y_pred)"
   ]
  },
  {
   "cell_type": "code",
   "execution_count": 8,
   "metadata": {},
   "outputs": [
    {
     "name": "stderr",
     "output_type": "stream",
     "text": [
      "[I 2019-07-21 22:35:05,819] Finished trial#0 resulted in value: 9.605281851865122. Current best value is 9.605281851865122 with parameters: {'svc_c': 4.777670748856879, 'epsilon': 1.917825768685567}.\n",
      "[I 2019-07-21 22:35:05,905] Finished trial#1 resulted in value: 20.491311224302148. Current best value is 9.605281851865122 with parameters: {'svc_c': 4.777670748856879, 'epsilon': 1.917825768685567}.\n",
      "[I 2019-07-21 22:35:05,996] Finished trial#2 resulted in value: 8.341645250742767. Current best value is 8.341645250742767 with parameters: {'svc_c': 39.61913822097133, 'epsilon': 0.5201896153491742}.\n",
      "[I 2019-07-21 22:35:06,087] Finished trial#3 resulted in value: 9.257065148611273. Current best value is 8.341645250742767 with parameters: {'svc_c': 39.61913822097133, 'epsilon': 0.5201896153491742}.\n",
      "[I 2019-07-21 22:35:06,173] Finished trial#4 resulted in value: 12.27971187379273. Current best value is 8.341645250742767 with parameters: {'svc_c': 39.61913822097133, 'epsilon': 0.5201896153491742}.\n",
      "[I 2019-07-21 22:35:06,257] Finished trial#5 resulted in value: 23.060892550006045. Current best value is 8.341645250742767 with parameters: {'svc_c': 39.61913822097133, 'epsilon': 0.5201896153491742}.\n",
      "[I 2019-07-21 22:35:06,345] Finished trial#6 resulted in value: 8.61971612044229. Current best value is 8.341645250742767 with parameters: {'svc_c': 39.61913822097133, 'epsilon': 0.5201896153491742}.\n",
      "[I 2019-07-21 22:35:06,434] Finished trial#7 resulted in value: 13.91834633989291. Current best value is 8.341645250742767 with parameters: {'svc_c': 39.61913822097133, 'epsilon': 0.5201896153491742}.\n",
      "[I 2019-07-21 22:35:06,520] Finished trial#8 resulted in value: 27.607463323194512. Current best value is 8.341645250742767 with parameters: {'svc_c': 39.61913822097133, 'epsilon': 0.5201896153491742}.\n",
      "[I 2019-07-21 22:35:06,612] Finished trial#9 resulted in value: 8.497837509962503. Current best value is 8.341645250742767 with parameters: {'svc_c': 39.61913822097133, 'epsilon': 0.5201896153491742}.\n",
      "[I 2019-07-21 22:35:06,706] Finished trial#10 resulted in value: 8.170920197204806. Current best value is 8.170920197204806 with parameters: {'svc_c': 22.761388641406995, 'epsilon': 0.1046980772631434}.\n",
      "[I 2019-07-21 22:35:06,801] Finished trial#11 resulted in value: 7.953184247068879. Current best value is 7.953184247068879 with parameters: {'svc_c': 17.08832190149121, 'epsilon': 0.1046398311178124}.\n",
      "[I 2019-07-21 22:35:06,894] Finished trial#12 resulted in value: 9.396955397034494. Current best value is 7.953184247068879 with parameters: {'svc_c': 17.08832190149121, 'epsilon': 0.1046398311178124}.\n",
      "[I 2019-07-21 22:35:06,988] Finished trial#13 resulted in value: 7.924319308255153. Current best value is 7.924319308255153 with parameters: {'svc_c': 13.17637775157647, 'epsilon': 0.2186294683103118}.\n",
      "[I 2019-07-21 22:35:07,078] Finished trial#14 resulted in value: 15.850075156575617. Current best value is 7.924319308255153 with parameters: {'svc_c': 13.17637775157647, 'epsilon': 0.2186294683103118}.\n",
      "[I 2019-07-21 22:35:07,169] Finished trial#15 resulted in value: 8.38324170899087. Current best value is 7.924319308255153 with parameters: {'svc_c': 13.17637775157647, 'epsilon': 0.2186294683103118}.\n",
      "[I 2019-07-21 22:35:07,266] Finished trial#16 resulted in value: 7.878944191659012. Current best value is 7.878944191659012 with parameters: {'svc_c': 14.488614239942697, 'epsilon': 0.25233879497560613}.\n",
      "[I 2019-07-21 22:35:07,360] Finished trial#17 resulted in value: 7.9539679920602255. Current best value is 7.878944191659012 with parameters: {'svc_c': 14.488614239942697, 'epsilon': 0.25233879497560613}.\n",
      "[I 2019-07-21 22:35:07,452] Finished trial#18 resulted in value: 9.458275243941523. Current best value is 7.878944191659012 with parameters: {'svc_c': 14.488614239942697, 'epsilon': 0.25233879497560613}.\n",
      "[I 2019-07-21 22:35:07,543] Finished trial#19 resulted in value: 7.751428490680102. Current best value is 7.751428490680102 with parameters: {'svc_c': 10.5350083142435, 'epsilon': 0.7782079519024987}.\n",
      "[I 2019-07-21 22:35:07,644] Finished trial#20 resulted in value: 7.877338365663172. Current best value is 7.751428490680102 with parameters: {'svc_c': 10.5350083142435, 'epsilon': 0.7782079519024987}.\n",
      "[I 2019-07-21 22:35:07,746] Finished trial#21 resulted in value: 7.815987453788328. Current best value is 7.751428490680102 with parameters: {'svc_c': 10.5350083142435, 'epsilon': 0.7782079519024987}.\n",
      "[I 2019-07-21 22:35:07,838] Finished trial#22 resulted in value: 8.267935551455198. Current best value is 7.751428490680102 with parameters: {'svc_c': 10.5350083142435, 'epsilon': 0.7782079519024987}.\n",
      "[I 2019-07-21 22:35:07,945] Finished trial#23 resulted in value: 7.946333217898909. Current best value is 7.751428490680102 with parameters: {'svc_c': 10.5350083142435, 'epsilon': 0.7782079519024987}.\n",
      "[I 2019-07-21 22:35:08,037] Finished trial#24 resulted in value: 12.64211556579529. Current best value is 7.751428490680102 with parameters: {'svc_c': 10.5350083142435, 'epsilon': 0.7782079519024987}.\n",
      "[I 2019-07-21 22:35:08,133] Finished trial#25 resulted in value: 7.936529159832828. Current best value is 7.751428490680102 with parameters: {'svc_c': 10.5350083142435, 'epsilon': 0.7782079519024987}.\n",
      "[I 2019-07-21 22:35:08,228] Finished trial#26 resulted in value: 8.074304093802894. Current best value is 7.751428490680102 with parameters: {'svc_c': 10.5350083142435, 'epsilon': 0.7782079519024987}.\n",
      "[I 2019-07-21 22:35:08,328] Finished trial#27 resulted in value: 9.469995385608806. Current best value is 7.751428490680102 with parameters: {'svc_c': 10.5350083142435, 'epsilon': 0.7782079519024987}.\n",
      "[I 2019-07-21 22:35:08,418] Finished trial#28 resulted in value: 9.927313199550795. Current best value is 7.751428490680102 with parameters: {'svc_c': 10.5350083142435, 'epsilon': 0.7782079519024987}.\n",
      "[I 2019-07-21 22:35:08,513] Finished trial#29 resulted in value: 7.882079539080187. Current best value is 7.751428490680102 with parameters: {'svc_c': 10.5350083142435, 'epsilon': 0.7782079519024987}.\n",
      "[I 2019-07-21 22:35:08,604] Finished trial#30 resulted in value: 8.86074394380101. Current best value is 7.751428490680102 with parameters: {'svc_c': 10.5350083142435, 'epsilon': 0.7782079519024987}.\n",
      "[I 2019-07-21 22:35:08,695] Finished trial#31 resulted in value: 11.150129188121431. Current best value is 7.751428490680102 with parameters: {'svc_c': 10.5350083142435, 'epsilon': 0.7782079519024987}.\n",
      "[I 2019-07-21 22:35:08,801] Finished trial#32 resulted in value: 9.68568412877572. Current best value is 7.751428490680102 with parameters: {'svc_c': 10.5350083142435, 'epsilon': 0.7782079519024987}.\n",
      "[I 2019-07-21 22:35:08,904] Finished trial#33 resulted in value: 8.045769688014657. Current best value is 7.751428490680102 with parameters: {'svc_c': 10.5350083142435, 'epsilon': 0.7782079519024987}.\n",
      "[I 2019-07-21 22:35:08,998] Finished trial#34 resulted in value: 10.653839318331311. Current best value is 7.751428490680102 with parameters: {'svc_c': 10.5350083142435, 'epsilon': 0.7782079519024987}.\n",
      "[I 2019-07-21 22:35:09,088] Finished trial#35 resulted in value: 9.29675268668317. Current best value is 7.751428490680102 with parameters: {'svc_c': 10.5350083142435, 'epsilon': 0.7782079519024987}.\n",
      "[I 2019-07-21 22:35:09,180] Finished trial#36 resulted in value: 13.335965064255802. Current best value is 7.751428490680102 with parameters: {'svc_c': 10.5350083142435, 'epsilon': 0.7782079519024987}.\n",
      "[I 2019-07-21 22:35:09,278] Finished trial#37 resulted in value: 9.083370275867404. Current best value is 7.751428490680102 with parameters: {'svc_c': 10.5350083142435, 'epsilon': 0.7782079519024987}.\n",
      "[I 2019-07-21 22:35:09,373] Finished trial#38 resulted in value: 7.778425570167715. Current best value is 7.751428490680102 with parameters: {'svc_c': 10.5350083142435, 'epsilon': 0.7782079519024987}.\n",
      "[I 2019-07-21 22:35:09,472] Finished trial#39 resulted in value: 7.785709645763989. Current best value is 7.751428490680102 with parameters: {'svc_c': 10.5350083142435, 'epsilon': 0.7782079519024987}.\n",
      "[I 2019-07-21 22:35:09,566] Finished trial#40 resulted in value: 7.882887665123184. Current best value is 7.751428490680102 with parameters: {'svc_c': 10.5350083142435, 'epsilon': 0.7782079519024987}.\n",
      "[I 2019-07-21 22:35:09,658] Finished trial#41 resulted in value: 7.980615442033363. Current best value is 7.751428490680102 with parameters: {'svc_c': 10.5350083142435, 'epsilon': 0.7782079519024987}.\n",
      "[I 2019-07-21 22:35:09,755] Finished trial#42 resulted in value: 7.943603410174496. Current best value is 7.751428490680102 with parameters: {'svc_c': 10.5350083142435, 'epsilon': 0.7782079519024987}.\n",
      "[I 2019-07-21 22:35:09,849] Finished trial#43 resulted in value: 8.957136466573989. Current best value is 7.751428490680102 with parameters: {'svc_c': 10.5350083142435, 'epsilon': 0.7782079519024987}.\n",
      "[I 2019-07-21 22:35:09,942] Finished trial#44 resulted in value: 10.571341013949434. Current best value is 7.751428490680102 with parameters: {'svc_c': 10.5350083142435, 'epsilon': 0.7782079519024987}.\n",
      "[I 2019-07-21 22:35:10,036] Finished trial#45 resulted in value: 9.05318991832632. Current best value is 7.751428490680102 with parameters: {'svc_c': 10.5350083142435, 'epsilon': 0.7782079519024987}.\n",
      "[I 2019-07-21 22:35:10,136] Finished trial#46 resulted in value: 45.29502936776011. Current best value is 7.751428490680102 with parameters: {'svc_c': 10.5350083142435, 'epsilon': 0.7782079519024987}.\n",
      "[I 2019-07-21 22:35:10,237] Finished trial#47 resulted in value: 18.67293643157909. Current best value is 7.751428490680102 with parameters: {'svc_c': 10.5350083142435, 'epsilon': 0.7782079519024987}.\n",
      "[I 2019-07-21 22:35:10,335] Finished trial#48 resulted in value: 8.051348573258878. Current best value is 7.751428490680102 with parameters: {'svc_c': 10.5350083142435, 'epsilon': 0.7782079519024987}.\n",
      "[I 2019-07-21 22:35:10,432] Finished trial#49 resulted in value: 8.154782957971637. Current best value is 7.751428490680102 with parameters: {'svc_c': 10.5350083142435, 'epsilon': 0.7782079519024987}.\n",
      "[I 2019-07-21 22:35:10,541] Finished trial#50 resulted in value: 8.936676431097762. Current best value is 7.751428490680102 with parameters: {'svc_c': 10.5350083142435, 'epsilon': 0.7782079519024987}.\n",
      "[I 2019-07-21 22:35:10,643] Finished trial#51 resulted in value: 15.596182245241874. Current best value is 7.751428490680102 with parameters: {'svc_c': 10.5350083142435, 'epsilon': 0.7782079519024987}.\n",
      "[I 2019-07-21 22:35:10,747] Finished trial#52 resulted in value: 9.34524960622838. Current best value is 7.751428490680102 with parameters: {'svc_c': 10.5350083142435, 'epsilon': 0.7782079519024987}.\n",
      "[I 2019-07-21 22:35:10,844] Finished trial#53 resulted in value: 8.525433381502488. Current best value is 7.751428490680102 with parameters: {'svc_c': 10.5350083142435, 'epsilon': 0.7782079519024987}.\n",
      "[I 2019-07-21 22:35:10,943] Finished trial#54 resulted in value: 7.916855202743661. Current best value is 7.751428490680102 with parameters: {'svc_c': 10.5350083142435, 'epsilon': 0.7782079519024987}.\n",
      "[I 2019-07-21 22:35:11,040] Finished trial#55 resulted in value: 9.85613255264567. Current best value is 7.751428490680102 with parameters: {'svc_c': 10.5350083142435, 'epsilon': 0.7782079519024987}.\n",
      "[I 2019-07-21 22:35:11,138] Finished trial#56 resulted in value: 8.014967303572144. Current best value is 7.751428490680102 with parameters: {'svc_c': 10.5350083142435, 'epsilon': 0.7782079519024987}.\n",
      "[I 2019-07-21 22:35:11,232] Finished trial#57 resulted in value: 14.82232816670366. Current best value is 7.751428490680102 with parameters: {'svc_c': 10.5350083142435, 'epsilon': 0.7782079519024987}.\n",
      "[I 2019-07-21 22:35:11,328] Finished trial#58 resulted in value: 11.287163320956704. Current best value is 7.751428490680102 with parameters: {'svc_c': 10.5350083142435, 'epsilon': 0.7782079519024987}.\n",
      "[I 2019-07-21 22:35:11,429] Finished trial#59 resulted in value: 7.9617441318302165. Current best value is 7.751428490680102 with parameters: {'svc_c': 10.5350083142435, 'epsilon': 0.7782079519024987}.\n",
      "[I 2019-07-21 22:35:11,529] Finished trial#60 resulted in value: 8.26710467997197. Current best value is 7.751428490680102 with parameters: {'svc_c': 10.5350083142435, 'epsilon': 0.7782079519024987}.\n",
      "[I 2019-07-21 22:35:11,627] Finished trial#61 resulted in value: 7.729342773413661. Current best value is 7.729342773413661 with parameters: {'svc_c': 18.173819056135507, 'epsilon': 0.6609364181077503}.\n",
      "[I 2019-07-21 22:35:11,738] Finished trial#62 resulted in value: 11.724892968424633. Current best value is 7.729342773413661 with parameters: {'svc_c': 18.173819056135507, 'epsilon': 0.6609364181077503}.\n",
      "[I 2019-07-21 22:35:11,845] Finished trial#63 resulted in value: 10.569867558410076. Current best value is 7.729342773413661 with parameters: {'svc_c': 18.173819056135507, 'epsilon': 0.6609364181077503}.\n",
      "[I 2019-07-21 22:35:11,947] Finished trial#64 resulted in value: 8.52658537418547. Current best value is 7.729342773413661 with parameters: {'svc_c': 18.173819056135507, 'epsilon': 0.6609364181077503}.\n",
      "[I 2019-07-21 22:35:12,052] Finished trial#65 resulted in value: 7.744526494086717. Current best value is 7.729342773413661 with parameters: {'svc_c': 18.173819056135507, 'epsilon': 0.6609364181077503}.\n",
      "[I 2019-07-21 22:35:12,149] Finished trial#66 resulted in value: 7.725146488407084. Current best value is 7.725146488407084 with parameters: {'svc_c': 14.712052623166842, 'epsilon': 0.6615460533295964}.\n",
      "[I 2019-07-21 22:35:12,249] Finished trial#67 resulted in value: 7.878629599810973. Current best value is 7.725146488407084 with parameters: {'svc_c': 14.712052623166842, 'epsilon': 0.6615460533295964}.\n",
      "[I 2019-07-21 22:35:12,348] Finished trial#68 resulted in value: 8.121489920776988. Current best value is 7.725146488407084 with parameters: {'svc_c': 14.712052623166842, 'epsilon': 0.6615460533295964}.\n",
      "[I 2019-07-21 22:35:12,448] Finished trial#69 resulted in value: 7.6338360638145355. Current best value is 7.6338360638145355 with parameters: {'svc_c': 13.154969759520327, 'epsilon': 0.9485257989214145}.\n",
      "[I 2019-07-21 22:35:12,548] Finished trial#70 resulted in value: 7.65170886958555. Current best value is 7.6338360638145355 with parameters: {'svc_c': 13.154969759520327, 'epsilon': 0.9485257989214145}.\n",
      "[I 2019-07-21 22:35:12,646] Finished trial#71 resulted in value: 7.741853985350739. Current best value is 7.6338360638145355 with parameters: {'svc_c': 13.154969759520327, 'epsilon': 0.9485257989214145}.\n",
      "[I 2019-07-21 22:35:12,744] Finished trial#72 resulted in value: 8.610536210199475. Current best value is 7.6338360638145355 with parameters: {'svc_c': 13.154969759520327, 'epsilon': 0.9485257989214145}.\n",
      "[I 2019-07-21 22:35:12,844] Finished trial#73 resulted in value: 7.956396857588555. Current best value is 7.6338360638145355 with parameters: {'svc_c': 13.154969759520327, 'epsilon': 0.9485257989214145}.\n",
      "[I 2019-07-21 22:35:12,944] Finished trial#74 resulted in value: 7.822751989101275. Current best value is 7.6338360638145355 with parameters: {'svc_c': 13.154969759520327, 'epsilon': 0.9485257989214145}.\n",
      "[I 2019-07-21 22:35:13,044] Finished trial#75 resulted in value: 8.215196879303068. Current best value is 7.6338360638145355 with parameters: {'svc_c': 13.154969759520327, 'epsilon': 0.9485257989214145}.\n",
      "[I 2019-07-21 22:35:13,144] Finished trial#76 resulted in value: 8.554279100980558. Current best value is 7.6338360638145355 with parameters: {'svc_c': 13.154969759520327, 'epsilon': 0.9485257989214145}.\n",
      "[I 2019-07-21 22:35:13,244] Finished trial#77 resulted in value: 7.8617081608861294. Current best value is 7.6338360638145355 with parameters: {'svc_c': 13.154969759520327, 'epsilon': 0.9485257989214145}.\n",
      "[I 2019-07-21 22:35:13,346] Finished trial#78 resulted in value: 8.247254716767591. Current best value is 7.6338360638145355 with parameters: {'svc_c': 13.154969759520327, 'epsilon': 0.9485257989214145}.\n",
      "[I 2019-07-21 22:35:13,445] Finished trial#79 resulted in value: 10.009969281074094. Current best value is 7.6338360638145355 with parameters: {'svc_c': 13.154969759520327, 'epsilon': 0.9485257989214145}.\n"
     ]
    },
    {
     "name": "stderr",
     "output_type": "stream",
     "text": [
      "[I 2019-07-21 22:35:13,548] Finished trial#80 resulted in value: 7.654688262604661. Current best value is 7.6338360638145355 with parameters: {'svc_c': 13.154969759520327, 'epsilon': 0.9485257989214145}.\n",
      "[I 2019-07-21 22:35:13,646] Finished trial#81 resulted in value: 9.695266129492785. Current best value is 7.6338360638145355 with parameters: {'svc_c': 13.154969759520327, 'epsilon': 0.9485257989214145}.\n",
      "[I 2019-07-21 22:35:13,748] Finished trial#82 resulted in value: 7.620054392428591. Current best value is 7.620054392428591 with parameters: {'svc_c': 21.877652892973153, 'epsilon': 1.3686214992597119}.\n",
      "[I 2019-07-21 22:35:13,848] Finished trial#83 resulted in value: 8.023000889084235. Current best value is 7.620054392428591 with parameters: {'svc_c': 21.877652892973153, 'epsilon': 1.3686214992597119}.\n",
      "[I 2019-07-21 22:35:13,948] Finished trial#84 resulted in value: 9.461341650532345. Current best value is 7.620054392428591 with parameters: {'svc_c': 21.877652892973153, 'epsilon': 1.3686214992597119}.\n",
      "[I 2019-07-21 22:35:14,049] Finished trial#85 resulted in value: 11.274118990722496. Current best value is 7.620054392428591 with parameters: {'svc_c': 21.877652892973153, 'epsilon': 1.3686214992597119}.\n",
      "[I 2019-07-21 22:35:14,157] Finished trial#86 resulted in value: 13.649693574146099. Current best value is 7.620054392428591 with parameters: {'svc_c': 21.877652892973153, 'epsilon': 1.3686214992597119}.\n",
      "[I 2019-07-21 22:35:14,266] Finished trial#87 resulted in value: 8.6329094914024. Current best value is 7.620054392428591 with parameters: {'svc_c': 21.877652892973153, 'epsilon': 1.3686214992597119}.\n",
      "[I 2019-07-21 22:35:14,366] Finished trial#88 resulted in value: 8.558288843497985. Current best value is 7.620054392428591 with parameters: {'svc_c': 21.877652892973153, 'epsilon': 1.3686214992597119}.\n",
      "[I 2019-07-21 22:35:14,478] Finished trial#89 resulted in value: 8.347625211053442. Current best value is 7.620054392428591 with parameters: {'svc_c': 21.877652892973153, 'epsilon': 1.3686214992597119}.\n",
      "[I 2019-07-21 22:35:14,591] Finished trial#90 resulted in value: 8.752101618367073. Current best value is 7.620054392428591 with parameters: {'svc_c': 21.877652892973153, 'epsilon': 1.3686214992597119}.\n",
      "[I 2019-07-21 22:35:14,699] Finished trial#91 resulted in value: 9.295615261222151. Current best value is 7.620054392428591 with parameters: {'svc_c': 21.877652892973153, 'epsilon': 1.3686214992597119}.\n",
      "[I 2019-07-21 22:35:14,806] Finished trial#92 resulted in value: 11.641294590605463. Current best value is 7.620054392428591 with parameters: {'svc_c': 21.877652892973153, 'epsilon': 1.3686214992597119}.\n",
      "[I 2019-07-21 22:35:14,915] Finished trial#93 resulted in value: 7.614515425185181. Current best value is 7.614515425185181 with parameters: {'svc_c': 13.544150068871302, 'epsilon': 0.8739308486904945}.\n",
      "[I 2019-07-21 22:35:15,015] Finished trial#94 resulted in value: 24.50794122101597. Current best value is 7.614515425185181 with parameters: {'svc_c': 13.544150068871302, 'epsilon': 0.8739308486904945}.\n",
      "[I 2019-07-21 22:35:15,118] Finished trial#95 resulted in value: 7.874221293260078. Current best value is 7.614515425185181 with parameters: {'svc_c': 13.544150068871302, 'epsilon': 0.8739308486904945}.\n",
      "[I 2019-07-21 22:35:15,222] Finished trial#96 resulted in value: 7.8340951816084115. Current best value is 7.614515425185181 with parameters: {'svc_c': 13.544150068871302, 'epsilon': 0.8739308486904945}.\n",
      "[I 2019-07-21 22:35:15,325] Finished trial#97 resulted in value: 8.167858570144055. Current best value is 7.614515425185181 with parameters: {'svc_c': 13.544150068871302, 'epsilon': 0.8739308486904945}.\n",
      "[I 2019-07-21 22:35:15,429] Finished trial#98 resulted in value: 9.558540063351897. Current best value is 7.614515425185181 with parameters: {'svc_c': 13.544150068871302, 'epsilon': 0.8739308486904945}.\n",
      "[I 2019-07-21 22:35:15,538] Finished trial#99 resulted in value: 8.87276798953348. Current best value is 7.614515425185181 with parameters: {'svc_c': 13.544150068871302, 'epsilon': 0.8739308486904945}.\n"
     ]
    }
   ],
   "source": [
    "study=optuna.create_study()\n",
    "study.optimize(objective,n_trials=100)"
   ]
  },
  {
   "cell_type": "markdown",
   "metadata": {},
   "source": [
    "## 最適なハイパーパラメータを確認"
   ]
  },
  {
   "cell_type": "code",
   "execution_count": 9,
   "metadata": {},
   "outputs": [
    {
     "name": "stdout",
     "output_type": "stream",
     "text": [
      "{'svc_c': 13.544150068871302, 'epsilon': 0.8739308486904945}\n",
      "7.614515425185181\n",
      "FrozenTrial(number=93, state=<TrialState.COMPLETE: 1>, value=7.614515425185181, datetime_start=datetime.datetime(2019, 7, 21, 22, 35, 14, 808806), datetime_complete=datetime.datetime(2019, 7, 21, 22, 35, 14, 906583), params={'svc_c': 13.544150068871302, 'epsilon': 0.8739308486904945}, distributions={'svc_c': LogUniformDistribution(low=1.0, high=100.0), 'epsilon': LogUniformDistribution(low=0.1, high=10.0)}, user_attrs={}, system_attrs={'_number': 93}, intermediate_values={}, params_in_internal_repr={'svc_c': 13.544150068871302, 'epsilon': 0.8739308486904945}, trial_id=93)\n"
     ]
    }
   ],
   "source": [
    "print(study.best_params)\n",
    "print(study.best_value)\n",
    "print(study.best_trial)"
   ]
  },
  {
   "cell_type": "markdown",
   "metadata": {},
   "source": [
    "## 得られたハイパーパラメータで学習"
   ]
  },
  {
   "cell_type": "code",
   "execution_count": 12,
   "metadata": {},
   "outputs": [
    {
     "name": "stdout",
     "output_type": "stream",
     "text": [
      "R^2 validation: 0.8666883650210149\n",
      "R^2 test: 0.9147160238229803\n"
     ]
    }
   ],
   "source": [
    "from sklearn.metrics import r2_score\n",
    "model=SVR(C=13.544150068871302,epsilon=0.8739308486904945)\n",
    "model.fit(X_train,y_train)\n",
    "y_pred_val=model.predict(X_val)\n",
    "y_pred_test=model.predict(X_test)\n",
    "\n",
    "print('R^2 validation:',r2_score(y_val,y_pred_val))\n",
    "print('R^2 test:',r2_score(y_test,y_pred_test))"
   ]
  },
  {
   "cell_type": "markdown",
   "metadata": {},
   "source": [
    "## XGBoostの場合"
   ]
  },
  {
   "cell_type": "code",
   "execution_count": 13,
   "metadata": {},
   "outputs": [],
   "source": [
    "import optuna\n",
    "import xgboost as xgb\n",
    "# Objective Functionの作成\n",
    "def objective(trial):\n",
    "    n_estimators = trial.suggest_int('n_estimators', 0, 1000)\n",
    "    max_depth = trial.suggest_int('max_depth', 1, 20)\n",
    "    min_child_weight = trial.suggest_int('min_child_weight', 1, 20)\n",
    "    subsample = trial.suggest_discrete_uniform('subsample', 0.5, 0.9, 0.1)\n",
    "    colsample_bytree = trial.suggest_discrete_uniform('colsample_bytree', 0.5, 0.9, 0.1)\n",
    "    xgboost_reg = xgb.XGBRegressor(\n",
    "        random_state=42,\n",
    "        n_estimators = n_estimators,\n",
    "        max_depth = max_depth,\n",
    "        min_child_weight = min_child_weight,\n",
    "        subsample = subsample,\n",
    "        colsample_bytree = colsample_bytree,\n",
    "    )\n",
    "        # 訓練データで学習\n",
    "    xgboost_reg.fit(X_train,y_train)\n",
    "    # 検証データの予測\n",
    "    y_pred=xgboost_reg.predict(X_val)\n",
    "    # 最小化したい評価指標。検証データでの値を用いる\n",
    "    return mean_squared_error(y_val,y_pred)"
   ]
  },
  {
   "cell_type": "code",
   "execution_count": 15,
   "metadata": {
    "scrolled": false
   },
   "outputs": [
    {
     "name": "stdout",
     "output_type": "stream",
     "text": [
      "[22:44:15] WARNING: C:/Jenkins/workspace/xgboost-win64_release_0.90/src/objective/regression_obj.cu:152: reg:linear is now deprecated in favor of reg:squarederror.\n"
     ]
    },
    {
     "name": "stderr",
     "output_type": "stream",
     "text": [
      "[I 2019-07-21 22:44:15,899] Finished trial#0 resulted in value: 8.682003547785644. Current best value is 8.682003547785644 with parameters: {'n_estimators': 788, 'max_depth': 8, 'min_child_weight': 10, 'subsample': 0.5, 'colsample_bytree': 0.7}.\n"
     ]
    },
    {
     "name": "stdout",
     "output_type": "stream",
     "text": [
      "[22:44:15] WARNING: C:/Jenkins/workspace/xgboost-win64_release_0.90/src/objective/regression_obj.cu:152: reg:linear is now deprecated in favor of reg:squarederror.\n"
     ]
    },
    {
     "name": "stderr",
     "output_type": "stream",
     "text": [
      "[I 2019-07-21 22:44:16,200] Finished trial#1 resulted in value: 9.205659384699254. Current best value is 8.682003547785644 with parameters: {'n_estimators': 788, 'max_depth': 8, 'min_child_weight': 10, 'subsample': 0.5, 'colsample_bytree': 0.7}.\n"
     ]
    },
    {
     "name": "stdout",
     "output_type": "stream",
     "text": [
      "[22:44:16] WARNING: C:/Jenkins/workspace/xgboost-win64_release_0.90/src/objective/regression_obj.cu:152: reg:linear is now deprecated in favor of reg:squarederror.\n"
     ]
    },
    {
     "name": "stderr",
     "output_type": "stream",
     "text": [
      "[I 2019-07-21 22:44:16,610] Finished trial#2 resulted in value: 10.382614318895397. Current best value is 8.682003547785644 with parameters: {'n_estimators': 788, 'max_depth': 8, 'min_child_weight': 10, 'subsample': 0.5, 'colsample_bytree': 0.7}.\n"
     ]
    },
    {
     "name": "stdout",
     "output_type": "stream",
     "text": [
      "[22:44:16] WARNING: C:/Jenkins/workspace/xgboost-win64_release_0.90/src/objective/regression_obj.cu:152: reg:linear is now deprecated in favor of reg:squarederror.\n"
     ]
    },
    {
     "name": "stderr",
     "output_type": "stream",
     "text": [
      "[I 2019-07-21 22:44:16,757] Finished trial#3 resulted in value: 9.11920044547264. Current best value is 8.682003547785644 with parameters: {'n_estimators': 788, 'max_depth': 8, 'min_child_weight': 10, 'subsample': 0.5, 'colsample_bytree': 0.7}.\n"
     ]
    },
    {
     "name": "stdout",
     "output_type": "stream",
     "text": [
      "[22:44:16] WARNING: C:/Jenkins/workspace/xgboost-win64_release_0.90/src/objective/regression_obj.cu:152: reg:linear is now deprecated in favor of reg:squarederror.\n"
     ]
    },
    {
     "name": "stderr",
     "output_type": "stream",
     "text": [
      "[I 2019-07-21 22:44:16,903] Finished trial#4 resulted in value: 7.951467886035083. Current best value is 7.951467886035083 with parameters: {'n_estimators': 114, 'max_depth': 3, 'min_child_weight': 2, 'subsample': 0.7, 'colsample_bytree': 0.6}.\n"
     ]
    },
    {
     "name": "stdout",
     "output_type": "stream",
     "text": [
      "[22:44:16] WARNING: C:/Jenkins/workspace/xgboost-win64_release_0.90/src/objective/regression_obj.cu:152: reg:linear is now deprecated in favor of reg:squarederror.\n"
     ]
    },
    {
     "name": "stderr",
     "output_type": "stream",
     "text": [
      "[I 2019-07-21 22:44:17,108] Finished trial#5 resulted in value: 8.12069885354305. Current best value is 7.951467886035083 with parameters: {'n_estimators': 114, 'max_depth': 3, 'min_child_weight': 2, 'subsample': 0.7, 'colsample_bytree': 0.6}.\n"
     ]
    },
    {
     "name": "stdout",
     "output_type": "stream",
     "text": [
      "[22:44:17] WARNING: C:/Jenkins/workspace/xgboost-win64_release_0.90/src/objective/regression_obj.cu:152: reg:linear is now deprecated in favor of reg:squarederror.\n"
     ]
    },
    {
     "name": "stderr",
     "output_type": "stream",
     "text": [
      "[I 2019-07-21 22:44:17,508] Finished trial#6 resulted in value: 9.258331478022601. Current best value is 7.951467886035083 with parameters: {'n_estimators': 114, 'max_depth': 3, 'min_child_weight': 2, 'subsample': 0.7, 'colsample_bytree': 0.6}.\n"
     ]
    },
    {
     "name": "stdout",
     "output_type": "stream",
     "text": [
      "[22:44:17] WARNING: C:/Jenkins/workspace/xgboost-win64_release_0.90/src/objective/regression_obj.cu:152: reg:linear is now deprecated in favor of reg:squarederror.\n"
     ]
    },
    {
     "name": "stderr",
     "output_type": "stream",
     "text": [
      "[I 2019-07-21 22:44:18,342] Finished trial#7 resulted in value: 7.287327219745584. Current best value is 7.287327219745584 with parameters: {'n_estimators': 980, 'max_depth': 18, 'min_child_weight': 8, 'subsample': 0.7, 'colsample_bytree': 0.6}.\n"
     ]
    },
    {
     "name": "stdout",
     "output_type": "stream",
     "text": [
      "[22:44:18] WARNING: C:/Jenkins/workspace/xgboost-win64_release_0.90/src/objective/regression_obj.cu:152: reg:linear is now deprecated in favor of reg:squarederror.\n"
     ]
    },
    {
     "name": "stderr",
     "output_type": "stream",
     "text": [
      "[I 2019-07-21 22:44:19,196] Finished trial#8 resulted in value: 9.418571511839767. Current best value is 7.287327219745584 with parameters: {'n_estimators': 980, 'max_depth': 18, 'min_child_weight': 8, 'subsample': 0.7, 'colsample_bytree': 0.6}.\n"
     ]
    },
    {
     "name": "stdout",
     "output_type": "stream",
     "text": [
      "[22:44:19] WARNING: C:/Jenkins/workspace/xgboost-win64_release_0.90/src/objective/regression_obj.cu:152: reg:linear is now deprecated in favor of reg:squarederror.\n"
     ]
    },
    {
     "name": "stderr",
     "output_type": "stream",
     "text": [
      "[I 2019-07-21 22:44:19,654] Finished trial#9 resulted in value: 9.591219370721198. Current best value is 7.287327219745584 with parameters: {'n_estimators': 980, 'max_depth': 18, 'min_child_weight': 8, 'subsample': 0.7, 'colsample_bytree': 0.6}.\n"
     ]
    },
    {
     "name": "stdout",
     "output_type": "stream",
     "text": [
      "[22:44:19] WARNING: C:/Jenkins/workspace/xgboost-win64_release_0.90/src/objective/regression_obj.cu:152: reg:linear is now deprecated in favor of reg:squarederror.\n"
     ]
    },
    {
     "name": "stderr",
     "output_type": "stream",
     "text": [
      "[I 2019-07-21 22:44:20,345] Finished trial#10 resulted in value: 8.568022719239776. Current best value is 7.287327219745584 with parameters: {'n_estimators': 980, 'max_depth': 18, 'min_child_weight': 8, 'subsample': 0.7, 'colsample_bytree': 0.6}.\n"
     ]
    },
    {
     "name": "stdout",
     "output_type": "stream",
     "text": [
      "[22:44:20] WARNING: C:/Jenkins/workspace/xgboost-win64_release_0.90/src/objective/regression_obj.cu:152: reg:linear is now deprecated in favor of reg:squarederror.\n"
     ]
    },
    {
     "name": "stderr",
     "output_type": "stream",
     "text": [
      "[I 2019-07-21 22:44:21,060] Finished trial#11 resulted in value: 8.565648580586679. Current best value is 7.287327219745584 with parameters: {'n_estimators': 980, 'max_depth': 18, 'min_child_weight': 8, 'subsample': 0.7, 'colsample_bytree': 0.6}.\n"
     ]
    },
    {
     "name": "stdout",
     "output_type": "stream",
     "text": [
      "[22:44:21] WARNING: C:/Jenkins/workspace/xgboost-win64_release_0.90/src/objective/regression_obj.cu:152: reg:linear is now deprecated in favor of reg:squarederror.\n"
     ]
    },
    {
     "name": "stderr",
     "output_type": "stream",
     "text": [
      "[I 2019-07-21 22:44:21,362] Finished trial#12 resulted in value: 10.331414952098829. Current best value is 7.287327219745584 with parameters: {'n_estimators': 980, 'max_depth': 18, 'min_child_weight': 8, 'subsample': 0.7, 'colsample_bytree': 0.6}.\n"
     ]
    },
    {
     "name": "stdout",
     "output_type": "stream",
     "text": [
      "[22:44:21] WARNING: C:/Jenkins/workspace/xgboost-win64_release_0.90/src/objective/regression_obj.cu:152: reg:linear is now deprecated in favor of reg:squarederror.\n"
     ]
    },
    {
     "name": "stderr",
     "output_type": "stream",
     "text": [
      "[I 2019-07-21 22:44:21,895] Finished trial#13 resulted in value: 10.212130033093215. Current best value is 7.287327219745584 with parameters: {'n_estimators': 980, 'max_depth': 18, 'min_child_weight': 8, 'subsample': 0.7, 'colsample_bytree': 0.6}.\n"
     ]
    },
    {
     "name": "stdout",
     "output_type": "stream",
     "text": [
      "[22:44:21] WARNING: C:/Jenkins/workspace/xgboost-win64_release_0.90/src/objective/regression_obj.cu:152: reg:linear is now deprecated in favor of reg:squarederror.\n"
     ]
    },
    {
     "name": "stderr",
     "output_type": "stream",
     "text": [
      "[I 2019-07-21 22:44:22,479] Finished trial#14 resulted in value: 9.181684626531268. Current best value is 7.287327219745584 with parameters: {'n_estimators': 980, 'max_depth': 18, 'min_child_weight': 8, 'subsample': 0.7, 'colsample_bytree': 0.6}.\n"
     ]
    },
    {
     "name": "stdout",
     "output_type": "stream",
     "text": [
      "[22:44:22] WARNING: C:/Jenkins/workspace/xgboost-win64_release_0.90/src/objective/regression_obj.cu:152: reg:linear is now deprecated in favor of reg:squarederror.\n"
     ]
    },
    {
     "name": "stderr",
     "output_type": "stream",
     "text": [
      "[I 2019-07-21 22:44:22,763] Finished trial#15 resulted in value: 9.433595400451917. Current best value is 7.287327219745584 with parameters: {'n_estimators': 980, 'max_depth': 18, 'min_child_weight': 8, 'subsample': 0.7, 'colsample_bytree': 0.6}.\n"
     ]
    },
    {
     "name": "stdout",
     "output_type": "stream",
     "text": [
      "[22:44:22] WARNING: C:/Jenkins/workspace/xgboost-win64_release_0.90/src/objective/regression_obj.cu:152: reg:linear is now deprecated in favor of reg:squarederror.\n"
     ]
    },
    {
     "name": "stderr",
     "output_type": "stream",
     "text": [
      "[I 2019-07-21 22:44:23,029] Finished trial#16 resulted in value: 8.888476903769403. Current best value is 7.287327219745584 with parameters: {'n_estimators': 980, 'max_depth': 18, 'min_child_weight': 8, 'subsample': 0.7, 'colsample_bytree': 0.6}.\n"
     ]
    },
    {
     "name": "stdout",
     "output_type": "stream",
     "text": [
      "[22:44:23] WARNING: C:/Jenkins/workspace/xgboost-win64_release_0.90/src/objective/regression_obj.cu:152: reg:linear is now deprecated in favor of reg:squarederror.\n"
     ]
    },
    {
     "name": "stderr",
     "output_type": "stream",
     "text": [
      "[I 2019-07-21 22:44:23,150] Finished trial#17 resulted in value: 9.001140232729815. Current best value is 7.287327219745584 with parameters: {'n_estimators': 980, 'max_depth': 18, 'min_child_weight': 8, 'subsample': 0.7, 'colsample_bytree': 0.6}.\n"
     ]
    },
    {
     "name": "stdout",
     "output_type": "stream",
     "text": [
      "[22:44:23] WARNING: C:/Jenkins/workspace/xgboost-win64_release_0.90/src/objective/regression_obj.cu:152: reg:linear is now deprecated in favor of reg:squarederror.\n"
     ]
    },
    {
     "name": "stderr",
     "output_type": "stream",
     "text": [
      "[I 2019-07-21 22:44:23,344] Finished trial#18 resulted in value: 7.2410478302282115. Current best value is 7.2410478302282115 with parameters: {'n_estimators': 210, 'max_depth': 4, 'min_child_weight': 1, 'subsample': 0.5, 'colsample_bytree': 0.5}.\n"
     ]
    },
    {
     "name": "stdout",
     "output_type": "stream",
     "text": [
      "[22:44:23] WARNING: C:/Jenkins/workspace/xgboost-win64_release_0.90/src/objective/regression_obj.cu:152: reg:linear is now deprecated in favor of reg:squarederror.\n"
     ]
    },
    {
     "name": "stderr",
     "output_type": "stream",
     "text": [
      "[I 2019-07-21 22:44:23,547] Finished trial#19 resulted in value: 9.097451057749304. Current best value is 7.2410478302282115 with parameters: {'n_estimators': 210, 'max_depth': 4, 'min_child_weight': 1, 'subsample': 0.5, 'colsample_bytree': 0.5}.\n"
     ]
    },
    {
     "name": "stdout",
     "output_type": "stream",
     "text": [
      "[22:44:23] WARNING: C:/Jenkins/workspace/xgboost-win64_release_0.90/src/objective/regression_obj.cu:152: reg:linear is now deprecated in favor of reg:squarederror.\n"
     ]
    },
    {
     "name": "stderr",
     "output_type": "stream",
     "text": [
      "[I 2019-07-21 22:44:23,817] Finished trial#20 resulted in value: 7.071524791691467. Current best value is 7.071524791691467 with parameters: {'n_estimators': 229, 'max_depth': 10, 'min_child_weight': 1, 'subsample': 0.7, 'colsample_bytree': 0.5}.\n"
     ]
    },
    {
     "name": "stdout",
     "output_type": "stream",
     "text": [
      "[22:44:23] WARNING: C:/Jenkins/workspace/xgboost-win64_release_0.90/src/objective/regression_obj.cu:152: reg:linear is now deprecated in favor of reg:squarederror.\n"
     ]
    },
    {
     "name": "stderr",
     "output_type": "stream",
     "text": [
      "[I 2019-07-21 22:44:23,920] Finished trial#21 resulted in value: 490.5410891089109. Current best value is 7.071524791691467 with parameters: {'n_estimators': 229, 'max_depth': 10, 'min_child_weight': 1, 'subsample': 0.7, 'colsample_bytree': 0.5}.\n"
     ]
    },
    {
     "name": "stdout",
     "output_type": "stream",
     "text": [
      "[22:44:23] WARNING: C:/Jenkins/workspace/xgboost-win64_release_0.90/src/objective/regression_obj.cu:152: reg:linear is now deprecated in favor of reg:squarederror.\n"
     ]
    },
    {
     "name": "stderr",
     "output_type": "stream",
     "text": [
      "[I 2019-07-21 22:44:24,232] Finished trial#22 resulted in value: 7.719319321445792. Current best value is 7.071524791691467 with parameters: {'n_estimators': 229, 'max_depth': 10, 'min_child_weight': 1, 'subsample': 0.7, 'colsample_bytree': 0.5}.\n"
     ]
    },
    {
     "name": "stdout",
     "output_type": "stream",
     "text": [
      "[22:44:24] WARNING: C:/Jenkins/workspace/xgboost-win64_release_0.90/src/objective/regression_obj.cu:152: reg:linear is now deprecated in favor of reg:squarederror.\n"
     ]
    },
    {
     "name": "stderr",
     "output_type": "stream",
     "text": [
      "[I 2019-07-21 22:44:24,615] Finished trial#23 resulted in value: 7.204705467961878. Current best value is 7.071524791691467 with parameters: {'n_estimators': 229, 'max_depth': 10, 'min_child_weight': 1, 'subsample': 0.7, 'colsample_bytree': 0.5}.\n"
     ]
    },
    {
     "name": "stdout",
     "output_type": "stream",
     "text": [
      "[22:44:24] WARNING: C:/Jenkins/workspace/xgboost-win64_release_0.90/src/objective/regression_obj.cu:152: reg:linear is now deprecated in favor of reg:squarederror.\n"
     ]
    },
    {
     "name": "stderr",
     "output_type": "stream",
     "text": [
      "[I 2019-07-21 22:44:25,007] Finished trial#24 resulted in value: 8.906628129192715. Current best value is 7.071524791691467 with parameters: {'n_estimators': 229, 'max_depth': 10, 'min_child_weight': 1, 'subsample': 0.7, 'colsample_bytree': 0.5}.\n"
     ]
    },
    {
     "name": "stdout",
     "output_type": "stream",
     "text": [
      "[22:44:25] WARNING: C:/Jenkins/workspace/xgboost-win64_release_0.90/src/objective/regression_obj.cu:152: reg:linear is now deprecated in favor of reg:squarederror.\n"
     ]
    },
    {
     "name": "stderr",
     "output_type": "stream",
     "text": [
      "[I 2019-07-21 22:44:25,561] Finished trial#25 resulted in value: 8.906598984765031. Current best value is 7.071524791691467 with parameters: {'n_estimators': 229, 'max_depth': 10, 'min_child_weight': 1, 'subsample': 0.7, 'colsample_bytree': 0.5}.\n"
     ]
    },
    {
     "name": "stdout",
     "output_type": "stream",
     "text": [
      "[22:44:25] WARNING: C:/Jenkins/workspace/xgboost-win64_release_0.90/src/objective/regression_obj.cu:152: reg:linear is now deprecated in favor of reg:squarederror.\n"
     ]
    },
    {
     "name": "stderr",
     "output_type": "stream",
     "text": [
      "[I 2019-07-21 22:44:25,941] Finished trial#26 resulted in value: 7.637590264245688. Current best value is 7.071524791691467 with parameters: {'n_estimators': 229, 'max_depth': 10, 'min_child_weight': 1, 'subsample': 0.7, 'colsample_bytree': 0.5}.\n"
     ]
    },
    {
     "name": "stdout",
     "output_type": "stream",
     "text": [
      "[22:44:25] WARNING: C:/Jenkins/workspace/xgboost-win64_release_0.90/src/objective/regression_obj.cu:152: reg:linear is now deprecated in favor of reg:squarederror.\n"
     ]
    },
    {
     "name": "stderr",
     "output_type": "stream",
     "text": [
      "[I 2019-07-21 22:44:26,352] Finished trial#27 resulted in value: 8.417455943958604. Current best value is 7.071524791691467 with parameters: {'n_estimators': 229, 'max_depth': 10, 'min_child_weight': 1, 'subsample': 0.7, 'colsample_bytree': 0.5}.\n"
     ]
    },
    {
     "name": "stdout",
     "output_type": "stream",
     "text": [
      "[22:44:26] WARNING: C:/Jenkins/workspace/xgboost-win64_release_0.90/src/objective/regression_obj.cu:152: reg:linear is now deprecated in favor of reg:squarederror.\n"
     ]
    },
    {
     "name": "stderr",
     "output_type": "stream",
     "text": [
      "[I 2019-07-21 22:44:26,633] Finished trial#28 resulted in value: 8.1688039526064. Current best value is 7.071524791691467 with parameters: {'n_estimators': 229, 'max_depth': 10, 'min_child_weight': 1, 'subsample': 0.7, 'colsample_bytree': 0.5}.\n"
     ]
    },
    {
     "name": "stdout",
     "output_type": "stream",
     "text": [
      "[22:44:26] WARNING: C:/Jenkins/workspace/xgboost-win64_release_0.90/src/objective/regression_obj.cu:152: reg:linear is now deprecated in favor of reg:squarederror.\n"
     ]
    },
    {
     "name": "stderr",
     "output_type": "stream",
     "text": [
      "[I 2019-07-21 22:44:26,758] Finished trial#29 resulted in value: 33.9424774690016. Current best value is 7.071524791691467 with parameters: {'n_estimators': 229, 'max_depth': 10, 'min_child_weight': 1, 'subsample': 0.7, 'colsample_bytree': 0.5}.\n"
     ]
    },
    {
     "name": "stdout",
     "output_type": "stream",
     "text": [
      "[22:44:26] WARNING: C:/Jenkins/workspace/xgboost-win64_release_0.90/src/objective/regression_obj.cu:152: reg:linear is now deprecated in favor of reg:squarederror.\n"
     ]
    },
    {
     "name": "stderr",
     "output_type": "stream",
     "text": [
      "[I 2019-07-21 22:44:27,258] Finished trial#30 resulted in value: 7.911668514988491. Current best value is 7.071524791691467 with parameters: {'n_estimators': 229, 'max_depth': 10, 'min_child_weight': 1, 'subsample': 0.7, 'colsample_bytree': 0.5}.\n"
     ]
    },
    {
     "name": "stdout",
     "output_type": "stream",
     "text": [
      "[22:44:27] WARNING: C:/Jenkins/workspace/xgboost-win64_release_0.90/src/objective/regression_obj.cu:152: reg:linear is now deprecated in favor of reg:squarederror.\n"
     ]
    },
    {
     "name": "stderr",
     "output_type": "stream",
     "text": [
      "[I 2019-07-21 22:44:27,674] Finished trial#31 resulted in value: 8.189132087743845. Current best value is 7.071524791691467 with parameters: {'n_estimators': 229, 'max_depth': 10, 'min_child_weight': 1, 'subsample': 0.7, 'colsample_bytree': 0.5}.\n"
     ]
    },
    {
     "name": "stdout",
     "output_type": "stream",
     "text": [
      "[22:44:27] WARNING: C:/Jenkins/workspace/xgboost-win64_release_0.90/src/objective/regression_obj.cu:152: reg:linear is now deprecated in favor of reg:squarederror.\n"
     ]
    },
    {
     "name": "stderr",
     "output_type": "stream",
     "text": [
      "[I 2019-07-21 22:44:27,879] Finished trial#32 resulted in value: 8.295183765621186. Current best value is 7.071524791691467 with parameters: {'n_estimators': 229, 'max_depth': 10, 'min_child_weight': 1, 'subsample': 0.7, 'colsample_bytree': 0.5}.\n"
     ]
    },
    {
     "name": "stdout",
     "output_type": "stream",
     "text": [
      "[22:44:27] WARNING: C:/Jenkins/workspace/xgboost-win64_release_0.90/src/objective/regression_obj.cu:152: reg:linear is now deprecated in favor of reg:squarederror.\n"
     ]
    },
    {
     "name": "stderr",
     "output_type": "stream",
     "text": [
      "[I 2019-07-21 22:44:28,354] Finished trial#33 resulted in value: 10.488317162707352. Current best value is 7.071524791691467 with parameters: {'n_estimators': 229, 'max_depth': 10, 'min_child_weight': 1, 'subsample': 0.7, 'colsample_bytree': 0.5}.\n"
     ]
    },
    {
     "name": "stdout",
     "output_type": "stream",
     "text": [
      "[22:44:28] WARNING: C:/Jenkins/workspace/xgboost-win64_release_0.90/src/objective/regression_obj.cu:152: reg:linear is now deprecated in favor of reg:squarederror.\n"
     ]
    },
    {
     "name": "stderr",
     "output_type": "stream",
     "text": [
      "[I 2019-07-21 22:44:28,746] Finished trial#34 resulted in value: 7.833473047256625. Current best value is 7.071524791691467 with parameters: {'n_estimators': 229, 'max_depth': 10, 'min_child_weight': 1, 'subsample': 0.7, 'colsample_bytree': 0.5}.\n"
     ]
    },
    {
     "name": "stdout",
     "output_type": "stream",
     "text": [
      "[22:44:28] WARNING: C:/Jenkins/workspace/xgboost-win64_release_0.90/src/objective/regression_obj.cu:152: reg:linear is now deprecated in favor of reg:squarederror.\n"
     ]
    },
    {
     "name": "stderr",
     "output_type": "stream",
     "text": [
      "[I 2019-07-21 22:44:28,899] Finished trial#35 resulted in value: 7.58665761495648. Current best value is 7.071524791691467 with parameters: {'n_estimators': 229, 'max_depth': 10, 'min_child_weight': 1, 'subsample': 0.7, 'colsample_bytree': 0.5}.\n"
     ]
    },
    {
     "name": "stdout",
     "output_type": "stream",
     "text": [
      "[22:44:28] WARNING: C:/Jenkins/workspace/xgboost-win64_release_0.90/src/objective/regression_obj.cu:152: reg:linear is now deprecated in favor of reg:squarederror.\n"
     ]
    },
    {
     "name": "stderr",
     "output_type": "stream",
     "text": [
      "[I 2019-07-21 22:44:29,321] Finished trial#36 resulted in value: 8.548827666202168. Current best value is 7.071524791691467 with parameters: {'n_estimators': 229, 'max_depth': 10, 'min_child_weight': 1, 'subsample': 0.7, 'colsample_bytree': 0.5}.\n"
     ]
    },
    {
     "name": "stdout",
     "output_type": "stream",
     "text": [
      "[22:44:29] WARNING: C:/Jenkins/workspace/xgboost-win64_release_0.90/src/objective/regression_obj.cu:152: reg:linear is now deprecated in favor of reg:squarederror.\n"
     ]
    },
    {
     "name": "stderr",
     "output_type": "stream",
     "text": [
      "[I 2019-07-21 22:44:29,605] Finished trial#37 resulted in value: 8.063362603836467. Current best value is 7.071524791691467 with parameters: {'n_estimators': 229, 'max_depth': 10, 'min_child_weight': 1, 'subsample': 0.7, 'colsample_bytree': 0.5}.\n"
     ]
    },
    {
     "name": "stdout",
     "output_type": "stream",
     "text": [
      "[22:44:29] WARNING: C:/Jenkins/workspace/xgboost-win64_release_0.90/src/objective/regression_obj.cu:152: reg:linear is now deprecated in favor of reg:squarederror.\n"
     ]
    },
    {
     "name": "stderr",
     "output_type": "stream",
     "text": [
      "[I 2019-07-21 22:44:29,908] Finished trial#38 resulted in value: 7.4985609958832935. Current best value is 7.071524791691467 with parameters: {'n_estimators': 229, 'max_depth': 10, 'min_child_weight': 1, 'subsample': 0.7, 'colsample_bytree': 0.5}.\n"
     ]
    },
    {
     "name": "stdout",
     "output_type": "stream",
     "text": [
      "[22:44:29] WARNING: C:/Jenkins/workspace/xgboost-win64_release_0.90/src/objective/regression_obj.cu:152: reg:linear is now deprecated in favor of reg:squarederror.\n"
     ]
    },
    {
     "name": "stderr",
     "output_type": "stream",
     "text": [
      "[I 2019-07-21 22:44:30,460] Finished trial#39 resulted in value: 7.98382132351715. Current best value is 7.071524791691467 with parameters: {'n_estimators': 229, 'max_depth': 10, 'min_child_weight': 1, 'subsample': 0.7, 'colsample_bytree': 0.5}.\n"
     ]
    },
    {
     "name": "stdout",
     "output_type": "stream",
     "text": [
      "[22:44:30] WARNING: C:/Jenkins/workspace/xgboost-win64_release_0.90/src/objective/regression_obj.cu:152: reg:linear is now deprecated in favor of reg:squarederror.\n"
     ]
    },
    {
     "name": "stderr",
     "output_type": "stream",
     "text": [
      "[I 2019-07-21 22:44:30,848] Finished trial#40 resulted in value: 7.309967916285507. Current best value is 7.071524791691467 with parameters: {'n_estimators': 229, 'max_depth': 10, 'min_child_weight': 1, 'subsample': 0.7, 'colsample_bytree': 0.5}.\n"
     ]
    },
    {
     "name": "stdout",
     "output_type": "stream",
     "text": [
      "[22:44:30] WARNING: C:/Jenkins/workspace/xgboost-win64_release_0.90/src/objective/regression_obj.cu:152: reg:linear is now deprecated in favor of reg:squarederror.\n"
     ]
    },
    {
     "name": "stderr",
     "output_type": "stream",
     "text": [
      "[I 2019-07-21 22:44:30,989] Finished trial#41 resulted in value: 9.603043009418851. Current best value is 7.071524791691467 with parameters: {'n_estimators': 229, 'max_depth': 10, 'min_child_weight': 1, 'subsample': 0.7, 'colsample_bytree': 0.5}.\n"
     ]
    },
    {
     "name": "stdout",
     "output_type": "stream",
     "text": [
      "[22:44:31] WARNING: C:/Jenkins/workspace/xgboost-win64_release_0.90/src/objective/regression_obj.cu:152: reg:linear is now deprecated in favor of reg:squarederror.\n"
     ]
    },
    {
     "name": "stderr",
     "output_type": "stream",
     "text": [
      "[I 2019-07-21 22:44:31,375] Finished trial#42 resulted in value: 12.068413479968351. Current best value is 7.071524791691467 with parameters: {'n_estimators': 229, 'max_depth': 10, 'min_child_weight': 1, 'subsample': 0.7, 'colsample_bytree': 0.5}.\n"
     ]
    },
    {
     "name": "stdout",
     "output_type": "stream",
     "text": [
      "[22:44:31] WARNING: C:/Jenkins/workspace/xgboost-win64_release_0.90/src/objective/regression_obj.cu:152: reg:linear is now deprecated in favor of reg:squarederror.\n"
     ]
    },
    {
     "name": "stderr",
     "output_type": "stream",
     "text": [
      "[I 2019-07-21 22:44:31,999] Finished trial#43 resulted in value: 6.812955904116293. Current best value is 6.812955904116293 with parameters: {'n_estimators': 691, 'max_depth': 13, 'min_child_weight': 2, 'subsample': 0.7, 'colsample_bytree': 0.7}.\n"
     ]
    },
    {
     "name": "stdout",
     "output_type": "stream",
     "text": [
      "[22:44:32] WARNING: C:/Jenkins/workspace/xgboost-win64_release_0.90/src/objective/regression_obj.cu:152: reg:linear is now deprecated in favor of reg:squarederror.\n"
     ]
    },
    {
     "name": "stderr",
     "output_type": "stream",
     "text": [
      "[I 2019-07-21 22:44:32,690] Finished trial#44 resulted in value: 6.830882426540531. Current best value is 6.812955904116293 with parameters: {'n_estimators': 691, 'max_depth': 13, 'min_child_weight': 2, 'subsample': 0.7, 'colsample_bytree': 0.7}.\n"
     ]
    },
    {
     "name": "stdout",
     "output_type": "stream",
     "text": [
      "[22:44:32] WARNING: C:/Jenkins/workspace/xgboost-win64_release_0.90/src/objective/regression_obj.cu:152: reg:linear is now deprecated in favor of reg:squarederror.\n"
     ]
    },
    {
     "name": "stderr",
     "output_type": "stream",
     "text": [
      "[I 2019-07-21 22:44:33,425] Finished trial#45 resulted in value: 8.726385821881085. Current best value is 6.812955904116293 with parameters: {'n_estimators': 691, 'max_depth': 13, 'min_child_weight': 2, 'subsample': 0.7, 'colsample_bytree': 0.7}.\n"
     ]
    },
    {
     "name": "stdout",
     "output_type": "stream",
     "text": [
      "[22:44:33] WARNING: C:/Jenkins/workspace/xgboost-win64_release_0.90/src/objective/regression_obj.cu:152: reg:linear is now deprecated in favor of reg:squarederror.\n"
     ]
    },
    {
     "name": "stderr",
     "output_type": "stream",
     "text": [
      "[I 2019-07-21 22:44:34,239] Finished trial#46 resulted in value: 8.772888778863518. Current best value is 6.812955904116293 with parameters: {'n_estimators': 691, 'max_depth': 13, 'min_child_weight': 2, 'subsample': 0.7, 'colsample_bytree': 0.7}.\n"
     ]
    },
    {
     "name": "stdout",
     "output_type": "stream",
     "text": [
      "[22:44:34] WARNING: C:/Jenkins/workspace/xgboost-win64_release_0.90/src/objective/regression_obj.cu:152: reg:linear is now deprecated in favor of reg:squarederror.\n"
     ]
    },
    {
     "name": "stderr",
     "output_type": "stream",
     "text": [
      "[I 2019-07-21 22:44:34,757] Finished trial#47 resulted in value: 9.80208162028611. Current best value is 6.812955904116293 with parameters: {'n_estimators': 691, 'max_depth': 13, 'min_child_weight': 2, 'subsample': 0.7, 'colsample_bytree': 0.7}.\n"
     ]
    },
    {
     "name": "stdout",
     "output_type": "stream",
     "text": [
      "[22:44:34] WARNING: C:/Jenkins/workspace/xgboost-win64_release_0.90/src/objective/regression_obj.cu:152: reg:linear is now deprecated in favor of reg:squarederror.\n"
     ]
    },
    {
     "name": "stderr",
     "output_type": "stream",
     "text": [
      "[I 2019-07-21 22:44:35,400] Finished trial#48 resulted in value: 8.474826262803749. Current best value is 6.812955904116293 with parameters: {'n_estimators': 691, 'max_depth': 13, 'min_child_weight': 2, 'subsample': 0.7, 'colsample_bytree': 0.7}.\n"
     ]
    },
    {
     "name": "stdout",
     "output_type": "stream",
     "text": [
      "[22:44:35] WARNING: C:/Jenkins/workspace/xgboost-win64_release_0.90/src/objective/regression_obj.cu:152: reg:linear is now deprecated in favor of reg:squarederror.\n"
     ]
    },
    {
     "name": "stderr",
     "output_type": "stream",
     "text": [
      "[I 2019-07-21 22:44:35,919] Finished trial#49 resulted in value: 9.268461990560807. Current best value is 6.812955904116293 with parameters: {'n_estimators': 691, 'max_depth': 13, 'min_child_weight': 2, 'subsample': 0.7, 'colsample_bytree': 0.7}.\n"
     ]
    },
    {
     "name": "stdout",
     "output_type": "stream",
     "text": [
      "[22:44:35] WARNING: C:/Jenkins/workspace/xgboost-win64_release_0.90/src/objective/regression_obj.cu:152: reg:linear is now deprecated in favor of reg:squarederror.\n"
     ]
    },
    {
     "name": "stderr",
     "output_type": "stream",
     "text": [
      "[I 2019-07-21 22:44:36,524] Finished trial#50 resulted in value: 8.153804014240013. Current best value is 6.812955904116293 with parameters: {'n_estimators': 691, 'max_depth': 13, 'min_child_weight': 2, 'subsample': 0.7, 'colsample_bytree': 0.7}.\n"
     ]
    },
    {
     "name": "stdout",
     "output_type": "stream",
     "text": [
      "[22:44:36] WARNING: C:/Jenkins/workspace/xgboost-win64_release_0.90/src/objective/regression_obj.cu:152: reg:linear is now deprecated in favor of reg:squarederror.\n"
     ]
    },
    {
     "name": "stderr",
     "output_type": "stream",
     "text": [
      "[I 2019-07-21 22:44:37,326] Finished trial#51 resulted in value: 9.776859986695928. Current best value is 6.812955904116293 with parameters: {'n_estimators': 691, 'max_depth': 13, 'min_child_weight': 2, 'subsample': 0.7, 'colsample_bytree': 0.7}.\n"
     ]
    },
    {
     "name": "stdout",
     "output_type": "stream",
     "text": [
      "[22:44:37] WARNING: C:/Jenkins/workspace/xgboost-win64_release_0.90/src/objective/regression_obj.cu:152: reg:linear is now deprecated in favor of reg:squarederror.\n"
     ]
    },
    {
     "name": "stderr",
     "output_type": "stream",
     "text": [
      "[I 2019-07-21 22:44:37,839] Finished trial#52 resulted in value: 8.741561052026436. Current best value is 6.812955904116293 with parameters: {'n_estimators': 691, 'max_depth': 13, 'min_child_weight': 2, 'subsample': 0.7, 'colsample_bytree': 0.7}.\n"
     ]
    },
    {
     "name": "stdout",
     "output_type": "stream",
     "text": [
      "[22:44:37] WARNING: C:/Jenkins/workspace/xgboost-win64_release_0.90/src/objective/regression_obj.cu:152: reg:linear is now deprecated in favor of reg:squarederror.\n"
     ]
    },
    {
     "name": "stderr",
     "output_type": "stream",
     "text": [
      "[I 2019-07-21 22:44:38,483] Finished trial#53 resulted in value: 8.131036620331026. Current best value is 6.812955904116293 with parameters: {'n_estimators': 691, 'max_depth': 13, 'min_child_weight': 2, 'subsample': 0.7, 'colsample_bytree': 0.7}.\n"
     ]
    },
    {
     "name": "stdout",
     "output_type": "stream",
     "text": [
      "[22:44:38] WARNING: C:/Jenkins/workspace/xgboost-win64_release_0.90/src/objective/regression_obj.cu:152: reg:linear is now deprecated in favor of reg:squarederror.\n"
     ]
    },
    {
     "name": "stderr",
     "output_type": "stream",
     "text": [
      "[I 2019-07-21 22:44:39,250] Finished trial#54 resulted in value: 8.68516865011996. Current best value is 6.812955904116293 with parameters: {'n_estimators': 691, 'max_depth': 13, 'min_child_weight': 2, 'subsample': 0.7, 'colsample_bytree': 0.7}.\n"
     ]
    },
    {
     "name": "stdout",
     "output_type": "stream",
     "text": [
      "[22:44:39] WARNING: C:/Jenkins/workspace/xgboost-win64_release_0.90/src/objective/regression_obj.cu:152: reg:linear is now deprecated in favor of reg:squarederror.\n"
     ]
    },
    {
     "name": "stderr",
     "output_type": "stream",
     "text": [
      "[I 2019-07-21 22:44:39,929] Finished trial#55 resulted in value: 9.123761311740877. Current best value is 6.812955904116293 with parameters: {'n_estimators': 691, 'max_depth': 13, 'min_child_weight': 2, 'subsample': 0.7, 'colsample_bytree': 0.7}.\n"
     ]
    },
    {
     "name": "stdout",
     "output_type": "stream",
     "text": [
      "[22:44:39] WARNING: C:/Jenkins/workspace/xgboost-win64_release_0.90/src/objective/regression_obj.cu:152: reg:linear is now deprecated in favor of reg:squarederror.\n"
     ]
    },
    {
     "name": "stderr",
     "output_type": "stream",
     "text": [
      "[I 2019-07-21 22:44:40,576] Finished trial#56 resulted in value: 9.573666278170563. Current best value is 6.812955904116293 with parameters: {'n_estimators': 691, 'max_depth': 13, 'min_child_weight': 2, 'subsample': 0.7, 'colsample_bytree': 0.7}.\n"
     ]
    },
    {
     "name": "stdout",
     "output_type": "stream",
     "text": [
      "[22:44:40] WARNING: C:/Jenkins/workspace/xgboost-win64_release_0.90/src/objective/regression_obj.cu:152: reg:linear is now deprecated in favor of reg:squarederror.\n"
     ]
    },
    {
     "name": "stderr",
     "output_type": "stream",
     "text": [
      "[I 2019-07-21 22:44:41,475] Finished trial#57 resulted in value: 9.3377236047056. Current best value is 6.812955904116293 with parameters: {'n_estimators': 691, 'max_depth': 13, 'min_child_weight': 2, 'subsample': 0.7, 'colsample_bytree': 0.7}.\n"
     ]
    },
    {
     "name": "stdout",
     "output_type": "stream",
     "text": [
      "[22:44:41] WARNING: C:/Jenkins/workspace/xgboost-win64_release_0.90/src/objective/regression_obj.cu:152: reg:linear is now deprecated in favor of reg:squarederror.\n"
     ]
    },
    {
     "name": "stderr",
     "output_type": "stream",
     "text": [
      "[I 2019-07-21 22:44:42,306] Finished trial#58 resulted in value: 9.695958712685055. Current best value is 6.812955904116293 with parameters: {'n_estimators': 691, 'max_depth': 13, 'min_child_weight': 2, 'subsample': 0.7, 'colsample_bytree': 0.7}.\n"
     ]
    },
    {
     "name": "stdout",
     "output_type": "stream",
     "text": [
      "[22:44:42] WARNING: C:/Jenkins/workspace/xgboost-win64_release_0.90/src/objective/regression_obj.cu:152: reg:linear is now deprecated in favor of reg:squarederror.\n"
     ]
    },
    {
     "name": "stderr",
     "output_type": "stream",
     "text": [
      "[I 2019-07-21 22:44:42,886] Finished trial#59 resulted in value: 9.382966945571482. Current best value is 6.812955904116293 with parameters: {'n_estimators': 691, 'max_depth': 13, 'min_child_weight': 2, 'subsample': 0.7, 'colsample_bytree': 0.7}.\n"
     ]
    },
    {
     "name": "stdout",
     "output_type": "stream",
     "text": [
      "[22:44:42] WARNING: C:/Jenkins/workspace/xgboost-win64_release_0.90/src/objective/regression_obj.cu:152: reg:linear is now deprecated in favor of reg:squarederror.\n"
     ]
    },
    {
     "name": "stderr",
     "output_type": "stream",
     "text": [
      "[I 2019-07-21 22:44:43,530] Finished trial#60 resulted in value: 7.712986234239265. Current best value is 6.812955904116293 with parameters: {'n_estimators': 691, 'max_depth': 13, 'min_child_weight': 2, 'subsample': 0.7, 'colsample_bytree': 0.7}.\n"
     ]
    },
    {
     "name": "stdout",
     "output_type": "stream",
     "text": [
      "[22:44:43] WARNING: C:/Jenkins/workspace/xgboost-win64_release_0.90/src/objective/regression_obj.cu:152: reg:linear is now deprecated in favor of reg:squarederror.\n"
     ]
    },
    {
     "name": "stderr",
     "output_type": "stream",
     "text": [
      "[I 2019-07-21 22:44:44,058] Finished trial#61 resulted in value: 9.195312117515671. Current best value is 6.812955904116293 with parameters: {'n_estimators': 691, 'max_depth': 13, 'min_child_weight': 2, 'subsample': 0.7, 'colsample_bytree': 0.7}.\n"
     ]
    },
    {
     "name": "stdout",
     "output_type": "stream",
     "text": [
      "[22:44:44] WARNING: C:/Jenkins/workspace/xgboost-win64_release_0.90/src/objective/regression_obj.cu:152: reg:linear is now deprecated in favor of reg:squarederror.\n"
     ]
    },
    {
     "name": "stderr",
     "output_type": "stream",
     "text": [
      "[I 2019-07-21 22:44:44,567] Finished trial#62 resulted in value: 8.6817454236521. Current best value is 6.812955904116293 with parameters: {'n_estimators': 691, 'max_depth': 13, 'min_child_weight': 2, 'subsample': 0.7, 'colsample_bytree': 0.7}.\n"
     ]
    },
    {
     "name": "stdout",
     "output_type": "stream",
     "text": [
      "[22:44:44] WARNING: C:/Jenkins/workspace/xgboost-win64_release_0.90/src/objective/regression_obj.cu:152: reg:linear is now deprecated in favor of reg:squarederror.\n"
     ]
    },
    {
     "name": "stderr",
     "output_type": "stream",
     "text": [
      "[I 2019-07-21 22:44:45,245] Finished trial#63 resulted in value: 8.051280147133205. Current best value is 6.812955904116293 with parameters: {'n_estimators': 691, 'max_depth': 13, 'min_child_weight': 2, 'subsample': 0.7, 'colsample_bytree': 0.7}.\n"
     ]
    },
    {
     "name": "stdout",
     "output_type": "stream",
     "text": [
      "[22:44:45] WARNING: C:/Jenkins/workspace/xgboost-win64_release_0.90/src/objective/regression_obj.cu:152: reg:linear is now deprecated in favor of reg:squarederror.\n"
     ]
    },
    {
     "name": "stderr",
     "output_type": "stream",
     "text": [
      "[I 2019-07-21 22:44:45,645] Finished trial#64 resulted in value: 8.356864000607889. Current best value is 6.812955904116293 with parameters: {'n_estimators': 691, 'max_depth': 13, 'min_child_weight': 2, 'subsample': 0.7, 'colsample_bytree': 0.7}.\n"
     ]
    },
    {
     "name": "stdout",
     "output_type": "stream",
     "text": [
      "[22:44:45] WARNING: C:/Jenkins/workspace/xgboost-win64_release_0.90/src/objective/regression_obj.cu:152: reg:linear is now deprecated in favor of reg:squarederror.\n"
     ]
    },
    {
     "name": "stderr",
     "output_type": "stream",
     "text": [
      "[I 2019-07-21 22:44:46,056] Finished trial#65 resulted in value: 7.230978218588494. Current best value is 6.812955904116293 with parameters: {'n_estimators': 691, 'max_depth': 13, 'min_child_weight': 2, 'subsample': 0.7, 'colsample_bytree': 0.7}.\n"
     ]
    },
    {
     "name": "stdout",
     "output_type": "stream",
     "text": [
      "[22:44:46] WARNING: C:/Jenkins/workspace/xgboost-win64_release_0.90/src/objective/regression_obj.cu:152: reg:linear is now deprecated in favor of reg:squarederror.\n"
     ]
    },
    {
     "name": "stderr",
     "output_type": "stream",
     "text": [
      "[I 2019-07-21 22:44:46,582] Finished trial#66 resulted in value: 7.421478915892744. Current best value is 6.812955904116293 with parameters: {'n_estimators': 691, 'max_depth': 13, 'min_child_weight': 2, 'subsample': 0.7, 'colsample_bytree': 0.7}.\n"
     ]
    },
    {
     "name": "stdout",
     "output_type": "stream",
     "text": [
      "[22:44:46] WARNING: C:/Jenkins/workspace/xgboost-win64_release_0.90/src/objective/regression_obj.cu:152: reg:linear is now deprecated in favor of reg:squarederror.\n"
     ]
    },
    {
     "name": "stderr",
     "output_type": "stream",
     "text": [
      "[I 2019-07-21 22:44:46,832] Finished trial#67 resulted in value: 7.0179260371575385. Current best value is 6.812955904116293 with parameters: {'n_estimators': 691, 'max_depth': 13, 'min_child_weight': 2, 'subsample': 0.7, 'colsample_bytree': 0.7}.\n"
     ]
    },
    {
     "name": "stdout",
     "output_type": "stream",
     "text": [
      "[22:44:46] WARNING: C:/Jenkins/workspace/xgboost-win64_release_0.90/src/objective/regression_obj.cu:152: reg:linear is now deprecated in favor of reg:squarederror.\n"
     ]
    },
    {
     "name": "stderr",
     "output_type": "stream",
     "text": [
      "[I 2019-07-21 22:44:47,527] Finished trial#68 resulted in value: 8.02484055383215. Current best value is 6.812955904116293 with parameters: {'n_estimators': 691, 'max_depth': 13, 'min_child_weight': 2, 'subsample': 0.7, 'colsample_bytree': 0.7}.\n"
     ]
    },
    {
     "name": "stdout",
     "output_type": "stream",
     "text": [
      "[22:44:47] WARNING: C:/Jenkins/workspace/xgboost-win64_release_0.90/src/objective/regression_obj.cu:152: reg:linear is now deprecated in favor of reg:squarederror.\n"
     ]
    },
    {
     "name": "stderr",
     "output_type": "stream",
     "text": [
      "[I 2019-07-21 22:44:48,175] Finished trial#69 resulted in value: 9.122283506848651. Current best value is 6.812955904116293 with parameters: {'n_estimators': 691, 'max_depth': 13, 'min_child_weight': 2, 'subsample': 0.7, 'colsample_bytree': 0.7}.\n"
     ]
    },
    {
     "name": "stdout",
     "output_type": "stream",
     "text": [
      "[22:44:48] WARNING: C:/Jenkins/workspace/xgboost-win64_release_0.90/src/objective/regression_obj.cu:152: reg:linear is now deprecated in favor of reg:squarederror.\n"
     ]
    },
    {
     "name": "stderr",
     "output_type": "stream",
     "text": [
      "[I 2019-07-21 22:44:48,784] Finished trial#70 resulted in value: 7.712953254925358. Current best value is 6.812955904116293 with parameters: {'n_estimators': 691, 'max_depth': 13, 'min_child_weight': 2, 'subsample': 0.7, 'colsample_bytree': 0.7}.\n"
     ]
    },
    {
     "name": "stdout",
     "output_type": "stream",
     "text": [
      "[22:44:48] WARNING: C:/Jenkins/workspace/xgboost-win64_release_0.90/src/objective/regression_obj.cu:152: reg:linear is now deprecated in favor of reg:squarederror.\n"
     ]
    },
    {
     "name": "stderr",
     "output_type": "stream",
     "text": [
      "[I 2019-07-21 22:44:49,094] Finished trial#71 resulted in value: 9.571625505176698. Current best value is 6.812955904116293 with parameters: {'n_estimators': 691, 'max_depth': 13, 'min_child_weight': 2, 'subsample': 0.7, 'colsample_bytree': 0.7}.\n"
     ]
    },
    {
     "name": "stdout",
     "output_type": "stream",
     "text": [
      "[22:44:49] WARNING: C:/Jenkins/workspace/xgboost-win64_release_0.90/src/objective/regression_obj.cu:152: reg:linear is now deprecated in favor of reg:squarederror.\n"
     ]
    },
    {
     "name": "stderr",
     "output_type": "stream",
     "text": [
      "[I 2019-07-21 22:44:49,550] Finished trial#72 resulted in value: 7.588719964886144. Current best value is 6.812955904116293 with parameters: {'n_estimators': 691, 'max_depth': 13, 'min_child_weight': 2, 'subsample': 0.7, 'colsample_bytree': 0.7}.\n"
     ]
    },
    {
     "name": "stdout",
     "output_type": "stream",
     "text": [
      "[22:44:49] WARNING: C:/Jenkins/workspace/xgboost-win64_release_0.90/src/objective/regression_obj.cu:152: reg:linear is now deprecated in favor of reg:squarederror.\n"
     ]
    },
    {
     "name": "stderr",
     "output_type": "stream",
     "text": [
      "[I 2019-07-21 22:44:50,209] Finished trial#73 resulted in value: 8.665979806246291. Current best value is 6.812955904116293 with parameters: {'n_estimators': 691, 'max_depth': 13, 'min_child_weight': 2, 'subsample': 0.7, 'colsample_bytree': 0.7}.\n"
     ]
    },
    {
     "name": "stdout",
     "output_type": "stream",
     "text": [
      "[22:44:50] WARNING: C:/Jenkins/workspace/xgboost-win64_release_0.90/src/objective/regression_obj.cu:152: reg:linear is now deprecated in favor of reg:squarederror.\n"
     ]
    },
    {
     "name": "stderr",
     "output_type": "stream",
     "text": [
      "[I 2019-07-21 22:44:50,417] Finished trial#74 resulted in value: 8.941035697407811. Current best value is 6.812955904116293 with parameters: {'n_estimators': 691, 'max_depth': 13, 'min_child_weight': 2, 'subsample': 0.7, 'colsample_bytree': 0.7}.\n"
     ]
    },
    {
     "name": "stdout",
     "output_type": "stream",
     "text": [
      "[22:44:50] WARNING: C:/Jenkins/workspace/xgboost-win64_release_0.90/src/objective/regression_obj.cu:152: reg:linear is now deprecated in favor of reg:squarederror.\n"
     ]
    },
    {
     "name": "stderr",
     "output_type": "stream",
     "text": [
      "[I 2019-07-21 22:44:50,952] Finished trial#75 resulted in value: 9.517501859884378. Current best value is 6.812955904116293 with parameters: {'n_estimators': 691, 'max_depth': 13, 'min_child_weight': 2, 'subsample': 0.7, 'colsample_bytree': 0.7}.\n"
     ]
    },
    {
     "name": "stdout",
     "output_type": "stream",
     "text": [
      "[22:44:51] WARNING: C:/Jenkins/workspace/xgboost-win64_release_0.90/src/objective/regression_obj.cu:152: reg:linear is now deprecated in favor of reg:squarederror.\n"
     ]
    },
    {
     "name": "stderr",
     "output_type": "stream",
     "text": [
      "[I 2019-07-21 22:44:51,723] Finished trial#76 resulted in value: 9.630591429077661. Current best value is 6.812955904116293 with parameters: {'n_estimators': 691, 'max_depth': 13, 'min_child_weight': 2, 'subsample': 0.7, 'colsample_bytree': 0.7}.\n"
     ]
    },
    {
     "name": "stdout",
     "output_type": "stream",
     "text": [
      "[22:44:51] WARNING: C:/Jenkins/workspace/xgboost-win64_release_0.90/src/objective/regression_obj.cu:152: reg:linear is now deprecated in favor of reg:squarederror.\n"
     ]
    },
    {
     "name": "stderr",
     "output_type": "stream",
     "text": [
      "[I 2019-07-21 22:44:51,947] Finished trial#77 resulted in value: 8.996844628036651. Current best value is 6.812955904116293 with parameters: {'n_estimators': 691, 'max_depth': 13, 'min_child_weight': 2, 'subsample': 0.7, 'colsample_bytree': 0.7}.\n"
     ]
    },
    {
     "name": "stdout",
     "output_type": "stream",
     "text": [
      "[22:44:52] WARNING: C:/Jenkins/workspace/xgboost-win64_release_0.90/src/objective/regression_obj.cu:152: reg:linear is now deprecated in favor of reg:squarederror.\n"
     ]
    },
    {
     "name": "stderr",
     "output_type": "stream",
     "text": [
      "[I 2019-07-21 22:44:52,509] Finished trial#78 resulted in value: 8.131004436791747. Current best value is 6.812955904116293 with parameters: {'n_estimators': 691, 'max_depth': 13, 'min_child_weight': 2, 'subsample': 0.7, 'colsample_bytree': 0.7}.\n"
     ]
    },
    {
     "name": "stdout",
     "output_type": "stream",
     "text": [
      "[22:44:52] WARNING: C:/Jenkins/workspace/xgboost-win64_release_0.90/src/objective/regression_obj.cu:152: reg:linear is now deprecated in favor of reg:squarederror.\n"
     ]
    },
    {
     "name": "stderr",
     "output_type": "stream",
     "text": [
      "[I 2019-07-21 22:44:52,816] Finished trial#79 resulted in value: 7.485273114240277. Current best value is 6.812955904116293 with parameters: {'n_estimators': 691, 'max_depth': 13, 'min_child_weight': 2, 'subsample': 0.7, 'colsample_bytree': 0.7}.\n"
     ]
    },
    {
     "name": "stdout",
     "output_type": "stream",
     "text": [
      "[22:44:52] WARNING: C:/Jenkins/workspace/xgboost-win64_release_0.90/src/objective/regression_obj.cu:152: reg:linear is now deprecated in favor of reg:squarederror.\n"
     ]
    },
    {
     "name": "stderr",
     "output_type": "stream",
     "text": [
      "[I 2019-07-21 22:44:52,969] Finished trial#80 resulted in value: 9.286634837763174. Current best value is 6.812955904116293 with parameters: {'n_estimators': 691, 'max_depth': 13, 'min_child_weight': 2, 'subsample': 0.7, 'colsample_bytree': 0.7}.\n"
     ]
    },
    {
     "name": "stdout",
     "output_type": "stream",
     "text": [
      "[22:44:53] WARNING: C:/Jenkins/workspace/xgboost-win64_release_0.90/src/objective/regression_obj.cu:152: reg:linear is now deprecated in favor of reg:squarederror.\n"
     ]
    },
    {
     "name": "stderr",
     "output_type": "stream",
     "text": [
      "[I 2019-07-21 22:44:53,295] Finished trial#81 resulted in value: 8.7338088885021. Current best value is 6.812955904116293 with parameters: {'n_estimators': 691, 'max_depth': 13, 'min_child_weight': 2, 'subsample': 0.7, 'colsample_bytree': 0.7}.\n"
     ]
    },
    {
     "name": "stdout",
     "output_type": "stream",
     "text": [
      "[22:44:53] WARNING: C:/Jenkins/workspace/xgboost-win64_release_0.90/src/objective/regression_obj.cu:152: reg:linear is now deprecated in favor of reg:squarederror.\n"
     ]
    },
    {
     "name": "stderr",
     "output_type": "stream",
     "text": [
      "[I 2019-07-21 22:44:53,686] Finished trial#82 resulted in value: 8.977540091642148. Current best value is 6.812955904116293 with parameters: {'n_estimators': 691, 'max_depth': 13, 'min_child_weight': 2, 'subsample': 0.7, 'colsample_bytree': 0.7}.\n"
     ]
    },
    {
     "name": "stdout",
     "output_type": "stream",
     "text": [
      "[22:44:53] WARNING: C:/Jenkins/workspace/xgboost-win64_release_0.90/src/objective/regression_obj.cu:152: reg:linear is now deprecated in favor of reg:squarederror.\n"
     ]
    },
    {
     "name": "stderr",
     "output_type": "stream",
     "text": [
      "[I 2019-07-21 22:44:54,254] Finished trial#83 resulted in value: 8.877152970642548. Current best value is 6.812955904116293 with parameters: {'n_estimators': 691, 'max_depth': 13, 'min_child_weight': 2, 'subsample': 0.7, 'colsample_bytree': 0.7}.\n"
     ]
    },
    {
     "name": "stdout",
     "output_type": "stream",
     "text": [
      "[22:44:54] WARNING: C:/Jenkins/workspace/xgboost-win64_release_0.90/src/objective/regression_obj.cu:152: reg:linear is now deprecated in favor of reg:squarederror.\n"
     ]
    },
    {
     "name": "stderr",
     "output_type": "stream",
     "text": [
      "[I 2019-07-21 22:44:54,861] Finished trial#84 resulted in value: 9.529307427734652. Current best value is 6.812955904116293 with parameters: {'n_estimators': 691, 'max_depth': 13, 'min_child_weight': 2, 'subsample': 0.7, 'colsample_bytree': 0.7}.\n"
     ]
    },
    {
     "name": "stdout",
     "output_type": "stream",
     "text": [
      "[22:44:54] WARNING: C:/Jenkins/workspace/xgboost-win64_release_0.90/src/objective/regression_obj.cu:152: reg:linear is now deprecated in favor of reg:squarederror.\n"
     ]
    },
    {
     "name": "stderr",
     "output_type": "stream",
     "text": [
      "[I 2019-07-21 22:44:55,536] Finished trial#85 resulted in value: 8.712053671768725. Current best value is 6.812955904116293 with parameters: {'n_estimators': 691, 'max_depth': 13, 'min_child_weight': 2, 'subsample': 0.7, 'colsample_bytree': 0.7}.\n"
     ]
    },
    {
     "name": "stdout",
     "output_type": "stream",
     "text": [
      "[22:44:55] WARNING: C:/Jenkins/workspace/xgboost-win64_release_0.90/src/objective/regression_obj.cu:152: reg:linear is now deprecated in favor of reg:squarederror.\n"
     ]
    },
    {
     "name": "stderr",
     "output_type": "stream",
     "text": [
      "[I 2019-07-21 22:44:55,796] Finished trial#86 resulted in value: 8.869800954820464. Current best value is 6.812955904116293 with parameters: {'n_estimators': 691, 'max_depth': 13, 'min_child_weight': 2, 'subsample': 0.7, 'colsample_bytree': 0.7}.\n"
     ]
    },
    {
     "name": "stdout",
     "output_type": "stream",
     "text": [
      "[22:44:55] WARNING: C:/Jenkins/workspace/xgboost-win64_release_0.90/src/objective/regression_obj.cu:152: reg:linear is now deprecated in favor of reg:squarederror.\n"
     ]
    },
    {
     "name": "stderr",
     "output_type": "stream",
     "text": [
      "[I 2019-07-21 22:44:56,507] Finished trial#87 resulted in value: 9.437832256311623. Current best value is 6.812955904116293 with parameters: {'n_estimators': 691, 'max_depth': 13, 'min_child_weight': 2, 'subsample': 0.7, 'colsample_bytree': 0.7}.\n"
     ]
    },
    {
     "name": "stdout",
     "output_type": "stream",
     "text": [
      "[22:44:56] WARNING: C:/Jenkins/workspace/xgboost-win64_release_0.90/src/objective/regression_obj.cu:152: reg:linear is now deprecated in favor of reg:squarederror.\n"
     ]
    },
    {
     "name": "stderr",
     "output_type": "stream",
     "text": [
      "[I 2019-07-21 22:44:57,065] Finished trial#88 resulted in value: 8.141808193023227. Current best value is 6.812955904116293 with parameters: {'n_estimators': 691, 'max_depth': 13, 'min_child_weight': 2, 'subsample': 0.7, 'colsample_bytree': 0.7}.\n"
     ]
    },
    {
     "name": "stdout",
     "output_type": "stream",
     "text": [
      "[22:44:57] WARNING: C:/Jenkins/workspace/xgboost-win64_release_0.90/src/objective/regression_obj.cu:152: reg:linear is now deprecated in favor of reg:squarederror.\n"
     ]
    },
    {
     "name": "stderr",
     "output_type": "stream",
     "text": [
      "[I 2019-07-21 22:44:57,631] Finished trial#89 resulted in value: 6.97483878499943. Current best value is 6.812955904116293 with parameters: {'n_estimators': 691, 'max_depth': 13, 'min_child_weight': 2, 'subsample': 0.7, 'colsample_bytree': 0.7}.\n"
     ]
    },
    {
     "name": "stdout",
     "output_type": "stream",
     "text": [
      "[22:44:57] WARNING: C:/Jenkins/workspace/xgboost-win64_release_0.90/src/objective/regression_obj.cu:152: reg:linear is now deprecated in favor of reg:squarederror.\n"
     ]
    },
    {
     "name": "stderr",
     "output_type": "stream",
     "text": [
      "[I 2019-07-21 22:44:58,594] Finished trial#90 resulted in value: 8.441752774249315. Current best value is 6.812955904116293 with parameters: {'n_estimators': 691, 'max_depth': 13, 'min_child_weight': 2, 'subsample': 0.7, 'colsample_bytree': 0.7}.\n"
     ]
    },
    {
     "name": "stdout",
     "output_type": "stream",
     "text": [
      "[22:44:58] WARNING: C:/Jenkins/workspace/xgboost-win64_release_0.90/src/objective/regression_obj.cu:152: reg:linear is now deprecated in favor of reg:squarederror.\n"
     ]
    },
    {
     "name": "stderr",
     "output_type": "stream",
     "text": [
      "[I 2019-07-21 22:44:59,261] Finished trial#91 resulted in value: 7.421483122321871. Current best value is 6.812955904116293 with parameters: {'n_estimators': 691, 'max_depth': 13, 'min_child_weight': 2, 'subsample': 0.7, 'colsample_bytree': 0.7}.\n"
     ]
    },
    {
     "name": "stdout",
     "output_type": "stream",
     "text": [
      "[22:44:59] WARNING: C:/Jenkins/workspace/xgboost-win64_release_0.90/src/objective/regression_obj.cu:152: reg:linear is now deprecated in favor of reg:squarederror.\n"
     ]
    },
    {
     "name": "stderr",
     "output_type": "stream",
     "text": [
      "[I 2019-07-21 22:45:00,041] Finished trial#92 resulted in value: 6.698855612684564. Current best value is 6.698855612684564 with parameters: {'n_estimators': 850, 'max_depth': 14, 'min_child_weight': 3, 'subsample': 0.7, 'colsample_bytree': 0.7}.\n"
     ]
    },
    {
     "name": "stdout",
     "output_type": "stream",
     "text": [
      "[22:45:00] WARNING: C:/Jenkins/workspace/xgboost-win64_release_0.90/src/objective/regression_obj.cu:152: reg:linear is now deprecated in favor of reg:squarederror.\n"
     ]
    },
    {
     "name": "stderr",
     "output_type": "stream",
     "text": [
      "[I 2019-07-21 22:45:00,761] Finished trial#93 resulted in value: 9.771217583934249. Current best value is 6.698855612684564 with parameters: {'n_estimators': 850, 'max_depth': 14, 'min_child_weight': 3, 'subsample': 0.7, 'colsample_bytree': 0.7}.\n"
     ]
    },
    {
     "name": "stdout",
     "output_type": "stream",
     "text": [
      "[22:45:00] WARNING: C:/Jenkins/workspace/xgboost-win64_release_0.90/src/objective/regression_obj.cu:152: reg:linear is now deprecated in favor of reg:squarederror.\n"
     ]
    },
    {
     "name": "stderr",
     "output_type": "stream",
     "text": [
      "[I 2019-07-21 22:45:01,646] Finished trial#94 resulted in value: 8.629193782778612. Current best value is 6.698855612684564 with parameters: {'n_estimators': 850, 'max_depth': 14, 'min_child_weight': 3, 'subsample': 0.7, 'colsample_bytree': 0.7}.\n"
     ]
    },
    {
     "name": "stdout",
     "output_type": "stream",
     "text": [
      "[22:45:01] WARNING: C:/Jenkins/workspace/xgboost-win64_release_0.90/src/objective/regression_obj.cu:152: reg:linear is now deprecated in favor of reg:squarederror.\n"
     ]
    },
    {
     "name": "stderr",
     "output_type": "stream",
     "text": [
      "[I 2019-07-21 22:45:02,470] Finished trial#95 resulted in value: 9.44004128203947. Current best value is 6.698855612684564 with parameters: {'n_estimators': 850, 'max_depth': 14, 'min_child_weight': 3, 'subsample': 0.7, 'colsample_bytree': 0.7}.\n"
     ]
    },
    {
     "name": "stdout",
     "output_type": "stream",
     "text": [
      "[22:45:02] WARNING: C:/Jenkins/workspace/xgboost-win64_release_0.90/src/objective/regression_obj.cu:152: reg:linear is now deprecated in favor of reg:squarederror.\n"
     ]
    },
    {
     "name": "stderr",
     "output_type": "stream",
     "text": [
      "[I 2019-07-21 22:45:03,202] Finished trial#96 resulted in value: 8.131079108786148. Current best value is 6.698855612684564 with parameters: {'n_estimators': 850, 'max_depth': 14, 'min_child_weight': 3, 'subsample': 0.7, 'colsample_bytree': 0.7}.\n"
     ]
    },
    {
     "name": "stdout",
     "output_type": "stream",
     "text": [
      "[22:45:03] WARNING: C:/Jenkins/workspace/xgboost-win64_release_0.90/src/objective/regression_obj.cu:152: reg:linear is now deprecated in favor of reg:squarederror.\n"
     ]
    },
    {
     "name": "stderr",
     "output_type": "stream",
     "text": [
      "[I 2019-07-21 22:45:03,842] Finished trial#97 resulted in value: 9.542441732823152. Current best value is 6.698855612684564 with parameters: {'n_estimators': 850, 'max_depth': 14, 'min_child_weight': 3, 'subsample': 0.7, 'colsample_bytree': 0.7}.\n"
     ]
    },
    {
     "name": "stdout",
     "output_type": "stream",
     "text": [
      "[22:45:03] WARNING: C:/Jenkins/workspace/xgboost-win64_release_0.90/src/objective/regression_obj.cu:152: reg:linear is now deprecated in favor of reg:squarederror.\n"
     ]
    },
    {
     "name": "stderr",
     "output_type": "stream",
     "text": [
      "[I 2019-07-21 22:45:04,487] Finished trial#98 resulted in value: 8.731387202942802. Current best value is 6.698855612684564 with parameters: {'n_estimators': 850, 'max_depth': 14, 'min_child_weight': 3, 'subsample': 0.7, 'colsample_bytree': 0.7}.\n"
     ]
    },
    {
     "name": "stdout",
     "output_type": "stream",
     "text": [
      "[22:45:04] WARNING: C:/Jenkins/workspace/xgboost-win64_release_0.90/src/objective/regression_obj.cu:152: reg:linear is now deprecated in favor of reg:squarederror.\n"
     ]
    },
    {
     "name": "stderr",
     "output_type": "stream",
     "text": [
      "[I 2019-07-21 22:45:05,069] Finished trial#99 resulted in value: 8.330766218992352. Current best value is 6.698855612684564 with parameters: {'n_estimators': 850, 'max_depth': 14, 'min_child_weight': 3, 'subsample': 0.7, 'colsample_bytree': 0.7}.\n"
     ]
    },
    {
     "name": "stdout",
     "output_type": "stream",
     "text": [
      "{'n_estimators': 850, 'max_depth': 14, 'min_child_weight': 3, 'subsample': 0.7, 'colsample_bytree': 0.7}\n",
      "6.698855612684564\n",
      "FrozenTrial(number=92, state=<TrialState.COMPLETE: 1>, value=6.698855612684564, datetime_start=datetime.datetime(2019, 7, 21, 22, 44, 59, 262417), datetime_complete=datetime.datetime(2019, 7, 21, 22, 45, 0, 27371), params={'n_estimators': 850, 'max_depth': 14, 'min_child_weight': 3, 'subsample': 0.7, 'colsample_bytree': 0.7}, distributions={'n_estimators': IntUniformDistribution(low=0, high=1000), 'max_depth': IntUniformDistribution(low=1, high=20), 'min_child_weight': IntUniformDistribution(low=1, high=20), 'subsample': DiscreteUniformDistribution(low=0.5, high=0.9, q=0.1), 'colsample_bytree': DiscreteUniformDistribution(low=0.5, high=0.9, q=0.1)}, user_attrs={}, system_attrs={'_number': 92}, intermediate_values={}, params_in_internal_repr={'n_estimators': 850.0, 'max_depth': 14.0, 'min_child_weight': 3.0, 'subsample': 0.7, 'colsample_bytree': 0.7}, trial_id=92)\n"
     ]
    }
   ],
   "source": [
    "study=optuna.create_study()\n",
    "study.optimize(objective,n_trials=100)\n",
    "\n",
    "print(study.best_params)\n",
    "print(study.best_value)\n",
    "print(study.best_trial)"
   ]
  },
  {
   "cell_type": "code",
   "execution_count": 18,
   "metadata": {},
   "outputs": [
    {
     "name": "stdout",
     "output_type": "stream",
     "text": [
      "[23:03:25] WARNING: C:/Jenkins/workspace/xgboost-win64_release_0.90/src/objective/regression_obj.cu:152: reg:linear is now deprecated in favor of reg:squarederror.\n",
      "R^2 validation: 0.8718783141603175\n",
      "R^2 test: 0.8706309172641004\n"
     ]
    }
   ],
   "source": [
    "from sklearn.metrics import r2_score\n",
    "model=xgb.XGBRegressor(n_estimators= 850,\n",
    "                        max_depth= 14,\n",
    "                       min_child_weight= 3,\n",
    "                       subsample= 0.7,\n",
    "                       colsample_bytree= 0.7)\n",
    "model.fit(X_train,y_train)\n",
    "y_pred_val=model.predict(X_val)\n",
    "y_pred_test=model.predict(X_test)\n",
    "\n",
    "print('R^2 validation:',r2_score(y_val,y_pred_val))\n",
    "print('R^2 test:',r2_score(y_test,y_pred_test))"
   ]
  },
  {
   "cell_type": "code",
   "execution_count": null,
   "metadata": {},
   "outputs": [],
   "source": []
  }
 ],
 "metadata": {
  "kernelspec": {
   "display_name": "Python 3",
   "language": "python",
   "name": "python3"
  },
  "language_info": {
   "codemirror_mode": {
    "name": "ipython",
    "version": 3
   },
   "file_extension": ".py",
   "mimetype": "text/x-python",
   "name": "python",
   "nbconvert_exporter": "python",
   "pygments_lexer": "ipython3",
   "version": "3.7.0"
  }
 },
 "nbformat": 4,
 "nbformat_minor": 2
}

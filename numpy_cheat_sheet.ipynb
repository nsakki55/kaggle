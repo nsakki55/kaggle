{
 "cells": [
  {
   "cell_type": "markdown",
   "metadata": {},
   "source": [
    "# numpy チートシート"
   ]
  },
  {
   "cell_type": "code",
   "execution_count": 1,
   "metadata": {},
   "outputs": [],
   "source": [
    "import numpy as np\n",
    "import matplotlib.pyplot as plt\n",
    "%matplotlib inline\n",
    "import pandas as pd"
   ]
  },
  {
   "cell_type": "markdown",
   "metadata": {},
   "source": [
    "## データ準備"
   ]
  },
  {
   "cell_type": "markdown",
   "metadata": {},
   "source": [
    "## Boston Housingデータ"
   ]
  },
  {
   "cell_type": "code",
   "execution_count": 2,
   "metadata": {},
   "outputs": [
    {
     "data": {
      "text/html": [
       "<div>\n",
       "<style scoped>\n",
       "    .dataframe tbody tr th:only-of-type {\n",
       "        vertical-align: middle;\n",
       "    }\n",
       "\n",
       "    .dataframe tbody tr th {\n",
       "        vertical-align: top;\n",
       "    }\n",
       "\n",
       "    .dataframe thead th {\n",
       "        text-align: right;\n",
       "    }\n",
       "</style>\n",
       "<table border=\"1\" class=\"dataframe\">\n",
       "  <thead>\n",
       "    <tr style=\"text-align: right;\">\n",
       "      <th></th>\n",
       "      <th>CRIM</th>\n",
       "      <th>ZN</th>\n",
       "      <th>INDUS</th>\n",
       "      <th>CHAS</th>\n",
       "      <th>NOX</th>\n",
       "      <th>RM</th>\n",
       "      <th>AGE</th>\n",
       "      <th>DIS</th>\n",
       "      <th>RAD</th>\n",
       "      <th>TAX</th>\n",
       "      <th>PTRATIO</th>\n",
       "      <th>B</th>\n",
       "      <th>LSTAT</th>\n",
       "      <th>MEDV</th>\n",
       "    </tr>\n",
       "  </thead>\n",
       "  <tbody>\n",
       "    <tr>\n",
       "      <th>0</th>\n",
       "      <td>0.00632</td>\n",
       "      <td>18.0</td>\n",
       "      <td>2.31</td>\n",
       "      <td>0</td>\n",
       "      <td>0.538</td>\n",
       "      <td>6.575</td>\n",
       "      <td>65.2</td>\n",
       "      <td>4.0900</td>\n",
       "      <td>1</td>\n",
       "      <td>296.0</td>\n",
       "      <td>15.3</td>\n",
       "      <td>396.90</td>\n",
       "      <td>4.98</td>\n",
       "      <td>24.0</td>\n",
       "    </tr>\n",
       "    <tr>\n",
       "      <th>1</th>\n",
       "      <td>0.02731</td>\n",
       "      <td>0.0</td>\n",
       "      <td>7.07</td>\n",
       "      <td>0</td>\n",
       "      <td>0.469</td>\n",
       "      <td>6.421</td>\n",
       "      <td>78.9</td>\n",
       "      <td>4.9671</td>\n",
       "      <td>2</td>\n",
       "      <td>242.0</td>\n",
       "      <td>17.8</td>\n",
       "      <td>396.90</td>\n",
       "      <td>9.14</td>\n",
       "      <td>21.6</td>\n",
       "    </tr>\n",
       "    <tr>\n",
       "      <th>2</th>\n",
       "      <td>0.02729</td>\n",
       "      <td>0.0</td>\n",
       "      <td>7.07</td>\n",
       "      <td>0</td>\n",
       "      <td>0.469</td>\n",
       "      <td>7.185</td>\n",
       "      <td>61.1</td>\n",
       "      <td>4.9671</td>\n",
       "      <td>2</td>\n",
       "      <td>242.0</td>\n",
       "      <td>17.8</td>\n",
       "      <td>392.83</td>\n",
       "      <td>4.03</td>\n",
       "      <td>34.7</td>\n",
       "    </tr>\n",
       "    <tr>\n",
       "      <th>3</th>\n",
       "      <td>0.03237</td>\n",
       "      <td>0.0</td>\n",
       "      <td>2.18</td>\n",
       "      <td>0</td>\n",
       "      <td>0.458</td>\n",
       "      <td>6.998</td>\n",
       "      <td>45.8</td>\n",
       "      <td>6.0622</td>\n",
       "      <td>3</td>\n",
       "      <td>222.0</td>\n",
       "      <td>18.7</td>\n",
       "      <td>394.63</td>\n",
       "      <td>2.94</td>\n",
       "      <td>33.4</td>\n",
       "    </tr>\n",
       "    <tr>\n",
       "      <th>4</th>\n",
       "      <td>0.06905</td>\n",
       "      <td>0.0</td>\n",
       "      <td>2.18</td>\n",
       "      <td>0</td>\n",
       "      <td>0.458</td>\n",
       "      <td>7.147</td>\n",
       "      <td>54.2</td>\n",
       "      <td>6.0622</td>\n",
       "      <td>3</td>\n",
       "      <td>222.0</td>\n",
       "      <td>18.7</td>\n",
       "      <td>396.90</td>\n",
       "      <td>5.33</td>\n",
       "      <td>36.2</td>\n",
       "    </tr>\n",
       "  </tbody>\n",
       "</table>\n",
       "</div>"
      ],
      "text/plain": [
       "      CRIM    ZN  INDUS  CHAS    NOX     RM   AGE     DIS  RAD    TAX  \\\n",
       "0  0.00632  18.0   2.31     0  0.538  6.575  65.2  4.0900    1  296.0   \n",
       "1  0.02731   0.0   7.07     0  0.469  6.421  78.9  4.9671    2  242.0   \n",
       "2  0.02729   0.0   7.07     0  0.469  7.185  61.1  4.9671    2  242.0   \n",
       "3  0.03237   0.0   2.18     0  0.458  6.998  45.8  6.0622    3  222.0   \n",
       "4  0.06905   0.0   2.18     0  0.458  7.147  54.2  6.0622    3  222.0   \n",
       "\n",
       "   PTRATIO       B  LSTAT  MEDV  \n",
       "0     15.3  396.90   4.98  24.0  \n",
       "1     17.8  396.90   9.14  21.6  \n",
       "2     17.8  392.83   4.03  34.7  \n",
       "3     18.7  394.63   2.94  33.4  \n",
       "4     18.7  396.90   5.33  36.2  "
      ]
     },
     "metadata": {},
     "output_type": "display_data"
    }
   ],
   "source": [
    "from sklearn.model_selection import train_test_split\n",
    "df = pd.read_csv('https://archive.ics.uci.edu/ml/machine-learning-databases/'\n",
    "                 'housing/housing.data',\n",
    "                 header=None,\n",
    "                 sep='\\s+')\n",
    "df.columns = ['CRIM', 'ZN', 'INDUS', 'CHAS', \n",
    "              'NOX', 'RM', 'AGE', 'DIS', 'RAD', \n",
    "              'TAX', 'PTRATIO', 'B', 'LSTAT', 'MEDV']\n",
    "display(df.head())\n",
    "\n",
    "X=df.iloc[:,:df.shape[1]-1]\n",
    "y=df['MEDV']\n",
    "\n",
    "X_train,X_test,y_train,y_test=train_test_split(X,y,test_size=0.2,random_state=0)"
   ]
  },
  {
   "cell_type": "markdown",
   "metadata": {},
   "source": [
    "## X.ndim\n",
    "numpy配列のテンソルの次元を出力する。単純な数値一つは0次元。np.array([1,2,3])は３次元ベクトルで、１次元テンソルなので注意"
   ]
  },
  {
   "cell_type": "code",
   "execution_count": 10,
   "metadata": {},
   "outputs": [
    {
     "name": "stdout",
     "output_type": "stream",
     "text": [
      "1\n",
      "2\n",
      "3\n",
      "(2, 3, 5)\n"
     ]
    }
   ],
   "source": [
    "# ベクトルは軸を1つ持つので1次元テンソル\n",
    "X1=np.array([1,2,3])\n",
    "print(X1.ndim)\n",
    "\n",
    "# 行列は行と列の2つの次元をもつので2次元テンソル\n",
    "X2=np.array([[5,78,2,43,2],\n",
    "            [3,6,8,4,34],\n",
    "            [7,65,3,2,76]])\n",
    "print(X2.ndim)\n",
    "\n",
    "X3=np.array([[[5,78,2,43,2],\n",
    "            [3,6,8,4,34],\n",
    "            [7,65,3,2,76]],\n",
    "            [[5,78,2,43,2],\n",
    "            [3,6,8,4,34],\n",
    "            [7,65,3,2,76]]])\n",
    "print(X3.ndim)\n",
    "print(X3.shape)"
   ]
  },
  {
   "cell_type": "markdown",
   "metadata": {},
   "source": [
    "## np.expand_dims(img_tensor,axis=0)\n",
    "img_tensorに0列目に次元を増やす。axisで場所を指定"
   ]
  },
  {
   "cell_type": "markdown",
   "metadata": {},
   "source": [
    "## np.zeros((15,16))\n",
    " 15×16の要素がすべて0のnumpy配列を作成"
   ]
  },
  {
   "cell_type": "markdown",
   "metadata": {},
   "source": [
    "## np.zeros_like(data)\n",
    "入力データと同じ形の要素が0の配列を返す"
   ]
  },
  {
   "cell_type": "code",
   "execution_count": 7,
   "metadata": {},
   "outputs": [
    {
     "name": "stdout",
     "output_type": "stream",
     "text": [
      "[[0 1 2]\n",
      " [3 4 5]]\n",
      "[[0 0 0]\n",
      " [0 0 0]]\n"
     ]
    }
   ],
   "source": [
    "x = np.arange(6)\n",
    "x = x.reshape((2, 3))\n",
    "print(x)\n",
    "\n",
    "print(np.zeros_like(x))"
   ]
  },
  {
   "cell_type": "markdown",
   "metadata": {},
   "source": [
    "## np.identity(n, dtype=float)\n",
    "n×n の単位行列を作成する"
   ]
  },
  {
   "cell_type": "code",
   "execution_count": 23,
   "metadata": {},
   "outputs": [
    {
     "data": {
      "text/plain": [
       "array([[1., 0., 0.],\n",
       "       [0., 1., 0.],\n",
       "       [0., 0., 1.]])"
      ]
     },
     "execution_count": 23,
     "metadata": {},
     "output_type": "execute_result"
    }
   ],
   "source": [
    "np.identity(3, dtype=float)"
   ]
  },
  {
   "cell_type": "markdown",
   "metadata": {},
   "source": [
    "## np.where(X>=0,1,-1)\n",
    " 行列X中の様子で0以上(条件)のものは1,0以下のものは-1にする\n",
    " ステップ関数で利用"
   ]
  },
  {
   "cell_type": "code",
   "execution_count": 8,
   "metadata": {},
   "outputs": [
    {
     "name": "stdout",
     "output_type": "stream",
     "text": [
      "[[0 1 2]\n",
      " [3 4 5]\n",
      " [6 7 8]]\n"
     ]
    },
    {
     "data": {
      "text/plain": [
       "array([[-1, -1, -1],\n",
       "       [-1,  1,  1],\n",
       "       [ 1,  1,  1]])"
      ]
     },
     "execution_count": 8,
     "metadata": {},
     "output_type": "execute_result"
    }
   ],
   "source": [
    "a = np.arange(9).reshape((3, 3))\n",
    "print(a)\n",
    "# 行列aの要素で4以上のものは１,4以下は-1にする\n",
    "np.where(a>=4,1,-1)"
   ]
  },
  {
   "cell_type": "markdown",
   "metadata": {},
   "source": [
    "## np.arange(1,10,2)\n",
    "Python のrange(1,10,2)に対応し、等差数列のnumpy行列を作成"
   ]
  },
  {
   "cell_type": "code",
   "execution_count": 10,
   "metadata": {},
   "outputs": [
    {
     "data": {
      "text/plain": [
       "array([1, 3, 5, 7, 9])"
      ]
     },
     "execution_count": 10,
     "metadata": {},
     "output_type": "execute_result"
    }
   ],
   "source": [
    "np.arange(1,10,2)"
   ]
  },
  {
   "cell_type": "markdown",
   "metadata": {},
   "source": [
    "## np.meshgrid(x,y)\n",
    "格子座標を作成する便利な関数"
   ]
  },
  {
   "cell_type": "code",
   "execution_count": 18,
   "metadata": {},
   "outputs": [
    {
     "data": {
      "image/png": "[encoded data removed]",
      "text/plain": [
       "<Figure size 432x288 with 1 Axes>"
      ]
     },
     "metadata": {
      "needs_background": "light"
     },
     "output_type": "display_data"
    }
   ],
   "source": [
    "from mpl_toolkits.mplot3d import Axes3D\n",
    "\n",
    "x = np.linspace(-2 ,2 ,100)\n",
    "y = np.linspace(-2, 2, 100)\n",
    "\n",
    "xx , yy =np.meshgrid(x, y)\n",
    "ret = np.sin(xx**2+yy**2)\n",
    "\n",
    "fig = plt.figure()\n",
    "ax = Axes3D(fig)\n",
    "ax.plot_wireframe(xx, yy ,ret)\n",
    "plt.show()"
   ]
  },
  {
   "cell_type": "markdown",
   "metadata": {},
   "source": [
    "## 行と要素を指定　X[:,[2,3]]\n",
    "行列Xをすべての行表示し、２列目と３列目をとりだす"
   ]
  },
  {
   "cell_type": "code",
   "execution_count": 5,
   "metadata": {},
   "outputs": [
    {
     "name": "stdout",
     "output_type": "stream",
     "text": [
      "[[5.1 3.5 1.4 0.2]\n",
      " [4.9 3.  1.4 0.2]\n",
      " [4.7 3.2 1.3 0.2]\n",
      " [4.6 3.1 1.5 0.2]\n",
      " [5.  3.6 1.4 0.2]]\n",
      "[[1.4 0.2]\n",
      " [1.4 0.2]\n",
      " [1.3 0.2]\n",
      " [1.5 0.2]\n",
      " [1.4 0.2]]\n"
     ]
    }
   ],
   "source": [
    "from sklearn import datasets\n",
    "iris=datasets.load_iris()\n",
    "print(iris.data[:5])\n",
    "print(iris.data[:5,[2,3]])"
   ]
  },
  {
   "cell_type": "markdown",
   "metadata": {},
   "source": [
    "## np.unique(X,return_counts=True)\n",
    "重複を削除した配列をつくる.return_coutns=Trueで出現回数をタプルで返してくれる"
   ]
  },
  {
   "cell_type": "code",
   "execution_count": 13,
   "metadata": {},
   "outputs": [
    {
     "name": "stdout",
     "output_type": "stream",
     "text": [
      "(array([1, 2, 3, 4]), array([1, 3, 2, 1]))\n",
      "['aa' 'bb' 'cc']\n"
     ]
    }
   ],
   "source": [
    "x=[1,2,2,2,3,3,4]\n",
    "y=['aa','aa','bb','bb','cc']\n",
    "print(np.unique(x,return_counts=True))\n",
    "print(np.unique(y))"
   ]
  },
  {
   "cell_type": "markdown",
   "metadata": {},
   "source": [
    "### 値が一つだけの特徴量があるか確認\n",
    "値が一つの特徴量は情報量としては、意味がないので削除したほうがよい"
   ]
  },
  {
   "cell_type": "code",
   "execution_count": 13,
   "metadata": {},
   "outputs": [
    {
     "data": {
      "text/plain": [
       "['col1']"
      ]
     },
     "execution_count": 13,
     "metadata": {},
     "output_type": "execute_result"
    }
   ],
   "source": [
    "def check_const_feature(df):\n",
    "    cols=df.columns\n",
    "    counts=[]\n",
    "    for c in cols:\n",
    "        if len(np.unique(df[c]))==1:\n",
    "            counts.append(c)\n",
    "    return counts\n",
    "\n",
    "df=pd.DataFrame({'col1':[1,1,1],'col2':[1,2,3],'col3':[4,5,5]})\n",
    "check_const_feature(df)"
   ]
  },
  {
   "cell_type": "markdown",
   "metadata": {},
   "source": [
    "## np.bincount(X,weight=1)\n",
    "配列の0以上の整数が登場した回数を表す。weightはサンプルに対する重み付け（使いどこは謎）  \n",
    "結果は、0が登場した回数、1が登場した回数……と続く。とてもわかりやすい  \n",
    "配列Xに0以下の値があるとエラーを吐くので注意"
   ]
  },
  {
   "cell_type": "code",
   "execution_count": 24,
   "metadata": {},
   "outputs": [
    {
     "name": "stdout",
     "output_type": "stream",
     "text": [
      "[5 0 3 3 7 9 3 5 2 4]\n",
      "[1 0 1 3 1 2 0 1 0 1]\n"
     ]
    }
   ],
   "source": [
    "np.random.seed(0)\n",
    "x=np.random.randint(0,10,10)\n",
    "print(x)\n",
    "print(np.bincount(x))"
   ]
  },
  {
   "cell_type": "markdown",
   "metadata": {},
   "source": [
    "\n",
    "## np.hstack((x1,x2))\n",
    "配列を水平方向につなげる  \n",
    "https://deepage.net/features/numpy-stack.html"
   ]
  },
  {
   "cell_type": "code",
   "execution_count": 17,
   "metadata": {},
   "outputs": [
    {
     "name": "stdout",
     "output_type": "stream",
     "text": [
      "[0 1 2 3 4 5 6 7 8 9]\n",
      "[0 1 2]\n",
      "[0 1 2 3 4 5 6 7 8 9 0 1 2]\n",
      "[[[ 0  1  2]\n",
      "  [ 3  4  5]]\n",
      "\n",
      " [[ 6  7  8]\n",
      "  [ 9 10 11]]]\n",
      "[[[0 1 2]]\n",
      "\n",
      " [[3 4 5]]]\n",
      "[[[ 0  1  2]\n",
      "  [ 3  4  5]\n",
      "  [ 0  1  2]]\n",
      "\n",
      " [[ 6  7  8]\n",
      "  [ 9 10 11]\n",
      "  [ 3  4  5]]]\n"
     ]
    }
   ],
   "source": [
    "x1=np.arange(10)\n",
    "x2=np.arange(3)\n",
    "\n",
    "print(x1)\n",
    "print(x2)\n",
    "print(np.hstack((x1,x2)))\n",
    "\n",
    "y1=np.arange(12).reshape(2,2,3)\n",
    "y2=np.arange(6).reshape(2,1,3)\n",
    "\n",
    "print(y1)\n",
    "print(y2)\n",
    "print(np.hstack((y1,y2)))"
   ]
  },
  {
   "cell_type": "markdown",
   "metadata": {},
   "source": [
    "## np.vstack((x1,x2))\n",
    "縦方向に連結する 列数があってないとエラー吐く"
   ]
  },
  {
   "cell_type": "code",
   "execution_count": 23,
   "metadata": {},
   "outputs": [
    {
     "data": {
      "text/plain": [
       "array([[1, 2],\n",
       "       [2, 3]])"
      ]
     },
     "execution_count": 23,
     "metadata": {},
     "output_type": "execute_result"
    }
   ],
   "source": [
    "np.vstack(([1,2],[2,3]))"
   ]
  },
  {
   "cell_type": "markdown",
   "metadata": {},
   "source": [
    "## np.r_[x1, x2], np.c_[x1, x2]\n",
    "np.r_はhstack, np.c_はvstackと同様の操作を行える  \n",
    "https://deepage.net/features/numpy-cr.html"
   ]
  },
  {
   "cell_type": "code",
   "execution_count": 3,
   "metadata": {},
   "outputs": [
    {
     "name": "stdout",
     "output_type": "stream",
     "text": [
      "[1 2 3 4 5 6]\n",
      "[[1 4]\n",
      " [2 5]\n",
      " [3 6]]\n"
     ]
    }
   ],
   "source": [
    "x1 = np.array([1, 2, 3])\n",
    "x2 = np.array([4, 5, 6])\n",
    "print(np.r_[x1, x2])\n",
    "print(np.c_[x1, x2])"
   ]
  },
  {
   "cell_type": "markdown",
   "metadata": {},
   "source": [
    "## np.random.randn(200,2)\n",
    "標準正規分布に従う乱数を要素に持つ200行2列の行列を作成"
   ]
  },
  {
   "cell_type": "code",
   "execution_count": 37,
   "metadata": {},
   "outputs": [
    {
     "data": {
      "image/png": "[encoded data removed]",
      "text/plain": [
       "<Figure size 432x144 with 2 Axes>"
      ]
     },
     "metadata": {
      "needs_background": "light"
     },
     "output_type": "display_data"
    }
   ],
   "source": [
    "X=np.random.randn(200,2)\n",
    "fig,ax=plt.subplots(ncols=2,nrows=1,figsize=(6,2))\n",
    "ax[0].hist(X[:,0],color='blue')\n",
    "ax[1].hist(X[:,1],color='green')\n",
    "plt.show()"
   ]
  },
  {
   "cell_type": "markdown",
   "metadata": {},
   "source": [
    "## np.logical_xor(X[:,0]>0,X[:,1]>0)\n",
    "排他的論理和(入力の2つの信号のうち、一方が1のときにだけ1を出力する)で、bool値を返す"
   ]
  },
  {
   "cell_type": "code",
   "execution_count": 58,
   "metadata": {},
   "outputs": [
    {
     "data": {
      "image/png": "[encoded data removed]",
      "text/plain": [
       "<Figure size 432x288 with 1 Axes>"
      ]
     },
     "metadata": {
      "needs_background": "light"
     },
     "output_type": "display_data"
    }
   ],
   "source": [
    "y_xor=np.logical_xor(X[:,0]>0,X[:,1]>0)\n",
    "y_xor=np.where(y_xor,1,-1)\n",
    "plt.scatter(X[y_xor==1,0],X[y_xor==1,1],c='r',marker='x',label='1')\n",
    "plt.scatter(X[y_xor==-1,0],X[y_xor==-1,1],c='b',marker='s',label='1')\n",
    "plt.legend()\n",
    "plt.show()"
   ]
  },
  {
   "cell_type": "markdown",
   "metadata": {},
   "source": [
    "## np.cov(X.T)\n",
    "Xの分散共分散行列(Covariacne matrix)を作成してくれる。PCAで役に立つ。"
   ]
  },
  {
   "cell_type": "markdown",
   "metadata": {},
   "source": [
    "## eigen_vals,eigen_vecs=np.linalg.eig(cov_mat)\n",
    "行列から、固有値と対応数する固有ベクトルを求めてくれる。np.cov()から分散共分散行列を求めて、  \n",
    "np.linalg.eigでその固有値を求められるためPCAで使われる"
   ]
  },
  {
   "cell_type": "markdown",
   "metadata": {},
   "source": [
    "## np.cumsum(var_exp)\n",
    "累積和を求める。分散説明率の累積和を求める時に使える"
   ]
  },
  {
   "cell_type": "markdown",
   "metadata": {},
   "source": [
    "## 列ベクトルと行ベクトルの生成の違い\n",
    "## np.array([1,2,3])　行ベクトル\n",
    "## np.array([[1],[2],[3]])　列ベクトル\n",
    "行列をつなげるnp.hstackをしていて詰まった。\n",
    "## array([1,2,3])[:,np.newaxis]\n",
    "とすれば、行ベクトルを明示的に列ベクトルに変換できるので便利"
   ]
  },
  {
   "cell_type": "code",
   "execution_count": 13,
   "metadata": {},
   "outputs": [
    {
     "name": "stdout",
     "output_type": "stream",
     "text": [
      "[1 2 3]\n",
      "[[1]\n",
      " [2]\n",
      " [3]]\n",
      "[[1]\n",
      " [2]\n",
      " [3]]\n"
     ]
    }
   ],
   "source": [
    "a=np.array([1,2,3])\n",
    "b=np.array([[1],[2],[3]])\n",
    "print(a)\n",
    "print(b)\n",
    "print(a[:,np.newaxis])"
   ]
  },
  {
   "cell_type": "markdown",
   "metadata": {},
   "source": [
    "## np.asarray(X)\n",
    "引数Xがnp.ndarrayの場合にコピーされる np.array(X ,copy=False)と同義"
   ]
  },
  {
   "cell_type": "code",
   "execution_count": 3,
   "metadata": {},
   "outputs": [
    {
     "name": "stdout",
     "output_type": "stream",
     "text": [
      "False\n",
      "True\n"
     ]
    }
   ],
   "source": [
    "a=np.array([1,2,3])\n",
    "b=np.array(a)\n",
    "c=np.asarray(a)\n",
    "print(a is b)\n",
    "print(a is c)"
   ]
  },
  {
   "cell_type": "markdown",
   "metadata": {},
   "source": [
    "## X.reshape((2, 3))\n",
    "ディープラーニングのテンソルの変形でよく行われる。目的の形状と一致するように行と列の配置を変更すること"
   ]
  },
  {
   "cell_type": "code",
   "execution_count": 40,
   "metadata": {},
   "outputs": [
    {
     "name": "stdout",
     "output_type": "stream",
     "text": [
      "(3, 2)\n",
      "[[0 1 3]\n",
      " [4 6 7]]\n",
      "[[0]\n",
      " [1]\n",
      " [3]\n",
      " [4]\n",
      " [6]\n",
      " [7]]\n"
     ]
    }
   ],
   "source": [
    "X=np.array([[0,1],\n",
    "            [3,4],\n",
    "            [6,7]])\n",
    "print(X.shape)\n",
    "print(X.reshape((2,3)))\n",
    "print(X.reshape((6,1)))"
   ]
  },
  {
   "cell_type": "markdown",
   "metadata": {},
   "source": [
    "## np.transpose(X)　　X.T\n",
    "行列の転置を行なう"
   ]
  },
  {
   "cell_type": "code",
   "execution_count": 53,
   "metadata": {},
   "outputs": [
    {
     "name": "stdout",
     "output_type": "stream",
     "text": [
      "[[1 2 3 4]\n",
      " [5 6 7 8]]\n",
      "[[1 5]\n",
      " [2 6]\n",
      " [3 7]\n",
      " [4 8]]\n"
     ]
    }
   ],
   "source": [
    "X=np.arange(1,9).reshape(2,4)\n",
    "print(X)\n",
    "print(np.transpose(X))"
   ]
  },
  {
   "cell_type": "markdown",
   "metadata": {},
   "source": [
    "## np.linalg.inv(X)\n",
    "入力行列の逆行列を求めてくれる便利な関数"
   ]
  },
  {
   "cell_type": "code",
   "execution_count": 22,
   "metadata": {},
   "outputs": [
    {
     "name": "stdout",
     "output_type": "stream",
     "text": [
      "[[-7  7]\n",
      " [ 4  1]]\n",
      "[[-0.02857143  0.2       ]\n",
      " [ 0.11428571  0.2       ]]\n",
      "[[ 1.00000000e+00  0.00000000e+00]\n",
      " [-1.38777878e-17  1.00000000e+00]]\n"
     ]
    }
   ],
   "source": [
    "X = np.random.randint(-9, 10, size=(2 ,2))\n",
    "print(X)\n",
    "\n",
    "X_inv = np.linalg.inv(X)\n",
    "print(X_inv)\n",
    "\n",
    "print(np.dot(X, X_inv))"
   ]
  },
  {
   "cell_type": "markdown",
   "metadata": {},
   "source": [
    "## np.set_printoptions(precision=4,suppress=True)\n",
    "numpy配列を有効数字4桁で表示する suppressで指数表示を禁止する"
   ]
  },
  {
   "cell_type": "markdown",
   "metadata": {},
   "source": [
    "## np.linspace(0.1,1.0,10)\n",
    "0.1から1までを10等分した値を要素に持つnumpy配列を作る"
   ]
  },
  {
   "cell_type": "code",
   "execution_count": 12,
   "metadata": {},
   "outputs": [
    {
     "name": "stdout",
     "output_type": "stream",
     "text": [
      "[0.1 0.2 0.3 0.4 0.5 0.6 0.7 0.8 0.9 1. ]\n",
      "[0.1 0.2 0.3 0.4 0.5 0.6 0.7 0.8 0.9 1. ]\n"
     ]
    }
   ],
   "source": [
    "print(np.linspace(0.1,1,10))\n",
    "print(np.array([i*0.1 for i in range(1,11)]))"
   ]
  },
  {
   "cell_type": "markdown",
   "metadata": {},
   "source": [
    "## 乱数生成"
   ]
  },
  {
   "cell_type": "markdown",
   "metadata": {},
   "source": [
    "## np.random.rand(10)\n",
    "0~1の乱数を10個生成。"
   ]
  },
  {
   "cell_type": "markdown",
   "metadata": {},
   "source": [
    "## np.random.randn(10)\n",
    "平均0,標準偏差1の標準正規分布に従う乱数を10個生成"
   ]
  },
  {
   "cell_type": "markdown",
   "metadata": {},
   "source": [
    "## np.random.normal(50,10,10)\n",
    "平均50,標準偏差10の分布に従う乱数を10個生成"
   ]
  },
  {
   "cell_type": "markdown",
   "metadata": {},
   "source": [
    "## np.random.binomial(n=100, p=0.5)\n",
    "表が出る確率0.5のコインを100回投げた時に表がでる回数を出力"
   ]
  },
  {
   "cell_type": "markdown",
   "metadata": {},
   "source": [
    "## np.random.randint(0,100,20)\n",
    "0～99の整数を20個生成"
   ]
  },
  {
   "cell_type": "markdown",
   "metadata": {},
   "source": [
    "## np.random.choice(list,5,replace=False,p=weight)\n",
    "listの中からランダムに5つ抽出。replaceで重複を認めるか決められる。pで各要素の選ばれやすさの重みづけを行う"
   ]
  },
  {
   "cell_type": "markdown",
   "metadata": {},
   "source": [
    "## 相関係数を計算\n",
    "特徴量ペアの線形関係を表す、ピアソンの積率相関係数を計算する\n",
    "## np.corrcoef(df.values.T)"
   ]
  },
  {
   "cell_type": "code",
   "execution_count": 8,
   "metadata": {},
   "outputs": [
    {
     "name": "stdout",
     "output_type": "stream",
     "text": [
      "(506, 14)\n",
      "(14, 14)\n"
     ]
    }
   ],
   "source": [
    "## Boston Housingデータ\n",
    "print(df.shape)\n",
    "cm=np.corrcoef(df.values.T)\n",
    "print(cm.shape)"
   ]
  },
  {
   "cell_type": "markdown",
   "metadata": {},
   "source": [
    "## ２つの特徴量間の相関係数を求める"
   ]
  },
  {
   "cell_type": "code",
   "execution_count": 9,
   "metadata": {},
   "outputs": [
    {
     "name": "stdout",
     "output_type": "stream",
     "text": [
      "[[ 1.         -0.37695457]\n",
      " [-0.37695457  1.        ]]\n",
      "-0.37695456500459606\n"
     ]
    }
   ],
   "source": [
    "cor=np.corrcoef(df['AGE'],df['MEDV'])\n",
    "print(cor)\n",
    "print(cor[0,1])"
   ]
  },
  {
   "cell_type": "markdown",
   "metadata": {},
   "source": [
    "## ndarray.flatten()\n",
    "多次元配列を1次元配列に変換する"
   ]
  },
  {
   "cell_type": "code",
   "execution_count": 9,
   "metadata": {},
   "outputs": [
    {
     "name": "stdout",
     "output_type": "stream",
     "text": [
      "[[0 1 2 3 4]\n",
      " [5 6 7 8 9]]\n",
      "[0 1 2 3 4 5 6 7 8 9]\n"
     ]
    }
   ],
   "source": [
    "a=np.arange(10).reshape(2,5)\n",
    "print(a)\n",
    "b=a.flatten()\n",
    "print(b)"
   ]
  },
  {
   "cell_type": "markdown",
   "metadata": {},
   "source": [
    "## np.sort(X)\n",
    "numpy配列Xを昇順に並び替え"
   ]
  },
  {
   "cell_type": "code",
   "execution_count": 14,
   "metadata": {},
   "outputs": [
    {
     "name": "stdout",
     "output_type": "stream",
     "text": [
      "[0.07336971 0.02499979 0.36589211 0.9722168  0.87191087]\n",
      "[0.02499979 0.07336971 0.36589211 0.87191087 0.9722168 ]\n"
     ]
    }
   ],
   "source": [
    "X=np.random.rand(5)\n",
    "print(X)\n",
    "print(np.sort(X))"
   ]
  },
  {
   "cell_type": "markdown",
   "metadata": {},
   "source": [
    "## np.argsort(X)  X.argsort()\n",
    "numpy配列Xの要素を大きい順にindex番号を取得"
   ]
  },
  {
   "cell_type": "code",
   "execution_count": 16,
   "metadata": {},
   "outputs": [
    {
     "name": "stdout",
     "output_type": "stream",
     "text": [
      "[2 6 1 8 7]\n",
      "[2 0 1 4 3]\n",
      "[2 0 1 4 3]\n"
     ]
    }
   ],
   "source": [
    "X=np.random.randint(0,10,5)\n",
    "print(X)\n",
    "print(np.argsort(X))\n",
    "print(X.argsort())"
   ]
  },
  {
   "cell_type": "markdown",
   "metadata": {},
   "source": [
    "## numpy配列を逆順にする\n",
    "## X[::-1]"
   ]
  },
  {
   "cell_type": "code",
   "execution_count": 30,
   "metadata": {},
   "outputs": [
    {
     "name": "stdout",
     "output_type": "stream",
     "text": [
      "[5 5 7 1 9]\n",
      "[1 5 5 7 9]\n",
      "[9 7 5 5 1]\n"
     ]
    }
   ],
   "source": [
    "X=np.random.randint(1,10,5)\n",
    "print(X)\n",
    "X=np.sort(X)\n",
    "print(X)\n",
    "print(X[::-1])"
   ]
  },
  {
   "cell_type": "markdown",
   "metadata": {},
   "source": [
    "## np.log(X)\n",
    "自然対数\n",
    "## np.log2(X)\n",
    "底が2の対数\n",
    "## np.log10(X)\n",
    "底が10の対数\n",
    "## np.log1p(X+1)\n",
    "log(1+x)を計算。Xが0になる可能性がある場合"
   ]
  },
  {
   "cell_type": "code",
   "execution_count": 7,
   "metadata": {},
   "outputs": [
    {
     "name": "stdout",
     "output_type": "stream",
     "text": [
      "0.6931471805599453\n"
     ]
    }
   ],
   "source": [
    "X=0\n",
    "# log2を計算している\n",
    "print(np.log1p(1))"
   ]
  },
  {
   "cell_type": "markdown",
   "metadata": {},
   "source": [
    "## np.maximum(X, 0)\n",
    "numpy配列中の要素と、0を比較し、大きい値の配列を返す。X=np.array([1,-2,3])なら、[max(1,0),max(-2,0),max(3,0)]を行なう  \n",
    "名前がmaxと似ているので同じ関数かと思うが、異なるので気をつける。ReLUの実装でよく出てくる"
   ]
  },
  {
   "cell_type": "code",
   "execution_count": 13,
   "metadata": {},
   "outputs": [
    {
     "name": "stdout",
     "output_type": "stream",
     "text": [
      "[2 0 5 0]\n",
      "5\n"
     ]
    }
   ],
   "source": [
    "X=np.array([2,-3,5,-6])\n",
    "print(np.maximum(X,0))\n",
    "print(np.max(X))"
   ]
  },
  {
   "cell_type": "markdown",
   "metadata": {},
   "source": [
    "## numpyの和と積のありがたみを理解"
   ]
  },
  {
   "cell_type": "code",
   "execution_count": 21,
   "metadata": {},
   "outputs": [
    {
     "data": {
      "text/plain": [
       "24"
      ]
     },
     "execution_count": 21,
     "metadata": {},
     "output_type": "execute_result"
    }
   ],
   "source": [
    "# numpyを使わず和を取る場合\n",
    "def add(x,y):\n",
    "    assert x.shape==y.shape\n",
    "    for i in range(x.shape[0]):\n",
    "        for j in range(y.shape[1]):\n",
    "            x[i, j]+=y[i,j]\n",
    "    return x\n",
    "\n",
    "# numpyを使わず積を取る場合\n",
    "def time(x,y):\n",
    "    z=0\n",
    "    assert x.shape[1]==y.shape[0]\n",
    "    for i in range(x.shape[0]):\n",
    "        for j in range(y.shape[1]):\n",
    "            z=x[i,j]*y[j,i]\n",
    "    return z\n",
    "x=np.array([[1,2],[1,2]])\n",
    "y=np.array([[3,4],[3,4]])\n",
    "add(x,y)\n",
    "time(x,y)"
   ]
  },
  {
   "cell_type": "markdown",
   "metadata": {},
   "source": [
    "## numpyのブロードキャスト機能"
   ]
  },
  {
   "cell_type": "code",
   "execution_count": 27,
   "metadata": {},
   "outputs": [
    {
     "name": "stdout",
     "output_type": "stream",
     "text": [
      "(64, 28, 28, 3)\n"
     ]
    }
   ],
   "source": [
    "x=np.random.random((64,28,28,3))\n",
    "y=np.random.random((28,3))\n",
    "z=np.maximum(x,y)\n",
    "print(z.shape)"
   ]
  },
  {
   "cell_type": "markdown",
   "metadata": {},
   "source": [
    "## np.dot(X,Y)\n",
    "2つのテンソル積を行なう"
   ]
  },
  {
   "cell_type": "code",
   "execution_count": 35,
   "metadata": {},
   "outputs": [
    {
     "name": "stdout",
     "output_type": "stream",
     "text": [
      "(3, 4)\n",
      "(4, 3)\n",
      "(3, 3)\n"
     ]
    }
   ],
   "source": [
    "x=np.random.random((3,4))\n",
    "print(x.shape)\n",
    "y=np.random.random((4,3))\n",
    "print(y.shape)\n",
    "z=np.dot(x,y)\n",
    "print(z.shape)"
   ]
  },
  {
   "cell_type": "markdown",
   "metadata": {},
   "source": [
    "## np.prod(X)\n",
    "配列要素の積を計算する"
   ]
  },
  {
   "cell_type": "code",
   "execution_count": 16,
   "metadata": {},
   "outputs": [
    {
     "name": "stdout",
     "output_type": "stream",
     "text": [
      "[[0 9]\n",
      " [7 9]\n",
      " [3 7]]\n",
      "[  0 567]\n"
     ]
    }
   ],
   "source": [
    "X = np.random.randint(0, 10, (3, 2))\n",
    "print(X)\n",
    "print(np.prod(X, axis=0))"
   ]
  },
  {
   "cell_type": "markdown",
   "metadata": {},
   "source": [
    "## np.intersect1d(X1,X2)\n",
    "X1,X2の共通要素を返す。結果はソートされて変える"
   ]
  },
  {
   "cell_type": "code",
   "execution_count": 2,
   "metadata": {},
   "outputs": [
    {
     "data": {
      "text/plain": [
       "array(['B', 'D,'], dtype='<U2')"
      ]
     },
     "execution_count": 2,
     "metadata": {},
     "output_type": "execute_result"
    }
   ],
   "source": [
    "X1=np.array(['A,','B','C','D,','A','C','G'])\n",
    "X2=np.array(['B','D,','E'])\n",
    "np.intersect1d(X1,X2)"
   ]
  },
  {
   "cell_type": "markdown",
   "metadata": {},
   "source": [
    "## X.tolist()\n",
    "numpy配列をpyhtonのlist型に変更する"
   ]
  },
  {
   "cell_type": "code",
   "execution_count": 6,
   "metadata": {},
   "outputs": [
    {
     "data": {
      "text/plain": [
       "[0, 1, 2, 3, 4, 5, 6, 7, 8, 9]"
      ]
     },
     "execution_count": 6,
     "metadata": {},
     "output_type": "execute_result"
    }
   ],
   "source": [
    "X=np.arange(10)\n",
    "X.tolist()"
   ]
  },
  {
   "cell_type": "markdown",
   "metadata": {},
   "source": [
    "## X[np.isnan(X)]=-999\n",
    "numpy配列の欠損値補完。np.isnanでnanかどうかをbool値で返してくれる。"
   ]
  },
  {
   "cell_type": "markdown",
   "metadata": {},
   "source": [
    "## np.ceil(3.5)\n",
    "小数点以下を切り上げる"
   ]
  },
  {
   "cell_type": "markdown",
   "metadata": {},
   "source": [
    "## np.floor(3.4)\n",
    " 小数点以下を切り捨てる。"
   ]
  },
  {
   "cell_type": "code",
   "execution_count": 6,
   "metadata": {},
   "outputs": [
    {
     "name": "stdout",
     "output_type": "stream",
     "text": [
      "3.0 4.0\n"
     ]
    }
   ],
   "source": [
    "print(np.floor(3.4),np.ceil(3.4))"
   ]
  },
  {
   "cell_type": "markdown",
   "metadata": {},
   "source": [
    "## scipyの取り扱い"
   ]
  },
  {
   "cell_type": "code",
   "execution_count": 3,
   "metadata": {},
   "outputs": [
    {
     "data": {
      "text/plain": [
       "array([[0., 0., 0., 0., 0.],\n",
       "       [0., 0., 0., 0., 0.],\n",
       "       [0., 0., 0., 0., 0.],\n",
       "       [0., 0., 0., 0., 0.]])"
      ]
     },
     "execution_count": 3,
     "metadata": {},
     "output_type": "execute_result"
    }
   ],
   "source": [
    "from scipy import sparse\n",
    "import numpy as np\n",
    "a=sparse.lil_matrix((4,5))\n",
    "a.toarray"
   ]
  },
  {
   "cell_type": "code",
   "execution_count": null,
   "metadata": {},
   "outputs": [],
   "source": []
  },
  {
   "cell_type": "code",
   "execution_count": null,
   "metadata": {},
   "outputs": [],
   "source": []
  }
 ],
 "metadata": {
  "kernelspec": {
   "display_name": "Python 3",
   "language": "python",
   "name": "python3"
  },
  "language_info": {
   "codemirror_mode": {
    "name": "ipython",
    "version": 3
   },
   "file_extension": ".py",
   "mimetype": "text/x-python",
   "name": "python",
   "nbconvert_exporter": "python",
   "pygments_lexer": "ipython3",
   "version": "3.6.9"
  }
 },
 "nbformat": 4,
 "nbformat_minor": 2
}

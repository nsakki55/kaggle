{
 "cells": [
  {
   "cell_type": "markdown",
   "metadata": {},
   "source": [
    "# numpy チートシート"
   ]
  },
  {
   "cell_type": "code",
   "execution_count": 25,
   "metadata": {},
   "outputs": [],
   "source": [
    "import numpy as np\n",
    "import matplotlib.pyplot as plt\n",
    "%matplotlib inline"
   ]
  },
  {
   "cell_type": "markdown",
   "metadata": {},
   "source": [
    "# np.expand_dims(img_tensor,axis=0)\n",
    "img_tensorに0列目に次元を増やす。axisで場所を指定"
   ]
  },
  {
   "cell_type": "markdown",
   "metadata": {},
   "source": [
    "# np.zeros((15,16))\n",
    " 15×16の要素がすべて0のnumpy配列を作成"
   ]
  },
  {
   "cell_type": "markdown",
   "metadata": {},
   "source": [
    "# np.where(X>=0,1,-1)\n",
    " 行列X中の様子で0以上(条件)のものは1,0以下のものは-1にする\n",
    " ステップ関数で利用"
   ]
  },
  {
   "cell_type": "code",
   "execution_count": 8,
   "metadata": {},
   "outputs": [
    {
     "name": "stdout",
     "output_type": "stream",
     "text": [
      "[[0 1 2]\n",
      " [3 4 5]\n",
      " [6 7 8]]\n"
     ]
    },
    {
     "data": {
      "text/plain": [
       "array([[-1, -1, -1],\n",
       "       [-1,  1,  1],\n",
       "       [ 1,  1,  1]])"
      ]
     },
     "execution_count": 8,
     "metadata": {},
     "output_type": "execute_result"
    }
   ],
   "source": [
    "a = np.arange(9).reshape((3, 3))\n",
    "print(a)\n",
    "# 行列aの要素で4以上のものは１,4以下は-1にする\n",
    "np.where(a>=4,1,-1)"
   ]
  },
  {
   "cell_type": "markdown",
   "metadata": {},
   "source": [
    "# np.arange(1,10,2)\n",
    "Python のrange(1,10,2)に対応し、等差数列のnumpy行列を作成"
   ]
  },
  {
   "cell_type": "code",
   "execution_count": 10,
   "metadata": {},
   "outputs": [
    {
     "data": {
      "text/plain": [
       "array([1, 3, 5, 7, 9])"
      ]
     },
     "execution_count": 10,
     "metadata": {},
     "output_type": "execute_result"
    }
   ],
   "source": [
    "np.arange(1,10,2)"
   ]
  },
  {
   "cell_type": "markdown",
   "metadata": {},
   "source": [
    "## np.meshgrid(x,y)\n",
    "格子座標を作成する便利な関数"
   ]
  },
  {
   "cell_type": "markdown",
   "metadata": {},
   "source": [
    "## 行と要素を指定　X[:,[2,3]]\n",
    "行列Xをすべての行表示し、２列目と３列目をとりだす"
   ]
  },
  {
   "cell_type": "code",
   "execution_count": 5,
   "metadata": {},
   "outputs": [
    {
     "name": "stdout",
     "output_type": "stream",
     "text": [
      "[[5.1 3.5 1.4 0.2]\n",
      " [4.9 3.  1.4 0.2]\n",
      " [4.7 3.2 1.3 0.2]\n",
      " [4.6 3.1 1.5 0.2]\n",
      " [5.  3.6 1.4 0.2]]\n",
      "[[1.4 0.2]\n",
      " [1.4 0.2]\n",
      " [1.3 0.2]\n",
      " [1.5 0.2]\n",
      " [1.4 0.2]]\n"
     ]
    }
   ],
   "source": [
    "from sklearn import datasets\n",
    "iris=datasets.load_iris()\n",
    "print(iris.data[:5])\n",
    "print(iris.data[:5,[2,3]])"
   ]
  },
  {
   "cell_type": "markdown",
   "metadata": {},
   "source": [
    "## np.unique(X)\n",
    "重複を削除した配列をつくる"
   ]
  },
  {
   "cell_type": "code",
   "execution_count": 10,
   "metadata": {},
   "outputs": [
    {
     "name": "stdout",
     "output_type": "stream",
     "text": [
      "[1 2 3 4]\n",
      "['aa' 'bb' 'cc']\n"
     ]
    }
   ],
   "source": [
    "x=[1,2,2,2,3,3,4]\n",
    "y=['aa','aa','bb','bb','cc']\n",
    "print(np.unique(x))\n",
    "print(np.unique(y))"
   ]
  },
  {
   "cell_type": "markdown",
   "metadata": {},
   "source": [
    "## np.hstack((x1,x2))\n",
    "配列を水平方向につなげる。"
   ]
  },
  {
   "cell_type": "code",
   "execution_count": 20,
   "metadata": {},
   "outputs": [
    {
     "name": "stdout",
     "output_type": "stream",
     "text": [
      "[0 1 2 3 4 5 6 7 8 9]\n",
      "[0 1 2]\n",
      "[0 1 2 3 4 5 6 7 8 9 0 1 2]\n",
      "[[[ 0  1  2]\n",
      "  [ 3  4  5]]\n",
      "\n",
      " [[ 6  7  8]\n",
      "  [ 9 10 11]]]\n",
      "[[[0 1 2]]\n",
      "\n",
      " [[3 4 5]]]\n",
      "[[[ 0  1  2]\n",
      "  [ 3  4  5]\n",
      "  [ 0  1  2]]\n",
      "\n",
      " [[ 6  7  8]\n",
      "  [ 9 10 11]\n",
      "  [ 3  4  5]]]\n"
     ]
    }
   ],
   "source": [
    "x1=np.arange(10)\n",
    "x2=np.arange(3)\n",
    "\n",
    "print(x1)\n",
    "print(x2)\n",
    "print(np.hstack((x1,x2)))\n",
    "\n",
    "y1=np.arange(12).reshape(2,2,3)\n",
    "y2=np.arange(6).reshape(2,1,3)\n",
    "\n",
    "print(y1)\n",
    "print(y2)\n",
    "print(np.hstack((y1,y2)))"
   ]
  },
  {
   "cell_type": "markdown",
   "metadata": {},
   "source": [
    "## np.vstack((x1,x2))\n",
    "縦方向に連結する 列数があってないとエラー吐く"
   ]
  },
  {
   "cell_type": "code",
   "execution_count": 23,
   "metadata": {},
   "outputs": [
    {
     "data": {
      "text/plain": [
       "array([[1, 2],\n",
       "       [2, 3]])"
      ]
     },
     "execution_count": 23,
     "metadata": {},
     "output_type": "execute_result"
    }
   ],
   "source": [
    "np.vstack(([1,2],[2,3]))"
   ]
  },
  {
   "cell_type": "markdown",
   "metadata": {},
   "source": [
    "## np.random.randn(200,2)\n",
    "標準正規分布に従う乱数を要素に持つ200行2列の行列を作成"
   ]
  },
  {
   "cell_type": "code",
   "execution_count": 37,
   "metadata": {},
   "outputs": [
    {
     "data": {
      "image/png": "[encoded data removed]",
      "text/plain": [
       "<Figure size 432x144 with 2 Axes>"
      ]
     },
     "metadata": {
      "needs_background": "light"
     },
     "output_type": "display_data"
    }
   ],
   "source": [
    "X=np.random.randn(200,2)\n",
    "fig,ax=plt.subplots(ncols=2,nrows=1,figsize=(6,2))\n",
    "ax[0].hist(X[:,0],color='blue')\n",
    "ax[1].hist(X[:,1],color='green')\n",
    "plt.show()"
   ]
  },
  {
   "cell_type": "markdown",
   "metadata": {},
   "source": [
    "## np.logical_xor(X[:,0]>0,X[:,1]>0)\n",
    "排他的論理和(入力の2つの信号のうち、一方が1のときにだけ1を出力する)で、bool値を返す"
   ]
  },
  {
   "cell_type": "code",
   "execution_count": 58,
   "metadata": {},
   "outputs": [
    {
     "data": {
      "image/png": "[encoded data removed]",
      "text/plain": [
       "<Figure size 432x288 with 1 Axes>"
      ]
     },
     "metadata": {
      "needs_background": "light"
     },
     "output_type": "display_data"
    }
   ],
   "source": [
    "y_xor=np.logical_xor(X[:,0]>0,X[:,1]>0)\n",
    "y_xor=np.where(y_xor,1,-1)\n",
    "plt.scatter(X[y_xor==1,0],X[y_xor==1,1],c='r',marker='x',label='1')\n",
    "plt.scatter(X[y_xor==-1,0],X[y_xor==-1,1],c='b',marker='s',label='1')\n",
    "plt.legend()\n",
    "plt.show()"
   ]
  },
  {
   "cell_type": "code",
   "execution_count": null,
   "metadata": {},
   "outputs": [],
   "source": []
  }
 ],
 "metadata": {
  "kernelspec": {
   "display_name": "Python 3",
   "language": "python",
   "name": "python3"
  },
  "language_info": {
   "codemirror_mode": {
    "name": "ipython",
    "version": 3
   },
   "file_extension": ".py",
   "mimetype": "text/x-python",
   "name": "python",
   "nbconvert_exporter": "python",
   "pygments_lexer": "ipython3",
   "version": "3.6.8"
  }
 },
 "nbformat": 4,
 "nbformat_minor": 2
}

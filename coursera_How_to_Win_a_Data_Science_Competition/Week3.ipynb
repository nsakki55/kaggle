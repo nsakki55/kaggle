{
 "cells": [
  {
   "cell_type": "markdown",
   "metadata": {},
   "source": [
    "## なぜ様々な評価指標を使うのか\n",
    "各アルゴリズムによって、モデルが効果的なものかを判断する基準がことなるため。  \n",
    "## 回帰問題での評価指標\n",
    "### MeanSquareError (MSE)\n",
    "評価指標の指定がなければ大抵はMSEを用いる。  \n",
    "baselineとなるもでるはgirdサーチで適当なパラメータに調節する。\n",
    "<img src=\"images/metrics1.png\" width='400px'> \n",
    "### Root Mean Square Error (RMSE)\n",
    "MSEの平方根をとったもの。MSE,RMSEの値が良いかどうかは、データによる。ベースモデルでの値と比較する。\n",
    "### Mean Absolute Error (MAE)\n",
    "真値との絶対値をとる。MSEに比べると、外れ値の影響を受けにくい（ロバスト性が高い）  \n",
    "逆に言うと、外れ値を無視してしまうので注意が必要になる。\n",
    "<img src=\"images/metrics2.png\" width='400px'>\n",
    "<img src=\"images/metrics3.png\" width='400px'>\n",
    "### その他の評価指標\n",
    "<img src=\"images/metrics4.png\" width='400px'>\n",
    "### RMSLE\n",
    "<img src=\"images/metrics5.png\" width='400px'>"
   ]
  },
  {
   "cell_type": "markdown",
   "metadata": {},
   "source": [
    "## 分類問題での評価指標\n",
    "### accuracy\n",
    "正解率。ラベルに偏りのあるデータに対しては、極端に高い値がでてしまう。\n",
    "### Logistic Loss ( logloss)\n",
    "交差エントロピー。二値分類と、他クラス分類で形が異なるのて注意。\n",
    "<img src=\"images/metrics6.png\" width='400px'>\n",
    "### AUC ROC\n",
    "<img src=\"images/metrics7.png\" width='400px'>"
   ]
  },
  {
   "cell_type": "code",
   "execution_count": null,
   "metadata": {},
   "outputs": [],
   "source": []
  }
 ],
 "metadata": {
  "kernelspec": {
   "display_name": "Python 3",
   "language": "python",
   "name": "python3"
  },
  "language_info": {
   "codemirror_mode": {
    "name": "ipython",
    "version": 3
   },
   "file_extension": ".py",
   "mimetype": "text/x-python",
   "name": "python",
   "nbconvert_exporter": "python",
   "pygments_lexer": "ipython3",
   "version": "3.6.8"
  }
 },
 "nbformat": 4,
 "nbformat_minor": 2
}

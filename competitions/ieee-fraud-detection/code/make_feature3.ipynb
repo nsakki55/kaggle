{
 "cells": [
  {
   "cell_type": "code",
   "execution_count": 1,
   "metadata": {},
   "outputs": [],
   "source": [
    "import numpy as np\n",
    "import pandas as pd\n",
    "\n",
    "import warnings\n",
    "warnings.simplefilter('ignore')\n",
    "\n",
    "import gc, sys\n",
    "gc.enable()\n",
    "\n",
    "import os\n",
    "for dirname, _, filenames in os.walk('/kaggle/input'):\n",
    "    for filename in filenames:\n",
    "        print(os.path.join(dirname, filename))"
   ]
  },
  {
   "cell_type": "code",
   "execution_count": 2,
   "metadata": {},
   "outputs": [
    {
     "name": "stdout",
     "output_type": "stream",
     "text": [
      "CPU times: user 17.4 s, sys: 3.81 s, total: 21.3 s\n",
      "Wall time: 19.3 s\n"
     ]
    },
    {
     "data": {
      "text/plain": [
       "1249"
      ]
     },
     "execution_count": 2,
     "metadata": {},
     "output_type": "execute_result"
    }
   ],
   "source": [
    "%%time\n",
    "train_transaction = pd.read_csv('../input/train_transaction.csv', index_col='TransactionID')\n",
    "train_identity = pd.read_csv('../input/train_identity.csv', index_col='TransactionID')\n",
    "train = train_transaction.merge(train_identity, how='left', left_index=True, right_index=True)\n",
    "del train_transaction, train_identity\n",
    "gc.collect()"
   ]
  },
  {
   "cell_type": "code",
   "execution_count": 3,
   "metadata": {},
   "outputs": [
    {
     "name": "stdout",
     "output_type": "stream",
     "text": [
      "CPU times: user 16 s, sys: 3.43 s, total: 19.5 s\n",
      "Wall time: 17.7 s\n"
     ]
    },
    {
     "data": {
      "text/plain": [
       "0"
      ]
     },
     "execution_count": 3,
     "metadata": {},
     "output_type": "execute_result"
    }
   ],
   "source": [
    "%%time\n",
    "test_transaction = pd.read_csv('../input/test_transaction.csv', index_col='TransactionID')\n",
    "test_identity = pd.read_csv('../input/test_identity.csv', index_col='TransactionID')\n",
    "test = test_transaction.merge(test_identity, how='left', left_index=True, right_index=True)\n",
    "del test_transaction, test_identity\n",
    "gc.collect()"
   ]
  },
  {
   "cell_type": "code",
   "execution_count": 5,
   "metadata": {},
   "outputs": [],
   "source": [
    "selected_features = [\n",
    "    'TransactionAmt', 'ProductCD',\n",
    "    'card1', 'card2', 'card3', 'card4', 'card5', 'card6', 'addr1', 'addr2', 'dist1',\n",
    "    'P_emaildomain', 'R_emaildomain',\n",
    "    'C1', 'C2', 'C4', 'C5', 'C6', 'C7', 'C8', 'C9', 'C10', 'C11', 'C12', 'C13', 'C14',\n",
    "    'D1', 'D2', 'D3', 'D4', 'D5', 'D6', 'D8', 'D9', 'D10', 'D11', 'D12', 'D13', 'D14', 'D15',\n",
    "    'M2', 'M3', 'M4', 'M5', 'M6', 'M7', 'M8', 'M9',\n",
    "    'V3', 'V4', 'V5', 'V6', 'V7', 'V8', 'V9', 'V10', 'V11', 'V12',\n",
    "    'V13', 'V17', 'V19', 'V20', 'V29', 'V30', 'V33', 'V34', 'V35', 'V36',\n",
    "    'V37', 'V38', 'V40', 'V44', 'V45', 'V46', 'V47', 'V48', 'V49', 'V51',\n",
    "    'V52', 'V53', 'V54', 'V56', 'V58', 'V59', 'V60', 'V61', 'V62', 'V63',\n",
    "    'V64', 'V69', 'V70', 'V71', 'V72', 'V73', 'V74', 'V75', 'V76', 'V78',\n",
    "    'V80', 'V81', 'V82', 'V83', 'V84', 'V85', 'V87', 'V90', 'V91', 'V92',\n",
    "    'V93', 'V94', 'V95', 'V96', 'V97', 'V99', 'V100', 'V126', 'V127', 'V128',\n",
    "    'V130', 'V131', 'V138', 'V139', 'V140', 'V143', 'V145', 'V146', 'V147', 'V149',\n",
    "    'V150', 'V151', 'V152', 'V154', 'V156', 'V158', 'V159', 'V160', 'V161', 'V162',\n",
    "    'V163', 'V164', 'V165', 'V166', 'V167', 'V169', 'V170', 'V171', 'V172', 'V173',\n",
    "    'V175', 'V176', 'V177', 'V178', 'V180', 'V182', 'V184', 'V187', 'V188', 'V189',\n",
    "    'V195', 'V197', 'V200', 'V201', 'V202', 'V203', 'V204', 'V205', 'V206', 'V207',\n",
    "    'V208', 'V209', 'V210', 'V212', 'V213', 'V214', 'V215', 'V216', 'V217', 'V219',\n",
    "    'V220', 'V221', 'V222', 'V223', 'V224', 'V225', 'V226', 'V227', 'V228', 'V229',\n",
    "    'V231', 'V233', 'V234', 'V238', 'V239', 'V242', 'V243', 'V244', 'V245', 'V246',\n",
    "    'V247', 'V249', 'V251', 'V253', 'V256', 'V257', 'V258', 'V259', 'V261', 'V262',\n",
    "    'V263', 'V264', 'V265', 'V266', 'V267', 'V268', 'V270', 'V271', 'V272', 'V273',\n",
    "    'V274', 'V275', 'V276', 'V277', 'V278', 'V279', 'V280', 'V282', 'V283', 'V285',\n",
    "    'V287', 'V288', 'V289', 'V291', 'V292', 'V294', 'V303', 'V304', 'V306', 'V307',\n",
    "    'V308', 'V310', 'V312', 'V313', 'V314', 'V315', 'V317', 'V322', 'V323', 'V324',\n",
    "    'V326', 'V329', 'V331', 'V332', 'V333', 'V335', 'V336', 'V338',\n",
    "    'id_01', 'id_02', 'id_03', 'id_05', 'id_06', 'id_09', 'id_11', 'id_12', 'id_13', 'id_14',\n",
    "    'id_15', 'id_17', 'id_19', 'id_20', 'id_30', 'id_31', 'id_32', 'id_33', 'id_36', 'id_37',\n",
    "    'id_38', 'DeviceType', 'DeviceInfo'\n",
    "]\n",
    "\n",
    "columns_to_drop = list(set(train.columns) - set(selected_features) - set(['isFraud', 'TransactionDT']))"
   ]
  },
  {
   "cell_type": "code",
   "execution_count": 6,
   "metadata": {},
   "outputs": [],
   "source": [
    "train = train.drop(columns_to_drop, axis=1)\n",
    "test = test.drop(columns_to_drop, axis=1)"
   ]
  },
  {
   "cell_type": "code",
   "execution_count": 7,
   "metadata": {},
   "outputs": [],
   "source": [
    "train['null_columns'] = train.isna().sum(axis=1)\n",
    "test['null_columns'] = test.isna().sum(axis=1)"
   ]
  },
  {
   "cell_type": "code",
   "execution_count": 9,
   "metadata": {},
   "outputs": [],
   "source": [
    "train = train.fillna(-999)\n",
    "test = test.fillna(-999)"
   ]
  },
  {
   "cell_type": "code",
   "execution_count": 12,
   "metadata": {},
   "outputs": [
    {
     "data": {
      "text/plain": [
       "0"
      ]
     },
     "execution_count": 12,
     "metadata": {},
     "output_type": "execute_result"
    }
   ],
   "source": [
    "# columns with 90% null\n",
    "many_null_columns_train = [c for c in train.columns if train[c].isnull().sum() / train.shape[0] > 0.9]\n",
    "\n",
    "many_same_values_columns_train = [c for c in train.columns if train[c].value_counts(normalize=True).values[0] > 0.9]\n",
    "\n",
    "# value_counts(dropna=False, normalize=True)  ^^^\n",
    "# commented code not needed because of 'fillna(-999)'\n",
    "\n",
    "many_same_values_columns_test = [c for c in test.columns if test[c].value_counts(normalize=True).values[0] > 0.9]\n",
    "\n",
    "columns_to_drop = list(set(many_same_values_columns_train + many_same_values_columns_test))\n",
    "columns_to_drop.remove('isFraud')\n",
    "len(columns_to_drop)"
   ]
  },
  {
   "cell_type": "code",
   "execution_count": 13,
   "metadata": {},
   "outputs": [],
   "source": [
    "train = train.drop(columns_to_drop, axis=1)\n",
    "test = test.drop(columns_to_drop, axis=1)"
   ]
  },
  {
   "cell_type": "code",
   "execution_count": 14,
   "metadata": {},
   "outputs": [],
   "source": [
    "import re\n",
    "\n",
    "os = ['Windows', 'iOS', 'Android', 'Mac OS', 'Linux']\n",
    "browser = ['chrome', 'mobile safari', 'ie', 'safari', 'edge', 'firefox']\n",
    "device = ['Windows', 'iOS', 'MacOS', 'SM', 'SAMSUNG', 'Moto', 'LG']\n",
    "\n",
    "def to_pattern(x: str, patterns):\n",
    "    for p in patterns:\n",
    "        t = re.compile('^(' + p + ').*')\n",
    "        if t.match(x):\n",
    "            return p\n",
    "    return 'other'\n",
    "\n",
    "def make_os_feature(df):\n",
    "    return df['id_30'].map(lambda x: to_pattern(str(x), os))\n",
    "\n",
    "def make_browser_feature(df):\n",
    "    return df['id_31'].map(lambda x: to_pattern(str(x), browser))\n",
    "\n",
    "def make_device_feature(df):\n",
    "    return df['DeviceInfo'].map(lambda x: to_pattern(str(x), device))\n",
    "\n",
    "train['os'] = make_os_feature(train)\n",
    "train['browser'] = make_browser_feature(train)\n",
    "train['device'] = make_device_feature(train)\n",
    "\n",
    "test['os'] = make_os_feature(test)\n",
    "test['browser'] = make_browser_feature(test)\n",
    "test['device'] = make_device_feature(test)"
   ]
  },
  {
   "cell_type": "code",
   "execution_count": 17,
   "metadata": {},
   "outputs": [],
   "source": [
    "train['TransactionAmt_decimal'] = ((train['TransactionAmt'] - train['TransactionAmt'].astype(int)) * 1000).astype(int)\n",
    "test['TransactionAmt_decimal'] = ((test['TransactionAmt'] - test['TransactionAmt'].astype(int)) * 1000).astype(int)"
   ]
  },
  {
   "cell_type": "code",
   "execution_count": 18,
   "metadata": {},
   "outputs": [],
   "source": [
    "def make_aggregates(df, feature_to_group_by, feature):\n",
    "    out = pd.DataFrame(index=df.index)\n",
    "    \n",
    "    # filter for -999 is needed because NaN values were filled by this constant\n",
    "    agg = df[df[feature] != -999].groupby([feature_to_group_by])[feature]\n",
    "    \n",
    "    new_feature = feature + '_' + feature_to_group_by\n",
    "    out[new_feature + '_mean'] = df[feature] / agg.transform('mean')\n",
    "    out[new_feature + '_std' ] = df[feature] / agg.transform('std')\n",
    "    \n",
    "    return out\n",
    "\n",
    "def merge_aggregates(df, feature_to_group_by, feature):\n",
    "    return df.merge(make_aggregates(df, feature_to_group_by, feature), how='left', left_index=True, right_index=True)\n",
    "\n",
    "\n",
    "for pair in [('card1', 'TransactionAmt'), ('card1', 'D15'), ('addr1', 'TransactionAmt')]:\n",
    "    train = merge_aggregates(train, pair[0], pair[1])\n",
    "    test = merge_aggregates(test, pair[0], pair[1])"
   ]
  },
  {
   "cell_type": "code",
   "execution_count": 19,
   "metadata": {},
   "outputs": [],
   "source": [
    "def make_count_1(feature, df):\n",
    "    temp = df[feature].value_counts(dropna=False)\n",
    "    new_feature = feature + '_count'\n",
    "    df[new_feature] = df[feature].map(temp)\n",
    "\n",
    "def make_count_2(feature, train, test):\n",
    "    temp = pd.concat([train[feature], test[feature]], ignore_index=True).value_counts(dropna=False)\n",
    "    new_feature = feature + '_count'\n",
    "    train[new_feature] = train[feature].map(temp)\n",
    "    test[new_feature] = test[feature].map(temp)\n",
    "\n",
    "\n",
    "for feature in ['id_01', 'id_31', 'id_33', 'id_36']:\n",
    "    make_count_1(feature, train)\n",
    "    make_count_1(feature, test)\n",
    "    \n",
    "for feature in ['card1', 'id_36']:\n",
    "    make_count_2(feature, train, test)"
   ]
  },
  {
   "cell_type": "code",
   "execution_count": 20,
   "metadata": {},
   "outputs": [],
   "source": [
    "def features_interaction(df, feature_1, feature_2):\n",
    "    return df[feature_1].astype(str) + '_' + df[feature_2].astype(str)\n",
    "\n",
    "features_interactions = [\n",
    "    'id_02__id_20',\n",
    "    'id_02__D8',\n",
    "    'D11__DeviceInfo',\n",
    "    'DeviceInfo__P_emaildomain',\n",
    "    'P_emaildomain__C2',\n",
    "    'card2__dist1',\n",
    "    'card1__card5',\n",
    "    'card2__id_20',\n",
    "    'card5__P_emaildomain',\n",
    "    'addr1__card1'\n",
    "]\n",
    "\n",
    "for new_feature in features_interactions:\n",
    "    feature_1, feature_2 = new_feature.split('__')\n",
    "    train[new_feature] = features_interaction(train, feature_1, feature_2)\n",
    "    test[new_feature] = features_interaction(test, feature_1, feature_2)"
   ]
  },
  {
   "cell_type": "code",
   "execution_count": 22,
   "metadata": {},
   "outputs": [],
   "source": [
    "def make_day_feature(df, offset=0.58, tname='TransactionDT'):\n",
    "    \"\"\"\n",
    "    Creates a day of the week feature, encoded as 0-6.\n",
    "    \"\"\"\n",
    "    days = df[tname] / (3600 * 24)\n",
    "    encoded_days = np.floor(days - 1 + offset) % 7\n",
    "    return encoded_days\n",
    "\n",
    "def make_hour_feature(df, tname='TransactionDT'):\n",
    "    \"\"\"\n",
    "    Creates an hour of the day feature, encoded as 0-23.\n",
    "    \"\"\"\n",
    "    hours = df[tname] / (3600)\n",
    "    encoded_hours = np.floor(hours) % 24\n",
    "    return encoded_hours\n",
    "\n",
    "train['Weekday'] = make_day_feature(train)\n",
    "train['Hour'] = make_hour_feature(train)\n",
    "\n",
    "test['Weekday'] = make_day_feature(test)\n",
    "test['Hour'] = make_hour_feature(test)"
   ]
  },
  {
   "cell_type": "code",
   "execution_count": 23,
   "metadata": {},
   "outputs": [],
   "source": [
    "email_vendors = {\n",
    "    'gmail': 'google',\n",
    "    'att.net': 'att',\n",
    "    'twc.com': 'spectrum',\n",
    "    'scranton.edu': 'other',\n",
    "    'optonline.net': 'other',\n",
    "    'hotmail.co.uk': 'microsoft',\n",
    "    'comcast.net': 'other',\n",
    "    'yahoo.com.mx': 'yahoo',\n",
    "    'yahoo.fr': 'yahoo',\n",
    "    'yahoo.es': 'yahoo',\n",
    "    'charter.net': 'spectrum',\n",
    "    'live.com': 'microsoft',\n",
    "    'aim.com': 'aol',\n",
    "    'hotmail.de': 'microsoft',\n",
    "    'centurylink.net': 'centurylink',\n",
    "    'gmail.com': 'google',\n",
    "    'me.com': 'apple',\n",
    "    'earthlink.net': 'other',\n",
    "    'gmx.de': 'other',\n",
    "    'web.de': 'other',\n",
    "    'cfl.rr.com': 'other',\n",
    "    'hotmail.com': 'microsoft',\n",
    "    'protonmail.com': 'other',\n",
    "    'hotmail.fr': 'microsoft',\n",
    "    'windstream.net': 'other',\n",
    "    'outlook.es': 'microsoft',\n",
    "    'yahoo.co.jp': 'yahoo',\n",
    "    'yahoo.de': 'yahoo',\n",
    "    'servicios-ta.com': 'other',\n",
    "    'netzero.net': 'other',\n",
    "    'suddenlink.net': 'other',\n",
    "    'roadrunner.com': 'other',\n",
    "    'sc.rr.com': 'other',\n",
    "    'live.fr': 'microsoft',\n",
    "    'verizon.net': 'yahoo',\n",
    "    'msn.com': 'microsoft',\n",
    "    'q.com': 'centurylink',\n",
    "    'prodigy.net.mx': 'att',\n",
    "    'frontier.com': 'yahoo',\n",
    "    'anonymous.com': 'other',\n",
    "    'rocketmail.com': 'yahoo',\n",
    "    'sbcglobal.net': 'att',\n",
    "    'frontiernet.net': 'yahoo',\n",
    "    'ymail.com': 'yahoo',\n",
    "    'outlook.com': 'microsoft',\n",
    "    'mail.com': 'other',\n",
    "    'bellsouth.net': 'other',\n",
    "    'embarqmail.com': 'centurylink',\n",
    "    'cableone.net': 'other',\n",
    "    'hotmail.es': 'microsoft',\n",
    "    'mac.com': 'apple',\n",
    "    'yahoo.co.uk': 'yahoo',\n",
    "    'netzero.com': 'other',\n",
    "    'yahoo.com': 'yahoo',\n",
    "    'live.com.mx': 'microsoft',\n",
    "    'ptd.net': 'other',\n",
    "    'cox.net': 'other',\n",
    "    'aol.com': 'aol',\n",
    "    'juno.com': 'other',\n",
    "    'icloud.com': 'apple',\n",
    "    -999: 'undefined'\n",
    "}\n",
    "\n",
    "us_emails = ['gmail', 'net', 'edu']\n",
    "\n",
    "def transform_email(df, column):\n",
    "    out = pd.DataFrame(index=df.index)\n",
    "    \n",
    "    # vendor\n",
    "    out[column + '_vendor'] = df[column].map(email_vendors)\n",
    "    \n",
    "    # suffix\n",
    "    out[column + '_suffix'] = df[column].map(lambda x: str(x).split('.')[-1])\n",
    "    \n",
    "    # US\n",
    "    out[column + '_us'] = out[column + '_suffix'].map(lambda x: 'us' if str(x) in us_emails else 'other')\n",
    "    \n",
    "    return out"
   ]
  },
  {
   "cell_type": "code",
   "execution_count": 24,
   "metadata": {},
   "outputs": [],
   "source": [
    "temp = transform_email(train, 'P_emaildomain')\n",
    "train = train.merge(temp, how='left', left_index=True, right_index=True)\n",
    "temp = transform_email(train, 'R_emaildomain')\n",
    "train = train.merge(temp, how='left', left_index=True, right_index=True)\n",
    "del temp\n",
    "\n",
    "temp = transform_email(test, 'P_emaildomain')\n",
    "test = test.merge(temp, how='left', left_index=True, right_index=True)\n",
    "temp = transform_email(test, 'R_emaildomain')\n",
    "test = test.merge(temp, how='left', left_index=True, right_index=True)\n",
    "del temp"
   ]
  },
  {
   "cell_type": "code",
   "execution_count": 25,
   "metadata": {},
   "outputs": [],
   "source": [
    "train = train.sort_values('TransactionDT').drop('TransactionDT', axis=1)\n",
    "test = test.sort_values('TransactionDT').drop('TransactionDT', axis=1)"
   ]
  },
  {
   "cell_type": "code",
   "execution_count": 27,
   "metadata": {},
   "outputs": [],
   "source": [
    "from sklearn.preprocessing import LabelEncoder\n",
    "\n",
    "\n",
    "def encode_categorial_features_fit(df, columns_to_encode):\n",
    "    encoders = {}\n",
    "    for c in columns_to_encode:\n",
    "        if c in df.columns:\n",
    "            encoder = LabelEncoder()\n",
    "            encoder.fit(df[c].astype(str).values)\n",
    "            encoders[c] = encoder\n",
    "    return encoders\n",
    "\n",
    "def encode_categorial_features_transform(df, encoders):\n",
    "    out = pd.DataFrame(index=df.index)\n",
    "    for c in encoders.keys():\n",
    "        if c in df.columns:\n",
    "            out[c] = encoders[c].transform(df[c].astype(str).values)\n",
    "    return out\n",
    "\n",
    "\n",
    "categorial_features_columns = [\n",
    "    'id_12', 'id_13', 'id_14', 'id_15', 'id_16', 'id_17', 'id_18', 'id_19', 'id_20', 'id_21',\n",
    "    'id_22', 'id_23', 'id_24', 'id_25', 'id_26', 'id_27', 'id_28', 'id_29', 'id_30', 'id_31',\n",
    "    'id_32', 'id_33', 'id_34', 'id_35', 'id_36', 'id_37', 'id_38',\n",
    "    'DeviceType', 'DeviceInfo', 'ProductCD', 'P_emaildomain', 'R_emaildomain',\n",
    "    'card1', 'card2', 'card3', 'card4', 'card5', 'card6',\n",
    "    'addr1', 'addr2',\n",
    "    'M1', 'M2', 'M3', 'M4', 'M5', 'M6', 'M7', 'M8', 'M9',\n",
    "    'P_emaildomain_vendor', 'P_emaildomain_suffix', 'P_emaildomain_us',\n",
    "    'R_emaildomain_vendor', 'R_emaildomain_suffix', 'R_emaildomain_us' # ,\n",
    "    'os', 'browser', 'device'\n",
    "] + features_interactions\n",
    "\n",
    "categorial_features_encoders = encode_categorial_features_fit(\n",
    "    pd.concat([train, test], join='outer', sort=False),\n",
    "    categorial_features_columns)"
   ]
  },
  {
   "cell_type": "code",
   "execution_count": 28,
   "metadata": {},
   "outputs": [],
   "source": [
    "temp = encode_categorial_features_transform(train, categorial_features_encoders)\n",
    "columns_to_drop = list(set(categorial_features_columns) & set(train.columns))\n",
    "train = train.drop(columns_to_drop, axis=1).merge(temp, how='left', left_index=True, right_index=True)\n",
    "del temp\n",
    "\n",
    "temp = encode_categorial_features_transform(test, categorial_features_encoders)\n",
    "columns_to_drop = list(set(categorial_features_columns) & set(test.columns))\n",
    "test = test.drop(columns_to_drop, axis=1).merge(temp, how='left', left_index=True, right_index=True)\n",
    "del temp"
   ]
  },
  {
   "cell_type": "code",
   "execution_count": 29,
   "metadata": {},
   "outputs": [],
   "source": [
    "def reduce_mem_usage(df):\n",
    "    \"\"\" iterate through all the columns of a dataframe and modify the data type\n",
    "        to reduce memory usage.        \n",
    "    \"\"\"\n",
    "    start_mem = df.memory_usage().sum() / 1024**2\n",
    "    print('Memory usage of dataframe is {:.2f} MB'.format(start_mem))\n",
    "    \n",
    "    for col in df.columns:\n",
    "        col_type = df[col].dtype\n",
    "        \n",
    "        if col_type != object:\n",
    "            c_min = df[col].min()\n",
    "            c_max = df[col].max()\n",
    "            if str(col_type)[:3] == 'int':\n",
    "                if c_min > np.iinfo(np.int8).min and c_max < np.iinfo(np.int8).max:\n",
    "                    df[col] = df[col].astype(np.int8)\n",
    "                elif c_min > np.iinfo(np.int16).min and c_max < np.iinfo(np.int16).max:\n",
    "                    df[col] = df[col].astype(np.int16)\n",
    "                elif c_min > np.iinfo(np.int32).min and c_max < np.iinfo(np.int32).max:\n",
    "                    df[col] = df[col].astype(np.int32)\n",
    "                elif c_min > np.iinfo(np.int64).min and c_max < np.iinfo(np.int64).max:\n",
    "                    df[col] = df[col].astype(np.int64)  \n",
    "            else:\n",
    "                if c_min > np.finfo(np.float16).min and c_max < np.finfo(np.float16).max:\n",
    "                    df[col] = df[col].astype(np.float16)\n",
    "                elif c_min > np.finfo(np.float32).min and c_max < np.finfo(np.float32).max:\n",
    "                    df[col] = df[col].astype(np.float32)\n",
    "                else:\n",
    "                    df[col] = df[col].astype(np.float64)\n",
    "#        else:\n",
    "#            df[col] = df[col].astype('category')\n",
    "\n",
    "    end_mem = df.memory_usage().sum() / 1024**2\n",
    "    print('Memory usage after optimization is: {:.2f} MB'.format(end_mem))\n",
    "    print('Decreased by {:.1f}%'.format(100 * (start_mem - end_mem) / start_mem))\n",
    "    \n",
    "    return df"
   ]
  },
  {
   "cell_type": "code",
   "execution_count": 30,
   "metadata": {},
   "outputs": [
    {
     "name": "stdout",
     "output_type": "stream",
     "text": [
      "Memory usage of dataframe is 1439.22 MB\n",
      "Memory usage after optimization is: 419.86 MB\n",
      "Decreased by 70.8%\n",
      "Memory usage of dataframe is 1233.84 MB\n",
      "Memory usage after optimization is: 369.85 MB\n",
      "Decreased by 70.0%\n"
     ]
    }
   ],
   "source": [
    "train = reduce_mem_usage(train)\n",
    "test = reduce_mem_usage(test)"
   ]
  },
  {
   "cell_type": "code",
   "execution_count": 31,
   "metadata": {},
   "outputs": [],
   "source": [
    "y_train = train['isFraud'].copy()\n",
    "x_train = train.drop('isFraud', axis=1)\n",
    "del train\n",
    "\n",
    "x_test = test.copy()\n",
    "del test"
   ]
  },
  {
   "cell_type": "code",
   "execution_count": 33,
   "metadata": {},
   "outputs": [],
   "source": [
    "from sklearn.model_selection import KFold, train_test_split\n",
    "import lightgbm as lgb\n",
    "from sklearn.metrics import roc_auc_score\n",
    "import optuna"
   ]
  },
  {
   "cell_type": "code",
   "execution_count": 40,
   "metadata": {},
   "outputs": [],
   "source": [
    "x_train.drop(['os', 'R_emaildomain_us'],axis=1,inplace=True)\n",
    "x_test.drop(['os', 'R_emaildomain_us'],axis=1,inplace=True)"
   ]
  },
  {
   "cell_type": "code",
   "execution_count": 41,
   "metadata": {},
   "outputs": [
    {
     "name": "stdout",
     "output_type": "stream",
     "text": [
      "[100]\tvalid_0's binary_logloss: 0.0727913\n",
      "Fold score: 0.9037653772435538\n",
      "[100]\tvalid_0's binary_logloss: 0.0906927\n",
      "Fold score: 0.9222472959461455\n",
      "[100]\tvalid_0's binary_logloss: 0.087174\n",
      "Fold score: 0.9188195970504308\n",
      "[100]\tvalid_0's binary_logloss: 0.0864175\n",
      "Fold score: 0.9362130399437115\n",
      "[100]\tvalid_0's binary_logloss: 0.0876126\n",
      "Fold score: 0.9124173189164176\n",
      "Average score: 0.9186925258200518\n"
     ]
    },
    {
     "name": "stderr",
     "output_type": "stream",
     "text": [
      "\u001b[32m[I 2019-10-02 01:06:22,972]\u001b[0m Finished trial#0 resulted in value: 0.9186925258200518. Current best value is 0.9186925258200518 with parameters: {'num_leaves': 594, 'min_data_in_leaf': 159, 'min_child_weight': 0.019631134173829584, 'max_depth': 9, 'bagging_fraction': 0.7299897165169776, 'feature_fraction': 0.7835529811894474, 'lambda_l1': 0.1595681060057512, 'lambda_l2': 0.18101288904272522}.\u001b[0m\n"
     ]
    },
    {
     "name": "stdout",
     "output_type": "stream",
     "text": [
      "[100]\tvalid_0's binary_logloss: 0.0710649\n",
      "Fold score: 0.9118757961722049\n",
      "[100]\tvalid_0's binary_logloss: 0.0953017\n",
      "Fold score: 0.9302446848213557\n",
      "[100]\tvalid_0's binary_logloss: 0.0900128\n",
      "Fold score: 0.9294392755713268\n",
      "[100]\tvalid_0's binary_logloss: 0.0868855\n",
      "Fold score: 0.9443499010548062\n",
      "[100]\tvalid_0's binary_logloss: 0.092696\n",
      "Fold score: 0.9197700571502033\n",
      "Average score: 0.9271359429539793\n"
     ]
    },
    {
     "name": "stderr",
     "output_type": "stream",
     "text": [
      "\u001b[32m[I 2019-10-02 01:11:09,545]\u001b[0m Finished trial#1 resulted in value: 0.9271359429539793. Current best value is 0.9271359429539793 with parameters: {'num_leaves': 905, 'min_data_in_leaf': 132, 'min_child_weight': 0.002759286177274377, 'max_depth': 100, 'bagging_fraction': 0.6709670743998799, 'feature_fraction': 0.7479999704759364, 'lambda_l1': 0.7416015113546764, 'lambda_l2': 0.1677834775943485}.\u001b[0m\n"
     ]
    },
    {
     "name": "stdout",
     "output_type": "stream",
     "text": [
      "[100]\tvalid_0's binary_logloss: 0.067662\n",
      "Fold score: 0.9104791809144757\n",
      "[100]\tvalid_0's binary_logloss: 0.0920337\n",
      "Fold score: 0.929787692875526\n",
      "[100]\tvalid_0's binary_logloss: 0.0870738\n",
      "Fold score: 0.9278171995613765\n",
      "[100]\tvalid_0's binary_logloss: 0.0839626\n",
      "Fold score: 0.9442815910378052\n",
      "[100]\tvalid_0's binary_logloss: 0.0893791\n",
      "Fold score: 0.9202439750253874\n",
      "Average score: 0.9265219278829141\n"
     ]
    },
    {
     "name": "stderr",
     "output_type": "stream",
     "text": [
      "\u001b[32m[I 2019-10-02 01:14:49,232]\u001b[0m Finished trial#2 resulted in value: 0.9265219278829141. Current best value is 0.9271359429539793 with parameters: {'num_leaves': 905, 'min_data_in_leaf': 132, 'min_child_weight': 0.002759286177274377, 'max_depth': 100, 'bagging_fraction': 0.6709670743998799, 'feature_fraction': 0.7479999704759364, 'lambda_l1': 0.7416015113546764, 'lambda_l2': 0.1677834775943485}.\u001b[0m\n"
     ]
    },
    {
     "name": "stdout",
     "output_type": "stream",
     "text": [
      "[100]\tvalid_0's binary_logloss: 0.0686721\n",
      "Fold score: 0.9103490897541588\n"
     ]
    },
    {
     "ename": "KeyboardInterrupt",
     "evalue": "",
     "output_type": "error",
     "traceback": [
      "\u001b[0;31m---------------------------------------------------------------------------\u001b[0m",
      "\u001b[0;31mKeyboardInterrupt\u001b[0m                         Traceback (most recent call last)",
      "\u001b[0;32m<ipython-input-41-88d87ee10c69>\u001b[0m in \u001b[0;36m<module>\u001b[0;34m\u001b[0m\n\u001b[1;32m     45\u001b[0m \u001b[0;34m\u001b[0m\u001b[0m\n\u001b[1;32m     46\u001b[0m \u001b[0mstudy\u001b[0m \u001b[0;34m=\u001b[0m \u001b[0moptuna\u001b[0m\u001b[0;34m.\u001b[0m\u001b[0mcreate_study\u001b[0m\u001b[0;34m(\u001b[0m\u001b[0mdirection\u001b[0m\u001b[0;34m=\u001b[0m\u001b[0;34m'maximize'\u001b[0m\u001b[0;34m)\u001b[0m\u001b[0;34m\u001b[0m\u001b[0;34m\u001b[0m\u001b[0m\n\u001b[0;32m---> 47\u001b[0;31m \u001b[0mstudy\u001b[0m\u001b[0;34m.\u001b[0m\u001b[0moptimize\u001b[0m\u001b[0;34m(\u001b[0m\u001b[0mobjective\u001b[0m\u001b[0;34m,\u001b[0m \u001b[0mn_trials\u001b[0m\u001b[0;34m=\u001b[0m\u001b[0;36m40\u001b[0m\u001b[0;34m)\u001b[0m\u001b[0;34m\u001b[0m\u001b[0;34m\u001b[0m\u001b[0m\n\u001b[0m",
      "\u001b[0;32m~/anaconda3/envs/gpu-env/lib/python3.6/site-packages/optuna/study.py\u001b[0m in \u001b[0;36moptimize\u001b[0;34m(self, func, n_trials, timeout, n_jobs, catch)\u001b[0m\n\u001b[1;32m    255\u001b[0m         \u001b[0;32mtry\u001b[0m\u001b[0;34m:\u001b[0m\u001b[0;34m\u001b[0m\u001b[0;34m\u001b[0m\u001b[0m\n\u001b[1;32m    256\u001b[0m             \u001b[0;32mif\u001b[0m \u001b[0mn_jobs\u001b[0m \u001b[0;34m==\u001b[0m \u001b[0;36m1\u001b[0m\u001b[0;34m:\u001b[0m\u001b[0;34m\u001b[0m\u001b[0;34m\u001b[0m\u001b[0m\n\u001b[0;32m--> 257\u001b[0;31m                 \u001b[0mself\u001b[0m\u001b[0;34m.\u001b[0m\u001b[0m_optimize_sequential\u001b[0m\u001b[0;34m(\u001b[0m\u001b[0mfunc\u001b[0m\u001b[0;34m,\u001b[0m \u001b[0mn_trials\u001b[0m\u001b[0;34m,\u001b[0m \u001b[0mtimeout\u001b[0m\u001b[0;34m,\u001b[0m \u001b[0mcatch\u001b[0m\u001b[0;34m)\u001b[0m\u001b[0;34m\u001b[0m\u001b[0;34m\u001b[0m\u001b[0m\n\u001b[0m\u001b[1;32m    258\u001b[0m             \u001b[0;32melse\u001b[0m\u001b[0;34m:\u001b[0m\u001b[0;34m\u001b[0m\u001b[0;34m\u001b[0m\u001b[0m\n\u001b[1;32m    259\u001b[0m                 \u001b[0mself\u001b[0m\u001b[0;34m.\u001b[0m\u001b[0m_optimize_parallel\u001b[0m\u001b[0;34m(\u001b[0m\u001b[0mfunc\u001b[0m\u001b[0;34m,\u001b[0m \u001b[0mn_trials\u001b[0m\u001b[0;34m,\u001b[0m \u001b[0mtimeout\u001b[0m\u001b[0;34m,\u001b[0m \u001b[0mn_jobs\u001b[0m\u001b[0;34m,\u001b[0m \u001b[0mcatch\u001b[0m\u001b[0;34m)\u001b[0m\u001b[0;34m\u001b[0m\u001b[0;34m\u001b[0m\u001b[0m\n",
      "\u001b[0;32m~/anaconda3/envs/gpu-env/lib/python3.6/site-packages/optuna/study.py\u001b[0m in \u001b[0;36m_optimize_sequential\u001b[0;34m(self, func, n_trials, timeout, catch)\u001b[0m\n\u001b[1;32m    372\u001b[0m                     \u001b[0;32mbreak\u001b[0m\u001b[0;34m\u001b[0m\u001b[0;34m\u001b[0m\u001b[0m\n\u001b[1;32m    373\u001b[0m \u001b[0;34m\u001b[0m\u001b[0m\n\u001b[0;32m--> 374\u001b[0;31m             \u001b[0mself\u001b[0m\u001b[0;34m.\u001b[0m\u001b[0m_run_trial\u001b[0m\u001b[0;34m(\u001b[0m\u001b[0mfunc\u001b[0m\u001b[0;34m,\u001b[0m \u001b[0mcatch\u001b[0m\u001b[0;34m)\u001b[0m\u001b[0;34m\u001b[0m\u001b[0;34m\u001b[0m\u001b[0m\n\u001b[0m\u001b[1;32m    375\u001b[0m \u001b[0;34m\u001b[0m\u001b[0m\n\u001b[1;32m    376\u001b[0m     def _optimize_parallel(\n",
      "\u001b[0;32m~/anaconda3/envs/gpu-env/lib/python3.6/site-packages/optuna/study.py\u001b[0m in \u001b[0;36m_run_trial\u001b[0;34m(self, func, catch)\u001b[0m\n\u001b[1;32m    446\u001b[0m \u001b[0;34m\u001b[0m\u001b[0m\n\u001b[1;32m    447\u001b[0m         \u001b[0;32mtry\u001b[0m\u001b[0;34m:\u001b[0m\u001b[0;34m\u001b[0m\u001b[0;34m\u001b[0m\u001b[0m\n\u001b[0;32m--> 448\u001b[0;31m             \u001b[0mresult\u001b[0m \u001b[0;34m=\u001b[0m \u001b[0mfunc\u001b[0m\u001b[0;34m(\u001b[0m\u001b[0mtrial\u001b[0m\u001b[0;34m)\u001b[0m\u001b[0;34m\u001b[0m\u001b[0;34m\u001b[0m\u001b[0m\n\u001b[0m\u001b[1;32m    449\u001b[0m         \u001b[0;32mexcept\u001b[0m \u001b[0mstructs\u001b[0m\u001b[0;34m.\u001b[0m\u001b[0mTrialPruned\u001b[0m \u001b[0;32mas\u001b[0m \u001b[0me\u001b[0m\u001b[0;34m:\u001b[0m\u001b[0;34m\u001b[0m\u001b[0;34m\u001b[0m\u001b[0m\n\u001b[1;32m    450\u001b[0m             message = 'Setting status of trial#{} as {}. {}'.format(trial_number,\n",
      "\u001b[0;32m<ipython-input-41-88d87ee10c69>\u001b[0m in \u001b[0;36mobjective\u001b[0;34m(trial)\u001b[0m\n\u001b[1;32m     32\u001b[0m         \u001b[0mlgb_valid\u001b[0m \u001b[0;34m=\u001b[0m \u001b[0mlgb\u001b[0m\u001b[0;34m.\u001b[0m\u001b[0mDataset\u001b[0m\u001b[0;34m(\u001b[0m\u001b[0mdata\u001b[0m\u001b[0;34m=\u001b[0m\u001b[0mx_train_valid\u001b[0m\u001b[0;34m.\u001b[0m\u001b[0mastype\u001b[0m\u001b[0;34m(\u001b[0m\u001b[0;34m'float32'\u001b[0m\u001b[0;34m)\u001b[0m\u001b[0;34m,\u001b[0m \u001b[0mlabel\u001b[0m\u001b[0;34m=\u001b[0m\u001b[0my_train_valid\u001b[0m\u001b[0;34m.\u001b[0m\u001b[0mastype\u001b[0m\u001b[0;34m(\u001b[0m\u001b[0;34m'float32'\u001b[0m\u001b[0;34m)\u001b[0m\u001b[0;34m)\u001b[0m\u001b[0;34m\u001b[0m\u001b[0;34m\u001b[0m\u001b[0m\n\u001b[1;32m     33\u001b[0m \u001b[0;34m\u001b[0m\u001b[0m\n\u001b[0;32m---> 34\u001b[0;31m         \u001b[0mlgb_model\u001b[0m \u001b[0;34m=\u001b[0m \u001b[0mlgb\u001b[0m\u001b[0;34m.\u001b[0m\u001b[0mtrain\u001b[0m\u001b[0;34m(\u001b[0m\u001b[0mparams\u001b[0m\u001b[0;34m,\u001b[0m \u001b[0mlgb_train\u001b[0m\u001b[0;34m,\u001b[0m \u001b[0mvalid_sets\u001b[0m\u001b[0;34m=\u001b[0m\u001b[0mlgb_valid\u001b[0m\u001b[0;34m,\u001b[0m \u001b[0mverbose_eval\u001b[0m\u001b[0;34m=\u001b[0m\u001b[0;36m100\u001b[0m\u001b[0;34m)\u001b[0m\u001b[0;34m\u001b[0m\u001b[0;34m\u001b[0m\u001b[0m\n\u001b[0m\u001b[1;32m     35\u001b[0m         \u001b[0my\u001b[0m \u001b[0;34m=\u001b[0m \u001b[0mlgb_model\u001b[0m\u001b[0;34m.\u001b[0m\u001b[0mpredict\u001b[0m\u001b[0;34m(\u001b[0m\u001b[0mx_train_valid\u001b[0m\u001b[0;34m.\u001b[0m\u001b[0mastype\u001b[0m\u001b[0;34m(\u001b[0m\u001b[0;34m'float32'\u001b[0m\u001b[0;34m)\u001b[0m\u001b[0;34m,\u001b[0m \u001b[0mnum_iteration\u001b[0m\u001b[0;34m=\u001b[0m\u001b[0mlgb_model\u001b[0m\u001b[0;34m.\u001b[0m\u001b[0mbest_iteration\u001b[0m\u001b[0;34m)\u001b[0m\u001b[0;34m\u001b[0m\u001b[0;34m\u001b[0m\u001b[0m\n\u001b[1;32m     36\u001b[0m \u001b[0;34m\u001b[0m\u001b[0m\n",
      "\u001b[0;32m~/anaconda3/envs/gpu-env/lib/python3.6/site-packages/lightgbm/engine.py\u001b[0m in \u001b[0;36mtrain\u001b[0;34m(params, train_set, num_boost_round, valid_sets, valid_names, fobj, feval, init_model, feature_name, categorical_feature, early_stopping_rounds, evals_result, verbose_eval, learning_rates, keep_training_booster, callbacks)\u001b[0m\n\u001b[1;32m    216\u001b[0m                                     evaluation_result_list=None))\n\u001b[1;32m    217\u001b[0m \u001b[0;34m\u001b[0m\u001b[0m\n\u001b[0;32m--> 218\u001b[0;31m         \u001b[0mbooster\u001b[0m\u001b[0;34m.\u001b[0m\u001b[0mupdate\u001b[0m\u001b[0;34m(\u001b[0m\u001b[0mfobj\u001b[0m\u001b[0;34m=\u001b[0m\u001b[0mfobj\u001b[0m\u001b[0;34m)\u001b[0m\u001b[0;34m\u001b[0m\u001b[0;34m\u001b[0m\u001b[0m\n\u001b[0m\u001b[1;32m    219\u001b[0m \u001b[0;34m\u001b[0m\u001b[0m\n\u001b[1;32m    220\u001b[0m         \u001b[0mevaluation_result_list\u001b[0m \u001b[0;34m=\u001b[0m \u001b[0;34m[\u001b[0m\u001b[0;34m]\u001b[0m\u001b[0;34m\u001b[0m\u001b[0;34m\u001b[0m\u001b[0m\n",
      "\u001b[0;32m~/anaconda3/envs/gpu-env/lib/python3.6/site-packages/lightgbm/basic.py\u001b[0m in \u001b[0;36mupdate\u001b[0;34m(self, train_set, fobj)\u001b[0m\n\u001b[1;32m   1800\u001b[0m             _safe_call(_LIB.LGBM_BoosterUpdateOneIter(\n\u001b[1;32m   1801\u001b[0m                 \u001b[0mself\u001b[0m\u001b[0;34m.\u001b[0m\u001b[0mhandle\u001b[0m\u001b[0;34m,\u001b[0m\u001b[0;34m\u001b[0m\u001b[0;34m\u001b[0m\u001b[0m\n\u001b[0;32m-> 1802\u001b[0;31m                 ctypes.byref(is_finished)))\n\u001b[0m\u001b[1;32m   1803\u001b[0m             \u001b[0mself\u001b[0m\u001b[0;34m.\u001b[0m\u001b[0m__is_predicted_cur_iter\u001b[0m \u001b[0;34m=\u001b[0m \u001b[0;34m[\u001b[0m\u001b[0;32mFalse\u001b[0m \u001b[0;32mfor\u001b[0m \u001b[0m_\u001b[0m \u001b[0;32min\u001b[0m \u001b[0mrange_\u001b[0m\u001b[0;34m(\u001b[0m\u001b[0mself\u001b[0m\u001b[0;34m.\u001b[0m\u001b[0m__num_dataset\u001b[0m\u001b[0;34m)\u001b[0m\u001b[0;34m]\u001b[0m\u001b[0;34m\u001b[0m\u001b[0;34m\u001b[0m\u001b[0m\n\u001b[1;32m   1804\u001b[0m             \u001b[0;32mreturn\u001b[0m \u001b[0mis_finished\u001b[0m\u001b[0;34m.\u001b[0m\u001b[0mvalue\u001b[0m \u001b[0;34m==\u001b[0m \u001b[0;36m1\u001b[0m\u001b[0;34m\u001b[0m\u001b[0;34m\u001b[0m\u001b[0m\n",
      "\u001b[0;31mKeyboardInterrupt\u001b[0m: "
     ]
    }
   ],
   "source": [
    "def objective(trial):\n",
    "    \n",
    "    params = {\n",
    "        'objective': 'binary',\n",
    "        'metric': 'binary_logloss',\n",
    "        'boosting_type': 'gbdt',\n",
    "        'is_unbalance': False,\n",
    "        'boost_from_average': True,\n",
    "        'num_threads': 4,\n",
    "        \n",
    "        'num_leaves': trial.suggest_int('num_leaves', 10, 1000),\n",
    "        'min_data_in_leaf': trial.suggest_int('min_data_in_leaf', 10, 200),\n",
    "        'min_child_weight': trial.suggest_loguniform('min_child_weight', 0.001, 0.1),\n",
    "        'max_depth': trial.suggest_int('max_depth', 1, 100),\n",
    "        'bagging_fraction' : trial.suggest_loguniform('bagging_fraction', .5, .99),\n",
    "        'feature_fraction' : trial.suggest_loguniform('feature_fraction', .5, .99),\n",
    "        'lambda_l1': trial.suggest_loguniform('lambda_l1', 0.1, 2),\n",
    "        'lambda_l2': trial.suggest_loguniform('lambda_l2', 0.1, 2)\n",
    "    }\n",
    "    \n",
    "    scores = []\n",
    "    \n",
    "    cv = KFold(n_splits=5)\n",
    "    for train_idx, valid_idx in cv.split(x_train, y_train):\n",
    "        \n",
    "        x_train_train = x_train.iloc[train_idx]\n",
    "        y_train_train = y_train.iloc[train_idx]\n",
    "        x_train_valid = x_train.iloc[valid_idx]\n",
    "        y_train_valid = y_train.iloc[valid_idx]\n",
    "        \n",
    "        lgb_train = lgb.Dataset(data=x_train_train.astype('float32'), label=y_train_train.astype('float32'))\n",
    "        lgb_valid = lgb.Dataset(data=x_train_valid.astype('float32'), label=y_train_valid.astype('float32'))\n",
    "        \n",
    "        lgb_model = lgb.train(params, lgb_train, valid_sets=lgb_valid, verbose_eval=100)\n",
    "        y = lgb_model.predict(x_train_valid.astype('float32'), num_iteration=lgb_model.best_iteration)\n",
    "        \n",
    "        score = roc_auc_score(y_train_valid.astype('float32'), y)\n",
    "        print('Fold score:', score)\n",
    "        scores.append(score)\n",
    "    \n",
    "    average_score = sum(scores) / len(scores)\n",
    "    print('Average score:', average_score)\n",
    "    return average_score\n",
    "\n",
    "\n",
    "study = optuna.create_study(direction='maximize')\n",
    "study.optimize(objective, n_trials=40)"
   ]
  },
  {
   "cell_type": "code",
   "execution_count": 37,
   "metadata": {},
   "outputs": [
    {
     "data": {
      "text/plain": [
       "Index(['os', 'R_emaildomain_us'], dtype='object')"
      ]
     },
     "execution_count": 37,
     "metadata": {},
     "output_type": "execute_result"
    }
   ],
   "source": [
    "study.best_trial"
   ]
  },
  {
   "cell_type": "code",
   "execution_count": 42,
   "metadata": {},
   "outputs": [
    {
     "name": "stdout",
     "output_type": "stream",
     "text": [
      "Training until validation scores don't improve for 100 rounds.\n",
      "[100]\tvalid_0's auc: 0.967302\n",
      "Did not meet early stopping. Best iteration is:\n",
      "[100]\tvalid_0's auc: 0.967302\n"
     ]
    }
   ],
   "source": [
    "params = {\n",
    "    'objective': 'binary',\n",
    "    'metric': 'auc',\n",
    "    'boosting_type': 'gbdt',\n",
    "    'is_unbalance': False,\n",
    "    'boost_from_average': True,\n",
    "    'num_threads': 4,\n",
    "    'num_leaves': 905,\n",
    "    'min_data_in_leaf': 132, \n",
    "    'min_child_weight':0.002759286177274377, \n",
    "    'max_depth': 100, \n",
    "    'bagging_fraction': 0.6709670743998799, \n",
    "    'feature_fraction': 0.7479999704759364, \n",
    "    'lambda_l1': 0.7416015113546764, \n",
    "    'lambda_l2': 0.1677834775943485}\n",
    "\n",
    "x_train_train, x_train_valid, y_train_train, y_train_valid = train_test_split(x_train, y_train, test_size=0.33, random_state=42)\n",
    "\n",
    "lgb_train = lgb.Dataset(data=x_train_train.astype('float32'), label=y_train_train.astype('float32'))\n",
    "lgb_valid = lgb.Dataset(data=x_train_valid.astype('float32'), label=y_train_valid.astype('float32'))\n",
    "\n",
    "lgb_model = lgb.train(params, lgb_train, valid_sets=lgb_valid, verbose_eval=100, early_stopping_rounds=100)"
   ]
  },
  {
   "cell_type": "code",
   "execution_count": 43,
   "metadata": {},
   "outputs": [
    {
     "data": {
      "image/png": "[encoded data removed]",
      "text/plain": [
       "<Figure size 1440x1440 with 1 Axes>"
      ]
     },
     "metadata": {
      "needs_background": "light"
     },
     "output_type": "display_data"
    }
   ],
   "source": [
    "import seaborn as sns\n",
    "import matplotlib.pyplot as plt\n",
    "%matplotlib inline\n",
    "\n",
    "feature_importance_df = pd.concat([\n",
    "    pd.Series(x_train.columns),\n",
    "    pd.Series(lgb_model.feature_importance())], axis=1)\n",
    "feature_importance_df.columns = ['featureName', 'importance']\n",
    "\n",
    "# get top 100 features sorted by importance descending\n",
    "temp = feature_importance_df.sort_values(by=['importance'], ascending=False).head(100)\n",
    "\n",
    "plt.figure(figsize=(20, 20))\n",
    "sns.barplot(x=\"importance\", y=\"featureName\", data=temp)\n",
    "plt.show()"
   ]
  },
  {
   "cell_type": "code",
   "execution_count": 44,
   "metadata": {},
   "outputs": [],
   "source": [
    "y = lgb_model.predict(x_test.astype('float32'), num_iteration=lgb_model.best_iteration)"
   ]
  },
  {
   "cell_type": "code",
   "execution_count": 46,
   "metadata": {},
   "outputs": [],
   "source": [
    "submission = pd.read_csv('../input/sample_submission.csv', index_col='TransactionID')\n",
    "submission['isFraud'] = y\n",
    "submission.to_csv('feature3_lightgbm.csv')"
   ]
  },
  {
   "cell_type": "code",
   "execution_count": 48,
   "metadata": {},
   "outputs": [],
   "source": [
    "tsne=pd.read_csv('submission_IEEE.csv')"
   ]
  },
  {
   "cell_type": "code",
   "execution_count": 52,
   "metadata": {},
   "outputs": [],
   "source": [
    "brend_sub=pd.DataFrame()\n",
    "brend_sub['TransactionID']=tsne['TransactionID']\n",
    "brend_sub['isFraud']=tsne['isFraud'].values*0.5+submission['isFraud'].values*0.5\n",
    "brend_sub.to_csv('brend_tsne_lightgbm.csv',index=False)"
   ]
  },
  {
   "cell_type": "code",
   "execution_count": 53,
   "metadata": {},
   "outputs": [
    {
     "data": {
      "text/html": [
       "<div>\n",
       "<style scoped>\n",
       "    .dataframe tbody tr th:only-of-type {\n",
       "        vertical-align: middle;\n",
       "    }\n",
       "\n",
       "    .dataframe tbody tr th {\n",
       "        vertical-align: top;\n",
       "    }\n",
       "\n",
       "    .dataframe thead th {\n",
       "        text-align: right;\n",
       "    }\n",
       "</style>\n",
       "<table border=\"1\" class=\"dataframe\">\n",
       "  <thead>\n",
       "    <tr style=\"text-align: right;\">\n",
       "      <th></th>\n",
       "      <th>TransactionID</th>\n",
       "      <th>isFraud</th>\n",
       "    </tr>\n",
       "  </thead>\n",
       "  <tbody>\n",
       "    <tr>\n",
       "      <td>0</td>\n",
       "      <td>3663549</td>\n",
       "      <td>0.000050</td>\n",
       "    </tr>\n",
       "    <tr>\n",
       "      <td>1</td>\n",
       "      <td>3663550</td>\n",
       "      <td>0.000404</td>\n",
       "    </tr>\n",
       "    <tr>\n",
       "      <td>2</td>\n",
       "      <td>3663551</td>\n",
       "      <td>0.000503</td>\n",
       "    </tr>\n",
       "    <tr>\n",
       "      <td>3</td>\n",
       "      <td>3663552</td>\n",
       "      <td>0.000227</td>\n",
       "    </tr>\n",
       "    <tr>\n",
       "      <td>4</td>\n",
       "      <td>3663553</td>\n",
       "      <td>0.000485</td>\n",
       "    </tr>\n",
       "    <tr>\n",
       "      <td>...</td>\n",
       "      <td>...</td>\n",
       "      <td>...</td>\n",
       "    </tr>\n",
       "    <tr>\n",
       "      <td>506686</td>\n",
       "      <td>4170235</td>\n",
       "      <td>0.005523</td>\n",
       "    </tr>\n",
       "    <tr>\n",
       "      <td>506687</td>\n",
       "      <td>4170236</td>\n",
       "      <td>0.004091</td>\n",
       "    </tr>\n",
       "    <tr>\n",
       "      <td>506688</td>\n",
       "      <td>4170237</td>\n",
       "      <td>0.002923</td>\n",
       "    </tr>\n",
       "    <tr>\n",
       "      <td>506689</td>\n",
       "      <td>4170238</td>\n",
       "      <td>0.006123</td>\n",
       "    </tr>\n",
       "    <tr>\n",
       "      <td>506690</td>\n",
       "      <td>4170239</td>\n",
       "      <td>0.007528</td>\n",
       "    </tr>\n",
       "  </tbody>\n",
       "</table>\n",
       "<p>506691 rows × 2 columns</p>\n",
       "</div>"
      ],
      "text/plain": [
       "        TransactionID   isFraud\n",
       "0             3663549  0.000050\n",
       "1             3663550  0.000404\n",
       "2             3663551  0.000503\n",
       "3             3663552  0.000227\n",
       "4             3663553  0.000485\n",
       "...               ...       ...\n",
       "506686        4170235  0.005523\n",
       "506687        4170236  0.004091\n",
       "506688        4170237  0.002923\n",
       "506689        4170238  0.006123\n",
       "506690        4170239  0.007528\n",
       "\n",
       "[506691 rows x 2 columns]"
      ]
     },
     "execution_count": 53,
     "metadata": {},
     "output_type": "execute_result"
    }
   ],
   "source": [
    "brend_sub"
   ]
  },
  {
   "cell_type": "code",
   "execution_count": null,
   "metadata": {},
   "outputs": [],
   "source": []
  }
 ],
 "metadata": {
  "kernelspec": {
   "display_name": "Python 3",
   "language": "python",
   "name": "python3"
  },
  "language_info": {
   "codemirror_mode": {
    "name": "ipython",
    "version": 3
   },
   "file_extension": ".py",
   "mimetype": "text/x-python",
   "name": "python",
   "nbconvert_exporter": "python",
   "pygments_lexer": "ipython3",
   "version": "3.6.9"
  }
 },
 "nbformat": 4,
 "nbformat_minor": 2
}

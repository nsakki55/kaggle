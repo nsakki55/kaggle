{
 "cells": [
  {
   "cell_type": "code",
   "execution_count": 1,
   "metadata": {},
   "outputs": [],
   "source": [
    "import sklearn\n",
    "import warnings\n",
    "warnings.filterwarnings('ignore')\n",
    "import matplotlib.pyplot as plt\n",
    "%matplotlib inline\n",
    "import numpy as np\n",
    "import pandas as pd\n",
    "from IPython.display import display\n",
    "import seaborn as sns\n",
    "\n",
    "\n",
    "X=pd.read_csv('train_preprocess.csv')\n",
    "X_test=pd.read_csv('test_preprocess.csv')\n",
    "y=pd.read_csv('train_target.csv',header=None)\n",
    "y_train=y[[1]]"
   ]
  },
  {
   "cell_type": "code",
   "execution_count": 2,
   "metadata": {},
   "outputs": [],
   "source": [
    "from sklearn.preprocessing import StandardScaler\n",
    "sc_train=StandardScaler()\n",
    "sc_test=StandardScaler()\n",
    "train_std=sc_train.fit_transform(X)\n",
    "test_std=sc_test.fit_transform(X_test)\n",
    "\n",
    "sc_y=StandardScaler()\n",
    "y_std=sc_y.fit_transform(y_train)"
   ]
  },
  {
   "cell_type": "code",
   "execution_count": null,
   "metadata": {},
   "outputs": [],
   "source": [
    "import xgboost as xgb\n",
    "from sklearn.model_selection import GridSearchCV\n",
    "xgb_model=xgb.XGBRegressor()\n",
    "grid_dict=[{'max_depth':[i for i in range(1,20)],'n_estimators':[50,100,200]}]\n",
    "xgb_reg=GridSearchCV(estimator=xgb_model,param_grid=grid_dict,scoring='r2',cv=5)\n",
    "xgb_reg.fit(train_std,y_std)"
   ]
  },
  {
   "cell_type": "code",
   "execution_count": null,
   "metadata": {},
   "outputs": [],
   "source": [
    "import pickle\n",
    "with open('xgb_715.pickle','wb') as f:\n",
    "    pickle.dump(xgb_reg,f)"
   ]
  },
  {
   "cell_type": "code",
   "execution_count": null,
   "metadata": {},
   "outputs": [],
   "source": []
  }
 ],
 "metadata": {
  "kernelspec": {
   "display_name": "Python 3",
   "language": "python",
   "name": "python3"
  },
  "language_info": {
   "codemirror_mode": {
    "name": "ipython",
    "version": 3
   },
   "file_extension": ".py",
   "mimetype": "text/x-python",
   "name": "python",
   "nbconvert_exporter": "python",
   "pygments_lexer": "ipython3",
   "version": "3.6.8"
  }
 },
 "nbformat": 4,
 "nbformat_minor": 2
}

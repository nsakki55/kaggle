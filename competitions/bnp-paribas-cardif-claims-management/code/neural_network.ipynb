{
 "cells": [
  {
   "cell_type": "markdown",
   "metadata": {},
   "source": [
    "https://www.kaggle.com/husterwgm/keras-neural-net\n"
   ]
  },
  {
   "cell_type": "code",
   "execution_count": 1,
   "metadata": {},
   "outputs": [],
   "source": [
    "import pandas as pd\n",
    "import numpy as np\n",
    "import matplotlib.pyplot as plt \n",
    "%matplotlib inline\n",
    "import seaborn as sns"
   ]
  },
  {
   "cell_type": "code",
   "execution_count": 2,
   "metadata": {},
   "outputs": [],
   "source": [
    "train=pd.read_csv('D:/bnp-paribas-cardif-claims-management/train.csv')\n",
    "test=pd.read_csv('D:/bnp-paribas-cardif-claims-management/test.csv')\n",
    "submission=pd.read_csv('D:/bnp-paribas-cardif-claims-management/sample_submission.csv')\n"
   ]
  },
  {
   "cell_type": "code",
   "execution_count": 3,
   "metadata": {},
   "outputs": [],
   "source": [
    "target=train['target']\n",
    "df_train=train.drop(['target'],axis=1)\n",
    "\n",
    "id_test=test['ID'].values"
   ]
  },
  {
   "cell_type": "code",
   "execution_count": 7,
   "metadata": {},
   "outputs": [],
   "source": [
    "drop_features=['v8','v23','v25','v36','v37','v46','v51','v53','v54','v63','v73','v75','v79','v81','v82','v89','v92','v95','v105','v107','v108','v109','v110','v116','v117','v118','v119','v123','v124','v128']"
   ]
  },
  {
   "cell_type": "code",
   "execution_count": 9,
   "metadata": {},
   "outputs": [],
   "source": [
    "from sklearn.preprocessing import LabelEncoder\n",
    "for col in df_train.select_dtypes(include='object').columns:\n",
    "    df_train[col]=pd.factorize(df_train[col])[0]\n",
    "    test[col]=pd.factorize(test[col])[0]"
   ]
  },
  {
   "cell_type": "code",
   "execution_count": 11,
   "metadata": {},
   "outputs": [],
   "source": [
    "sparse_col=[]\n",
    "for col in df_train.columns:\n",
    "    cls=df_train[col].values\n",
    "    if sum(cls)<10:\n",
    "        sparse_col.append(col)"
   ]
  },
  {
   "cell_type": "code",
   "execution_count": 14,
   "metadata": {},
   "outputs": [],
   "source": [
    "df_train.drop(sparse_col,axis=1,inplace=True)\n",
    "test.drop(sparse_col,axis=1,inplace=True)"
   ]
  },
  {
   "cell_type": "code",
   "execution_count": 15,
   "metadata": {},
   "outputs": [],
   "source": [
    "df_train=df_train.fillna(-1)\n",
    "test=test.fillna(-1)"
   ]
  },
  {
   "cell_type": "code",
   "execution_count": 20,
   "metadata": {},
   "outputs": [],
   "source": [
    "feature_name=df_train.columns.values.tolist()\n",
    "X_train=df_train.values\n",
    "X_test=test.values"
   ]
  },
  {
   "cell_type": "code",
   "execution_count": 22,
   "metadata": {},
   "outputs": [
    {
     "name": "stdout",
     "output_type": "stream",
     "text": [
      "(114321, 130)\n",
      "(114393, 130)\n"
     ]
    }
   ],
   "source": [
    "print(X_train.shape)\n",
    "print(X_test.shape)"
   ]
  },
  {
   "cell_type": "code",
   "execution_count": 23,
   "metadata": {},
   "outputs": [],
   "source": [
    "from sklearn.preprocessing import StandardScaler\n",
    "scaler=StandardScaler()\n",
    "X_train=scaler.fit_transform(X_train)\n",
    "X_test=scaler.fit_transform(X_test)"
   ]
  },
  {
   "cell_type": "code",
   "execution_count": 39,
   "metadata": {},
   "outputs": [],
   "source": [
    "from sklearn.model_selection import train_test_split\n",
    "X_tr,X_val,y_tr,y_val=train_test_split(X_train,target,test_size=0.2,random_state=0)"
   ]
  },
  {
   "cell_type": "code",
   "execution_count": 64,
   "metadata": {},
   "outputs": [
    {
     "name": "stdout",
     "output_type": "stream",
     "text": [
      "WARNING:tensorflow:From C:\\Users\\nsats\\Anaconda3\\envs\\gpu-env\\lib\\site-packages\\keras\\backend\\tensorflow_backend.py:3445: calling dropout (from tensorflow.python.ops.nn_ops) with keep_prob is deprecated and will be removed in a future version.\n",
      "Instructions for updating:\n",
      "Please use `rate` instead of `keep_prob`. Rate should be set to `rate = 1 - keep_prob`.\n"
     ]
    }
   ],
   "source": [
    "from keras.models import Sequential\n",
    "from keras.layers import Dense,Dropout\n",
    "\n",
    "model=Sequential()\n",
    "model.add(Dense(50,input_shape=(X_tr.shape[1],),activation='relu'))\n",
    "model.add(Dropout(0.5))\n",
    "model.add(Dense(40,activation='relu'))\n",
    "model.add(Dense(1,activation='sigmoid'))\n",
    "\n",
    "model.compile(optimizer='adam',loss='binary_crossentropy',metrics=['acc'])"
   ]
  },
  {
   "cell_type": "code",
   "execution_count": 65,
   "metadata": {},
   "outputs": [
    {
     "name": "stdout",
     "output_type": "stream",
     "text": [
      "Train on 91456 samples, validate on 22865 samples\n",
      "Epoch 1/20\n",
      "91456/91456 [==============================] - 6s 65us/step - loss: 0.5242 - acc: 0.7569 - val_loss: 0.4942 - val_acc: 0.7654\n",
      "Epoch 2/20\n",
      "91456/91456 [==============================] - 4s 49us/step - loss: 0.5022 - acc: 0.7628 - val_loss: 0.4955 - val_acc: 0.7679\n",
      "Epoch 3/20\n",
      "91456/91456 [==============================] - 4s 49us/step - loss: 0.4977 - acc: 0.7648 - val_loss: 0.4859 - val_acc: 0.7738\n",
      "Epoch 4/20\n",
      "91456/91456 [==============================] - 4s 49us/step - loss: 0.4937 - acc: 0.7675 - val_loss: 0.4894 - val_acc: 0.7742\n",
      "Epoch 5/20\n",
      "91456/91456 [==============================] - 4s 48us/step - loss: 0.4915 - acc: 0.7695 - val_loss: 0.4855 - val_acc: 0.7760\n",
      "Epoch 6/20\n",
      "91456/91456 [==============================] - 4s 46us/step - loss: 0.4903 - acc: 0.7701 - val_loss: 0.4873 - val_acc: 0.7769\n",
      "Epoch 7/20\n",
      "91456/91456 [==============================] - 4s 46us/step - loss: 0.4884 - acc: 0.7719 - val_loss: 0.4870 - val_acc: 0.7773\n",
      "Epoch 8/20\n",
      "91456/91456 [==============================] - 4s 46us/step - loss: 0.4875 - acc: 0.7716 - val_loss: 0.4831 - val_acc: 0.7745\n",
      "Epoch 9/20\n",
      "91456/91456 [==============================] - 4s 46us/step - loss: 0.4867 - acc: 0.7731 - val_loss: 0.4831 - val_acc: 0.7794\n",
      "Epoch 10/20\n",
      "91456/91456 [==============================] - 4s 46us/step - loss: 0.4857 - acc: 0.7729 - val_loss: 0.4893 - val_acc: 0.7757\n",
      "Epoch 11/20\n",
      "91456/91456 [==============================] - 4s 46us/step - loss: 0.4853 - acc: 0.7730 - val_loss: 0.4878 - val_acc: 0.7762\n",
      "Epoch 12/20\n",
      "91456/91456 [==============================] - 4s 46us/step - loss: 0.4845 - acc: 0.7737 - val_loss: 0.4856 - val_acc: 0.7774\n",
      "Epoch 13/20\n",
      "91456/91456 [==============================] - 4s 43us/step - loss: 0.4845 - acc: 0.7738 - val_loss: 0.4886 - val_acc: 0.7720\n",
      "Epoch 14/20\n",
      "91456/91456 [==============================] - 4s 44us/step - loss: 0.4837 - acc: 0.7739 - val_loss: 0.4905 - val_acc: 0.7765\n",
      "Epoch 15/20\n",
      "91456/91456 [==============================] - 4s 46us/step - loss: 0.4834 - acc: 0.7754 - val_loss: 0.4878 - val_acc: 0.7746\n",
      "Epoch 16/20\n",
      "91456/91456 [==============================] - 4s 48us/step - loss: 0.4825 - acc: 0.7749 - val_loss: 0.4875 - val_acc: 0.7750\n",
      "Epoch 17/20\n",
      "91456/91456 [==============================] - 4s 47us/step - loss: 0.4825 - acc: 0.7753 - val_loss: 0.4906 - val_acc: 0.7753\n",
      "Epoch 18/20\n",
      "91456/91456 [==============================] - 4s 47us/step - loss: 0.4823 - acc: 0.7759 - val_loss: 0.4902 - val_acc: 0.7728\n",
      "Epoch 19/20\n",
      "91456/91456 [==============================] - 5s 55us/step - loss: 0.4814 - acc: 0.7756 - val_loss: 0.4905 - val_acc: 0.7732\n",
      "Epoch 20/20\n",
      "91456/91456 [==============================] - 4s 48us/step - loss: 0.4817 - acc: 0.7757 - val_loss: 0.4878 - val_acc: 0.7736\n"
     ]
    },
    {
     "data": {
      "text/plain": [
       "<keras.callbacks.History at 0x23ae335e0b8>"
      ]
     },
     "execution_count": 65,
     "metadata": {},
     "output_type": "execute_result"
    }
   ],
   "source": [
    "model.fit(X_tr,y_tr,epochs=20,batch_size=128,validation_data=[X_val,y_val],verbose=1)"
   ]
  },
  {
   "cell_type": "code",
   "execution_count": 66,
   "metadata": {},
   "outputs": [
    {
     "name": "stdout",
     "output_type": "stream",
     "text": [
      "0.4877626049272363\n"
     ]
    }
   ],
   "source": [
    "from sklearn.metrics import confusion_matrix,log_loss\n",
    "\n",
    "y_val_pred=model.predict(X_val)\n",
    "#y_val_pred=np.where(y_val_pred>=0.5,1,0)\n",
    "logloss=log_loss(y_val,y_val_pred)\n",
    "print(logloss)"
   ]
  },
  {
   "cell_type": "code",
   "execution_count": 61,
   "metadata": {},
   "outputs": [],
   "source": [
    "y_pred=model.predict_proba(X_test)[:,0]"
   ]
  },
  {
   "cell_type": "code",
   "execution_count": 62,
   "metadata": {},
   "outputs": [],
   "source": [
    "sub=pd.DataFrame({'ID':id_test,'PredictedProb':y_pred})\n",
    "sub.to_csv('neural_net.csv',index=False)"
   ]
  },
  {
   "cell_type": "code",
   "execution_count": 63,
   "metadata": {},
   "outputs": [
    {
     "data": {
      "text/html": [
       "<div>\n",
       "<style scoped>\n",
       "    .dataframe tbody tr th:only-of-type {\n",
       "        vertical-align: middle;\n",
       "    }\n",
       "\n",
       "    .dataframe tbody tr th {\n",
       "        vertical-align: top;\n",
       "    }\n",
       "\n",
       "    .dataframe thead th {\n",
       "        text-align: right;\n",
       "    }\n",
       "</style>\n",
       "<table border=\"1\" class=\"dataframe\">\n",
       "  <thead>\n",
       "    <tr style=\"text-align: right;\">\n",
       "      <th></th>\n",
       "      <th>ID</th>\n",
       "      <th>PredictedProb</th>\n",
       "    </tr>\n",
       "  </thead>\n",
       "  <tbody>\n",
       "    <tr>\n",
       "      <th>0</th>\n",
       "      <td>0</td>\n",
       "      <td>0.652974</td>\n",
       "    </tr>\n",
       "    <tr>\n",
       "      <th>1</th>\n",
       "      <td>1</td>\n",
       "      <td>0.814949</td>\n",
       "    </tr>\n",
       "    <tr>\n",
       "      <th>2</th>\n",
       "      <td>2</td>\n",
       "      <td>0.587090</td>\n",
       "    </tr>\n",
       "    <tr>\n",
       "      <th>3</th>\n",
       "      <td>7</td>\n",
       "      <td>0.670690</td>\n",
       "    </tr>\n",
       "    <tr>\n",
       "      <th>4</th>\n",
       "      <td>10</td>\n",
       "      <td>0.810675</td>\n",
       "    </tr>\n",
       "  </tbody>\n",
       "</table>\n",
       "</div>"
      ],
      "text/plain": [
       "   ID  PredictedProb\n",
       "0   0       0.652974\n",
       "1   1       0.814949\n",
       "2   2       0.587090\n",
       "3   7       0.670690\n",
       "4  10       0.810675"
      ]
     },
     "execution_count": 63,
     "metadata": {},
     "output_type": "execute_result"
    }
   ],
   "source": [
    "sub.head()"
   ]
  },
  {
   "cell_type": "code",
   "execution_count": null,
   "metadata": {},
   "outputs": [],
   "source": []
  }
 ],
 "metadata": {
  "kernelspec": {
   "display_name": "Python 3",
   "language": "python",
   "name": "python3"
  },
  "language_info": {
   "codemirror_mode": {
    "name": "ipython",
    "version": 3
   },
   "file_extension": ".py",
   "mimetype": "text/x-python",
   "name": "python",
   "nbconvert_exporter": "python",
   "pygments_lexer": "ipython3",
   "version": "3.6.8"
  }
 },
 "nbformat": 4,
 "nbformat_minor": 2
}

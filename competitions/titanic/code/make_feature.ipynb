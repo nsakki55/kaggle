{
 "cells": [
  {
   "cell_type": "code",
   "execution_count": 1,
   "metadata": {},
   "outputs": [],
   "source": [
    "import pandas as pd\n",
    "import matplotlib.pyplot as plt\n",
    "%matplotlib inline\n",
    "import seaborn as sns\n",
    "import numpy as np\n",
    "import warnings\n",
    "warnings.filterwarnings('ignore')\n",
    "from IPython.display import display\n",
    "import pandas_profiling as pdp\n",
    "import japanize_matplotlib"
   ]
  },
  {
   "cell_type": "code",
   "execution_count": 2,
   "metadata": {},
   "outputs": [],
   "source": [
    "train=pd.read_csv('../input/train.csv')\n",
    "test=pd.read_csv('../input/test.csv')"
   ]
  },
  {
   "cell_type": "code",
   "execution_count": 4,
   "metadata": {},
   "outputs": [],
   "source": [
    "def encode_SibSp(df):\n",
    "    return [i if i<=1 else 2 for i in df['SibSp']]\n",
    "\n",
    "train['SibSp_0_1_2over']=encode_SibSp(train)\n",
    "test['SibSp_0_1_2over']=encode_SibSp(test)"
   ]
  },
  {
   "cell_type": "code",
   "execution_count": 8,
   "metadata": {},
   "outputs": [],
   "source": [
    "def encode_Parch(df):\n",
    "    return [i if i<=2 else 3 for i in df['Parch']]\n",
    "\n",
    "train['Parch_enc']=encode_Parch(train)\n",
    "test['Parch_enc']=encode_Parch(test)"
   ]
  },
  {
   "cell_type": "code",
   "execution_count": 9,
   "metadata": {},
   "outputs": [],
   "source": [
    "def category_fare(df):\n",
    "    return pd.cut(df['Fare'],4)\n",
    "\n",
    "train['CategoricalFare']=category_fare(train)\n",
    "test['CategoricalFare']=category_fare(test)"
   ]
  },
  {
   "cell_type": "code",
   "execution_count": 12,
   "metadata": {},
   "outputs": [],
   "source": [
    "def get_title(df):\n",
    "    return df.Name.str.extract(' ([A-Za-z]+)\\.', expand=False)\n",
    "\n",
    "train['Title']=get_title(train)\n",
    "test['Title']=get_title(test)"
   ]
  },
  {
   "cell_type": "code",
   "execution_count": 14,
   "metadata": {},
   "outputs": [],
   "source": [
    "def title_to_num(title):\n",
    "    if title=='Master':\n",
    "        return 1\n",
    "    \n",
    "    elif title=='Mrs':\n",
    "        return 2\n",
    "    \n",
    "    elif title=='Miss':\n",
    "        return 3\n",
    "    \n",
    "    elif title=='Mr':\n",
    "        return 4\n",
    "    \n",
    "    else:\n",
    "        return 5\n"
   ]
  },
  {
   "cell_type": "code",
   "execution_count": 15,
   "metadata": {},
   "outputs": [],
   "source": [
    "train['Title_num']=[title_to_num(i) for i in train['Title']]\n",
    "test['Title_num']=[title_to_num(i) for i in test['Title']]"
   ]
  },
  {
   "cell_type": "code",
   "execution_count": 19,
   "metadata": {},
   "outputs": [],
   "source": [
    "train=pd.get_dummies(train,columns=['Sex','Embarked'])\n",
    "test=pd.get_dummies(test,columns=['Sex','Embarked'])"
   ]
  },
  {
   "cell_type": "code",
   "execution_count": 23,
   "metadata": {},
   "outputs": [],
   "source": [
    "train.drop(['PassengerId','Name','Ticket','Cabin'],axis=1,inplace=True)\n",
    "test.drop(['PassengerId','Name','Ticket','Cabin'],axis=1,inplace=True)"
   ]
  },
  {
   "cell_type": "code",
   "execution_count": 28,
   "metadata": {},
   "outputs": [],
   "source": [
    "train.drop(['CategoricalFare','Title'],axis=1,inplace=True)\n",
    "test.drop(['CategoricalFare','Title'],axis=1,inplace=True)"
   ]
  },
  {
   "cell_type": "code",
   "execution_count": 32,
   "metadata": {},
   "outputs": [],
   "source": [
    "X_train=train.drop(['Survived'],axis=1)\n",
    "y_train=train.Survived\n"
   ]
  },
  {
   "cell_type": "code",
   "execution_count": 34,
   "metadata": {},
   "outputs": [],
   "source": [
    "X_train.to_pickle('X_train_feature1.pkl')\n",
    "test.to_pickle('X_test_feature1.pkl')\n",
    "y_train.to_pickle('y_train_feature1.pkl')"
   ]
  },
  {
   "cell_type": "code",
   "execution_count": null,
   "metadata": {},
   "outputs": [],
   "source": []
  },
  {
   "cell_type": "code",
   "execution_count": null,
   "metadata": {},
   "outputs": [],
   "source": []
  }
 ],
 "metadata": {
  "kernelspec": {
   "display_name": "Python 3",
   "language": "python",
   "name": "python3"
  },
  "language_info": {
   "codemirror_mode": {
    "name": "ipython",
    "version": 3
   },
   "file_extension": ".py",
   "mimetype": "text/x-python",
   "name": "python",
   "nbconvert_exporter": "python",
   "pygments_lexer": "ipython3",
   "version": "3.6.9"
  }
 },
 "nbformat": 4,
 "nbformat_minor": 2
}

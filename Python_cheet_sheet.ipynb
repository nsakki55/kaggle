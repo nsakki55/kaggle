{
 "cells": [
  {
   "cell_type": "code",
   "execution_count": 2,
   "metadata": {},
   "outputs": [],
   "source": [
    "import datetime"
   ]
  },
  {
   "cell_type": "markdown",
   "metadata": {},
   "source": [
    "## for 文に対するelse\n",
    "Pythonのfor文,while文では、breakでループから抜けずに正常終了した場合にelse文を実行できる。  \n",
    "何かを探すためにfor文を行い、見つからなかったときに実行されるという認識"
   ]
  },
  {
   "cell_type": "code",
   "execution_count": 5,
   "metadata": {},
   "outputs": [
    {
     "name": "stdout",
     "output_type": "stream",
     "text": [
      "Not Found\n"
     ]
    }
   ],
   "source": [
    "for i in range(10):\n",
    "    if i>10:break\n",
    "else:\n",
    "    print('Not Found')"
   ]
  },
  {
   "cell_type": "markdown",
   "metadata": {},
   "source": [
    "## エラー処理とtry,except\n",
    "try文中の処理でエラーが出た際にexceptの中の処理を行う"
   ]
  },
  {
   "cell_type": "code",
   "execution_count": 16,
   "metadata": {},
   "outputs": [
    {
     "name": "stdout",
     "output_type": "stream",
     "text": [
      "out of range\n"
     ]
    }
   ],
   "source": [
    "num=[i for i in range(1,6)]\n",
    "\n",
    "try:\n",
    "    print(num[6])\n",
    "except:\n",
    "    print('out of range')"
   ]
  },
  {
   "cell_type": "markdown",
   "metadata": {},
   "source": [
    "\n",
    "## zip()関数で、複数のシーケンスの反復処理が可能\n",
    "zip()関数を使えば、複数のシーケンスをたどって、オフセットが共通する要素からタプルを作ることができる。"
   ]
  },
  {
   "cell_type": "code",
   "execution_count": 6,
   "metadata": {},
   "outputs": [
    {
     "name": "stdout",
     "output_type": "stream",
     "text": [
      "1 10 100\n",
      "2 20 200\n",
      "3 30 300\n",
      "4 40 400\n"
     ]
    }
   ],
   "source": [
    "X1=[1,2,3,4]\n",
    "X2=[10,20,30,40,50]\n",
    "X3=[100,200,300,400]\n",
    "for x1,x2,x3 in zip(X1,X2,X3):\n",
    "    print(x1,x2,x3)"
   ]
  },
  {
   "cell_type": "markdown",
   "metadata": {},
   "source": [
    "## 関数仮引数での*args\n",
    "関数定義の際に*argsを仮引数として使うと、可変個の位置引数をタプルにまとめて仮引数にセットできる"
   ]
  },
  {
   "cell_type": "code",
   "execution_count": 11,
   "metadata": {},
   "outputs": [
    {
     "name": "stdout",
     "output_type": "stream",
     "text": [
      "('a', 'b', 'c', 'd')\n",
      "required1: a\n",
      "required2: b\n",
      "args: ('c', 'd', 'e')\n"
     ]
    }
   ],
   "source": [
    "def print_args(*args):\n",
    "    print(args)\n",
    "print_args('a','b','c','d')\n",
    "\n",
    "def print_more(required1,required2,*args):\n",
    "    print('required1:',required1)\n",
    "    print('required2:',required2)\n",
    "    print('args:',args)\n",
    "print_more('a','b','c','d','e')"
   ]
  },
  {
   "cell_type": "markdown",
   "metadata": {},
   "source": [
    "## 関数仮引数での**kwargs\n",
    "関数定義に**kwargsを使うと、キーワード引数を一つの辞書にまとめられる。引数の名前が辞書のキー、引数の値が辞書の値になる。"
   ]
  },
  {
   "cell_type": "code",
   "execution_count": 13,
   "metadata": {},
   "outputs": [
    {
     "name": "stdout",
     "output_type": "stream",
     "text": [
      "keyword arguments: {'wine': 'merlot', 'entree': 'mutton', 'dessert': 'macaroon'}\n"
     ]
    }
   ],
   "source": [
    "def print_kwargs(**kwargs):\n",
    "    print('keyword arguments:',kwargs)\n",
    "    \n",
    "print_kwargs(wine='merlot',entree='mutton',dessert='macaroon')"
   ]
  },
  {
   "cell_type": "markdown",
   "metadata": {},
   "source": [
    "## 関数定義のdocstring\n",
    "関数本体の先頭に説明書きを加えることで、関数定義にドキュメントを加えることができる。  \n",
    "help()関数か、__doc__メソッドで確認することができる"
   ]
  },
  {
   "cell_type": "code",
   "execution_count": 15,
   "metadata": {},
   "outputs": [
    {
     "name": "stdout",
     "output_type": "stream",
     "text": [
      "Help on function do_nothing in module __main__:\n",
      "\n",
      "do_nothing()\n",
      "    何もしない関数。\n",
      "\n",
      "\n",
      "    何もしない関数。\n",
      "    \n"
     ]
    }
   ],
   "source": [
    "def do_nothing():\n",
    "    '''\n",
    "    何もしない関数。\n",
    "    '''\n",
    "    pass\n",
    "help(do_nothing)\n",
    "print(do_nothing.__doc__)"
   ]
  },
  {
   "cell_type": "markdown",
   "metadata": {},
   "source": [
    "## @デコレータ\n",
    "ソースコードを書き換えずに既存の関数に変更を加えたい場合に、関数の定義直前につける"
   ]
  },
  {
   "cell_type": "markdown",
   "metadata": {},
   "source": [
    "\n",
    "## print('s','b','c', sep=',')\n",
    "print文のオプション。sepで区切り文字を指定することができる。  \n",
    "sep='\\n'で配列の要素を縦に並べて表示する"
   ]
  },
  {
   "cell_type": "code",
   "execution_count": 32,
   "metadata": {},
   "outputs": [
    {
     "name": "stdout",
     "output_type": "stream",
     "text": [
      "s,b,c\n",
      "s\n",
      "b\n",
      "c\n"
     ]
    }
   ],
   "source": [
    "s=['s','b','c']\n",
    "print(*s,sep=',')\n",
    "print(*s,sep='\\n')"
   ]
  },
  {
   "cell_type": "markdown",
   "metadata": {},
   "source": [
    "## print('s', end='some')\n",
    "endで指定した文字を行末に追加できる。end=''とすることで、意図的に改行しないようにする。"
   ]
  },
  {
   "cell_type": "code",
   "execution_count": 9,
   "metadata": {},
   "outputs": [
    {
     "name": "stdout",
     "output_type": "stream",
     "text": [
      "string1string2\n"
     ]
    }
   ],
   "source": [
    "print('string1',end='')\n",
    "print('string2')"
   ]
  },
  {
   "cell_type": "markdown",
   "metadata": {},
   "source": [
    "## print('Yes' if a==b else 'No')\n",
    "指定した条件に当てはまる場合に、printする内容を変える"
   ]
  },
  {
   "cell_type": "code",
   "execution_count": 11,
   "metadata": {},
   "outputs": [
    {
     "name": "stdout",
     "output_type": "stream",
     "text": [
      "Yes\n"
     ]
    }
   ],
   "source": [
    "print('Yes' if 'a'=='a' else 'No')"
   ]
  },
  {
   "cell_type": "markdown",
   "metadata": {},
   "source": [
    "## print('{} を埋めるには{}'.format(a,b))\n",
    "print文中を、formatないの言葉で埋めることができる"
   ]
  },
  {
   "cell_type": "code",
   "execution_count": 3,
   "metadata": {},
   "outputs": [
    {
     "name": "stdout",
     "output_type": "stream",
     "text": [
      " 5は 3と2.000の和です\n"
     ]
    }
   ],
   "source": [
    "print('{:2d}は{:2d}と{:5.3f}の和です'.format(5,3,2))"
   ]
  },
  {
   "cell_type": "markdown",
   "metadata": {},
   "source": [
    "## 進数変換\n",
    "### int('1001',2)  2進数から10進数に変換\n",
    "###  int('700', 8)  8進数から10進数に変換\n",
    "###  int('FE', 16)  16進数から10進数に変換\n",
    "### bin(23)  10進数から2進数に変換\n",
    "### oct(23)  10進数から8進数に変換\n",
    "### hex(23)  10進数から16進数に変換\n",
    "\n",
    "### print(0b10111)\n",
    "2進数などをそのまま入力した場合、自動的に10進数に直してくれる"
   ]
  },
  {
   "cell_type": "code",
   "execution_count": 5,
   "metadata": {},
   "outputs": [
    {
     "name": "stdout",
     "output_type": "stream",
     "text": [
      "9\n",
      "448\n",
      "254\n",
      "0b10111\n",
      "0o27\n",
      "0x17\n",
      "23\n"
     ]
    }
   ],
   "source": [
    "print(int('1001',2))\n",
    "print(int('700',8))\n",
    "print(int('FE',16))\n",
    "\n",
    "print(bin(23))\n",
    "print(oct(23))\n",
    "print(hex(23))\n",
    "\n",
    "print(0b10111)"
   ]
  },
  {
   "cell_type": "markdown",
   "metadata": {},
   "source": [
    "## stackとqueueをPython標準ライブラリで扱う\n",
    "## @ import queue"
   ]
  },
  {
   "cell_type": "markdown",
   "metadata": {},
   "source": [
    "## キュー\n",
    "## q=queue.Queue()   q.put()   q.get()\n",
    "FIFOキュー(先入れ先出し)。最初に入れたデータを先に取り出す"
   ]
  },
  {
   "cell_type": "code",
   "execution_count": 6,
   "metadata": {},
   "outputs": [
    {
     "name": "stdout",
     "output_type": "stream",
     "text": [
      "0\n",
      "1\n",
      "2\n",
      "3\n",
      "4\n"
     ]
    }
   ],
   "source": [
    "import queue\n",
    "\n",
    "# FIFOキューの作成\n",
    "q = queue.Queue()\n",
    "\n",
    "# キューにデータを挿入する。挿入するデータは「0, 1, 2, 3, 4」\n",
    "for i in range(5):\n",
    "    q.put(i)\n",
    "\n",
    "# キューからデータがなくなるまで取り出しを行う\n",
    "while not q.empty():\n",
    "    print(q.get())"
   ]
  },
  {
   "cell_type": "markdown",
   "metadata": {},
   "source": [
    "## スタック\n",
    "## q=queue.LifoQueue()  q.pu()  q.get()\n",
    "LIFOキュー(後入れ先出し)。最後に入れたデータを先に取り出す"
   ]
  },
  {
   "cell_type": "code",
   "execution_count": 7,
   "metadata": {},
   "outputs": [
    {
     "name": "stdout",
     "output_type": "stream",
     "text": [
      "4\n",
      "3\n",
      "2\n",
      "1\n",
      "0\n"
     ]
    }
   ],
   "source": [
    "import queue\n",
    "\n",
    "# LIFOキューの作成\n",
    "q = queue.LifoQueue()\n",
    "\n",
    "# キューにデータを挿入する。挿入するデータは「0, 1, 2, 3, 4」\n",
    "for i in range(5):\n",
    "    q.put(i)\n",
    "\n",
    "# キューからデータがなくなるまで取り出しを行う\n",
    "while not q.empty():\n",
    "    print(q.get())"
   ]
  },
  {
   "cell_type": "markdown",
   "metadata": {},
   "source": [
    "## eval('1+2')\n",
    "str型の計算式を実行することができる。"
   ]
  },
  {
   "cell_type": "markdown",
   "metadata": {},
   "source": [
    "\n",
    "## str_X.strip()\n",
    "文字列中の空白文字を取り除く"
   ]
  },
  {
   "cell_type": "code",
   "execution_count": 1,
   "metadata": {},
   "outputs": [
    {
     "name": "stdout",
     "output_type": "stream",
     "text": [
      "   string  \n",
      "string\n"
     ]
    }
   ],
   "source": [
    "str_X='   string  '\n",
    "new_X=str_X.strip()\n",
    "print(str_X)\n",
    "print(new_X)"
   ]
  },
  {
   "cell_type": "markdown",
   "metadata": {},
   "source": [
    "## string.upper()     string.lower()\n",
    "すべての文字列を大文字,小文字にする"
   ]
  },
  {
   "cell_type": "code",
   "execution_count": 8,
   "metadata": {},
   "outputs": [
    {
     "name": "stdout",
     "output_type": "stream",
     "text": [
      "ATCODER\n"
     ]
    }
   ],
   "source": [
    "string='atcoder'\n",
    "print(string.upper())"
   ]
  },
  {
   "cell_type": "markdown",
   "metadata": {},
   "source": [
    "## string.capitalize()\n",
    "文字列の先頭を大文字にする"
   ]
  },
  {
   "cell_type": "code",
   "execution_count": 10,
   "metadata": {},
   "outputs": [
    {
     "name": "stdout",
     "output_type": "stream",
     "text": [
      "Hello\n"
     ]
    }
   ],
   "source": [
    "string='hello'\n",
    "print(string.capitalize())"
   ]
  },
  {
   "cell_type": "markdown",
   "metadata": {},
   "source": [
    "## string.title()\n",
    "各単語の先頭を大文字にかえる"
   ]
  },
  {
   "cell_type": "code",
   "execution_count": 11,
   "metadata": {},
   "outputs": [
    {
     "name": "stdout",
     "output_type": "stream",
     "text": [
      "This Is A Pen\n"
     ]
    }
   ],
   "source": [
    "string='this is a pen'\n",
    "print(string.title())"
   ]
  },
  {
   "cell_type": "markdown",
   "metadata": {},
   "source": [
    "## 大文字か小文字か判断する\n",
    "## X.isupper()   X.islower()\n",
    "一部でも異なればFalseとなるので注意"
   ]
  },
  {
   "cell_type": "code",
   "execution_count": 12,
   "metadata": {},
   "outputs": [
    {
     "name": "stdout",
     "output_type": "stream",
     "text": [
      "True\n"
     ]
    }
   ],
   "source": [
    "X='titanic'\n",
    "print(X.islower())"
   ]
  },
  {
   "cell_type": "markdown",
   "metadata": {},
   "source": [
    "## 文字一つ一つに分ける\n",
    "## list(string)\n"
   ]
  },
  {
   "cell_type": "code",
   "execution_count": 1,
   "metadata": {},
   "outputs": [
    {
     "name": "stdout",
     "output_type": "stream",
     "text": [
      "['h', 'e', 'l', 'l', 'o']\n"
     ]
    }
   ],
   "source": [
    "print(list('hello'))"
   ]
  },
  {
   "cell_type": "markdown",
   "metadata": {},
   "source": [
    "## 文字列の文字の回数をまとめる\n",
    "## {letter:word.count(letter) for letter in set(word)}"
   ]
  },
  {
   "cell_type": "code",
   "execution_count": 7,
   "metadata": {},
   "outputs": [
    {
     "name": "stdout",
     "output_type": "stream",
     "text": [
      "{'s': 1, 'l': 1, 't': 2, 'e': 2, 'r': 1}\n"
     ]
    }
   ],
   "source": [
    "word='letters'\n",
    "letter_counts={letter:word.count(letter) for letter in set(word)}\n",
    "print(letter_counts)"
   ]
  },
  {
   "cell_type": "markdown",
   "metadata": {},
   "source": [
    "\n",
    "## s=[input() for i in range(n)]\n",
    "n回入力を受け付けて、配列を作成。競プロに役立つ。"
   ]
  },
  {
   "cell_type": "code",
   "execution_count": 2,
   "metadata": {},
   "outputs": [
    {
     "name": "stdout",
     "output_type": "stream",
     "text": [
      "1\n",
      "3\n",
      "['1', '3']\n"
     ]
    }
   ],
   "source": [
    "s=[input() for i in range(2)]\n",
    "print(s)"
   ]
  },
  {
   "cell_type": "markdown",
   "metadata": {},
   "source": [
    "## a,b=[int(input()) for i in range(n)]\n",
    "n回入力を受けて、入力した値ごとに変数に代入する"
   ]
  },
  {
   "cell_type": "code",
   "execution_count": 19,
   "metadata": {},
   "outputs": [
    {
     "name": "stdout",
     "output_type": "stream",
     "text": [
      "2\n",
      "4\n",
      "2\n",
      "4\n"
     ]
    }
   ],
   "source": [
    "a,b=[int(input()) for i in range(2)]\n",
    "print(a)\n",
    "print(b)"
   ]
  },
  {
   "cell_type": "markdown",
   "metadata": {},
   "source": [
    "## str_list=list(input().split())\n",
    "文字列の配列を作成する。"
   ]
  },
  {
   "cell_type": "code",
   "execution_count": 14,
   "metadata": {},
   "outputs": [
    {
     "name": "stdout",
     "output_type": "stream",
     "text": [
      "sdf df\n",
      "['sdf', 'df']\n"
     ]
    }
   ],
   "source": [
    "str_list=list(input().split())\n",
    "print(str_list)"
   ]
  },
  {
   "cell_type": "markdown",
   "metadata": {},
   "source": [
    "## List=[[int(j) for j in input().split()] for i in range(2)]\n",
    "入力から2次元リストを格納する"
   ]
  },
  {
   "cell_type": "code",
   "execution_count": 31,
   "metadata": {},
   "outputs": [
    {
     "name": "stdout",
     "output_type": "stream",
     "text": [
      "12 3 4\n",
      "3 4 5\n",
      "[[12, 3, 4], [3, 4, 5]]\n"
     ]
    }
   ],
   "source": [
    "List=[[int(j) for j in input().split()] for i in range(2)]\n",
    "print(List)"
   ]
  },
  {
   "cell_type": "markdown",
   "metadata": {},
   "source": [
    "## Pythonの組み込み関数zipで行列の転置をとる\n",
    "## list(zip(*X))\n",
    "*をつけるとリストを展開して渡せる。zip()は複数のイテラブル（リストやタプルなど）の要素をまとめたイテレータを返す."
   ]
  },
  {
   "cell_type": "code",
   "execution_count": 6,
   "metadata": {},
   "outputs": [
    {
     "name": "stdout",
     "output_type": "stream",
     "text": [
      "[(0, 3), (1, 4), (2, 5)]\n"
     ]
    }
   ],
   "source": [
    "X = [[0, 1, 2], [3, 4, 5]]\n",
    "print(list(zip(*X)))"
   ]
  },
  {
   "cell_type": "markdown",
   "metadata": {},
   "source": [
    "## 配列中の要素を別の値に変える"
   ]
  },
  {
   "cell_type": "markdown",
   "metadata": {},
   "source": [
    "## X.replace('a','b')\n",
    "配列X中のaをbにかえる  \n",
    "replaceは本来は文字列に対して行う操作なので、一度配列を文字列に直してから行う"
   ]
  },
  {
   "cell_type": "code",
   "execution_count": 4,
   "metadata": {},
   "outputs": [
    {
     "name": "stdout",
     "output_type": "stream",
     "text": [
      "bbbbcc,sdbccb,grsbb\n"
     ]
    }
   ],
   "source": [
    "X=['aabbcc','sdacca','grsaa']\n",
    "X=','.join(X)\n",
    "print(X.replace('a','b'))"
   ]
  },
  {
   "cell_type": "markdown",
   "metadata": {},
   "source": [
    "## c=int(input().replace(' ',''))\n",
    "入力からの複数の数値を一つに合わせる。文字列として受け取り、空白区切りをなくすことによってつなげている。"
   ]
  },
  {
   "cell_type": "code",
   "execution_count": 44,
   "metadata": {},
   "outputs": [
    {
     "name": "stdout",
     "output_type": "stream",
     "text": [
      "2 43\n",
      "243\n"
     ]
    }
   ],
   "source": [
    "c=int(input().replace(' ',''))\n",
    "print(c)"
   ]
  },
  {
   "cell_type": "markdown",
   "metadata": {},
   "source": [
    "## X=sorted(map(int,input().split())\n",
    "## a,b,c=sorted(map(int,input().split())\n",
    "空白文字区切りの文字列をリスト化させて、ソートした配列を返す  \n",
    "個別に受け取るようにすれば、ソートした値を受け取るようにしてくれる"
   ]
  },
  {
   "cell_type": "code",
   "execution_count": 29,
   "metadata": {},
   "outputs": [
    {
     "name": "stdout",
     "output_type": "stream",
     "text": [
      "1 3 4 2 1 4\n",
      "[1, 1, 2, 3, 4, 4]\n",
      "6 2 5\n",
      "2 5 6\n"
     ]
    }
   ],
   "source": [
    "X=sorted(map(int,input().split()))\n",
    "print(X)\n",
    "a,b,c=sorted(map(int,input().split()))\n",
    "print(a,b,c)"
   ]
  },
  {
   "cell_type": "markdown",
   "metadata": {},
   "source": [
    "## a,b,* s=[1,2,3,4,5]\n",
    "リストを代入する際にアスタライスのついている変数に最後の残りが代入される。アスタリスクは各用途で使用方法が異なるのでトリッキー"
   ]
  },
  {
   "cell_type": "code",
   "execution_count": 17,
   "metadata": {},
   "outputs": [
    {
     "name": "stdout",
     "output_type": "stream",
     "text": [
      "[3, 4, 5]\n"
     ]
    }
   ],
   "source": [
    "a,b,*c=[1,2,3,4,5]\n",
    "print(c)"
   ]
  },
  {
   "cell_type": "markdown",
   "metadata": {},
   "source": [
    "## for x, y in zip(list1,list2): print(x+y,end='')\n",
    "2つの配列に要素に交互に並べる方法。zip で二つの配列に取ることでスマートにかける"
   ]
  },
  {
   "cell_type": "code",
   "execution_count": 7,
   "metadata": {},
   "outputs": [
    {
     "name": "stdout",
     "output_type": "stream",
     "text": [
      "aRcEkB"
     ]
    }
   ],
   "source": [
    "for x,y in zip(['a','c','k'],['R','E','B']):\n",
    "    print(x+y,end='')"
   ]
  },
  {
   "cell_type": "markdown",
   "metadata": {},
   "source": [
    "## list.sort(reverse=True)\n",
    "配列をソートしてくれる。基本中の基本。  \n",
    "reverse=Trueで降順に並び替える。list.reverse()と同じ"
   ]
  },
  {
   "cell_type": "code",
   "execution_count": 12,
   "metadata": {},
   "outputs": [
    {
     "name": "stdout",
     "output_type": "stream",
     "text": [
      "[1, 2, 3, 4, 6]\n"
     ]
    }
   ],
   "source": [
    "s=[1,4,6,3,2]\n",
    "s.sort()\n",
    "print(s)"
   ]
  },
  {
   "cell_type": "markdown",
   "metadata": {},
   "source": [
    "## sorted(list)\n",
    "sort()メソッドと同じ。sorted関数で並び替えができる"
   ]
  },
  {
   "cell_type": "code",
   "execution_count": 13,
   "metadata": {},
   "outputs": [
    {
     "name": "stdout",
     "output_type": "stream",
     "text": [
      "[1, 2, 3, 4, 6]\n"
     ]
    }
   ],
   "source": [
    "s=[1,4,6,3,2]\n",
    "print(sorted(s))"
   ]
  },
  {
   "cell_type": "markdown",
   "metadata": {},
   "source": [
    "## 多次元配列のソート\n",
    "## list.sort(key=lambda x:(x[0],x[1]))\n",
    "1番目の要素を昇順にして、1番目の同じ値が同じものは2番目の値で比較し、そこだけをまた昇順したい場合"
   ]
  },
  {
   "cell_type": "markdown",
   "metadata": {},
   "source": [
    "## @ from operator import itemgetter\n",
    "## list.sort(key=itemgetter(1,0))"
   ]
  },
  {
   "cell_type": "code",
   "execution_count": 27,
   "metadata": {},
   "outputs": [
    {
     "name": "stdout",
     "output_type": "stream",
     "text": [
      "[[2, 0], [3, 6], [4, 6], [4, 9], [5, 0], [10, 4]]\n",
      "[[2, 0], [3, 6], [4, 6], [4, 9], [5, 0], [10, 4]]\n"
     ]
    }
   ],
   "source": [
    "X = [[10,4],[3,6],[4,6],[5,0],[4,9],[2,0]]\n",
    "X.sort(key=lambda x:(x[0],x[1]))\n",
    "print(X)\n",
    "\n",
    "X = [[10,4],[3,6],[4,6],[5,0],[4,9],[2,0]]\n",
    "from operator import itemgetter\n",
    "X.sort(key=itemgetter(0,1))\n",
    "print(X)"
   ]
  },
  {
   "cell_type": "markdown",
   "metadata": {},
   "source": [
    "## 配列を逆順にソートする\n",
    "## X[::-1]"
   ]
  },
  {
   "cell_type": "code",
   "execution_count": 8,
   "metadata": {},
   "outputs": [
    {
     "name": "stdout",
     "output_type": "stream",
     "text": [
      "[9, 8, 7, 6, 5, 4, 3, 2, 1, 0]\n"
     ]
    }
   ],
   "source": [
    "X=[i for i in range(10)]\n",
    "print(X[::-1])"
   ]
  },
  {
   "cell_type": "markdown",
   "metadata": {},
   "source": [
    "## 配列の偶数部分だけを取り出す\n",
    "## X[::2]\n",
    "## 配列の奇数部分だけを取り出す\n",
    "## X[1::2]"
   ]
  },
  {
   "cell_type": "code",
   "execution_count": 3,
   "metadata": {},
   "outputs": [
    {
     "name": "stdout",
     "output_type": "stream",
     "text": [
      "[0, 2, 4, 6, 8]\n",
      "[1, 3, 5, 7, 9]\n"
     ]
    }
   ],
   "source": [
    "X=[i for i in range(10)]\n",
    "print(X[::2])\n",
    "print(X[1::2])"
   ]
  },
  {
   "cell_type": "markdown",
   "metadata": {},
   "source": [
    "## 注意　X[::-2]\n",
    "の場合は、逆順に奇数部分のみが出力される"
   ]
  },
  {
   "cell_type": "code",
   "execution_count": 17,
   "metadata": {},
   "outputs": [
    {
     "name": "stdout",
     "output_type": "stream",
     "text": [
      "[9, 7, 5, 3, 1]\n"
     ]
    }
   ],
   "source": [
    "X=[i for i in range(10)]\n",
    "print(X[::-2])"
   ]
  },
  {
   "cell_type": "markdown",
   "metadata": {},
   "source": [
    "## 配列の特定の位置のみをソートする場合\n",
    "## X=X[:a] + X[a:b][::-1] +X[b:]\n",
    "スライス用いて、特定の部分のみを反転させて、残りをつなげる"
   ]
  },
  {
   "cell_type": "code",
   "execution_count": 7,
   "metadata": {},
   "outputs": [
    {
     "name": "stdout",
     "output_type": "stream",
     "text": [
      "[0, 1, 2, 5, 4, 3, 6, 7, 8, 9]\n"
     ]
    }
   ],
   "source": [
    "X=[i for i in range(10)]\n",
    "X=X[:3]+X[3:6][::-1]+X[6:]\n",
    "print(X)"
   ]
  },
  {
   "cell_type": "markdown",
   "metadata": {},
   "source": [
    "## 文字列を特定の文字数で分割\n",
    "total=[s[i:i+k] for i in range(0,len(s),1) if i+k<=len(s)]"
   ]
  },
  {
   "cell_type": "code",
   "execution_count": 1,
   "metadata": {},
   "outputs": [
    {
     "name": "stdout",
     "output_type": "stream",
     "text": [
      "['thi', 'his', 'isi', 'sis', 'isa', 'sal', 'ali', 'lit', 'itt', 'ttl', 'tle', 'leg', 'egi', 'gir', 'irl']\n"
     ]
    }
   ],
   "source": [
    "x='thisisalittlegirl'\n",
    "total=[x[i:i+3] for i in range(0,len(x),1) if i+3<=len(x)]\n",
    "print(total)"
   ]
  },
  {
   "cell_type": "markdown",
   "metadata": {},
   "source": [
    "##  set([1,2,3,4,4,5,5])\n",
    "重複する配列を、重複なしにまとめてくれる。"
   ]
  },
  {
   "cell_type": "code",
   "execution_count": 2,
   "metadata": {},
   "outputs": [
    {
     "data": {
      "text/plain": [
       "{1, 2, 3}"
      ]
     },
     "execution_count": 2,
     "metadata": {},
     "output_type": "execute_result"
    }
   ],
   "source": [
    "set([1,1,2,2,3,3,3,])"
   ]
  },
  {
   "cell_type": "markdown",
   "metadata": {},
   "source": [
    "## 集合をとる\n",
    "## {1,2,3,4}"
   ]
  },
  {
   "cell_type": "markdown",
   "metadata": {},
   "source": [
    "## setで集合演算をとる\n",
    "## s1|s2 和集合をとる\n",
    "## s1&s2 積集合をとる\n",
    "## s1-s2 差集合をとる\n",
    "## s1^s2 対称差をとる　\n",
    "二つの集合の共通部分、和をとる時に便利。  \n",
    "対称差は共通部分を削除して、差を集合とする"
   ]
  },
  {
   "cell_type": "code",
   "execution_count": 29,
   "metadata": {},
   "outputs": [
    {
     "name": "stdout",
     "output_type": "stream",
     "text": [
      "{1, 2, 3, 4, 5, 6}\n",
      "{3, 4}\n",
      "{1, 2}\n",
      "{1, 2, 5, 6}\n"
     ]
    }
   ],
   "source": [
    "s1=set(i for i in range(1,5))\n",
    "s2=set(i for i in range(3,7))\n",
    "print(s1|s2)\n",
    "print(s1&s2)\n",
    "print(s1-s2)\n",
    "print(s1^s2)"
   ]
  },
  {
   "cell_type": "markdown",
   "metadata": {},
   "source": [
    "## 部分集合の確認\n",
    "## s1<s2\n",
    "## s1<=s2\n"
   ]
  },
  {
   "cell_type": "code",
   "execution_count": 2,
   "metadata": {},
   "outputs": [
    {
     "name": "stdout",
     "output_type": "stream",
     "text": [
      "True\n"
     ]
    }
   ],
   "source": [
    "s1=set([1,2,3])\n",
    "s2=set([1,2,3,4,5])\n",
    "print(s1<s2)"
   ]
  },
  {
   "cell_type": "markdown",
   "metadata": {},
   "source": [
    "## set.add(a)\n",
    "setに要素を追加するときはaddを用いる"
   ]
  },
  {
   "cell_type": "code",
   "execution_count": 27,
   "metadata": {},
   "outputs": [
    {
     "name": "stdout",
     "output_type": "stream",
     "text": [
      "{1}\n"
     ]
    }
   ],
   "source": [
    "X=set()\n",
    "X.add(1)\n",
    "print(X)"
   ]
  },
  {
   "cell_type": "markdown",
   "metadata": {},
   "source": [
    "## list.count('x')\n",
    "リスト内の要素からxの個数を数え上げる。"
   ]
  },
  {
   "cell_type": "code",
   "execution_count": 21,
   "metadata": {},
   "outputs": [
    {
     "name": "stdout",
     "output_type": "stream",
     "text": [
      "3\n"
     ]
    }
   ],
   "source": [
    "list=[1,3,4,5,4,5,5]\n",
    "print(list.count(5))"
   ]
  },
  {
   "cell_type": "markdown",
   "metadata": {},
   "source": [
    "## 配列中に特定の要素の値のindexをすべて取得\n",
    "デフォルトのX.index()で初めの値のインデックスしか返してくれない"
   ]
  },
  {
   "cell_type": "code",
   "execution_count": 19,
   "metadata": {},
   "outputs": [
    {
     "name": "stdout",
     "output_type": "stream",
     "text": [
      "[0, 2, 4]\n"
     ]
    }
   ],
   "source": [
    "X = [1,2,1,3,1]\n",
    "indexes = [i for i, s in enumerate(X) if s == 1]\n",
    "print(indexes)"
   ]
  },
  {
   "cell_type": "markdown",
   "metadata": {},
   "source": [
    "## 'x' in list\n",
    "pythonらしい書き方の、指定した要素がリストに入っているかをbool値で返す式。"
   ]
  },
  {
   "cell_type": "code",
   "execution_count": 33,
   "metadata": {},
   "outputs": [
    {
     "name": "stdout",
     "output_type": "stream",
     "text": [
      "True\n"
     ]
    }
   ],
   "source": [
    "list=['a','b','c']\n",
    "print('b' in list)"
   ]
  },
  {
   "cell_type": "markdown",
   "metadata": {},
   "source": [
    "## 'x' in string\n",
    "文字列の中に特定の文字が含まれるかどうかを確認することができる"
   ]
  },
  {
   "cell_type": "code",
   "execution_count": 4,
   "metadata": {},
   "outputs": [
    {
     "name": "stdout",
     "output_type": "stream",
     "text": [
      "True\n"
     ]
    }
   ],
   "source": [
    "print('sa' in 'satsuki')"
   ]
  },
  {
   "cell_type": "markdown",
   "metadata": {},
   "source": [
    "## max(a,b)\n",
    "a,bで大きいほうの値を返すという、シンプルだが強力な関数"
   ]
  },
  {
   "cell_type": "code",
   "execution_count": 22,
   "metadata": {},
   "outputs": [
    {
     "name": "stdout",
     "output_type": "stream",
     "text": [
      "300\n"
     ]
    }
   ],
   "source": [
    "print(max(1,300))"
   ]
  },
  {
   "cell_type": "markdown",
   "metadata": {},
   "source": [
    "## keyを指定して、max,min,sort\n",
    "## max(a,b,key=len)\n",
    "文字列の長さで比較する場合は、key=len, 合計値の場合はsum"
   ]
  },
  {
   "cell_type": "code",
   "execution_count": 20,
   "metadata": {},
   "outputs": [
    {
     "name": "stdout",
     "output_type": "stream",
     "text": [
      "pinapple\n"
     ]
    }
   ],
   "source": [
    "print(max('pinapple','orange',key=len))"
   ]
  },
  {
   "cell_type": "markdown",
   "metadata": {},
   "source": [
    "## 配列を特定の要素で初期化\n",
    "## X=[0] * 5\n",
    "[0 for i in range(5)]はうまくいかないのでこの方法で行う"
   ]
  },
  {
   "cell_type": "code",
   "execution_count": 1,
   "metadata": {},
   "outputs": [
    {
     "name": "stdout",
     "output_type": "stream",
     "text": [
      "[0, 0, 0, 0, 0]\n"
     ]
    }
   ],
   "source": [
    "print([0]*5)"
   ]
  },
  {
   "cell_type": "markdown",
   "metadata": {},
   "source": [
    "## 配列の拡張\n",
    "## X.extend(['a','b'])\n",
    "X.append(['a','b'])とするとリスト内包型になってしまう。extendを用いると、要素として追加される"
   ]
  },
  {
   "cell_type": "code",
   "execution_count": 13,
   "metadata": {},
   "outputs": [
    {
     "name": "stdout",
     "output_type": "stream",
     "text": [
      "[0, 1, 2, 3, 4, 12, 23]\n"
     ]
    }
   ],
   "source": [
    "X=[i for i in range(5)]\n",
    "X.extend([12,23])\n",
    "print(X)"
   ]
  },
  {
   "cell_type": "markdown",
   "metadata": {},
   "source": [
    "## 配列への挿入\n",
    "## X.insert(1,'a')\n",
    "挿入するインデックス番号を指定して、要素を追加できる。"
   ]
  },
  {
   "cell_type": "code",
   "execution_count": 18,
   "metadata": {},
   "outputs": [
    {
     "name": "stdout",
     "output_type": "stream",
     "text": [
      "['a', 'b', '1', 'c', 'd']\n"
     ]
    }
   ],
   "source": [
    "X=['a','b','c','d']\n",
    "X.insert(2,'1')\n",
    "print(X)"
   ]
  },
  {
   "cell_type": "markdown",
   "metadata": {},
   "source": [
    "## sum(list)\n",
    "リスト内の和を簡単にとってくれる"
   ]
  },
  {
   "cell_type": "code",
   "execution_count": 23,
   "metadata": {},
   "outputs": [
    {
     "name": "stdout",
     "output_type": "stream",
     "text": [
      "15\n"
     ]
    }
   ],
   "source": [
    "print(sum([1,2,3,4,5]))"
   ]
  },
  {
   "cell_type": "markdown",
   "metadata": {},
   "source": [
    "## list.pop(1)\n",
    "配列の特定の位置の要素を削除する"
   ]
  },
  {
   "cell_type": "code",
   "execution_count": 13,
   "metadata": {},
   "outputs": [
    {
     "name": "stdout",
     "output_type": "stream",
     "text": [
      "[1, 3, 4]\n"
     ]
    }
   ],
   "source": [
    "list=[1,2,3,4]\n",
    "list.pop(1)\n",
    "print(list)"
   ]
  },
  {
   "cell_type": "markdown",
   "metadata": {},
   "source": [
    "## list.remove('x')\n",
    "配列中のxの初めの一個を削除する"
   ]
  },
  {
   "cell_type": "code",
   "execution_count": 28,
   "metadata": {},
   "outputs": [
    {
     "name": "stdout",
     "output_type": "stream",
     "text": [
      "[0, 1, 2, 4]\n"
     ]
    }
   ],
   "source": [
    "X=[i for i in range(5)]\n",
    "X.remove(3)\n",
    "print(X)"
   ]
  },
  {
   "cell_type": "markdown",
   "metadata": {},
   "source": [
    "## アルファベットの配列を簡単に作る\n",
    "## [chr(i) for i in range(ord('a'),ord('z')+1]\n",
    "## sorted(map(chr,range(97,123)))\n",
    "pythonの組み込み関数ordでasciiコードに変換し、chrでasciiコードから文字列に戻す"
   ]
  },
  {
   "cell_type": "code",
   "execution_count": 6,
   "metadata": {},
   "outputs": [
    {
     "name": "stdout",
     "output_type": "stream",
     "text": [
      "['a', 'b', 'c', 'd', 'e', 'f', 'g', 'h', 'i', 'j', 'k', 'l', 'm', 'n', 'o', 'p', 'q', 'r', 's', 't', 'u', 'v', 'w', 'x', 'y', 'z']\n",
      "['a', 'f', 'k']\n"
     ]
    }
   ],
   "source": [
    "print([chr(i) for i in range(ord('a'),ord('z')+1)])\n",
    "\n",
    "# 文字列中に含まれていないアルファベットの配列を作成\n",
    "s=[ 'b', 'c', 'd', 'e', 'g', 'h', 'i', 'j', 'l', 'm', 'n', 'o', 'p', 'q', 'r', 's', 't', 'u', 'v', 'w', 'x', 'y', 'z']\n",
    "print([chr(i) for i in range(ord('a'),ord('z')+1) if chr(i) not in s])"
   ]
  },
  {
   "cell_type": "markdown",
   "metadata": {},
   "source": [
    "## sorted(map(chr,range(65,91))) 大文字のアルファベットの場合\n"
   ]
  },
  {
   "cell_type": "code",
   "execution_count": 1,
   "metadata": {},
   "outputs": [
    {
     "name": "stdout",
     "output_type": "stream",
     "text": [
      "['A', 'B', 'C', 'D', 'E', 'F', 'G', 'H', 'I', 'J', 'K', 'L', 'M', 'N', 'O', 'P', 'Q', 'R', 'S', 'T', 'U', 'V', 'W', 'X', 'Y', 'Z']\n"
     ]
    }
   ],
   "source": [
    "print(sorted(map(chr,range(65,91))))"
   ]
  },
  {
   "cell_type": "markdown",
   "metadata": {},
   "source": [
    "## [i+j for i in range(10) for j in range(10]\n",
    "二変数を一度に扱うときに便利"
   ]
  },
  {
   "cell_type": "code",
   "execution_count": 9,
   "metadata": {},
   "outputs": [
    {
     "name": "stdout",
     "output_type": "stream",
     "text": [
      "[0, 1, 2, 1, 2, 3, 2, 3, 4]\n"
     ]
    }
   ],
   "source": [
    "print([i+j for i in range(3) for j in range(3)])"
   ]
  },
  {
   "cell_type": "markdown",
   "metadata": {},
   "source": [
    "## 配列の全ての要素に操作を加えたいとき\n",
    "## map(function,list)\n",
    "fucntionはint,strや自分の定義した関数を入れることができる。list内の要素全てに対して適応される。"
   ]
  },
  {
   "cell_type": "code",
   "execution_count": 21,
   "metadata": {},
   "outputs": [
    {
     "ename": "TypeError",
     "evalue": "'list' object is not callable",
     "output_type": "error",
     "traceback": [
      "\u001b[1;31m---------------------------------------------------------------------------\u001b[0m",
      "\u001b[1;31mTypeError\u001b[0m                                 Traceback (most recent call last)",
      "\u001b[1;32m<ipython-input-21-4800331e63c2>\u001b[0m in \u001b[0;36m<module>\u001b[1;34m\u001b[0m\n\u001b[0;32m      2\u001b[0m     \u001b[1;32mreturn\u001b[0m \u001b[0mn\u001b[0m\u001b[1;33m*\u001b[0m\u001b[1;36m1\u001b[0m\u001b[1;33m/\u001b[0m\u001b[1;36m2\u001b[0m\u001b[1;33m\u001b[0m\u001b[1;33m\u001b[0m\u001b[0m\n\u001b[0;32m      3\u001b[0m \u001b[0ma\u001b[0m\u001b[1;33m=\u001b[0m\u001b[1;33m[\u001b[0m\u001b[1;36m2\u001b[0m\u001b[1;33m,\u001b[0m\u001b[1;36m4\u001b[0m\u001b[1;33m,\u001b[0m\u001b[1;36m6\u001b[0m\u001b[1;33m,\u001b[0m\u001b[1;36m8\u001b[0m\u001b[1;33m]\u001b[0m\u001b[1;33m\u001b[0m\u001b[1;33m\u001b[0m\u001b[0m\n\u001b[1;32m----> 4\u001b[1;33m \u001b[0ma\u001b[0m\u001b[1;33m=\u001b[0m\u001b[0mlist\u001b[0m\u001b[1;33m(\u001b[0m\u001b[0mmap\u001b[0m\u001b[1;33m(\u001b[0m\u001b[0mhalf\u001b[0m\u001b[1;33m,\u001b[0m\u001b[0ma\u001b[0m\u001b[1;33m)\u001b[0m\u001b[1;33m)\u001b[0m\u001b[1;33m\u001b[0m\u001b[1;33m\u001b[0m\u001b[0m\n\u001b[0m",
      "\u001b[1;31mTypeError\u001b[0m: 'list' object is not callable"
     ]
    }
   ],
   "source": [
    "def half(n):\n",
    "    return n*1/2\n",
    "a=[2,4,6,8]\n",
    "a=list(map(half,a))"
   ]
  },
  {
   "cell_type": "markdown",
   "metadata": {},
   "source": [
    "## 配列の要素をずらす方法\n",
    "配列の内部の並びを変えるときに便利。一番最後の要素は先頭にくる"
   ]
  },
  {
   "cell_type": "code",
   "execution_count": 8,
   "metadata": {},
   "outputs": [
    {
     "name": "stdout",
     "output_type": "stream",
     "text": [
      "[2, 3, 4, 1]\n"
     ]
    }
   ],
   "source": [
    "def shift(l,n):\n",
    "    return l[n:]+l[:n]\n",
    "l=[1,2,3,4]\n",
    "print(shift(l,1))"
   ]
  },
  {
   "cell_type": "markdown",
   "metadata": {},
   "source": [
    "## 配列を一つの文字列につなげる\n",
    "# ''.join(list)\n",
    "list中の要素をすべて''で区切ってつなげる。'/'とすれば、スラッシュでつなげられる。要素に数値があるとエラーをはくので、事前にmap(str,list)をしておく"
   ]
  },
  {
   "cell_type": "code",
   "execution_count": 1,
   "metadata": {},
   "outputs": [
    {
     "name": "stdout",
     "output_type": "stream",
     "text": [
      "atcder\n"
     ]
    }
   ],
   "source": [
    "x=['a','t','c','d','e','r']\n",
    "print(''.join(x))"
   ]
  },
  {
   "cell_type": "markdown",
   "metadata": {},
   "source": [
    "## 配列中の各要素の数をカウント\n",
    "## @ from collections import Counter\n",
    "Counter同士は和をとることができる"
   ]
  },
  {
   "cell_type": "code",
   "execution_count": 19,
   "metadata": {},
   "outputs": [
    {
     "name": "stdout",
     "output_type": "stream",
     "text": [
      "Counter({1: 3, 2: 2, 4: 2, 3: 1, 5: 1})\n"
     ]
    }
   ],
   "source": [
    "from collections import Counter\n",
    "X=[1,2,1,1,2,3,4,4,5]\n",
    "num=Counter(X)\n",
    "print(num)"
   ]
  },
  {
   "cell_type": "markdown",
   "metadata": {},
   "source": [
    "## 文字列の比較\n",
    "## 'abc'<'def'\n",
    "数値と同様に比較演算子を用いて比較することができる。辞書順に並べたときに、前から何番目かで比較される"
   ]
  },
  {
   "cell_type": "code",
   "execution_count": 2,
   "metadata": {},
   "outputs": [
    {
     "name": "stdout",
     "output_type": "stream",
     "text": [
      "True\n"
     ]
    }
   ],
   "source": [
    "print('abc'<'def')"
   ]
  },
  {
   "cell_type": "markdown",
   "metadata": {},
   "source": [
    "## x=a&b   a&=b\n",
    "a,bの共通要素をとったsetを返す。 a&=bの省略系でa,bの共通要素をaに代入するという意味になる。  \n",
    "配列ではなくて、setを使うことがポイント"
   ]
  },
  {
   "cell_type": "code",
   "execution_count": 38,
   "metadata": {},
   "outputs": [
    {
     "name": "stdout",
     "output_type": "stream",
     "text": [
      "{3, 4}\n"
     ]
    }
   ],
   "source": [
    "a=[1,2,3,4,]\n",
    "b=[3,4,5,3]\n",
    "x=set(a) & set(b)\n",
    "print(x)"
   ]
  },
  {
   "cell_type": "markdown",
   "metadata": {},
   "source": [
    "## set_X1.intersection(set_X2)\n",
    "intersectionメソッドで、X1とX2の積集合をとることができる。つまり、共通の要素のみをとりだす"
   ]
  },
  {
   "cell_type": "code",
   "execution_count": 4,
   "metadata": {},
   "outputs": [
    {
     "data": {
      "text/plain": [
       "{3, 4}"
      ]
     },
     "execution_count": 4,
     "metadata": {},
     "output_type": "execute_result"
    }
   ],
   "source": [
    "X1=set([1,2,3,4])\n",
    "X2=set([3,4,5,6])\n",
    "X1.intersection(X2)"
   ]
  },
  {
   "cell_type": "markdown",
   "metadata": {},
   "source": [
    "## 数値が平方数かどうかを調べる\n",
    "### print(\"Yes\" if c==int(c* * *.5)* * *2 else \"No\")\n",
    "平方数かどうか調べるには、平方値をとった後に、二乗した値が元の値ならば平方数という、判断を行っている"
   ]
  },
  {
   "cell_type": "code",
   "execution_count": 46,
   "metadata": {},
   "outputs": [
    {
     "name": "stdout",
     "output_type": "stream",
     "text": [
      "No\n"
     ]
    }
   ],
   "source": [
    "print(\"Yes\" if 121==int(c**.5)**2 else \"No\")"
   ]
  },
  {
   "cell_type": "markdown",
   "metadata": {},
   "source": [
    "## 辞書"
   ]
  },
  {
   "cell_type": "markdown",
   "metadata": {},
   "source": [
    "## dict.values() 辞書の要素にアクセス\n",
    "## dict.keys() 辞書のキーにアクセス\n",
    "## dict.setdefault(\"key4\", 4)"
   ]
  },
  {
   "cell_type": "code",
   "execution_count": 22,
   "metadata": {},
   "outputs": [
    {
     "name": "stdout",
     "output_type": "stream",
     "text": [
      "dict_values([1, 2, 3])\n",
      "dict_keys(['key1', 'key2', 'key3'])\n",
      "4\n",
      "{'key1': 1, 'key2': 2, 'key3': 3, 'key': 4}\n"
     ]
    }
   ],
   "source": [
    "X={'key1':1,'key2':2,'key3':3}\n",
    "print(X.values())\n",
    "print(X.keys())\n",
    "print(X.setdefault('key',4))\n",
    "print(X)"
   ]
  },
  {
   "cell_type": "markdown",
   "metadata": {},
   "source": [
    "## 組み合わせを行ってくれる関数\n",
    "## itertooll"
   ]
  },
  {
   "cell_type": "markdown",
   "metadata": {},
   "source": [
    "## @ from itertool import product\n",
    "## list(poduct(A,B)) 組合わせ\n",
    "２つの集合A,Bの直積を考える。$A\\times B ={(a,d),(a,e),(b,d),(b,e),(c,d),(c,e)}$ のような操作をする  \n",
    "productはオブジェクトを返すだけなので、listに入れてあげないと組み合わせを得ることができない。"
   ]
  },
  {
   "cell_type": "code",
   "execution_count": 6,
   "metadata": {},
   "outputs": [
    {
     "data": {
      "text/plain": [
       "[('a', 'd'), ('a', 'e'), ('b', 'd'), ('b', 'e'), ('c', 'd'), ('c', 'e')]"
      ]
     },
     "execution_count": 6,
     "metadata": {},
     "output_type": "execute_result"
    }
   ],
   "source": [
    "from itertools import product\n",
    "A = ('a', 'b', 'c')\n",
    "B = ('d', 'e')\n",
    "list(product(A,B))"
   ]
  },
  {
   "cell_type": "markdown",
   "metadata": {},
   "source": [
    "## 累積和\n",
    "## itertools.accumulate(X)\n",
    "Xの累積和を簡単にとってくれる。イテレータを返してくれるので、可視化したい時は配列をとる"
   ]
  },
  {
   "cell_type": "code",
   "execution_count": 16,
   "metadata": {},
   "outputs": [
    {
     "name": "stdout",
     "output_type": "stream",
     "text": [
      "[1, 3, 6, 10]\n"
     ]
    }
   ],
   "source": [
    "import itertools\n",
    "X=[1,2,3,4]\n",
    "X=itertools.accumulate(X)\n",
    "print(list(X))"
   ]
  },
  {
   "cell_type": "markdown",
   "metadata": {},
   "source": [
    "## 順列\n",
    "## (itertools.permutations([1, 2, 3])"
   ]
  },
  {
   "cell_type": "code",
   "execution_count": 17,
   "metadata": {},
   "outputs": [
    {
     "name": "stdout",
     "output_type": "stream",
     "text": [
      "[(1, 2, 3), (1, 3, 2), (2, 1, 3), (2, 3, 1), (3, 1, 2), (3, 2, 1)]\n"
     ]
    }
   ],
   "source": [
    "import itertools\n",
    "print(list(itertools.permutations([1,2,3])))"
   ]
  },
  {
   "cell_type": "markdown",
   "metadata": {},
   "source": [
    "## コンビネーション\n",
    "## list(itertools.combinations([1, 2, 3], 2)))"
   ]
  },
  {
   "cell_type": "code",
   "execution_count": 19,
   "metadata": {},
   "outputs": [
    {
     "name": "stdout",
     "output_type": "stream",
     "text": [
      "[(1, 2), (1, 3), (2, 3)]\n"
     ]
    }
   ],
   "source": [
    "print(list(itertools.combinations([1, 2, 3], 2)))"
   ]
  },
  {
   "cell_type": "markdown",
   "metadata": {},
   "source": [
    "## assert 条件式、Falseの時の内容\n",
    "条件式がTrue出ない時に例外を投げる。assertを仕込んでおくと、想定と異なる振る舞いになった時に気づきやすくなる。  \n",
    "組み込み定数__debug__ がTrueの実行される"
   ]
  },
  {
   "cell_type": "code",
   "execution_count": 4,
   "metadata": {},
   "outputs": [
    {
     "ename": "AssertionError",
     "evalue": "X is 4",
     "output_type": "error",
     "traceback": [
      "\u001b[0;31m---------------------------------------------------------------------------\u001b[0m",
      "\u001b[0;31mAssertionError\u001b[0m                            Traceback (most recent call last)",
      "\u001b[0;32m<ipython-input-4-d9c79aeb1651>\u001b[0m in \u001b[0;36m<module>\u001b[0;34m\u001b[0m\n\u001b[1;32m      1\u001b[0m \u001b[0mX\u001b[0m\u001b[0;34m=\u001b[0m\u001b[0;36m4\u001b[0m\u001b[0;34m\u001b[0m\u001b[0;34m\u001b[0m\u001b[0m\n\u001b[0;32m----> 2\u001b[0;31m \u001b[0;32massert\u001b[0m \u001b[0mX\u001b[0m\u001b[0;34m==\u001b[0m\u001b[0;36m3\u001b[0m\u001b[0;34m,\u001b[0m\u001b[0;34m'X is {}'\u001b[0m\u001b[0;34m.\u001b[0m\u001b[0mformat\u001b[0m\u001b[0;34m(\u001b[0m\u001b[0mX\u001b[0m\u001b[0;34m)\u001b[0m\u001b[0;34m\u001b[0m\u001b[0;34m\u001b[0m\u001b[0m\n\u001b[0m",
      "\u001b[0;31mAssertionError\u001b[0m: X is 4"
     ]
    }
   ],
   "source": [
    "X=4\n",
    "assert X==3,'X is {}'.format(X)"
   ]
  },
  {
   "cell_type": "markdown",
   "metadata": {},
   "source": [
    "## datetime形式\n"
   ]
  },
  {
   "cell_type": "markdown",
   "metadata": {},
   "source": [
    "## 文字列時間をdatetimeに変換\n",
    "## date = datetime.datetime.strptime(date, \"%Y/%m/%d\")\n",
    "'2019/03/31'という形の文字列をdatetime型に変換することができる。"
   ]
  },
  {
   "cell_type": "code",
   "execution_count": 3,
   "metadata": {},
   "outputs": [
    {
     "name": "stdout",
     "output_type": "stream",
     "text": [
      "2019-02-21 00:00:00\n"
     ]
    }
   ],
   "source": [
    "import datetime\n",
    "date=datetime.datetime.strptime('2019/02/21','%Y/%m/%d')\n",
    "print(date)"
   ]
  },
  {
   "cell_type": "markdown",
   "metadata": {},
   "source": [
    "## date.strftime('%Y%m)\n",
    "datetime形式を指定した形に変換"
   ]
  },
  {
   "cell_type": "code",
   "execution_count": 10,
   "metadata": {},
   "outputs": [
    {
     "data": {
      "text/plain": [
       "'2019-02'"
      ]
     },
     "execution_count": 10,
     "metadata": {},
     "output_type": "execute_result"
    }
   ],
   "source": [
    "date=datetime.datetime.strptime('2019/02/21','%Y/%m/%d')\n",
    "date.strftime('%Y-%m')"
   ]
  },
  {
   "cell_type": "markdown",
   "metadata": {},
   "source": [
    "## 処理時間の計測\n",
    "### import time 　　t=time.time()\n",
    "timeモジュールで簡単に実装することができる"
   ]
  },
  {
   "cell_type": "code",
   "execution_count": 10,
   "metadata": {},
   "outputs": [
    {
     "name": "stdout",
     "output_type": "stream",
     "text": [
      "0.04979205131530762\n"
     ]
    }
   ],
   "source": [
    "import time\n",
    "t1=time.time()\n",
    "for i in range(int(1e+5)):\n",
    "    i**10\n",
    "t2=time.time()\n",
    "print(t2-t1)"
   ]
  },
  {
   "cell_type": "markdown",
   "metadata": {},
   "source": [
    "## from dateutil.relativedelta import relativedelta\n",
    "月単位での加算を行うときに使えるモジュール"
   ]
  },
  {
   "cell_type": "code",
   "execution_count": 6,
   "metadata": {},
   "outputs": [
    {
     "data": {
      "text/plain": [
       "datetime.datetime(2017, 1, 1, 0, 0)"
      ]
     },
     "execution_count": 6,
     "metadata": {},
     "output_type": "execute_result"
    }
   ],
   "source": [
    "import datetime\n",
    "from dateutil.relativedelta import relativedelta\n",
    "datetime.datetime(2016, 12, 1) + relativedelta(months=1)  #年をまたいだ1ヶ月加算"
   ]
  },
  {
   "cell_type": "markdown",
   "metadata": {},
   "source": [
    "## 簡単な数値計算を行うライブラリ\n",
    "## @ import math"
   ]
  },
  {
   "cell_type": "markdown",
   "metadata": {},
   "source": [
    "## 級数計算\n",
    "### math.factorical(10)"
   ]
  },
  {
   "cell_type": "code",
   "execution_count": 47,
   "metadata": {},
   "outputs": [
    {
     "name": "stdout",
     "output_type": "stream",
     "text": [
      "3628800\n"
     ]
    }
   ],
   "source": [
    "import math\n",
    "print(math.factorial(10))"
   ]
  },
  {
   "cell_type": "markdown",
   "metadata": {},
   "source": [
    "## 小数点切り上げ\n",
    "### math.ceil(4/3)\n",
    "### - ~(4/3)\n",
    "math.ceilで切り上げを実装でき、pythonのネイティブの実装なら、~を切り上げる数値の前につけて、後から負にすることで帳尻を合わせる。"
   ]
  },
  {
   "cell_type": "code",
   "execution_count": 53,
   "metadata": {},
   "outputs": [
    {
     "name": "stdout",
     "output_type": "stream",
     "text": [
      "2\n",
      "2\n"
     ]
    }
   ],
   "source": [
    "import math\n",
    "print(math.ceil(4/3))\n",
    "print(-~(4//3))"
   ]
  },
  {
   "cell_type": "markdown",
   "metadata": {},
   "source": [
    "## 最小公倍数\n",
    "## math.gcd(a, b))\n",
    "a,bの最小公倍数を簡単に求めてくれる"
   ]
  },
  {
   "cell_type": "code",
   "execution_count": 4,
   "metadata": {},
   "outputs": [
    {
     "name": "stdout",
     "output_type": "stream",
     "text": [
      "2\n"
     ]
    }
   ],
   "source": [
    "import math\n",
    "print(math.gcd(4,46))"
   ]
  },
  {
   "cell_type": "markdown",
   "metadata": {},
   "source": [
    "## 最大公倍数\n",
    "## (a*b)/math.gcd(a,b)\n",
    "最大公倍数を一発で求める関数はサポートされていない代わりに、簡単に最小公倍数から求めることができる"
   ]
  },
  {
   "cell_type": "code",
   "execution_count": 5,
   "metadata": {},
   "outputs": [
    {
     "name": "stdout",
     "output_type": "stream",
     "text": [
      "10\n"
     ]
    }
   ],
   "source": [
    "def lcm(x, y):\n",
    "    return (x * y) // math.gcd(x, y)\n",
    "\n",
    "print(lcm(2, 5))"
   ]
  },
  {
   "cell_type": "markdown",
   "metadata": {},
   "source": [
    "## 四捨五入\n",
    "### round(x)\n",
    "小数点切り上げとは異なる操作となるため注意"
   ]
  },
  {
   "cell_type": "code",
   "execution_count": 54,
   "metadata": {},
   "outputs": [
    {
     "name": "stdout",
     "output_type": "stream",
     "text": [
      "2\n"
     ]
    }
   ],
   "source": [
    "print(round(5/3))"
   ]
  },
  {
   "cell_type": "markdown",
   "metadata": {},
   "source": [
    "## 文字列の分割\n",
    "### string.split('/')\n",
    "### map(str,input().split('.'))\n",
    "指定した文字で分割したリストを返す  \n",
    "入力文字列の区切り文字を指定できる\n"
   ]
  },
  {
   "cell_type": "code",
   "execution_count": 1,
   "metadata": {},
   "outputs": [
    {
     "data": {
      "text/plain": [
       "['path', 'to', 'image']"
      ]
     },
     "execution_count": 1,
     "metadata": {},
     "output_type": "execute_result"
    }
   ],
   "source": [
    "string='path/to/image'\n",
    "string.split('/')"
   ]
  },
  {
   "cell_type": "markdown",
   "metadata": {},
   "source": [
    "## フォルダ内のファイル名を取得\n",
    "### import glob  \n",
    "### glob.glob(dir_path)\n",
    "globでフォルダの操作を色々できるので便利"
   ]
  },
  {
   "cell_type": "markdown",
   "metadata": {},
   "source": [
    "## 文字列中に特定の文字があるか調べる\n",
    "### 'char' in 'strings' \n",
    "in を使うだけで、指定した文字列が含まれているかどうかを調べることができる  \n",
    "返り値はbool型"
   ]
  },
  {
   "cell_type": "code",
   "execution_count": 1,
   "metadata": {},
   "outputs": [
    {
     "name": "stdout",
     "output_type": "stream",
     "text": [
      "True\n"
     ]
    }
   ],
   "source": [
    "text='card11'\n",
    "print('car' in text)"
   ]
  },
  {
   "cell_type": "markdown",
   "metadata": {},
   "source": [
    "## 文字列の先頭が指定した文字列か確認\n",
    "### text.startswidth('tex')"
   ]
  },
  {
   "cell_type": "code",
   "execution_count": 1,
   "metadata": {},
   "outputs": [
    {
     "data": {
      "text/plain": [
       "True"
      ]
     },
     "execution_count": 1,
     "metadata": {},
     "output_type": "execute_result"
    }
   ],
   "source": [
    "text='this is text'\n",
    "text.startswith('thi')"
   ]
  },
  {
   "cell_type": "markdown",
   "metadata": {},
   "source": [
    "## 正規表現\n",
    "## @ import re"
   ]
  },
  {
   "cell_type": "markdown",
   "metadata": {},
   "source": [
    "## 正規表現で文字列の分割\n",
    "### re.split('[ABC]',string)\n",
    "pythonのデフォルトのsplit関数より柔軟に分割を指定できる"
   ]
  },
  {
   "cell_type": "code",
   "execution_count": 11,
   "metadata": {},
   "outputs": [
    {
     "name": "stdout",
     "output_type": "stream",
     "text": [
      "['this', 'is', 'test', '']\n"
     ]
    }
   ],
   "source": [
    "import re\n",
    "print(re.split('[ab]','thisaisatestb'))"
   ]
  },
  {
   "cell_type": "markdown",
   "metadata": {},
   "source": [
    "## イテレータの作成\n",
    "### X=iter([1,2,3])\n",
    "### next(X)\n",
    "iter()関数で、リストなどのオブジェクトから順番に要素を取り出すことができる。next()関数、nextメソッドで、イテレータから要素を順に取り出す"
   ]
  },
  {
   "cell_type": "code",
   "execution_count": 1,
   "metadata": {},
   "outputs": [
    {
     "name": "stdout",
     "output_type": "stream",
     "text": [
      "1\n",
      "2\n",
      "3\n"
     ]
    }
   ],
   "source": [
    "X=iter([1,2,3,4])\n",
    "print(next(X))\n",
    "print(next(X))\n",
    "print(next(X))"
   ]
  },
  {
   "cell_type": "code",
   "execution_count": null,
   "metadata": {},
   "outputs": [],
   "source": []
  },
  {
   "cell_type": "code",
   "execution_count": null,
   "metadata": {},
   "outputs": [],
   "source": []
  },
  {
   "cell_type": "code",
   "execution_count": null,
   "metadata": {},
   "outputs": [],
   "source": []
  },
  {
   "cell_type": "code",
   "execution_count": null,
   "metadata": {},
   "outputs": [],
   "source": []
  }
 ],
 "metadata": {
  "kernelspec": {
   "display_name": "Python 3",
   "language": "python",
   "name": "python3"
  },
  "language_info": {
   "codemirror_mode": {
    "name": "ipython",
    "version": 3
   },
   "file_extension": ".py",
   "mimetype": "text/x-python",
   "name": "python",
   "nbconvert_exporter": "python",
   "pygments_lexer": "ipython3",
   "version": "3.7.3"
  }
 },
 "nbformat": 4,
 "nbformat_minor": 2
}

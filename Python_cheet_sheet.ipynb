{
 "cells": [
  {
   "cell_type": "code",
   "execution_count": 2,
   "metadata": {},
   "outputs": [],
   "source": [
    "import datetime"
   ]
  },
  {
   "cell_type": "markdown",
   "metadata": {},
   "source": [
    "## for 文に対するelse\n",
    "Pythonのfor文,while文では、breakでループから抜けずに正常終了した場合にelse文を実行できる。  \n",
    "何かを探すためにfor文を行い、見つからなかったときに実行されるという認識"
   ]
  },
  {
   "cell_type": "code",
   "execution_count": 5,
   "metadata": {},
   "outputs": [
    {
     "name": "stdout",
     "output_type": "stream",
     "text": [
      "Not Found\n"
     ]
    }
   ],
   "source": [
    "for i in range(10):\n",
    "    if i>10:break\n",
    "else:\n",
    "    print('Not Found')"
   ]
  },
  {
   "cell_type": "markdown",
   "metadata": {},
   "source": [
    "## エラー処理とtry,except\n",
    "try文中の処理でエラーが出た際にexceptの中の処理を行う"
   ]
  },
  {
   "cell_type": "code",
   "execution_count": 16,
   "metadata": {},
   "outputs": [
    {
     "name": "stdout",
     "output_type": "stream",
     "text": [
      "out of range\n"
     ]
    }
   ],
   "source": [
    "num=[i for i in range(1,6)]\n",
    "\n",
    "try:\n",
    "    print(num[6])\n",
    "except:\n",
    "    print('out of range')"
   ]
  },
  {
   "cell_type": "markdown",
   "metadata": {},
   "source": [
    "\n",
    "## zip()関数で、複数のシーケンスの反復処理が可能\n",
    "zip()関数を使えば、複数のシーケンスをたどって、オフセットが共通する要素からタプルを作ることができる。"
   ]
  },
  {
   "cell_type": "code",
   "execution_count": 6,
   "metadata": {},
   "outputs": [
    {
     "name": "stdout",
     "output_type": "stream",
     "text": [
      "1 10 100\n",
      "2 20 200\n",
      "3 30 300\n",
      "4 40 400\n"
     ]
    }
   ],
   "source": [
    "X1=[1,2,3,4]\n",
    "X2=[10,20,30,40,50]\n",
    "X3=[100,200,300,400]\n",
    "for x1,x2,x3 in zip(X1,X2,X3):\n",
    "    print(x1,x2,x3)"
   ]
  },
  {
   "cell_type": "markdown",
   "metadata": {},
   "source": [
    "## 関数仮引数での*args\n",
    "関数定義の際に*argsを仮引数として使うと、可変個の位置引数をタプルにまとめて仮引数にセットできる"
   ]
  },
  {
   "cell_type": "code",
   "execution_count": 11,
   "metadata": {},
   "outputs": [
    {
     "name": "stdout",
     "output_type": "stream",
     "text": [
      "('a', 'b', 'c', 'd')\n",
      "required1: a\n",
      "required2: b\n",
      "args: ('c', 'd', 'e')\n"
     ]
    }
   ],
   "source": [
    "def print_args(*args):\n",
    "    print(args)\n",
    "print_args('a','b','c','d')\n",
    "\n",
    "def print_more(required1,required2,*args):\n",
    "    print('required1:',required1)\n",
    "    print('required2:',required2)\n",
    "    print('args:',args)\n",
    "print_more('a','b','c','d','e')"
   ]
  },
  {
   "cell_type": "markdown",
   "metadata": {},
   "source": [
    "## 関数仮引数での**kwargs\n",
    "関数定義に**kwargsを使うと、キーワード引数を一つの辞書にまとめられる。引数の名前が辞書のキー、引数の値が辞書の値になる。"
   ]
  },
  {
   "cell_type": "code",
   "execution_count": 13,
   "metadata": {},
   "outputs": [
    {
     "name": "stdout",
     "output_type": "stream",
     "text": [
      "keyword arguments: {'wine': 'merlot', 'entree': 'mutton', 'dessert': 'macaroon'}\n"
     ]
    }
   ],
   "source": [
    "def print_kwargs(**kwargs):\n",
    "    print('keyword arguments:',kwargs)\n",
    "    \n",
    "print_kwargs(wine='merlot',entree='mutton',dessert='macaroon')"
   ]
  },
  {
   "cell_type": "markdown",
   "metadata": {},
   "source": [
    "## 関数定義のdocstring\n",
    "関数本体の先頭に説明書きを加えることで、関数定義にドキュメントを加えることができる。  \n",
    "help()関数か、__doc__メソッドで確認することができる"
   ]
  },
  {
   "cell_type": "code",
   "execution_count": 15,
   "metadata": {},
   "outputs": [
    {
     "name": "stdout",
     "output_type": "stream",
     "text": [
      "Help on function do_nothing in module __main__:\n",
      "\n",
      "do_nothing()\n",
      "    何もしない関数。\n",
      "\n",
      "\n",
      "    何もしない関数。\n",
      "    \n"
     ]
    }
   ],
   "source": [
    "def do_nothing():\n",
    "    '''\n",
    "    何もしない関数。\n",
    "    '''\n",
    "    pass\n",
    "help(do_nothing)\n",
    "print(do_nothing.__doc__)"
   ]
  },
  {
   "cell_type": "markdown",
   "metadata": {},
   "source": [
    "## クロージャ\n",
    "外側の変数を記憶した関数"
   ]
  },
  {
   "cell_type": "code",
   "execution_count": 67,
   "metadata": {},
   "outputs": [
    {
     "name": "stdout",
     "output_type": "stream",
     "text": [
      "9\n"
     ]
    }
   ],
   "source": [
    "# エンクロージャー\n",
    "def func(var1):\n",
    "    \n",
    "    # クロージャー\n",
    "    def closer_func(var2):\n",
    "        return var1 + var2\n",
    "    return closer_func\n",
    "\n",
    "f = func(5)\n",
    "print(f(4))"
   ]
  },
  {
   "cell_type": "markdown",
   "metadata": {},
   "source": [
    "## None\n",
    "NoneはPythonの特別な定数で、これはnull値（無効値）である。NoneはFalseではないし、0でもないし、空の文字列でもない。NoneをNone以外の値と比較すると、常にFalseが返る。"
   ]
  },
  {
   "cell_type": "code",
   "execution_count": 63,
   "metadata": {},
   "outputs": [
    {
     "name": "stdout",
     "output_type": "stream",
     "text": [
      "<class 'NoneType'>\n",
      "False\n",
      "done\n"
     ]
    }
   ],
   "source": [
    "print(type(None))\n",
    "print(None == False)\n",
    "\n",
    "# ブール値のコンテクストでは、NoneはFalseとなる\n",
    "if not None:\n",
    "    print('done')"
   ]
  },
  {
   "cell_type": "markdown",
   "metadata": {},
   "source": [
    "## リスト操作"
   ]
  },
  {
   "cell_type": "markdown",
   "metadata": {},
   "source": [
    "### 要素の追加"
   ]
  },
  {
   "cell_type": "code",
   "execution_count": 5,
   "metadata": {},
   "outputs": [
    {
     "name": "stdout",
     "output_type": "stream",
     "text": [
      "['a', 2, 3]\n",
      "['a', 2, 3, True]\n",
      "['a', 2, 3, True, 'four', 'Q']\n",
      "['a', 'Q', 2, 3, True, 'four', 'Q']\n"
     ]
    }
   ],
   "source": [
    "# +演算子を使う方法\n",
    "a_list = ['a']\n",
    "a_list = a_list + [2, 3]\n",
    "print(a_list)\n",
    "\n",
    "# appendメソッド\n",
    "a_list.append(True)\n",
    "print(a_list)\n",
    "\n",
    "# extendメソッド　\n",
    "a_list.extend(['four', 'Q'])\n",
    "print(a_list)\n",
    "\n",
    "# insert メソッド\n",
    "a_list.insert(1, 'Q')\n",
    "print(a_list)"
   ]
  },
  {
   "cell_type": "markdown",
   "metadata": {},
   "source": [
    "### 要素の検索"
   ]
  },
  {
   "cell_type": "code",
   "execution_count": 9,
   "metadata": {},
   "outputs": [
    {
     "name": "stdout",
     "output_type": "stream",
     "text": [
      "2\n",
      "True\n",
      "0\n"
     ]
    }
   ],
   "source": [
    "a_list = ['a', 'b', 'new', 'mpilgrim', 'new']\n",
    "\n",
    "# count メソッド\n",
    "print(a_list.count('new'))\n",
    "\n",
    "# in演算子を使用 True or Falseを返す\n",
    "print('new' in a_list)\n",
    "\n",
    "# indexメソッド,初めて出たときのindexを返す　\n",
    "print(a_list.index('a'))"
   ]
  },
  {
   "cell_type": "markdown",
   "metadata": {},
   "source": [
    "###  要素の削除"
   ]
  },
  {
   "cell_type": "code",
   "execution_count": 14,
   "metadata": {},
   "outputs": [
    {
     "name": "stdout",
     "output_type": "stream",
     "text": [
      "['a', 'new', 'mpilgrim', 'new']\n",
      "['a', 'mpilgrim', 'new']\n",
      "new\n",
      "['a', 'mpilgrim']\n",
      "a\n",
      "['mpilgrim']\n"
     ]
    }
   ],
   "source": [
    "a_list = ['a', 'b', 'new', 'mpilgrim', 'new']\n",
    "\n",
    "#del文を用いる\n",
    "del a_list[1]\n",
    "print(a_list)\n",
    "\n",
    "# remove メソッド\n",
    "a_list.remove('new')\n",
    "print(a_list)\n",
    "\n",
    "# pop メソッド\n",
    "# 削除された値が返される。\n",
    "print(a_list.pop())\n",
    "print(a_list)\n",
    "\n",
    "# popメソッドの引数を0にすると、先頭の値を削除する\n",
    "print(a_list.pop(0))\n",
    "print(a_list)"
   ]
  },
  {
   "cell_type": "markdown",
   "metadata": {},
   "source": [
    "## タプルの操作\n",
    "タプルはイミュータブルなリスト。一度作成されたタプルはどの手段でも変更できない性質がある  \n",
    "append(), extend(), insert(), remove(), pop() などの操作は一切できない。  \n",
    "スライスできるのと、タプルが特定の値を持っているか確かめることができる（タプルを変更しないため）くらいのことができる　　\n",
    "#### タプルを使うメリット  \n",
    "・　リストよりもタプルの方が高速。変更を加える予定がない集合を集めてイテレートするだけなら、タプルを使うとよい  \n",
    "・　変更の必要の無いデータを書き込み保護するとコードの安全性が上がる。データが不変であるassert 分が暗黙的にあるようなもの  \n",
    "・　辞書のキーとして使うことができる。リストはイミュータブルでないので、辞書のキーとして使うことができない"
   ]
  },
  {
   "cell_type": "code",
   "execution_count": 18,
   "metadata": {},
   "outputs": [
    {
     "name": "stdout",
     "output_type": "stream",
     "text": [
      "('b', 'mpilgrim', 'z')\n",
      "1\n",
      "True\n"
     ]
    }
   ],
   "source": [
    "a_tuple = (\"a\", \"b\", \"mpilgrim\", \"z\", \"example\")\n",
    "\n",
    "# リストのようにスライスできる\n",
    "print(a_tuple[1:4])\n",
    "\n",
    "# indexメソッド\n",
    "print(a_tuple.index('b'))\n",
    "\n",
    "# in 演算子を使用\n",
    "print('z' in a_tuple)"
   ]
  },
  {
   "cell_type": "markdown",
   "metadata": {},
   "source": [
    "### 複数の値を一度に代入\n",
    "かっこいいタプルの使い方"
   ]
  },
  {
   "cell_type": "code",
   "execution_count": 25,
   "metadata": {},
   "outputs": [
    {
     "name": "stdout",
     "output_type": "stream",
     "text": [
      "a 2 True\n",
      "0 1 4\n"
     ]
    }
   ],
   "source": [
    "v = ('a', 2, True)\n",
    "(x, y, z) = v\n",
    "print(x, y ,z)\n",
    "\n",
    "(MONDAY, TUESDAY, WEDNESDAY, THURSDAY, FRIDAY, SATURDAY, SUNDAY) = range(7)\n",
    "\n",
    "print(MONDAY, TUESDAY, FRIDAY)"
   ]
  },
  {
   "cell_type": "markdown",
   "metadata": {},
   "source": [
    "## 集合の操作\n",
    "集合は一意な値を詰めた「袋」であり、その要素は順序づけされない"
   ]
  },
  {
   "cell_type": "markdown",
   "metadata": {},
   "source": [
    "### 集合の作成"
   ]
  },
  {
   "cell_type": "code",
   "execution_count": 27,
   "metadata": {},
   "outputs": [
    {
     "name": "stdout",
     "output_type": "stream",
     "text": [
      "{1, 2}\n",
      "{False, True, 'a', 'mpilgrim', 42, 'b'}\n"
     ]
    }
   ],
   "source": [
    "# {} の中に入れる\n",
    "a_set = {1, 2}\n",
    "print(a_set)\n",
    "\n",
    "# set() でリストから集合にする\n",
    "a_list = ['a', 'b', 'mpilgrim', True, False, 42]\n",
    "a_set = set(a_list)\n",
    "print(a_set)"
   ]
  },
  {
   "cell_type": "markdown",
   "metadata": {},
   "source": [
    "### 集合の変更"
   ]
  },
  {
   "cell_type": "code",
   "execution_count": 35,
   "metadata": {},
   "outputs": [
    {
     "name": "stdout",
     "output_type": "stream",
     "text": [
      "{1, 2, 4}\n",
      "{1, 2, 3, 4, 5, 6, 8, 9, 13}\n",
      "{1, 2, 3, 4, 5, 6, 8, 9, 10, 13, 20, 30}\n",
      "{1, 2, 3, 4, 5, 6, 8, 9, 13, 20, 30}\n",
      "1\n",
      "{2, 3, 4, 5, 6, 8, 9, 13, 20, 30}\n",
      "set()\n"
     ]
    }
   ],
   "source": [
    "a_set = {1, 2}\n",
    "\n",
    "# add メソッド\n",
    "a_set.add(4)\n",
    "print(a_set)\n",
    "\n",
    "# updateメソッド\n",
    "a_set.update({3, 6, 9}, {1, 2, 3, 5, 8, 13})\n",
    "print(a_set)\n",
    "\n",
    "#  リストも加えられる\n",
    "a_set.update([10, 20, 30])\n",
    "print(a_set)\n",
    "\n",
    "# discardメソッド\n",
    "a_set.discard(10)\n",
    "print(a_set)\n",
    "\n",
    "# pop メソッド、値を一つ取り除く。どの値が取り除かれるかは不定なので制御できない\n",
    "print(a_set.pop())\n",
    "print(a_set)\n",
    "\n",
    "# clear メソッド\n",
    "a_set.clear()\n",
    "print(a_set)"
   ]
  },
  {
   "cell_type": "markdown",
   "metadata": {},
   "source": [
    "### 集合の演算"
   ]
  },
  {
   "cell_type": "code",
   "execution_count": 44,
   "metadata": {},
   "outputs": [
    {
     "name": "stdout",
     "output_type": "stream",
     "text": [
      "True\n",
      "{1, 2, 195, 4, 5, 3, 6, 8, 9, 12, 76, 15, 17, 18, 21, 30, 51, 127}\n",
      "{1, 2, 195, 4, 5, 3, 6, 8, 9, 12, 76, 15, 17, 18, 21, 30, 51, 127}\n",
      "{2, 5, 9, 12, 21}\n",
      "{2, 5, 9, 12, 21}\n",
      "{195, 4, 76, 51, 30, 127}\n",
      "{195, 4, 76, 51, 30, 127}\n",
      "{1, 3, 195, 6, 4, 8, 76, 15, 17, 18, 51, 30, 127}\n",
      "{1, 3, 195, 6, 4, 8, 76, 15, 17, 18, 51, 30, 127}\n"
     ]
    }
   ],
   "source": [
    "a_set = {2, 4, 5, 9, 12, 21, 30, 51, 76, 127, 195}\n",
    "b_set = {1, 2, 3, 5, 6, 8, 9, 12, 15, 17, 18, 21}\n",
    "\n",
    "# in 演算子\n",
    "print(30 in a_set)  \n",
    "\n",
    "# unionメソッド、和集合、どちらかの集合に含まれる全ての要素を含んだ集合を返す\n",
    "print(a_set.union(b_set))\n",
    "print(a_set | b_set)\n",
    "\n",
    "# intersection メソッド、積集合、両方の集合に含まれる全ての要素を含んだ集合を返す\n",
    "print(a_set.intersection(b_set))\n",
    "print(a_set & b_set)\n",
    "\n",
    "# different メソッド、差集合、片方の集合には含まれるが、もう片方の集合には含まれていない全ての要素を含んだ集合を返す\n",
    "print(a_set.difference(b_set))\n",
    "print(a_set - b_set)\n",
    "\n",
    "# symmetric_difference メソッド、どちらか一方だけの集合に含まれるすべての要素を含んだ新しい集合を返す\n",
    "print(a_set.symmetric_difference(b_set))\n",
    "print(a_set ^ b_set)"
   ]
  },
  {
   "cell_type": "markdown",
   "metadata": {},
   "source": [
    "### 集合の関係"
   ]
  },
  {
   "cell_type": "code",
   "execution_count": 48,
   "metadata": {},
   "outputs": [
    {
     "name": "stdout",
     "output_type": "stream",
     "text": [
      "True\n",
      "True\n",
      "True\n",
      "True\n"
     ]
    }
   ],
   "source": [
    "a_set = {1, 2, 3}\n",
    "b_set = {1, 2, 3, 4}\n",
    "\n",
    "# issubsetメソッド、部分集合かどうか\n",
    "print(a_set.issubset(b_set))\n",
    "print(a_set <= b_set)\n",
    "\n",
    "#issuperset メソッド、上位集合かどうか\n",
    "print(b_set.issuperset(a_set))\n",
    "print(b_set >= a_set)"
   ]
  },
  {
   "cell_type": "markdown",
   "metadata": {},
   "source": [
    "##  辞書の操作\n",
    "辞書は、キーと値のペアからなる順序付けされていない集合だ。"
   ]
  },
  {
   "cell_type": "markdown",
   "metadata": {},
   "source": [
    "### 辞書の作成"
   ]
  },
  {
   "cell_type": "code",
   "execution_count": null,
   "metadata": {},
   "outputs": [],
   "source": [
    "a_dict = {'server': 'db.diveintopython3.org', 'database': 'mysql'}\n",
    "print(a_dict)\n",
    "print(a_dict['server'])\n",
    "print(a_dict['database'])\n",
    "\n",
    "# key , valueを取得\n",
    "print(a_dict.keys())\n",
    "print(a_dict.values())"
   ]
  },
  {
   "cell_type": "markdown",
   "metadata": {},
   "source": [
    "### 辞書の変更"
   ]
  },
  {
   "cell_type": "code",
   "execution_count": 58,
   "metadata": {},
   "outputs": [
    {
     "name": "stdout",
     "output_type": "stream",
     "text": [
      "{'apple': 1, 'orange': 2, 'banana': 3, 'peach': 4}\n",
      "{'apple': 1, 'orange': 2, 'banana': 3, 'peach': 4, 'lemon': 5}\n",
      "2\n",
      "{'apple': 1, 'banana': 3, 'peach': 4, 'lemon': 5}\n",
      "{}\n"
     ]
    }
   ],
   "source": [
    "a_dict = {\"apple\":1, \"orange\":2, \"banana\":3}\n",
    "\n",
    "#  要素にアクセス\n",
    "a_dict['peach'] = 4\n",
    "print(a_dict)\n",
    "\n",
    "# setdefault  メソッド\n",
    "a_dict.setdefault('lemon', 5)\n",
    "print(a_dict)\n",
    "\n",
    "# popメソッド\n",
    "print(a_dict.pop('orange'))\n",
    "print(a_dict)\n",
    "\n",
    "# clearメソッド\n",
    "a_dict.clear()\n",
    "print(a_dict)"
   ]
  },
  {
   "cell_type": "markdown",
   "metadata": {},
   "source": [
    "## クラス\n",
    "__init__関数がインスタンス変数の初期化。インスタンス変数はクラス内の他のメソッドでも取り扱えるため、インスタンスにおいてグローバル  \n",
    "親クラスから小クラスに継承したときに、新しくパラメータ、メソッドを追加するときはsuper関数を使う  \n",
    "__call__は関数のように呼び出したときに実行される　\n",
    "\n",
    "python2ではクラスを定義する際は必ずobjectを継承する必要があったが、python3からは明示する必要がなくなった"
   ]
  },
  {
   "cell_type": "code",
   "execution_count": 76,
   "metadata": {},
   "outputs": [
    {
     "name": "stdout",
     "output_type": "stream",
     "text": [
      "ちゃちゃ\n",
      "ごん 飛ぶ\n",
      "\n",
      "    hold cat name class\n",
      "    \n",
      "human see panda\n"
     ]
    }
   ],
   "source": [
    "# 親クラス,objectを継承する\n",
    "class Cat(object):\n",
    "    \n",
    "    # docstringをクラスの冒頭に書く\n",
    "    '''\n",
    "    hold cat name class\n",
    "    ''' \n",
    "    \n",
    "    def __init__(self, name):\n",
    "       self.name = name\n",
    "\n",
    "#  小クラス\n",
    "class SuperCat(Cat):\n",
    "    def __init__(self, name, function):        \n",
    "        # 親クラスのname変数を更新　\n",
    "        super(SuperCat, self).__init__(name)\n",
    "        self.function = function\n",
    "\n",
    "sample1 = Cat('ちゃちゃ')\n",
    "sample2 = SuperCat('ごん', '飛ぶ')\n",
    "print(sample1.name)\n",
    "print(sample2.name,sample2.function)\n",
    "\n",
    "class Watch:\n",
    "    def __init__(self, target):\n",
    "        self.target = target\n",
    "        \n",
    "    def __call__(self, observer):\n",
    "        print(observer + ' see ' + self.target)\n",
    "\n",
    "watch = Watch('panda')\n",
    "watch('human')"
   ]
  },
  {
   "cell_type": "code",
   "execution_count": 78,
   "metadata": {},
   "outputs": [
    {
     "name": "stdout",
     "output_type": "stream",
     "text": [
      "0 1 1 2 3 5 8 13 21 34 55 89 "
     ]
    }
   ],
   "source": [
    "# クラスを使ったイテレータの作成\n",
    "# フィボナッチイテレータ\n",
    "class Fib:\n",
    "    '''\n",
    "    Fibonacci number iteretor\n",
    "    '''\n",
    "    def __init__(self, max):\n",
    "        self.max = max\n",
    "        \n",
    "    # イテレーションを始めるための初期化\n",
    "    def __iter__(self):\n",
    "        self.a = 0\n",
    "        self.b = 1\n",
    "        return self\n",
    "\n",
    "    def __next__(self):\n",
    "        fib = self.a\n",
    "        if fib > self.max:\n",
    "            raise StopIteration\n",
    "            \n",
    "        self.a, self.b = self.b, self.a + self.b\n",
    "        return fib\n",
    "    \n",
    "for n in Fib(100):\n",
    "    print(n, end=' ')"
   ]
  },
  {
   "cell_type": "code",
   "execution_count": null,
   "metadata": {},
   "outputs": [],
   "source": []
  },
  {
   "cell_type": "markdown",
   "metadata": {},
   "source": [
    "## with構文\n",
    "開始と終了に必ずしなければいけない一連の作業がある場合に活躍  \n",
    "with構文を使えるクラスには、__enter__(), __exit__()メソッドの両方を定義する必要がある"
   ]
  },
  {
   "cell_type": "code",
   "execution_count": 49,
   "metadata": {},
   "outputs": [
    {
     "name": "stdout",
     "output_type": "stream",
     "text": [
      "START\n",
      "Do something, var: banana\n",
      "END\n"
     ]
    }
   ],
   "source": [
    "class class_with:\n",
    "    \n",
    "    def __enter__(self):\n",
    "        print('START')\n",
    "        return self\n",
    "        \n",
    "    def __init__(self, var):\n",
    "        self.var = var\n",
    "        \n",
    "    def function(self):\n",
    "        print('Do something, var: %s' % self.var)\n",
    "          \n",
    "    def __exit__(self, exception_type, exception_value, traceback):\n",
    "        print('END')\n",
    "\n",
    "with class_with('banana') as c:\n",
    "    c.function()\n"
   ]
  },
  {
   "cell_type": "markdown",
   "metadata": {},
   "source": [
    "## @デコレータ\n",
    "ソースコードを書き換えずに既存の関数に変更を加えたい場合に、関数の定義直前につける  \n",
    "シンタックスシュガーというある用途のプログラムを書きやすくするための文法  \n",
    "デコレータの関数は引数にデコレートする関数をとり、関数内関数の引数に*args, *kwargs をとる"
   ]
  },
  {
   "cell_type": "code",
   "execution_count": 15,
   "metadata": {},
   "outputs": [
    {
     "name": "stdout",
     "output_type": "stream",
     "text": [
      "8\n",
      "====================\n",
      "Running function: add_ints\n",
      "Positional arguments: (3, 5)\n",
      "Keyword arguments: {}\n",
      "Result: 8\n",
      "8\n",
      "====================\n",
      "Running function: add_ints_decode\n",
      "Positional arguments: (3, 5)\n",
      "Keyword arguments: {}\n",
      "Result: 8\n"
     ]
    },
    {
     "data": {
      "text/plain": [
       "8"
      ]
     },
     "execution_count": 15,
     "metadata": {},
     "output_type": "execute_result"
    }
   ],
   "source": [
    "# デコレートする関数の引数を出力するデコレーター\n",
    "def decoder(func):\n",
    "    def new_function(*args, **kwargs):\n",
    "        print('Running function:', func.__name__)\n",
    "        print('Positional arguments:', args)\n",
    "        print('Keyword arguments:', kwargs)\n",
    "        result = func(*args, **kwargs)\n",
    "        print('Result:',result)\n",
    "        return result\n",
    "    return new_function\n",
    "\n",
    "# 手作業でデコレータの返り値を代入する場合\n",
    "def add_ints(a, b):\n",
    "    return a + b\n",
    "\n",
    "print(add_ints(3, 5))\n",
    "\n",
    "print('='*20)\n",
    "return_value = decoder(add_ints)\n",
    "print(return_value(3, 5))\n",
    "\n",
    "print('='*20)\n",
    "\n",
    "# デコレータを用いた場合\n",
    "@decoder\n",
    "def add_ints_decode(a, b):\n",
    "    return a + b\n",
    "\n",
    "add_ints_decode(3,5)"
   ]
  },
  {
   "cell_type": "markdown",
   "metadata": {},
   "source": [
    "## ABCモジュール\n",
    "抽象基底クラス(ABC)を定義するためのモジュール。それ自体をインスタンスとして使うのではなく、継承をすることを前提とした親クラス(基底クラス)  \n",
    "抽象化することでサブクラスのメソッド名を共通化ができ、それぞれのサブクラスで異なる実装を行うことができる。"
   ]
  },
  {
   "cell_type": "code",
   "execution_count": 23,
   "metadata": {},
   "outputs": [
    {
     "data": {
      "text/plain": [
       "'hello! my name is ポチ'"
      ]
     },
     "execution_count": 23,
     "metadata": {},
     "output_type": "execute_result"
    }
   ],
   "source": [
    "import abc\n",
    "\n",
    "# metaclass=abc.ABCMetaを指定する\n",
    "class Animal(object, metaclass=abc.ABCMeta):    \n",
    "    #  抽象化するクラスメソッドのにabstractmethodデコレータをつける\n",
    "    @abc.abstractmethod\n",
    "    def sayHello(self):\n",
    "    # 抽象化するメソッドは内容は記述できない(pass固定)\n",
    "        pass\n",
    "\n",
    "# 親クラスの継承\n",
    "class Dog(Animal):\n",
    "    def __init__(self, myname):\n",
    "        self.myname = myname\n",
    "        \n",
    "    # 親クラスで抽象化したメソッドを記述\n",
    "    def sayHello(self):\n",
    "        return 'hello! my name is %s' % self.myname\n",
    "    \n",
    "d = Dog('ポチ')\n",
    "d.sayHello()"
   ]
  },
  {
   "cell_type": "markdown",
   "metadata": {},
   "source": [
    "## print('s','b','c', sep=',')\n",
    "print文のオプション。sepで区切り文字を指定することができる。  \n",
    "sep='\\n'で配列の要素を縦に並べて表示する"
   ]
  },
  {
   "cell_type": "code",
   "execution_count": 32,
   "metadata": {},
   "outputs": [
    {
     "name": "stdout",
     "output_type": "stream",
     "text": [
      "s,b,c\n",
      "s\n",
      "b\n",
      "c\n"
     ]
    }
   ],
   "source": [
    "s=['s','b','c']\n",
    "print(*s,sep=',')\n",
    "print(*s,sep='\\n')"
   ]
  },
  {
   "cell_type": "markdown",
   "metadata": {},
   "source": [
    "## print('s', end='some')\n",
    "endで指定した文字を行末に追加できる。end=''とすることで、意図的に改行しないようにする。"
   ]
  },
  {
   "cell_type": "code",
   "execution_count": 9,
   "metadata": {},
   "outputs": [
    {
     "name": "stdout",
     "output_type": "stream",
     "text": [
      "string1string2\n"
     ]
    }
   ],
   "source": [
    "print('string1',end='')\n",
    "print('string2')"
   ]
  },
  {
   "cell_type": "markdown",
   "metadata": {},
   "source": [
    "## print('Yes' if a==b else 'No')\n",
    "指定した条件に当てはまる場合に、printする内容を変える"
   ]
  },
  {
   "cell_type": "code",
   "execution_count": 11,
   "metadata": {},
   "outputs": [
    {
     "name": "stdout",
     "output_type": "stream",
     "text": [
      "Yes\n"
     ]
    }
   ],
   "source": [
    "print('Yes' if 'a'=='a' else 'No')"
   ]
  },
  {
   "cell_type": "markdown",
   "metadata": {},
   "source": [
    "## print('{} を埋めるには{}'.format(a,b))\n",
    "print文中を、formatないの言葉で埋めることができる"
   ]
  },
  {
   "cell_type": "code",
   "execution_count": 3,
   "metadata": {},
   "outputs": [
    {
     "name": "stdout",
     "output_type": "stream",
     "text": [
      " 5は 3と2.000の和です\n"
     ]
    }
   ],
   "source": [
    "print('{:2d}は{:2d}と{:5.3f}の和です'.format(5,3,2))"
   ]
  },
  {
   "cell_type": "markdown",
   "metadata": {},
   "source": [
    "## 進数変換\n",
    "### int('1001',2)  2進数から10進数に変換\n",
    "###  int('700', 8)  8進数から10進数に変換\n",
    "###  int('FE', 16)  16進数から10進数に変換\n",
    "### bin(23)  10進数から2進数に変換\n",
    "### oct(23)  10進数から8進数に変換\n",
    "### hex(23)  10進数から16進数に変換\n",
    "\n",
    "### print(0b10111)\n",
    "2進数などをそのまま入力した場合、自動的に10進数に直してくれる"
   ]
  },
  {
   "cell_type": "code",
   "execution_count": 5,
   "metadata": {},
   "outputs": [
    {
     "name": "stdout",
     "output_type": "stream",
     "text": [
      "9\n",
      "448\n",
      "254\n",
      "0b10111\n",
      "0o27\n",
      "0x17\n",
      "23\n"
     ]
    }
   ],
   "source": [
    "print(int('1001',2))\n",
    "print(int('700',8))\n",
    "print(int('FE',16))\n",
    "\n",
    "print(bin(23))\n",
    "print(oct(23))\n",
    "print(hex(23))\n",
    "\n",
    "print(0b10111)"
   ]
  },
  {
   "cell_type": "markdown",
   "metadata": {},
   "source": [
    "## stackとqueueをPython標準ライブラリで扱う\n",
    "## @ import queue"
   ]
  },
  {
   "cell_type": "markdown",
   "metadata": {},
   "source": [
    "## キュー\n",
    "## q=queue.Queue()   q.put()   q.get()\n",
    "FIFOキュー(先入れ先出し)。最初に入れたデータを先に取り出す"
   ]
  },
  {
   "cell_type": "code",
   "execution_count": 6,
   "metadata": {},
   "outputs": [
    {
     "name": "stdout",
     "output_type": "stream",
     "text": [
      "0\n",
      "1\n",
      "2\n",
      "3\n",
      "4\n"
     ]
    }
   ],
   "source": [
    "import queue\n",
    "\n",
    "# FIFOキューの作成\n",
    "q = queue.Queue()\n",
    "\n",
    "# キューにデータを挿入する。挿入するデータは「0, 1, 2, 3, 4」\n",
    "for i in range(5):\n",
    "    q.put(i)\n",
    "\n",
    "# キューからデータがなくなるまで取り出しを行う\n",
    "while not q.empty():\n",
    "    print(q.get())"
   ]
  },
  {
   "cell_type": "markdown",
   "metadata": {},
   "source": [
    "## スタック\n",
    "## q=queue.LifoQueue()  q.pu()  q.get()\n",
    "LIFOキュー(後入れ先出し)。最後に入れたデータを先に取り出す"
   ]
  },
  {
   "cell_type": "code",
   "execution_count": 7,
   "metadata": {},
   "outputs": [
    {
     "name": "stdout",
     "output_type": "stream",
     "text": [
      "4\n",
      "3\n",
      "2\n",
      "1\n",
      "0\n"
     ]
    }
   ],
   "source": [
    "import queue\n",
    "\n",
    "# LIFOキューの作成\n",
    "q = queue.LifoQueue()\n",
    "\n",
    "# キューにデータを挿入する。挿入するデータは「0, 1, 2, 3, 4」\n",
    "for i in range(5):\n",
    "    q.put(i)\n",
    "\n",
    "# キューからデータがなくなるまで取り出しを行う\n",
    "while not q.empty():\n",
    "    print(q.get())"
   ]
  },
  {
   "cell_type": "markdown",
   "metadata": {},
   "source": [
    "## eval('1+2')\n",
    "str型の計算式を実行することができる。"
   ]
  },
  {
   "cell_type": "markdown",
   "metadata": {},
   "source": [
    "\n",
    "## str_X.strip()\n",
    "文字列中の空白文字を取り除く"
   ]
  },
  {
   "cell_type": "code",
   "execution_count": 1,
   "metadata": {},
   "outputs": [
    {
     "name": "stdout",
     "output_type": "stream",
     "text": [
      "   string  \n",
      "string\n"
     ]
    }
   ],
   "source": [
    "str_X='   string  '\n",
    "new_X=str_X.strip()\n",
    "print(str_X)\n",
    "print(new_X)"
   ]
  },
  {
   "cell_type": "markdown",
   "metadata": {},
   "source": [
    "## string.upper()     string.lower()\n",
    "すべての文字列を大文字,小文字にする"
   ]
  },
  {
   "cell_type": "code",
   "execution_count": 8,
   "metadata": {},
   "outputs": [
    {
     "name": "stdout",
     "output_type": "stream",
     "text": [
      "ATCODER\n"
     ]
    }
   ],
   "source": [
    "string='atcoder'\n",
    "print(string.upper())"
   ]
  },
  {
   "cell_type": "markdown",
   "metadata": {},
   "source": [
    "## string.capitalize()\n",
    "文字列の先頭を大文字にする"
   ]
  },
  {
   "cell_type": "code",
   "execution_count": 10,
   "metadata": {},
   "outputs": [
    {
     "name": "stdout",
     "output_type": "stream",
     "text": [
      "Hello\n"
     ]
    }
   ],
   "source": [
    "string='hello'\n",
    "print(string.capitalize())"
   ]
  },
  {
   "cell_type": "markdown",
   "metadata": {},
   "source": [
    "## string.title()\n",
    "各単語の先頭を大文字にかえる"
   ]
  },
  {
   "cell_type": "code",
   "execution_count": 11,
   "metadata": {},
   "outputs": [
    {
     "name": "stdout",
     "output_type": "stream",
     "text": [
      "This Is A Pen\n"
     ]
    }
   ],
   "source": [
    "string='this is a pen'\n",
    "print(string.title())"
   ]
  },
  {
   "cell_type": "markdown",
   "metadata": {},
   "source": [
    "## 大文字か小文字か判断する\n",
    "## X.isupper()   X.islower()\n",
    "一部でも異なればFalseとなるので注意"
   ]
  },
  {
   "cell_type": "code",
   "execution_count": 12,
   "metadata": {},
   "outputs": [
    {
     "name": "stdout",
     "output_type": "stream",
     "text": [
      "True\n"
     ]
    }
   ],
   "source": [
    "X='titanic'\n",
    "print(X.islower())"
   ]
  },
  {
   "cell_type": "markdown",
   "metadata": {},
   "source": [
    "## 文字一つ一つに分ける\n",
    "## list(string)\n"
   ]
  },
  {
   "cell_type": "code",
   "execution_count": 1,
   "metadata": {},
   "outputs": [
    {
     "name": "stdout",
     "output_type": "stream",
     "text": [
      "['h', 'e', 'l', 'l', 'o']\n"
     ]
    }
   ],
   "source": [
    "print(list('hello'))"
   ]
  },
  {
   "cell_type": "markdown",
   "metadata": {},
   "source": [
    "## 文字列の文字の回数をまとめる\n",
    "## {letter:word.count(letter) for letter in set(word)}"
   ]
  },
  {
   "cell_type": "code",
   "execution_count": 7,
   "metadata": {},
   "outputs": [
    {
     "name": "stdout",
     "output_type": "stream",
     "text": [
      "{'s': 1, 'l': 1, 't': 2, 'e': 2, 'r': 1}\n"
     ]
    }
   ],
   "source": [
    "word='letters'\n",
    "letter_counts={letter:word.count(letter) for letter in set(word)}\n",
    "print(letter_counts)"
   ]
  },
  {
   "cell_type": "markdown",
   "metadata": {},
   "source": [
    "\n",
    "## s=[input() for i in range(n)]\n",
    "n回入力を受け付けて、配列を作成。競プロに役立つ。"
   ]
  },
  {
   "cell_type": "code",
   "execution_count": 2,
   "metadata": {},
   "outputs": [
    {
     "name": "stdout",
     "output_type": "stream",
     "text": [
      "1\n",
      "3\n",
      "['1', '3']\n"
     ]
    }
   ],
   "source": [
    "s=[input() for i in range(2)]\n",
    "print(s)"
   ]
  },
  {
   "cell_type": "markdown",
   "metadata": {},
   "source": [
    "## a,b=[int(input()) for i in range(n)]\n",
    "n回入力を受けて、入力した値ごとに変数に代入する"
   ]
  },
  {
   "cell_type": "code",
   "execution_count": 19,
   "metadata": {},
   "outputs": [
    {
     "name": "stdout",
     "output_type": "stream",
     "text": [
      "2\n",
      "4\n",
      "2\n",
      "4\n"
     ]
    }
   ],
   "source": [
    "a,b=[int(input()) for i in range(2)]\n",
    "print(a)\n",
    "print(b)"
   ]
  },
  {
   "cell_type": "markdown",
   "metadata": {},
   "source": [
    "## str_list=list(input().split())\n",
    "文字列の配列を作成する。"
   ]
  },
  {
   "cell_type": "code",
   "execution_count": 14,
   "metadata": {},
   "outputs": [
    {
     "name": "stdout",
     "output_type": "stream",
     "text": [
      "sdf df\n",
      "['sdf', 'df']\n"
     ]
    }
   ],
   "source": [
    "str_list=list(input().split())\n",
    "print(str_list)"
   ]
  },
  {
   "cell_type": "markdown",
   "metadata": {},
   "source": [
    "## List=[[int(j) for j in input().split()] for i in range(2)]\n",
    "入力から2次元リストを格納する"
   ]
  },
  {
   "cell_type": "code",
   "execution_count": 31,
   "metadata": {},
   "outputs": [
    {
     "name": "stdout",
     "output_type": "stream",
     "text": [
      "12 3 4\n",
      "3 4 5\n",
      "[[12, 3, 4], [3, 4, 5]]\n"
     ]
    }
   ],
   "source": [
    "List=[[int(j) for j in input().split()] for i in range(2)]\n",
    "print(List)"
   ]
  },
  {
   "cell_type": "markdown",
   "metadata": {},
   "source": [
    "## Pythonの組み込み関数zipで行列の転置をとる\n",
    "## list(zip(*X))\n",
    "*をつけるとリストを展開して渡せる。zip()は複数のイテラブル（リストやタプルなど）の要素をまとめたイテレータを返す."
   ]
  },
  {
   "cell_type": "code",
   "execution_count": 6,
   "metadata": {},
   "outputs": [
    {
     "name": "stdout",
     "output_type": "stream",
     "text": [
      "[(0, 3), (1, 4), (2, 5)]\n"
     ]
    }
   ],
   "source": [
    "X = [[0, 1, 2], [3, 4, 5]]\n",
    "print(list(zip(*X)))"
   ]
  },
  {
   "cell_type": "markdown",
   "metadata": {},
   "source": [
    "## 配列中の要素を別の値に変える"
   ]
  },
  {
   "cell_type": "markdown",
   "metadata": {},
   "source": [
    "## X.replace('a','b')\n",
    "配列X中のaをbにかえる  \n",
    "replaceは本来は文字列に対して行う操作なので、一度配列を文字列に直してから行う"
   ]
  },
  {
   "cell_type": "code",
   "execution_count": 4,
   "metadata": {},
   "outputs": [
    {
     "name": "stdout",
     "output_type": "stream",
     "text": [
      "bbbbcc,sdbccb,grsbb\n"
     ]
    }
   ],
   "source": [
    "X=['aabbcc','sdacca','grsaa']\n",
    "X=','.join(X)\n",
    "print(X.replace('a','b'))"
   ]
  },
  {
   "cell_type": "markdown",
   "metadata": {},
   "source": [
    "## c=int(input().replace(' ',''))\n",
    "入力からの複数の数値を一つに合わせる。文字列として受け取り、空白区切りをなくすことによってつなげている。"
   ]
  },
  {
   "cell_type": "code",
   "execution_count": 44,
   "metadata": {},
   "outputs": [
    {
     "name": "stdout",
     "output_type": "stream",
     "text": [
      "2 43\n",
      "243\n"
     ]
    }
   ],
   "source": [
    "c=int(input().replace(' ',''))\n",
    "print(c)"
   ]
  },
  {
   "cell_type": "markdown",
   "metadata": {},
   "source": [
    "## X=sorted(map(int,input().split())\n",
    "## a,b,c=sorted(map(int,input().split())\n",
    "空白文字区切りの文字列をリスト化させて、ソートした配列を返す  \n",
    "個別に受け取るようにすれば、ソートした値を受け取るようにしてくれる"
   ]
  },
  {
   "cell_type": "code",
   "execution_count": 29,
   "metadata": {},
   "outputs": [
    {
     "name": "stdout",
     "output_type": "stream",
     "text": [
      "1 3 4 2 1 4\n",
      "[1, 1, 2, 3, 4, 4]\n",
      "6 2 5\n",
      "2 5 6\n"
     ]
    }
   ],
   "source": [
    "X=sorted(map(int,input().split()))\n",
    "print(X)\n",
    "a,b,c=sorted(map(int,input().split()))\n",
    "print(a,b,c)"
   ]
  },
  {
   "cell_type": "markdown",
   "metadata": {},
   "source": [
    "## a,b,* s=[1,2,3,4,5]\n",
    "リストを代入する際にアスタライスのついている変数に最後の残りが代入される。アスタリスクは各用途で使用方法が異なるのでトリッキー"
   ]
  },
  {
   "cell_type": "code",
   "execution_count": 17,
   "metadata": {},
   "outputs": [
    {
     "name": "stdout",
     "output_type": "stream",
     "text": [
      "[3, 4, 5]\n"
     ]
    }
   ],
   "source": [
    "a,b,*c=[1,2,3,4,5]\n",
    "print(c)"
   ]
  },
  {
   "cell_type": "markdown",
   "metadata": {},
   "source": [
    "## for x, y in zip(list1,list2): print(x+y,end='')\n",
    "2つの配列に要素に交互に並べる方法。zip で二つの配列に取ることでスマートにかける"
   ]
  },
  {
   "cell_type": "code",
   "execution_count": 7,
   "metadata": {},
   "outputs": [
    {
     "name": "stdout",
     "output_type": "stream",
     "text": [
      "aRcEkB"
     ]
    }
   ],
   "source": [
    "for x,y in zip(['a','c','k'],['R','E','B']):\n",
    "    print(x+y,end='')"
   ]
  },
  {
   "cell_type": "markdown",
   "metadata": {},
   "source": [
    "## list.sort(reverse=True)\n",
    "配列をソートしてくれる。基本中の基本。  \n",
    "reverse=Trueで降順に並び替える。list.reverse()と同じ"
   ]
  },
  {
   "cell_type": "code",
   "execution_count": 12,
   "metadata": {},
   "outputs": [
    {
     "name": "stdout",
     "output_type": "stream",
     "text": [
      "[1, 2, 3, 4, 6]\n"
     ]
    }
   ],
   "source": [
    "s=[1,4,6,3,2]\n",
    "s.sort()\n",
    "print(s)"
   ]
  },
  {
   "cell_type": "markdown",
   "metadata": {},
   "source": [
    "## sorted(list)\n",
    "sort()メソッドと同じ。sorted関数で並び替えができる"
   ]
  },
  {
   "cell_type": "code",
   "execution_count": 13,
   "metadata": {},
   "outputs": [
    {
     "name": "stdout",
     "output_type": "stream",
     "text": [
      "[1, 2, 3, 4, 6]\n"
     ]
    }
   ],
   "source": [
    "s=[1,4,6,3,2]\n",
    "print(sorted(s))"
   ]
  },
  {
   "cell_type": "markdown",
   "metadata": {},
   "source": [
    "## 多次元配列のソート\n",
    "## list.sort(key=lambda x:(x[0],x[1]))\n",
    "1番目の要素を昇順にして、1番目の同じ値が同じものは2番目の値で比較し、そこだけをまた昇順したい場合"
   ]
  },
  {
   "cell_type": "markdown",
   "metadata": {},
   "source": [
    "## @ from operator import itemgetter\n",
    "## list.sort(key=itemgetter(1,0))"
   ]
  },
  {
   "cell_type": "code",
   "execution_count": 27,
   "metadata": {},
   "outputs": [
    {
     "name": "stdout",
     "output_type": "stream",
     "text": [
      "[[2, 0], [3, 6], [4, 6], [4, 9], [5, 0], [10, 4]]\n",
      "[[2, 0], [3, 6], [4, 6], [4, 9], [5, 0], [10, 4]]\n"
     ]
    }
   ],
   "source": [
    "X = [[10,4],[3,6],[4,6],[5,0],[4,9],[2,0]]\n",
    "X.sort(key=lambda x:(x[0],x[1]))\n",
    "print(X)\n",
    "\n",
    "X = [[10,4],[3,6],[4,6],[5,0],[4,9],[2,0]]\n",
    "from operator import itemgetter\n",
    "X.sort(key=itemgetter(0,1))\n",
    "print(X)"
   ]
  },
  {
   "cell_type": "markdown",
   "metadata": {},
   "source": [
    "## 配列を逆順にソートする\n",
    "## X[::-1]"
   ]
  },
  {
   "cell_type": "code",
   "execution_count": 8,
   "metadata": {},
   "outputs": [
    {
     "name": "stdout",
     "output_type": "stream",
     "text": [
      "[9, 8, 7, 6, 5, 4, 3, 2, 1, 0]\n"
     ]
    }
   ],
   "source": [
    "X=[i for i in range(10)]\n",
    "print(X[::-1])"
   ]
  },
  {
   "cell_type": "markdown",
   "metadata": {},
   "source": [
    "## 配列の偶数部分だけを取り出す\n",
    "## X[::2]\n",
    "## 配列の奇数部分だけを取り出す\n",
    "## X[1::2]"
   ]
  },
  {
   "cell_type": "code",
   "execution_count": 3,
   "metadata": {},
   "outputs": [
    {
     "name": "stdout",
     "output_type": "stream",
     "text": [
      "[0, 2, 4, 6, 8]\n",
      "[1, 3, 5, 7, 9]\n"
     ]
    }
   ],
   "source": [
    "X=[i for i in range(10)]\n",
    "print(X[::2])\n",
    "print(X[1::2])"
   ]
  },
  {
   "cell_type": "markdown",
   "metadata": {},
   "source": [
    "## 注意　X[::-2]\n",
    "の場合は、逆順に奇数部分のみが出力される"
   ]
  },
  {
   "cell_type": "code",
   "execution_count": 17,
   "metadata": {},
   "outputs": [
    {
     "name": "stdout",
     "output_type": "stream",
     "text": [
      "[9, 7, 5, 3, 1]\n"
     ]
    }
   ],
   "source": [
    "X=[i for i in range(10)]\n",
    "print(X[::-2])"
   ]
  },
  {
   "cell_type": "markdown",
   "metadata": {},
   "source": [
    "## 配列の特定の位置のみをソートする場合\n",
    "## X=X[:a] + X[a:b][::-1] +X[b:]\n",
    "スライス用いて、特定の部分のみを反転させて、残りをつなげる"
   ]
  },
  {
   "cell_type": "code",
   "execution_count": 7,
   "metadata": {},
   "outputs": [
    {
     "name": "stdout",
     "output_type": "stream",
     "text": [
      "[0, 1, 2, 5, 4, 3, 6, 7, 8, 9]\n"
     ]
    }
   ],
   "source": [
    "X=[i for i in range(10)]\n",
    "X=X[:3]+X[3:6][::-1]+X[6:]\n",
    "print(X)"
   ]
  },
  {
   "cell_type": "markdown",
   "metadata": {},
   "source": [
    "## 文字列を特定の文字数で分割\n",
    "total=[s[i:i+k] for i in range(0,len(s),1) if i+k<=len(s)]"
   ]
  },
  {
   "cell_type": "code",
   "execution_count": 1,
   "metadata": {},
   "outputs": [
    {
     "name": "stdout",
     "output_type": "stream",
     "text": [
      "['thi', 'his', 'isi', 'sis', 'isa', 'sal', 'ali', 'lit', 'itt', 'ttl', 'tle', 'leg', 'egi', 'gir', 'irl']\n"
     ]
    }
   ],
   "source": [
    "x='thisisalittlegirl'\n",
    "total=[x[i:i+3] for i in range(0,len(x),1) if i+3<=len(x)]\n",
    "print(total)"
   ]
  },
  {
   "cell_type": "markdown",
   "metadata": {},
   "source": [
    "##  set([1,2,3,4,4,5,5])\n",
    "重複する配列を、重複なしにまとめてくれる。"
   ]
  },
  {
   "cell_type": "code",
   "execution_count": 2,
   "metadata": {},
   "outputs": [
    {
     "data": {
      "text/plain": [
       "{1, 2, 3}"
      ]
     },
     "execution_count": 2,
     "metadata": {},
     "output_type": "execute_result"
    }
   ],
   "source": [
    "set([1,1,2,2,3,3,3,])"
   ]
  },
  {
   "cell_type": "markdown",
   "metadata": {},
   "source": [
    "## 集合をとる\n",
    "## {1,2,3,4}"
   ]
  },
  {
   "cell_type": "markdown",
   "metadata": {},
   "source": [
    "## setで集合演算をとる\n",
    "## s1|s2 和集合をとる\n",
    "## s1&s2 積集合をとる\n",
    "## s1-s2 差集合をとる\n",
    "## s1^s2 対称差をとる　\n",
    "二つの集合の共通部分、和をとる時に便利。  \n",
    "対称差は共通部分を削除して、差を集合とする"
   ]
  },
  {
   "cell_type": "code",
   "execution_count": 29,
   "metadata": {},
   "outputs": [
    {
     "name": "stdout",
     "output_type": "stream",
     "text": [
      "{1, 2, 3, 4, 5, 6}\n",
      "{3, 4}\n",
      "{1, 2}\n",
      "{1, 2, 5, 6}\n"
     ]
    }
   ],
   "source": [
    "s1=set(i for i in range(1,5))\n",
    "s2=set(i for i in range(3,7))\n",
    "print(s1|s2)\n",
    "print(s1&s2)\n",
    "print(s1-s2)\n",
    "print(s1^s2)"
   ]
  },
  {
   "cell_type": "markdown",
   "metadata": {},
   "source": [
    "## 部分集合の確認\n",
    "## s1<s2\n",
    "## s1<=s2\n"
   ]
  },
  {
   "cell_type": "code",
   "execution_count": 2,
   "metadata": {},
   "outputs": [
    {
     "name": "stdout",
     "output_type": "stream",
     "text": [
      "True\n"
     ]
    }
   ],
   "source": [
    "s1=set([1,2,3])\n",
    "s2=set([1,2,3,4,5])\n",
    "print(s1<s2)"
   ]
  },
  {
   "cell_type": "markdown",
   "metadata": {},
   "source": [
    "## set.add(a)\n",
    "setに要素を追加するときはaddを用いる"
   ]
  },
  {
   "cell_type": "code",
   "execution_count": 27,
   "metadata": {},
   "outputs": [
    {
     "name": "stdout",
     "output_type": "stream",
     "text": [
      "{1}\n"
     ]
    }
   ],
   "source": [
    "X=set()\n",
    "X.add(1)\n",
    "print(X)"
   ]
  },
  {
   "cell_type": "markdown",
   "metadata": {},
   "source": [
    "## list.count('x')\n",
    "リスト内の要素からxの個数を数え上げる。"
   ]
  },
  {
   "cell_type": "code",
   "execution_count": 21,
   "metadata": {},
   "outputs": [
    {
     "name": "stdout",
     "output_type": "stream",
     "text": [
      "3\n"
     ]
    }
   ],
   "source": [
    "list=[1,3,4,5,4,5,5]\n",
    "print(list.count(5))"
   ]
  },
  {
   "cell_type": "markdown",
   "metadata": {},
   "source": [
    "## 配列中に特定の要素の値のindexをすべて取得\n",
    "デフォルトのX.index()で初めの値のインデックスしか返してくれない"
   ]
  },
  {
   "cell_type": "code",
   "execution_count": 19,
   "metadata": {},
   "outputs": [
    {
     "name": "stdout",
     "output_type": "stream",
     "text": [
      "[0, 2, 4]\n"
     ]
    }
   ],
   "source": [
    "X = [1,2,1,3,1]\n",
    "indexes = [i for i, s in enumerate(X) if s == 1]\n",
    "print(indexes)"
   ]
  },
  {
   "cell_type": "markdown",
   "metadata": {},
   "source": [
    "## 'x' in list\n",
    "pythonらしい書き方の、指定した要素がリストに入っているかをbool値で返す式。"
   ]
  },
  {
   "cell_type": "code",
   "execution_count": 33,
   "metadata": {},
   "outputs": [
    {
     "name": "stdout",
     "output_type": "stream",
     "text": [
      "True\n"
     ]
    }
   ],
   "source": [
    "list=['a','b','c']\n",
    "print('b' in list)"
   ]
  },
  {
   "cell_type": "markdown",
   "metadata": {},
   "source": [
    "## 'x' in string\n",
    "文字列の中に特定の文字が含まれるかどうかを確認することができる"
   ]
  },
  {
   "cell_type": "code",
   "execution_count": 4,
   "metadata": {},
   "outputs": [
    {
     "name": "stdout",
     "output_type": "stream",
     "text": [
      "True\n"
     ]
    }
   ],
   "source": [
    "print('sa' in 'satsuki')"
   ]
  },
  {
   "cell_type": "markdown",
   "metadata": {},
   "source": [
    "## max(a,b)\n",
    "a,bで大きいほうの値を返すという、シンプルだが強力な関数"
   ]
  },
  {
   "cell_type": "code",
   "execution_count": 22,
   "metadata": {},
   "outputs": [
    {
     "name": "stdout",
     "output_type": "stream",
     "text": [
      "300\n"
     ]
    }
   ],
   "source": [
    "print(max(1,300))"
   ]
  },
  {
   "cell_type": "markdown",
   "metadata": {},
   "source": [
    "## keyを指定して、max,min,sort\n",
    "## max(a,b,key=len)\n",
    "文字列の長さで比較する場合は、key=len, 合計値の場合はsum"
   ]
  },
  {
   "cell_type": "code",
   "execution_count": 20,
   "metadata": {},
   "outputs": [
    {
     "name": "stdout",
     "output_type": "stream",
     "text": [
      "pinapple\n"
     ]
    }
   ],
   "source": [
    "print(max('pinapple','orange',key=len))"
   ]
  },
  {
   "cell_type": "markdown",
   "metadata": {},
   "source": [
    "## 配列を特定の要素で初期化\n",
    "## X=[0] * 5\n",
    "[0 for i in range(5)]はうまくいかないのでこの方法で行う"
   ]
  },
  {
   "cell_type": "code",
   "execution_count": 1,
   "metadata": {},
   "outputs": [
    {
     "name": "stdout",
     "output_type": "stream",
     "text": [
      "[0, 0, 0, 0, 0]\n"
     ]
    }
   ],
   "source": [
    "print([0]*5)"
   ]
  },
  {
   "cell_type": "markdown",
   "metadata": {},
   "source": [
    "## 配列の拡張\n",
    "## X.extend(['a','b'])\n",
    "X.append(['a','b'])とするとリスト内包型になってしまう。extendを用いると、要素として追加される"
   ]
  },
  {
   "cell_type": "code",
   "execution_count": 13,
   "metadata": {},
   "outputs": [
    {
     "name": "stdout",
     "output_type": "stream",
     "text": [
      "[0, 1, 2, 3, 4, 12, 23]\n"
     ]
    }
   ],
   "source": [
    "X=[i for i in range(5)]\n",
    "X.extend([12,23])\n",
    "print(X)"
   ]
  },
  {
   "cell_type": "markdown",
   "metadata": {},
   "source": [
    "## 配列への挿入\n",
    "## X.insert(1,'a')\n",
    "挿入するインデックス番号を指定して、要素を追加できる。"
   ]
  },
  {
   "cell_type": "code",
   "execution_count": 18,
   "metadata": {},
   "outputs": [
    {
     "name": "stdout",
     "output_type": "stream",
     "text": [
      "['a', 'b', '1', 'c', 'd']\n"
     ]
    }
   ],
   "source": [
    "X=['a','b','c','d']\n",
    "X.insert(2,'1')\n",
    "print(X)"
   ]
  },
  {
   "cell_type": "markdown",
   "metadata": {},
   "source": [
    "## sum(list)\n",
    "リスト内の和を簡単にとってくれる"
   ]
  },
  {
   "cell_type": "code",
   "execution_count": 23,
   "metadata": {},
   "outputs": [
    {
     "name": "stdout",
     "output_type": "stream",
     "text": [
      "15\n"
     ]
    }
   ],
   "source": [
    "print(sum([1,2,3,4,5]))"
   ]
  },
  {
   "cell_type": "markdown",
   "metadata": {},
   "source": [
    "## list.pop(1)\n",
    "配列の特定の位置の要素を削除する"
   ]
  },
  {
   "cell_type": "code",
   "execution_count": 13,
   "metadata": {},
   "outputs": [
    {
     "name": "stdout",
     "output_type": "stream",
     "text": [
      "[1, 3, 4]\n"
     ]
    }
   ],
   "source": [
    "list=[1,2,3,4]\n",
    "list.pop(1)\n",
    "print(list)"
   ]
  },
  {
   "cell_type": "markdown",
   "metadata": {},
   "source": [
    "## list.remove('x')\n",
    "配列中のxの初めの一個を削除する"
   ]
  },
  {
   "cell_type": "code",
   "execution_count": 28,
   "metadata": {},
   "outputs": [
    {
     "name": "stdout",
     "output_type": "stream",
     "text": [
      "[0, 1, 2, 4]\n"
     ]
    }
   ],
   "source": [
    "X=[i for i in range(5)]\n",
    "X.remove(3)\n",
    "print(X)"
   ]
  },
  {
   "cell_type": "markdown",
   "metadata": {},
   "source": [
    "## アルファベットの配列を簡単に作る\n",
    "## [chr(i) for i in range(ord('a'),ord('z')+1]\n",
    "## sorted(map(chr,range(97,123)))\n",
    "pythonの組み込み関数ordでasciiコードに変換し、chrでasciiコードから文字列に戻す"
   ]
  },
  {
   "cell_type": "code",
   "execution_count": 6,
   "metadata": {},
   "outputs": [
    {
     "name": "stdout",
     "output_type": "stream",
     "text": [
      "['a', 'b', 'c', 'd', 'e', 'f', 'g', 'h', 'i', 'j', 'k', 'l', 'm', 'n', 'o', 'p', 'q', 'r', 's', 't', 'u', 'v', 'w', 'x', 'y', 'z']\n",
      "['a', 'f', 'k']\n"
     ]
    }
   ],
   "source": [
    "print([chr(i) for i in range(ord('a'),ord('z')+1)])\n",
    "\n",
    "# 文字列中に含まれていないアルファベットの配列を作成\n",
    "s=[ 'b', 'c', 'd', 'e', 'g', 'h', 'i', 'j', 'l', 'm', 'n', 'o', 'p', 'q', 'r', 's', 't', 'u', 'v', 'w', 'x', 'y', 'z']\n",
    "print([chr(i) for i in range(ord('a'),ord('z')+1) if chr(i) not in s])"
   ]
  },
  {
   "cell_type": "markdown",
   "metadata": {},
   "source": [
    "## sorted(map(chr,range(65,91))) 大文字のアルファベットの場合\n"
   ]
  },
  {
   "cell_type": "code",
   "execution_count": 1,
   "metadata": {},
   "outputs": [
    {
     "name": "stdout",
     "output_type": "stream",
     "text": [
      "['A', 'B', 'C', 'D', 'E', 'F', 'G', 'H', 'I', 'J', 'K', 'L', 'M', 'N', 'O', 'P', 'Q', 'R', 'S', 'T', 'U', 'V', 'W', 'X', 'Y', 'Z']\n"
     ]
    }
   ],
   "source": [
    "print(sorted(map(chr,range(65,91))))"
   ]
  },
  {
   "cell_type": "markdown",
   "metadata": {},
   "source": [
    "## [i+j for i in range(10) for j in range(10]\n",
    "二変数を一度に扱うときに便利"
   ]
  },
  {
   "cell_type": "code",
   "execution_count": 9,
   "metadata": {},
   "outputs": [
    {
     "name": "stdout",
     "output_type": "stream",
     "text": [
      "[0, 1, 2, 1, 2, 3, 2, 3, 4]\n"
     ]
    }
   ],
   "source": [
    "print([i+j for i in range(3) for j in range(3)])"
   ]
  },
  {
   "cell_type": "markdown",
   "metadata": {},
   "source": [
    "## 配列の全ての要素に操作を加えたいとき\n",
    "## map(function,list)\n",
    "fucntionはint,strや自分の定義した関数を入れることができる。list内の要素全てに対して適応される。"
   ]
  },
  {
   "cell_type": "code",
   "execution_count": 21,
   "metadata": {},
   "outputs": [
    {
     "ename": "TypeError",
     "evalue": "'list' object is not callable",
     "output_type": "error",
     "traceback": [
      "\u001b[1;31m---------------------------------------------------------------------------\u001b[0m",
      "\u001b[1;31mTypeError\u001b[0m                                 Traceback (most recent call last)",
      "\u001b[1;32m<ipython-input-21-4800331e63c2>\u001b[0m in \u001b[0;36m<module>\u001b[1;34m\u001b[0m\n\u001b[0;32m      2\u001b[0m     \u001b[1;32mreturn\u001b[0m \u001b[0mn\u001b[0m\u001b[1;33m*\u001b[0m\u001b[1;36m1\u001b[0m\u001b[1;33m/\u001b[0m\u001b[1;36m2\u001b[0m\u001b[1;33m\u001b[0m\u001b[1;33m\u001b[0m\u001b[0m\n\u001b[0;32m      3\u001b[0m \u001b[0ma\u001b[0m\u001b[1;33m=\u001b[0m\u001b[1;33m[\u001b[0m\u001b[1;36m2\u001b[0m\u001b[1;33m,\u001b[0m\u001b[1;36m4\u001b[0m\u001b[1;33m,\u001b[0m\u001b[1;36m6\u001b[0m\u001b[1;33m,\u001b[0m\u001b[1;36m8\u001b[0m\u001b[1;33m]\u001b[0m\u001b[1;33m\u001b[0m\u001b[1;33m\u001b[0m\u001b[0m\n\u001b[1;32m----> 4\u001b[1;33m \u001b[0ma\u001b[0m\u001b[1;33m=\u001b[0m\u001b[0mlist\u001b[0m\u001b[1;33m(\u001b[0m\u001b[0mmap\u001b[0m\u001b[1;33m(\u001b[0m\u001b[0mhalf\u001b[0m\u001b[1;33m,\u001b[0m\u001b[0ma\u001b[0m\u001b[1;33m)\u001b[0m\u001b[1;33m)\u001b[0m\u001b[1;33m\u001b[0m\u001b[1;33m\u001b[0m\u001b[0m\n\u001b[0m",
      "\u001b[1;31mTypeError\u001b[0m: 'list' object is not callable"
     ]
    }
   ],
   "source": [
    "def half(n):\n",
    "    return n*1/2\n",
    "a=[2,4,6,8]\n",
    "a=list(map(half,a))"
   ]
  },
  {
   "cell_type": "markdown",
   "metadata": {},
   "source": [
    "## 配列の要素をずらす方法\n",
    "配列の内部の並びを変えるときに便利。一番最後の要素は先頭にくる"
   ]
  },
  {
   "cell_type": "code",
   "execution_count": 8,
   "metadata": {},
   "outputs": [
    {
     "name": "stdout",
     "output_type": "stream",
     "text": [
      "[2, 3, 4, 1]\n"
     ]
    }
   ],
   "source": [
    "def shift(l,n):\n",
    "    return l[n:]+l[:n]\n",
    "l=[1,2,3,4]\n",
    "print(shift(l,1))"
   ]
  },
  {
   "cell_type": "markdown",
   "metadata": {},
   "source": [
    "## 配列を一つの文字列につなげる\n",
    "# ''.join(list)\n",
    "list中の要素をすべて''で区切ってつなげる。'/'とすれば、スラッシュでつなげられる。要素に数値があるとエラーをはくので、事前にmap(str,list)をしておく"
   ]
  },
  {
   "cell_type": "code",
   "execution_count": 1,
   "metadata": {},
   "outputs": [
    {
     "name": "stdout",
     "output_type": "stream",
     "text": [
      "atcder\n"
     ]
    }
   ],
   "source": [
    "x=['a','t','c','d','e','r']\n",
    "print(''.join(x))"
   ]
  },
  {
   "cell_type": "markdown",
   "metadata": {},
   "source": [
    "## 配列中の各要素の数をカウント\n",
    "## @ from collections import Counter\n",
    "Counter同士は和をとることができる"
   ]
  },
  {
   "cell_type": "code",
   "execution_count": 19,
   "metadata": {},
   "outputs": [
    {
     "name": "stdout",
     "output_type": "stream",
     "text": [
      "Counter({1: 3, 2: 2, 4: 2, 3: 1, 5: 1})\n"
     ]
    }
   ],
   "source": [
    "from collections import Counter\n",
    "X=[1,2,1,1,2,3,4,4,5]\n",
    "num=Counter(X)\n",
    "print(num)"
   ]
  },
  {
   "cell_type": "markdown",
   "metadata": {},
   "source": [
    "## 文字列の比較\n",
    "## 'abc'<'def'\n",
    "数値と同様に比較演算子を用いて比較することができる。辞書順に並べたときに、前から何番目かで比較される"
   ]
  },
  {
   "cell_type": "code",
   "execution_count": 2,
   "metadata": {},
   "outputs": [
    {
     "name": "stdout",
     "output_type": "stream",
     "text": [
      "True\n"
     ]
    }
   ],
   "source": [
    "print('abc'<'def')"
   ]
  },
  {
   "cell_type": "markdown",
   "metadata": {},
   "source": [
    "## x=a&b   a&=b\n",
    "a,bの共通要素をとったsetを返す。 a&=bの省略系でa,bの共通要素をaに代入するという意味になる。  \n",
    "配列ではなくて、setを使うことがポイント"
   ]
  },
  {
   "cell_type": "code",
   "execution_count": 38,
   "metadata": {},
   "outputs": [
    {
     "name": "stdout",
     "output_type": "stream",
     "text": [
      "{3, 4}\n"
     ]
    }
   ],
   "source": [
    "a=[1,2,3,4,]\n",
    "b=[3,4,5,3]\n",
    "x=set(a) & set(b)\n",
    "print(x)"
   ]
  },
  {
   "cell_type": "markdown",
   "metadata": {},
   "source": [
    "## set_X1.intersection(set_X2)\n",
    "intersectionメソッドで、X1とX2の積集合をとることができる。つまり、共通の要素のみをとりだす"
   ]
  },
  {
   "cell_type": "code",
   "execution_count": 4,
   "metadata": {},
   "outputs": [
    {
     "data": {
      "text/plain": [
       "{3, 4}"
      ]
     },
     "execution_count": 4,
     "metadata": {},
     "output_type": "execute_result"
    }
   ],
   "source": [
    "X1=set([1,2,3,4])\n",
    "X2=set([3,4,5,6])\n",
    "X1.intersection(X2)"
   ]
  },
  {
   "cell_type": "markdown",
   "metadata": {},
   "source": [
    "## 数値が平方数かどうかを調べる\n",
    "### print(\"Yes\" if c==int(c* * *.5)* * *2 else \"No\")\n",
    "平方数かどうか調べるには、平方値をとった後に、二乗した値が元の値ならば平方数という、判断を行っている"
   ]
  },
  {
   "cell_type": "code",
   "execution_count": 46,
   "metadata": {},
   "outputs": [
    {
     "name": "stdout",
     "output_type": "stream",
     "text": [
      "No\n"
     ]
    }
   ],
   "source": [
    "print(\"Yes\" if 121==int(c**.5)**2 else \"No\")"
   ]
  },
  {
   "cell_type": "markdown",
   "metadata": {},
   "source": [
    "## 辞書"
   ]
  },
  {
   "cell_type": "markdown",
   "metadata": {},
   "source": [
    "## dict.values() 辞書の要素にアクセス\n",
    "## dict.keys() 辞書のキーにアクセス\n",
    "## dict.setdefault(\"key4\", 4)"
   ]
  },
  {
   "cell_type": "code",
   "execution_count": 22,
   "metadata": {},
   "outputs": [
    {
     "name": "stdout",
     "output_type": "stream",
     "text": [
      "dict_values([1, 2, 3])\n",
      "dict_keys(['key1', 'key2', 'key3'])\n",
      "4\n",
      "{'key1': 1, 'key2': 2, 'key3': 3, 'key': 4}\n"
     ]
    }
   ],
   "source": [
    "X={'key1':1,'key2':2,'key3':3}\n",
    "print(X.values())\n",
    "print(X.keys())\n",
    "print(X.setdefault('key',4))\n",
    "print(X)"
   ]
  },
  {
   "cell_type": "markdown",
   "metadata": {},
   "source": [
    "## 組み合わせを行ってくれる関数\n",
    "## itertooll"
   ]
  },
  {
   "cell_type": "markdown",
   "metadata": {},
   "source": [
    "## @ from itertool import product\n",
    "## list(poduct(A,B)) 組合わせ\n",
    "２つの集合A,Bの直積を考える。$A\\times B ={(a,d),(a,e),(b,d),(b,e),(c,d),(c,e)}$ のような操作をする  \n",
    "productはオブジェクトを返すだけなので、listに入れてあげないと組み合わせを得ることができない。"
   ]
  },
  {
   "cell_type": "code",
   "execution_count": 6,
   "metadata": {},
   "outputs": [
    {
     "data": {
      "text/plain": [
       "[('a', 'd'), ('a', 'e'), ('b', 'd'), ('b', 'e'), ('c', 'd'), ('c', 'e')]"
      ]
     },
     "execution_count": 6,
     "metadata": {},
     "output_type": "execute_result"
    }
   ],
   "source": [
    "from itertools import product\n",
    "A = ('a', 'b', 'c')\n",
    "B = ('d', 'e')\n",
    "list(product(A,B))"
   ]
  },
  {
   "cell_type": "markdown",
   "metadata": {},
   "source": [
    "## 累積和\n",
    "## itertools.accumulate(X)\n",
    "Xの累積和を簡単にとってくれる。イテレータを返してくれるので、可視化したい時は配列をとる"
   ]
  },
  {
   "cell_type": "code",
   "execution_count": 16,
   "metadata": {},
   "outputs": [
    {
     "name": "stdout",
     "output_type": "stream",
     "text": [
      "[1, 3, 6, 10]\n"
     ]
    }
   ],
   "source": [
    "import itertools\n",
    "X=[1,2,3,4]\n",
    "X=itertools.accumulate(X)\n",
    "print(list(X))"
   ]
  },
  {
   "cell_type": "markdown",
   "metadata": {},
   "source": [
    "## 順列\n",
    "## (itertools.permutations([1, 2, 3])"
   ]
  },
  {
   "cell_type": "code",
   "execution_count": 17,
   "metadata": {},
   "outputs": [
    {
     "name": "stdout",
     "output_type": "stream",
     "text": [
      "[(1, 2, 3), (1, 3, 2), (2, 1, 3), (2, 3, 1), (3, 1, 2), (3, 2, 1)]\n"
     ]
    }
   ],
   "source": [
    "import itertools\n",
    "print(list(itertools.permutations([1,2,3])))"
   ]
  },
  {
   "cell_type": "markdown",
   "metadata": {},
   "source": [
    "## コンビネーション\n",
    "## list(itertools.combinations([1, 2, 3], 2)))"
   ]
  },
  {
   "cell_type": "code",
   "execution_count": 19,
   "metadata": {},
   "outputs": [
    {
     "name": "stdout",
     "output_type": "stream",
     "text": [
      "[(1, 2), (1, 3), (2, 3)]\n"
     ]
    }
   ],
   "source": [
    "print(list(itertools.combinations([1, 2, 3], 2)))"
   ]
  },
  {
   "cell_type": "markdown",
   "metadata": {},
   "source": [
    "## assert 条件式、Falseの時の内容\n",
    "条件式がTrue出ない時に例外を投げる。assertを仕込んでおくと、想定と異なる振る舞いになった時に気づきやすくなる。  \n",
    "組み込み定数__debug__ がTrueの実行される"
   ]
  },
  {
   "cell_type": "code",
   "execution_count": 4,
   "metadata": {},
   "outputs": [
    {
     "ename": "AssertionError",
     "evalue": "X is 4",
     "output_type": "error",
     "traceback": [
      "\u001b[0;31m---------------------------------------------------------------------------\u001b[0m",
      "\u001b[0;31mAssertionError\u001b[0m                            Traceback (most recent call last)",
      "\u001b[0;32m<ipython-input-4-d9c79aeb1651>\u001b[0m in \u001b[0;36m<module>\u001b[0;34m\u001b[0m\n\u001b[1;32m      1\u001b[0m \u001b[0mX\u001b[0m\u001b[0;34m=\u001b[0m\u001b[0;36m4\u001b[0m\u001b[0;34m\u001b[0m\u001b[0;34m\u001b[0m\u001b[0m\n\u001b[0;32m----> 2\u001b[0;31m \u001b[0;32massert\u001b[0m \u001b[0mX\u001b[0m\u001b[0;34m==\u001b[0m\u001b[0;36m3\u001b[0m\u001b[0;34m,\u001b[0m\u001b[0;34m'X is {}'\u001b[0m\u001b[0;34m.\u001b[0m\u001b[0mformat\u001b[0m\u001b[0;34m(\u001b[0m\u001b[0mX\u001b[0m\u001b[0;34m)\u001b[0m\u001b[0;34m\u001b[0m\u001b[0;34m\u001b[0m\u001b[0m\n\u001b[0m",
      "\u001b[0;31mAssertionError\u001b[0m: X is 4"
     ]
    }
   ],
   "source": [
    "X=4\n",
    "assert X==3,'X is {}'.format(X)"
   ]
  },
  {
   "cell_type": "markdown",
   "metadata": {},
   "source": [
    "## datetime形式\n"
   ]
  },
  {
   "cell_type": "markdown",
   "metadata": {},
   "source": [
    "## 文字列時間をdatetimeに変換\n",
    "## date = datetime.datetime.strptime(date, \"%Y/%m/%d\")\n",
    "'2019/03/31'という形の文字列をdatetime型に変換することができる。"
   ]
  },
  {
   "cell_type": "code",
   "execution_count": 3,
   "metadata": {},
   "outputs": [
    {
     "name": "stdout",
     "output_type": "stream",
     "text": [
      "2019-02-21 00:00:00\n"
     ]
    }
   ],
   "source": [
    "import datetime\n",
    "date=datetime.datetime.strptime('2019/02/21','%Y/%m/%d')\n",
    "print(date)"
   ]
  },
  {
   "cell_type": "markdown",
   "metadata": {},
   "source": [
    "## date.strftime('%Y%m)\n",
    "datetime形式を指定した形に変換"
   ]
  },
  {
   "cell_type": "code",
   "execution_count": 10,
   "metadata": {},
   "outputs": [
    {
     "data": {
      "text/plain": [
       "'2019-02'"
      ]
     },
     "execution_count": 10,
     "metadata": {},
     "output_type": "execute_result"
    }
   ],
   "source": [
    "date=datetime.datetime.strptime('2019/02/21','%Y/%m/%d')\n",
    "date.strftime('%Y-%m')"
   ]
  },
  {
   "cell_type": "markdown",
   "metadata": {},
   "source": [
    "## 処理時間の計測\n",
    "### import time 　　t=time.time()\n",
    "timeモジュールで簡単に実装することができる"
   ]
  },
  {
   "cell_type": "code",
   "execution_count": 10,
   "metadata": {},
   "outputs": [
    {
     "name": "stdout",
     "output_type": "stream",
     "text": [
      "0.04979205131530762\n"
     ]
    }
   ],
   "source": [
    "import time\n",
    "t1=time.time()\n",
    "for i in range(int(1e+5)):\n",
    "    i**10\n",
    "t2=time.time()\n",
    "print(t2-t1)"
   ]
  },
  {
   "cell_type": "markdown",
   "metadata": {},
   "source": [
    "## from dateutil.relativedelta import relativedelta\n",
    "月単位での加算を行うときに使えるモジュール"
   ]
  },
  {
   "cell_type": "code",
   "execution_count": 6,
   "metadata": {},
   "outputs": [
    {
     "data": {
      "text/plain": [
       "datetime.datetime(2017, 1, 1, 0, 0)"
      ]
     },
     "execution_count": 6,
     "metadata": {},
     "output_type": "execute_result"
    }
   ],
   "source": [
    "import datetime\n",
    "from dateutil.relativedelta import relativedelta\n",
    "datetime.datetime(2016, 12, 1) + relativedelta(months=1)  #年をまたいだ1ヶ月加算"
   ]
  },
  {
   "cell_type": "markdown",
   "metadata": {},
   "source": [
    "## 簡単な数値計算を行うライブラリ\n",
    "## @ import math"
   ]
  },
  {
   "cell_type": "markdown",
   "metadata": {},
   "source": [
    "## 級数計算\n",
    "### math.factorical(10)"
   ]
  },
  {
   "cell_type": "code",
   "execution_count": 47,
   "metadata": {},
   "outputs": [
    {
     "name": "stdout",
     "output_type": "stream",
     "text": [
      "3628800\n"
     ]
    }
   ],
   "source": [
    "import math\n",
    "print(math.factorial(10))"
   ]
  },
  {
   "cell_type": "markdown",
   "metadata": {},
   "source": [
    "## 小数点切り上げ\n",
    "### math.ceil(4/3)\n",
    "### - ~(4/3)\n",
    "math.ceilで切り上げを実装でき、pythonのネイティブの実装なら、~を切り上げる数値の前につけて、後から負にすることで帳尻を合わせる。"
   ]
  },
  {
   "cell_type": "code",
   "execution_count": 53,
   "metadata": {},
   "outputs": [
    {
     "name": "stdout",
     "output_type": "stream",
     "text": [
      "2\n",
      "2\n"
     ]
    }
   ],
   "source": [
    "import math\n",
    "print(math.ceil(4/3))\n",
    "print(-~(4//3))"
   ]
  },
  {
   "cell_type": "markdown",
   "metadata": {},
   "source": [
    "## 最小公倍数\n",
    "## math.gcd(a, b))\n",
    "a,bの最小公倍数を簡単に求めてくれる"
   ]
  },
  {
   "cell_type": "code",
   "execution_count": 4,
   "metadata": {},
   "outputs": [
    {
     "name": "stdout",
     "output_type": "stream",
     "text": [
      "2\n"
     ]
    }
   ],
   "source": [
    "import math\n",
    "print(math.gcd(4,46))"
   ]
  },
  {
   "cell_type": "markdown",
   "metadata": {},
   "source": [
    "## 最大公倍数\n",
    "## (a*b)/math.gcd(a,b)\n",
    "最大公倍数を一発で求める関数はサポートされていない代わりに、簡単に最小公倍数から求めることができる"
   ]
  },
  {
   "cell_type": "code",
   "execution_count": 5,
   "metadata": {},
   "outputs": [
    {
     "name": "stdout",
     "output_type": "stream",
     "text": [
      "10\n"
     ]
    }
   ],
   "source": [
    "def lcm(x, y):\n",
    "    return (x * y) // math.gcd(x, y)\n",
    "\n",
    "print(lcm(2, 5))"
   ]
  },
  {
   "cell_type": "markdown",
   "metadata": {},
   "source": [
    "## 四捨五入\n",
    "### round(x)\n",
    "小数点切り上げとは異なる操作となるため注意"
   ]
  },
  {
   "cell_type": "code",
   "execution_count": 54,
   "metadata": {},
   "outputs": [
    {
     "name": "stdout",
     "output_type": "stream",
     "text": [
      "2\n"
     ]
    }
   ],
   "source": [
    "print(round(5/3))"
   ]
  },
  {
   "cell_type": "markdown",
   "metadata": {},
   "source": [
    "## 文字列の分割\n",
    "### string.split('/')\n",
    "### map(str,input().split('.'))\n",
    "指定した文字で分割したリストを返す  \n",
    "入力文字列の区切り文字を指定できる\n"
   ]
  },
  {
   "cell_type": "code",
   "execution_count": 1,
   "metadata": {},
   "outputs": [
    {
     "data": {
      "text/plain": [
       "['path', 'to', 'image']"
      ]
     },
     "execution_count": 1,
     "metadata": {},
     "output_type": "execute_result"
    }
   ],
   "source": [
    "string='path/to/image'\n",
    "string.split('/')"
   ]
  },
  {
   "cell_type": "markdown",
   "metadata": {},
   "source": [
    "## フォルダ内のファイル名を取得\n",
    "### import glob  \n",
    "### glob.glob(dir_path)\n",
    "globでフォルダの操作を色々できるので便利"
   ]
  },
  {
   "cell_type": "markdown",
   "metadata": {},
   "source": [
    "## 文字列中に特定の文字があるか調べる\n",
    "### 'char' in 'strings' \n",
    "in を使うだけで、指定した文字列が含まれているかどうかを調べることができる  \n",
    "返り値はbool型"
   ]
  },
  {
   "cell_type": "code",
   "execution_count": 1,
   "metadata": {},
   "outputs": [
    {
     "name": "stdout",
     "output_type": "stream",
     "text": [
      "True\n"
     ]
    }
   ],
   "source": [
    "text='card11'\n",
    "print('car' in text)"
   ]
  },
  {
   "cell_type": "markdown",
   "metadata": {},
   "source": [
    "## 文字列の先頭が指定した文字列か確認\n",
    "### text.startswidth('tex')"
   ]
  },
  {
   "cell_type": "code",
   "execution_count": 1,
   "metadata": {},
   "outputs": [
    {
     "data": {
      "text/plain": [
       "True"
      ]
     },
     "execution_count": 1,
     "metadata": {},
     "output_type": "execute_result"
    }
   ],
   "source": [
    "text='this is text'\n",
    "text.startswith('thi')"
   ]
  },
  {
   "cell_type": "markdown",
   "metadata": {},
   "source": [
    "## 正規表現\n",
    "## @ import re"
   ]
  },
  {
   "cell_type": "markdown",
   "metadata": {},
   "source": [
    "## 正規表現で文字列の分割\n",
    "### re.split('[ABC]',string)\n",
    "pythonのデフォルトのsplit関数より柔軟に分割を指定できる"
   ]
  },
  {
   "cell_type": "code",
   "execution_count": 11,
   "metadata": {},
   "outputs": [
    {
     "name": "stdout",
     "output_type": "stream",
     "text": [
      "['this', 'is', 'test', '']\n"
     ]
    }
   ],
   "source": [
    "import re\n",
    "print(re.split('[ab]','thisaisatestb'))"
   ]
  },
  {
   "cell_type": "markdown",
   "metadata": {},
   "source": [
    "## イテレータの作成\n",
    "### X=iter([1,2,3])\n",
    "### next(X)\n",
    "iter()関数で、リストなどのオブジェクトから順番に要素を取り出すことができる。next()関数、nextメソッドで、イテレータから要素を順に取り出す"
   ]
  },
  {
   "cell_type": "code",
   "execution_count": 1,
   "metadata": {},
   "outputs": [
    {
     "name": "stdout",
     "output_type": "stream",
     "text": [
      "1\n",
      "2\n",
      "3\n"
     ]
    }
   ],
   "source": [
    "X=iter([1,2,3,4])\n",
    "print(next(X))\n",
    "print(next(X))\n",
    "print(next(X))"
   ]
  },
  {
   "cell_type": "markdown",
   "metadata": {},
   "source": [
    "## ジェネレータ式\n",
    "丸括弧を使うことにより、ジェネレータを簡単に作成することができる"
   ]
  },
  {
   "cell_type": "code",
   "execution_count": 4,
   "metadata": {},
   "outputs": [
    {
     "name": "stdout",
     "output_type": "stream",
     "text": [
      "0\n",
      "1\n",
      "2\n",
      "3\n",
      "4\n",
      "5\n",
      "6\n",
      "7\n",
      "8\n",
      "9\n"
     ]
    }
   ],
   "source": [
    "generator = (i for i in range(10))\n",
    "for _ in range(10):\n",
    "    print(next(generator))"
   ]
  },
  {
   "cell_type": "markdown",
   "metadata": {},
   "source": [
    "## yield\n",
    "関数を一時的に実行停止させることが出来る機能を持つ文  \n",
    "イテレータ：反復して要素を取り出すことが出来る型  \n",
    "ジェネレーター：イテレータの一種になります。要素を取り出すごとに処理を実行して、要素を生成することが出来る。  \n",
    "yieldではジェネレーターを作成することができる"
   ]
  },
  {
   "cell_type": "code",
   "execution_count": 73,
   "metadata": {},
   "outputs": [
    {
     "name": "stdout",
     "output_type": "stream",
     "text": [
      "<generator object make_counter at 0x107608c50>\n",
      "entering make_counter\n",
      "1\n",
      "increasing x\n",
      "2\n",
      "increasing x\n",
      "3\n",
      "0 1 1 2 3 5 8 13 21 34 55 89 144 233 377 610 987 [0, 1, 1, 2, 3, 5, 8, 13, 21, 34, 55, 89, 144, 233, 377, 610, 987]\n"
     ]
    }
   ],
   "source": [
    "def make_counter(x):\n",
    "    print('entering make_counter')\n",
    "    while True:\n",
    "        yield x\n",
    "        print('increasing x')\n",
    "        x += 1\n",
    "\n",
    "counter = make_counter(1)\n",
    "print(counter)\n",
    "\n",
    "print(next(counter))\n",
    "print(next(counter))\n",
    "print(next(counter))\n",
    "\n",
    "\n",
    "# フィボナッチ数列ジェネレーター\n",
    "def fib(max):\n",
    "    a, b = 0, 1\n",
    "    while a < max:\n",
    "        yield a\n",
    "        a, b = b, a + b\n",
    "\n",
    "for n in fib(1000):\n",
    "    print(n, end=' ')\n",
    "\n",
    "# list関数にジェネレータを渡すと、ジェネレータ全体をイテレートしてくれる\n",
    "print(list(fib(1000)))"
   ]
  },
  {
   "cell_type": "markdown",
   "metadata": {},
   "source": [
    "## ログの処理\n",
    "pythonのログ処理はloggingモジュールを用いる。printはコンソールに出力して、ログを別ファイルに残せられないので使わないように。  \n",
    "StreamHandlerでログをコンソールに出力する。  \n",
    "loggerオブジェクトを作成するようにする。  "
   ]
  },
  {
   "cell_type": "code",
   "execution_count": 3,
   "metadata": {},
   "outputs": [
    {
     "ename": "NameError",
     "evalue": "name '__file__' is not defined",
     "output_type": "error",
     "traceback": [
      "\u001b[0;31m---------------------------------------------------------------------------\u001b[0m",
      "\u001b[0;31mNameError\u001b[0m                                 Traceback (most recent call last)",
      "\u001b[0;32m<ipython-input-3-3f8633e7558e>\u001b[0m in \u001b[0;36m<module>\u001b[0;34m\u001b[0m\n\u001b[1;32m     13\u001b[0m \u001b[0;31m# ログの出力の設定\u001b[0m\u001b[0;34m\u001b[0m\u001b[0;34m\u001b[0m\u001b[0;34m\u001b[0m\u001b[0m\n\u001b[1;32m     14\u001b[0m \u001b[0mlog_format\u001b[0m \u001b[0;34m=\u001b[0m \u001b[0;34m\"%(asctime)s %(levelname)s %(name)s :%(message)s\"\u001b[0m\u001b[0;34m\u001b[0m\u001b[0;34m\u001b[0m\u001b[0m\n\u001b[0;32m---> 15\u001b[0;31m \u001b[0mlog_file\u001b[0m\u001b[0;34m=\u001b[0m\u001b[0mos\u001b[0m\u001b[0;34m.\u001b[0m\u001b[0mpath\u001b[0m\u001b[0;34m.\u001b[0m\u001b[0mbasename\u001b[0m\u001b[0;34m(\u001b[0m\u001b[0m__file__\u001b[0m\u001b[0;34m)\u001b[0m \u001b[0;34m+\u001b[0m \u001b[0;34m'.log'\u001b[0m\u001b[0;34m\u001b[0m\u001b[0;34m\u001b[0m\u001b[0m\n\u001b[0m\u001b[1;32m     16\u001b[0m \u001b[0mbasicConfig\u001b[0m\u001b[0;34m(\u001b[0m\u001b[0mlevel\u001b[0m\u001b[0;34m=\u001b[0m\u001b[0mINFO\u001b[0m\u001b[0;34m,\u001b[0m \u001b[0mformat\u001b[0m\u001b[0;34m=\u001b[0m\u001b[0mlog_format\u001b[0m\u001b[0;34m,\u001b[0m\u001b[0mfilename\u001b[0m\u001b[0;34m=\u001b[0m\u001b[0mlog_file\u001b[0m\u001b[0;34m)\u001b[0m\u001b[0;34m\u001b[0m\u001b[0;34m\u001b[0m\u001b[0m\n",
      "\u001b[0;31mNameError\u001b[0m: name '__file__' is not defined"
     ]
    }
   ],
   "source": [
    "from logging import getLogger, StreamHandler, basicConfig, DEBUG, INFO\n",
    "import os \n",
    "# ログの出力名の設定\n",
    "logger = getLogger(__name__)\n",
    "\n",
    "# ログレベルの設定\n",
    "logger.setLevel(INFO)\n",
    "\n",
    "# ログのコンソール出力の設定\n",
    "handler = StreamHandler()\n",
    "logger.addHandler(handler)\n",
    "\n",
    "# ログの出力の設定\n",
    "log_format = \"%(asctime)s %(levelname)s %(name)s :%(message)s\"\n",
    "log_file=os.path.basename(__file__) + '.log'\n",
    "basicConfig(level=INFO, format=log_format,filename=log_file)\n"
   ]
  },
  {
   "cell_type": "markdown",
   "metadata": {},
   "source": [
    "## ファイル操作\n",
    "### file = open('file_path', encoding='uft-8')\n",
    "### file.read()   file.close()\n",
    "open関数で、ファイルのインスタンスを作成してから、読み込み操作を行う"
   ]
  },
  {
   "cell_type": "code",
   "execution_count": 27,
   "metadata": {},
   "outputs": [
    {
     "name": "stdout",
     "output_type": "stream",
     "text": [
      "9\n",
      "kaggle\n",
      "15\n"
     ]
    }
   ],
   "source": [
    "file = open('README.md', encoding='utf-8')\n",
    "\n",
    "# seek 指定したバイト位置に移動できる\n",
    "print(file.seek(9))\n",
    "\n",
    "# readで文字単位で読み込み\n",
    "print(file.read(6))\n",
    "\n",
    "#  tell 現在のバイト位置を取得　\n",
    "print(file.tell())\n",
    "\n",
    "\n",
    "# ファイルを閉じる\n",
    "file.close()"
   ]
  },
  {
   "cell_type": "markdown",
   "metadata": {},
   "source": [
    "### ファイルを自動で閉じる\n",
    "### with open('file_path', encoding='utf-8') as file:"
   ]
  },
  {
   "cell_type": "code",
   "execution_count": 28,
   "metadata": {},
   "outputs": [
    {
     "name": "stdout",
     "output_type": "stream",
     "text": [
      "kaggle\n"
     ]
    }
   ],
   "source": [
    "with open('README.md', encoding='utf-8') as file:\n",
    "    file.seek(9)\n",
    "    character =file.read(6)\n",
    "    print(character)"
   ]
  },
  {
   "cell_type": "markdown",
   "metadata": {},
   "source": [
    "### １行ずつ読み込む"
   ]
  },
  {
   "cell_type": "code",
   "execution_count": 59,
   "metadata": {},
   "outputs": [
    {
     "name": "stdout",
     "output_type": "stream",
     "text": [
      "   1 # kaggle\n",
      "\n",
      "   2 kaggleとあるが、主に機械学習関連での知見をまとめたものになった。    \n",
      "\n",
      "   3 Python全般のことはここがわかりやすい  \n",
      "\n",
      "   4 http://diveintopython3-ja.rdy.jp/index.html\n",
      "\n",
      "   5 \n",
      "\n",
      "   6 ## 機械学習で役立つTips\n",
      "\n"
     ]
    }
   ],
   "source": [
    "with open('README.md', encoding='utf-8') as file:\n",
    "    line_number = 0\n",
    "    for line in file:\n",
    "        line_number += 1\n",
    "        print('{:>4} {}'.format(line_number, line))\n",
    "        \n",
    "        if line_number>5:\n",
    "            break"
   ]
  },
  {
   "cell_type": "markdown",
   "metadata": {},
   "source": [
    "### ファイルの書き込み\n",
    "### file = open('file_path', mode='w', encoding='utf-8')   file.write('script')\n",
    "「書き込み」モードはファイルを上書きする　w  \n",
    "追記」モードはファイルの終わりにデータを追加する a"
   ]
  },
  {
   "cell_type": "markdown",
   "metadata": {},
   "source": [
    "### ファイル以外をソースとするストリームオブジェクト\n",
    "### import io\n",
    "### file = io.StringIO(string)"
   ]
  },
  {
   "cell_type": "code",
   "execution_count": 66,
   "metadata": {},
   "outputs": [
    {
     "name": "stdout",
     "output_type": "stream",
     "text": [
      "PapayaWhip is the new black.\n",
      "PapayaWhip\n",
      "10\n"
     ]
    }
   ],
   "source": [
    "import io\n",
    "\n",
    "string = 'PapayaWhip is the new black.'\n",
    "file = io.StringIO(string)\n",
    "\n",
    "print(file.read())\n",
    "\n",
    "file.seek(0)\n",
    "print(file.read(10))\n",
    "\n",
    "print(file.tell())"
   ]
  },
  {
   "cell_type": "markdown",
   "metadata": {},
   "source": [
    "## 標準入力・標準出力・標準エラー出力\n",
    "### sys.stdin, sys.stdout, sys.stderr\n"
   ]
  },
  {
   "cell_type": "code",
   "execution_count": 74,
   "metadata": {},
   "outputs": [
    {
     "name": "stdout",
     "output_type": "stream",
     "text": [
      "new stdout\n",
      "new stdout\n",
      "new stdout\n"
     ]
    },
    {
     "name": "stderr",
     "output_type": "stream",
     "text": [
      "new stderr\n",
      "new stderr\n",
      "new stderr\n"
     ]
    }
   ],
   "source": [
    "import sys\n",
    "\n",
    "# 標準出力。print文の中身\n",
    "for _ in range(3):\n",
    "    sys.stdout.write('new stdout\\n')\n",
    "    \n",
    "# 標準エラー出力\n",
    "for _ in range(3):\n",
    "    sys.stderr.write('new stderr\\n')"
   ]
  },
  {
   "cell_type": "markdown",
   "metadata": {},
   "source": [
    "## pickle形式での保存\n",
    "python のデータ構造を保存できるもモジュール"
   ]
  },
  {
   "cell_type": "code",
   "execution_count": 76,
   "metadata": {},
   "outputs": [
    {
     "name": "stdout",
     "output_type": "stream",
     "text": [
      "var\n"
     ]
    }
   ],
   "source": [
    "import pickle\n",
    "variable = 'var'\n",
    "\n",
    "# バイナリモードでファイルを開くためにwbで開く\n",
    "with open('variable.pickle', 'wb') as f:\n",
    "    pickle.dump(variable, f)\n",
    "        \n",
    "        \n",
    "# ファイルの開き方\n",
    "with open('variable.pickle', 'rb') as f:\n",
    "    variable = pickle.load(f)\n"
   ]
  },
  {
   "cell_type": "markdown",
   "metadata": {},
   "source": [
    "## メモリの使用状況を監視\n",
    "## tracemalloc\n",
    "tracemallocモジュールで、プログラム中のRAM使用状況を確認することができる"
   ]
  },
  {
   "cell_type": "code",
   "execution_count": 2,
   "metadata": {},
   "outputs": [
    {
     "name": "stdout",
     "output_type": "stream",
     "text": [
      "/Users/satsuki/anaconda3/envs/gpu-env/lib/python3.6/site-packages/IPython/core/compilerop.py:101: size=2871 B, count=64, average=45 B\n",
      "/Users/satsuki/anaconda3/envs/gpu-env/lib/python3.6/json/decoder.py:355: size=1731 B, count=18, average=96 B\n",
      "/Users/satsuki/anaconda3/envs/gpu-env/lib/python3.6/site-packages/zmq/utils/jsonapi.py:43: size=1343 B, count=8, average=168 B\n",
      "/Users/satsuki/anaconda3/envs/gpu-env/lib/python3.6/site-packages/traitlets/traitlets.py:600: size=1264 B, count=18, average=70 B\n",
      "/Users/satsuki/anaconda3/envs/gpu-env/lib/python3.6/site-packages/IPython/core/async_helpers.py:161: size=1254 B, count=7, average=179 B\n",
      "/Users/satsuki/anaconda3/envs/gpu-env/lib/python3.6/site-packages/traitlets/traitlets.py:536: size=1112 B, count=1, average=1112 B\n",
      "/Users/satsuki/anaconda3/envs/gpu-env/lib/python3.6/site-packages/zmq/sugar/socket.py:478: size=1104 B, count=6, average=184 B\n",
      "<ipython-input-1-4b8958d602fe>:8: size=1072 B, count=2, average=536 B\n",
      "/Users/satsuki/anaconda3/envs/gpu-env/lib/python3.6/site-packages/tornado/ioloop.py:602: size=920 B, count=2, average=460 B\n",
      "/Users/satsuki/anaconda3/envs/gpu-env/lib/python3.6/tracemalloc.py:207: size=896 B, count=2, average=448 B\n"
     ]
    }
   ],
   "source": [
    "import tracemalloc\n",
    "\n",
    "# メモリへのトレーススタート\n",
    "tracemalloc.start()\n",
    "\n",
    "# メモリ使用状況のデバッグ\n",
    "snapshot = tracemalloc.take_snapshot()\n",
    "top_stats = snapshot.statistics('lineno')\n",
    "\n",
    "for stat in top_stats[:10]:\n",
    "    print(stat)"
   ]
  },
  {
   "cell_type": "markdown",
   "metadata": {},
   "source": [
    "## XMLを扱う\n",
    "### import xml.etree.ElementTree as ET"
   ]
  },
  {
   "cell_type": "code",
   "execution_count": 28,
   "metadata": {},
   "outputs": [
    {
     "name": "stdout",
     "output_type": "stream",
     "text": [
      "result {'name': 'ZipSearchXML'}\n",
      "result {'version': '1.01'}\n",
      "result {'request_url': 'http%3A%2F%2Fzip.cgis.biz%2Fxml%2Fzip.php%3Fzn%3D1030000'}\n",
      "result {'request_zip_num': '1030000'}\n",
      "result {'request_zip_version': 'none'}\n",
      "result {'result_code': '1'}\n",
      "result {'result_zip_num': '1030000'}\n",
      "result {'result_zip_version': '0'}\n",
      "result {'result_values_count': '1'}\n",
      "ADDRESS_value {}\n",
      "{'state_kana': 'トウキョウト'}\n",
      "{'city_kana': 'チュウオウク'}\n",
      "{'address_kana': 'none'}\n",
      "{'company_kana': 'none'}\n",
      "{'state': '東京都'}\n",
      "{'city': '中央区'}\n",
      "{'address': 'none'}\n",
      "{'company': 'none'}\n",
      "None\n"
     ]
    }
   ],
   "source": [
    "import xml.etree.ElementTree as ET\n",
    "import urllib.request\n",
    "import urllib.parse\n",
    "\n",
    "# XMLファイルを用意\n",
    "params = {\"zn\":1030000}\n",
    "p = urllib.parse.urlencode(params)\n",
    "url = 'http://zip.cgis.biz/xml/zip.php?' + p\n",
    " \n",
    "req = urllib.request.Request(url)\n",
    "\n",
    "with urllib.request.urlopen(req) as response:\n",
    "    xml_string = response.read()\n",
    "    \n",
    "root = ET.fromstring(xml_string)\n",
    "\n",
    "# XMLの小ノードを表示\n",
    "for child in root:\n",
    "    print(child.tag, child.attrib)\n",
    "    \n",
    "# タグ名で抽出する\n",
    "for value in root.iter('value'):\n",
    "    print(value.attrib)\n",
    "\n",
    "# findで特定のタグ名を検索\n",
    "print(root.find('city'))"
   ]
  },
  {
   "cell_type": "markdown",
   "metadata": {},
   "source": [
    "## 高階関数\n",
    "### from functools import reduce\n",
    "### reduce(function, iterable, initializer)\n",
    "リストなどiterableに対して、関数を適用できる  \n",
    "関数には、lambaを使用できるので汎用性が高い"
   ]
  },
  {
   "cell_type": "code",
   "execution_count": 5,
   "metadata": {},
   "outputs": [
    {
     "name": "stdout",
     "output_type": "stream",
     "text": [
      "20\n",
      "0\n",
      "300\n",
      "20\n",
      "0\n",
      "300\n"
     ]
    }
   ],
   "source": [
    "from functools import reduce\n",
    "from operator import add, sub, mul\n",
    "iterable = [10, 2, 3, 5]\n",
    "print(reduce(add, iterable))\n",
    "print(reduce(sub, iterable))\n",
    "print(reduce(mul, iterable))\n",
    "\n",
    "print(reduce(lambda a, b: a+b, iterable))\n",
    "print(reduce(lambda a, b: a-b, iterable))\n",
    "print(reduce(lambda a, b: a*b, iterable))"
   ]
  },
  {
   "cell_type": "code",
   "execution_count": null,
   "metadata": {},
   "outputs": [],
   "source": []
  },
  {
   "cell_type": "code",
   "execution_count": null,
   "metadata": {},
   "outputs": [],
   "source": []
  },
  {
   "cell_type": "code",
   "execution_count": null,
   "metadata": {},
   "outputs": [],
   "source": []
  }
 ],
 "metadata": {
  "kernelspec": {
   "display_name": "Python 3",
   "language": "python",
   "name": "python3"
  },
  "language_info": {
   "codemirror_mode": {
    "name": "ipython",
    "version": 3
   },
   "file_extension": ".py",
   "mimetype": "text/x-python",
   "name": "python",
   "nbconvert_exporter": "python",
   "pygments_lexer": "ipython3",
   "version": "3.6.3"
  }
 },
 "nbformat": 4,
 "nbformat_minor": 2
}

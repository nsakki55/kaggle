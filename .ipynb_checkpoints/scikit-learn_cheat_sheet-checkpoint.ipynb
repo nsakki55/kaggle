{
 "cells": [
  {
   "cell_type": "markdown",
   "metadata": {},
   "source": [
    "# sklearn チートシート"
   ]
  },
  {
   "cell_type": "code",
   "execution_count": 2,
   "metadata": {},
   "outputs": [],
   "source": [
    "import sklearn\n",
    "import warnings\n",
    "warnings.filterwarnings('ignore')\n",
    "import matplotlib.pyplot as plt\n",
    "%matplotlib inline\n",
    "import numpy as np\n",
    "import pandas as pd"
   ]
  },
  {
   "cell_type": "markdown",
   "metadata": {},
   "source": [
    "## @ preprocessing.LabelEncoder()\n",
    "### le.fit(\"文字列\")\n",
    "### le.transform(\"文字列\")\n",
    "### le.fit_transform(\"文字列\")\n",
    "\n",
    "\n",
    "文字データを離散の数値に変換する"
   ]
  },
  {
   "cell_type": "code",
   "execution_count": 3,
   "metadata": {},
   "outputs": [
    {
     "data": {
      "text/plain": [
       "array([3, 0, 1, 3, 2, 1, 1], dtype=int64)"
      ]
     },
     "execution_count": 3,
     "metadata": {},
     "output_type": "execute_result"
    }
   ],
   "source": [
    "from sklearn.preprocessing import LabelEncoder\n",
    "week_breakfast = [\"パン\",\"ご飯\",\"なし\",\"パン\",\"シリアル\",\"なし\",\"なし\"]\n",
    "le = LabelEncoder()\n",
    "labels = le.fit_transform(week_breakfast)\n",
    "labels"
   ]
  },
  {
   "cell_type": "markdown",
   "metadata": {},
   "source": [
    "## @ from sklearn.model_selection import  KFold\n",
    "### folds = KFold(n_splits=n_fold, shuffle=True, random_state=11)\n",
    "k交差分割検証　n_splitで分割数, shuffleで単純なグループ分けから、毎回ランダムなデータを取ってくる"
   ]
  },
  {
   "cell_type": "markdown",
   "metadata": {},
   "source": [
    "## @ from sklearn impor datasets\n",
    "### iris=datasets.load_iris()        data=iris.data label=iris.target\n",
    "有名なデータセットのダウンロードをできる。特徴量はdata　正解ラベルはtargetでアクセスできる"
   ]
  },
  {
   "cell_type": "code",
   "execution_count": 3,
   "metadata": {},
   "outputs": [
    {
     "name": "stdout",
     "output_type": "stream",
     "text": [
      "[[5.1 3.5 1.4 0.2]\n",
      " [4.9 3.  1.4 0.2]\n",
      " [4.7 3.2 1.3 0.2]\n",
      " [4.6 3.1 1.5 0.2]\n",
      " [5.  3.6 1.4 0.2]]\n",
      "[0 0 0 0 0]\n",
      "[[5.1 3.5 1.4 0.2]\n",
      " [4.9 3.  1.4 0.2]\n",
      " [4.7 3.2 1.3 0.2]\n",
      " [4.6 3.1 1.5 0.2]\n",
      " [5.  3.6 1.4 0.2]]\n",
      "[0 0 0 0 0]\n"
     ]
    }
   ],
   "source": [
    "from sklearn import datasets\n",
    "iris=datasets.load_iris()\n",
    "print(iris.data[:5])\n",
    "print(iris.target[:5])\n",
    "print(iris['data'][:5])\n",
    "print(iris['target'][:5])"
   ]
  },
  {
   "cell_type": "markdown",
   "metadata": {},
   "source": [
    "## @ from sklearn.model_selection import train_test_split\n",
    "### X_train,X_test,y_train,y_test=train_test_split(X,y,test_size=0.3,random_state=0)\n",
    "学習データを訓練データとテストテストデータに分ける"
   ]
  },
  {
   "cell_type": "code",
   "execution_count": 4,
   "metadata": {},
   "outputs": [
    {
     "name": "stdout",
     "output_type": "stream",
     "text": [
      "(150, 4)\n",
      "(150,)\n",
      "(105, 4)\n",
      "(105,)\n"
     ]
    }
   ],
   "source": [
    "from sklearn.model_selection import train_test_split\n",
    "X=iris.data\n",
    "y=iris.target\n",
    "print(X.shape)\n",
    "print(y.shape)\n",
    "\n",
    "X_train,X_test,y_train,y_test=train_test_split(X,y,test_size=0.3,random_state=0)\n",
    "\n",
    "print(X_train.shape)\n",
    "print(y_train.shape)"
   ]
  },
  {
   "cell_type": "markdown",
   "metadata": {},
   "source": [
    "## @ from sklearn.preprocessing import StandardScaler\n",
    "### sc=StandardScaler()  X_std=sc.fit_transform(X)\n",
    "データを標準化する。 fit(X) transform(X)をfit_transorm(X)だけでかける\n"
   ]
  },
  {
   "cell_type": "code",
   "execution_count": 5,
   "metadata": {},
   "outputs": [
    {
     "name": "stdout",
     "output_type": "stream",
     "text": [
      "3.6795963101862333e-16\n",
      "0.9999999999999999\n",
      "3.3553406966449175e-16\n",
      "1.0\n"
     ]
    }
   ],
   "source": [
    "from sklearn.preprocessing import StandardScaler\n",
    "sc=StandardScaler()\n",
    "sc.fit(X_train)\n",
    "X_train_std=sc.transform(X_train)\n",
    "\n",
    "X_test_std=sc.fit_transform(X_test)\n",
    "\n",
    "print(X_train_std.mean())\n",
    "print(X_train_std.std())\n",
    "\n",
    "print(X_test_std.mean())\n",
    "print(X_test_std.std())"
   ]
  },
  {
   "cell_type": "markdown",
   "metadata": {},
   "source": [
    "## @ from sklearn.linear_model import Perceptron\n",
    "### ppn=Perceptron(eta0=0.1,random_state=0,shuffle=True)\n",
    "単純パーセプトロン　ハイパーパラメータは学習係数eta　shuffle=Trueで各epochごとにデータをシャッフルする"
   ]
  },
  {
   "cell_type": "markdown",
   "metadata": {},
   "source": [
    "## @ from sklearn.metrics import accuracy_score\n",
    "### accuracy_score(y_test,y_pred)\n",
    "正解ラベルと予測ラベルから正解率を求める"
   ]
  },
  {
   "cell_type": "code",
   "execution_count": 20,
   "metadata": {},
   "outputs": [
    {
     "name": "stdout",
     "output_type": "stream",
     "text": [
      "Accuracy: 0.93\n",
      "Accuracy: 0.93\n"
     ]
    }
   ],
   "source": [
    "from sklearn.metrics import accuracy_score\n",
    "from sklearn.linear_model import Perceptron\n",
    "\n",
    "ppn=Perceptron(eta0=0.1,random_state=0,shuffle=True)\n",
    "ppn.fit(X_train_std,y_train)\n",
    "y_pred=ppn.predict(X_test_std)\n",
    "\n",
    "# accuracy_scoreを使う場合\n",
    "print(\"Accuracy: %.2f\" % accuracy_score(y_test,y_pred))\n",
    "\n",
    "# modelのscoreメソッドを使う場合\n",
    "print(\"Accuracy: %.2f\" % ppn.score(X_test_std,y_test))"
   ]
  },
  {
   "cell_type": "markdown",
   "metadata": {},
   "source": [
    "## @ from sklearn.linear_model import LogisticRegression\n",
    "### lr=LogisticRegression(C=0.01,random_state=0,penalty='l2')\n",
    "ロジスティック回帰　ハイパーパラメータCは正則項の逆数で、Cが小さいほど正則化は強くなる  \n",
    "penaltyでL1,L2,ElasticNetを選択できる。デフォルトはl2\n"
   ]
  },
  {
   "cell_type": "code",
   "execution_count": 33,
   "metadata": {},
   "outputs": [
    {
     "data": {
      "image/png": "[encoded data removed]",
      "text/plain": [
       "<Figure size 432x288 with 1 Axes>"
      ]
     },
     "metadata": {
      "needs_background": "light"
     },
     "output_type": "display_data"
    }
   ],
   "source": [
    "from sklearn.linear_model import LogisticRegression\n",
    "\n",
    "\n",
    "accuracy=[]\n",
    "params=[]\n",
    "for c in range(-5,5):\n",
    "    lr=LogisticRegression(C=10**c,random_state=0)\n",
    "    lr.fit(X_train_std,y_train)\n",
    "    accuracy.append(lr.score(X_test_std,y_test))\n",
    "    params.append(10**c)\n",
    "\n",
    "plt.plot(params,accuracy,marker='o')\n",
    "plt.xlabel('C')\n",
    "plt.ylabel('Accuracy')\n",
    "plt.xscale('log')\n",
    "plt.show()\n"
   ]
  },
  {
   "cell_type": "markdown",
   "metadata": {},
   "source": [
    "## @ from sklearn.svm import SVC\n",
    "### svm=SVC(kernel='linear',C=1.0,random_state=0)\n",
    "### svm=SVC(kernel='rbf',gammma=10,C=1.0,random_state=0)\n",
    "サポートベクターマシン。kernel='linear'で線形分離、kernel='rbf'で非線形分離を行なう。Cはスラック変数の係数、gammmaカーネル関数の係数  \n",
    "正則化項はL2正則化のみ"
   ]
  },
  {
   "cell_type": "code",
   "execution_count": 81,
   "metadata": {},
   "outputs": [
    {
     "name": "stderr",
     "output_type": "stream",
     "text": [
      "'c' argument looks like a single numeric RGB or RGBA sequence, which should be avoided as value-mapping will have precedence in case its length matches with 'x' & 'y'.  Please use a 2-D array with a single row if you really want to specify the same RGB or RGBA value for all points.\n",
      "'c' argument looks like a single numeric RGB or RGBA sequence, which should be avoided as value-mapping will have precedence in case its length matches with 'x' & 'y'.  Please use a 2-D array with a single row if you really want to specify the same RGB or RGBA value for all points.\n",
      "'c' argument looks like a single numeric RGB or RGBA sequence, which should be avoided as value-mapping will have precedence in case its length matches with 'x' & 'y'.  Please use a 2-D array with a single row if you really want to specify the same RGB or RGBA value for all points.\n",
      "'c' argument looks like a single numeric RGB or RGBA sequence, which should be avoided as value-mapping will have precedence in case its length matches with 'x' & 'y'.  Please use a 2-D array with a single row if you really want to specify the same RGB or RGBA value for all points.\n",
      "'c' argument looks like a single numeric RGB or RGBA sequence, which should be avoided as value-mapping will have precedence in case its length matches with 'x' & 'y'.  Please use a 2-D array with a single row if you really want to specify the same RGB or RGBA value for all points.\n",
      "'c' argument looks like a single numeric RGB or RGBA sequence, which should be avoided as value-mapping will have precedence in case its length matches with 'x' & 'y'.  Please use a 2-D array with a single row if you really want to specify the same RGB or RGBA value for all points.\n"
     ]
    },
    {
     "data": {
      "image/png": "[encoded data removed]",
      "text/plain": [
       "<Figure size 432x288 with 2 Axes>"
      ]
     },
     "metadata": {
      "needs_background": "light"
     },
     "output_type": "display_data"
    }
   ],
   "source": [
    "from sklearn.svm import SVC\n",
    "\n",
    "plt.subplot(1,2,1)\n",
    "svm=SVC(kernel='linear',C=1.0,random_state=0)\n",
    "svm.fit(X_train_std[:,[1,3]],y_train)\n",
    "plot_decision_regions(X_train_std[:,[1,3]],y_train,classifier=svm)\n",
    "\n",
    "plt.subplot(1,2,2)\n",
    "svm=SVC(kernel='rbf',C=10.0,gamma=15,random_state=0)\n",
    "svm.fit(X_train_std[:,[1,3]],y_train)\n",
    "plot_decision_regions(X_train_std[:,[1,3]],y_train,classifier=svm)\n",
    "plt.show()"
   ]
  },
  {
   "cell_type": "markdown",
   "metadata": {},
   "source": [
    "## @ from sklearn.svm import linearSVC\n",
    "### liSVM=LinearSVC(penalty='l1',C=10,dual=False)\n",
    "SVMの強化版？L1正則化を設定できるようになった"
   ]
  },
  {
   "cell_type": "code",
   "execution_count": 8,
   "metadata": {},
   "outputs": [
    {
     "name": "stderr",
     "output_type": "stream",
     "text": [
      "'c' argument looks like a single numeric RGB or RGBA sequence, which should be avoided as value-mapping will have precedence in case its length matches with 'x' & 'y'.  Please use a 2-D array with a single row if you really want to specify the same RGB or RGBA value for all points.\n",
      "'c' argument looks like a single numeric RGB or RGBA sequence, which should be avoided as value-mapping will have precedence in case its length matches with 'x' & 'y'.  Please use a 2-D array with a single row if you really want to specify the same RGB or RGBA value for all points.\n",
      "'c' argument looks like a single numeric RGB or RGBA sequence, which should be avoided as value-mapping will have precedence in case its length matches with 'x' & 'y'.  Please use a 2-D array with a single row if you really want to specify the same RGB or RGBA value for all points.\n"
     ]
    },
    {
     "data": {
      "image/png": "[encoded data removed]",
      "text/plain": [
       "<Figure size 432x288 with 1 Axes>"
      ]
     },
     "metadata": {
      "needs_background": "light"
     },
     "output_type": "display_data"
    }
   ],
   "source": [
    "from sklearn.svm import LinearSVC\n",
    "liSVM=LinearSVC(penalty='l1',C=10,dual=False)\n",
    "liSVM.fit(X_train_std[:,[1,3]],y_train)\n",
    "plot_decision_regions(X_train_std[:,[1,3]],y_train,classifier=liSVM)\n",
    "plt.show()"
   ]
  },
  {
   "cell_type": "markdown",
   "metadata": {},
   "source": [
    "## 実験　L1正則化の重み減少の様子"
   ]
  },
  {
   "cell_type": "code",
   "execution_count": 16,
   "metadata": {},
   "outputs": [
    {
     "data": {
      "image/png": "[encoded data removed]",
      "text/plain": [
       "<Figure size 432x288 with 1 Axes>"
      ]
     },
     "metadata": {
      "needs_background": "light"
     },
     "output_type": "display_data"
    }
   ],
   "source": [
    "fig = plt.figure()\n",
    "ax = plt.subplot(111)\n",
    "    \n",
    "colors = ['blue', 'green', 'red', 'cyan', \n",
    "          'magenta', 'yellow', 'black', \n",
    "          'pink', 'lightgreen', 'lightblue', \n",
    "          'gray', 'indigo', 'orange']\n",
    "\n",
    "weights, params = [], []\n",
    "for c in np.arange(-4., 6.):\n",
    "    lr = LinearSVC(penalty='l1', C=10.**c,dual=False, random_state=0)\n",
    "    lr.fit(X_train_std, y_train)\n",
    "    weights.append(lr.coef_[1])\n",
    "    params.append(10.**c)\n",
    "\n",
    "weights = np.array(weights)\n",
    "\n",
    "for column, color in zip(range(weights.shape[1]), colors):\n",
    "    plt.plot(params, weights[:, column],\n",
    "             label=column,\n",
    "             color=color)\n",
    "plt.axhline(0, color='black', linestyle='--', linewidth=3)\n",
    "plt.xlim([10**(-5), 10**5])\n",
    "plt.ylabel('weight coefficient')\n",
    "plt.xlabel('C')\n",
    "plt.xscale('log')\n",
    "plt.legend(loc='upper left')\n",
    "ax.legend(loc='upper center', \n",
    "          bbox_to_anchor=(1.38, 1.03),\n",
    "          ncol=1, fancybox=True)\n",
    "plt.show()"
   ]
  },
  {
   "cell_type": "markdown",
   "metadata": {},
   "source": [
    "## @ from sklearn.tree import DecisionTreeClassifier\n",
    "### tree=DecisionTreeClassifier(criterion='entropy',max_depth=3,random_state=0)\n",
    "決定木一つ。criterionが不順度の指標'gini'か'entropy'。max_depthが決定木の深さ。  \n",
    "決定木で学習する訓練データは特徴量をスケーリングする必要がない（してもいいが、数値の分割条件の大小関係が重要なので、しきい値が変わるだけ）"
   ]
  },
  {
   "cell_type": "code",
   "execution_count": 94,
   "metadata": {},
   "outputs": [
    {
     "name": "stderr",
     "output_type": "stream",
     "text": [
      "'c' argument looks like a single numeric RGB or RGBA sequence, which should be avoided as value-mapping will have precedence in case its length matches with 'x' & 'y'.  Please use a 2-D array with a single row if you really want to specify the same RGB or RGBA value for all points.\n",
      "'c' argument looks like a single numeric RGB or RGBA sequence, which should be avoided as value-mapping will have precedence in case its length matches with 'x' & 'y'.  Please use a 2-D array with a single row if you really want to specify the same RGB or RGBA value for all points.\n",
      "'c' argument looks like a single numeric RGB or RGBA sequence, which should be avoided as value-mapping will have precedence in case its length matches with 'x' & 'y'.  Please use a 2-D array with a single row if you really want to specify the same RGB or RGBA value for all points.\n"
     ]
    },
    {
     "data": {
      "image/png": "[encoded data removed]",
      "text/plain": [
       "<Figure size 432x288 with 1 Axes>"
      ]
     },
     "metadata": {
      "needs_background": "light"
     },
     "output_type": "display_data"
    }
   ],
   "source": [
    "from sklearn.tree import DecisionTreeClassifier\n",
    "tree=DecisionTreeClassifier(criterion='entropy',max_depth=20,random_state=0)\n",
    "tree.fit(X_train[:,[1,3]],y_train)\n",
    "plot_decision_regions(X_train[:,[1,3]],y_train,classifier=tree)\n",
    "plt.legend()\n",
    "plt.show()"
   ]
  },
  {
   "cell_type": "markdown",
   "metadata": {},
   "source": [
    "## @ from sklearn.ensemble import RandomForestClassifier\n",
    "### forest=RandomForestClassifier(criterion='entropy',n_estimators=10,random_state=2)\n",
    "ランダムフォレスト。criterionが不順度の指標'gini'か'entropy'　n_estimatorsが決定木の数。n_jobsがPCの複数コアでの並列処理をしている。"
   ]
  },
  {
   "cell_type": "code",
   "execution_count": 106,
   "metadata": {},
   "outputs": [
    {
     "name": "stderr",
     "output_type": "stream",
     "text": [
      "'c' argument looks like a single numeric RGB or RGBA sequence, which should be avoided as value-mapping will have precedence in case its length matches with 'x' & 'y'.  Please use a 2-D array with a single row if you really want to specify the same RGB or RGBA value for all points.\n",
      "'c' argument looks like a single numeric RGB or RGBA sequence, which should be avoided as value-mapping will have precedence in case its length matches with 'x' & 'y'.  Please use a 2-D array with a single row if you really want to specify the same RGB or RGBA value for all points.\n",
      "'c' argument looks like a single numeric RGB or RGBA sequence, which should be avoided as value-mapping will have precedence in case its length matches with 'x' & 'y'.  Please use a 2-D array with a single row if you really want to specify the same RGB or RGBA value for all points.\n"
     ]
    },
    {
     "data": {
      "image/png": "[encoded data removed]",
      "text/plain": [
       "<Figure size 432x288 with 1 Axes>"
      ]
     },
     "metadata": {
      "needs_background": "light"
     },
     "output_type": "display_data"
    },
    {
     "name": "stdout",
     "output_type": "stream",
     "text": [
      "test accuracy 0.82\n"
     ]
    }
   ],
   "source": [
    "from sklearn.ensemble import RandomForestClassifier\n",
    "forest=RandomForestClassifier(criterion='gini',n_estimators=10,random_state=0,n_jobs=2)\n",
    "forest.fit(X_train_std[:,[1,3]],y_train)\n",
    "plot_decision_regions(X_train_std[:,[1,3]],y_train,classifier=forest)\n",
    "plt.show()\n",
    "print(\"test accuracy %.2f\" %forest.score(X_test_std[:,[1,3]],y_test))"
   ]
  },
  {
   "cell_type": "markdown",
   "metadata": {},
   "source": [
    "## @ from sklearn.neighbors import KNeighborsClassifier\n",
    "### knn=KNeighborsClassifer(n_neightbors=5,p=2,metric='minkowski')\n",
    "K近傍法(k-nearest-neighbor) n_negibors分類したいサンプルの最近傍のデータ数 k(デフォルトは5)、pはminkowski距離を用いる場合の次元を表す。  \n",
    "p=2でユークリッド距離に対応する  \n",
    "minkowski距離はユークリッド距離とマンハッタン距離を一般化した距離指標  \n",
    "k-nearest-neighborは訓練データの中から分類したいデータ点に最も近いk個のサンプルを見つけ出し、k個の最近傍の多数決で決まる。  \n",
    "そのため、データを保存しておく必要があり、メモリ問題が起きる場合がある。"
   ]
  },
  {
   "cell_type": "code",
   "execution_count": 108,
   "metadata": {},
   "outputs": [
    {
     "name": "stderr",
     "output_type": "stream",
     "text": [
      "'c' argument looks like a single numeric RGB or RGBA sequence, which should be avoided as value-mapping will have precedence in case its length matches with 'x' & 'y'.  Please use a 2-D array with a single row if you really want to specify the same RGB or RGBA value for all points.\n",
      "'c' argument looks like a single numeric RGB or RGBA sequence, which should be avoided as value-mapping will have precedence in case its length matches with 'x' & 'y'.  Please use a 2-D array with a single row if you really want to specify the same RGB or RGBA value for all points.\n",
      "'c' argument looks like a single numeric RGB or RGBA sequence, which should be avoided as value-mapping will have precedence in case its length matches with 'x' & 'y'.  Please use a 2-D array with a single row if you really want to specify the same RGB or RGBA value for all points.\n"
     ]
    },
    {
     "data": {
      "image/png": "[encoded data removed]",
      "text/plain": [
       "<Figure size 432x288 with 1 Axes>"
      ]
     },
     "metadata": {
      "needs_background": "light"
     },
     "output_type": "display_data"
    },
    {
     "name": "stdout",
     "output_type": "stream",
     "text": [
      "test accuracy 0.80\n"
     ]
    }
   ],
   "source": [
    "from sklearn.neighbors import KNeighborsClassifier\n",
    "knn=KNeighborsClassifier(n_neighbors=5,p=2,metric='minkowski')\n",
    "knn.fit(X_train_std[:,[1,3]],y_train)\n",
    "plot_decision_regions(X_train_std[:,[1,3]],y_train,classifier=knn)\n",
    "plt.show()\n",
    "print(\"test accuracy %.2f\" %knn.score(X_test_std[:,[1,3]],y_test))"
   ]
  },
  {
   "cell_type": "markdown",
   "metadata": {},
   "source": [
    "## @ from sklearn.preprcessing import Imputer\n",
    "### imr=Imputer(missing_value='NaN',strategy='mean',axis=1)\n",
    "### imputed_data=imr.fit_transform(df.values)\n",
    "欠損値補完。pandas のdf.fillna(df.mean())に対応する\n",
    "strategyはmedian,mean,most_frequent"
   ]
  },
  {
   "cell_type": "markdown",
   "metadata": {},
   "source": [
    "## @ from skleran.preprocessing import LabelEncoder\n",
    "### le=LabelEncoder()\n",
    "### y=le.fit_transform(df['classlabel'].values)\n",
    "カテゴリ特徴量を数字データに変換。正解クラスを数値化するのに便利。  \n",
    "順序特徴量の場合は、特徴量に大小関係がない場合は、不要な大小関係を与えてしまうのでone-hot エンコーディングを用いる"
   ]
  },
  {
   "cell_type": "code",
   "execution_count": 140,
   "metadata": {},
   "outputs": [
    {
     "name": "stdout",
     "output_type": "stream",
     "text": [
      "   color size  price classlabel\n",
      "0  green    M   10.1     class1\n",
      "1    red    L   13.5     class2\n",
      "2   blue   XL   15.3     class1\n",
      "   color  size  price  classlabel\n",
      "0      1     1   10.1           0\n",
      "1      2     0   13.5           1\n",
      "2      0     2   15.3           0\n"
     ]
    }
   ],
   "source": [
    "df = pd.DataFrame([['green', 'M', 10.1, 'class1'],\n",
    "                   ['red', 'L', 13.5, 'class2'],\n",
    "                   ['blue', 'XL', 15.3, 'class1']])\n",
    "df.columns = ['color', 'size', 'price', 'classlabel']\n",
    "print(df)\n",
    "\n",
    "from sklearn.preprocessing import LabelEncoder\n",
    "le=LabelEncoder()\n",
    "df['classlabel']=le.fit_transform(df['classlabel'])\n",
    "df['size']=le.fit_transform(df['size'])\n",
    "df['color']=le.fit_transform(df['color'])\n",
    "\n",
    "print(df)"
   ]
  },
  {
   "cell_type": "markdown",
   "metadata": {},
   "source": [
    "## @ from sklearn.preprocessing import  OneHotEncoder\n",
    "### ohe=OneHotEncoder(categorical_feature=[0])\n",
    "### ohe.fit_transform(X).toarray()\n",
    "OneHotエンコーディングを名義特徴量に対して行ってくれる。categorical_feaures=[0]でdummy変数を作る列を指定  \n",
    "変換するにはnumpy配列にしないといけないので注意。toarray()でnumpy配列にしないとインスタンスのままになる  \n",
    "変換する配列中に指定した列以外に文字変数が含まれるとエラーを吐くので注意"
   ]
  },
  {
   "cell_type": "code",
   "execution_count": 143,
   "metadata": {},
   "outputs": [
    {
     "data": {
      "text/plain": [
       "array([[ 0. ,  1. ,  0. ,  1. , 10.1],\n",
       "       [ 0. ,  0. ,  1. ,  0. , 13.5],\n",
       "       [ 1. ,  0. ,  0. ,  2. , 15.3]])"
      ]
     },
     "execution_count": 143,
     "metadata": {},
     "output_type": "execute_result"
    }
   ],
   "source": [
    "X=df[['color','size','price']].values\n",
    "from sklearn.preprocessing import OneHotEncoder\n",
    "ohe=OneHotEncoder(categorical_features=[0])\n",
    "ohe.fit_transform(X).toarray()"
   ]
  },
  {
   "cell_type": "markdown",
   "metadata": {},
   "source": [
    "### 参考　pandasでのdummy変数の作り方\n",
    "### pd.get_dummies(df)"
   ]
  },
  {
   "cell_type": "markdown",
   "metadata": {},
   "source": [
    "## @ from sklearn.preprocessing import MinMaxScaler\n",
    "### mms=MinMaxScaler()\n",
    "### X_train_mms=mms.fit_transform(X_train)\n",
    "[0,1]の間に特徴量を収める正規化。標準化はStandardScalerなので注意する\n",
    "※from sklearn.preprcessing import StandarScaler"
   ]
  },
  {
   "cell_type": "code",
   "execution_count": 148,
   "metadata": {},
   "outputs": [
    {
     "name": "stdout",
     "output_type": "stream",
     "text": [
      "7.9 0.1\n",
      "1.0 0.0\n"
     ]
    }
   ],
   "source": [
    "from sklearn.preprocessing import MinMaxScaler\n",
    "print(X_train.max(),X_train.min())\n",
    "mms=MinMaxScaler()\n",
    "X_train_mms=mms.fit_transform(X_train)\n",
    "print(X_train_mms.max(),X_train_mms.min())"
   ]
  },
  {
   "cell_type": "code",
   "execution_count": null,
   "metadata": {},
   "outputs": [],
   "source": []
  },
  {
   "cell_type": "code",
   "execution_count": null,
   "metadata": {},
   "outputs": [],
   "source": []
  },
  {
   "cell_type": "code",
   "execution_count": null,
   "metadata": {},
   "outputs": [],
   "source": []
  },
  {
   "cell_type": "code",
   "execution_count": null,
   "metadata": {},
   "outputs": [],
   "source": []
  },
  {
   "cell_type": "code",
   "execution_count": null,
   "metadata": {},
   "outputs": [],
   "source": []
  },
  {
   "cell_type": "code",
   "execution_count": null,
   "metadata": {},
   "outputs": [],
   "source": []
  },
  {
   "cell_type": "code",
   "execution_count": 7,
   "metadata": {},
   "outputs": [],
   "source": [
    "from matplotlib.colors import ListedColormap\n",
    "import matplotlib.pyplot as plt\n",
    "import numpy as np\n",
    "import warnings\n",
    "\n",
    "\n",
    "def versiontuple(v):\n",
    "    return tuple(map(int, (v.split(\".\"))))\n",
    "\n",
    "\n",
    "def plot_decision_regions(X, y, classifier, test_idx=None, resolution=0.02):\n",
    "\n",
    "    # setup marker generator and color map\n",
    "    markers = ('s', 'x', 'o', '^', 'v')\n",
    "    colors = ('red', 'blue', 'lightgreen', 'gray', 'cyan')\n",
    "    cmap = ListedColormap(colors[:len(np.unique(y))])\n",
    "\n",
    "    # plot the decision surface\n",
    "    x1_min, x1_max = X[:, 0].min() - 1, X[:, 0].max() + 1\n",
    "    x2_min, x2_max = X[:, 1].min() - 1, X[:, 1].max() + 1\n",
    "    xx1, xx2 = np.meshgrid(np.arange(x1_min, x1_max, resolution),\n",
    "                           np.arange(x2_min, x2_max, resolution))\n",
    "    Z = classifier.predict(np.array([xx1.ravel(), xx2.ravel()]).T)\n",
    "    Z = Z.reshape(xx1.shape)\n",
    "    plt.contourf(xx1, xx2, Z, alpha=0.4, cmap=cmap)\n",
    "    plt.xlim(xx1.min(), xx1.max())\n",
    "    plt.ylim(xx2.min(), xx2.max())\n",
    "\n",
    "    for idx, cl in enumerate(np.unique(y)):\n",
    "        plt.scatter(x=X[y == cl, 0], \n",
    "                    y=X[y == cl, 1],\n",
    "                    alpha=0.6, \n",
    "                    c=cmap(idx),\n",
    "                    edgecolor='black',\n",
    "                    marker=markers[idx], \n",
    "                    label=cl)\n",
    "\n",
    "    # highlight test samples\n",
    "    if test_idx:\n",
    "        # plot all samples\n",
    "        if not versiontuple(np.__version__) >= versiontuple('1.9.0'):\n",
    "            X_test, y_test = X[list(test_idx), :], y[list(test_idx)]\n",
    "            warnings.warn('Please update to NumPy 1.9.0 or newer')\n",
    "        else:\n",
    "            X_test, y_test = X[test_idx, :], y[test_idx]\n",
    "\n",
    "        plt.scatter(X_test[:, 0],\n",
    "                    X_test[:, 1],\n",
    "                    c='',\n",
    "                    alpha=1.0,\n",
    "                    edgecolor='black',\n",
    "                    linewidths=1,\n",
    "                    marker='o',\n",
    "                    s=55, label='test set')"
   ]
  },
  {
   "cell_type": "code",
   "execution_count": null,
   "metadata": {},
   "outputs": [],
   "source": []
  }
 ],
 "metadata": {
  "kernelspec": {
   "display_name": "Python 3",
   "language": "python",
   "name": "python3"
  },
  "language_info": {
   "codemirror_mode": {
    "name": "ipython",
    "version": 3
   },
   "file_extension": ".py",
   "mimetype": "text/x-python",
   "name": "python",
   "nbconvert_exporter": "python",
   "pygments_lexer": "ipython3",
   "version": "3.6.8"
  }
 },
 "nbformat": 4,
 "nbformat_minor": 2
}

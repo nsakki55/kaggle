{
 "cells": [
  {
   "cell_type": "code",
   "execution_count": 1,
   "metadata": {},
   "outputs": [],
   "source": [
    "import torch\n",
    "import torchvision\n",
    "\n",
    "import numpy as np\n",
    "import matplotlib.pyplot as plt\n",
    "%matplotlib inline\n",
    "import pandas as pd"
   ]
  },
  {
   "cell_type": "markdown",
   "metadata": {},
   "source": [
    "# 基本操作\n",
    "公式Tutorial参照  \n",
    "https://pytorch.org/tutorials/beginner/blitz/tensor_tutorial.html"
   ]
  },
  {
   "cell_type": "code",
   "execution_count": 6,
   "metadata": {},
   "outputs": [
    {
     "name": "stdout",
     "output_type": "stream",
     "text": [
      "Torch version: 1.4.0\n",
      "Torchvision version: 0.5.0\n"
     ]
    }
   ],
   "source": [
    "print('Torch version:',torch.__version__)\n",
    "print('Torchvision version:', torchvision.__version__)"
   ]
  },
  {
   "cell_type": "code",
   "execution_count": 22,
   "metadata": {},
   "outputs": [
    {
     "name": "stdout",
     "output_type": "stream",
     "text": [
      "tensor([[1.9809e-36, 0.0000e+00],\n",
      "        [1.3855e-36, 0.0000e+00],\n",
      "        [1.4013e-45, 0.0000e+00]])\n"
     ]
    }
   ],
   "source": [
    "# ほぼゼロの値をいれる\n",
    "x = torch.empty(3, 2)\n",
    "print(x)"
   ]
  },
  {
   "cell_type": "code",
   "execution_count": 23,
   "metadata": {},
   "outputs": [
    {
     "name": "stdout",
     "output_type": "stream",
     "text": [
      "tensor([[0.9185, 0.8774, 0.0070],\n",
      "        [0.9161, 0.3327, 0.3092],\n",
      "        [0.9744, 0.3248, 0.9404],\n",
      "        [0.1426, 0.0115, 0.5365],\n",
      "        [0.8907, 0.2779, 0.8474]])\n"
     ]
    }
   ],
   "source": [
    "# [0, 1]の一様分布から要素を作成\n",
    "x = torch.rand(5, 3)\n",
    "print(x)"
   ]
  },
  {
   "cell_type": "code",
   "execution_count": 24,
   "metadata": {},
   "outputs": [
    {
     "name": "stdout",
     "output_type": "stream",
     "text": [
      "tensor([[0, 0],\n",
      "        [0, 0],\n",
      "        [0, 0]])\n"
     ]
    }
   ],
   "source": [
    "# 要素０で作成\n",
    "x = torch.zeros(3, 2, dtype=torch.long)\n",
    "print(x)"
   ]
  },
  {
   "cell_type": "code",
   "execution_count": 25,
   "metadata": {},
   "outputs": [
    {
     "name": "stdout",
     "output_type": "stream",
     "text": [
      "tensor([5.5000, 3.0000])\n"
     ]
    }
   ],
   "source": [
    "# データから直接テンソルを作成\n",
    "x = torch.tensor([5.5, 3])\n",
    "print(x)"
   ]
  },
  {
   "cell_type": "code",
   "execution_count": 27,
   "metadata": {},
   "outputs": [
    {
     "name": "stdout",
     "output_type": "stream",
     "text": [
      "tensor([[1., 1., 1.],\n",
      "        [1., 1., 1.],\n",
      "        [1., 1., 1.],\n",
      "        [1., 1., 1.],\n",
      "        [1., 1., 1.]], dtype=torch.float64)\n",
      "tensor([[-0.8212, -0.1109, -0.6541],\n",
      "        [ 1.5003,  1.2764, -0.7469],\n",
      "        [ 1.6199,  1.0891,  0.2063],\n",
      "        [-0.9459,  1.0846, -0.7105],\n",
      "        [ 1.0909,  0.0351,  0.1965]])\n"
     ]
    }
   ],
   "source": [
    "# すでにあるテンソルを再利用\n",
    "x = torch.tensor([])\n",
    "x =x .new_ones(5, 3, dtype=torch.double)\n",
    "print(x)\n",
    "\n",
    "# すでにあるテンソルの形を維持したまま、標準正規分布から要素を初期化する\n",
    "x = torch.randn_like(x, dtype=torch.float)\n",
    "print(x)"
   ]
  },
  {
   "cell_type": "code",
   "execution_count": 34,
   "metadata": {},
   "outputs": [
    {
     "name": "stdout",
     "output_type": "stream",
     "text": [
      "torch.Size([5, 3])\n",
      "5 3\n"
     ]
    }
   ],
   "source": [
    "# size()メソッドで、テンソルの形を確認できる。タプルとして扱うことができる\n",
    "print(x.size())\n",
    "\n",
    "row, col = x.size()\n",
    "print(row, col)"
   ]
  },
  {
   "cell_type": "code",
   "execution_count": 40,
   "metadata": {},
   "outputs": [
    {
     "name": "stdout",
     "output_type": "stream",
     "text": [
      "tensor([[0.2819, 0.7366, 0.5629],\n",
      "        [1.1429, 1.2155, 1.0027],\n",
      "        [1.3398, 0.3298, 1.6270],\n",
      "        [1.0485, 1.0844, 0.8225],\n",
      "        [0.6637, 1.2504, 1.2567]])\n",
      "tensor([[0.0447, 0.2592, 0.0076],\n",
      "        [0.9984, 0.9092, 0.7719],\n",
      "        [0.5751, 0.2712, 0.9789],\n",
      "        [0.9073, 0.9798, 0.8057],\n",
      "        [0.3744, 0.4343, 0.6920]])\n",
      "tensor([[0.0447, 0.2592, 0.0076],\n",
      "        [0.9984, 0.9092, 0.7719],\n",
      "        [0.5751, 0.2712, 0.9789],\n",
      "        [0.9073, 0.9798, 0.8057],\n",
      "        [0.3744, 0.4343, 0.6920]])\n"
     ]
    }
   ],
   "source": [
    "# テンソルの和を+でとる方法\n",
    "x = torch.rand(5, 3)\n",
    "y = torch.rand(5, 3)\n",
    "print(x + y)\n",
    "\n",
    "# 和の出力を引数にとる方法\n",
    "result = torch.empty(5, 3)\n",
    "torch.add(x, y, out=result)\n",
    "print(x)\n",
    "\n",
    "# 加える値を引数にとる方法\n",
    "result = y.add_(x)\n",
    "print(x)"
   ]
  },
  {
   "cell_type": "code",
   "execution_count": 43,
   "metadata": {},
   "outputs": [
    {
     "name": "stdout",
     "output_type": "stream",
     "text": [
      "tensor([[0.6708, 0.0255, 0.0998],\n",
      "        [0.2004, 0.0819, 0.5331],\n",
      "        [0.0993, 0.3034, 0.0075],\n",
      "        [0.2796, 0.0449, 0.8617],\n",
      "        [0.3664, 0.1044, 0.5142]])\n",
      "tensor([0.0255, 0.0819, 0.3034, 0.0449, 0.1044])\n"
     ]
    }
   ],
   "source": [
    "x = torch.rand(5, 3)\n",
    "print(x)\n",
    "# numpyのようにスライスが使える\n",
    "print(x[:, 1])"
   ]
  },
  {
   "cell_type": "code",
   "execution_count": 45,
   "metadata": {},
   "outputs": [
    {
     "name": "stdout",
     "output_type": "stream",
     "text": [
      "torch.Size([4, 4]) torch.Size([16]) torch.Size([2, 8])\n"
     ]
    }
   ],
   "source": [
    "# viewでサイズを変更できる。-1を指定すると要素数を自動で調節してくれる\n",
    "x = torch.randn(4, 4)\n",
    "y= x.view(16)\n",
    "z = x.view(-1, 8)\n",
    "print(x.size(), y.size(), z.size())"
   ]
  },
  {
   "cell_type": "code",
   "execution_count": 55,
   "metadata": {},
   "outputs": [
    {
     "data": {
      "text/plain": [
       "-1.9076732397079468"
      ]
     },
     "execution_count": 55,
     "metadata": {},
     "output_type": "execute_result"
    }
   ],
   "source": [
    "# itemで特定の要素をとりだす\n",
    "x = torch.randn(2, 3)\n",
    "x[1,1].item()"
   ]
  },
  {
   "cell_type": "code",
   "execution_count": 61,
   "metadata": {},
   "outputs": [
    {
     "name": "stdout",
     "output_type": "stream",
     "text": [
      "[1. 1. 1. 1. 1.]\n",
      "tensor([2., 2., 2., 2., 2.])\n",
      "[2. 2. 2. 2. 2.]\n",
      "[2. 2. 2. 2. 2.]\n",
      "tensor([2., 2., 2., 2., 2.], dtype=torch.float64)\n"
     ]
    }
   ],
   "source": [
    "# numpy()メソッドでnunpy型に変更できる\n",
    "x = torch.ones(5)\n",
    "y = x.numpy()\n",
    "print(y)\n",
    "\n",
    "# torch と　numpyの型の違い\n",
    "x.add_(1)\n",
    "print(x)\n",
    "print(y)\n",
    "\n",
    "# torch.from_num()でnumpy型をtensor型へ変更できる\n",
    "a = np.ones(5)\n",
    "b = torch.from_numpy(a)\n",
    "np.add(a, 1, out=a)\n",
    "print(a)\n",
    "print(b)"
   ]
  },
  {
   "cell_type": "code",
   "execution_count": 63,
   "metadata": {},
   "outputs": [
    {
     "name": "stdout",
     "output_type": "stream",
     "text": [
      "tensor([3., 3., 3., 3., 3.], device='cuda:0')\n",
      "tensor([3., 3., 3., 3., 3.]) torch.float64\n"
     ]
    }
   ],
   "source": [
    "if torch.cuda.is_available():\n",
    "    device = torch.device('cuda') # CUDAデバイスのオブジェクトを作成\n",
    "    y = torch.ones_like(x, device=device) # 直接GPUにテンソルを作成\n",
    "    x = x.to(device) # to(device)で変数を指定のデバイスにのせられる\n",
    "    z = x + y\n",
    "    print(z)\n",
    "    print(z.to('cpu'), torch.double)"
   ]
  },
  {
   "cell_type": "markdown",
   "metadata": {},
   "source": [
    "### バックプロパゲーションの説明  \n",
    "https://pytorch.org/tutorials/beginner/blitz/autograd_tutorial.html http://aidiary.hatenablog.com/entry/20180129/1517233796"
   ]
  },
  {
   "cell_type": "code",
   "execution_count": 71,
   "metadata": {},
   "outputs": [
    {
     "name": "stdout",
     "output_type": "stream",
     "text": [
      "tensor([[1., 1.],\n",
      "        [1., 1.]], requires_grad=True)\n",
      "tensor([[3., 3.],\n",
      "        [3., 3.]], grad_fn=<AddBackward0>)\n",
      "tensor([[27., 27.],\n",
      "        [27., 27.]], grad_fn=<MulBackward0>) tensor(27., grad_fn=<MeanBackward0>)\n",
      "tensor([[4.5000, 4.5000],\n",
      "        [4.5000, 4.5000]])\n"
     ]
    }
   ],
   "source": [
    "# require_grad = True　としてテンソルを作成すると、計算を追うことができる\n",
    "x = torch.ones(2, 2, requires_grad=True)\n",
    "print(x)\n",
    "\n",
    "# grad_fnを属性に持つ\n",
    "y = x + 2\n",
    "print(y)\n",
    "\n",
    "z = y * y * 3\n",
    "out = z.mean()\n",
    "print(z, out)\n",
    "\n",
    "#  勾配伝搬を行う\n",
    "out.backward()\n",
    "print(x.grad)"
   ]
  },
  {
   "cell_type": "code",
   "execution_count": 73,
   "metadata": {},
   "outputs": [
    {
     "name": "stdout",
     "output_type": "stream",
     "text": [
      "True\n",
      "False\n"
     ]
    }
   ],
   "source": [
    "# with torch.no_grad() でラッピングすることで勾配計算を止められる\n",
    "x = torch.randn(3, requires_grad=True)\n",
    "print((x**2).requires_grad)\n",
    "\n",
    "with torch.no_grad():\n",
    "    print((x**2).requires_grad)"
   ]
  },
  {
   "cell_type": "code",
   "execution_count": 76,
   "metadata": {},
   "outputs": [
    {
     "name": "stdout",
     "output_type": "stream",
     "text": [
      "False\n",
      "tensor(True)\n"
     ]
    }
   ],
   "source": [
    "# detach で同じ要素で、勾配を求めない新しいテンソルを作成できる。\n",
    "x = torch.randn(3, requires_grad=True)\n",
    "y = x.detach()\n",
    "print(y.requires_grad)\n",
    "print(x.eq(y).all())"
   ]
  },
  {
   "cell_type": "markdown",
   "metadata": {},
   "source": [
    "## ニューラルネットワークの学習\n",
    "https://pytorch.org/tutorials/beginner/blitz/neural_networks_tutorial.html  \n",
    "\n",
    "nn.Moduleを継承する。forwardメソッド(入力xからネットワークを出力させる)を定義する必要がある  \n",
    "backwardメソッドはautogradを使用すると、自動的に定義してくれる  \n",
    "tourch.nnはミニバッチのみに対応する。nn.Conv2dなら nSamples x nChannels x Height x Widthを受け付ける  \n",
    "もし１つのサンプルだけなら、input.unsqueeze(0)でfake batch dimensionを加える"
   ]
  },
  {
   "cell_type": "markdown",
   "metadata": {},
   "source": [
    "### モデルの作成"
   ]
  },
  {
   "cell_type": "code",
   "execution_count": 17,
   "metadata": {},
   "outputs": [
    {
     "name": "stdout",
     "output_type": "stream",
     "text": [
      "Net(\n",
      "  (conv1): Conv2d(1, 6, kernel_size=(3, 3), stride=(1, 1))\n",
      "  (conv2): Conv2d(6, 16, kernel_size=(3, 3), stride=(1, 1))\n",
      "  (fc1): Linear(in_features=576, out_features=120, bias=True)\n",
      "  (fc2): Linear(in_features=120, out_features=84, bias=True)\n",
      "  (fc3): Linear(in_features=84, out_features=10, bias=True)\n",
      ")\n"
     ]
    }
   ],
   "source": [
    "import torch.nn as nn\n",
    "import torch.nn.functional as F\n",
    "\n",
    "# nn.Module - Neural network module.\n",
    "class Net(nn.Module):\n",
    "    def __init__(self):\n",
    "        super(Net, self).__init__()\n",
    "        # 1 input image channel, 6 output channels, 3x3 square convolution\n",
    "        # kernel\n",
    "        self.conv1 = nn.Conv2d(1, 6, 3)\n",
    "        self.conv2 = nn.Conv2d(6, 16, 3)\n",
    "\n",
    "        # an affine operation: y = Wx + b\n",
    "        # 畳み込み層の出力をflatにさせる\n",
    "        self.fc1 = nn.Linear(16*6*6, 120) # 6*6 from image dimension\n",
    "        self.fc2 = nn.Linear(120, 84)\n",
    "        self.fc3 = nn.Linear(84, 10) #10 クラスの分類タスク\n",
    "\n",
    "    def forward(self, x):\n",
    "        # Max pooling over a (2, 2) window\n",
    "        x = F.max_pool2d(F.relu(self.conv1(x)), (2, 2))\n",
    "        x = F.max_pool2d(F.relu(self.conv2(x)), 2)\n",
    "        x = x.view(-1, self.num_flat_features(x)) # 畳み込み層の出力を全結合層に入力するために変換\n",
    "        x = F.relu(self.fc1(x))\n",
    "        x = F.relu(self.fc2(x))\n",
    "        x = self.fc3(x)\n",
    "        return x\n",
    "    \n",
    "    # 畳み込み層の出力のフィルタをflattenさせる\n",
    "    def num_flat_features(self, x):\n",
    "        size = x.size()[1:] # バッチ以外の次元を取得\n",
    "        num_features = 1\n",
    "        for s in size:\n",
    "            num_features *=s\n",
    "        return num_features\n",
    "        \n",
    "net = Net()\n",
    "print(net)"
   ]
  },
  {
   "cell_type": "markdown",
   "metadata": {},
   "source": [
    "### フォワード、バックフォーワードの計算"
   ]
  },
  {
   "cell_type": "code",
   "execution_count": 33,
   "metadata": {},
   "outputs": [
    {
     "name": "stdout",
     "output_type": "stream",
     "text": [
      "10\n",
      "torch.Size([6, 1, 3, 3])\n",
      "tensor([[-0.0876, -0.0280,  0.0126,  0.1282,  0.0815,  0.0443,  0.1057, -0.1603,\n",
      "         -0.0625, -0.0144]], grad_fn=<AddmmBackward>)\n"
     ]
    }
   ],
   "source": [
    "# ネットワークの学習可能なパラメタを取得\n",
    "params = list(net.parameters())\n",
    "print(len(params))\n",
    "print(params[0].size()) # conv1's .weight\n",
    "\n",
    "# mnistのサイズに合わせる\n",
    "input = torch.randn(1, 1, 32, 32)\n",
    "out = net(input)\n",
    "print(out) # 出力は最後の層の出力のテンソル\n",
    "\n",
    "# 勾配の初期化\n",
    "net.zero_grad()\n",
    "out.backward(torch.randn(1, 10))"
   ]
  },
  {
   "cell_type": "markdown",
   "metadata": {},
   "source": [
    "### 損失関数の計算\n",
    "https://pytorch.org/docs/stable/nn.html  \n",
    "損失関数は(output, target)の形を受け付ける"
   ]
  },
  {
   "cell_type": "code",
   "execution_count": 28,
   "metadata": {},
   "outputs": [
    {
     "name": "stdout",
     "output_type": "stream",
     "text": [
      "torch.Size([1, 10]) torch.Size([10])\n",
      "tensor(0.6030, grad_fn=<MseLossBackward>)\n",
      "<MseLossBackward object at 0x7fe354047128>\n",
      "<AddmmBackward object at 0x7fe354047208>\n",
      "<AccumulateGrad object at 0x7fe354047128>\n",
      "conv1.bias.grad before backward\n",
      "tensor([0., 0., 0., 0., 0., 0.])\n",
      "conv1.bias.grad after backward\n",
      "tensor([-0.0057,  0.0034,  0.0013,  0.0100,  0.0052,  0.0237])\n"
     ]
    }
   ],
   "source": [
    "output = net(input)\n",
    "target = torch.randn(10) # a dummy target\n",
    "print(output.size(), target.size())\n",
    "target = target.view(1, -1) # outputと出力を揃える\n",
    "\n",
    "\n",
    "# MSE\n",
    "criterion = nn.MSELoss()\n",
    "\n",
    "# 損失関数\n",
    "loss = criterion(output, target)\n",
    "print(loss)\n",
    "\n",
    "# backward は損失関数→全結合層→ReLUと戻っていく\n",
    "print(loss.grad_fn)  # MSELoss\n",
    "print(loss.grad_fn.next_functions[0][0])  # Linear\n",
    "print(loss.grad_fn.next_functions[0][0].next_functions[0][0])  # ReLU\n",
    "\n",
    "# 勾配の初期化　\n",
    "net.zero_grad()\n",
    "\n",
    "print('conv1.bias.grad before backward')\n",
    "print(net.conv1.bias.grad)\n",
    "\n",
    "loss.backward()\n",
    "\n",
    "print('conv1.bias.grad after backward')\n",
    "print(net.conv1.bias.grad)"
   ]
  },
  {
   "cell_type": "markdown",
   "metadata": {},
   "source": [
    "### 重み更新\n",
    "最もシンプルな更新であるSGDは　weight = weight - learning_rate * gradient"
   ]
  },
  {
   "cell_type": "code",
   "execution_count": 30,
   "metadata": {},
   "outputs": [],
   "source": [
    "# スクラッチでSGD実装\n",
    "learning_rate = 0.01\n",
    "for f in net.parameters():\n",
    "    f.data.sub_(f.grad.data * learning_rate)"
   ]
  },
  {
   "cell_type": "code",
   "execution_count": 35,
   "metadata": {},
   "outputs": [],
   "source": [
    "# PyTorchのoptimizerによるSGD実装\n",
    "import torch.optim as optim\n",
    "\n",
    "# オプティマイザを作成\n",
    "optimizer = optim.SGD(net.parameters(), lr=0.01)\n",
    "\n",
    "optimizer.zero_grad() # 勾配の初期化\n",
    "output = net(input) # 順伝搬\n",
    "loss =criterion(output, target) # 損失を計算\n",
    "loss.backward() # 勾配の計算\n",
    "\n",
    "optimizer.step()  # 重み更新の実行"
   ]
  },
  {
   "cell_type": "code",
   "execution_count": null,
   "metadata": {},
   "outputs": [],
   "source": []
  },
  {
   "cell_type": "markdown",
   "metadata": {},
   "source": [
    "## CIFAR10のクラス分類\n",
    "https://pytorch.org/tutorials/beginner/blitz/cifar10_tutorial.html  \n",
    "実際にCNNで学習、検証を行う。torchvisionで有名な画像データセットを利用することができる  \n",
    "https://qiita.com/kazetof/items/6a72926b9f8cd44c218e"
   ]
  },
  {
   "cell_type": "markdown",
   "metadata": {},
   "source": [
    "### DataLoderの作成\n",
    "https://pytorch.org/docs/stable/data.html  \n",
    "data <- transform <- dataloader の順番に作成  \n",
    "DataLoader(dataset, batch_size=1, shuffle=False, sampler=None,\n",
    "           batch_sampler=None, num_workers=0, collate_fn=None,\n",
    "           pin_memory=False, drop_last=False, timeout=0,\n",
    "           worker_init_fn=None)"
   ]
  },
  {
   "cell_type": "code",
   "execution_count": 162,
   "metadata": {},
   "outputs": [
    {
     "name": "stdout",
     "output_type": "stream",
     "text": [
      "Files already downloaded and verified\n",
      "Files already downloaded and verified\n"
     ]
    }
   ],
   "source": [
    "import torch, torchvision\n",
    "import torchvision.transforms as transforms\n",
    "\n",
    "# 画像のダウンロード\n",
    "trainset = torchvision.datasets.CIFAR10(root='./cifar10', train=True, \n",
    "                                                                       download=True, transform=transform)\n",
    "\n",
    "testset = torchvision.datasets.CIFAR10(root='./cifar10', train=False,\n",
    "                                                                       download=True, transform=transform)\n",
    "\n",
    "\n",
    "# データ処理のtransformクラスの作成\n",
    "transform = transforms.Compose(\n",
    "        [transforms.ToTensor(), # Tensor 型に\n",
    "          transforms.Normalize((0.5, 0.5, 0.5), (0.5, 0.5, 0.5))]) # 標準化\n",
    "\n",
    "# 画像と正解ラベルのミニバッチを返すdataloaderの作成\n",
    "# dataset\n",
    "trainloader = torch.utils.data.DataLoader(trainset, batch_size=4,\n",
    "                                                                         shuffle=True, num_workers=2)\n",
    "\n",
    "testloader = torch.utils.data.DataLoader(testset, batch_size=4,\n",
    "                                                                        shuffle=False, num_workers=2)\n",
    "\n",
    "classes = ('plane', 'car', 'bird', 'cat',\n",
    "           'deer', 'dog', 'frog', 'horse', 'ship', 'truck')"
   ]
  },
  {
   "cell_type": "code",
   "execution_count": 145,
   "metadata": {},
   "outputs": [
    {
     "data": {
      "image/png": "[encoded data removed]",
      "text/plain": [
       "<Figure size 432x288 with 1 Axes>"
      ]
     },
     "metadata": {
      "needs_background": "light"
     },
     "output_type": "display_data"
    },
    {
     "name": "stdout",
     "output_type": "stream",
     "text": [
      "truck  ship  bird truck\n"
     ]
    },
    {
     "data": {
      "image/png": "[encoded data removed]",
      "text/plain": [
       "<Figure size 432x288 with 1 Axes>"
      ]
     },
     "metadata": {
      "needs_background": "light"
     },
     "output_type": "display_data"
    }
   ],
   "source": [
    "def imshow(img):\n",
    "    img = img / 2 + 0.5 # plt.imshowの入力が[0,1]なので、合わせてずらしている\n",
    "    npimg = img.numpy()\n",
    "    # (channel, width, height)の並びを(width, height, channel)の並びに変更させる\n",
    "    plt.imshow(np.transpose(npimg, (1, 2, 0)))\n",
    "    plt.show()\n",
    "\n",
    "# trainloader はバッチサイズ4なので、　４枚の画像とラベルを返す\n",
    "trainiter = iter(trainloader)\n",
    "images, labels = trainiter.next()\n",
    "\n",
    "# torchvision.utils.make_gridで画像を１枚に並べられる. nrowで行あたりの画像数を指定\n",
    "imshow(torchvision.utils.make_grid(images,nrow=4))\n",
    "print(' '.join('%5s' % classes[labels[j]] for j in range(4)))\n",
    "imshow(images[0])"
   ]
  },
  {
   "cell_type": "markdown",
   "metadata": {},
   "source": [
    "### モデルの定義"
   ]
  },
  {
   "cell_type": "code",
   "execution_count": 146,
   "metadata": {},
   "outputs": [],
   "source": [
    "import torch.nn as nn\n",
    "import torch.nn.functional as F\n",
    "\n",
    "class Net(nn.Module):\n",
    "    def __init__(self):\n",
    "        super(Net, self).__init__()\n",
    "            \n",
    "        # conv2d(インプットのチャンネルの数、アウトプットのチャンネルの数、カーネルサイズ)\n",
    "        # https://pytorch.org/docs/master/nn.html#torch.nn.Conv2d\n",
    "        self.conv1 = nn.Conv2d(in_channels=3, out_channels=6, kernel_size=5)\n",
    "        \n",
    "        # pool(kernel_size, stride=None, padding=0)\n",
    "        # https://pytorch.org/docs/master/nn.html#torch.nn.MaxPool2d\n",
    "        self.pool = nn.MaxPool2d(2, 2)\n",
    "        \n",
    "        self.conv2 = nn.Conv2d(6, 16, 5)\n",
    "        self.fc1 = nn.Linear(16 * 5 *5, 120)\n",
    "        self.fc2 = nn.Linear(120, 84)\n",
    "        self.fc3 = nn.Linear(84, 10)\n",
    "        \n",
    "    # 順伝搬\n",
    "    def forward(self, x):\n",
    "        x = self.pool(F.relu(self.conv1(x)))\n",
    "        x = self.pool(F.relu(self.conv2(x)))\n",
    "        x = x.view(-1, 16 * 5 *5)\n",
    "        x = F.relu(self.fc1(x))\n",
    "        x = F.relu(self.fc2(x))\n",
    "        x = self.fc3(x)\n",
    "        return x\n",
    "\n",
    "net = Net()"
   ]
  },
  {
   "cell_type": "code",
   "execution_count": 147,
   "metadata": {},
   "outputs": [
    {
     "name": "stdout",
     "output_type": "stream",
     "text": [
      "Parameter containing:\n",
      "tensor([[[[-0.3095, -0.1380, -0.0904],\n",
      "          [-0.2800, -0.0378,  0.0996],\n",
      "          [-0.0109, -0.2562,  0.1471]]],\n",
      "\n",
      "\n",
      "        [[[-0.1761, -0.3114,  0.1285],\n",
      "          [-0.2515,  0.0139, -0.1866],\n",
      "          [-0.1420, -0.1050, -0.1126]]]], requires_grad=True)\n",
      "torch.Size([4, 3, 32, 32])\n",
      "<class 'torch.Tensor'>\n"
     ]
    },
    {
     "data": {
      "image/png": "[encoded data removed]",
      "text/plain": [
       "<Figure size 432x288 with 1 Axes>"
      ]
     },
     "metadata": {
      "needs_background": "light"
     },
     "output_type": "display_data"
    },
    {
     "name": "stdout",
     "output_type": "stream",
     "text": [
      "torch.Size([4, 1, 32, 32])\n"
     ]
    },
    {
     "data": {
      "image/png": "[encoded data removed]",
      "text/plain": [
       "<Figure size 432x288 with 1 Axes>"
      ]
     },
     "metadata": {
      "needs_background": "light"
     },
     "output_type": "display_data"
    }
   ],
   "source": [
    "# 畳み込み層を作成した時点で、0付近のランダムなパラメタを入れて準備してくれる\n",
    "conv = nn.Conv2d(1, 2, 3)\n",
    "print(conv.weight)\n",
    "\n",
    "# 畳み込みの様子を可視化\n",
    "images, labels = trainiter.next()\n",
    "print(images.size())\n",
    "print(type(images))\n",
    "image_plot = images[0][1].numpy()\n",
    "plt.imshow(image_plot, cmap='Greys', interpolation='nearest')\n",
    "plt.show()\n",
    "\n",
    "# モデルの定義\n",
    "img_input = torch.autograd.Variable(images)\n",
    "conv = nn.Conv2d(3, 1, 3, padding=1)\n",
    "pool = nn.MaxPool2d(3, padding=1, stride=1)\n",
    "\n",
    "# フォワード\n",
    "conv_output = conv(img_input)\n",
    "pool_output = pool(conv_output)\n",
    "print(pool_output.size())\n",
    "\n",
    "# プロット\n",
    "conv_plot = conv_output[0][0].data.numpy()\n",
    "plt.imshow(conv_plot, cmap='Greys', interpolation='nearest')\n",
    "plt.show()"
   ]
  },
  {
   "cell_type": "markdown",
   "metadata": {},
   "source": [
    "### 損失関数とオプティマイザの定義"
   ]
  },
  {
   "cell_type": "code",
   "execution_count": 148,
   "metadata": {},
   "outputs": [],
   "source": [
    "import torch.optim as optim\n",
    "\n",
    "# 損失関数：交差エントロピー\n",
    "criterion = nn.CrossEntropyLoss()\n",
    "\n",
    "# オプティマイザ:momentum SGD\n",
    "# net.parameters()でモデルのパラメータをジェネレータにして返す\n",
    "optimizer = optim.SGD(net.parameters(), lr=0.001, momentum=0.9)"
   ]
  },
  {
   "cell_type": "code",
   "execution_count": 149,
   "metadata": {},
   "outputs": [
    {
     "name": "stdout",
     "output_type": "stream",
     "text": [
      "{'defaults': {'lr': 0.001, 'momentum': 0.9, 'dampening': 0, 'weight_decay': 0, 'nesterov': False}, 'state': defaultdict(<class 'dict'>, {}), 'param_groups': [{'params': [Parameter containing:\n",
      "tensor([[[[-0.0010,  0.0044,  0.0317,  0.1061, -0.0666],\n",
      "          [ 0.0758,  0.0612, -0.1101,  0.1033, -0.0246],\n",
      "          [-0.0449,  0.1102,  0.0623, -0.1008, -0.0163],\n",
      "          [-0.0238,  0.0529, -0.0199,  0.0237,  0.1133],\n",
      "          [ 0.0576, -0.0868,  0.0842, -0.0078, -0.0834]],\n",
      "\n",
      "         [[-0.0440, -0.0431, -0.0163,  0.0109,  0.0525],\n",
      "          [-0.0400, -0.0044,  0.0077, -0.0259, -0.0756],\n",
      "          [ 0.0636,  0.0198,  0.0713,  0.0907,  0.0678],\n",
      "          [-0.0937, -0.0051, -0.0153, -0.0655,  0.0221],\n",
      "          [-0.0989, -0.0764,  0.1149, -0.0841, -0.0464]],\n",
      "\n",
      "         [[-0.0936, -0.1151, -0.0859,  0.0453,  0.0515],\n",
      "          [-0.0966,  0.0068, -0.0220,  0.1152, -0.0875],\n",
      "          [-0.0325,  0.0026, -0.0108, -0.0155,  0.0871],\n",
      "          [-0.0224, -0.0766, -0.1036,  0.0760,  0.0564],\n",
      "          [ 0.1132,  0.0508, -0.0307,  0.0707, -0.0226]]],\n",
      "\n",
      "\n",
      "        [[[ 0.1074, -0.0287,  0.0324, -0.0440, -0.0944],\n",
      "          [ 0.1034, -0.0541,  0.0621,  0.0326,  0.0296],\n",
      "          [ 0.0900, -0.0627,  0.0559, -0.0751,  0.1149],\n",
      "          [-0.0293,  0.0485, -0.0998,  0.0134, -0.0554],\n",
      "          [ 0.0575,  0.0474, -0.0301, -0.0545, -0.0433]],\n",
      "\n",
      "         [[ 0.1005, -0.0140, -0.1143, -0.1049,  0.0242],\n",
      "          [ 0.0260,  0.0263, -0.0762,  0.0303, -0.1105],\n",
      "          [ 0.0874, -0.0326, -0.0338, -0.0249,  0.0148],\n",
      "          [ 0.0780, -0.0736,  0.0696, -0.1048, -0.0145],\n",
      "          [ 0.0465, -0.0447,  0.0664,  0.0149,  0.0224]],\n",
      "\n",
      "         [[ 0.0515,  0.0113, -0.0525, -0.0572,  0.0570],\n",
      "          [ 0.1019, -0.1019,  0.0433,  0.0672, -0.0406],\n",
      "          [-0.0164, -0.0019, -0.0817, -0.0518, -0.0776],\n",
      "          [ 0.0355, -0.0395, -0.1087, -0.0252, -0.0871],\n",
      "          [-0.0486, -0.0519, -0.0510,  0.0276,  0.0282]]],\n",
      "\n",
      "\n",
      "        [[[ 0.0191,  0.1001, -0.0450, -0.0246, -0.0667],\n",
      "          [ 0.0023, -0.0471, -0.0463, -0.0097, -0.0837],\n",
      "          [-0.0002,  0.0484,  0.0054, -0.0691,  0.0427],\n",
      "          [ 0.0769,  0.1018,  0.0764, -0.0774, -0.1092],\n",
      "          [ 0.0011, -0.0557,  0.1063,  0.0671,  0.0186]],\n",
      "\n",
      "         [[ 0.1049, -0.0928,  0.1071, -0.1117,  0.0832],\n",
      "          [ 0.0135, -0.0960,  0.0613, -0.0556, -0.0912],\n",
      "          [ 0.0769,  0.0541, -0.0429, -0.0259,  0.0229],\n",
      "          [-0.0284, -0.0515, -0.0620,  0.0984, -0.0108],\n",
      "          [ 0.0565, -0.0593, -0.1026,  0.0247,  0.0715]],\n",
      "\n",
      "         [[-0.0853,  0.1065,  0.1065,  0.0507,  0.0799],\n",
      "          [-0.0936, -0.0263,  0.0787,  0.0423,  0.0208],\n",
      "          [-0.0015,  0.0492, -0.0459,  0.0544,  0.0121],\n",
      "          [ 0.0109, -0.0776,  0.0147,  0.0362,  0.0014],\n",
      "          [-0.0243, -0.0590, -0.0403,  0.0425,  0.0702]]],\n",
      "\n",
      "\n",
      "        [[[-0.0294,  0.0833,  0.0702, -0.0778,  0.0743],\n",
      "          [ 0.1044,  0.0123, -0.0928,  0.0203, -0.0262],\n",
      "          [ 0.0845,  0.0318,  0.1049,  0.0842, -0.0834],\n",
      "          [-0.0293,  0.0112,  0.0662,  0.0997, -0.0085],\n",
      "          [ 0.0560, -0.0397,  0.0492, -0.0600, -0.0047]],\n",
      "\n",
      "         [[ 0.0398, -0.0633,  0.0362, -0.0743, -0.0696],\n",
      "          [-0.0444,  0.0606,  0.0700,  0.0616,  0.1036],\n",
      "          [-0.1025, -0.0072,  0.0120, -0.0855, -0.0341],\n",
      "          [-0.0252, -0.1110,  0.0678,  0.0312,  0.0652],\n",
      "          [-0.0546,  0.0744, -0.0769,  0.0390,  0.0618]],\n",
      "\n",
      "         [[-0.0752, -0.0839,  0.0124,  0.0266, -0.0563],\n",
      "          [-0.0695,  0.0197, -0.0529,  0.0553,  0.1088],\n",
      "          [-0.0378,  0.0534, -0.0723,  0.0560,  0.0730],\n",
      "          [ 0.0923,  0.0685, -0.0163,  0.0009,  0.0635],\n",
      "          [ 0.0475, -0.0857, -0.0949,  0.0827,  0.0207]]],\n",
      "\n",
      "\n",
      "        [[[ 0.0191,  0.0175,  0.1012,  0.0720, -0.0841],\n",
      "          [ 0.0915, -0.0847, -0.0951, -0.0783,  0.1152],\n",
      "          [-0.0970,  0.0161, -0.0079, -0.0764,  0.0877],\n",
      "          [ 0.1115, -0.0231,  0.0420, -0.0793, -0.0301],\n",
      "          [-0.0408, -0.0962, -0.0105, -0.0517,  0.0363]],\n",
      "\n",
      "         [[-0.0874, -0.0502, -0.0412,  0.0558,  0.0825],\n",
      "          [ 0.0765,  0.0596, -0.0630, -0.0616,  0.1058],\n",
      "          [ 0.1136,  0.0811, -0.0774, -0.0647,  0.1026],\n",
      "          [ 0.0724, -0.1145, -0.0116,  0.0187,  0.0205],\n",
      "          [-0.0587, -0.1029, -0.0998,  0.0991,  0.0037]],\n",
      "\n",
      "         [[-0.0526, -0.0822, -0.0976, -0.0003,  0.0398],\n",
      "          [-0.0607, -0.0381,  0.0507, -0.0912, -0.0554],\n",
      "          [-0.0282,  0.0015,  0.0699,  0.0696, -0.0802],\n",
      "          [-0.0766, -0.1099,  0.0203, -0.0810,  0.1092],\n",
      "          [-0.1120, -0.0834,  0.0526, -0.0582, -0.0662]]],\n",
      "\n",
      "\n",
      "        [[[-0.0876, -0.0779, -0.0148,  0.0052, -0.0735],\n",
      "          [ 0.0002,  0.1130,  0.0886, -0.0233,  0.1146],\n",
      "          [ 0.0227,  0.0630,  0.0990, -0.0549,  0.0932],\n",
      "          [ 0.0700, -0.0568, -0.0278,  0.0433,  0.0425],\n",
      "          [ 0.0163, -0.0351,  0.0822, -0.0643,  0.0486]],\n",
      "\n",
      "         [[ 0.0172,  0.0732, -0.0187,  0.0903, -0.0631],\n",
      "          [ 0.0270, -0.0734, -0.0332, -0.0400, -0.1007],\n",
      "          [ 0.0940, -0.0153, -0.0909,  0.0918, -0.0315],\n",
      "          [ 0.0654, -0.0228,  0.0676,  0.1010, -0.0166],\n",
      "          [-0.0239, -0.0916, -0.0044, -0.0277, -0.0176]],\n",
      "\n",
      "         [[-0.0834,  0.0633, -0.0765,  0.0843,  0.0638],\n",
      "          [ 0.0526, -0.0601,  0.0724, -0.0188, -0.0579],\n",
      "          [-0.0032,  0.0031, -0.0657, -0.0818,  0.0586],\n",
      "          [ 0.0393,  0.0189,  0.0387, -0.0401,  0.0886],\n",
      "          [ 0.0560,  0.0710, -0.1041,  0.0606,  0.0038]]]], requires_grad=True), Parameter containing:\n",
      "tensor([-0.0334,  0.0836,  0.0068,  0.0624, -0.0274, -0.0599],\n",
      "       requires_grad=True), Parameter containing:\n",
      "tensor([[[[ 0.0060, -0.0129,  0.0345, -0.0465,  0.0158],\n",
      "          [ 0.0594, -0.0672, -0.0462, -0.0703,  0.0413],\n",
      "          [-0.0195, -0.0001, -0.0747, -0.0075, -0.0313],\n",
      "          [-0.0584, -0.0354,  0.0641, -0.0322,  0.0202],\n",
      "          [-0.0506, -0.0245,  0.0142, -0.0030,  0.0591]],\n",
      "\n",
      "         [[-0.0547,  0.0556, -0.0662, -0.0811, -0.0762],\n",
      "          [-0.0397,  0.0506, -0.0036,  0.0527,  0.0151],\n",
      "          [ 0.0798,  0.0083, -0.0480, -0.0772, -0.0113],\n",
      "          [-0.0382, -0.0672, -0.0072,  0.0227,  0.0439],\n",
      "          [ 0.0274,  0.0708, -0.0047, -0.0808, -0.0744]],\n",
      "\n",
      "         [[ 0.0786, -0.0307, -0.0110,  0.0177,  0.0498],\n",
      "          [-0.0592, -0.0246, -0.0508, -0.0141, -0.0355],\n",
      "          [-0.0048,  0.0807,  0.0405, -0.0631, -0.0077],\n",
      "          [-0.0602, -0.0597,  0.0515,  0.0469,  0.0683],\n",
      "          [ 0.0208, -0.0219, -0.0766, -0.0126,  0.0036]],\n",
      "\n",
      "         [[-0.0343,  0.0063,  0.0651,  0.0758,  0.0558],\n",
      "          [-0.0710,  0.0689,  0.0137,  0.0565, -0.0153],\n",
      "          [ 0.0312, -0.0796,  0.0100, -0.0336, -0.0590],\n",
      "          [ 0.0372, -0.0499,  0.0700, -0.0177, -0.0019],\n",
      "          [-0.0153,  0.0310,  0.0699, -0.0389,  0.0131]],\n",
      "\n",
      "         [[ 0.0311, -0.0495, -0.0720, -0.0307, -0.0732],\n",
      "          [ 0.0202,  0.0726,  0.0422, -0.0757,  0.0715],\n",
      "          [ 0.0622,  0.0424,  0.0133, -0.0289,  0.0403],\n",
      "          [ 0.0162, -0.0475,  0.0719, -0.0142, -0.0677],\n",
      "          [-0.0002, -0.0463,  0.0310,  0.0697,  0.0044]],\n",
      "\n",
      "         [[-0.0636, -0.0739, -0.0299, -0.0141, -0.0297],\n",
      "          [-0.0615,  0.0393,  0.0368,  0.0765,  0.0047],\n",
      "          [ 0.0666, -0.0743,  0.0213, -0.0691,  0.0519],\n",
      "          [ 0.0673, -0.0255,  0.0585,  0.0436,  0.0527],\n",
      "          [-0.0581, -0.0481, -0.0534, -0.0690, -0.0102]]],\n",
      "\n",
      "\n",
      "        [[[-0.0696, -0.0696,  0.0295, -0.0448,  0.0699],\n",
      "          [ 0.0434, -0.0132, -0.0659, -0.0787,  0.0613],\n",
      "          [-0.0776,  0.0227,  0.0365, -0.0197,  0.0771],\n",
      "          [ 0.0568,  0.0804, -0.0555, -0.0766,  0.0565],\n",
      "          [-0.0208, -0.0589, -0.0654, -0.0274,  0.0266]],\n",
      "\n",
      "         [[ 0.0174, -0.0379, -0.0225, -0.0240, -0.0171],\n",
      "          [ 0.0244,  0.0465,  0.0375, -0.0522,  0.0618],\n",
      "          [-0.0371,  0.0654, -0.0073, -0.0163, -0.0721],\n",
      "          [-0.0055, -0.0751, -0.0400,  0.0205,  0.0329],\n",
      "          [ 0.0647,  0.0383, -0.0581, -0.0303, -0.0043]],\n",
      "\n",
      "         [[ 0.0431, -0.0406, -0.0039,  0.0025, -0.0325],\n",
      "          [-0.0203, -0.0024,  0.0224, -0.0531, -0.0739],\n",
      "          [ 0.0303,  0.0073, -0.0237,  0.0472, -0.0716],\n",
      "          [ 0.0418,  0.0108, -0.0636,  0.0486, -0.0007],\n",
      "          [ 0.0324,  0.0086,  0.0541,  0.0524,  0.0213]],\n",
      "\n",
      "         [[-0.0508,  0.0524,  0.0663,  0.0710,  0.0358],\n",
      "          [ 0.0434,  0.0319, -0.0645, -0.0476,  0.0286],\n",
      "          [-0.0541, -0.0541,  0.0150,  0.0126, -0.0594],\n",
      "          [-0.0715, -0.0798,  0.0492, -0.0468, -0.0559],\n",
      "          [ 0.0518, -0.0391,  0.0761, -0.0161, -0.0725]],\n",
      "\n",
      "         [[-0.0400,  0.0367, -0.0150,  0.0653,  0.0234],\n",
      "          [ 0.0128,  0.0805, -0.0695, -0.0592,  0.0256],\n",
      "          [ 0.0129,  0.0577,  0.0015,  0.0025, -0.0683],\n",
      "          [ 0.0510, -0.0325, -0.0531, -0.0005,  0.0460],\n",
      "          [ 0.0217, -0.0385, -0.0197, -0.0524,  0.0658]],\n",
      "\n",
      "         [[ 0.0591,  0.0386,  0.0258, -0.0027, -0.0616],\n",
      "          [ 0.0083,  0.0372,  0.0785,  0.0443,  0.0223],\n",
      "          [-0.0777,  0.0473,  0.0709, -0.0202,  0.0575],\n",
      "          [-0.0139, -0.0737, -0.0361,  0.0020, -0.0610],\n",
      "          [-0.0345, -0.0197,  0.0034,  0.0690, -0.0290]]],\n",
      "\n",
      "\n",
      "        [[[ 0.0645, -0.0200,  0.0297, -0.0022,  0.0623],\n",
      "          [ 0.0428, -0.0582,  0.0718, -0.0816, -0.0261],\n",
      "          [ 0.0182, -0.0362,  0.0290, -0.0310,  0.0117],\n",
      "          [-0.0605,  0.0109, -0.0479,  0.0369,  0.0644],\n",
      "          [ 0.0330, -0.0305,  0.0379, -0.0044, -0.0530]],\n",
      "\n",
      "         [[-0.0750, -0.0031, -0.0232, -0.0335,  0.0600],\n",
      "          [-0.0524,  0.0312,  0.0470,  0.0195, -0.0280],\n",
      "          [ 0.0671,  0.0513,  0.0744,  0.0255,  0.0120],\n",
      "          [ 0.0045, -0.0264,  0.0694, -0.0387, -0.0646],\n",
      "          [ 0.0123,  0.0637,  0.0390, -0.0022, -0.0075]],\n",
      "\n",
      "         [[ 0.0728,  0.0090, -0.0283, -0.0257,  0.0667],\n",
      "          [-0.0433,  0.0323,  0.0554, -0.0220,  0.0749],\n",
      "          [ 0.0384, -0.0430, -0.0669,  0.0271,  0.0309],\n",
      "          [ 0.0815,  0.0567, -0.0748,  0.0051, -0.0464],\n",
      "          [ 0.0150,  0.0017,  0.0610,  0.0618,  0.0421]],\n",
      "\n",
      "         [[ 0.0199,  0.0413, -0.0164, -0.0200,  0.0750],\n",
      "          [-0.0485, -0.0120,  0.0118, -0.0717, -0.0558],\n",
      "          [ 0.0032,  0.0309, -0.0387, -0.0030,  0.0289],\n",
      "          [-0.0581, -0.0040, -0.0377,  0.0768, -0.0238],\n",
      "          [ 0.0009,  0.0228,  0.0608,  0.0009,  0.0261]],\n",
      "\n",
      "         [[ 0.0049, -0.0589, -0.0274, -0.0281, -0.0170],\n",
      "          [-0.0792, -0.0785,  0.0283,  0.0465, -0.0474],\n",
      "          [-0.0702, -0.0473,  0.0198,  0.0597,  0.0271],\n",
      "          [ 0.0501,  0.0648, -0.0091, -0.0135, -0.0655],\n",
      "          [-0.0778,  0.0421,  0.0215, -0.0165, -0.0218]],\n",
      "\n",
      "         [[-0.0590,  0.0252, -0.0181,  0.0529, -0.0239],\n",
      "          [-0.0196,  0.0658, -0.0189,  0.0047, -0.0280],\n",
      "          [ 0.0630,  0.0769,  0.0806, -0.0378, -0.0799],\n",
      "          [-0.0264, -0.0083, -0.0613, -0.0617,  0.0232],\n",
      "          [ 0.0254, -0.0769, -0.0372,  0.0066,  0.0810]]],\n",
      "\n",
      "\n",
      "        ...,\n",
      "\n",
      "\n",
      "        [[[ 0.0734, -0.0797,  0.0567, -0.0580, -0.0378],\n",
      "          [ 0.0218,  0.0296,  0.0640, -0.0155,  0.0530],\n",
      "          [ 0.0407, -0.0244, -0.0421,  0.0707,  0.0036],\n",
      "          [ 0.0140, -0.0788,  0.0140, -0.0790,  0.0259],\n",
      "          [-0.0620,  0.0385, -0.0755, -0.0196,  0.0267]],\n",
      "\n",
      "         [[-0.0468, -0.0504, -0.0728, -0.0311, -0.0706],\n",
      "          [-0.0349,  0.0143,  0.0086, -0.0126,  0.0621],\n",
      "          [ 0.0283,  0.0215,  0.0739,  0.0376, -0.0721],\n",
      "          [-0.0441,  0.0579, -0.0541, -0.0769, -0.0447],\n",
      "          [ 0.0244, -0.0655,  0.0106, -0.0534, -0.0612]],\n",
      "\n",
      "         [[-0.0131,  0.0384,  0.0352, -0.0201, -0.0692],\n",
      "          [ 0.0319,  0.0741,  0.0317, -0.0053,  0.0256],\n",
      "          [-0.0622, -0.0161, -0.0067, -0.0286,  0.0199],\n",
      "          [-0.0115,  0.0544, -0.0726, -0.0403,  0.0706],\n",
      "          [ 0.0572, -0.0108,  0.0252,  0.0601,  0.0375]],\n",
      "\n",
      "         [[ 0.0005, -0.0786, -0.0658,  0.0636, -0.0147],\n",
      "          [-0.0461,  0.0688,  0.0424,  0.0061, -0.0059],\n",
      "          [ 0.0464,  0.0503, -0.0666,  0.0583, -0.0064],\n",
      "          [-0.0045,  0.0052,  0.0211, -0.0757, -0.0256],\n",
      "          [-0.0016, -0.0533,  0.0265, -0.0543,  0.0649]],\n",
      "\n",
      "         [[-0.0337,  0.0460,  0.0220,  0.0094, -0.0180],\n",
      "          [ 0.0133,  0.0440,  0.0279, -0.0038,  0.0430],\n",
      "          [ 0.0616, -0.0533,  0.0624, -0.0338, -0.0512],\n",
      "          [-0.0355,  0.0156, -0.0484, -0.0649, -0.0654],\n",
      "          [-0.0733,  0.0750,  0.0059, -0.0579, -0.0550]],\n",
      "\n",
      "         [[-0.0523, -0.0405, -0.0640, -0.0802,  0.0394],\n",
      "          [ 0.0092, -0.0526,  0.0780,  0.0538, -0.0682],\n",
      "          [ 0.0231,  0.0311,  0.0088,  0.0481,  0.0470],\n",
      "          [ 0.0341, -0.0033, -0.0683, -0.0640, -0.0664],\n",
      "          [ 0.0278, -0.0814, -0.0345, -0.0296,  0.0319]]],\n",
      "\n",
      "\n",
      "        [[[ 0.0163, -0.0641, -0.0164,  0.0113, -0.0231],\n",
      "          [-0.0762, -0.0078,  0.0815,  0.0758,  0.0679],\n",
      "          [ 0.0720,  0.0407, -0.0294,  0.0790, -0.0774],\n",
      "          [ 0.0669, -0.0668,  0.0719,  0.0029, -0.0454],\n",
      "          [-0.0538,  0.0052, -0.0421,  0.0614, -0.0282]],\n",
      "\n",
      "         [[ 0.0735,  0.0785,  0.0344, -0.0051,  0.0329],\n",
      "          [ 0.0151, -0.0160, -0.0519, -0.0710, -0.0631],\n",
      "          [-0.0245,  0.0388, -0.0601,  0.0810,  0.0045],\n",
      "          [ 0.0269,  0.0391,  0.0090,  0.0536,  0.0353],\n",
      "          [ 0.0307, -0.0473,  0.0712, -0.0321,  0.0010]],\n",
      "\n",
      "         [[ 0.0345,  0.0574,  0.0029, -0.0684,  0.0126],\n",
      "          [-0.0130,  0.0114, -0.0720, -0.0776,  0.0749],\n",
      "          [ 0.0641, -0.0398, -0.0104, -0.0471,  0.0361],\n",
      "          [-0.0271, -0.0548, -0.0520,  0.0378,  0.0718],\n",
      "          [ 0.0053, -0.0410,  0.0143,  0.0331,  0.0394]],\n",
      "\n",
      "         [[ 0.0654, -0.0792, -0.0037, -0.0619, -0.0692],\n",
      "          [-0.0585,  0.0417, -0.0460,  0.0305, -0.0620],\n",
      "          [ 0.0418,  0.0790,  0.0277, -0.0082, -0.0627],\n",
      "          [-0.0535, -0.0360, -0.0295, -0.0773, -0.0796],\n",
      "          [-0.0088, -0.0614, -0.0154,  0.0605,  0.0520]],\n",
      "\n",
      "         [[-0.0141,  0.0268, -0.0255, -0.0538,  0.0221],\n",
      "          [ 0.0193, -0.0503, -0.0722,  0.0807, -0.0231],\n",
      "          [-0.0468, -0.0291, -0.0383, -0.0761, -0.0284],\n",
      "          [-0.0069,  0.0584, -0.0488, -0.0631, -0.0660],\n",
      "          [-0.0429, -0.0775, -0.0225,  0.0637,  0.0381]],\n",
      "\n",
      "         [[ 0.0166,  0.0418,  0.0773,  0.0057,  0.0797],\n",
      "          [ 0.0534, -0.0223, -0.0424, -0.0292,  0.0356],\n",
      "          [ 0.0762, -0.0228, -0.0747,  0.0135, -0.0565],\n",
      "          [-0.0414, -0.0799, -0.0478,  0.0088, -0.0033],\n",
      "          [ 0.0796, -0.0150,  0.0491, -0.0212,  0.0270]]],\n",
      "\n",
      "\n",
      "        [[[-0.0737, -0.0591, -0.0656, -0.0404, -0.0389],\n",
      "          [ 0.0065,  0.0289, -0.0809, -0.0361, -0.0723],\n",
      "          [-0.0551,  0.0202,  0.0366,  0.0787, -0.0629],\n",
      "          [-0.0157,  0.0430,  0.0338,  0.0185, -0.0129],\n",
      "          [-0.0751,  0.0268, -0.0299,  0.0373,  0.0739]],\n",
      "\n",
      "         [[ 0.0573, -0.0136, -0.0747,  0.0661,  0.0348],\n",
      "          [ 0.0395, -0.0038,  0.0655, -0.0546,  0.0627],\n",
      "          [ 0.0169, -0.0270,  0.0405,  0.0041,  0.0442],\n",
      "          [-0.0702,  0.0759, -0.0605,  0.0186, -0.0783],\n",
      "          [-0.0061, -0.0715,  0.0494, -0.0016, -0.0522]],\n",
      "\n",
      "         [[ 0.0146, -0.0615,  0.0500, -0.0513, -0.0798],\n",
      "          [ 0.0153,  0.0562,  0.0522, -0.0409,  0.0300],\n",
      "          [ 0.0369,  0.0772,  0.0039,  0.0137,  0.0093],\n",
      "          [ 0.0442,  0.0573, -0.0120, -0.0073,  0.0722],\n",
      "          [-0.0576,  0.0082, -0.0740,  0.0056,  0.0528]],\n",
      "\n",
      "         [[ 0.0197,  0.0505, -0.0771,  0.0127, -0.0551],\n",
      "          [ 0.0471, -0.0309,  0.0684,  0.0625,  0.0644],\n",
      "          [ 0.0649,  0.0322, -0.0701,  0.0776, -0.0770],\n",
      "          [ 0.0588, -0.0051,  0.0804,  0.0623, -0.0451],\n",
      "          [-0.0786, -0.0384,  0.0580,  0.0674,  0.0364]],\n",
      "\n",
      "         [[-0.0452, -0.0373,  0.0745, -0.0380, -0.0590],\n",
      "          [ 0.0315,  0.0516,  0.0122,  0.0692, -0.0518],\n",
      "          [ 0.0278,  0.0690,  0.0091, -0.0026,  0.0695],\n",
      "          [ 0.0386,  0.0557,  0.0552,  0.0079, -0.0078],\n",
      "          [ 0.0205, -0.0005, -0.0536, -0.0191,  0.0412]],\n",
      "\n",
      "         [[ 0.0330, -0.0292, -0.0320,  0.0687, -0.0124],\n",
      "          [-0.0800, -0.0026,  0.0647, -0.0692,  0.0676],\n",
      "          [ 0.0629,  0.0357, -0.0511,  0.0442,  0.0314],\n",
      "          [ 0.0698, -0.0588, -0.0434,  0.0497, -0.0691],\n",
      "          [-0.0096, -0.0037, -0.0425, -0.0632,  0.0291]]]], requires_grad=True), Parameter containing:\n",
      "tensor([ 0.0481,  0.0233,  0.0072, -0.0670, -0.0648,  0.0149, -0.0669, -0.0237,\n",
      "        -0.0776,  0.0417,  0.0433, -0.0232, -0.0586, -0.0573,  0.0649,  0.0547],\n",
      "       requires_grad=True), Parameter containing:\n",
      "tensor([[-1.1606e-02, -1.1450e-02, -4.2032e-02,  ..., -4.1302e-02,\n",
      "         -1.1665e-03, -3.2696e-02],\n",
      "        [-1.2919e-02, -3.2975e-02, -1.1426e-02,  ..., -3.2241e-02,\n",
      "          1.8943e-02, -1.6367e-02],\n",
      "        [ 1.7624e-02,  5.7996e-03,  6.9379e-03,  ...,  3.7653e-02,\n",
      "          2.9593e-02, -2.8233e-02],\n",
      "        ...,\n",
      "        [ 3.5212e-02, -1.4203e-02,  2.7347e-02,  ..., -9.5177e-05,\n",
      "          4.8853e-02,  4.7120e-02],\n",
      "        [ 3.5228e-02,  6.1152e-03,  1.7697e-02,  ...,  3.6768e-02,\n",
      "         -6.3459e-03, -1.6289e-02],\n",
      "        [ 5.0879e-03, -4.5625e-02,  4.5146e-02,  ...,  1.6051e-02,\n",
      "          1.9046e-02, -2.6183e-02]], requires_grad=True), Parameter containing:\n",
      "tensor([ 1.2489e-02,  2.2887e-02, -4.8799e-02, -3.3563e-02, -4.7019e-02,\n",
      "        -6.2665e-03,  3.0874e-02, -1.6343e-05,  4.0210e-02,  2.2778e-03,\n",
      "         1.7080e-02, -2.8341e-02,  1.4890e-02, -2.8708e-02,  4.2861e-02,\n",
      "         1.5129e-02, -4.5364e-03, -1.8730e-02, -3.2500e-02,  2.2732e-02,\n",
      "        -3.7256e-02,  1.5140e-02, -1.0788e-05,  2.8804e-02, -1.4100e-02,\n",
      "        -4.3864e-02, -2.1288e-02, -2.0054e-03,  3.5146e-02,  8.3049e-03,\n",
      "        -7.3277e-03, -2.0742e-02, -4.2980e-02, -2.9227e-02,  5.6254e-03,\n",
      "        -3.8089e-02,  1.3411e-02, -4.4445e-02, -3.1380e-02,  9.3678e-03,\n",
      "         4.6411e-02,  2.0747e-02, -3.4033e-02,  1.8894e-02, -1.7366e-02,\n",
      "         1.3728e-02,  1.1197e-02,  1.7631e-02,  4.1006e-04,  7.9677e-03,\n",
      "        -3.3362e-02, -2.3966e-02,  2.1147e-02, -3.6808e-02, -1.8882e-03,\n",
      "         1.3059e-02,  4.4858e-03,  5.1100e-05, -2.8207e-03, -1.6256e-02,\n",
      "         3.0725e-02,  1.3065e-02, -6.3584e-03, -1.9518e-02, -8.6784e-03,\n",
      "         1.3688e-02, -4.9631e-02, -5.3850e-03,  1.3318e-02, -2.6893e-02,\n",
      "        -2.2961e-02, -8.9859e-03,  4.5102e-02,  3.0703e-02,  3.7090e-02,\n",
      "         3.0770e-03, -3.7749e-02, -2.5367e-02,  8.6609e-03, -2.5020e-02,\n",
      "         3.0132e-02, -4.0570e-02,  2.5837e-02, -3.6874e-02, -3.7019e-02,\n",
      "         3.3678e-04, -1.9436e-02, -3.9191e-02,  7.9406e-03, -2.6370e-02,\n",
      "        -4.8644e-02,  2.7999e-02,  3.1486e-02,  1.2493e-03,  6.2130e-03,\n",
      "         3.2625e-02, -1.5296e-02,  3.7507e-02,  4.2002e-02, -3.3936e-02,\n",
      "        -2.5897e-02,  4.8166e-02, -6.8920e-03,  1.0585e-02, -4.3482e-02,\n",
      "        -4.3895e-02, -3.3710e-03,  3.7151e-02, -2.8233e-02, -2.5459e-03,\n",
      "        -2.7540e-02, -4.3520e-02,  4.3446e-02,  7.6537e-04, -4.2512e-03,\n",
      "        -3.7909e-02,  4.9594e-03,  1.0504e-02,  3.7814e-02, -2.5260e-02],\n",
      "       requires_grad=True), Parameter containing:\n",
      "tensor([[-0.0530,  0.0129,  0.0648,  ..., -0.0192, -0.0582,  0.0773],\n",
      "        [-0.0731,  0.0206, -0.0586,  ...,  0.0515, -0.0390,  0.0760],\n",
      "        [ 0.0901,  0.0299,  0.0539,  ...,  0.0910,  0.0404, -0.0892],\n",
      "        ...,\n",
      "        [-0.0636,  0.0027,  0.0819,  ...,  0.0810, -0.0462, -0.0782],\n",
      "        [-0.0851,  0.0291,  0.0653,  ...,  0.0463, -0.0372,  0.0725],\n",
      "        [-0.0300,  0.0457, -0.0615,  ..., -0.0609,  0.0182,  0.0902]],\n",
      "       requires_grad=True), Parameter containing:\n",
      "tensor([-0.0352, -0.0783,  0.0052,  0.0560,  0.0817, -0.0719,  0.0408,  0.0544,\n",
      "         0.0377, -0.0787,  0.0284,  0.0545, -0.0248,  0.0276, -0.0603,  0.0798,\n",
      "         0.0785, -0.0602,  0.0657, -0.0259,  0.0593, -0.0301,  0.0557,  0.0429,\n",
      "         0.0320,  0.0792, -0.0646, -0.0481,  0.0174, -0.0177, -0.0877,  0.0225,\n",
      "        -0.0384,  0.0148,  0.0146,  0.0456,  0.0553, -0.0038, -0.0322, -0.0116,\n",
      "         0.0183,  0.0031, -0.0356, -0.0607,  0.0603, -0.0038, -0.0428,  0.0671,\n",
      "         0.0076,  0.0337,  0.0230, -0.0723,  0.0719, -0.0720,  0.0497,  0.0831,\n",
      "         0.0896,  0.0665,  0.0225,  0.0410,  0.0079, -0.0576,  0.0784, -0.0262,\n",
      "        -0.0184, -0.0736, -0.0838,  0.0042, -0.0641,  0.0076,  0.0604,  0.0833,\n",
      "        -0.0819, -0.0704,  0.0720,  0.0513, -0.0192,  0.0870, -0.0391, -0.0853,\n",
      "         0.0348, -0.0258,  0.0679,  0.0530], requires_grad=True), Parameter containing:\n",
      "tensor([[ 0.0673, -0.0520, -0.0849,  0.0117,  0.0514,  0.0415,  0.0148,  0.0667,\n",
      "          0.0943, -0.0663,  0.0593, -0.0659, -0.0814, -0.0207,  0.0005,  0.1059,\n",
      "         -0.0996,  0.0518, -0.0347, -0.0838,  0.1076,  0.0151, -0.0904, -0.0536,\n",
      "         -0.0425,  0.0247, -0.0716, -0.0371,  0.0847, -0.0991,  0.0856,  0.0657,\n",
      "          0.0454, -0.0286, -0.0612,  0.0055,  0.0061,  0.0432, -0.0330, -0.0860,\n",
      "         -0.0948,  0.0680, -0.0718,  0.0364,  0.0715, -0.0267, -0.0541,  0.0822,\n",
      "          0.0676, -0.0215,  0.0714,  0.0655,  0.0066,  0.0996,  0.0126, -0.1054,\n",
      "         -0.0374, -0.0691,  0.0987,  0.0836,  0.1090,  0.0147, -0.0708,  0.0242,\n",
      "          0.0139, -0.0285,  0.0333,  0.0711, -0.1039,  0.0504, -0.1013, -0.0121,\n",
      "         -0.1021,  0.0296,  0.0518, -0.0029, -0.0183,  0.0476,  0.0387,  0.0164,\n",
      "         -0.0089, -0.1053, -0.0223, -0.0016],\n",
      "        [ 0.0418, -0.0111,  0.0416,  0.0701, -0.0861, -0.0122, -0.0704, -0.0660,\n",
      "         -0.0424, -0.0914,  0.0134,  0.0713,  0.0592,  0.0669,  0.0444, -0.0374,\n",
      "         -0.0831, -0.0484,  0.0787, -0.1077,  0.0144, -0.0264, -0.0396,  0.0993,\n",
      "          0.0621,  0.0658,  0.1040, -0.0701, -0.0872,  0.0348,  0.1044, -0.0097,\n",
      "          0.0789, -0.0539, -0.0516,  0.0824, -0.0040, -0.0877, -0.0828, -0.0384,\n",
      "          0.0798, -0.0107,  0.0254,  0.0146,  0.0680, -0.0463, -0.0151,  0.0622,\n",
      "          0.0035,  0.0396,  0.0378,  0.0085,  0.0964, -0.1089,  0.0376,  0.0269,\n",
      "          0.0826,  0.0771,  0.0055,  0.0474, -0.0619, -0.0959, -0.0288, -0.0438,\n",
      "         -0.0404,  0.0803, -0.0237,  0.0591,  0.0025, -0.1028,  0.1008, -0.1069,\n",
      "         -0.0846, -0.0554, -0.0195,  0.0610, -0.0115,  0.0489,  0.0042,  0.0896,\n",
      "          0.0764,  0.0231,  0.0893,  0.0658],\n",
      "        [ 0.0482,  0.0552,  0.0168,  0.0867,  0.1065,  0.0237,  0.0836, -0.0540,\n",
      "         -0.0931, -0.0620, -0.1046, -0.0121,  0.0323,  0.0128, -0.0567, -0.0906,\n",
      "          0.0277,  0.0868,  0.0379,  0.0632,  0.0321,  0.1054, -0.0148,  0.1052,\n",
      "         -0.0722,  0.0171, -0.0698,  0.0087,  0.0056, -0.0593, -0.0051, -0.0108,\n",
      "          0.0089, -0.0371,  0.0675,  0.0449, -0.0358,  0.0581, -0.0179, -0.0439,\n",
      "         -0.0756, -0.0858,  0.0902,  0.0337, -0.0065, -0.0391,  0.0022, -0.0982,\n",
      "         -0.0080,  0.0667, -0.0332, -0.0175, -0.0121, -0.0916, -0.0160, -0.0704,\n",
      "         -0.0505,  0.0011, -0.0238, -0.0034,  0.0549, -0.0361,  0.0971,  0.0829,\n",
      "         -0.0056,  0.0489,  0.0935, -0.0635,  0.0580,  0.1042,  0.0763, -0.0906,\n",
      "         -0.0412,  0.1064,  0.0232, -0.0419,  0.0183,  0.0172, -0.1011,  0.0571,\n",
      "         -0.0511, -0.0283,  0.0952, -0.0483],\n",
      "        [ 0.0584,  0.0125,  0.0980, -0.0269,  0.0438,  0.0051, -0.0152,  0.0300,\n",
      "          0.0272, -0.0789,  0.0032, -0.0023,  0.0635, -0.0026, -0.1006,  0.0928,\n",
      "          0.0462,  0.0128, -0.0079, -0.0375,  0.0848,  0.0185,  0.0861,  0.0040,\n",
      "         -0.0010, -0.0622, -0.0756,  0.0637,  0.1008,  0.0592,  0.0298, -0.0575,\n",
      "         -0.0356, -0.0280, -0.0033,  0.0640,  0.0901,  0.0301, -0.0956, -0.0290,\n",
      "          0.0836, -0.0455,  0.0494, -0.1042, -0.0767, -0.0688,  0.0728,  0.0532,\n",
      "         -0.0443, -0.0533, -0.0691, -0.0836,  0.0248, -0.0912, -0.0778,  0.1065,\n",
      "          0.0022,  0.0986,  0.0029, -0.0612, -0.1044, -0.0287,  0.1077,  0.0234,\n",
      "         -0.0294,  0.0865, -0.0170, -0.0333,  0.0075,  0.0003, -0.0913, -0.0907,\n",
      "          0.0161, -0.0418, -0.0093, -0.1043,  0.0497,  0.0559, -0.0070,  0.0955,\n",
      "          0.0933,  0.0505,  0.0211,  0.0443],\n",
      "        [-0.0764, -0.0027, -0.0596,  0.0625, -0.1017, -0.0332, -0.0986,  0.0783,\n",
      "         -0.0800, -0.0638,  0.0232, -0.0476, -0.0880,  0.0036,  0.0499, -0.0031,\n",
      "         -0.0100,  0.0113, -0.0597,  0.0969,  0.0111,  0.0744, -0.0887,  0.0296,\n",
      "          0.0821, -0.0151, -0.0815, -0.0341,  0.0827,  0.0274, -0.0966, -0.0389,\n",
      "          0.0537,  0.0721,  0.0198, -0.1075, -0.0208,  0.0805,  0.0149,  0.0975,\n",
      "          0.0077, -0.0036, -0.0240,  0.1002, -0.0067,  0.0341, -0.0164,  0.0053,\n",
      "         -0.0396, -0.0322, -0.0580, -0.0218,  0.0561,  0.0112,  0.0508, -0.0675,\n",
      "         -0.0932, -0.0855,  0.0954,  0.0959,  0.0934,  0.0544,  0.0884,  0.0846,\n",
      "          0.0076,  0.0498,  0.0461,  0.1004,  0.0893, -0.0956,  0.1032, -0.0864,\n",
      "          0.0941, -0.1071,  0.0992, -0.0653, -0.0968, -0.0265,  0.0451, -0.0736,\n",
      "         -0.0645,  0.0716,  0.0672,  0.0401],\n",
      "        [ 0.0098,  0.0332,  0.0212, -0.0867,  0.0379, -0.0523, -0.0454,  0.0501,\n",
      "         -0.0377, -0.0652,  0.0637, -0.0845, -0.0839, -0.0840, -0.0555, -0.0289,\n",
      "          0.0733, -0.0193,  0.0482, -0.0463,  0.0209, -0.0246, -0.0579, -0.0249,\n",
      "          0.0857,  0.0589,  0.0635, -0.0583, -0.0757, -0.0386, -0.0723,  0.0951,\n",
      "          0.0242, -0.0458, -0.0905, -0.0356, -0.0136, -0.0759, -0.0492,  0.0300,\n",
      "         -0.0230, -0.0349, -0.0509, -0.0999, -0.0568,  0.0044, -0.0014, -0.0148,\n",
      "          0.0284,  0.0400, -0.0925, -0.0958, -0.0841, -0.0265, -0.0668, -0.0454,\n",
      "         -0.0027, -0.0620, -0.0238, -0.0371, -0.0088, -0.1077,  0.1010, -0.1042,\n",
      "          0.0818, -0.0466,  0.0197,  0.1090, -0.0143,  0.0852,  0.1087,  0.0408,\n",
      "         -0.0817, -0.0108,  0.0871,  0.0723, -0.1036, -0.0089,  0.0153, -0.0380,\n",
      "          0.0152, -0.0146,  0.0841, -0.0142],\n",
      "        [ 0.0753, -0.0768,  0.0913,  0.1005,  0.0607, -0.0903, -0.0821,  0.0269,\n",
      "          0.0310,  0.0558, -0.0060,  0.0345,  0.0841,  0.0903, -0.0899,  0.1084,\n",
      "          0.0938,  0.0791,  0.0975,  0.0304,  0.0167, -0.0028, -0.0472,  0.0564,\n",
      "         -0.0259, -0.0844,  0.0525, -0.0970,  0.0104,  0.0548, -0.0736, -0.0830,\n",
      "         -0.0719, -0.0600,  0.0715, -0.0232, -0.0583,  0.0880,  0.0223,  0.0896,\n",
      "          0.0682, -0.0313,  0.0671, -0.0619, -0.0375, -0.0029,  0.0263,  0.1041,\n",
      "          0.0526,  0.1002, -0.0913,  0.0936, -0.0622, -0.1085,  0.0180,  0.0256,\n",
      "         -0.0370,  0.0886,  0.1080,  0.0819,  0.0743, -0.0991, -0.0782,  0.1062,\n",
      "         -0.0222, -0.1059,  0.0468,  0.0232, -0.0418,  0.0570, -0.0442, -0.0923,\n",
      "          0.0319, -0.0255, -0.0076,  0.0756,  0.1042,  0.0885, -0.0300, -0.0329,\n",
      "         -0.0041,  0.0314, -0.0346, -0.0880],\n",
      "        [ 0.0008, -0.0458, -0.0219,  0.0310,  0.0653,  0.0573,  0.0036,  0.0896,\n",
      "          0.0294,  0.0164,  0.0993, -0.0981,  0.0961, -0.0716, -0.0028, -0.1051,\n",
      "         -0.0146, -0.0252, -0.0644,  0.0683,  0.1049, -0.0746, -0.0678, -0.0193,\n",
      "         -0.0465,  0.0713,  0.0299,  0.0832, -0.0717, -0.1007,  0.0915, -0.0736,\n",
      "          0.0133,  0.0598, -0.0066, -0.0368,  0.0905,  0.0253, -0.0224, -0.0324,\n",
      "         -0.0058,  0.0225, -0.0006, -0.0683, -0.0043,  0.0853,  0.0617, -0.0136,\n",
      "         -0.0700,  0.0823,  0.0264, -0.0784, -0.0994, -0.0553,  0.0478,  0.0340,\n",
      "         -0.0177, -0.0232,  0.1020, -0.0411,  0.0078,  0.0040,  0.0300, -0.0912,\n",
      "          0.0406,  0.0033, -0.0634, -0.0909,  0.0697, -0.0505, -0.0041, -0.0794,\n",
      "          0.1009, -0.1082,  0.0389, -0.0764,  0.0908,  0.0694,  0.0805,  0.0683,\n",
      "          0.0824,  0.0962,  0.0440, -0.0847],\n",
      "        [-0.0060,  0.0374,  0.0353, -0.0747,  0.0278,  0.0881, -0.1068,  0.0815,\n",
      "         -0.0729,  0.0995,  0.0589,  0.0577,  0.0158, -0.0333,  0.0117,  0.1013,\n",
      "          0.0415,  0.0715, -0.0244,  0.0189,  0.0886,  0.0401, -0.0445,  0.0843,\n",
      "         -0.0257, -0.0410, -0.0733, -0.0591,  0.0787,  0.0802, -0.0729,  0.0200,\n",
      "         -0.0241, -0.0187, -0.0695, -0.0193, -0.0052, -0.0824, -0.0120,  0.0063,\n",
      "          0.0860, -0.0444, -0.0349, -0.0085, -0.0780,  0.0700, -0.0402,  0.0372,\n",
      "         -0.0131, -0.0812,  0.1005,  0.0098,  0.1089, -0.0329, -0.0770,  0.1010,\n",
      "         -0.0885, -0.0074,  0.0939,  0.0468, -0.1070,  0.0629,  0.0921,  0.0492,\n",
      "         -0.0356,  0.0731,  0.0645,  0.0613,  0.0952,  0.0294, -0.0120, -0.1046,\n",
      "          0.0697, -0.0580, -0.0521,  0.0374,  0.0400,  0.0085, -0.0702,  0.0991,\n",
      "          0.0311, -0.0855,  0.0513, -0.0965],\n",
      "        [ 0.0964,  0.0432,  0.0727, -0.0198,  0.0732,  0.0675,  0.0320,  0.0061,\n",
      "         -0.0392,  0.0290,  0.0296,  0.0026, -0.0933,  0.0257, -0.0357, -0.0133,\n",
      "         -0.0278,  0.0286,  0.1077, -0.0669,  0.0966,  0.0432, -0.0987, -0.0827,\n",
      "          0.0182,  0.0715,  0.0177, -0.0952, -0.0394, -0.0698,  0.0005,  0.0094,\n",
      "          0.0074, -0.0847, -0.0722,  0.1082,  0.0595,  0.0900, -0.0330, -0.0438,\n",
      "          0.0435, -0.0400, -0.0416, -0.0963, -0.0394, -0.0885, -0.0922,  0.0035,\n",
      "         -0.0576, -0.0938,  0.0567, -0.0778, -0.0004, -0.1006,  0.0710,  0.0286,\n",
      "          0.0909,  0.0929,  0.0981, -0.0706, -0.0858, -0.0909,  0.0704, -0.0905,\n",
      "          0.0140, -0.0837, -0.0480, -0.0754, -0.0974, -0.0437, -0.0150, -0.0014,\n",
      "          0.0133, -0.0886,  0.0270, -0.0685, -0.0374, -0.0797,  0.0851,  0.0607,\n",
      "         -0.0551, -0.0102,  0.0119, -0.0405]], requires_grad=True), Parameter containing:\n",
      "tensor([ 0.0492, -0.0933, -0.0198, -0.0321,  0.0649, -0.0077, -0.0945, -0.0165,\n",
      "         0.0237, -0.0774], requires_grad=True)], 'lr': 0.001, 'momentum': 0.9, 'dampening': 0, 'weight_decay': 0, 'nesterov': False}]}\n"
     ]
    }
   ],
   "source": [
    "# optimizerの保持しているオブジェクト\n",
    "print(optimizer.__dict__)"
   ]
  },
  {
   "cell_type": "markdown",
   "metadata": {},
   "source": [
    "### 学習"
   ]
  },
  {
   "cell_type": "code",
   "execution_count": 139,
   "metadata": {},
   "outputs": [
    {
     "name": "stdout",
     "output_type": "stream",
     "text": [
      "[1,  2000] loss: 2.114\n",
      "[1,  4000] loss: 1.814\n",
      "[1,  6000] loss: 1.654\n",
      "[1,  8000] loss: 1.550\n",
      "[1, 10000] loss: 1.496\n",
      "[1, 12000] loss: 1.466\n",
      "[2,  2000] loss: 1.391\n",
      "[2,  4000] loss: 1.345\n",
      "[2,  6000] loss: 1.358\n",
      "[2,  8000] loss: 1.299\n",
      "[2, 10000] loss: 1.274\n",
      "[2, 12000] loss: 1.271\n",
      "[3,  2000] loss: 1.196\n",
      "[3,  4000] loss: 1.191\n",
      "[3,  6000] loss: 1.196\n",
      "[3,  8000] loss: 1.168\n",
      "[3, 10000] loss: 1.173\n",
      "[3, 12000] loss: 1.155\n",
      "[4,  2000] loss: 1.087\n",
      "[4,  4000] loss: 1.098\n",
      "[4,  6000] loss: 1.084\n",
      "[4,  8000] loss: 1.071\n",
      "[4, 10000] loss: 1.068\n",
      "[4, 12000] loss: 1.085\n",
      "[5,  2000] loss: 0.980\n",
      "[5,  4000] loss: 1.017\n",
      "[5,  6000] loss: 1.003\n",
      "[5,  8000] loss: 1.012\n",
      "[5, 10000] loss: 1.024\n",
      "[5, 12000] loss: 1.000\n",
      "[6,  2000] loss: 0.931\n",
      "[6,  4000] loss: 0.941\n",
      "[6,  6000] loss: 0.932\n",
      "[6,  8000] loss: 0.970\n",
      "[6, 10000] loss: 0.960\n",
      "[6, 12000] loss: 0.967\n",
      "[7,  2000] loss: 0.886\n",
      "[7,  4000] loss: 0.897\n",
      "[7,  6000] loss: 0.906\n",
      "[7,  8000] loss: 0.919\n",
      "[7, 10000] loss: 0.921\n",
      "[7, 12000] loss: 0.939\n",
      "[8,  2000] loss: 0.844\n",
      "[8,  4000] loss: 0.854\n",
      "[8,  6000] loss: 0.863\n",
      "[8,  8000] loss: 0.855\n",
      "[8, 10000] loss: 0.879\n",
      "[8, 12000] loss: 0.886\n",
      "[9,  2000] loss: 0.783\n",
      "[9,  4000] loss: 0.795\n",
      "[9,  6000] loss: 0.825\n",
      "[9,  8000] loss: 0.851\n",
      "[9, 10000] loss: 0.881\n",
      "[9, 12000] loss: 0.876\n",
      "[10,  2000] loss: 0.748\n",
      "[10,  4000] loss: 0.774\n",
      "[10,  6000] loss: 0.810\n",
      "[10,  8000] loss: 0.819\n",
      "[10, 10000] loss: 0.823\n",
      "[10, 12000] loss: 0.835\n",
      "Finished Training\n"
     ]
    }
   ],
   "source": [
    "device = torch.device(\"cuda:0\" if torch.cuda.is_available() else \"cpu\")\n",
    "net.to(device)\n",
    "for epoch in range(10):\n",
    "    \n",
    "    running_loss = 0.0\n",
    "    # i　がミニバッチの番号に対応\n",
    "    for i, data in enumerate(trainloader, 0):\n",
    "        inputs, labels = data[0].to(device), data[1].to(device) # dataloaderの出力は入力画像とラベル\n",
    "        \n",
    "        # 勾配の初期化\n",
    "        optimizer.zero_grad()\n",
    "        \n",
    "        outputs = net(inputs) # 順伝搬\n",
    "        loss = criterion(outputs, labels) # 損失の計算\n",
    "        loss.backward() # 逆伝搬\n",
    "        optimizer.step() # 勾配の更新\n",
    "         \n",
    "        running_loss += loss.item() # ミニバッチごとの損失の値を加える\n",
    "        if i % 2000 == 1999:   # print every 2000 mini-batches\n",
    "            print('[%d, %5d] loss: %.3f' %\n",
    "                  (epoch + 1, i + 1, running_loss / 2000))\n",
    "            running_loss = 0.0\n",
    "        \n",
    "print('Finished Training')"
   ]
  },
  {
   "cell_type": "markdown",
   "metadata": {},
   "source": [
    "### モデルの保存, 読み込み"
   ]
  },
  {
   "cell_type": "code",
   "execution_count": 140,
   "metadata": {},
   "outputs": [
    {
     "data": {
      "text/plain": [
       "<All keys matched successfully>"
      ]
     },
     "execution_count": 140,
     "metadata": {},
     "output_type": "execute_result"
    }
   ],
   "source": [
    "PATH = './cifar_net.pth'\n",
    "torch.save(net.state_dict(), PATH)\n",
    "\n",
    "net = Net()\n",
    "net.load_state_dict(torch.load(PATH))"
   ]
  },
  {
   "cell_type": "markdown",
   "metadata": {},
   "source": [
    "### テストデータの検証"
   ]
  },
  {
   "cell_type": "code",
   "execution_count": 128,
   "metadata": {},
   "outputs": [
    {
     "data": {
      "image/png": "[encoded data removed]",
      "text/plain": [
       "<Figure size 432x288 with 1 Axes>"
      ]
     },
     "metadata": {
      "needs_background": "light"
     },
     "output_type": "display_data"
    },
    {
     "name": "stdout",
     "output_type": "stream",
     "text": [
      "Predicted:    dog   dog   dog   dog\n",
      "GroundTruth:    cat  ship  ship plane\n"
     ]
    }
   ],
   "source": [
    "testiter = iter(testloader)\n",
    "images, labels = testiter.next()\n",
    "\n",
    "outputs = net(images)\n",
    "\n",
    "# torch.maxでテンソルの最大値を求める。第二引数でaxisを指定\n",
    "# 返り値は、最大値のリストと、最大値のインデックス番号のリスト\n",
    "_, predicted = torch.max(outputs, 1)\n",
    "\n",
    "imshow(torchvision.utils.make_grid(images))\n",
    "print('Predicted: ', ' '.join('%5s' % classes[predicted[j]] for j in range(4)))\n",
    "print('GroundTruth: ', ' '.join('%5s' % classes[labels[j]] for j in range(4)))"
   ]
  },
  {
   "cell_type": "code",
   "execution_count": 141,
   "metadata": {},
   "outputs": [
    {
     "name": "stdout",
     "output_type": "stream",
     "text": [
      "Accuracy of the network on the 10000 test images: 62 %\n"
     ]
    }
   ],
   "source": [
    "correct = 0\n",
    "total = 0\n",
    "device = torch.device(\"cuda:0\" if torch.cuda.is_available() else \"cpu\")\n",
    "net.to(device)\n",
    "with torch.no_grad():\n",
    "    for data in testloader:\n",
    "#        images, labels = data\n",
    "        inputs, labels = data[0].to(device), data[1].to(device)\n",
    "\n",
    "        outputs = net(inputs)\n",
    "\n",
    "        _, predicted = torch.max(outputs.data, 1)\n",
    "        total += labels.size(0)\n",
    "        correct += (predicted == labels).sum().item()\n",
    "\n",
    "print('Accuracy of the network on the 10000 test images: %d %%' % (\n",
    "    100 * correct / total))"
   ]
  },
  {
   "cell_type": "markdown",
   "metadata": {},
   "source": [
    "### 訓練と評価を同時に行う"
   ]
  },
  {
   "cell_type": "code",
   "execution_count": 170,
   "metadata": {
    "scrolled": true
   },
   "outputs": [
    {
     "name": "stdout",
     "output_type": "stream",
     "text": [
      "使用デバイス: cuda:0\n",
      "-------------\n",
      "Epoch 1/20\n",
      "-------------\n",
      "（train）\n",
      "-------------\n",
      "（val）\n",
      "epoch 1 || Epoch_TRAIN_Loss:21179.1870 ||Epoch_VAL_Loss:3522.6514\n",
      "epoch 1 || Epoch_TRAIN_Acc:0.3783 ||Epoch_VAL_Acc:0.4859\n",
      "-------------\n",
      "Epoch 2/20\n",
      "-------------\n",
      "（train）\n",
      "-------------\n",
      "（val）\n",
      "epoch 2 || Epoch_TRAIN_Loss:16869.7767 ||Epoch_VAL_Loss:3101.6419\n",
      "epoch 2 || Epoch_TRAIN_Acc:0.5161 ||Epoch_VAL_Acc:0.5546\n",
      "-------------\n",
      "Epoch 3/20\n",
      "-------------\n",
      "（train）\n",
      "-------------\n",
      "（val）\n",
      "epoch 3 || Epoch_TRAIN_Loss:15216.8476 ||Epoch_VAL_Loss:3093.9396\n",
      "epoch 3 || Epoch_TRAIN_Acc:0.5671 ||Epoch_VAL_Acc:0.5548\n",
      "-------------\n",
      "Epoch 4/20\n",
      "-------------\n",
      "（train）\n",
      "-------------\n",
      "（val）\n",
      "epoch 4 || Epoch_TRAIN_Loss:14139.2352 ||Epoch_VAL_Loss:2853.7996\n",
      "epoch 4 || Epoch_TRAIN_Acc:0.6011 ||Epoch_VAL_Acc:0.5978\n",
      "-------------\n",
      "Epoch 5/20\n",
      "-------------\n",
      "（train）\n",
      "-------------\n",
      "（val）\n",
      "epoch 5 || Epoch_TRAIN_Loss:13282.1478 ||Epoch_VAL_Loss:2819.1576\n",
      "epoch 5 || Epoch_TRAIN_Acc:0.6242 ||Epoch_VAL_Acc:0.6056\n",
      "-------------\n",
      "Epoch 6/20\n",
      "-------------\n",
      "（train）\n",
      "-------------\n",
      "（val）\n",
      "epoch 6 || Epoch_TRAIN_Loss:12577.5303 ||Epoch_VAL_Loss:2820.8236\n",
      "epoch 6 || Epoch_TRAIN_Acc:0.6449 ||Epoch_VAL_Acc:0.6034\n",
      "-------------\n",
      "Epoch 7/20\n",
      "-------------\n",
      "（train）\n",
      "-------------\n",
      "（val）\n",
      "epoch 7 || Epoch_TRAIN_Loss:11969.7376 ||Epoch_VAL_Loss:2849.7183\n",
      "epoch 7 || Epoch_TRAIN_Acc:0.6625 ||Epoch_VAL_Acc:0.6130\n",
      "-------------\n",
      "Epoch 8/20\n",
      "-------------\n",
      "（train）\n",
      "-------------\n",
      "（val）\n",
      "epoch 8 || Epoch_TRAIN_Loss:11483.3703 ||Epoch_VAL_Loss:2803.5025\n",
      "epoch 8 || Epoch_TRAIN_Acc:0.6775 ||Epoch_VAL_Acc:0.6164\n",
      "-------------\n",
      "Epoch 9/20\n",
      "-------------\n",
      "（train）\n",
      "-------------\n",
      "（val）\n",
      "epoch 9 || Epoch_TRAIN_Loss:11054.9101 ||Epoch_VAL_Loss:3042.8995\n",
      "epoch 9 || Epoch_TRAIN_Acc:0.6868 ||Epoch_VAL_Acc:0.6045\n",
      "-------------\n",
      "Epoch 10/20\n",
      "-------------\n",
      "（train）\n",
      "-------------\n",
      "（val）\n",
      "epoch 10 || Epoch_TRAIN_Loss:10671.8928 ||Epoch_VAL_Loss:2881.5336\n",
      "epoch 10 || Epoch_TRAIN_Acc:0.6965 ||Epoch_VAL_Acc:0.6130\n",
      "-------------\n",
      "Epoch 11/20\n",
      "-------------\n",
      "（train）\n",
      "-------------\n",
      "（val）\n",
      "epoch 11 || Epoch_TRAIN_Loss:10341.2239 ||Epoch_VAL_Loss:2917.9421\n",
      "epoch 11 || Epoch_TRAIN_Acc:0.7066 ||Epoch_VAL_Acc:0.6195\n",
      "-------------\n",
      "Epoch 12/20\n",
      "-------------\n",
      "（train）\n",
      "-------------\n",
      "（val）\n",
      "epoch 12 || Epoch_TRAIN_Loss:10047.3861 ||Epoch_VAL_Loss:3053.8699\n",
      "epoch 12 || Epoch_TRAIN_Acc:0.7145 ||Epoch_VAL_Acc:0.6068\n",
      "-------------\n",
      "Epoch 13/20\n",
      "-------------\n",
      "（train）\n",
      "-------------\n",
      "（val）\n",
      "epoch 13 || Epoch_TRAIN_Loss:9817.2431 ||Epoch_VAL_Loss:3131.4723\n",
      "epoch 13 || Epoch_TRAIN_Acc:0.7187 ||Epoch_VAL_Acc:0.6161\n",
      "-------------\n",
      "Epoch 14/20\n",
      "-------------\n",
      "（train）\n",
      "-------------\n",
      "（val）\n",
      "epoch 14 || Epoch_TRAIN_Loss:9577.5218 ||Epoch_VAL_Loss:3249.5133\n",
      "epoch 14 || Epoch_TRAIN_Acc:0.7270 ||Epoch_VAL_Acc:0.5961\n",
      "-------------\n",
      "Epoch 15/20\n",
      "-------------\n",
      "（train）\n",
      "-------------\n",
      "（val）\n",
      "epoch 15 || Epoch_TRAIN_Loss:9295.5499 ||Epoch_VAL_Loss:3332.6259\n",
      "epoch 15 || Epoch_TRAIN_Acc:0.7348 ||Epoch_VAL_Acc:0.6057\n",
      "-------------\n",
      "Epoch 16/20\n",
      "-------------\n",
      "（train）\n",
      "-------------\n",
      "（val）\n",
      "epoch 16 || Epoch_TRAIN_Loss:9092.0880 ||Epoch_VAL_Loss:3318.9677\n",
      "epoch 16 || Epoch_TRAIN_Acc:0.7418 ||Epoch_VAL_Acc:0.6010\n",
      "-------------\n",
      "Epoch 17/20\n",
      "-------------\n",
      "（train）\n",
      "-------------\n",
      "（val）\n",
      "epoch 17 || Epoch_TRAIN_Loss:8860.9856 ||Epoch_VAL_Loss:3407.9106\n",
      "epoch 17 || Epoch_TRAIN_Acc:0.7498 ||Epoch_VAL_Acc:0.5928\n",
      "-------------\n",
      "Epoch 18/20\n",
      "-------------\n",
      "（train）\n",
      "-------------\n",
      "（val）\n",
      "epoch 18 || Epoch_TRAIN_Loss:8826.7620 ||Epoch_VAL_Loss:3396.5597\n",
      "epoch 18 || Epoch_TRAIN_Acc:0.7490 ||Epoch_VAL_Acc:0.6028\n",
      "-------------\n",
      "Epoch 19/20\n",
      "-------------\n",
      "（train）\n",
      "-------------\n",
      "（val）\n",
      "epoch 19 || Epoch_TRAIN_Loss:8702.1926 ||Epoch_VAL_Loss:3451.4959\n",
      "epoch 19 || Epoch_TRAIN_Acc:0.7549 ||Epoch_VAL_Acc:0.5962\n",
      "-------------\n",
      "Epoch 20/20\n",
      "-------------\n",
      "（train）\n",
      "-------------\n",
      "（val）\n",
      "epoch 20 || Epoch_TRAIN_Loss:8551.4808 ||Epoch_VAL_Loss:3431.5303\n",
      "epoch 20 || Epoch_TRAIN_Acc:0.7588 ||Epoch_VAL_Acc:0.6065\n",
      "-------------\n",
      "Epoch 21/20\n",
      "-------------\n",
      "（train）\n",
      "-------------\n",
      "（val）\n",
      "epoch 21 || Epoch_TRAIN_Loss:8389.1585 ||Epoch_VAL_Loss:3496.9159\n",
      "epoch 21 || Epoch_TRAIN_Acc:0.7630 ||Epoch_VAL_Acc:0.5933\n"
     ]
    }
   ],
   "source": [
    "def train_model(net, dataloaders_dict, criterion, optimizer,num_epochs):\n",
    "    # GPUが使えるかを確認\n",
    "    device = torch.device('cuda:0' if torch.cuda.is_available() else 'cpu')\n",
    "    print('使用デバイス:', device)\n",
    "    \n",
    "    net.to(device)  # ネットワークをGPUへ\n",
    "    \n",
    "    # ネットワークがある程度固定であれば、高速化させる\n",
    "    torch.backends.cudnn.benchmark = True\n",
    "    \n",
    "    # イテレーションカウンタをセット\n",
    "    iteration = 1\n",
    "    epoch_train_loss = 0.0 # epochの損失和\n",
    "    epoch_val_loss = 0.0\n",
    "    epoch_train_correct = 0.0 # epochの正解率和　\n",
    "    epoch_val_correct = 0.0\n",
    "    logs = []\n",
    "    \n",
    "    for epoch in range(num_epochs+1):\n",
    "        print('-------------')\n",
    "        print('Epoch {}/{}'.format(epoch+1, num_epochs))\n",
    "        print('-------------')\n",
    "        \n",
    "        # epochごとの訓練と検証のループ\n",
    "        for phase in ['train', 'val']:\n",
    "            if phase == 'train':\n",
    "                net.train()\n",
    "                print('（train）')\n",
    "            else:\n",
    "                if ((epoch + 1) % 1 == 0):\n",
    "                    net.eval()\n",
    "                    print('-------------')\n",
    "                    print('（val）')\n",
    "                else:\n",
    "                    continue\n",
    "                    \n",
    "            for images, labels in dataloaders_dict[phase]:\n",
    "                # GPUが使えるならGPUにデータを送る\n",
    "                images = images.to(device)\n",
    "                labels = labels.to(device)\n",
    "                \n",
    "                # optimizerを初期化\n",
    "                optimizer.zero_grad()\n",
    "                \n",
    "                with torch.set_grad_enabled(phase=='train'):\n",
    "                    # 順伝搬（forward）計算\n",
    "                    outputs = net(images)\n",
    "                    \n",
    "                    loss = criterion(outputs, labels) # 損失の計算\n",
    "                    _, preds = torch.max(outputs, 1) # ラベルを予測\n",
    "                    \n",
    "                    # 訓練時はバックプロパゲーション\n",
    "                    if phase == 'train':\n",
    "                        loss.backward() # 勾配の計算\n",
    "                        \n",
    "                        optimizer.step()\n",
    "                        \n",
    "                        #if (iteration % 10 == 0):\n",
    "                         #   print('イテレーション {} || Loss: {:.4f}'.format(iteration, loss.item()))\n",
    "                            \n",
    "                        epoch_train_loss += loss.item()\n",
    "                        epoch_train_correct += torch.sum(preds == labels)\n",
    "                        iteration += 1\n",
    "                    \n",
    "                    else:\n",
    "                        epoch_val_loss += loss.item()\n",
    "                        epoch_val_correct += torch.sum(preds == labels)\n",
    "                                                   \n",
    "        # epochごとの訓練データの正解率\n",
    "        epoch_train_acc = epoch_train_correct.double(\n",
    "            ) / len(dataloaders_dict['train'].dataset)\n",
    "\n",
    "        # epochごとのテストデータの正解率\n",
    "        epoch_val_acc = epoch_val_correct.double(\n",
    "            ) / len(dataloaders_dict['val'].dataset)\n",
    "                                                         \n",
    "        print('epoch {} || Epoch_TRAIN_Loss:{:.4f} ||Epoch_VAL_Loss:{:.4f}'.format(\n",
    "            epoch+1, epoch_train_loss, epoch_val_loss))\n",
    "        print('epoch {} || Epoch_TRAIN_Acc:{:.4f} ||Epoch_VAL_Acc:{:.4f}'.format(\n",
    "            epoch+1, epoch_train_acc, epoch_val_acc))                                               \n",
    "        \n",
    "        # ログを保存\n",
    "        log_epoch = {'epoch': epoch+1,\n",
    "                     'train_loss': epoch_train_loss, \n",
    "                     'val_loss': epoch_val_loss,\n",
    "                     'train_acc':epoch_train_acc,\n",
    "                     'val_acc':epoch_val_acc}\n",
    "                                                       \n",
    "        logs.append(log_epoch)\n",
    "        df = pd.DataFrame(logs)\n",
    "        df.to_csv(\"log_output.csv\")\n",
    "        \n",
    "        epoch_train_loss = 0.0  # epochの損失和\n",
    "        epoch_val_loss = 0.0  \n",
    "        epoch_train_correct = 0.0 # epochの正解率和　\n",
    "        epoch_val_correct = 0.0\n",
    "        \n",
    "dataloaders_dict = {'train' : trainloader,'val': testloader}\n",
    "net = Net()\n",
    "criterion = nn.CrossEntropyLoss()\n",
    "optimizer = optim.SGD(net.parameters(), lr=0.001, momentum=0.9)\n",
    "train_model(net=net, dataloaders_dict=dataloaders_dict, criterion=criterion,optimizer=optimizer, num_epochs=20)"
   ]
  },
  {
   "cell_type": "markdown",
   "metadata": {},
   "source": [
    "## 自作Dataset, Dataloderの作成\n",
    "https://pytorch.org/tutorials/beginner/data_loading_tutorial.html"
   ]
  },
  {
   "cell_type": "code",
   "execution_count": 230,
   "metadata": {},
   "outputs": [],
   "source": [
    "import os\n",
    "import torch\n",
    "import pandas as pd\n",
    "from skimage import io, transform\n",
    "import numpy as np\n",
    "import matplotlib.pyplot as plt\n",
    "from torch.utils.data import Dataset, DataLoader\n",
    "from torchvision import transforms, utils\n",
    "\n",
    "# Ignore warnings\n",
    "import warnings\n",
    "warnings.filterwarnings(\"ignore\")"
   ]
  },
  {
   "cell_type": "code",
   "execution_count": 231,
   "metadata": {},
   "outputs": [
    {
     "name": "stdout",
     "output_type": "stream",
     "text": [
      "Image name: person-7.jpg\n",
      "Landmarks shape: (68, 2)\n",
      "First 4 Landmarks: [[32. 65.]\n",
      " [33. 76.]\n",
      " [34. 86.]\n",
      " [34. 97.]]\n"
     ]
    },
    {
     "data": {
      "image/png": "[encoded data removed]",
      "text/plain": [
       "<Figure size 432x288 with 1 Axes>"
      ]
     },
     "metadata": {
      "needs_background": "light"
     },
     "output_type": "display_data"
    }
   ],
   "source": [
    "landmarks_frame = pd.read_csv('faces/face_landmarks.csv')\n",
    "# 特定の画像のインデックス\n",
    "n = 65\n",
    "img_name = landmarks_frame['image_name'][n]\n",
    "# 位置を(x,y)の組をarray形でとる\n",
    "landmarks = landmarks_frame.iloc[n, 1:].values\n",
    "landmarks = landmarks.astype('float').reshape(-1, 2)\n",
    "\n",
    "print('Image name: {}'.format(img_name))\n",
    "print('Landmarks shape: {}'.format(landmarks.shape))\n",
    "print('First 4 Landmarks: {}'.format(landmarks[:4]))\n",
    "\n",
    "def show_landmarks(image, landmarks):\n",
    "    plt.imshow(image)\n",
    "    plt.scatter(landmarks[:, 0], landmarks[:, 1], s=10, marker='.', c='r')\n",
    "    plt.pause(0.001)\n",
    "    \n",
    "plt.figure()\n",
    "img_path = os.path.join('faces', img_name)\n",
    "show_landmarks(io.imread(img_path), landmarks)\n",
    "plt.show()"
   ]
  },
  {
   "cell_type": "markdown",
   "metadata": {},
   "source": [
    "## Datasetクラス\n",
    "自作でdatasetクラスを作成する際は、torch.utils.data.Datasetを継承する必要がある    \n",
    "２つのメソッドを必ず作成する必要がある  \n",
    "・\\__len__:データセットのサイズを返すメソッド len(dataset)   \n",
    "・\\__getitem__: i番目の画像を返すメソッド dataset[i]  \n",
    "画像の読み込みは\\__getitem__で行う。\\__init__で一気に読み込むのではなく、必要となった時に一枚ずつ読み込む方がメモリを温存できる  \n",
    "Datasetクラスは画像と、ラベルのペアを出力してくれるクラス"
   ]
  },
  {
   "cell_type": "code",
   "execution_count": 232,
   "metadata": {},
   "outputs": [],
   "source": [
    "class FaceLandmarksDataset(Dataset):\n",
    "    def __init__(self, csv_file, root_dir, transform=None):\n",
    "        \"\"\"\n",
    "        Args:\n",
    "            csv_file (string): Path to the csv file with annotations.\n",
    "            root_dir (string): Directory with all the images.\n",
    "            transform (callable, optional): Optional transform to be applied\n",
    "                on a sample.\n",
    "        \"\"\"\n",
    "        self.landmarks_frame = pd.read_csv(csv_file)\n",
    "        self.root_dir = root_dir\n",
    "        self.transform = transform\n",
    "\n",
    "    def __len__(self):\n",
    "        return len(self.landmarks_frame)\n",
    "    \n",
    "    def __getitem__(self, idx):\n",
    "        if torch.is_tensor(idx): # テンソルの場合は、リストに変換\n",
    "            idx = idx.tolist()\n",
    "        # 画像パス\n",
    "        img_name = os.path.join(self.root_dir, self.landmarks_frame.iloc[idx, 0])\n",
    "        image = io.imread(img_name)\n",
    "        landmarks = self.landmarks_frame.iloc[idx, 1:]\n",
    "        landmarks = np.array([landmarks])\n",
    "        landmarks = landmarks.astype('float').reshape(-1, 2)\n",
    "        sample = {'image' : image, 'landmarks' : landmarks}\n",
    "        \n",
    "        if self.transform:\n",
    "            sample = self.transform(sample)\n",
    "            \n",
    "        return sample"
   ]
  },
  {
   "cell_type": "code",
   "execution_count": 222,
   "metadata": {},
   "outputs": [
    {
     "name": "stdout",
     "output_type": "stream",
     "text": [
      "0 (324, 215, 3) (68, 2)\n",
      "1 (500, 333, 3) (68, 2)\n",
      "2 (250, 258, 3) (68, 2)\n",
      "3 (434, 290, 3) (68, 2)\n"
     ]
    },
    {
     "data": {
      "image/png": "[encoded data removed]",
      "text/plain": [
       "<Figure size 432x288 with 4 Axes>"
      ]
     },
     "metadata": {
      "needs_background": "light"
     },
     "output_type": "display_data"
    }
   ],
   "source": [
    "def show_landmarks(image, landmarks, ax):\n",
    "    \"\"\"Show image with landmarks\"\"\"\n",
    "    ax.imshow(image)\n",
    "    ax.scatter(landmarks[:, 0], landmarks[:, 1], s=10, marker='.', c='r')\n",
    "    \n",
    "\n",
    "    face_dataset = FaceLandmarksDataset(csv_file='faces/face_landmarks.csv',\n",
    "                                                                       root_dir='faces/')\n",
    "fig = plt.figure()\n",
    "\n",
    "# __len__を定義したので、画像の合計数がlenで求められる\n",
    "for i in range(len(face_dataset)):\n",
    "    sample = face_dataset[i]\n",
    "    print(i, sample['image'].shape, sample['landmarks'].shape)\n",
    "    \n",
    "    ax = plt.subplot(1, 4, i + 1)\n",
    "    plt.tight_layout()\n",
    "    ax.set_title('Sample #{}'.format(i))\n",
    "    ax.axis('off')\n",
    "    show_landmarks(sample['image'], sample['landmarks'], ax)\n",
    "        \n",
    "    if i == 3:\n",
    "        #plt.show()\n",
    "        break"
   ]
  },
  {
   "cell_type": "markdown",
   "metadata": {},
   "source": [
    "### DataLoader の作成\n",
    "画像とラベルを出力させるdataset オブジェクトを用いて、バットを出力させるDataLoaderを作成  \n",
    "torch.utils.data.DataLoaderによって簡単に作成できる。  \n",
    "collate_fnでどのようにサンプルをバッチ化させるかを決めることができる。"
   ]
  },
  {
   "cell_type": "code",
   "execution_count": 252,
   "metadata": {},
   "outputs": [],
   "source": [
    "transformed_dataset = FaceLandmarksDataset(csv_file='faces/face_landmarks.csv',\n",
    "                                           root_dir='faces/',\n",
    "                                           transform=transforms.Compose([\n",
    "                                                            transforms.Resize(124)]))\n",
    "\n",
    "dataloader = DataLoader(transformed_dataset, batch_size=4,\n",
    "                        shuffle=True, num_workers=4)"
   ]
  },
  {
   "cell_type": "code",
   "execution_count": null,
   "metadata": {},
   "outputs": [],
   "source": []
  },
  {
   "cell_type": "markdown",
   "metadata": {},
   "source": [
    "# TensorBoard によるモデルの可視化　\n",
    "Fashion-Mnistを用いて、modelの可視化を行う  \n",
    "https://pytorch.org/tutorials/intermediate/tensorboard_tutorial.html"
   ]
  },
  {
   "cell_type": "code",
   "execution_count": 50,
   "metadata": {},
   "outputs": [],
   "source": [
    "import matplotlib.pyplot as plt\n",
    "import numpy as np\n",
    "\n",
    "import torch, torchvision\n",
    "import torchvision.transforms as transforms\n",
    "import torch.nn as nn\n",
    "import torch.nn.functional as F\n",
    "import torch.optim as optim"
   ]
  },
  {
   "cell_type": "markdown",
   "metadata": {},
   "source": [
    "## DataLoaderの作成"
   ]
  },
  {
   "cell_type": "code",
   "execution_count": 125,
   "metadata": {},
   "outputs": [],
   "source": [
    "# 画像データセットのダウンロード時の変形処理\n",
    "transform = transforms.Compose(\n",
    "    [transforms.ToTensor(),\n",
    "    transforms.Normalize((0.5,), (0.5,))])\n",
    "\n",
    "# デフォルトでpytorchにあるデータでdatasetを簡単に作ってくれる\n",
    "trainset = torchvision.datasets.FashionMNIST('./data_pytorch',\n",
    "    download=True,\n",
    "    train=True,\n",
    "    transform=transform)\n",
    "testset = torchvision.datasets.FashionMNIST('./data_pytorch/',\n",
    "    download=True,\n",
    "    train=False,\n",
    "    transform=transform)\n",
    "\n",
    "# DataLoader\n",
    "trainloader = torch.utils.data.DataLoader(trainset, batch_size=4,\n",
    "                                        shuffle=True, num_workers=2)\n",
    "\n",
    "\n",
    "testloader = torch.utils.data.DataLoader(testset, batch_size=4,\n",
    "                                        shuffle=False, num_workers=2)\n",
    "# constant for classes\n",
    "classes = ('T-shirt/top', 'Trouser', 'Pullover', 'Dress', 'Coat',\n",
    "        'Sandal', 'Shirt', 'Sneaker', 'Bag', 'Ankle Boot')\n",
    "\n",
    "# helper function to show an image\n",
    "# (used in the `plot_classes_preds` function below)\n",
    "def matplotlib_imshow(img, one_channel=False):\n",
    "    if one_channel:\n",
    "        img = img.mean(dim=0)\n",
    "    img = img / 2 + 0.5     # unnormalize\n",
    "    img = img.detach().cpu().clone()\n",
    "    npimg = img.numpy()\n",
    "    if one_channel:\n",
    "        plt.imshow(npimg, cmap=\"Greys\")\n",
    "    else:\n",
    "        plt.imshow(np.transpose(npimg, (1, 2, 0)))"
   ]
  },
  {
   "cell_type": "markdown",
   "metadata": {},
   "source": [
    "## モデルの定義"
   ]
  },
  {
   "cell_type": "code",
   "execution_count": 122,
   "metadata": {},
   "outputs": [],
   "source": [
    "class Net(nn.Module):\n",
    "    def __init__(self):\n",
    "        super(Net, self).__init__()\n",
    "        self.conv1 = nn.Conv2d(1, 6, 5)\n",
    "        self.pool = nn.MaxPool2d(2, 2)\n",
    "        self.conv2 = nn.Conv2d(6, 16, 5)\n",
    "        self.fc1 = nn.Linear(16 *4 *4, 120)\n",
    "        self.fc2 = nn.Linear(120, 84)\n",
    "        self.fc3 = nn.Linear(84, 10)\n",
    "        \n",
    "    def forward(self, x):\n",
    "        x = self.pool(F.relu(self.conv1(x)))\n",
    "        x = self.pool(F.relu(self.conv2(x)))\n",
    "        x = x.view(-1, 16*4 * 4)\n",
    "        x = self.fc1(x)\n",
    "        x = self.fc2(x)\n",
    "        x = self.fc3(x)\n",
    "        return x\n",
    "\n",
    "net = Net()"
   ]
  },
  {
   "cell_type": "markdown",
   "metadata": {},
   "source": [
    "## 損失関数とオプティマイザの設定"
   ]
  },
  {
   "cell_type": "code",
   "execution_count": 123,
   "metadata": {},
   "outputs": [],
   "source": [
    "criterion = nn.CrossEntropyLoss()\n",
    "optimizer = optim.SGD(net.parameters(), lr=0.001, momentum=0.9)"
   ]
  },
  {
   "cell_type": "markdown",
   "metadata": {},
   "source": [
    "## TensorBorardのセットアップ"
   ]
  },
  {
   "cell_type": "code",
   "execution_count": 46,
   "metadata": {},
   "outputs": [],
   "source": [
    "from torch.utils.tensorboard import SummaryWriter\n",
    "\n",
    "# TensorBoardに情報を書くためのオブジェクトを作成\n",
    "writer = SummaryWriter('runs/fashion_mnist_experiment_1')"
   ]
  },
  {
   "cell_type": "markdown",
   "metadata": {},
   "source": [
    "## TensorBoardへの画像の書き込み"
   ]
  },
  {
   "cell_type": "code",
   "execution_count": 67,
   "metadata": {},
   "outputs": [
    {
     "data": {
      "image/png": "[encoded data removed]",
      "text/plain": [
       "<Figure size 432x288 with 1 Axes>"
      ]
     },
     "metadata": {
      "needs_background": "light"
     },
     "output_type": "display_data"
    }
   ],
   "source": [
    "dataiter = iter(trainloader)\n",
    "images, labels = dataiter.next()\n",
    "\n",
    "img_grid = torchvision.utils.make_grid(images)\n",
    "matplotlib_imshow(img_grid, one_channel=True)\n",
    "\n",
    "# TensorBoardへの書き込み\n",
    "writer.add_image('four_fashion_mnist_images', img_grid)"
   ]
  },
  {
   "cell_type": "markdown",
   "metadata": {},
   "source": [
    "## TensorBoardへのモデルの書き込み"
   ]
  },
  {
   "cell_type": "code",
   "execution_count": 72,
   "metadata": {},
   "outputs": [],
   "source": [
    "writer.add_graph(net, images)\n",
    "writer.close()"
   ]
  },
  {
   "cell_type": "code",
   "execution_count": 92,
   "metadata": {},
   "outputs": [
    {
     "name": "stdout",
     "output_type": "stream",
     "text": [
      "warning: Embedding dir exists, did you set global_step for add_embedding()?\n"
     ]
    }
   ],
   "source": [
    "def select_n_random(data, labels, n=100):\n",
    "        assert len(data) == len(labels)\n",
    "        perm = torch.randperm(len(data)) # torch.randperm(n) nまでの数でランダムな数の組みを作る\n",
    "        return data[perm][:n], labels[perm][:n]\n",
    "    \n",
    "images, labels = select_n_random(trainset.data, trainset.targets)\n",
    "\n",
    "class_labels = [classes[lab] for lab in labels]\n",
    "\n",
    "features = images.view(-1, 28 * 28)\n",
    "# 画像の次元削減を可視化\n",
    "writer.add_embedding(features,\n",
    "                    metadata=class_labels,\n",
    "                    label_img=images.unsqueeze(1)) # 列を追加\n",
    "writer.close()"
   ]
  },
  {
   "cell_type": "code",
   "execution_count": 84,
   "metadata": {},
   "outputs": [
    {
     "name": "stdout",
     "output_type": "stream",
     "text": [
      "tensor([10,  3,  8,  2,  4, 16,  7, 17,  6, 18, 12,  9, 15, 11,  5,  0, 19, 13,\n",
      "        14,  1])\n",
      "torch.Size([60000, 28, 28]) tensor([9, 0, 0,  ..., 3, 0, 5])\n"
     ]
    }
   ],
   "source": [
    "print(torch.randperm(20))\n",
    "# datasetオブジェクトのインスタンス変数にはdata, targetがある\n",
    "# https://pytorch.org/docs/stable/torchvision/datasets.html\n",
    "print(trainset.data.shape, trainset.targets) "
   ]
  },
  {
   "cell_type": "markdown",
   "metadata": {},
   "source": [
    "## TensoBoardへモデルの学習の様子を書き込む"
   ]
  },
  {
   "cell_type": "code",
   "execution_count": 114,
   "metadata": {},
   "outputs": [],
   "source": [
    "def images_to_probs(net, images):\n",
    "    '''\n",
    "    Generates predictions and corresponding probabilities from a trained\n",
    "    network and a list of images\n",
    "    '''\n",
    "    output = net(images)\n",
    "    # convert output probabilities to predicted class\n",
    "    _, preds_tensor = torch.max(output, 1)\n",
    "    cpu_device = torch.device('cpu')\n",
    "    preds_tensor.to(cpu_device)\n",
    "    preds_tensor = preds_tensor.detach().cpu().clone()\n",
    "    preds = np.squeeze(preds_tensor.numpy()) # np.squeeze()でテンソルの次元を削減\n",
    "    return preds, [F.softmax(el, dim=0)[i].item() for i, el in zip(preds, output)] # 予測ラベルと、確率を返す\n",
    "\n",
    "\n",
    "def plot_classes_preds(net, images, labels):\n",
    "    '''\n",
    "    Generates matplotlib Figure using a trained network, along with images\n",
    "    and labels from a batch, that shows the network's top prediction along\n",
    "    with its probability, alongside the actual label, coloring this\n",
    "    information based on whether the prediction was correct or not.\n",
    "    Uses the \"images_to_probs\" function.\n",
    "    '''\n",
    "    preds, probs = images_to_probs(net, images)\n",
    "    # plot the images in the batch, along with predicted and true labels\n",
    "    fig = plt.figure(figsize=(12, 48))\n",
    "    for idx in np.arange(4): # バッチサイズ４なので、4枚の画像を出力\n",
    "        ax = fig.add_subplot(1, 4, idx+1, xticks=[], yticks=[])\n",
    "        matplotlib_imshow(images[idx], one_channel=True)\n",
    "        ax.set_title(\"{0}, {1:.1f}%\\n(label: {2})\".format(\n",
    "            classes[preds[idx]],\n",
    "            probs[idx] * 100.0,\n",
    "            classes[labels[idx]]),\n",
    "                    color=(\"green\" if preds[idx]==labels[idx].item() else \"red\"))\n",
    "    return fig"
   ]
  },
  {
   "cell_type": "code",
   "execution_count": 127,
   "metadata": {},
   "outputs": [
    {
     "name": "stdout",
     "output_type": "stream",
     "text": [
      "Finished Training\n"
     ]
    }
   ],
   "source": [
    "device = torch.device('cuda:0' if torch.cuda.is_available() else 'cpu')\n",
    "net.to(device)\n",
    "running_loss = 0.0\n",
    "for epoch in range(1):  # loop over the dataset multiple times\n",
    "\n",
    "    for i, data in enumerate(trainloader, 0):\n",
    "\n",
    "        # get the inputs; data is a list of [inputs, labels]\n",
    "        inputs, labels = data[0].to(device), data[1].to(device)\n",
    "\n",
    "        # zero the parameter gradients\n",
    "        optimizer.zero_grad()\n",
    "\n",
    "        # forward + backward + optimize\n",
    "        outputs = net(inputs)\n",
    "        loss = criterion(outputs, labels)\n",
    "        loss.backward()\n",
    "        optimizer.step()\n",
    "        \n",
    "        running_loss += loss.item()\n",
    "        \n",
    "        # 1000バッチごとに保存\n",
    "        if i % 1000 == 999:\n",
    "            writer.add_scalar('training loss', \n",
    "                                          running_loss / 1000, \n",
    "                                          epoch*len(trainloader)+i) # イテレーション回数\n",
    "            writer.add_figure('prediction vs. actuals',\n",
    "                                             plot_classes_preds(net, inputs, labels))\n",
    "            running_loss = 0.0\n",
    "            \n",
    "print('Finished Training')"
   ]
  },
  {
   "cell_type": "markdown",
   "metadata": {},
   "source": [
    "## テストデータのAUCをTensoBoard へ書き込む"
   ]
  },
  {
   "cell_type": "code",
   "execution_count": 129,
   "metadata": {},
   "outputs": [],
   "source": [
    "# 2. gets the preds in a test_size Tensor\n",
    "# takes ~10 seconds to run\n",
    "device = torch.device('cuda:0' if torch.cuda.is_available() else 'cpu')\n",
    "net.to(device)\n",
    "\n",
    "class_probs = []\n",
    "class_preds = []\n",
    "with torch.no_grad():\n",
    "    for data in testloader:\n",
    "        images, labels = data[0].to(device), data[1].to(device)\n",
    "        output = net(images)\n",
    "        class_probs_batch = [F.softmax(el, dim=0) for el in output]\n",
    "        _, class_preds_batch = torch.max(output, 1)\n",
    "\n",
    "        class_probs.append(class_probs_batch)\n",
    "        class_preds.append(class_preds_batch)\n",
    "        \n",
    "test_probs = torch.cat([torch.stack(batch) for batch in class_probs])\n",
    "test_preds = torch.cat(class_preds)\n",
    "\n",
    "# helper function\n",
    "# AUCを表示\n",
    "def add_pr_curve_tensorboard(class_index, test_probs, test_preds, global_step=0):\n",
    "    '''\n",
    "    Takes in a \"class_index\" from 0 to 9 and plots the corresponding\n",
    "    precision-recall curve\n",
    "    '''\n",
    "    tensorboard_preds = test_preds == class_index\n",
    "    tensorboard_probs = test_probs[:, class_index]\n",
    "\n",
    "    writer.add_pr_curve(classes[class_index],\n",
    "                        tensorboard_preds,\n",
    "                        tensorboard_probs,\n",
    "                        global_step=global_step)\n",
    "    writer.close()\n",
    "\n",
    "# plot all the pr curves\n",
    "for i in range(len(classes)):\n",
    "    add_pr_curve_tensorboard(i, test_probs, test_preds)"
   ]
  },
  {
   "cell_type": "code",
   "execution_count": null,
   "metadata": {},
   "outputs": [],
   "source": []
  },
  {
   "cell_type": "markdown",
   "metadata": {},
   "source": [
    "# 物体検出\n",
    "https://pytorch.org/tutorials/intermediate/torchvision_tutorial.html  \n",
    "Mask R-CNNの記事  \n",
    "https://qiita.com/shtmr/items/4283c851bc3d9721ed96  "
   ]
  },
  {
   "cell_type": "code",
   "execution_count": 6,
   "metadata": {},
   "outputs": [],
   "source": [
    "import os\n",
    "import numpy as np\n",
    "import torch\n",
    "from PIL import Image"
   ]
  },
  {
   "cell_type": "code",
   "execution_count": 7,
   "metadata": {},
   "outputs": [
    {
     "data": {
      "image/png": "[encoded data removed]",
      "text/plain": [
       "<PIL.PngImagePlugin.PngImageFile image mode=P size=559x536 at 0x7F3D633D72E8>"
      ]
     },
     "execution_count": 7,
     "metadata": {},
     "output_type": "execute_result"
    }
   ],
   "source": [
    "Image.open('data_pytorch/PennFudanPed/PNGImages/FudanPed00001.png')\n",
    "mask = Image.open('data_pytorch/PennFudanPed/PedMasks/FudanPed00001_mask.png')\n",
    "# each mask instance has a different color, from zero to N, where\n",
    "# N is the number of instances. In order to make visualization easier,\n",
    "# let's adda color palette to the mask.\n",
    "mask.putpalette([\n",
    "    0, 0, 0, # black background\n",
    "    255, 0, 0, # index 1 is red\n",
    "    255, 255, 0, # index 2 is yellow\n",
    "    255, 153, 0, # index 3 is orange\n",
    "])\n",
    "mask"
   ]
  },
  {
   "cell_type": "code",
   "execution_count": 8,
   "metadata": {},
   "outputs": [],
   "source": [
    "class PennFudanDataset(object):\n",
    "    def __init__(self, root, transforms):\n",
    "        self.root = root\n",
    "        self.transforms = transforms\n",
    "        # load all image files, sorting them to\n",
    "        # ensure that they are aligned\n",
    "        self.imgs = list(sorted(os.listdir(os.path.join(root, \"PNGImages\"))))\n",
    "        self.masks = list(sorted(os.listdir(os.path.join(root, \"PedMasks\"))))\n",
    "\n",
    "        \n",
    "    def __len__(self):\n",
    "        return len(self.imgs)\n",
    "    \n",
    "    def __getitem__(self, idx):\n",
    "        # load images ad masks\n",
    "        img_path = os.path.join(self.root, \"PNGImages\", self.imgs[idx])\n",
    "        mask_path = os.path.join(self.root, \"PedMasks\", self.masks[idx])\n",
    "        img = Image.open(img_path).convert(\"RGB\")\n",
    "        # note that we haven't converted the mask to RGB,\n",
    "        # because each color corresponds to a different instance\n",
    "        # with 0 being background\n",
    "        mask = Image.open(mask_path)\n",
    "        # convert the PIL Image into a numpy array\n",
    "        mask = np.array(mask)\n",
    "        # instances are encoded as different colors\n",
    "        obj_ids = np.unique(mask)\n",
    "        # first id is the background, so remove it\n",
    "        obj_ids = obj_ids[1:]\n",
    "\n",
    "        # split the color-encoded mask into a set\n",
    "        # of binary masks\n",
    "        masks = mask == obj_ids[:, None, None]\n",
    "\n",
    "        # get bounding box coordinates for each mask\n",
    "        num_objs = len(obj_ids)\n",
    "        boxes = []\n",
    "        for i in range(num_objs):\n",
    "            pos = np.where(masks[i])\n",
    "            xmin = np.min(pos[1])\n",
    "            xmax = np.max(pos[1])\n",
    "            ymin = np.min(pos[0])\n",
    "            ymax = np.max(pos[0])\n",
    "            boxes.append([xmin, ymin, xmax, ymax])\n",
    "\n",
    "        # convert everything into a torch.Tensor\n",
    "        boxes = torch.as_tensor(boxes, dtype=torch.float32)\n",
    "        # there is only one class\n",
    "        labels = torch.ones((num_objs,), dtype=torch.int64)\n",
    "        masks = torch.as_tensor(masks, dtype=torch.uint8)\n",
    "\n",
    "        image_id = torch.tensor([idx])\n",
    "        area = (boxes[:, 3] - boxes[:, 1]) * (boxes[:, 2] - boxes[:, 0])\n",
    "        # suppose all instances are not crowd\n",
    "        iscrowd = torch.zeros((num_objs,), dtype=torch.int64)\n",
    "\n",
    "        target = {}\n",
    "        target[\"boxes\"] = boxes\n",
    "        target[\"labels\"] = labels\n",
    "        target[\"masks\"] = masks\n",
    "        target[\"image_id\"] = image_id\n",
    "        target[\"area\"] = area\n",
    "        target[\"iscrowd\"] = iscrowd\n",
    "\n",
    "        if self.transforms is not None:\n",
    "            img, target = self.transforms(img, target)\n",
    "\n",
    "        return img, target"
   ]
  },
  {
   "cell_type": "markdown",
   "metadata": {},
   "source": [
    "## Finetuning"
   ]
  },
  {
   "cell_type": "code",
   "execution_count": 12,
   "metadata": {},
   "outputs": [],
   "source": [
    "import torchvision\n",
    "from torchvision.models.detection.faster_rcnn import FastRCNNPredictor\n",
    "\n",
    "model = torchvision.models.detection.fasterrcnn_resnet50_fpn(pretrained=True)\n",
    "\n",
    "# 新しいクラス\n",
    "num_classes = 2 # 1 class (person) + background\n",
    "\n",
    "# get number of input features for the classifier\n",
    "in_features = model.roi_heads.box_predictor.cls_score.in_features\n",
    "\n",
    "# replace the pre-trained head with a new one\n",
    "model.roi_heads.box_predictor = FastRCNNPredictor(in_features, num_classes)"
   ]
  },
  {
   "cell_type": "markdown",
   "metadata": {},
   "source": [
    "## RCNNのバックボーン部分をモデルに加える"
   ]
  },
  {
   "cell_type": "code",
   "execution_count": 14,
   "metadata": {},
   "outputs": [
    {
     "name": "stderr",
     "output_type": "stream",
     "text": [
      "Downloading: \"https://download.pytorch.org/models/mobilenet_v2-b0353104.pth\" to /home/nagae/.cache/torch/checkpoints/mobilenet_v2-b0353104.pth\n",
      "100.0%\n"
     ]
    }
   ],
   "source": [
    "import torchvision\n",
    "from torchvision.models.detection import FasterRCNN\n",
    "from torchvision.models.detection.rpn import AnchorGenerator\n",
    "\n",
    "# load a pre-trained model for classification and return\n",
    "# only the features\n",
    "backbone = torchvision.models.mobilenet_v2(pretrained=True).features\n",
    "\n",
    "# FasterRCNN needs to know the number of\n",
    "# output channels in a backbone. For mobilenet_v2, it's 1280\n",
    "# so we need to add it here\n",
    "backbone.out_channels = 1280\n",
    "\n",
    "# let's make the RPN generate 5 x 3 anchors per spatial\n",
    "# location, with 5 different sizes and 3 different aspect\n",
    "# ratios. We have a Tuple[Tuple[int]] because each feature\n",
    "# map could potentially have different sizes and\n",
    "# aspect ratios\n",
    "anchor_generator = AnchorGenerator(sizes=((32, 64, 128, 256, 512),),\n",
    "                                   aspect_ratios=((0.5, 1.0, 2.0),))\n",
    "\n",
    "# let's define what are the feature maps that we will\n",
    "# use to perform the region of interest cropping, as well as\n",
    "# the size of the crop after rescaling.\n",
    "# if your backbone returns a Tensor, featmap_names is expected to\n",
    "# be [0]. More generally, the backbone should return an\n",
    "# OrderedDict[Tensor], and in featmap_names you can choose which\n",
    "# feature maps to use.\n",
    "roi_pooler = torchvision.ops.MultiScaleRoIAlign(featmap_names=[0],\n",
    "                                                output_size=7,\n",
    "                                                sampling_ratio=2)\n",
    "\n",
    "# put the pieces together inside a FasterRCNN model\n",
    "model = FasterRCNN(backbone,\n",
    "                   num_classes=2,\n",
    "                   rpn_anchor_generator=anchor_generator,\n",
    "                   box_roi_pool=roi_pooler)"
   ]
  },
  {
   "cell_type": "markdown",
   "metadata": {},
   "source": [
    "## RCNNのセグメンテーション予測部分を追加"
   ]
  },
  {
   "cell_type": "code",
   "execution_count": 25,
   "metadata": {},
   "outputs": [],
   "source": [
    "from torchvision.models.detection.faster_rcnn import FastRCNNPredictor\n",
    "from torchvision.models.detection.mask_rcnn import MaskRCNNPredictor\n",
    "\n",
    "\n",
    "def get_instance_segmentation_model(num_classes):\n",
    "    # load an instance segmentation model pre-trained on COCO\n",
    "    model = torchvision.models.detection.maskrcnn_resnet50_fpn(pretrained=True)\n",
    "\n",
    "    # get the number of input features for the classifier\n",
    "    in_features = model.roi_heads.box_predictor.cls_score.in_features\n",
    "    # replace the pre-trained head with a new one\n",
    "    model.roi_heads.box_predictor = FastRCNNPredictor(in_features, num_classes)\n",
    "\n",
    "    # now get the number of input features for the mask classifier\n",
    "    in_features_mask = model.roi_heads.mask_predictor.conv5_mask.in_channels\n",
    "    hidden_layer = 256\n",
    "    # and replace the mask predictor with a new one\n",
    "    model.roi_heads.mask_predictor = MaskRCNNPredictor(in_features_mask,\n",
    "                                                       hidden_layer,\n",
    "                                                       num_classes)\n",
    "\n",
    "    return model"
   ]
  },
  {
   "cell_type": "code",
   "execution_count": 26,
   "metadata": {},
   "outputs": [],
   "source": [
    "import transforms as T\n",
    "\n",
    "def get_transform(train):\n",
    "    transforms = []\n",
    "    transforms.append(T.ToTensor())\n",
    "    if train:\n",
    "        transforms.append(T.RandomHorizontalFlip(0.5))\n",
    "    return T.Compose(transforms)"
   ]
  },
  {
   "cell_type": "code",
   "execution_count": 27,
   "metadata": {},
   "outputs": [],
   "source": [
    "# use our dataset and defined transformations\n",
    "dataset = PennFudanDataset('data_pytorch/PennFudanPed', get_transform(train=True))\n",
    "dataset_test = PennFudanDataset('data_pytorch/PennFudanPed', get_transform(train=False))\n",
    "\n",
    "# split the dataset in train and test set\n",
    "torch.manual_seed(1)\n",
    "indices = torch.randperm(len(dataset)).tolist()\n",
    "dataset = torch.utils.data.Subset(dataset, indices[:-50])\n",
    "dataset_test = torch.utils.data.Subset(dataset_test, indices[-50:])\n",
    "\n",
    "# define training and validation data loaders\n",
    "data_loader = torch.utils.data.DataLoader(\n",
    "    dataset, batch_size=2, shuffle=True, num_workers=4,\n",
    "    collate_fn=utils.collate_fn)\n",
    "\n",
    "data_loader_test = torch.utils.data.DataLoader(\n",
    "    dataset_test, batch_size=1, shuffle=False, num_workers=4,\n",
    "    collate_fn=utils.collate_fn)"
   ]
  },
  {
   "cell_type": "code",
   "execution_count": 28,
   "metadata": {},
   "outputs": [
    {
     "name": "stderr",
     "output_type": "stream",
     "text": [
      "Downloading: \"https://download.pytorch.org/models/maskrcnn_resnet50_fpn_coco-bf2d0c1e.pth\" to /home/nagae/.cache/torch/checkpoints/maskrcnn_resnet50_fpn_coco-bf2d0c1e.pth\n",
      "13.8%IOPub message rate exceeded.\n",
      "The notebook server will temporarily stop sending output\n",
      "to the client in order to avoid crashing it.\n",
      "To change this limit, set the config variable\n",
      "`--NotebookApp.iopub_msg_rate_limit`.\n",
      "\n",
      "Current values:\n",
      "NotebookApp.iopub_msg_rate_limit=1000.0 (msgs/sec)\n",
      "NotebookApp.rate_limit_window=3.0 (secs)\n",
      "\n",
      "36.7%IOPub message rate exceeded.\n",
      "The notebook server will temporarily stop sending output\n",
      "to the client in order to avoid crashing it.\n",
      "To change this limit, set the config variable\n",
      "`--NotebookApp.iopub_msg_rate_limit`.\n",
      "\n",
      "Current values:\n",
      "NotebookApp.iopub_msg_rate_limit=1000.0 (msgs/sec)\n",
      "NotebookApp.rate_limit_window=3.0 (secs)\n",
      "\n",
      "60.0%IOPub message rate exceeded.\n",
      "The notebook server will temporarily stop sending output\n",
      "to the client in order to avoid crashing it.\n",
      "To change this limit, set the config variable\n",
      "`--NotebookApp.iopub_msg_rate_limit`.\n",
      "\n",
      "Current values:\n",
      "NotebookApp.iopub_msg_rate_limit=1000.0 (msgs/sec)\n",
      "NotebookApp.rate_limit_window=3.0 (secs)\n",
      "\n",
      "83.6%IOPub message rate exceeded.\n",
      "The notebook server will temporarily stop sending output\n",
      "to the client in order to avoid crashing it.\n",
      "To change this limit, set the config variable\n",
      "`--NotebookApp.iopub_msg_rate_limit`.\n",
      "\n",
      "Current values:\n",
      "NotebookApp.iopub_msg_rate_limit=1000.0 (msgs/sec)\n",
      "NotebookApp.rate_limit_window=3.0 (secs)\n",
      "\n",
      "100.0%\n"
     ]
    }
   ],
   "source": [
    "device = torch.device('cuda') if torch.cuda.is_available() else torch.device('cpu')\n",
    "\n",
    "# our dataset has two classes only - background and person\n",
    "num_classes = 2\n",
    "\n",
    "# get the model using our helper function\n",
    "model = get_instance_segmentation_model(num_classes)\n",
    "# move model to the right device\n",
    "model.to(device)\n",
    "\n",
    "# construct an optimizer\n",
    "params = [p for p in model.parameters() if p.requires_grad]\n",
    "optimizer = torch.optim.SGD(params, lr=0.005,\n",
    "                            momentum=0.9, weight_decay=0.0005)\n",
    "\n",
    "# and a learning rate scheduler which decreases the learning rate by\n",
    "# 10x every 3 epochs\n",
    "lr_scheduler = torch.optim.lr_scheduler.StepLR(optimizer,\n",
    "                                               step_size=3,\n",
    "                                               gamma=0.1)"
   ]
  },
  {
   "cell_type": "code",
   "execution_count": 30,
   "metadata": {},
   "outputs": [
    {
     "name": "stdout",
     "output_type": "stream",
     "text": [
      "Epoch: [0]  [ 0/60]  eta: 0:01:48  lr: 0.000090  loss: 3.5784 (3.5784)  loss_classifier: 0.7385 (0.7385)  loss_box_reg: 0.1523 (0.1523)  loss_mask: 2.6620 (2.6620)  loss_objectness: 0.0181 (0.0181)  loss_rpn_box_reg: 0.0076 (0.0076)  time: 1.8013  data: 0.1491  max mem: 2303\n",
      "Epoch: [0]  [10/60]  eta: 0:00:23  lr: 0.000936  loss: 1.5785 (2.1231)  loss_classifier: 0.4534 (0.4968)  loss_box_reg: 0.1843 (0.1905)  loss_mask: 0.9259 (1.4015)  loss_objectness: 0.0181 (0.0238)  loss_rpn_box_reg: 0.0090 (0.0105)  time: 0.4705  data: 0.0179  max mem: 2861\n",
      "Epoch: [0]  [20/60]  eta: 0:00:16  lr: 0.001783  loss: 0.8689 (1.4333)  loss_classifier: 0.2365 (0.3405)  loss_box_reg: 0.1548 (0.1737)  loss_mask: 0.4021 (0.8843)  loss_objectness: 0.0181 (0.0228)  loss_rpn_box_reg: 0.0100 (0.0120)  time: 0.3325  data: 0.0043  max mem: 2862\n",
      "Epoch: [0]  [30/60]  eta: 0:00:11  lr: 0.002629  loss: 0.5282 (1.1221)  loss_classifier: 0.0977 (0.2563)  loss_box_reg: 0.1286 (0.1598)  loss_mask: 0.2488 (0.6762)  loss_objectness: 0.0097 (0.0181)  loss_rpn_box_reg: 0.0100 (0.0117)  time: 0.3348  data: 0.0039  max mem: 3595\n",
      "Epoch: [0]  [40/60]  eta: 0:00:07  lr: 0.003476  loss: 0.4066 (0.9485)  loss_classifier: 0.0617 (0.2087)  loss_box_reg: 0.1056 (0.1506)  loss_mask: 0.2104 (0.5621)  loss_objectness: 0.0045 (0.0147)  loss_rpn_box_reg: 0.0115 (0.0125)  time: 0.3429  data: 0.0039  max mem: 3595\n",
      "Epoch: [0]  [50/60]  eta: 0:00:03  lr: 0.004323  loss: 0.3295 (0.8265)  loss_classifier: 0.0507 (0.1780)  loss_box_reg: 0.0864 (0.1382)  loss_mask: 0.1732 (0.4851)  loss_objectness: 0.0029 (0.0124)  loss_rpn_box_reg: 0.0115 (0.0128)  time: 0.3389  data: 0.0040  max mem: 3595\n",
      "Epoch: [0]  [59/60]  eta: 0:00:00  lr: 0.005000  loss: 0.2549 (0.7363)  loss_classifier: 0.0370 (0.1559)  loss_box_reg: 0.0607 (0.1231)  loss_mask: 0.1490 (0.4341)  loss_objectness: 0.0026 (0.0110)  loss_rpn_box_reg: 0.0107 (0.0122)  time: 0.3379  data: 0.0039  max mem: 3595\n",
      "Epoch: [0] Total time: 0:00:21 (0.3627 s / it)\n",
      "creating index...\n",
      "index created!\n",
      "Test:  [ 0/50]  eta: 0:00:09  model_time: 0.0762 (0.0762)  evaluator_time: 0.0138 (0.0138)  time: 0.1959  data: 0.1050  max mem: 3595\n",
      "Test:  [49/50]  eta: 0:00:00  model_time: 0.0636 (0.0659)  evaluator_time: 0.0026 (0.0055)  time: 0.0729  data: 0.0021  max mem: 3595\n",
      "Test: Total time: 0:00:03 (0.0770 s / it)\n",
      "Averaged stats: model_time: 0.0636 (0.0659)  evaluator_time: 0.0026 (0.0055)\n",
      "Accumulating evaluation results...\n",
      "DONE (t=0.01s).\n",
      "Accumulating evaluation results...\n",
      "DONE (t=0.01s).\n",
      "IoU metric: bbox\n",
      " Average Precision  (AP) @[ IoU=0.50:0.95 | area=   all | maxDets=100 ] = 0.677\n",
      " Average Precision  (AP) @[ IoU=0.50      | area=   all | maxDets=100 ] = 0.982\n",
      " Average Precision  (AP) @[ IoU=0.75      | area=   all | maxDets=100 ] = 0.815\n",
      " Average Precision  (AP) @[ IoU=0.50:0.95 | area= small | maxDets=100 ] = -1.000\n",
      " Average Precision  (AP) @[ IoU=0.50:0.95 | area=medium | maxDets=100 ] = 0.372\n",
      " Average Precision  (AP) @[ IoU=0.50:0.95 | area= large | maxDets=100 ] = 0.690\n",
      " Average Recall     (AR) @[ IoU=0.50:0.95 | area=   all | maxDets=  1 ] = 0.313\n",
      " Average Recall     (AR) @[ IoU=0.50:0.95 | area=   all | maxDets= 10 ] = 0.744\n",
      " Average Recall     (AR) @[ IoU=0.50:0.95 | area=   all | maxDets=100 ] = 0.744\n",
      " Average Recall     (AR) @[ IoU=0.50:0.95 | area= small | maxDets=100 ] = -1.000\n",
      " Average Recall     (AR) @[ IoU=0.50:0.95 | area=medium | maxDets=100 ] = 0.713\n",
      " Average Recall     (AR) @[ IoU=0.50:0.95 | area= large | maxDets=100 ] = 0.746\n",
      "IoU metric: segm\n",
      " Average Precision  (AP) @[ IoU=0.50:0.95 | area=   all | maxDets=100 ] = 0.699\n",
      " Average Precision  (AP) @[ IoU=0.50      | area=   all | maxDets=100 ] = 0.982\n",
      " Average Precision  (AP) @[ IoU=0.75      | area=   all | maxDets=100 ] = 0.892\n",
      " Average Precision  (AP) @[ IoU=0.50:0.95 | area= small | maxDets=100 ] = -1.000\n",
      " Average Precision  (AP) @[ IoU=0.50:0.95 | area=medium | maxDets=100 ] = 0.408\n",
      " Average Precision  (AP) @[ IoU=0.50:0.95 | area= large | maxDets=100 ] = 0.715\n",
      " Average Recall     (AR) @[ IoU=0.50:0.95 | area=   all | maxDets=  1 ] = 0.324\n",
      " Average Recall     (AR) @[ IoU=0.50:0.95 | area=   all | maxDets= 10 ] = 0.740\n",
      " Average Recall     (AR) @[ IoU=0.50:0.95 | area=   all | maxDets=100 ] = 0.744\n",
      " Average Recall     (AR) @[ IoU=0.50:0.95 | area= small | maxDets=100 ] = -1.000\n",
      " Average Recall     (AR) @[ IoU=0.50:0.95 | area=medium | maxDets=100 ] = 0.637\n",
      " Average Recall     (AR) @[ IoU=0.50:0.95 | area= large | maxDets=100 ] = 0.751\n",
      "Epoch: [1]  [ 0/60]  eta: 0:00:26  lr: 0.005000  loss: 0.1750 (0.1750)  loss_classifier: 0.0220 (0.0220)  loss_box_reg: 0.0293 (0.0293)  loss_mask: 0.1043 (0.1043)  loss_objectness: 0.0068 (0.0068)  loss_rpn_box_reg: 0.0126 (0.0126)  time: 0.4360  data: 0.1332  max mem: 3595\n",
      "Epoch: [1]  [10/60]  eta: 0:00:17  lr: 0.005000  loss: 0.2140 (0.2457)  loss_classifier: 0.0360 (0.0395)  loss_box_reg: 0.0341 (0.0403)  loss_mask: 0.1392 (0.1530)  loss_objectness: 0.0010 (0.0016)  loss_rpn_box_reg: 0.0119 (0.0113)  time: 0.3522  data: 0.0156  max mem: 3595\n",
      "Epoch: [1]  [20/60]  eta: 0:00:13  lr: 0.005000  loss: 0.2688 (0.2621)  loss_classifier: 0.0454 (0.0459)  loss_box_reg: 0.0343 (0.0429)  loss_mask: 0.1602 (0.1581)  loss_objectness: 0.0008 (0.0022)  loss_rpn_box_reg: 0.0124 (0.0131)  time: 0.3443  data: 0.0039  max mem: 3595\n",
      "Epoch: [1]  [30/60]  eta: 0:00:10  lr: 0.005000  loss: 0.2160 (0.2404)  loss_classifier: 0.0384 (0.0405)  loss_box_reg: 0.0277 (0.0358)  loss_mask: 0.1498 (0.1507)  loss_objectness: 0.0005 (0.0019)  loss_rpn_box_reg: 0.0083 (0.0116)  time: 0.3404  data: 0.0039  max mem: 3595\n",
      "Epoch: [1]  [40/60]  eta: 0:00:06  lr: 0.005000  loss: 0.1978 (0.2331)  loss_classifier: 0.0290 (0.0404)  loss_box_reg: 0.0211 (0.0330)  loss_mask: 0.1367 (0.1468)  loss_objectness: 0.0007 (0.0020)  loss_rpn_box_reg: 0.0076 (0.0110)  time: 0.3435  data: 0.0040  max mem: 3595\n",
      "Epoch: [1]  [50/60]  eta: 0:00:03  lr: 0.005000  loss: 0.2039 (0.2310)  loss_classifier: 0.0375 (0.0414)  loss_box_reg: 0.0216 (0.0322)  loss_mask: 0.1333 (0.1436)  loss_objectness: 0.0012 (0.0023)  loss_rpn_box_reg: 0.0078 (0.0116)  time: 0.3560  data: 0.0039  max mem: 3595\n",
      "Epoch: [1]  [59/60]  eta: 0:00:00  lr: 0.005000  loss: 0.1712 (0.2235)  loss_classifier: 0.0291 (0.0400)  loss_box_reg: 0.0156 (0.0300)  loss_mask: 0.1263 (0.1403)  loss_objectness: 0.0010 (0.0021)  loss_rpn_box_reg: 0.0072 (0.0111)  time: 0.3445  data: 0.0038  max mem: 3595\n",
      "Epoch: [1] Total time: 0:00:20 (0.3470 s / it)\n",
      "creating index...\n",
      "index created!\n",
      "Test:  [ 0/50]  eta: 0:00:08  model_time: 0.0614 (0.0614)  evaluator_time: 0.0023 (0.0023)  time: 0.1771  data: 0.1125  max mem: 3595\n",
      "Test:  [49/50]  eta: 0:00:00  model_time: 0.0650 (0.0650)  evaluator_time: 0.0026 (0.0039)  time: 0.0718  data: 0.0021  max mem: 3595\n",
      "Test: Total time: 0:00:03 (0.0747 s / it)\n",
      "Averaged stats: model_time: 0.0650 (0.0650)  evaluator_time: 0.0026 (0.0039)\n",
      "Accumulating evaluation results...\n",
      "DONE (t=0.01s).\n",
      "Accumulating evaluation results...\n",
      "DONE (t=0.01s).\n",
      "IoU metric: bbox\n",
      " Average Precision  (AP) @[ IoU=0.50:0.95 | area=   all | maxDets=100 ] = 0.752\n",
      " Average Precision  (AP) @[ IoU=0.50      | area=   all | maxDets=100 ] = 0.988\n",
      " Average Precision  (AP) @[ IoU=0.75      | area=   all | maxDets=100 ] = 0.940\n",
      " Average Precision  (AP) @[ IoU=0.50:0.95 | area= small | maxDets=100 ] = -1.000\n",
      " Average Precision  (AP) @[ IoU=0.50:0.95 | area=medium | maxDets=100 ] = 0.493\n",
      " Average Precision  (AP) @[ IoU=0.50:0.95 | area= large | maxDets=100 ] = 0.763\n",
      " Average Recall     (AR) @[ IoU=0.50:0.95 | area=   all | maxDets=  1 ] = 0.357\n",
      " Average Recall     (AR) @[ IoU=0.50:0.95 | area=   all | maxDets= 10 ] = 0.799\n",
      " Average Recall     (AR) @[ IoU=0.50:0.95 | area=   all | maxDets=100 ] = 0.799\n",
      " Average Recall     (AR) @[ IoU=0.50:0.95 | area= small | maxDets=100 ] = -1.000\n",
      " Average Recall     (AR) @[ IoU=0.50:0.95 | area=medium | maxDets=100 ] = 0.700\n",
      " Average Recall     (AR) @[ IoU=0.50:0.95 | area= large | maxDets=100 ] = 0.806\n",
      "IoU metric: segm\n",
      " Average Precision  (AP) @[ IoU=0.50:0.95 | area=   all | maxDets=100 ] = 0.751\n",
      " Average Precision  (AP) @[ IoU=0.50      | area=   all | maxDets=100 ] = 0.988\n",
      " Average Precision  (AP) @[ IoU=0.75      | area=   all | maxDets=100 ] = 0.901\n",
      " Average Precision  (AP) @[ IoU=0.50:0.95 | area= small | maxDets=100 ] = -1.000\n",
      " Average Precision  (AP) @[ IoU=0.50:0.95 | area=medium | maxDets=100 ] = 0.356\n",
      " Average Precision  (AP) @[ IoU=0.50:0.95 | area= large | maxDets=100 ] = 0.762\n",
      " Average Recall     (AR) @[ IoU=0.50:0.95 | area=   all | maxDets=  1 ] = 0.348\n",
      " Average Recall     (AR) @[ IoU=0.50:0.95 | area=   all | maxDets= 10 ] = 0.791\n",
      " Average Recall     (AR) @[ IoU=0.50:0.95 | area=   all | maxDets=100 ] = 0.791\n",
      " Average Recall     (AR) @[ IoU=0.50:0.95 | area= small | maxDets=100 ] = -1.000\n",
      " Average Recall     (AR) @[ IoU=0.50:0.95 | area=medium | maxDets=100 ] = 0.713\n",
      " Average Recall     (AR) @[ IoU=0.50:0.95 | area= large | maxDets=100 ] = 0.796\n"
     ]
    },
    {
     "name": "stdout",
     "output_type": "stream",
     "text": [
      "Epoch: [2]  [ 0/60]  eta: 0:00:28  lr: 0.005000  loss: 0.1318 (0.1318)  loss_classifier: 0.0195 (0.0195)  loss_box_reg: 0.0068 (0.0068)  loss_mask: 0.0981 (0.0981)  loss_objectness: 0.0010 (0.0010)  loss_rpn_box_reg: 0.0063 (0.0063)  time: 0.4719  data: 0.1427  max mem: 3595\n",
      "Epoch: [2]  [10/60]  eta: 0:00:17  lr: 0.005000  loss: 0.1855 (0.1764)  loss_classifier: 0.0305 (0.0309)  loss_box_reg: 0.0151 (0.0171)  loss_mask: 0.1122 (0.1194)  loss_objectness: 0.0007 (0.0008)  loss_rpn_box_reg: 0.0063 (0.0082)  time: 0.3540  data: 0.0163  max mem: 3595\n",
      "Epoch: [2]  [20/60]  eta: 0:00:13  lr: 0.005000  loss: 0.1516 (0.1629)  loss_classifier: 0.0210 (0.0260)  loss_box_reg: 0.0106 (0.0132)  loss_mask: 0.1085 (0.1157)  loss_objectness: 0.0003 (0.0009)  loss_rpn_box_reg: 0.0045 (0.0071)  time: 0.3305  data: 0.0037  max mem: 3595\n",
      "Epoch: [2]  [30/60]  eta: 0:00:10  lr: 0.005000  loss: 0.1589 (0.1835)  loss_classifier: 0.0227 (0.0314)  loss_box_reg: 0.0104 (0.0170)  loss_mask: 0.1161 (0.1252)  loss_objectness: 0.0004 (0.0013)  loss_rpn_box_reg: 0.0074 (0.0087)  time: 0.3376  data: 0.0038  max mem: 3595\n",
      "Epoch: [2]  [40/60]  eta: 0:00:06  lr: 0.005000  loss: 0.1775 (0.1841)  loss_classifier: 0.0301 (0.0310)  loss_box_reg: 0.0140 (0.0164)  loss_mask: 0.1262 (0.1267)  loss_objectness: 0.0004 (0.0013)  loss_rpn_box_reg: 0.0078 (0.0088)  time: 0.3528  data: 0.0039  max mem: 3595\n",
      "Epoch: [2]  [50/60]  eta: 0:00:03  lr: 0.005000  loss: 0.1889 (0.1886)  loss_classifier: 0.0282 (0.0315)  loss_box_reg: 0.0163 (0.0177)  loss_mask: 0.1280 (0.1290)  loss_objectness: 0.0006 (0.0014)  loss_rpn_box_reg: 0.0081 (0.0091)  time: 0.3518  data: 0.0038  max mem: 3595\n",
      "Epoch: [2]  [59/60]  eta: 0:00:00  lr: 0.005000  loss: 0.1893 (0.1901)  loss_classifier: 0.0345 (0.0326)  loss_box_reg: 0.0180 (0.0180)  loss_mask: 0.1291 (0.1287)  loss_objectness: 0.0008 (0.0013)  loss_rpn_box_reg: 0.0091 (0.0095)  time: 0.3694  data: 0.0039  max mem: 3596\n",
      "Epoch: [2] Total time: 0:00:21 (0.3538 s / it)\n",
      "creating index...\n",
      "index created!\n",
      "Test:  [ 0/50]  eta: 0:00:08  model_time: 0.0616 (0.0616)  evaluator_time: 0.0024 (0.0024)  time: 0.1740  data: 0.1091  max mem: 3596\n",
      "Test:  [49/50]  eta: 0:00:00  model_time: 0.0660 (0.0648)  evaluator_time: 0.0023 (0.0035)  time: 0.0715  data: 0.0021  max mem: 3596\n",
      "Test: Total time: 0:00:03 (0.0740 s / it)\n",
      "Averaged stats: model_time: 0.0660 (0.0648)  evaluator_time: 0.0023 (0.0035)\n",
      "Accumulating evaluation results...\n",
      "DONE (t=0.01s).\n",
      "Accumulating evaluation results...\n",
      "DONE (t=0.01s).\n",
      "IoU metric: bbox\n",
      " Average Precision  (AP) @[ IoU=0.50:0.95 | area=   all | maxDets=100 ] = 0.815\n",
      " Average Precision  (AP) @[ IoU=0.50      | area=   all | maxDets=100 ] = 0.989\n",
      " Average Precision  (AP) @[ IoU=0.75      | area=   all | maxDets=100 ] = 0.960\n",
      " Average Precision  (AP) @[ IoU=0.50:0.95 | area= small | maxDets=100 ] = -1.000\n",
      " Average Precision  (AP) @[ IoU=0.50:0.95 | area=medium | maxDets=100 ] = 0.515\n",
      " Average Precision  (AP) @[ IoU=0.50:0.95 | area= large | maxDets=100 ] = 0.825\n",
      " Average Recall     (AR) @[ IoU=0.50:0.95 | area=   all | maxDets=  1 ] = 0.376\n",
      " Average Recall     (AR) @[ IoU=0.50:0.95 | area=   all | maxDets= 10 ] = 0.855\n",
      " Average Recall     (AR) @[ IoU=0.50:0.95 | area=   all | maxDets=100 ] = 0.855\n",
      " Average Recall     (AR) @[ IoU=0.50:0.95 | area= small | maxDets=100 ] = -1.000\n",
      " Average Recall     (AR) @[ IoU=0.50:0.95 | area=medium | maxDets=100 ] = 0.787\n",
      " Average Recall     (AR) @[ IoU=0.50:0.95 | area= large | maxDets=100 ] = 0.859\n",
      "IoU metric: segm\n",
      " Average Precision  (AP) @[ IoU=0.50:0.95 | area=   all | maxDets=100 ] = 0.747\n",
      " Average Precision  (AP) @[ IoU=0.50      | area=   all | maxDets=100 ] = 0.989\n",
      " Average Precision  (AP) @[ IoU=0.75      | area=   all | maxDets=100 ] = 0.926\n",
      " Average Precision  (AP) @[ IoU=0.50:0.95 | area= small | maxDets=100 ] = -1.000\n",
      " Average Precision  (AP) @[ IoU=0.50:0.95 | area=medium | maxDets=100 ] = 0.410\n",
      " Average Precision  (AP) @[ IoU=0.50:0.95 | area= large | maxDets=100 ] = 0.762\n",
      " Average Recall     (AR) @[ IoU=0.50:0.95 | area=   all | maxDets=  1 ] = 0.342\n",
      " Average Recall     (AR) @[ IoU=0.50:0.95 | area=   all | maxDets= 10 ] = 0.784\n",
      " Average Recall     (AR) @[ IoU=0.50:0.95 | area=   all | maxDets=100 ] = 0.784\n",
      " Average Recall     (AR) @[ IoU=0.50:0.95 | area= small | maxDets=100 ] = -1.000\n",
      " Average Recall     (AR) @[ IoU=0.50:0.95 | area=medium | maxDets=100 ] = 0.625\n",
      " Average Recall     (AR) @[ IoU=0.50:0.95 | area= large | maxDets=100 ] = 0.795\n",
      "Epoch: [3]  [ 0/60]  eta: 0:00:32  lr: 0.000500  loss: 0.1715 (0.1715)  loss_classifier: 0.0206 (0.0206)  loss_box_reg: 0.0121 (0.0121)  loss_mask: 0.1333 (0.1333)  loss_objectness: 0.0003 (0.0003)  loss_rpn_box_reg: 0.0051 (0.0051)  time: 0.5471  data: 0.1836  max mem: 3596\n",
      "Epoch: [3]  [10/60]  eta: 0:00:19  lr: 0.000500  loss: 0.1700 (0.1806)  loss_classifier: 0.0262 (0.0260)  loss_box_reg: 0.0121 (0.0149)  loss_mask: 0.1208 (0.1295)  loss_objectness: 0.0005 (0.0026)  loss_rpn_box_reg: 0.0056 (0.0076)  time: 0.3892  data: 0.0200  max mem: 3596\n",
      "Epoch: [3]  [20/60]  eta: 0:00:14  lr: 0.000500  loss: 0.1607 (0.1740)  loss_classifier: 0.0262 (0.0260)  loss_box_reg: 0.0100 (0.0136)  loss_mask: 0.1202 (0.1249)  loss_objectness: 0.0004 (0.0016)  loss_rpn_box_reg: 0.0063 (0.0079)  time: 0.3627  data: 0.0038  max mem: 3596\n",
      "Epoch: [3]  [30/60]  eta: 0:00:10  lr: 0.000500  loss: 0.1607 (0.1705)  loss_classifier: 0.0260 (0.0258)  loss_box_reg: 0.0100 (0.0125)  loss_mask: 0.1191 (0.1234)  loss_objectness: 0.0004 (0.0015)  loss_rpn_box_reg: 0.0059 (0.0072)  time: 0.3397  data: 0.0040  max mem: 3596\n",
      "Epoch: [3]  [40/60]  eta: 0:00:07  lr: 0.000500  loss: 0.1613 (0.1727)  loss_classifier: 0.0275 (0.0267)  loss_box_reg: 0.0095 (0.0128)  loss_mask: 0.1153 (0.1236)  loss_objectness: 0.0005 (0.0014)  loss_rpn_box_reg: 0.0065 (0.0082)  time: 0.3405  data: 0.0040  max mem: 3596\n",
      "Epoch: [3]  [50/60]  eta: 0:00:03  lr: 0.000500  loss: 0.1730 (0.1766)  loss_classifier: 0.0286 (0.0271)  loss_box_reg: 0.0120 (0.0137)  loss_mask: 0.1256 (0.1263)  loss_objectness: 0.0003 (0.0013)  loss_rpn_box_reg: 0.0080 (0.0083)  time: 0.3574  data: 0.0040  max mem: 3596\n",
      "Epoch: [3]  [59/60]  eta: 0:00:00  lr: 0.000500  loss: 0.1513 (0.1716)  loss_classifier: 0.0249 (0.0263)  loss_box_reg: 0.0101 (0.0129)  loss_mask: 0.1075 (0.1230)  loss_objectness: 0.0003 (0.0012)  loss_rpn_box_reg: 0.0077 (0.0082)  time: 0.3530  data: 0.0039  max mem: 3596\n",
      "Epoch: [3] Total time: 0:00:21 (0.3570 s / it)\n",
      "creating index...\n",
      "index created!\n",
      "Test:  [ 0/50]  eta: 0:00:08  model_time: 0.0623 (0.0623)  evaluator_time: 0.0024 (0.0024)  time: 0.1754  data: 0.1099  max mem: 3596\n",
      "Test:  [49/50]  eta: 0:00:00  model_time: 0.0658 (0.0655)  evaluator_time: 0.0023 (0.0036)  time: 0.0728  data: 0.0022  max mem: 3596\n",
      "Test: Total time: 0:00:03 (0.0751 s / it)\n",
      "Averaged stats: model_time: 0.0658 (0.0655)  evaluator_time: 0.0023 (0.0036)\n",
      "Accumulating evaluation results...\n",
      "DONE (t=0.01s).\n",
      "Accumulating evaluation results...\n",
      "DONE (t=0.01s).\n",
      "IoU metric: bbox\n",
      " Average Precision  (AP) @[ IoU=0.50:0.95 | area=   all | maxDets=100 ] = 0.823\n",
      " Average Precision  (AP) @[ IoU=0.50      | area=   all | maxDets=100 ] = 0.990\n",
      " Average Precision  (AP) @[ IoU=0.75      | area=   all | maxDets=100 ] = 0.943\n",
      " Average Precision  (AP) @[ IoU=0.50:0.95 | area= small | maxDets=100 ] = -1.000\n",
      " Average Precision  (AP) @[ IoU=0.50:0.95 | area=medium | maxDets=100 ] = 0.508\n",
      " Average Precision  (AP) @[ IoU=0.50:0.95 | area= large | maxDets=100 ] = 0.834\n",
      " Average Recall     (AR) @[ IoU=0.50:0.95 | area=   all | maxDets=  1 ] = 0.380\n",
      " Average Recall     (AR) @[ IoU=0.50:0.95 | area=   all | maxDets= 10 ] = 0.865\n",
      " Average Recall     (AR) @[ IoU=0.50:0.95 | area=   all | maxDets=100 ] = 0.865\n",
      " Average Recall     (AR) @[ IoU=0.50:0.95 | area= small | maxDets=100 ] = -1.000\n",
      " Average Recall     (AR) @[ IoU=0.50:0.95 | area=medium | maxDets=100 ] = 0.762\n",
      " Average Recall     (AR) @[ IoU=0.50:0.95 | area= large | maxDets=100 ] = 0.872\n",
      "IoU metric: segm\n",
      " Average Precision  (AP) @[ IoU=0.50:0.95 | area=   all | maxDets=100 ] = 0.765\n",
      " Average Precision  (AP) @[ IoU=0.50      | area=   all | maxDets=100 ] = 0.990\n",
      " Average Precision  (AP) @[ IoU=0.75      | area=   all | maxDets=100 ] = 0.925\n",
      " Average Precision  (AP) @[ IoU=0.50:0.95 | area= small | maxDets=100 ] = -1.000\n",
      " Average Precision  (AP) @[ IoU=0.50:0.95 | area=medium | maxDets=100 ] = 0.452\n",
      " Average Precision  (AP) @[ IoU=0.50:0.95 | area= large | maxDets=100 ] = 0.775\n",
      " Average Recall     (AR) @[ IoU=0.50:0.95 | area=   all | maxDets=  1 ] = 0.353\n",
      " Average Recall     (AR) @[ IoU=0.50:0.95 | area=   all | maxDets= 10 ] = 0.803\n",
      " Average Recall     (AR) @[ IoU=0.50:0.95 | area=   all | maxDets=100 ] = 0.803\n",
      " Average Recall     (AR) @[ IoU=0.50:0.95 | area= small | maxDets=100 ] = -1.000\n",
      " Average Recall     (AR) @[ IoU=0.50:0.95 | area=medium | maxDets=100 ] = 0.738\n",
      " Average Recall     (AR) @[ IoU=0.50:0.95 | area= large | maxDets=100 ] = 0.807\n"
     ]
    },
    {
     "name": "stdout",
     "output_type": "stream",
     "text": [
      "Epoch: [4]  [ 0/60]  eta: 0:00:24  lr: 0.000500  loss: 0.1064 (0.1064)  loss_classifier: 0.0067 (0.0067)  loss_box_reg: 0.0032 (0.0032)  loss_mask: 0.0920 (0.0920)  loss_objectness: 0.0001 (0.0001)  loss_rpn_box_reg: 0.0043 (0.0043)  time: 0.4078  data: 0.1215  max mem: 3596\n",
      "Epoch: [4]  [10/60]  eta: 0:00:17  lr: 0.000500  loss: 0.1576 (0.1627)  loss_classifier: 0.0227 (0.0224)  loss_box_reg: 0.0112 (0.0129)  loss_mask: 0.1110 (0.1189)  loss_objectness: 0.0006 (0.0009)  loss_rpn_box_reg: 0.0073 (0.0076)  time: 0.3556  data: 0.0144  max mem: 3596\n",
      "Epoch: [4]  [20/60]  eta: 0:00:13  lr: 0.000500  loss: 0.1576 (0.1609)  loss_classifier: 0.0227 (0.0234)  loss_box_reg: 0.0088 (0.0114)  loss_mask: 0.1110 (0.1186)  loss_objectness: 0.0004 (0.0008)  loss_rpn_box_reg: 0.0063 (0.0067)  time: 0.3369  data: 0.0038  max mem: 3596\n",
      "Epoch: [4]  [30/60]  eta: 0:00:10  lr: 0.000500  loss: 0.1505 (0.1669)  loss_classifier: 0.0256 (0.0269)  loss_box_reg: 0.0086 (0.0124)  loss_mask: 0.1003 (0.1191)  loss_objectness: 0.0002 (0.0010)  loss_rpn_box_reg: 0.0058 (0.0075)  time: 0.3368  data: 0.0039  max mem: 3596\n",
      "Epoch: [4]  [40/60]  eta: 0:00:06  lr: 0.000500  loss: 0.1520 (0.1647)  loss_classifier: 0.0261 (0.0266)  loss_box_reg: 0.0086 (0.0121)  loss_mask: 0.1080 (0.1177)  loss_objectness: 0.0004 (0.0010)  loss_rpn_box_reg: 0.0063 (0.0073)  time: 0.3588  data: 0.0039  max mem: 3596\n",
      "Epoch: [4]  [50/60]  eta: 0:00:03  lr: 0.000500  loss: 0.1614 (0.1654)  loss_classifier: 0.0278 (0.0270)  loss_box_reg: 0.0102 (0.0121)  loss_mask: 0.1115 (0.1175)  loss_objectness: 0.0004 (0.0009)  loss_rpn_box_reg: 0.0068 (0.0079)  time: 0.3639  data: 0.0038  max mem: 3596\n",
      "Epoch: [4]  [59/60]  eta: 0:00:00  lr: 0.000500  loss: 0.1579 (0.1687)  loss_classifier: 0.0283 (0.0272)  loss_box_reg: 0.0093 (0.0129)  loss_mask: 0.1102 (0.1194)  loss_objectness: 0.0003 (0.0011)  loss_rpn_box_reg: 0.0080 (0.0081)  time: 0.3592  data: 0.0038  max mem: 3596\n",
      "Epoch: [4] Total time: 0:00:21 (0.3527 s / it)\n",
      "creating index...\n",
      "index created!\n",
      "Test:  [ 0/50]  eta: 0:00:09  model_time: 0.0653 (0.0653)  evaluator_time: 0.0024 (0.0024)  time: 0.1830  data: 0.1146  max mem: 3596\n",
      "Test:  [49/50]  eta: 0:00:00  model_time: 0.0683 (0.0708)  evaluator_time: 0.0023 (0.0035)  time: 0.0767  data: 0.0021  max mem: 3596\n",
      "Test: Total time: 0:00:03 (0.0800 s / it)\n",
      "Averaged stats: model_time: 0.0683 (0.0708)  evaluator_time: 0.0023 (0.0035)\n",
      "Accumulating evaluation results...\n",
      "DONE (t=0.01s).\n",
      "Accumulating evaluation results...\n",
      "DONE (t=0.01s).\n",
      "IoU metric: bbox\n",
      " Average Precision  (AP) @[ IoU=0.50:0.95 | area=   all | maxDets=100 ] = 0.824\n",
      " Average Precision  (AP) @[ IoU=0.50      | area=   all | maxDets=100 ] = 0.990\n",
      " Average Precision  (AP) @[ IoU=0.75      | area=   all | maxDets=100 ] = 0.938\n",
      " Average Precision  (AP) @[ IoU=0.50:0.95 | area= small | maxDets=100 ] = -1.000\n",
      " Average Precision  (AP) @[ IoU=0.50:0.95 | area=medium | maxDets=100 ] = 0.512\n",
      " Average Precision  (AP) @[ IoU=0.50:0.95 | area= large | maxDets=100 ] = 0.835\n",
      " Average Recall     (AR) @[ IoU=0.50:0.95 | area=   all | maxDets=  1 ] = 0.387\n",
      " Average Recall     (AR) @[ IoU=0.50:0.95 | area=   all | maxDets= 10 ] = 0.869\n",
      " Average Recall     (AR) @[ IoU=0.50:0.95 | area=   all | maxDets=100 ] = 0.869\n",
      " Average Recall     (AR) @[ IoU=0.50:0.95 | area= small | maxDets=100 ] = -1.000\n",
      " Average Recall     (AR) @[ IoU=0.50:0.95 | area=medium | maxDets=100 ] = 0.775\n",
      " Average Recall     (AR) @[ IoU=0.50:0.95 | area= large | maxDets=100 ] = 0.876\n",
      "IoU metric: segm\n",
      " Average Precision  (AP) @[ IoU=0.50:0.95 | area=   all | maxDets=100 ] = 0.758\n",
      " Average Precision  (AP) @[ IoU=0.50      | area=   all | maxDets=100 ] = 0.990\n",
      " Average Precision  (AP) @[ IoU=0.75      | area=   all | maxDets=100 ] = 0.923\n",
      " Average Precision  (AP) @[ IoU=0.50:0.95 | area= small | maxDets=100 ] = -1.000\n",
      " Average Precision  (AP) @[ IoU=0.50:0.95 | area=medium | maxDets=100 ] = 0.436\n",
      " Average Precision  (AP) @[ IoU=0.50:0.95 | area= large | maxDets=100 ] = 0.769\n",
      " Average Recall     (AR) @[ IoU=0.50:0.95 | area=   all | maxDets=  1 ] = 0.349\n",
      " Average Recall     (AR) @[ IoU=0.50:0.95 | area=   all | maxDets= 10 ] = 0.798\n",
      " Average Recall     (AR) @[ IoU=0.50:0.95 | area=   all | maxDets=100 ] = 0.798\n",
      " Average Recall     (AR) @[ IoU=0.50:0.95 | area= small | maxDets=100 ] = -1.000\n",
      " Average Recall     (AR) @[ IoU=0.50:0.95 | area=medium | maxDets=100 ] = 0.688\n",
      " Average Recall     (AR) @[ IoU=0.50:0.95 | area= large | maxDets=100 ] = 0.806\n",
      "Epoch: [5]  [ 0/60]  eta: 0:00:41  lr: 0.000500  loss: 0.1524 (0.1524)  loss_classifier: 0.0201 (0.0201)  loss_box_reg: 0.0073 (0.0073)  loss_mask: 0.1187 (0.1187)  loss_objectness: 0.0005 (0.0005)  loss_rpn_box_reg: 0.0059 (0.0059)  time: 0.6865  data: 0.2544  max mem: 3596\n",
      "Epoch: [5]  [10/60]  eta: 0:00:18  lr: 0.000500  loss: 0.1475 (0.1495)  loss_classifier: 0.0181 (0.0209)  loss_box_reg: 0.0073 (0.0095)  loss_mask: 0.1143 (0.1120)  loss_objectness: 0.0003 (0.0010)  loss_rpn_box_reg: 0.0057 (0.0061)  time: 0.3704  data: 0.0248  max mem: 3596\n",
      "Epoch: [5]  [20/60]  eta: 0:00:14  lr: 0.000500  loss: 0.1352 (0.1470)  loss_classifier: 0.0181 (0.0217)  loss_box_reg: 0.0066 (0.0090)  loss_mask: 0.1020 (0.1094)  loss_objectness: 0.0003 (0.0008)  loss_rpn_box_reg: 0.0055 (0.0061)  time: 0.3377  data: 0.0028  max mem: 3596\n",
      "Epoch: [5]  [30/60]  eta: 0:00:10  lr: 0.000500  loss: 0.1434 (0.1611)  loss_classifier: 0.0270 (0.0247)  loss_box_reg: 0.0094 (0.0118)  loss_mask: 0.1051 (0.1162)  loss_objectness: 0.0004 (0.0009)  loss_rpn_box_reg: 0.0076 (0.0075)  time: 0.3462  data: 0.0038  max mem: 3596\n",
      "Epoch: [5]  [40/60]  eta: 0:00:07  lr: 0.000500  loss: 0.1592 (0.1644)  loss_classifier: 0.0272 (0.0253)  loss_box_reg: 0.0113 (0.0124)  loss_mask: 0.1139 (0.1181)  loss_objectness: 0.0004 (0.0008)  loss_rpn_box_reg: 0.0083 (0.0078)  time: 0.3643  data: 0.0038  max mem: 3596\n",
      "Epoch: [5]  [50/60]  eta: 0:00:03  lr: 0.000500  loss: 0.1451 (0.1603)  loss_classifier: 0.0252 (0.0249)  loss_box_reg: 0.0082 (0.0114)  loss_mask: 0.1020 (0.1158)  loss_objectness: 0.0003 (0.0008)  loss_rpn_box_reg: 0.0070 (0.0075)  time: 0.3718  data: 0.0038  max mem: 3596\n",
      "Epoch: [5]  [59/60]  eta: 0:00:00  lr: 0.000500  loss: 0.1453 (0.1615)  loss_classifier: 0.0231 (0.0252)  loss_box_reg: 0.0068 (0.0114)  loss_mask: 0.1028 (0.1164)  loss_objectness: 0.0003 (0.0009)  loss_rpn_box_reg: 0.0068 (0.0077)  time: 0.3727  data: 0.0037  max mem: 3596\n",
      "Epoch: [5] Total time: 0:00:21 (0.3648 s / it)\n",
      "creating index...\n",
      "index created!\n",
      "Test:  [ 0/50]  eta: 0:00:08  model_time: 0.0628 (0.0628)  evaluator_time: 0.0024 (0.0024)  time: 0.1783  data: 0.1123  max mem: 3596\n",
      "Test:  [49/50]  eta: 0:00:00  model_time: 0.0720 (0.0702)  evaluator_time: 0.0023 (0.0035)  time: 0.0773  data: 0.0021  max mem: 3596\n",
      "Test: Total time: 0:00:03 (0.0796 s / it)\n",
      "Averaged stats: model_time: 0.0720 (0.0702)  evaluator_time: 0.0023 (0.0035)\n",
      "Accumulating evaluation results...\n",
      "DONE (t=0.01s).\n",
      "Accumulating evaluation results...\n",
      "DONE (t=0.01s).\n",
      "IoU metric: bbox\n",
      " Average Precision  (AP) @[ IoU=0.50:0.95 | area=   all | maxDets=100 ] = 0.828\n",
      " Average Precision  (AP) @[ IoU=0.50      | area=   all | maxDets=100 ] = 0.991\n",
      " Average Precision  (AP) @[ IoU=0.75      | area=   all | maxDets=100 ] = 0.942\n",
      " Average Precision  (AP) @[ IoU=0.50:0.95 | area= small | maxDets=100 ] = -1.000\n",
      " Average Precision  (AP) @[ IoU=0.50:0.95 | area=medium | maxDets=100 ] = 0.521\n",
      " Average Precision  (AP) @[ IoU=0.50:0.95 | area= large | maxDets=100 ] = 0.840\n",
      " Average Recall     (AR) @[ IoU=0.50:0.95 | area=   all | maxDets=  1 ] = 0.377\n",
      " Average Recall     (AR) @[ IoU=0.50:0.95 | area=   all | maxDets= 10 ] = 0.866\n",
      " Average Recall     (AR) @[ IoU=0.50:0.95 | area=   all | maxDets=100 ] = 0.866\n",
      " Average Recall     (AR) @[ IoU=0.50:0.95 | area= small | maxDets=100 ] = -1.000\n",
      " Average Recall     (AR) @[ IoU=0.50:0.95 | area=medium | maxDets=100 ] = 0.762\n",
      " Average Recall     (AR) @[ IoU=0.50:0.95 | area= large | maxDets=100 ] = 0.873\n",
      "IoU metric: segm\n",
      " Average Precision  (AP) @[ IoU=0.50:0.95 | area=   all | maxDets=100 ] = 0.764\n",
      " Average Precision  (AP) @[ IoU=0.50      | area=   all | maxDets=100 ] = 0.991\n",
      " Average Precision  (AP) @[ IoU=0.75      | area=   all | maxDets=100 ] = 0.933\n",
      " Average Precision  (AP) @[ IoU=0.50:0.95 | area= small | maxDets=100 ] = -1.000\n",
      " Average Precision  (AP) @[ IoU=0.50:0.95 | area=medium | maxDets=100 ] = 0.431\n",
      " Average Precision  (AP) @[ IoU=0.50:0.95 | area= large | maxDets=100 ] = 0.775\n",
      " Average Recall     (AR) @[ IoU=0.50:0.95 | area=   all | maxDets=  1 ] = 0.351\n",
      " Average Recall     (AR) @[ IoU=0.50:0.95 | area=   all | maxDets= 10 ] = 0.804\n",
      " Average Recall     (AR) @[ IoU=0.50:0.95 | area=   all | maxDets=100 ] = 0.804\n",
      " Average Recall     (AR) @[ IoU=0.50:0.95 | area= small | maxDets=100 ] = -1.000\n",
      " Average Recall     (AR) @[ IoU=0.50:0.95 | area=medium | maxDets=100 ] = 0.725\n",
      " Average Recall     (AR) @[ IoU=0.50:0.95 | area= large | maxDets=100 ] = 0.810\n"
     ]
    },
    {
     "name": "stdout",
     "output_type": "stream",
     "text": [
      "Epoch: [6]  [ 0/60]  eta: 0:00:32  lr: 0.000050  loss: 0.1673 (0.1673)  loss_classifier: 0.0287 (0.0287)  loss_box_reg: 0.0117 (0.0117)  loss_mask: 0.1195 (0.1195)  loss_objectness: 0.0001 (0.0001)  loss_rpn_box_reg: 0.0073 (0.0073)  time: 0.5440  data: 0.1456  max mem: 3596\n",
      "Epoch: [6]  [10/60]  eta: 0:00:19  lr: 0.000050  loss: 0.1439 (0.1467)  loss_classifier: 0.0169 (0.0219)  loss_box_reg: 0.0054 (0.0079)  loss_mask: 0.1020 (0.1111)  loss_objectness: 0.0002 (0.0004)  loss_rpn_box_reg: 0.0061 (0.0054)  time: 0.3893  data: 0.0166  max mem: 3596\n",
      "Epoch: [6]  [20/60]  eta: 0:00:15  lr: 0.000050  loss: 0.1439 (0.1539)  loss_classifier: 0.0179 (0.0253)  loss_box_reg: 0.0064 (0.0103)  loss_mask: 0.1019 (0.1110)  loss_objectness: 0.0003 (0.0008)  loss_rpn_box_reg: 0.0061 (0.0066)  time: 0.3739  data: 0.0040  max mem: 3596\n",
      "Epoch: [6]  [30/60]  eta: 0:00:11  lr: 0.000050  loss: 0.1444 (0.1566)  loss_classifier: 0.0221 (0.0277)  loss_box_reg: 0.0084 (0.0103)  loss_mask: 0.1019 (0.1108)  loss_objectness: 0.0007 (0.0010)  loss_rpn_box_reg: 0.0073 (0.0068)  time: 0.3688  data: 0.0041  max mem: 3596\n",
      "Epoch: [6]  [40/60]  eta: 0:00:07  lr: 0.000050  loss: 0.1462 (0.1625)  loss_classifier: 0.0255 (0.0282)  loss_box_reg: 0.0084 (0.0114)  loss_mask: 0.1051 (0.1148)  loss_objectness: 0.0004 (0.0009)  loss_rpn_box_reg: 0.0073 (0.0073)  time: 0.3592  data: 0.0041  max mem: 3596\n",
      "Epoch: [6]  [50/60]  eta: 0:00:03  lr: 0.000050  loss: 0.1451 (0.1618)  loss_classifier: 0.0224 (0.0278)  loss_box_reg: 0.0095 (0.0112)  loss_mask: 0.1121 (0.1146)  loss_objectness: 0.0003 (0.0008)  loss_rpn_box_reg: 0.0073 (0.0074)  time: 0.3615  data: 0.0041  max mem: 3596\n",
      "Epoch: [6]  [59/60]  eta: 0:00:00  lr: 0.000050  loss: 0.1451 (0.1618)  loss_classifier: 0.0225 (0.0273)  loss_box_reg: 0.0068 (0.0111)  loss_mask: 0.1121 (0.1152)  loss_objectness: 0.0004 (0.0008)  loss_rpn_box_reg: 0.0073 (0.0074)  time: 0.3673  data: 0.0040  max mem: 3596\n",
      "Epoch: [6] Total time: 0:00:22 (0.3700 s / it)\n",
      "creating index...\n",
      "index created!\n",
      "Test:  [ 0/50]  eta: 0:00:09  model_time: 0.0697 (0.0697)  evaluator_time: 0.0023 (0.0023)  time: 0.1839  data: 0.1110  max mem: 3596\n",
      "Test:  [49/50]  eta: 0:00:00  model_time: 0.0668 (0.0671)  evaluator_time: 0.0023 (0.0035)  time: 0.0733  data: 0.0021  max mem: 3596\n",
      "Test: Total time: 0:00:03 (0.0765 s / it)\n",
      "Averaged stats: model_time: 0.0668 (0.0671)  evaluator_time: 0.0023 (0.0035)\n",
      "Accumulating evaluation results...\n",
      "DONE (t=0.01s).\n",
      "Accumulating evaluation results...\n",
      "DONE (t=0.01s).\n",
      "IoU metric: bbox\n",
      " Average Precision  (AP) @[ IoU=0.50:0.95 | area=   all | maxDets=100 ] = 0.828\n",
      " Average Precision  (AP) @[ IoU=0.50      | area=   all | maxDets=100 ] = 0.991\n",
      " Average Precision  (AP) @[ IoU=0.75      | area=   all | maxDets=100 ] = 0.941\n",
      " Average Precision  (AP) @[ IoU=0.50:0.95 | area= small | maxDets=100 ] = -1.000\n",
      " Average Precision  (AP) @[ IoU=0.50:0.95 | area=medium | maxDets=100 ] = 0.521\n",
      " Average Precision  (AP) @[ IoU=0.50:0.95 | area= large | maxDets=100 ] = 0.840\n",
      " Average Recall     (AR) @[ IoU=0.50:0.95 | area=   all | maxDets=  1 ] = 0.383\n",
      " Average Recall     (AR) @[ IoU=0.50:0.95 | area=   all | maxDets= 10 ] = 0.868\n",
      " Average Recall     (AR) @[ IoU=0.50:0.95 | area=   all | maxDets=100 ] = 0.868\n",
      " Average Recall     (AR) @[ IoU=0.50:0.95 | area= small | maxDets=100 ] = -1.000\n",
      " Average Recall     (AR) @[ IoU=0.50:0.95 | area=medium | maxDets=100 ] = 0.762\n",
      " Average Recall     (AR) @[ IoU=0.50:0.95 | area= large | maxDets=100 ] = 0.876\n",
      "IoU metric: segm\n",
      " Average Precision  (AP) @[ IoU=0.50:0.95 | area=   all | maxDets=100 ] = 0.763\n",
      " Average Precision  (AP) @[ IoU=0.50      | area=   all | maxDets=100 ] = 0.991\n",
      " Average Precision  (AP) @[ IoU=0.75      | area=   all | maxDets=100 ] = 0.933\n",
      " Average Precision  (AP) @[ IoU=0.50:0.95 | area= small | maxDets=100 ] = -1.000\n",
      " Average Precision  (AP) @[ IoU=0.50:0.95 | area=medium | maxDets=100 ] = 0.434\n",
      " Average Precision  (AP) @[ IoU=0.50:0.95 | area= large | maxDets=100 ] = 0.773\n",
      " Average Recall     (AR) @[ IoU=0.50:0.95 | area=   all | maxDets=  1 ] = 0.349\n",
      " Average Recall     (AR) @[ IoU=0.50:0.95 | area=   all | maxDets= 10 ] = 0.804\n",
      " Average Recall     (AR) @[ IoU=0.50:0.95 | area=   all | maxDets=100 ] = 0.804\n",
      " Average Recall     (AR) @[ IoU=0.50:0.95 | area= small | maxDets=100 ] = -1.000\n",
      " Average Recall     (AR) @[ IoU=0.50:0.95 | area=medium | maxDets=100 ] = 0.738\n",
      " Average Recall     (AR) @[ IoU=0.50:0.95 | area= large | maxDets=100 ] = 0.809\n",
      "Epoch: [7]  [ 0/60]  eta: 0:00:32  lr: 0.000050  loss: 0.1108 (0.1108)  loss_classifier: 0.0120 (0.0120)  loss_box_reg: 0.0043 (0.0043)  loss_mask: 0.0934 (0.0934)  loss_objectness: 0.0001 (0.0001)  loss_rpn_box_reg: 0.0011 (0.0011)  time: 0.5359  data: 0.2235  max mem: 3596\n",
      "Epoch: [7]  [10/60]  eta: 0:00:18  lr: 0.000050  loss: 0.1417 (0.1435)  loss_classifier: 0.0164 (0.0198)  loss_box_reg: 0.0062 (0.0077)  loss_mask: 0.1030 (0.1099)  loss_objectness: 0.0003 (0.0004)  loss_rpn_box_reg: 0.0041 (0.0057)  time: 0.3709  data: 0.0226  max mem: 3596\n",
      "Epoch: [7]  [20/60]  eta: 0:00:15  lr: 0.000050  loss: 0.1469 (0.1531)  loss_classifier: 0.0253 (0.0251)  loss_box_reg: 0.0078 (0.0099)  loss_mask: 0.1076 (0.1106)  loss_objectness: 0.0003 (0.0005)  loss_rpn_box_reg: 0.0063 (0.0070)  time: 0.3757  data: 0.0031  max mem: 3596\n",
      "Epoch: [7]  [30/60]  eta: 0:00:11  lr: 0.000050  loss: 0.1440 (0.1503)  loss_classifier: 0.0272 (0.0245)  loss_box_reg: 0.0075 (0.0091)  loss_mask: 0.1074 (0.1091)  loss_objectness: 0.0003 (0.0005)  loss_rpn_box_reg: 0.0072 (0.0069)  time: 0.3705  data: 0.0037  max mem: 3596\n",
      "Epoch: [7]  [40/60]  eta: 0:00:07  lr: 0.000050  loss: 0.1419 (0.1530)  loss_classifier: 0.0189 (0.0240)  loss_box_reg: 0.0072 (0.0097)  loss_mask: 0.1088 (0.1118)  loss_objectness: 0.0003 (0.0005)  loss_rpn_box_reg: 0.0052 (0.0070)  time: 0.3488  data: 0.0037  max mem: 3596\n",
      "Epoch: [7]  [50/60]  eta: 0:00:03  lr: 0.000050  loss: 0.1545 (0.1579)  loss_classifier: 0.0189 (0.0240)  loss_box_reg: 0.0096 (0.0107)  loss_mask: 0.1100 (0.1153)  loss_objectness: 0.0007 (0.0007)  loss_rpn_box_reg: 0.0076 (0.0072)  time: 0.3519  data: 0.0037  max mem: 3596\n",
      "Epoch: [7]  [59/60]  eta: 0:00:00  lr: 0.000050  loss: 0.1540 (0.1585)  loss_classifier: 0.0237 (0.0246)  loss_box_reg: 0.0062 (0.0106)  loss_mask: 0.1162 (0.1154)  loss_objectness: 0.0003 (0.0007)  loss_rpn_box_reg: 0.0057 (0.0073)  time: 0.3558  data: 0.0037  max mem: 3596\n",
      "Epoch: [7] Total time: 0:00:21 (0.3634 s / it)\n",
      "creating index...\n",
      "index created!\n",
      "Test:  [ 0/50]  eta: 0:00:08  model_time: 0.0632 (0.0632)  evaluator_time: 0.0024 (0.0024)  time: 0.1745  data: 0.1080  max mem: 3596\n",
      "Test:  [49/50]  eta: 0:00:00  model_time: 0.0654 (0.0672)  evaluator_time: 0.0023 (0.0035)  time: 0.0736  data: 0.0023  max mem: 3596\n",
      "Test: Total time: 0:00:03 (0.0767 s / it)\n",
      "Averaged stats: model_time: 0.0654 (0.0672)  evaluator_time: 0.0023 (0.0035)\n",
      "Accumulating evaluation results...\n",
      "DONE (t=0.01s).\n",
      "Accumulating evaluation results...\n",
      "DONE (t=0.01s).\n",
      "IoU metric: bbox\n",
      " Average Precision  (AP) @[ IoU=0.50:0.95 | area=   all | maxDets=100 ] = 0.833\n",
      " Average Precision  (AP) @[ IoU=0.50      | area=   all | maxDets=100 ] = 0.991\n",
      " Average Precision  (AP) @[ IoU=0.75      | area=   all | maxDets=100 ] = 0.941\n",
      " Average Precision  (AP) @[ IoU=0.50:0.95 | area= small | maxDets=100 ] = -1.000\n",
      " Average Precision  (AP) @[ IoU=0.50:0.95 | area=medium | maxDets=100 ] = 0.521\n",
      " Average Precision  (AP) @[ IoU=0.50:0.95 | area= large | maxDets=100 ] = 0.845\n",
      " Average Recall     (AR) @[ IoU=0.50:0.95 | area=   all | maxDets=  1 ] = 0.384\n",
      " Average Recall     (AR) @[ IoU=0.50:0.95 | area=   all | maxDets= 10 ] = 0.872\n",
      " Average Recall     (AR) @[ IoU=0.50:0.95 | area=   all | maxDets=100 ] = 0.872\n",
      " Average Recall     (AR) @[ IoU=0.50:0.95 | area= small | maxDets=100 ] = -1.000\n",
      " Average Recall     (AR) @[ IoU=0.50:0.95 | area=medium | maxDets=100 ] = 0.762\n",
      " Average Recall     (AR) @[ IoU=0.50:0.95 | area= large | maxDets=100 ] = 0.880\n",
      "IoU metric: segm\n",
      " Average Precision  (AP) @[ IoU=0.50:0.95 | area=   all | maxDets=100 ] = 0.761\n",
      " Average Precision  (AP) @[ IoU=0.50      | area=   all | maxDets=100 ] = 0.991\n",
      " Average Precision  (AP) @[ IoU=0.75      | area=   all | maxDets=100 ] = 0.933\n",
      " Average Precision  (AP) @[ IoU=0.50:0.95 | area= small | maxDets=100 ] = -1.000\n",
      " Average Precision  (AP) @[ IoU=0.50:0.95 | area=medium | maxDets=100 ] = 0.434\n",
      " Average Precision  (AP) @[ IoU=0.50:0.95 | area= large | maxDets=100 ] = 0.771\n",
      " Average Recall     (AR) @[ IoU=0.50:0.95 | area=   all | maxDets=  1 ] = 0.350\n",
      " Average Recall     (AR) @[ IoU=0.50:0.95 | area=   all | maxDets= 10 ] = 0.803\n",
      " Average Recall     (AR) @[ IoU=0.50:0.95 | area=   all | maxDets=100 ] = 0.803\n",
      " Average Recall     (AR) @[ IoU=0.50:0.95 | area= small | maxDets=100 ] = -1.000\n",
      " Average Recall     (AR) @[ IoU=0.50:0.95 | area=medium | maxDets=100 ] = 0.738\n",
      " Average Recall     (AR) @[ IoU=0.50:0.95 | area= large | maxDets=100 ] = 0.808\n"
     ]
    },
    {
     "name": "stdout",
     "output_type": "stream",
     "text": [
      "Epoch: [8]  [ 0/60]  eta: 0:00:35  lr: 0.000050  loss: 0.1546 (0.1546)  loss_classifier: 0.0302 (0.0302)  loss_box_reg: 0.0075 (0.0075)  loss_mask: 0.1143 (0.1143)  loss_objectness: 0.0001 (0.0001)  loss_rpn_box_reg: 0.0026 (0.0026)  time: 0.5896  data: 0.2472  max mem: 3596\n",
      "Epoch: [8]  [10/60]  eta: 0:00:19  lr: 0.000050  loss: 0.1523 (0.1554)  loss_classifier: 0.0277 (0.0260)  loss_box_reg: 0.0075 (0.0115)  loss_mask: 0.1103 (0.1110)  loss_objectness: 0.0003 (0.0008)  loss_rpn_box_reg: 0.0050 (0.0062)  time: 0.3898  data: 0.0251  max mem: 3596\n",
      "Epoch: [8]  [20/60]  eta: 0:00:14  lr: 0.000050  loss: 0.1511 (0.1602)  loss_classifier: 0.0243 (0.0245)  loss_box_reg: 0.0093 (0.0118)  loss_mask: 0.1092 (0.1160)  loss_objectness: 0.0003 (0.0006)  loss_rpn_box_reg: 0.0070 (0.0072)  time: 0.3607  data: 0.0035  max mem: 3596\n",
      "Epoch: [8]  [30/60]  eta: 0:00:10  lr: 0.000050  loss: 0.1408 (0.1559)  loss_classifier: 0.0198 (0.0241)  loss_box_reg: 0.0087 (0.0118)  loss_mask: 0.1007 (0.1124)  loss_objectness: 0.0002 (0.0005)  loss_rpn_box_reg: 0.0076 (0.0071)  time: 0.3538  data: 0.0041  max mem: 3596\n",
      "Epoch: [8]  [40/60]  eta: 0:00:07  lr: 0.000050  loss: 0.1480 (0.1634)  loss_classifier: 0.0215 (0.0250)  loss_box_reg: 0.0087 (0.0125)  loss_mask: 0.1122 (0.1178)  loss_objectness: 0.0003 (0.0006)  loss_rpn_box_reg: 0.0076 (0.0076)  time: 0.3644  data: 0.0039  max mem: 3596\n",
      "Epoch: [8]  [50/60]  eta: 0:00:03  lr: 0.000050  loss: 0.1618 (0.1634)  loss_classifier: 0.0282 (0.0263)  loss_box_reg: 0.0110 (0.0123)  loss_mask: 0.1145 (0.1162)  loss_objectness: 0.0004 (0.0006)  loss_rpn_box_reg: 0.0076 (0.0080)  time: 0.3775  data: 0.0039  max mem: 3596\n",
      "Epoch: [8]  [59/60]  eta: 0:00:00  lr: 0.000050  loss: 0.1481 (0.1600)  loss_classifier: 0.0253 (0.0255)  loss_box_reg: 0.0064 (0.0113)  loss_mask: 0.1031 (0.1152)  loss_objectness: 0.0003 (0.0006)  loss_rpn_box_reg: 0.0053 (0.0074)  time: 0.3568  data: 0.0038  max mem: 3596\n",
      "Epoch: [8] Total time: 0:00:21 (0.3651 s / it)\n",
      "creating index...\n",
      "index created!\n",
      "Test:  [ 0/50]  eta: 0:00:09  model_time: 0.0653 (0.0653)  evaluator_time: 0.0024 (0.0024)  time: 0.1811  data: 0.1125  max mem: 3596\n",
      "Test:  [49/50]  eta: 0:00:00  model_time: 0.0654 (0.0680)  evaluator_time: 0.0023 (0.0035)  time: 0.0721  data: 0.0021  max mem: 3596\n",
      "Test: Total time: 0:00:03 (0.0772 s / it)\n",
      "Averaged stats: model_time: 0.0654 (0.0680)  evaluator_time: 0.0023 (0.0035)\n",
      "Accumulating evaluation results...\n",
      "DONE (t=0.01s).\n",
      "Accumulating evaluation results...\n",
      "DONE (t=0.01s).\n",
      "IoU metric: bbox\n",
      " Average Precision  (AP) @[ IoU=0.50:0.95 | area=   all | maxDets=100 ] = 0.831\n",
      " Average Precision  (AP) @[ IoU=0.50      | area=   all | maxDets=100 ] = 0.991\n",
      " Average Precision  (AP) @[ IoU=0.75      | area=   all | maxDets=100 ] = 0.940\n",
      " Average Precision  (AP) @[ IoU=0.50:0.95 | area= small | maxDets=100 ] = -1.000\n",
      " Average Precision  (AP) @[ IoU=0.50:0.95 | area=medium | maxDets=100 ] = 0.539\n",
      " Average Precision  (AP) @[ IoU=0.50:0.95 | area= large | maxDets=100 ] = 0.842\n",
      " Average Recall     (AR) @[ IoU=0.50:0.95 | area=   all | maxDets=  1 ] = 0.383\n",
      " Average Recall     (AR) @[ IoU=0.50:0.95 | area=   all | maxDets= 10 ] = 0.872\n",
      " Average Recall     (AR) @[ IoU=0.50:0.95 | area=   all | maxDets=100 ] = 0.872\n",
      " Average Recall     (AR) @[ IoU=0.50:0.95 | area= small | maxDets=100 ] = -1.000\n",
      " Average Recall     (AR) @[ IoU=0.50:0.95 | area=medium | maxDets=100 ] = 0.787\n",
      " Average Recall     (AR) @[ IoU=0.50:0.95 | area= large | maxDets=100 ] = 0.878\n",
      "IoU metric: segm\n",
      " Average Precision  (AP) @[ IoU=0.50:0.95 | area=   all | maxDets=100 ] = 0.766\n",
      " Average Precision  (AP) @[ IoU=0.50      | area=   all | maxDets=100 ] = 0.991\n",
      " Average Precision  (AP) @[ IoU=0.75      | area=   all | maxDets=100 ] = 0.925\n",
      " Average Precision  (AP) @[ IoU=0.50:0.95 | area= small | maxDets=100 ] = -1.000\n",
      " Average Precision  (AP) @[ IoU=0.50:0.95 | area=medium | maxDets=100 ] = 0.431\n",
      " Average Precision  (AP) @[ IoU=0.50:0.95 | area= large | maxDets=100 ] = 0.777\n",
      " Average Recall     (AR) @[ IoU=0.50:0.95 | area=   all | maxDets=  1 ] = 0.350\n",
      " Average Recall     (AR) @[ IoU=0.50:0.95 | area=   all | maxDets= 10 ] = 0.806\n",
      " Average Recall     (AR) @[ IoU=0.50:0.95 | area=   all | maxDets=100 ] = 0.806\n",
      " Average Recall     (AR) @[ IoU=0.50:0.95 | area= small | maxDets=100 ] = -1.000\n",
      " Average Recall     (AR) @[ IoU=0.50:0.95 | area=medium | maxDets=100 ] = 0.725\n",
      " Average Recall     (AR) @[ IoU=0.50:0.95 | area= large | maxDets=100 ] = 0.812\n",
      "Epoch: [9]  [ 0/60]  eta: 0:00:28  lr: 0.000005  loss: 0.1541 (0.1541)  loss_classifier: 0.0174 (0.0174)  loss_box_reg: 0.0046 (0.0046)  loss_mask: 0.1290 (0.1290)  loss_objectness: 0.0001 (0.0001)  loss_rpn_box_reg: 0.0030 (0.0030)  time: 0.4808  data: 0.1327  max mem: 3596\n",
      "Epoch: [9]  [10/60]  eta: 0:00:18  lr: 0.000005  loss: 0.1541 (0.1675)  loss_classifier: 0.0225 (0.0241)  loss_box_reg: 0.0072 (0.0114)  loss_mask: 0.1231 (0.1249)  loss_objectness: 0.0002 (0.0005)  loss_rpn_box_reg: 0.0056 (0.0065)  time: 0.3680  data: 0.0158  max mem: 3596\n",
      "Epoch: [9]  [20/60]  eta: 0:00:14  lr: 0.000005  loss: 0.1699 (0.1670)  loss_classifier: 0.0237 (0.0278)  loss_box_reg: 0.0107 (0.0119)  loss_mask: 0.1160 (0.1200)  loss_objectness: 0.0003 (0.0007)  loss_rpn_box_reg: 0.0059 (0.0067)  time: 0.3575  data: 0.0042  max mem: 3596\n",
      "Epoch: [9]  [30/60]  eta: 0:00:10  lr: 0.000005  loss: 0.1576 (0.1689)  loss_classifier: 0.0229 (0.0275)  loss_box_reg: 0.0102 (0.0126)  loss_mask: 0.1153 (0.1205)  loss_objectness: 0.0003 (0.0009)  loss_rpn_box_reg: 0.0062 (0.0074)  time: 0.3619  data: 0.0042  max mem: 3596\n",
      "Epoch: [9]  [40/60]  eta: 0:00:07  lr: 0.000005  loss: 0.1469 (0.1616)  loss_classifier: 0.0209 (0.0260)  loss_box_reg: 0.0078 (0.0113)  loss_mask: 0.1051 (0.1165)  loss_objectness: 0.0002 (0.0009)  loss_rpn_box_reg: 0.0062 (0.0070)  time: 0.3561  data: 0.0042  max mem: 3596\n",
      "Epoch: [9]  [50/60]  eta: 0:00:03  lr: 0.000005  loss: 0.1447 (0.1595)  loss_classifier: 0.0206 (0.0252)  loss_box_reg: 0.0075 (0.0110)  loss_mask: 0.1049 (0.1153)  loss_objectness: 0.0002 (0.0008)  loss_rpn_box_reg: 0.0060 (0.0072)  time: 0.3644  data: 0.0040  max mem: 3596\n",
      "Epoch: [9]  [59/60]  eta: 0:00:00  lr: 0.000005  loss: 0.1535 (0.1603)  loss_classifier: 0.0206 (0.0254)  loss_box_reg: 0.0072 (0.0108)  loss_mask: 0.1090 (0.1160)  loss_objectness: 0.0003 (0.0008)  loss_rpn_box_reg: 0.0060 (0.0072)  time: 0.3689  data: 0.0039  max mem: 3596\n",
      "Epoch: [9] Total time: 0:00:21 (0.3629 s / it)\n",
      "creating index...\n",
      "index created!\n",
      "Test:  [ 0/50]  eta: 0:00:09  model_time: 0.0708 (0.0708)  evaluator_time: 0.0023 (0.0023)  time: 0.1829  data: 0.1088  max mem: 3596\n",
      "Test:  [49/50]  eta: 0:00:00  model_time: 0.0676 (0.0683)  evaluator_time: 0.0023 (0.0035)  time: 0.0727  data: 0.0021  max mem: 3596\n",
      "Test: Total time: 0:00:03 (0.0775 s / it)\n",
      "Averaged stats: model_time: 0.0676 (0.0683)  evaluator_time: 0.0023 (0.0035)\n",
      "Accumulating evaluation results...\n",
      "DONE (t=0.01s).\n",
      "Accumulating evaluation results...\n",
      "DONE (t=0.01s).\n",
      "IoU metric: bbox\n",
      " Average Precision  (AP) @[ IoU=0.50:0.95 | area=   all | maxDets=100 ] = 0.831\n",
      " Average Precision  (AP) @[ IoU=0.50      | area=   all | maxDets=100 ] = 0.991\n",
      " Average Precision  (AP) @[ IoU=0.75      | area=   all | maxDets=100 ] = 0.940\n",
      " Average Precision  (AP) @[ IoU=0.50:0.95 | area= small | maxDets=100 ] = -1.000\n",
      " Average Precision  (AP) @[ IoU=0.50:0.95 | area=medium | maxDets=100 ] = 0.539\n",
      " Average Precision  (AP) @[ IoU=0.50:0.95 | area= large | maxDets=100 ] = 0.842\n",
      " Average Recall     (AR) @[ IoU=0.50:0.95 | area=   all | maxDets=  1 ] = 0.383\n",
      " Average Recall     (AR) @[ IoU=0.50:0.95 | area=   all | maxDets= 10 ] = 0.872\n",
      " Average Recall     (AR) @[ IoU=0.50:0.95 | area=   all | maxDets=100 ] = 0.872\n",
      " Average Recall     (AR) @[ IoU=0.50:0.95 | area= small | maxDets=100 ] = -1.000\n",
      " Average Recall     (AR) @[ IoU=0.50:0.95 | area=medium | maxDets=100 ] = 0.787\n",
      " Average Recall     (AR) @[ IoU=0.50:0.95 | area= large | maxDets=100 ] = 0.878\n",
      "IoU metric: segm\n",
      " Average Precision  (AP) @[ IoU=0.50:0.95 | area=   all | maxDets=100 ] = 0.764\n",
      " Average Precision  (AP) @[ IoU=0.50      | area=   all | maxDets=100 ] = 0.991\n",
      " Average Precision  (AP) @[ IoU=0.75      | area=   all | maxDets=100 ] = 0.925\n",
      " Average Precision  (AP) @[ IoU=0.50:0.95 | area= small | maxDets=100 ] = -1.000\n",
      " Average Precision  (AP) @[ IoU=0.50:0.95 | area=medium | maxDets=100 ] = 0.431\n",
      " Average Precision  (AP) @[ IoU=0.50:0.95 | area= large | maxDets=100 ] = 0.775\n",
      " Average Recall     (AR) @[ IoU=0.50:0.95 | area=   all | maxDets=  1 ] = 0.350\n",
      " Average Recall     (AR) @[ IoU=0.50:0.95 | area=   all | maxDets= 10 ] = 0.804\n",
      " Average Recall     (AR) @[ IoU=0.50:0.95 | area=   all | maxDets=100 ] = 0.804\n",
      " Average Recall     (AR) @[ IoU=0.50:0.95 | area= small | maxDets=100 ] = -1.000\n",
      " Average Recall     (AR) @[ IoU=0.50:0.95 | area=medium | maxDets=100 ] = 0.725\n",
      " Average Recall     (AR) @[ IoU=0.50:0.95 | area= large | maxDets=100 ] = 0.810\n"
     ]
    }
   ],
   "source": [
    "from engine import train_one_epoch, evaluate\n",
    "# let's train it for 10 epochs\n",
    "num_epochs = 10\n",
    "\n",
    "for epoch in range(num_epochs):\n",
    "    # train for one epoch, printing every 10 iterations\n",
    "    train_one_epoch(model, optimizer, data_loader, device, epoch, print_freq=10)\n",
    "    # update the learning rate\n",
    "    lr_scheduler.step()\n",
    "    # evaluate on the test dataset\n",
    "    evaluate(model, data_loader_test, device=device)"
   ]
  },
  {
   "cell_type": "code",
   "execution_count": 31,
   "metadata": {},
   "outputs": [],
   "source": [
    "# pick one image from the test set\n",
    "img, _ = dataset_test[0]\n",
    "# put the model in evaluation mode\n",
    "model.eval()\n",
    "with torch.no_grad():\n",
    "    prediction = model([img.to(device)])"
   ]
  },
  {
   "cell_type": "code",
   "execution_count": 35,
   "metadata": {},
   "outputs": [
    {
     "data": {
      "image/png": "[encoded data removed]",
      "text/plain": [
       "<Figure size 432x288 with 1 Axes>"
      ]
     },
     "metadata": {
      "needs_background": "light"
     },
     "output_type": "display_data"
    },
    {
     "data": {
      "image/png": "[encoded data removed]",
      "text/plain": [
       "<Figure size 432x288 with 1 Axes>"
      ]
     },
     "metadata": {
      "needs_background": "light"
     },
     "output_type": "display_data"
    }
   ],
   "source": [
    "plt.imshow(Image.fromarray(img.mul(255).permute(1, 2, 0).byte().numpy()))\n",
    "plt.show()\n",
    "plt.imshow(Image.fromarray(prediction[0]['masks'][0, 0].mul(255).byte().cpu().numpy()))\n",
    "plt.show()"
   ]
  },
  {
   "cell_type": "code",
   "execution_count": null,
   "metadata": {},
   "outputs": [],
   "source": []
  }
 ],
 "metadata": {
  "kernelspec": {
   "display_name": "Python 3",
   "language": "python",
   "name": "python3"
  },
  "language_info": {
   "codemirror_mode": {
    "name": "ipython",
    "version": 3
   },
   "file_extension": ".py",
   "mimetype": "text/x-python",
   "name": "python",
   "nbconvert_exporter": "python",
   "pygments_lexer": "ipython3",
   "version": "3.6.3"
  }
 },
 "nbformat": 4,
 "nbformat_minor": 4
}
